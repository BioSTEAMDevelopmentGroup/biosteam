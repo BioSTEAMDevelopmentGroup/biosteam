{
 "cells": [
  {
   "cell_type": "markdown",
   "metadata": {},
   "source": [
    "# Convergence"
   ]
  },
  {
   "cell_type": "markdown",
   "metadata": {},
   "source": [
    "BioSTEAM iteratively solves for phase equilibria and mass and energy balances until they converge below a specified tolerance. Here we discuss ways to adjust the convergence criteria, issues that might affect convergence, and ways to customize convergence algorithms."
   ]
  },
  {
   "cell_type": "markdown",
   "metadata": {},
   "source": [
    "## Recycle systems"
   ]
  },
  {
   "cell_type": "markdown",
   "metadata": {},
   "source": [
    "### Adjusting convergence criteria"
   ]
  },
  {
   "cell_type": "raw",
   "metadata": {
    "raw_mimetype": "text/restructuredtext"
   },
   "source": [
    "A :class:`~biosteam.System` is composed of a path of units and subsytems and a recycle loop (if any). To solve for the molar flow rates and temperature of the recycle stream, BioSTEAM employs accelerated fixed-point convergence algorithms such as Aitken-Steffensen's method (the default method). Here is a list of defaults recycle systems use:"
   ]
  },
  {
   "cell_type": "code",
   "execution_count": 1,
   "metadata": {
    "raw_mimetype": "text/markdown",
    "tags": [
     "nbval-ignore-output"
    ]
   },
   "outputs": [],
   "source": [
    "from biosteam import System\n",
    "System.default_maxiter # -> 200\n",
    "System.default_molar_tolerance # -> 1. [kmol/hr] for each component \n",
    "System.default_relative_molar_tolerance # -> 0.01 \n",
    "System.default_temperature_tolerance # -> 0.10 [K]\n",
    "System.default_relative_temperature_tolerance # -> 0.001\n",
    "System.default_method; # -> 'Aitken'\n",
    "# Changing any of these would change the default for \n",
    "# all new recycle systems you create."
   ]
  },
  {
   "cell_type": "markdown",
   "metadata": {},
   "source": [
    "For a recycle system to converge, the difference between molar flow rate of the final and previous iteration must below **either** the relative or absolute molar tolerance (not both). Because the default molar tolarances are as wide as 1% or 0.01 kmol/hr, resimulating a system may give slightly different results in some cases. In the following example, we create a simple recycle loop consisting of a flash, a mixer, and a splitter:"
   ]
  },
  {
   "cell_type": "code",
   "execution_count": 2,
   "metadata": {},
   "outputs": [
    {
     "data": {
      "image/svg+xml": [
       "<ns0:svg xmlns:ns0=\"http://www.w3.org/2000/svg\" width=\"696pt\" height=\"234pt\" viewBox=\"0.00 0.00 695.78 233.74\">\n",
       "<ns0:g id=\"graph0\" class=\"graph\" transform=\"scale(1 1) rotate(0) translate(4 229.74)\">\n",
       "\n",
       "<ns0:g id=\"edge1\" class=\"edge\">\n",
       "<ns0:title>mixer\n",
       "Mixer:e-&gt;flash\n",
       "Flash:c</ns0:title>\n",
       "<ns0:path fill=\"none\" stroke=\"#90918e\" stroke-width=\"2.2\" d=\"M205.25,-62.74C218.64,-62.74 229.91,-70.22 238.95,-80.11\" />\n",
       "<ns0:polygon fill=\"#90918e\" stroke=\"#90918e\" stroke-width=\"2.2\" points=\"236.4,-82.52 245.44,-88.06 241.83,-78.1 236.4,-82.52\" />\n",
       "<ns0:text text-anchor=\"middle\" x=\"223.25\" y=\"-77.54\" font-family=\"Arial\" font-size=\"14.00\" fill=\"#90918e\"> s1</ns0:text>\n",
       "</ns0:g>\n",
       "\n",
       "<ns0:g id=\"edge5\" class=\"edge\">\n",
       "<ns0:title>flash\n",
       "Flash:s-&gt;splitter\n",
       "Splitter:w</ns0:title>\n",
       "<ns0:path fill=\"none\" stroke=\"#90918e\" stroke-width=\"1.6\" d=\"M266.75,-86.74C266.75,-59.24 350.65,-54.48 388.97,-53.83\" />\n",
       "<ns0:polygon fill=\"#90918e\" stroke=\"#90918e\" stroke-width=\"1.6\" points=\"389.28,-57.33 399.25,-53.74 389.22,-50.33 389.28,-57.33\" />\n",
       "<ns0:text text-anchor=\"middle\" x=\"345.75\" y=\"-67.54\" font-family=\"Arial\" font-size=\"14.00\" fill=\"#90918e\"> s2</ns0:text>\n",
       "</ns0:g>\n",
       "\n",
       "<ns0:g id=\"edge3\" class=\"edge\">\n",
       "<ns0:title>flash\n",
       "Flash:n-&gt; vapor product:w</ns0:title>\n",
       "<ns0:path fill=\"none\" stroke=\"#90918e\" stroke-width=\"1.6\" d=\"M266.75,-168.74C266.75,-264.19 386.06,-167.74 481.52,-167.74\" />\n",
       "<ns0:text text-anchor=\"middle\" x=\"345.75\" y=\"-214.54\" font-family=\"Arial\" font-size=\"14.00\" fill=\"#90918e\"> vapor product</ns0:text>\n",
       "</ns0:g>\n",
       "\n",
       "<ns0:g id=\"edge4\" class=\"edge\">\n",
       "<ns0:title>splitter\n",
       "Splitter:c-&gt;mixer\n",
       "Mixer:c</ns0:title>\n",
       "<ns0:path fill=\"none\" stroke=\"#90918e\" d=\"M403.42,-52.03C349.47,-51.46 277.06,-51.78 213.25,-55.74 210.35,-55.92 207.38,-56.12 204.39,-56.33\" />\n",
       "<ns0:polygon fill=\"#90918e\" stroke=\"#90918e\" points=\"203.86,-52.86 194.15,-57.1 204.38,-59.84 203.86,-52.86\" />\n",
       "<ns0:text text-anchor=\"middle\" x=\"266.75\" y=\"-58.54\" font-family=\"Arial\" font-size=\"14.00\" fill=\"#90918e\"> recycle</ns0:text>\n",
       "</ns0:g>\n",
       "\n",
       "<ns0:g id=\"edge6\" class=\"edge\">\n",
       "<ns0:title>splitter\n",
       "Splitter:c-&gt; liquid product:w</ns0:title>\n",
       "<ns0:path fill=\"none\" stroke=\"#90918e\" d=\"M528.79,-53.74C567.65,-53.74 626.85,-53.74 678.28,-53.74\" />\n",
       "<ns0:text text-anchor=\"middle\" x=\"624.28\" y=\"-57.54\" font-family=\"Arial\" font-size=\"14.00\" fill=\"#90918e\"> liquid product</ns0:text>\n",
       "</ns0:g>\n",
       "\n",
       "<ns0:g id=\"edge2\" class=\"edge\">\n",
       "<ns0:title> feed:e-&gt;mixer\n",
       "Mixer:c</ns0:title>\n",
       "<ns0:path fill=\"none\" stroke=\"#90918e\" stroke-width=\"2.2\" d=\"M11,-62.74C39.91,-62.74 72.71,-62.74 96.88,-62.74\" />\n",
       "<ns0:text text-anchor=\"middle\" x=\"36\" y=\"-66.54\" font-family=\"Arial\" font-size=\"14.00\" fill=\"#90918e\"> feed</ns0:text>\n",
       "</ns0:g>\n",
       "\n",
       "<ns0:g id=\"node1\" class=\"node\">\n",
       "<ns0:title>mixer\n",
       "Mixer</ns0:title>\n",
       "<ns0:polygon fill=\"#555f69\" stroke=\"#90918e\" points=\"205.37,-62.74 97,-116.72 97,-8.76 205.37,-62.74\" />\n",
       "<ns0:text text-anchor=\"middle\" x=\"133.12\" y=\"-66.54\" font-family=\"Arial\" font-size=\"14.00\" fill=\"white\">mixer</ns0:text>\n",
       "<ns0:text text-anchor=\"middle\" x=\"133.12\" y=\"-51.54\" font-family=\"Arial\" font-size=\"14.00\" fill=\"white\">Mixer</ns0:text>\n",
       "</ns0:g>\n",
       "\n",
       "<ns0:g id=\"node2\" class=\"node\">\n",
       "<ns0:title>flash\n",
       "Flash</ns0:title>\n",
       "<ns0:polygon fill=\"#555f69\" stroke=\"#90918e\" points=\"292.25,-167.24 241.25,-167.24 241.25,-88.24 292.25,-88.24 292.25,-167.24\" />\n",
       "<ns0:text text-anchor=\"middle\" x=\"266.75\" y=\"-131.54\" font-family=\"Arial\" font-size=\"14.00\" fill=\"white\">flash</ns0:text>\n",
       "<ns0:text text-anchor=\"middle\" x=\"266.75\" y=\"-116.54\" font-family=\"Arial\" font-size=\"14.00\" fill=\"white\">Flash</ns0:text>\n",
       "</ns0:g>\n",
       "\n",
       "<ns0:g id=\"node3\" class=\"node\">\n",
       "<ns0:title>splitter\n",
       "Splitter</ns0:title>\n",
       "<ns0:polygon fill=\"#555f69\" stroke=\"#90918e\" points=\"399.48,-53.74 528.53,0.24 528.53,-107.72 399.48,-53.74\" />\n",
       "<ns0:text text-anchor=\"middle\" x=\"485.52\" y=\"-57.54\" font-family=\"Arial\" font-size=\"14.00\" fill=\"white\">splitter</ns0:text>\n",
       "<ns0:text text-anchor=\"middle\" x=\"485.52\" y=\"-42.54\" font-family=\"Arial\" font-size=\"14.00\" fill=\"white\">Splitter</ns0:text>\n",
       "</ns0:g>\n",
       "\n",
       "<ns0:g id=\"node4\" class=\"node\">\n",
       "<ns0:title> feed</ns0:title>\n",
       "<ns0:polygon fill=\"#f98f60\" stroke=\"#90918e\" points=\"5.5,-68.24 0,-62.74 5.5,-57.24 11,-62.74 5.5,-68.24\" />\n",
       "</ns0:g>\n",
       "\n",
       "<ns0:g id=\"node5\" class=\"node\">\n",
       "<ns0:title> vapor product</ns0:title>\n",
       "<ns0:polygon fill=\"#f98f60\" stroke=\"#90918e\" points=\"491.02,-167.74 482.77,-174.74 482.77,-160.74 491.02,-167.74\" />\n",
       "</ns0:g>\n",
       "\n",
       "<ns0:g id=\"node6\" class=\"node\">\n",
       "<ns0:title> liquid product</ns0:title>\n",
       "<ns0:polygon fill=\"#f98f60\" stroke=\"#90918e\" points=\"687.78,-53.74 679.53,-60.74 679.53,-46.74 687.78,-53.74\" />\n",
       "</ns0:g>\n",
       "</ns0:g>\n",
       "</ns0:svg>"
      ],
      "text/plain": [
       "<IPython.core.display.SVG object>"
      ]
     },
     "metadata": {},
     "output_type": "display_data"
    },
    {
     "name": "stdout",
     "output_type": "stream",
     "text": [
      "System: sys\n",
      "Highest convergence error among components in recycle\n",
      "stream splitter-0 after 2 loops:\n",
      "- flow rate   6.35e-04 kmol/hr (9.1%)\n",
      "- temperature 0.00e+00 K (0%)\n",
      "ins...\n",
      "[0] feed\n",
      "    phase: 'l', T: 298.15 K, P: 101325 Pa\n",
      "    flow (kmol/hr): Water  1\n",
      "outs...\n",
      "[0] vapor_product\n",
      "    phase: 'g', T: 373.12 K, P: 101325 Pa\n",
      "    flow (kmol/hr): Water  0.936\n",
      "[1] liquid_product\n",
      "    phase: 'l', T: 373.12 K, P: 101325 Pa\n",
      "    flow (kmol/hr): Water  0.0629\n"
     ]
    }
   ],
   "source": [
    "import biosteam as bst\n",
    "from warnings import filterwarnings\n",
    "filterwarnings('ignore')\n",
    "bst.preferences.reset()\n",
    "bst.settings.set_thermo(['Water'])\n",
    "feed = bst.Stream('feed', Water=1)\n",
    "recycle = bst.Stream('recycle')\n",
    "liquid_product = bst.Stream('liquid_product')\n",
    "mixer = bst.Mixer('mixer', [feed, recycle])\n",
    "flash = bst.Flash('flash', mixer-0, ['vapor_product', ''], Q=feed.Hvap, P=101325)\n",
    "splitter = bst.Splitter('splitter', flash.liquid, outs=[recycle, liquid_product], split=0.1) # flash.liquid is flash.outs[1]\n",
    "sys = bst.main_flowsheet.create_system('sys')\n",
    "sys.simulate()\n",
    "bst.preferences.raise_exception = True\n",
    "sys.diagram()\n",
    "sys.show()"
   ]
  },
  {
   "cell_type": "raw",
   "metadata": {
    "raw_mimetype": "text/restructuredtext"
   },
   "source": [
    "Note that a 9.1% convergence error is rather large. This is because the absolute flow rate error (6.35e-4 kmol/hr) is less than 1 kmol/hr, which is quite small for an industrial production process. We can update tolerances using the :meth:`~biosteam.System.set_tolerance` method before simulation to prevent this issue:"
   ]
  },
  {
   "cell_type": "code",
   "execution_count": 3,
   "metadata": {},
   "outputs": [
    {
     "name": "stdout",
     "output_type": "stream",
     "text": [
      "System: sys\n",
      "Highest convergence error among components in recycle\n",
      "stream splitter-0 after 20 loops:\n",
      "- flow rate   5.36e-12 kmol/hr (7.6e-08%)\n",
      "- temperature 0.00e+00 K (0%)\n",
      "ins...\n",
      "[0] feed\n",
      "    phase: 'l', T: 298.15 K, P: 101325 Pa\n",
      "    flow (kmol/hr): Water  1\n",
      "outs...\n",
      "[0] vapor_product\n",
      "    phase: 'g', T: 373.12 K, P: 101325 Pa\n",
      "    flow (kmol/hr): Water  0.936\n",
      "[1] liquid_product\n",
      "    phase: 'l', T: 373.12 K, P: 101325 Pa\n",
      "    flow (kmol/hr): Water  0.0635\n"
     ]
    }
   ],
   "source": [
    "sys.empty_recycles() # Restart simulation\n",
    "sys.set_tolerance(mol=1e-11, rmol=1e-11) # Set absolute and relative tolerances\n",
    "sys.simulate()\n",
    "sys.show()"
   ]
  },
  {
   "cell_type": "markdown",
   "metadata": {},
   "source": [
    "### Convergence methods"
   ]
  },
  {
   "cell_type": "markdown",
   "metadata": {},
   "source": [
    "It may be possible that a system may be more efficient to converge using another solver. Here is a list of solvers available in BioSTEAM:"
   ]
  },
  {
   "cell_type": "code",
   "execution_count": 4,
   "metadata": {},
   "outputs": [
    {
     "data": {
      "text/plain": [
       "['aitken',\n",
       " 'wegstein',\n",
       " 'fixedpoint',\n",
       " 'anderson',\n",
       " 'diagbroyden',\n",
       " 'excitingmixing',\n",
       " 'linearmixing',\n",
       " 'broyden1',\n",
       " 'broyden2']"
      ]
     },
     "execution_count": 4,
     "metadata": {},
     "output_type": "execute_result"
    }
   ],
   "source": [
    "list(bst.System.available_methods)"
   ]
  },
  {
   "cell_type": "raw",
   "metadata": {
    "raw_mimetype": "text/restructuredtext"
   },
   "source": [
    "Aitken, Wegstein, and fixed-point methods are in-house solvers from BioSTEAM. The other methods are imported from `scipy <https://docs.scipy.org/doc/scipy/reference/optimize.html#multidimensional>`_. \n",
    "\n",
    "Let's try solving the recycle system with the :func:`~scipy.optimize.diagbroyden` method:"
   ]
  },
  {
   "cell_type": "code",
   "execution_count": 5,
   "metadata": {},
   "outputs": [
    {
     "name": "stdout",
     "output_type": "stream",
     "text": [
      "System: sys\n",
      "Highest convergence error among components in recycle\n",
      "stream splitter-0 after 6 loops:\n",
      "- flow rate   0.00e+00 kmol/hr (0%)\n",
      "- temperature 0.00e+00 K (0%)\n",
      "ins...\n",
      "[0] feed\n",
      "    phase: 'l', T: 298.15 K, P: 101325 Pa\n",
      "    flow (kmol/hr): Water  1\n",
      "outs...\n",
      "[0] vapor_product\n",
      "    phase: 'g', T: 373.12 K, P: 101325 Pa\n",
      "    flow (kmol/hr): Water  0.936\n",
      "[1] liquid_product\n",
      "    phase: 'l', T: 373.12 K, P: 101325 Pa\n",
      "    flow (kmol/hr): Water  0.0635\n"
     ]
    }
   ],
   "source": [
    "sys.set_tolerance(method='diagbroyden')\n",
    "sys.empty_recycles()\n",
    "sys.simulate()\n",
    "sys.show()"
   ]
  },
  {
   "cell_type": "raw",
   "metadata": {
    "raw_mimetype": "text/restructuredtext"
   },
   "source": [
    "Notice how only 6 iterations was necessary using the diagonal Broyden method than with Aitken. We can also register new methods such as `scipy's hybr-modified Powell solver <https://docs.scipy.org/doc/scipy/reference/optimize.root-hybr.html>`_ using :meth:`~biosteam.System.register_method`:"
   ]
  },
  {
   "cell_type": "code",
   "execution_count": 6,
   "metadata": {},
   "outputs": [
    {
     "name": "stdout",
     "output_type": "stream",
     "text": [
      "System: sys\n",
      "Highest convergence error among components in recycle\n",
      "stream splitter-0 after 7 loops:\n",
      "- flow rate   5.19e-12 kmol/hr (7.4e-08%)\n",
      "- temperature 0.00e+00 K (0%)\n",
      "ins...\n",
      "[0] feed\n",
      "    phase: 'l', T: 298.15 K, P: 101325 Pa\n",
      "    flow (kmol/hr): Water  1\n",
      "outs...\n",
      "[0] vapor_product\n",
      "    phase: 'g', T: 373.12 K, P: 101325 Pa\n",
      "    flow (kmol/hr): Water  0.936\n",
      "[1] liquid_product\n",
      "    phase: 'l', T: 373.12 K, P: 101325 Pa\n",
      "    flow (kmol/hr): Water  0.0635\n"
     ]
    }
   ],
   "source": [
    "from scipy.optimize import root\n",
    "bst.System.register_method(\n",
    "    # Set solver tolerances extreemly high so that it does not stop early and\n",
    "    # only stops when BioSTEAM's tolerances are satisfied.\n",
    "    name='hybr', solver=root, options=dict(xtol=1e-24, maxfev=int(1e6), method='hybr')\n",
    ")\n",
    "sys.set_tolerance(method='hybr')\n",
    "sys.empty_recycles()\n",
    "sys.simulate()\n",
    "sys.show()"
   ]
  },
  {
   "cell_type": "markdown",
   "metadata": {},
   "source": [
    "### Importance of thermodynamic property package"
   ]
  },
  {
   "cell_type": "markdown",
   "metadata": {},
   "source": [
    "The choice of thermodynamic property package may have a large impact in the results, regardless of convergence. For example, in the liquefaction of nitrogen, it is important to account for excess thermodynamic energies due to high pressures."
   ]
  },
  {
   "cell_type": "code",
   "execution_count": 7,
   "metadata": {},
   "outputs": [
    {
     "data": {
      "image/svg+xml": [
       "<ns0:svg xmlns:ns0=\"http://www.w3.org/2000/svg\" width=\"568pt\" height=\"229pt\" viewBox=\"0.00 0.00 567.58 229.00\">\n",
       "<ns0:g id=\"graph0\" class=\"graph\" transform=\"scale(1 1) rotate(0) translate(4 225)\">\n",
       "\n",
       "<ns0:g id=\"edge1\" class=\"edge\">\n",
       "<ns0:title>regenerator\n",
       "Heat exchanger:c-&gt;:c</ns0:title>\n",
       "<ns0:path fill=\"none\" stroke=\"#90918e\" d=\"M193.06,-86.29C217.77,-77.69 245.02,-68.21 266.21,-60.83\" />\n",
       "<ns0:polygon fill=\"#90918e\" stroke=\"#90918e\" points=\"267.5,-64.09 275.8,-57.5 265.2,-57.48 267.5,-64.09\" />\n",
       "<ns0:text text-anchor=\"middle\" x=\"235.08\" y=\"-85.8\" font-family=\"Arial\" font-size=\"14.00\" fill=\"#90918e\"> throttle in</ns0:text>\n",
       "</ns0:g>\n",
       "\n",
       "<ns0:g id=\"edge5\" class=\"edge\">\n",
       "<ns0:title>regenerator\n",
       "Heat exchanger:c-&gt; out:w</ns0:title>\n",
       "<ns0:path fill=\"none\" stroke=\"#90918e\" d=\"M196.96,-109C228.42,-109 266.13,-109 300.08,-109\" />\n",
       "<ns0:text text-anchor=\"middle\" x=\"235.08\" y=\"-112.8\" font-family=\"Arial\" font-size=\"14.00\" fill=\"#90918e\"> out</ns0:text>\n",
       "</ns0:g>\n",
       "\n",
       "<ns0:g id=\"edge3\" class=\"edge\">\n",
       "<ns0:title>:c-&gt;flash\n",
       "Flash:c</ns0:title>\n",
       "<ns0:path fill=\"none\" stroke=\"#90918e\" d=\"M332.34,-63.72C352.53,-75.37 380.17,-91.32 401.69,-103.73\" />\n",
       "<ns0:polygon fill=\"#90918e\" stroke=\"#90918e\" points=\"400.09,-106.85 410.5,-108.82 403.59,-100.79 400.09,-106.85\" />\n",
       "<ns0:text text-anchor=\"middle\" x=\"372.58\" y=\"-105.8\" font-family=\"Arial\" font-size=\"14.00\" fill=\"#90918e\"> valve out</ns0:text>\n",
       "</ns0:g>\n",
       "\n",
       "<ns0:g id=\"edge4\" class=\"edge\">\n",
       "<ns0:title>flash\n",
       "Flash:n-&gt;regenerator\n",
       "Heat exchanger:c</ns0:title>\n",
       "<ns0:path fill=\"none\" stroke=\"#90918e\" d=\"M436.08,-164C436.08,-260.68 287.32,-196.51 196.47,-148.3\" />\n",
       "<ns0:polygon fill=\"#90918e\" stroke=\"#90918e\" points=\"198.07,-145.18 187.6,-143.54 194.76,-151.35 198.07,-145.18\" />\n",
       "<ns0:text text-anchor=\"middle\" x=\"304.08\" y=\"-209.8\" font-family=\"Arial\" font-size=\"14.00\" fill=\"#90918e\"> flash gas</ns0:text>\n",
       "</ns0:g>\n",
       "\n",
       "<ns0:g id=\"edge6\" class=\"edge\">\n",
       "<ns0:title>flash\n",
       "Flash:s-&gt; flash liquid:w</ns0:title>\n",
       "<ns0:path fill=\"none\" stroke=\"#90918e\" stroke-dasharray=\"5,2\" d=\"M436.08,-82C436.08,-31.33 499.42,-83 550.08,-83\" />\n",
       "<ns0:text text-anchor=\"middle\" x=\"505.08\" y=\"-85.8\" font-family=\"Arial\" font-size=\"14.00\" fill=\"#90918e\"> flash liquid</ns0:text>\n",
       "</ns0:g>\n",
       "\n",
       "<ns0:g id=\"edge2\" class=\"edge\">\n",
       "<ns0:title> inlet:e-&gt;regenerator\n",
       "Heat exchanger:c</ns0:title>\n",
       "<ns0:path fill=\"none\" stroke=\"#90918e\" d=\"M11,-109C25.85,-109 41.77,-109 56.9,-109\" />\n",
       "<ns0:text text-anchor=\"middle\" x=\"34\" y=\"-112.8\" font-family=\"Arial\" font-size=\"14.00\" fill=\"#90918e\"> inlet</ns0:text>\n",
       "</ns0:g>\n",
       "\n",
       "<ns0:g id=\"node1\" class=\"node\">\n",
       "<ns0:title>regenerator\n",
       "Heat exchanger</ns0:title>\n",
       "<ns0:defs>\n",
       "<ns0:linearGradient id=\"l_0\" gradientUnits=\"userSpaceOnUse\" x1=\"126.79\" y1=\"-39.42\" x2=\"126.79\" y2=\"-178.58\">\n",
       "<ns0:stop offset=\"0\" style=\"stop-color:#60c1cf;stop-opacity:1.;\" />\n",
       "<ns0:stop offset=\"1\" style=\"stop-color:#ed5a6a;stop-opacity:1.;\" />\n",
       "</ns0:linearGradient>\n",
       "</ns0:defs>\n",
       "<ns0:ellipse fill=\"url(#l_0)\" stroke=\"transparent\" cx=\"126.79\" cy=\"-109\" rx=\"69.58\" ry=\"69.58\" />\n",
       "<ns0:text text-anchor=\"middle\" x=\"126.79\" y=\"-112.8\" font-family=\"Arial\" font-size=\"14.00\" fill=\"white\">regenerator</ns0:text>\n",
       "<ns0:text text-anchor=\"middle\" x=\"126.79\" y=\"-97.8\" font-family=\"Arial\" font-size=\"14.00\" fill=\"white\">Heat exchanger</ns0:text>\n",
       "</ns0:g>\n",
       "<ns0:g id=\"node2\" class=\"node\">\n",
       "<ns0:title />\n",
       "<ns0:polygon fill=\"#555f69\" stroke=\"#90918e\" points=\"332.08,-66 276.08,-30 276.08,-66 332.08,-30 332.08,-66\" />\n",
       "<ns0:text text-anchor=\"middle\" x=\"243.58\" y=\"-18.8\" font-family=\"Arial\" font-size=\"14.00\" fill=\"white\">expansion</ns0:text>\n",
       "<ns0:text text-anchor=\"middle\" x=\"243.58\" y=\"-3.8\" font-family=\"Arial\" font-size=\"14.00\" fill=\"white\">Valve</ns0:text>\n",
       "</ns0:g>\n",
       "\n",
       "<ns0:g id=\"node3\" class=\"node\">\n",
       "<ns0:title>flash\n",
       "Flash</ns0:title>\n",
       "<ns0:polygon fill=\"#555f69\" stroke=\"#90918e\" points=\"461.58,-162.5 410.58,-162.5 410.58,-83.5 461.58,-83.5 461.58,-162.5\" />\n",
       "<ns0:text text-anchor=\"middle\" x=\"436.08\" y=\"-126.8\" font-family=\"Arial\" font-size=\"14.00\" fill=\"white\">flash</ns0:text>\n",
       "<ns0:text text-anchor=\"middle\" x=\"436.08\" y=\"-111.8\" font-family=\"Arial\" font-size=\"14.00\" fill=\"white\">Flash</ns0:text>\n",
       "</ns0:g>\n",
       "\n",
       "<ns0:g id=\"node4\" class=\"node\">\n",
       "<ns0:title> inlet</ns0:title>\n",
       "<ns0:polygon fill=\"#f98f60\" stroke=\"#90918e\" points=\"5.5,-114.5 0,-109 5.5,-103.5 11,-109 5.5,-114.5\" />\n",
       "</ns0:g>\n",
       "\n",
       "<ns0:g id=\"node5\" class=\"node\">\n",
       "<ns0:title> out</ns0:title>\n",
       "<ns0:polygon fill=\"#f98f60\" stroke=\"#90918e\" points=\"309.58,-109 301.33,-116 301.33,-102 309.58,-109\" />\n",
       "</ns0:g>\n",
       "\n",
       "<ns0:g id=\"node6\" class=\"node\">\n",
       "<ns0:title> flash liquid</ns0:title>\n",
       "<ns0:polygon fill=\"#f98f60\" stroke=\"#90918e\" points=\"559.58,-83 551.33,-90 551.33,-76 559.58,-83\" />\n",
       "</ns0:g>\n",
       "</ns0:g>\n",
       "</ns0:svg>"
      ],
      "text/plain": [
       "<IPython.core.display.SVG object>"
      ]
     },
     "metadata": {},
     "output_type": "display_data"
    },
    {
     "name": "stdout",
     "output_type": "stream",
     "text": [
      "Results without excess free energies\n",
      "------------------------------------\n",
      "System: N2_liquefaction\n",
      "Highest convergence error among components in recycle\n",
      "stream flash-0 after 2 loops:\n",
      "- flow rate   0.00e+00 kmol/hr (0%)\n",
      "- temperature 0.00e+00 K (0%)\n",
      "ins...\n",
      "[0] inlet\n",
      "    phase: 'g', T: 280 K, P: 2e+07 Pa\n",
      "    flow (kmol/hr): N2  353\n",
      "outs...\n",
      "[0] out\n",
      "    phase: 'g', T: 280 K, P: 100000 Pa\n",
      "    flow (kmol/hr): N2  353\n",
      "[1] flash_liquid\n",
      "    phase: 'l', T: 280 K, P: 100000 Pa\n",
      "    flow: 0\n",
      "\n",
      "Results with excess free energies\n",
      "------------------------------------\n",
      "System: N2_liquefaction\n",
      "Highest convergence error among components in recycle\n",
      "stream flash-0 after 11 loops:\n",
      "- flow rate   5.68e-14 kmol/hr (0%)\n",
      "- temperature 0.00e+00 K (0%)\n",
      "ins...\n",
      "[0] inlet\n",
      "    phase: 'g', T: 280 K, P: 2e+07 Pa\n",
      "    flow (kmol/hr): N2  353\n",
      "outs...\n",
      "[0] out\n",
      "    phase: 'g', T: 270.45 K, P: 100000 Pa\n",
      "    flow (kmol/hr): N2  325\n",
      "[1] flash_liquid\n",
      "    phase: 'l', T: 77.236 K, P: 100000 Pa\n",
      "    flow (kmol/hr): N2  28.1\n"
     ]
    }
   ],
   "source": [
    "import biosteam as bst\n",
    "bst.main_flowsheet.clear()\n",
    "\n",
    "# Setup thermodynamic backend\n",
    "N2 = bst.Chemical('N2')\n",
    "bst.settings.set_thermo([N2])\n",
    "\n",
    "# Heat integration between inlet and recycle\n",
    "inlet = bst.Stream(\"inlet\", N2=2.75, units=\"kg/s\", T=6.85+273.15, P=200e5, phase=\"g\")\n",
    "flash_gas = bst.Stream(\"flash_gas\")\n",
    "regenerator = bst.units.HXprocess(\"regenerator\", ins=(inlet, flash_gas), outs=(\"throttle_in\", 'out'), dT=9.55)\n",
    "throttle_in = regenerator.outs[0]\n",
    "\n",
    "# Throttling\n",
    "valve = bst.units.IsenthalpicValve(\"expansion\", ins=throttle_in, outs=\"valve_out\", P=1e5, vle=True)\n",
    "valve_out = valve.outs[0]\n",
    "\n",
    "# Flash drum\n",
    "flash = bst.units.Flash(\"flash\", ins=valve_out, outs=(flash_gas, \"flash_liquid\"), Q=0, P=1e5)\n",
    "\n",
    "# Connect flash gas to regenerator\n",
    "regenerator.ins[1] = flash.vapor\n",
    "    \n",
    "sys = bst.main_flowsheet.create_system('N2_liquefaction')\n",
    "sys.set_tolerance(mol=1e-9, rmol=1e-9, T=1e-5, rT=1e-5)\n",
    "bst.settings.mixture.include_excess_energies = False\n",
    "sys.simulate()\n",
    "sys.diagram()\n",
    "\n",
    "print('Results without excess free energies')\n",
    "print('------------------------------------')\n",
    "sys.show()\n",
    "print()\n",
    "print('Results with excess free energies')\n",
    "print('------------------------------------')\n",
    "bst.settings.mixture.include_excess_energies = True\n",
    "sys.reset_cache() # Resets cached chemical/mixture properties\n",
    "sys.empty_recycles()\n",
    "sys.simulate()\n",
    "sys.show()"
   ]
  },
  {
   "cell_type": "markdown",
   "metadata": {},
   "source": [
    "It may be preferable to use other methods for computing thermodynamic properties. For example, we can change the heat capacity methods to [CoolProp](http://www.coolprop.org/), which is known to be very rigorous:"
   ]
  },
  {
   "cell_type": "code",
   "execution_count": null,
   "metadata": {
    "tags": [
     "nbval-skip"
    ]
   },
   "outputs": [],
   "source": [
    "N2.Cn.l.method = N2.Cn.g.method = \"COOLPROP\"\n",
    "N2.reset_free_energies() # This is necessary to update enthalpy and entropy algorithms with new heat capacities\n",
    "sys.reset_cache()\n",
    "sys.empty_recycles()\n",
    "sys.simulate()\n",
    "sys.show()"
   ]
  },
  {
   "cell_type": "markdown",
   "metadata": {},
   "source": [
    "### Process specification issues"
   ]
  },
  {
   "cell_type": "markdown",
   "metadata": {},
   "source": [
    "At times, a process specification might involve having to rerun upstream unit operations. In such cases, it may be easier to set the system to run more than once than to code-in the simulation of upstream units. For demonstration purposes, let's specify a mixer's product flow rate of water to be constant by varying one of the feeds:"
   ]
  },
  {
   "cell_type": "code",
   "execution_count": null,
   "metadata": {},
   "outputs": [],
   "source": [
    "bst.main_flowsheet.clear()\n",
    "bst.settings.set_thermo(['Water'])\n",
    "feed_a = bst.Stream('feed_a')\n",
    "heat_exchanger = bst.HXutility('heat_exchanger', feed_a, T=320, rigorous=True)\n",
    "feed_b = bst.Stream('feed_b', Water=1e3)\n",
    "mixer = bst.Mixer('mixer', [heat_exchanger-0, feed_b])\n",
    "mixer_product_flow_specification = 1e6 # kmol/hr\n",
    "@mixer.add_specification\n",
    "def adjust_fresh_flow():\n",
    "    # Updates the feed, but doesn't run the upstream heat exchanger.\n",
    "    # A good solution would be to also run the heat exchanger, but here\n",
    "    # we do not for demonstration purposes\n",
    "    feed_a.imol['Water'] = mixer_product_flow_specification - feed_b.imol['Water']\n",
    "    mixer.run()\n",
    "\n",
    "sys = bst.main_flowsheet.create_system('sys')\n",
    "sys.simulate()\n",
    "heat_exchanger.show()"
   ]
  },
  {
   "cell_type": "raw",
   "metadata": {
    "raw_mimetype": "text/restructuredtext"
   },
   "source": [
    "Although we changed the feed upstream of the heat exchanger, notice how we will need to rerun the heat exchanger. We can do this by setting the number of times a system runs using :attr:`~biosteam.System.N_runs`:"
   ]
  },
  {
   "cell_type": "code",
   "execution_count": null,
   "metadata": {},
   "outputs": [],
   "source": [
    "sys.N_runs = 2 # Run twice in simulate method\n",
    "sys.empty_recycles()\n",
    "sys.simulate()\n",
    "heat_exchanger.show()"
   ]
  },
  {
   "cell_type": "raw",
   "metadata": {
    "raw_mimetype": "text/restructuredtext"
   },
   "source": [
    "In general, depending on :attr:`~biosteam.System.N_runs` is not recommended, but it may be useful when dealing with complex process specifications."
   ]
  },
  {
   "cell_type": "markdown",
   "metadata": {},
   "source": [
    "## Phase equilibrium and energy balance"
   ]
  },
  {
   "cell_type": "markdown",
   "metadata": {},
   "source": [
    "### Adjusting convergence criteria"
   ]
  },
  {
   "cell_type": "raw",
   "metadata": {
    "raw_mimetype": "text/restructuredtext"
   },
   "source": [
    "The tolerance on solving for temperature at an energy balance can by adjusted through the :meth:`~thermosteam.mixture.Mixture` class:"
   ]
  },
  {
   "cell_type": "code",
   "execution_count": null,
   "metadata": {
    "tags": [
     "nbval-ignore-output"
    ]
   },
   "outputs": [],
   "source": [
    "from thermosteam import Mixture\n",
    "Mixture.T_tol # -> 1e-6\n",
    "Mixture.maxiter; # -> 20"
   ]
  },
  {
   "cell_type": "markdown",
   "metadata": {},
   "source": [
    "Thermodynamic phase equilibrium algorithms also have a number of tolerances that may be adjusted:"
   ]
  },
  {
   "cell_type": "code",
   "execution_count": null,
   "metadata": {
    "tags": [
     "nbval-ignore-output"
    ]
   },
   "outputs": [],
   "source": [
    "from thermosteam.equilibrium import VLE\n",
    "VLE.maxiter # -> 20 [-]\n",
    "VLE.T_tol # -> 5e-8 [K]\n",
    "VLE.P_tol # -> 1. [Pa]\n",
    "VLE.H_hat_tol # -> 1e-6 [J/g]\n",
    "VLE.S_hat_tol # -> 1e-6 [J/g/K]\n",
    "VLE.V_tol # -> 1e-6 [mol %] \n",
    "VLE.x_tol # -> 1e-9 [mol %]\n",
    "VLE.y_tol; # -> 1e-9 [mol %]"
   ]
  },
  {
   "cell_type": "markdown",
   "metadata": {},
   "source": [
    "The tolerances thermodynamic convergence are purposefully low for stable system convergence. In rare occasions, these algorithms may fail to converge and increasing the maximum number of iterations, `maxiter`, may help. Increasing tolerances may also help convergence of a unit operation, but may cause instabilities to recycle systems."
   ]
  },
  {
   "cell_type": "markdown",
   "metadata": {},
   "source": [
    "### Importance of thermodynamic property package"
   ]
  },
  {
   "cell_type": "markdown",
   "metadata": {},
   "source": [
    "As an example to drive home how important it is to understand the impact of thermodynamic and phase equilibrium assumptions, let's compare the phase envelope of ethanol and water with and without activity coefficients:"
   ]
  },
  {
   "cell_type": "code",
   "execution_count": null,
   "metadata": {
    "tags": [
     "nbval-skip"
    ]
   },
   "outputs": [],
   "source": [
    "import thermosteam as tmo\n",
    "import matplotlib.pyplot as plt\n",
    "tmo.settings.set_thermo(['Ethanol', 'Water'])\n",
    "eq = tmo.equilibrium # Thermosteam's equilibrium module\n",
    "eq.plot_vle_binary_phase_envelope(['Ethanol', 'Water'], P=101325)\n",
    "plt.title('With activity coefficients estimated\\nby UNIFAC interaction parameters')\n",
    "plt.show()\n",
    "tmo.settings.set_thermo(['Ethanol', 'Water'], ideal=True)\n",
    "eq.plot_vle_binary_phase_envelope(['Ethanol', 'Water'], P=101325)\n",
    "plt.title('Without activity coefficients')\n",
    "plt.show()"
   ]
  },
  {
   "cell_type": "markdown",
   "metadata": {},
   "source": [
    "Note how no azeotrope is predicted for the ideal thermodynamic model. When working with non-polar hydrocarbons, however, it becomes feasible to ignore interaction parameters:"
   ]
  },
  {
   "cell_type": "code",
   "execution_count": null,
   "metadata": {},
   "outputs": [],
   "source": [
    "import thermosteam as tmo\n",
    "import matplotlib.pyplot as plt\n",
    "tmo.settings.set_thermo(['Hexane', 'Octane'])\n",
    "eq = tmo.equilibrium # Thermosteam's equilibrium module\n",
    "eq.plot_vle_binary_phase_envelope(['Hexane', 'Octane'], P=101325)\n",
    "plt.title('With activity coefficients estimated\\nby UNIFAC interaction parameters')\n",
    "plt.show()\n",
    "tmo.settings.set_thermo(['Hexane', 'Octane'], ideal=True)\n",
    "eq.plot_vle_binary_phase_envelope(['Hexane', 'Octane'], P=101325)\n",
    "plt.title('Without activity coefficients')\n",
    "plt.show()"
   ]
  }
 ],
 "metadata": {
  "celltoolbar": "Edit Metadata",
  "kernelspec": {
   "display_name": "Python 3 (ipykernel)",
   "language": "python",
   "name": "python3"
  },
  "language_info": {
   "codemirror_mode": {
    "name": "ipython",
    "version": 3
   },
   "file_extension": ".py",
   "mimetype": "text/x-python",
   "name": "python",
   "nbconvert_exporter": "python",
   "pygments_lexer": "ipython3",
   "version": "3.9.12"
  },
  "latex_envs": {
   "LaTeX_envs_menu_present": true,
   "autoclose": false,
   "autocomplete": true,
   "bibliofile": "biblio.bib",
   "cite_by": "apalike",
   "current_citInitial": 1,
   "eqLabelWithNumbers": true,
   "eqNumInitial": 1,
   "hotkeys": {
    "equation": "Ctrl-E",
    "itemize": "Ctrl-I"
   },
   "labels_anchors": false,
   "latex_user_defs": false,
   "report_style_numbering": false,
   "user_envs_cfg": false
  },
  "toc": {
   "base_numbering": 1,
   "nav_menu": {},
   "number_sections": true,
   "sideBar": true,
   "skip_h1_title": false,
   "title_cell": "Table of Contents",
   "title_sidebar": "Contents",
   "toc_cell": false,
   "toc_position": {},
   "toc_section_display": true,
   "toc_window_display": false
  }
 },
 "nbformat": 4,
 "nbformat_minor": 4
}
