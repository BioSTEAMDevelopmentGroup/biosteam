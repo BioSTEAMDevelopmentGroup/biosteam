{
 "cells": [
  {
   "cell_type": "markdown",
   "metadata": {},
   "source": [
    "# Uncertainty and sensitivity"
   ]
  },
  {
   "cell_type": "markdown",
   "metadata": {},
   "source": [
    "TEA/LCA is a powerful tool to understand the potential sustainability of a technology. But it can be extremely difficult to navigate uncertainties in design decisions (e.g., refinery size and location), market variability, and technological performance. Evaluating just one representative scenario (under a single set of assumptions) gives an incomplete picture that is not conclusive. This is especially true for conceptual and early-stage technologies, which have higher levels of uncertainty. We need to pair TEA/LCA with rigorous uncertainty/sensitivity analyses to explore the landscape of potential outcomes, identify representative scenarios (through sensitivity analysis), and establish technological performance targets. To learn more about expediting RD&D through modeling, we recommend reading on [quantitive sustainable design (QSD) methodology](https://pubs.rsc.org/en/content/articlelanding/2022/ew/d2ew00431c).\n",
    "\n",
    "As one of its central features, BioSTEAM streamlines TEA/LCA with rigorous uncertainty/sensitivity analyses to empower researchers with the ability to navigate uncertainty and guide RD&D. Using NREL's model for cellulosic ethanol production from cornstover as a case study, this tutorial will demonstrate how to construct a model and perform Monte Carlo-based uncertainty/sensitivity analyses to establish potential targets for improvement. "
   ]
  },
  {
   "cell_type": "markdown",
   "metadata": {},
   "source": [
    "## Framework"
   ]
  },
  {
   "cell_type": "markdown",
   "metadata": {},
   "source": [
    "BioSTEAM streamlines uncertainty analysis with an object-oriented framework where a [Model](../API/evaluation/Model.txt) object samples from parameter distributions and evaluates sustainability indicators at each new condition. In essence, a Model object sets parameter values, simulates the biorefinery system, and evaluates indicators across an array of samples."
   ]
  },
  {
   "cell_type": "raw",
   "metadata": {
    "raw_mimetype": "text/restructuredtext"
   },
   "source": [
    ".. figure:: model_UML_light.png\n",
    "   :figwidth: 60%\n",
    "   :class: only-light\n",
    "   :align: center\n",
    "\n",
    ".. figure:: model_UML_dark.png\n",
    "   :figwidth: 60%\n",
    "   :class: only-dark\n",
    "   :align: center\n"
   ]
  },
  {
   "cell_type": "markdown",
   "metadata": {},
   "source": [
    "On the backend, Model objects cut down simulation time using a number of strategies, including sorting the samples to minimize perturbations to the system between simulation. \n"
   ]
  },
  {
   "cell_type": "markdown",
   "metadata": {},
   "source": [
    "### Distributions"
   ]
  },
  {
   "cell_type": "markdown",
   "metadata": {},
   "source": [
    "**Let's first learn how to create common parameter distributions using** [chaospy](https://chaospy.readthedocs.io/en/master/user_guide/quick_tutorial.html)."
   ]
  },
  {
   "cell_type": "markdown",
   "metadata": {},
   "source": [
    "A triangular distribution is typically used when the input parameter is uncertain within given limits, but is heuristically known to take a particular value. Create a triangular distribution:"
   ]
  },
  {
   "cell_type": "code",
   "execution_count": 1,
   "metadata": {
    "tags": [
     "nbval-ignore-output"
    ]
   },
   "outputs": [
    {
     "name": "stdout",
     "output_type": "stream",
     "text": [
      "Triangle(0, 0.5, 1)\n"
     ]
    }
   ],
   "source": [
    "from warnings import filterwarnings; filterwarnings('ignore') \n",
    "from chaospy import distributions as shape\n",
    "lower_bound = 0\n",
    "most_probable = 0.5\n",
    "upper_bound = 1\n",
    "triang = shape.Triangle(lower_bound, most_probable, upper_bound)\n",
    "print(triang)"
   ]
  },
  {
   "cell_type": "markdown",
   "metadata": {},
   "source": [
    "A uniform distribution is used when the theoretical limits of the parameter is known, but no information is available to discern which values are more probable. Create a uniform distribution:"
   ]
  },
  {
   "cell_type": "code",
   "execution_count": 2,
   "metadata": {
    "tags": [
     "nbval-ignore-output"
    ]
   },
   "outputs": [
    {
     "name": "stdout",
     "output_type": "stream",
     "text": [
      "Uniform()\n"
     ]
    }
   ],
   "source": [
    "from chaospy import distributions as shape\n",
    "lower_bound = 0\n",
    "upper_bound = 1\n",
    "unif = shape.Uniform(lower_bound, upper_bound)\n",
    "print(unif)"
   ]
  },
  {
   "cell_type": "markdown",
   "metadata": {},
   "source": [
    "A large set of distributions are available through chaospy, but generally triangular and uniform distributions are the most widely used to describe the uncertainty of parameters in Monte Carlo analyses."
   ]
  },
  {
   "cell_type": "markdown",
   "metadata": {},
   "source": [
    "### Parameters and indicators\n",
    "\n",
    "**Parameter and Indicator objects are simply structures BioSTEAM uses to manage setting input parameters and evaluating indicator results.**\n",
    "\n",
    "Parameter objects use a `setter` function to set the parameter value related to an `element` (e.g. unit operation, stream, etc.).  They can have a `distribution` (e.g., triangular, uniform) attribute for Model objects to sample from. Parameters also have `name`, `units` of measure, and `baseline` value attributes for bookkeeping purposes. BioSTEAM incorporates the `element`, `name`, and `units` of measure when creating a DataFrame of Monte Carlo results and parameter distributions. Similarly, an Indicator object uses a `getter` function for to evaluate the indicator value and has `name`, `element`, and `units` of measure attributes for bookkeeping."
   ]
  },
  {
   "cell_type": "markdown",
   "metadata": {},
   "source": [
    "Hopefully things will be become clearer with the following examples using a cellulosic ethanol production process."
   ]
  },
  {
   "cell_type": "markdown",
   "metadata": {},
   "source": [
    "## Creating a Model object"
   ]
  },
  {
   "cell_type": "markdown",
   "metadata": {},
   "source": [
    "**Model objects are used to evaluate indicators given a set of system parameters.**"
   ]
  },
  {
   "cell_type": "markdown",
   "metadata": {},
   "source": [
    "Create a Model object of the cellulosic ethanol:"
   ]
  },
  {
   "cell_type": "code",
   "execution_count": 3,
   "metadata": {
    "tags": [
     "nbval-ignore-output"
    ]
   },
   "outputs": [],
   "source": [
    "import biosteam as bst\n",
    "from biorefineries import cellulosic\n",
    "from biorefineries.tea import create_cellulosic_ethanol_tea\n",
    "bst.nbtutorial()\n",
    "chemicals = cellulosic.create_cellulosic_ethanol_chemicals()\n",
    "bst.settings.set_thermo(chemicals)\n",
    "cellulosic.load_process_settings()\n",
    "bst.F.set_flowsheet('cellulosic_ethanol') # F is the main flowsheet\n",
    "system = cellulosic.create_cellulosic_ethanol_system()\n",
    "tea = create_cellulosic_ethanol_tea(system)\n",
    "model = bst.Model(system)"
   ]
  },
  {
   "cell_type": "markdown",
   "metadata": {},
   "source": [
    "The Model object begins with no parameters and no indicators: "
   ]
  },
  {
   "cell_type": "code",
   "execution_count": 4,
   "metadata": {},
   "outputs": [
    {
     "name": "stdout",
     "output_type": "stream",
     "text": [
      "Model:\n",
      "parameters: None\n",
      "indicators: None\n"
     ]
    }
   ],
   "source": [
    "model"
   ]
  },
  {
   "cell_type": "markdown",
   "metadata": {},
   "source": [
    "### Add indicators"
   ]
  },
  {
   "cell_type": "code",
   "execution_count": 5,
   "metadata": {},
   "outputs": [
    {
     "name": "stdout",
     "output_type": "stream",
     "text": [
      "Model:\n",
      "parameters: None\n",
      "indicators: MESP [USD/kg]\n",
      "            TCI [10^6 * USD]\n"
     ]
    }
   ],
   "source": [
    "@model.indicator(units='USD/kg')\n",
    "def MESP(): return tea.solve_price(bst.F.ethanol)\n",
    "\n",
    "@model.indicator(units='10^6 * USD')\n",
    "def TCI(): return tea.TCI / 1e6 # total capital investment\n",
    "\n",
    "model"
   ]
  },
  {
   "cell_type": "markdown",
   "metadata": {},
   "source": [
    "Note that the decorator uses the function to create an Indicator object and adds it to the model."
   ]
  },
  {
   "cell_type": "markdown",
   "metadata": {},
   "source": [
    "### Add parameters"
   ]
  },
  {
   "cell_type": "code",
   "execution_count": 6,
   "metadata": {},
   "outputs": [
    {
     "name": "stdout",
     "output_type": "stream",
     "text": [
      "Model:\n",
      "parameters: Fermentation - Glucose to ethanol yield [% theoretical]\n",
      "            Fermentation - Xylose to ethanol yield [% theoretical]\n",
      "            Cornstover - Feedstock price [USD/kg]\n",
      "            Biorefinery - Processing capacity [MT/yr]\n",
      "indicators: MESP [USD/kg]\n",
      "            TCI [10^6 * USD]\n"
     ]
    }
   ],
   "source": [
    "fermentation = bst.F.R303\n",
    "ethanol_rxn = fermentation.cofermentation[0]\n",
    "xylose_rxn = fermentation.cofermentation[4]\n",
    "@model.parameter(\n",
    "    element='fermentation', units='% theoretical', # Metadata (does not affect simulation)\n",
    "    bounds=(80, 95), # Lower and upper bound\n",
    "    distribution='uniform', # Same as shape.Uniform(lower, upper)\n",
    "    baseline=0.5 * (80 + 95), # Baseline assumption\n",
    "    coupled=True, # Optional, tells BioSTEAM this impacts mass/energy balances\n",
    ")\n",
    "def set_glucose_to_ethanol_yield(glucose_to_ethanol_yield):\n",
    "    ethanol_rxn.X = glucose_to_ethanol_yield / 100\n",
    "    \n",
    "@model.parameter(\n",
    "    element='fermentation', units='% theoretical',\n",
    "    bounds=(70, 90), # Baseline defaults to the average of the lower and upper bounds.\n",
    "    distribution='uniform',\n",
    "    coupled=True,\n",
    ")\n",
    "def set_xylose_to_ethanol_yield(xylose_to_ethanol_yield):\n",
    "    xylose_rxn.X = xylose_to_ethanol_yield / 100\n",
    "    \n",
    "feedstock = bst.F.cornstover # The feedstock stream\n",
    "lb = feedstock.price * 0.9 # Minimum price\n",
    "ub = feedstock.price * 1.1 # Maximum price\n",
    "@model.parameter(\n",
    "    element='cornstover', units='USD/kg',\n",
    "    bounds=(lb, ub),\n",
    "    baseline=feedstock.price, \n",
    "    distribution='triangular' # Defaults to shape.Triangular(lower=lb, midpoint=baseline, upper=ub)\n",
    ")\n",
    "def set_feed_price(feedstock_price):\n",
    "    feedstock.price = feedstock_price\n",
    "    \n",
    "processing_capacity = feedstock.F_mass * tea.operating_hours / 1e3 # Annual processing capacity MT / y\n",
    "lb = processing_capacity * 0.9\n",
    "ub = processing_capacity * 1.1\n",
    "@model.parameter(\n",
    "    units='MT/yr',\n",
    "    bounds=(lb, ub),\n",
    "    element='Biorefinery',\n",
    "    baseline=processing_capacity,\n",
    "    distribution='triangular',\n",
    "    coupled=True,\n",
    ")\n",
    "def set_processing_capacity(processing_capacity):\n",
    "    feedstock.F_mass = 1e3 * processing_capacity / tea.operating_hours\n",
    "    \n",
    "model"
   ]
  },
  {
   "cell_type": "markdown",
   "metadata": {},
   "source": [
    "Note that the `model.parameter` decorator uses the function to create a Parameter object and adds it to the model."
   ]
  },
  {
   "cell_type": "markdown",
   "metadata": {},
   "source": [
    "### Overview of the model"
   ]
  },
  {
   "cell_type": "markdown",
   "metadata": {},
   "source": [
    "Get dictionary that contain DataFrame objects of parameter distributions:"
   ]
  },
  {
   "cell_type": "code",
   "execution_count": 7,
   "metadata": {
    "tags": [
     "nbval-ignore-output"
    ]
   },
   "outputs": [
    {
     "data": {
      "text/html": [
       "<div>\n",
       "<style scoped>\n",
       "    .dataframe tbody tr th:only-of-type {\n",
       "        vertical-align: middle;\n",
       "    }\n",
       "\n",
       "    .dataframe tbody tr th {\n",
       "        vertical-align: top;\n",
       "    }\n",
       "\n",
       "    .dataframe thead th {\n",
       "        text-align: right;\n",
       "    }\n",
       "</style>\n",
       "<table border=\"1\" class=\"dataframe\">\n",
       "  <thead>\n",
       "    <tr style=\"text-align: right;\">\n",
       "      <th></th>\n",
       "      <th>Element</th>\n",
       "      <th>Name</th>\n",
       "      <th>Units</th>\n",
       "      <th>Shape</th>\n",
       "      <th>lower</th>\n",
       "      <th>upper</th>\n",
       "    </tr>\n",
       "  </thead>\n",
       "  <tbody>\n",
       "    <tr>\n",
       "      <th>0</th>\n",
       "      <td>Fermentation</td>\n",
       "      <td>Glucose to ethanol yield</td>\n",
       "      <td>% theoretical</td>\n",
       "      <td>Uniform</td>\n",
       "      <td>80</td>\n",
       "      <td>95</td>\n",
       "    </tr>\n",
       "    <tr>\n",
       "      <th>1</th>\n",
       "      <td>Fermentation</td>\n",
       "      <td>Xylose to ethanol yield</td>\n",
       "      <td>% theoretical</td>\n",
       "      <td>Uniform</td>\n",
       "      <td>70</td>\n",
       "      <td>90</td>\n",
       "    </tr>\n",
       "  </tbody>\n",
       "</table>\n",
       "</div>"
      ],
      "text/plain": [
       "        Element                      Name          Units    Shape  lower  upper\n",
       "0  Fermentation  Glucose to ethanol yield  % theoretical  Uniform     80     95\n",
       "1  Fermentation   Xylose to ethanol yield  % theoretical  Uniform     70     90"
      ]
     },
     "execution_count": 7,
     "metadata": {},
     "output_type": "execute_result"
    }
   ],
   "source": [
    "df_dct = model.get_distribution_summary()\n",
    "df_dct['Uniform']"
   ]
  },
  {
   "cell_type": "code",
   "execution_count": 8,
   "metadata": {
    "tags": [
     "nbval-ignore-output"
    ]
   },
   "outputs": [
    {
     "data": {
      "text/html": [
       "<div>\n",
       "<style scoped>\n",
       "    .dataframe tbody tr th:only-of-type {\n",
       "        vertical-align: middle;\n",
       "    }\n",
       "\n",
       "    .dataframe tbody tr th {\n",
       "        vertical-align: top;\n",
       "    }\n",
       "\n",
       "    .dataframe thead th {\n",
       "        text-align: right;\n",
       "    }\n",
       "</style>\n",
       "<table border=\"1\" class=\"dataframe\">\n",
       "  <thead>\n",
       "    <tr style=\"text-align: right;\">\n",
       "      <th></th>\n",
       "      <th>Element</th>\n",
       "      <th>Name</th>\n",
       "      <th>Units</th>\n",
       "      <th>Shape</th>\n",
       "      <th>lower</th>\n",
       "      <th>midpoint</th>\n",
       "      <th>upper</th>\n",
       "    </tr>\n",
       "  </thead>\n",
       "  <tbody>\n",
       "    <tr>\n",
       "      <th>0</th>\n",
       "      <td>Cornstover</td>\n",
       "      <td>Feedstock price</td>\n",
       "      <td>USD/kg</td>\n",
       "      <td>Triangle</td>\n",
       "      <td>0.0464</td>\n",
       "      <td>0.0516</td>\n",
       "      <td>0.0567</td>\n",
       "    </tr>\n",
       "    <tr>\n",
       "      <th>1</th>\n",
       "      <td>Biorefinery</td>\n",
       "      <td>Processing capacity</td>\n",
       "      <td>MT/yr</td>\n",
       "      <td>Triangle</td>\n",
       "      <td>7.89e+05</td>\n",
       "      <td>8.77e+05</td>\n",
       "      <td>9.64e+05</td>\n",
       "    </tr>\n",
       "  </tbody>\n",
       "</table>\n",
       "</div>"
      ],
      "text/plain": [
       "       Element                 Name   Units     Shape    lower  midpoint    upper\n",
       "0   Cornstover      Feedstock price  USD/kg  Triangle   0.0464    0.0516   0.0567\n",
       "1  Biorefinery  Processing capacity   MT/yr  Triangle 7.89e+05  8.77e+05 9.64e+05"
      ]
     },
     "execution_count": 8,
     "metadata": {},
     "output_type": "execute_result"
    }
   ],
   "source": [
    "df_dct['Triangle']"
   ]
  },
  {
   "cell_type": "markdown",
   "metadata": {},
   "source": [
    "Evaluate baseline scenario:"
   ]
  },
  {
   "cell_type": "code",
   "execution_count": 9,
   "metadata": {
    "tags": [
     "nbval-ignore-output"
    ]
   },
   "outputs": [
    {
     "data": {
      "text/plain": [
       "Fermentation  Glucose to ethanol yield [% theoretical]       87.5\n",
       "              Xylose to ethanol yield [% theoretical]          80\n",
       "Cornstover    Feedstock price [USD/kg]                     0.0516\n",
       "Biorefinery   Processing capacity [MT/yr]                8.77e+05\n",
       "dtype: float64"
      ]
     },
     "execution_count": 9,
     "metadata": {},
     "output_type": "execute_result"
    }
   ],
   "source": [
    "baseline_scenario = model.get_baseline_scenario()\n",
    "baseline_scenario"
   ]
  },
  {
   "cell_type": "code",
   "execution_count": 10,
   "metadata": {},
   "outputs": [
    {
     "data": {
      "text/plain": [
       "-  MESP [USD/kg]      0.711\n",
       "   TCI [10^6 * USD]     378\n",
       "dtype: float64"
      ]
     },
     "execution_count": 10,
     "metadata": {},
     "output_type": "execute_result"
    }
   ],
   "source": [
    "model(baseline_scenario)"
   ]
  },
  {
   "cell_type": "markdown",
   "metadata": {},
   "source": [
    "### Monte Carlo"
   ]
  },
  {
   "cell_type": "markdown",
   "metadata": {},
   "source": [
    "Sample from a joint distribution, and simulate samples:"
   ]
  },
  {
   "cell_type": "code",
   "execution_count": null,
   "metadata": {
    "tags": [
     "nbval-ignore-output",
     "nbval-skip"
    ]
   },
   "outputs": [
    {
     "name": "stdout",
     "output_type": "stream",
     "text": [
      "[100] Elapsed time: 12 sec\n",
      "[200] Elapsed time: 24 sec\n",
      "[300] Elapsed time: 36 sec\n",
      "[400] Elapsed time: 48 sec\n",
      "[500] Elapsed time: 59 sec\n",
      "[600] Elapsed time: 71 sec\n"
     ]
    }
   ],
   "source": [
    "import numpy as np\n",
    "N_samples = 1000\n",
    "rule = 'L' # For Latin-Hypercube sampling\n",
    "np.random.seed(1234) # For consistent results\n",
    "samples = model.sample(N_samples, rule)\n",
    "model.load_samples(samples, sort=True)\n",
    "model.exception_hook = 'raise'\n",
    "model.evaluate(\n",
    "    notify=100 # Also print elapsed time after 50 simulations\n",
    ") "
   ]
  },
  {
   "cell_type": "markdown",
   "metadata": {},
   "source": [
    "All data from simulation is stored in `<Model>.table`:"
   ]
  },
  {
   "cell_type": "code",
   "execution_count": null,
   "metadata": {
    "tags": [
     "nbval-skip"
    ]
   },
   "outputs": [],
   "source": [
    "model.table # All evaluations are stored as a pandas DataFrame"
   ]
  },
  {
   "cell_type": "markdown",
   "metadata": {},
   "source": [
    "## Sensitivity with Spearman's rank order correlation"
   ]
  },
  {
   "cell_type": "markdown",
   "metadata": {},
   "source": [
    "Model objects also presents methods for sensitivity analysis such as Spearman's correlation, a measure of monotonicity between variables:"
   ]
  },
  {
   "cell_type": "code",
   "execution_count": null,
   "metadata": {
    "tags": [
     "nbval-ignore-output",
     "nbval-skip"
    ]
   },
   "outputs": [],
   "source": [
    "df_rho, df_p = model.spearman_r()\n",
    "print(df_rho['-', 'MESP [USD/kg]'])"
   ]
  },
  {
   "cell_type": "markdown",
   "metadata": {},
   "source": [
    "Create a tornado plot of Spearman's correlation between all parameters and IRR:"
   ]
  },
  {
   "cell_type": "code",
   "execution_count": null,
   "metadata": {
    "tags": [
     "nbval-ignore-output",
     "nbval-skip"
    ]
   },
   "outputs": [],
   "source": [
    "bst.plots.plot_spearman_1d(df_rho['-', 'MESP [USD/kg]'], \n",
    "                           index=[i.describe() for i in model.parameters],\n",
    "                           name='MESP [USD/kg]')"
   ]
  },
  {
   "cell_type": "markdown",
   "metadata": {},
   "source": [
    "## Single point sensitivity"
   ]
  },
  {
   "cell_type": "markdown",
   "metadata": {},
   "source": [
    "A quick way to evaluate sentivity is through single point sensitivity analysis, whereby a metric is evaluated at the baseline and at the lower and upper limits of each parameter. This method ignores the interactions between parameters and their distributions, but can help screen whether a system is sensitive to a given parameter. Model objects also facilitate this analysis:"
   ]
  },
  {
   "cell_type": "code",
   "execution_count": null,
   "metadata": {
    "tags": [
     "nbval-ignore-output",
     "nbval-skip"
    ]
   },
   "outputs": [],
   "source": [
    "baseline, lower, upper = model.single_point_sensitivity()\n",
    "print('BASELINE')\n",
    "print('--------')\n",
    "print(baseline)\n",
    "print()\n",
    "print('LOWER')\n",
    "print('-----')\n",
    "print(lower)\n",
    "print()\n",
    "print('UPPER')\n",
    "print('-----')\n",
    "print(upper)"
   ]
  },
  {
   "cell_type": "markdown",
   "metadata": {},
   "source": [
    "Create a tornado plot of the lower and upper values of the IRR:"
   ]
  },
  {
   "cell_type": "code",
   "execution_count": null,
   "metadata": {
    "tags": [
     "nbval-ignore-output",
     "nbval-skip"
    ]
   },
   "outputs": [],
   "source": [
    "IRR, utility_cost = model.indicators\n",
    "metric_index = IRR.index\n",
    "index = [i.describe(distribution=False) # Instead of displaying distribution, it displays lower, baseline, and upper values\n",
    "         for i in model.parameters] \n",
    "bst.plots.plot_single_point_sensitivity(100 * baseline[metric_index],\n",
    "                                        100 * lower[metric_index], \n",
    "                                        100 * upper[metric_index],\n",
    "                                        name='MESP [USD/kg]',\n",
    "                                        index=index)"
   ]
  },
  {
   "cell_type": "markdown",
   "metadata": {},
   "source": [
    "Note that blue represents the upper limit while red the lower limit."
   ]
  }
 ],
 "metadata": {
  "celltoolbar": "Tags",
  "kernelspec": {
   "display_name": "Python 3 (ipykernel)",
   "language": "python",
   "name": "python3"
  },
  "language_info": {
   "codemirror_mode": {
    "name": "ipython",
    "version": 3
   },
   "file_extension": ".py",
   "mimetype": "text/x-python",
   "name": "python",
   "nbconvert_exporter": "python",
   "pygments_lexer": "ipython3",
   "version": "3.12.3"
  }
 },
 "nbformat": 4,
 "nbformat_minor": 4
}
