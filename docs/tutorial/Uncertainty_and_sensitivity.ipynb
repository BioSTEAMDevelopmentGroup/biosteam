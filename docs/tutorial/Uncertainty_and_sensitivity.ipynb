{
 "cells": [
  {
   "cell_type": "markdown",
   "metadata": {},
   "source": [
    "# Uncertainty and sensitivity"
   ]
  },
  {
   "cell_type": "markdown",
   "metadata": {},
   "source": [
    "## Monte Carlo uncertainty analysis"
   ]
  },
  {
   "cell_type": "markdown",
   "metadata": {},
   "source": [
    "### Model objects"
   ]
  },
  {
   "cell_type": "markdown",
   "metadata": {},
   "source": [
    "BioSTEAM streamlines uncertainty analysis with an object-oriented framework where a [Model](../API/evaluation/Model.txt) object samples from parameter distributions and reevaluates biorefinery metrics at each new condition. In essence, a Model object sets parameter values, simulates the biorefinery system, and evaluates metrics across an array of samples."
   ]
  },
  {
   "cell_type": "raw",
   "metadata": {
    "raw_mimetype": "text/restructuredtext"
   },
   "source": [
    ".. figure:: model_UML_light.png\n",
    "   :figwidth: 60%\n",
    "   :class: only-light\n",
    "   :align: center\n",
    "\n",
    ".. figure:: model_UML_dark.png\n",
    "   :figwidth: 60%\n",
    "   :class: only-dark\n",
    "   :align: center\n"
   ]
  },
  {
   "cell_type": "markdown",
   "metadata": {},
   "source": [
    "Model objects are able to cut down simulation time by sorting the samples to minimize perturbations to the system between simulations. This decreases the number of iterations required to solve recycle systems. The following examples show how Model objects can be used.\n"
   ]
  },
  {
   "cell_type": "markdown",
   "metadata": {},
   "source": [
    "### Create parameter distributions"
   ]
  },
  {
   "cell_type": "markdown",
   "metadata": {},
   "source": [
    "**Let's first learn how to create common parameter distributions using** [chaospy](https://chaospy.readthedocs.io/en/master/user_guide/quick_tutorial.html)."
   ]
  },
  {
   "cell_type": "markdown",
   "metadata": {},
   "source": [
    "A triangular distribution is typically used when the parameter is uncertain within given limits, but is heuristically known to take a particular value. Create a triangular distribution:"
   ]
  },
  {
   "cell_type": "code",
   "execution_count": 1,
   "metadata": {
    "tags": [
     "nbval-ignore-output"
    ]
   },
   "outputs": [
    {
     "name": "stdout",
     "output_type": "stream",
     "text": [
      "Triangle(0, 0.5, 1)\n"
     ]
    }
   ],
   "source": [
    "from warnings import filterwarnings; filterwarnings('ignore') \n",
    "from chaospy import distributions as shape\n",
    "lower_bound = 0\n",
    "most_probable = 0.5\n",
    "upper_bound = 1\n",
    "triang = shape.Triangle(lower_bound, most_probable, upper_bound)\n",
    "print(triang)"
   ]
  },
  {
   "cell_type": "markdown",
   "metadata": {},
   "source": [
    "A uniform distribution is used when the theoretical limits of the parameter is known, but no information is available to discern which values are more probable. Create a uniform distribution:"
   ]
  },
  {
   "cell_type": "code",
   "execution_count": 2,
   "metadata": {
    "tags": [
     "nbval-ignore-output"
    ]
   },
   "outputs": [
    {
     "name": "stdout",
     "output_type": "stream",
     "text": [
      "Uniform()\n"
     ]
    }
   ],
   "source": [
    "from chaospy import distributions as shape\n",
    "lower_bound = 0\n",
    "upper_bound = 1\n",
    "unif = shape.Uniform(lower_bound, upper_bound)\n",
    "print(unif)"
   ]
  },
  {
   "cell_type": "markdown",
   "metadata": {},
   "source": [
    "A large set of distributions are available through chaospy, but generally triangular and uniform distributions are the most widely used to describe the uncertainty of parameters in Monte Carlo analyses."
   ]
  },
  {
   "cell_type": "markdown",
   "metadata": {},
   "source": [
    "### Parameter objects"
   ]
  },
  {
   "cell_type": "markdown",
   "metadata": {},
   "source": [
    "**Parameter objects are simply structures BioSTEAM uses to manage parameter values and distributions.**"
   ]
  },
  {
   "cell_type": "markdown",
   "metadata": {},
   "source": [
    "This section is just to get you familiar with Parameter objects. All the fields that a Parameter object can have are described below. Don't worry if you don't fully understand what each field does. The main idea is that we need to define the `setter` function that the Parameter object uses to set the parameter value to the `element` (e.g. unit operation, stream, etc.) it pertains to. We can also pass a `distribution` (i.e. a chaospy distribution) that will be accessible for Model objects to sample from. As for the `name`, `units` of measure, and the `baseline` value, these are all for bookkeeping purposes. BioSTEAM incorporates the `name` and `units` of measure when creating a DataFrame of Monte Carlo results and parameter distributions. Parameter objects are created by Model objects which implicitly pass both the `system` affected by the parameter, and the `simulate` function. But don't worry about these last two fields, they are automatically added by the Model object when creating the parameter."
   ]
  },
  {
   "cell_type": "markdown",
   "metadata": {},
   "source": [
    "**simulate:** [function] Should simulate parameter effects.\n",
    "\n",
    "**system:** [System] System associated to parameter.\n",
    "\n",
    "**name:** [str] Name of parameter.\n",
    "\n",
    "**units:** [str] Units of measure.\n",
    "\n",
    "**baseline:** [float] Baseline value of parameter.\n",
    "\n",
    "**element:** [object] Element associated to parameter.\n",
    "\n",
    "**setter:** [function] Should set the parameter.\n",
    "\n",
    "**distribution:** [chaospy.Dist] Parameter distribution."
   ]
  },
  {
   "cell_type": "markdown",
   "metadata": {},
   "source": [
    "Hopefully things will be become clearer as we start to create the parameter objects in the following sections...\n",
    "    "
   ]
  },
  {
   "cell_type": "markdown",
   "metadata": {},
   "source": [
    "### Create a model object"
   ]
  },
  {
   "cell_type": "markdown",
   "metadata": {},
   "source": [
    "**Model objects are used to evaluate metrics around multiple parameters of a system.**"
   ]
  },
  {
   "cell_type": "markdown",
   "metadata": {},
   "source": [
    "Create a Model object of the sugarcane biorefinery with internal rate of return and utility cost as metrics:"
   ]
  },
  {
   "cell_type": "code",
   "execution_count": 3,
   "metadata": {
    "tags": [
     "nbval-ignore-output"
    ]
   },
   "outputs": [],
   "source": [
    "from biorefineries import sugarcane as sc\n",
    "import biosteam as bst\n",
    "sc.load()\n",
    "solve_IRR = sc.tea.solve_IRR\n",
    "total_utility_cost = lambda: sc.tea.utility_cost / 10**6 # In 10^6 USD/yr\n",
    "metrics = (bst.Metric('Internal rate of return', sc.tea.solve_IRR, '%'),\n",
    "           bst.Metric('Utility cost', total_utility_cost, '10^6 USD/yr'))\n",
    "model = bst.Model(sc.sys, metrics)\n"
   ]
  },
  {
   "cell_type": "markdown",
   "metadata": {},
   "source": [
    "The Model object begins with no parameters: "
   ]
  },
  {
   "cell_type": "code",
   "execution_count": 4,
   "metadata": {},
   "outputs": [
    {
     "name": "stdout",
     "output_type": "stream",
     "text": [
      "Model: Biorefinery internal rate of return [%]\n",
      "       Biorefinery utility cost [10^6 USD/yr]\n",
      " (No parameters)\n"
     ]
    }
   ],
   "source": [
    "model"
   ]
  },
  {
   "cell_type": "markdown",
   "metadata": {},
   "source": [
    "### Add cost parameters"
   ]
  },
  {
   "cell_type": "markdown",
   "metadata": {},
   "source": [
    "**A cost parameter changes cost requirements but not affect mass and energy balances.**"
   ]
  },
  {
   "cell_type": "markdown",
   "metadata": {},
   "source": [
    "Add number of fermentation reactors as a \"cost\" parameter:"
   ]
  },
  {
   "cell_type": "code",
   "execution_count": 5,
   "metadata": {},
   "outputs": [],
   "source": [
    "R301 = bst.main_flowsheet.unit.R301 # The Fermentation Unit\n",
    "@model.parameter(\n",
    "    name='Number of reactors',\n",
    "    element=R301, kind='cost',\n",
    "    distribution=shape.Uniform(4, 10),\n",
    "    hook=lambda N: int(round(N)) # Make sure value is an integer\n",
    ")\n",
    "def set_N_reactors(N):\n",
    "    R301.N = N"
   ]
  },
  {
   "cell_type": "markdown",
   "metadata": {},
   "source": [
    "The decorator uses the function to create a Parameter object and add it to the model:"
   ]
  },
  {
   "cell_type": "code",
   "execution_count": 6,
   "metadata": {},
   "outputs": [
    {
     "data": {
      "text/plain": [
       "(<Parameter: [Fermentation-R301] Number of reactors>,)"
      ]
     },
     "execution_count": 6,
     "metadata": {},
     "output_type": "execute_result"
    }
   ],
   "source": [
    "parameters = model.get_parameters()\n",
    "parameters"
   ]
  },
  {
   "cell_type": "markdown",
   "metadata": {},
   "source": [
    "Calling a Parameter object will update the parameter and results:"
   ]
  },
  {
   "cell_type": "code",
   "execution_count": 7,
   "metadata": {
    "tags": [
     "nbval-ignore-output"
    ]
   },
   "outputs": [
    {
     "name": "stdout",
     "output_type": "stream",
     "text": [
      "Puchase cost at 5 reactors: $2,418,638\n",
      "Puchase cost at 8 reactors: $2,857,324\n"
     ]
    }
   ],
   "source": [
    "set_N_reactors_parameter = parameters[0]\n",
    "set_N_reactors_parameter(5)\n",
    "print(f'Puchase cost at 5 reactors: ${R301.purchase_cost:,.0f}')\n",
    "set_N_reactors_parameter(8)\n",
    "print(f'Puchase cost at 8 reactors: ${R301.purchase_cost:,.0f}')"
   ]
  },
  {
   "cell_type": "markdown",
   "metadata": {},
   "source": [
    "Add the fermentation unit base cost as a \"cost\" parameter with a triangular distribution:"
   ]
  },
  {
   "cell_type": "code",
   "execution_count": 8,
   "metadata": {},
   "outputs": [],
   "source": [
    "reactors_cost_coefficients = R301.cost_items['Reactors']\n",
    "mid = reactors_cost_coefficients.n # Most probable at baseline value\n",
    "lb = mid - 0.1 # Minimum\n",
    "ub = mid + 0.1 # Maximum\n",
    "@model.parameter(element=R301, kind='cost',\n",
    "                 distribution=shape.Triangle(lb, mid, ub))\n",
    "def set_exponential_cost_coefficient(exponential_cost_coefficient):\n",
    "    reactors_cost_coefficients.n = exponential_cost_coefficient"
   ]
  },
  {
   "cell_type": "markdown",
   "metadata": {},
   "source": [
    "Note that if the name was not defined, it defaults to the setter's signature:"
   ]
  },
  {
   "cell_type": "code",
   "execution_count": 9,
   "metadata": {},
   "outputs": [
    {
     "data": {
      "text/plain": [
       "(<Parameter: [Fermentation-R301] Number of reactors>,\n",
       " <Parameter: [Fermentation-R301] Exponential cost coefficient>)"
      ]
     },
     "execution_count": 9,
     "metadata": {},
     "output_type": "execute_result"
    }
   ],
   "source": [
    "model.get_parameters()"
   ]
  },
  {
   "cell_type": "markdown",
   "metadata": {},
   "source": [
    "### Add isolated parameters"
   ]
  },
  {
   "cell_type": "markdown",
   "metadata": {},
   "source": [
    "**An isolated parameter does not affect Unit objects in any way.**"
   ]
  },
  {
   "cell_type": "markdown",
   "metadata": {},
   "source": [
    "Add feedstock price as a \"isolated\" parameter:"
   ]
  },
  {
   "cell_type": "code",
   "execution_count": 10,
   "metadata": {
    "scrolled": true
   },
   "outputs": [],
   "source": [
    "feedstock = sc.sugarcane # The feedstock stream\n",
    "lb = feedstock.price * 0.9 # Minimum price\n",
    "ub = feedstock.price * 1.1 # Maximum price\n",
    "@model.parameter(element=feedstock, kind='isolated', units='USD/kg',\n",
    "                 distribution=shape.Uniform(lb, ub))\n",
    "def set_feed_price(feedstock_price):\n",
    "    feedstock.price = feedstock_price"
   ]
  },
  {
   "cell_type": "markdown",
   "metadata": {},
   "source": [
    "### Add coupled parameters"
   ]
  },
  {
   "cell_type": "markdown",
   "metadata": {},
   "source": [
    "**A coupled parameter affects mass and energy balances of the system.**"
   ]
  },
  {
   "cell_type": "markdown",
   "metadata": {},
   "source": [
    "Add fermentation efficiency as a \"coupled\" parameter:"
   ]
  },
  {
   "cell_type": "code",
   "execution_count": 11,
   "metadata": {},
   "outputs": [],
   "source": [
    "@model.parameter(element=R301, kind='coupled',\n",
    "                 distribution=shape.Triangle(0.85, 0.90, 0.95))\n",
    "def set_fermentation_efficiency(efficiency):\n",
    "    R301.efficiency = efficiency"
   ]
  },
  {
   "cell_type": "markdown",
   "metadata": {},
   "source": [
    "Add crushing capacity as a \"coupled\" parameter:"
   ]
  },
  {
   "cell_type": "code",
   "execution_count": 12,
   "metadata": {},
   "outputs": [],
   "source": [
    "lb = feedstock.F_mass * 0.9 \n",
    "ub = feedstock.F_mass * 1.1\n",
    "@model.parameter(element=feedstock, kind='coupled',\n",
    "                 distribution=shape.Uniform(lb, ub))\n",
    "def set_crushing_capacity(capacity):\n",
    "    feedstock.F_mass = capacity"
   ]
  },
  {
   "cell_type": "markdown",
   "metadata": {},
   "source": [
    "### Evaluate metric given a sample"
   ]
  },
  {
   "cell_type": "markdown",
   "metadata": {},
   "source": [
    "**The model can be called to evaluate a sample of parameters.**"
   ]
  },
  {
   "cell_type": "markdown",
   "metadata": {},
   "source": [
    "Note that all parameters are stored in the model in the same order they were added:"
   ]
  },
  {
   "cell_type": "code",
   "execution_count": 13,
   "metadata": {},
   "outputs": [
    {
     "name": "stdout",
     "output_type": "stream",
     "text": [
      "Model: Biorefinery internal rate of return [%]\n",
      "       Biorefinery utility cost [10^6 USD/yr]\n",
      " Element:           Parameter:\n",
      " Fermentation-R301  Number of reactors\n",
      "                    Exponential cost coefficient\n",
      " Stream-sugarcane   Feedstock price\n",
      " Fermentation-R301  Efficiency\n",
      " Stream-sugarcane   Capacity\n"
     ]
    }
   ],
   "source": [
    "model"
   ]
  },
  {
   "cell_type": "markdown",
   "metadata": {},
   "source": [
    "Get dictionary that contain DataFrame objects of parameter distributions:"
   ]
  },
  {
   "cell_type": "code",
   "execution_count": 14,
   "metadata": {
    "tags": [
     "nbval-ignore-output"
    ]
   },
   "outputs": [
    {
     "data": {
      "text/html": [
       "<div>\n",
       "<style scoped>\n",
       "    .dataframe tbody tr th:only-of-type {\n",
       "        vertical-align: middle;\n",
       "    }\n",
       "\n",
       "    .dataframe tbody tr th {\n",
       "        vertical-align: top;\n",
       "    }\n",
       "\n",
       "    .dataframe thead th {\n",
       "        text-align: right;\n",
       "    }\n",
       "</style>\n",
       "<table border=\"1\" class=\"dataframe\">\n",
       "  <thead>\n",
       "    <tr style=\"text-align: right;\">\n",
       "      <th></th>\n",
       "      <th>Element</th>\n",
       "      <th>Name</th>\n",
       "      <th>Units</th>\n",
       "      <th>Shape</th>\n",
       "      <th>lower</th>\n",
       "      <th>upper</th>\n",
       "    </tr>\n",
       "  </thead>\n",
       "  <tbody>\n",
       "    <tr>\n",
       "      <th>0</th>\n",
       "      <td>Fermentation-R301</td>\n",
       "      <td>Number of reactors</td>\n",
       "      <td></td>\n",
       "      <td>Uniform</td>\n",
       "      <td>4</td>\n",
       "      <td>10</td>\n",
       "    </tr>\n",
       "    <tr>\n",
       "      <th>1</th>\n",
       "      <td>Stream-sugarcane</td>\n",
       "      <td>Feedstock price</td>\n",
       "      <td>USD/kg</td>\n",
       "      <td>Uniform</td>\n",
       "      <td>0.0311</td>\n",
       "      <td>0.038</td>\n",
       "    </tr>\n",
       "    <tr>\n",
       "      <th>2</th>\n",
       "      <td>Stream-sugarcane</td>\n",
       "      <td>Capacity</td>\n",
       "      <td></td>\n",
       "      <td>Uniform</td>\n",
       "      <td>3e+05</td>\n",
       "      <td>3.67e+05</td>\n",
       "    </tr>\n",
       "  </tbody>\n",
       "</table>\n",
       "</div>"
      ],
      "text/plain": [
       "             Element                Name   Units    Shape  lower    upper\n",
       "0  Fermentation-R301  Number of reactors          Uniform      4       10\n",
       "1   Stream-sugarcane     Feedstock price  USD/kg  Uniform 0.0311    0.038\n",
       "2   Stream-sugarcane            Capacity          Uniform  3e+05 3.67e+05"
      ]
     },
     "execution_count": 14,
     "metadata": {},
     "output_type": "execute_result"
    }
   ],
   "source": [
    "df_dct = model.get_distribution_summary()\n",
    "df_dct['Uniform']"
   ]
  },
  {
   "cell_type": "code",
   "execution_count": 15,
   "metadata": {
    "tags": [
     "nbval-ignore-output"
    ]
   },
   "outputs": [
    {
     "data": {
      "text/html": [
       "<div>\n",
       "<style scoped>\n",
       "    .dataframe tbody tr th:only-of-type {\n",
       "        vertical-align: middle;\n",
       "    }\n",
       "\n",
       "    .dataframe tbody tr th {\n",
       "        vertical-align: top;\n",
       "    }\n",
       "\n",
       "    .dataframe thead th {\n",
       "        text-align: right;\n",
       "    }\n",
       "</style>\n",
       "<table border=\"1\" class=\"dataframe\">\n",
       "  <thead>\n",
       "    <tr style=\"text-align: right;\">\n",
       "      <th></th>\n",
       "      <th>Element</th>\n",
       "      <th>Name</th>\n",
       "      <th>Units</th>\n",
       "      <th>Shape</th>\n",
       "      <th>lower</th>\n",
       "      <th>midpoint</th>\n",
       "      <th>upper</th>\n",
       "    </tr>\n",
       "  </thead>\n",
       "  <tbody>\n",
       "    <tr>\n",
       "      <th>0</th>\n",
       "      <td>Fermentation-R301</td>\n",
       "      <td>Exponential cost coefficient</td>\n",
       "      <td></td>\n",
       "      <td>Triangle</td>\n",
       "      <td>0.4</td>\n",
       "      <td>0.5</td>\n",
       "      <td>0.6</td>\n",
       "    </tr>\n",
       "    <tr>\n",
       "      <th>1</th>\n",
       "      <td>Fermentation-R301</td>\n",
       "      <td>Efficiency</td>\n",
       "      <td></td>\n",
       "      <td>Triangle</td>\n",
       "      <td>0.85</td>\n",
       "      <td>0.9</td>\n",
       "      <td>0.95</td>\n",
       "    </tr>\n",
       "  </tbody>\n",
       "</table>\n",
       "</div>"
      ],
      "text/plain": [
       "             Element                          Name Units     Shape  lower  midpoint  upper\n",
       "0  Fermentation-R301  Exponential cost coefficient        Triangle    0.4       0.5    0.6\n",
       "1  Fermentation-R301                    Efficiency        Triangle   0.85       0.9   0.95"
      ]
     },
     "execution_count": 15,
     "metadata": {},
     "output_type": "execute_result"
    }
   ],
   "source": [
    "df_dct['Triangle']"
   ]
  },
  {
   "cell_type": "markdown",
   "metadata": {},
   "source": [
    "Evaluate sample:"
   ]
  },
  {
   "cell_type": "code",
   "execution_count": 16,
   "metadata": {
    "tags": [
     "nbval-ignore-output"
    ]
   },
   "outputs": [
    {
     "data": {
      "text/plain": [
       "Biorefinery  Internal rate of return [%]   0.092\n",
       "             Utility cost [10^6 USD/yr]    -19.2\n",
       "dtype: float64"
      ]
     },
     "execution_count": 16,
     "metadata": {},
     "output_type": "execute_result"
    }
   ],
   "source": [
    "model([8, 100000, 0.040, 0.85, feedstock.F_mass]) # Returns metrics (IRR and utility cost)"
   ]
  },
  {
   "cell_type": "markdown",
   "metadata": {},
   "source": [
    "### Monte Carlo"
   ]
  },
  {
   "cell_type": "markdown",
   "metadata": {},
   "source": [
    "Sample from a joint distribution, and simulate samples:"
   ]
  },
  {
   "cell_type": "code",
   "execution_count": 17,
   "metadata": {
    "tags": [
     "nbval-ignore-output",
     "nbval-skip"
    ]
   },
   "outputs": [
    {
     "name": "stdout",
     "output_type": "stream",
     "text": [
      "[50] Elapsed time: 11 sec\n",
      "[100] Elapsed time: 20 sec\n",
      "[150] Elapsed time: 29 sec\n",
      "[200] Elapsed time: 38 sec\n"
     ]
    }
   ],
   "source": [
    "import numpy as np\n",
    "N_samples = 200\n",
    "rule = 'L' # For Latin-Hypercube sampling\n",
    "np.random.seed(1234) # For consistent results\n",
    "samples = model.sample(N_samples, rule)\n",
    "model.load_samples(samples)\n",
    "model.evaluate(\n",
    "    notify=50 # Also print elapsed time after 50 simulations\n",
    ") "
   ]
  },
  {
   "cell_type": "markdown",
   "metadata": {},
   "source": [
    "Although the system uses the last solution as an initial guess for the next, each scenario may be vastly different and there is no guarantee that this initial guess would be any better. Luckily, BioSTEAM can minimize perturbations to the system between simulations by pre-sorting the scenarios:"
   ]
  },
  {
   "cell_type": "code",
   "execution_count": 18,
   "metadata": {
    "tags": [
     "nbval-ignore-output",
     "nbval-skip"
    ]
   },
   "outputs": [
    {
     "name": "stdout",
     "output_type": "stream",
     "text": [
      "[50] Elapsed time: 8 sec\n",
      "[100] Elapsed time: 16 sec\n",
      "[150] Elapsed time: 24 sec\n",
      "[200] Elapsed time: 32 sec\n"
     ]
    }
   ],
   "source": [
    "model.load_samples(\n",
    "    samples,\n",
    "    optimize=True, # Optimize simulation order\n",
    ")\n",
    "model.evaluate(\n",
    "    notify=50 # Also print elapsed time after 50 simulations\n",
    ") "
   ]
  },
  {
   "cell_type": "markdown",
   "metadata": {},
   "source": [
    "Notice how it took less time (~%10 less) to run the Monte Carlo simulations after optimizing the simulation order."
   ]
  },
  {
   "cell_type": "markdown",
   "metadata": {},
   "source": [
    "All data from simulation is stored in `<Model>.table`:"
   ]
  },
  {
   "cell_type": "code",
   "execution_count": 19,
   "metadata": {
    "tags": [
     "nbval-skip"
    ]
   },
   "outputs": [
    {
     "data": {
      "text/html": [
       "<div>\n",
       "<style scoped>\n",
       "    .dataframe tbody tr th:only-of-type {\n",
       "        vertical-align: middle;\n",
       "    }\n",
       "\n",
       "    .dataframe tbody tr th {\n",
       "        vertical-align: top;\n",
       "    }\n",
       "\n",
       "    .dataframe thead tr th {\n",
       "        text-align: left;\n",
       "    }\n",
       "</style>\n",
       "<table border=\"1\" class=\"dataframe\">\n",
       "  <thead>\n",
       "    <tr>\n",
       "      <th>Element</th>\n",
       "      <th colspan=\"2\" halign=\"left\">Fermentation-R301</th>\n",
       "      <th>Stream-sugarcane</th>\n",
       "      <th>Fermentation-R301</th>\n",
       "      <th>Stream-sugarcane</th>\n",
       "      <th colspan=\"2\" halign=\"left\">Biorefinery</th>\n",
       "    </tr>\n",
       "    <tr>\n",
       "      <th>Feature</th>\n",
       "      <th>Number of reactors</th>\n",
       "      <th>Exponential cost coefficient</th>\n",
       "      <th>Feedstock price [USD/kg]</th>\n",
       "      <th>Efficiency</th>\n",
       "      <th>Capacity</th>\n",
       "      <th>Internal rate of return [%]</th>\n",
       "      <th>Utility cost [10^6 USD/yr]</th>\n",
       "    </tr>\n",
       "  </thead>\n",
       "  <tbody>\n",
       "    <tr>\n",
       "      <th>0</th>\n",
       "      <td>4</td>\n",
       "      <td>0.491</td>\n",
       "      <td>0.0361</td>\n",
       "      <td>0.906</td>\n",
       "      <td>3.4e+05</td>\n",
       "      <td>0.132</td>\n",
       "      <td>-18.7</td>\n",
       "    </tr>\n",
       "    <tr>\n",
       "      <th>1</th>\n",
       "      <td>4</td>\n",
       "      <td>0.52</td>\n",
       "      <td>0.0316</td>\n",
       "      <td>0.922</td>\n",
       "      <td>3.07e+05</td>\n",
       "      <td>0.156</td>\n",
       "      <td>-16.7</td>\n",
       "    </tr>\n",
       "    <tr>\n",
       "      <th>2</th>\n",
       "      <td>5</td>\n",
       "      <td>0.55</td>\n",
       "      <td>0.0362</td>\n",
       "      <td>0.903</td>\n",
       "      <td>3.11e+05</td>\n",
       "      <td>0.126</td>\n",
       "      <td>-17.1</td>\n",
       "    </tr>\n",
       "    <tr>\n",
       "      <th>3</th>\n",
       "      <td>7</td>\n",
       "      <td>0.475</td>\n",
       "      <td>0.0375</td>\n",
       "      <td>0.908</td>\n",
       "      <td>3.64e+05</td>\n",
       "      <td>0.128</td>\n",
       "      <td>-20.1</td>\n",
       "    </tr>\n",
       "    <tr>\n",
       "      <th>4</th>\n",
       "      <td>7</td>\n",
       "      <td>0.506</td>\n",
       "      <td>0.0346</td>\n",
       "      <td>0.894</td>\n",
       "      <td>3.41e+05</td>\n",
       "      <td>0.138</td>\n",
       "      <td>-19</td>\n",
       "    </tr>\n",
       "    <tr>\n",
       "      <th>...</th>\n",
       "      <td>...</td>\n",
       "      <td>...</td>\n",
       "      <td>...</td>\n",
       "      <td>...</td>\n",
       "      <td>...</td>\n",
       "      <td>...</td>\n",
       "      <td>...</td>\n",
       "    </tr>\n",
       "    <tr>\n",
       "      <th>195</th>\n",
       "      <td>4</td>\n",
       "      <td>0.573</td>\n",
       "      <td>0.0341</td>\n",
       "      <td>0.9</td>\n",
       "      <td>3.22e+05</td>\n",
       "      <td>0.141</td>\n",
       "      <td>-17.8</td>\n",
       "    </tr>\n",
       "    <tr>\n",
       "      <th>196</th>\n",
       "      <td>5</td>\n",
       "      <td>0.465</td>\n",
       "      <td>0.0325</td>\n",
       "      <td>0.939</td>\n",
       "      <td>3.25e+05</td>\n",
       "      <td>0.162</td>\n",
       "      <td>-17.4</td>\n",
       "    </tr>\n",
       "    <tr>\n",
       "      <th>197</th>\n",
       "      <td>9</td>\n",
       "      <td>0.484</td>\n",
       "      <td>0.0358</td>\n",
       "      <td>0.896</td>\n",
       "      <td>3.14e+05</td>\n",
       "      <td>0.126</td>\n",
       "      <td>-17.4</td>\n",
       "    </tr>\n",
       "    <tr>\n",
       "      <th>198</th>\n",
       "      <td>8</td>\n",
       "      <td>0.459</td>\n",
       "      <td>0.0341</td>\n",
       "      <td>0.877</td>\n",
       "      <td>3.62e+05</td>\n",
       "      <td>0.14</td>\n",
       "      <td>-20.4</td>\n",
       "    </tr>\n",
       "    <tr>\n",
       "      <th>199</th>\n",
       "      <td>5</td>\n",
       "      <td>0.535</td>\n",
       "      <td>0.0334</td>\n",
       "      <td>0.886</td>\n",
       "      <td>3.35e+05</td>\n",
       "      <td>0.144</td>\n",
       "      <td>-18.7</td>\n",
       "    </tr>\n",
       "  </tbody>\n",
       "</table>\n",
       "<p>200 rows × 7 columns</p>\n",
       "</div>"
      ],
      "text/plain": [
       "Element  Fermentation-R301                                      Stream-sugarcane Fermentation-R301 Stream-sugarcane                 Biorefinery  \\\n",
       "Feature Number of reactors Exponential cost coefficient Feedstock price [USD/kg]        Efficiency         Capacity Internal rate of return [%]   \n",
       "0                        4                        0.491                   0.0361             0.906          3.4e+05                       0.132   \n",
       "1                        4                         0.52                   0.0316             0.922         3.07e+05                       0.156   \n",
       "2                        5                         0.55                   0.0362             0.903         3.11e+05                       0.126   \n",
       "3                        7                        0.475                   0.0375             0.908         3.64e+05                       0.128   \n",
       "4                        7                        0.506                   0.0346             0.894         3.41e+05                       0.138   \n",
       "..                     ...                          ...                      ...               ...              ...                         ...   \n",
       "195                      4                        0.573                   0.0341               0.9         3.22e+05                       0.141   \n",
       "196                      5                        0.465                   0.0325             0.939         3.25e+05                       0.162   \n",
       "197                      9                        0.484                   0.0358             0.896         3.14e+05                       0.126   \n",
       "198                      8                        0.459                   0.0341             0.877         3.62e+05                        0.14   \n",
       "199                      5                        0.535                   0.0334             0.886         3.35e+05                       0.144   \n",
       "\n",
       "Element                             \n",
       "Feature Utility cost [10^6 USD/yr]  \n",
       "0                            -18.7  \n",
       "1                            -16.7  \n",
       "2                            -17.1  \n",
       "3                            -20.1  \n",
       "4                              -19  \n",
       "..                             ...  \n",
       "195                          -17.8  \n",
       "196                          -17.4  \n",
       "197                          -17.4  \n",
       "198                          -20.4  \n",
       "199                          -18.7  \n",
       "\n",
       "[200 rows x 7 columns]"
      ]
     },
     "execution_count": 19,
     "metadata": {},
     "output_type": "execute_result"
    }
   ],
   "source": [
    "model.table # All evaluations are stored as a pandas DataFrame"
   ]
  },
  {
   "cell_type": "markdown",
   "metadata": {},
   "source": [
    "## Sensitivity with Spearman's rank order correlation"
   ]
  },
  {
   "cell_type": "markdown",
   "metadata": {},
   "source": [
    "Model objects also presents methods for sensitivity analysis such as Spearman's correlation, a measure of monotonicity between variables:"
   ]
  },
  {
   "cell_type": "code",
   "execution_count": 20,
   "metadata": {
    "tags": [
     "nbval-ignore-output",
     "nbval-skip"
    ]
   },
   "outputs": [
    {
     "name": "stdout",
     "output_type": "stream",
     "text": [
      "Element            Parameter                   \n",
      "Fermentation-R301  Number of reactors             -0.218\n",
      "                   Exponential cost coefficient    0.047\n",
      "Stream-sugarcane   Feedstock price [USD/kg]       -0.864\n",
      "Fermentation-R301  Efficiency                      0.282\n",
      "Stream-sugarcane   Capacity                        0.399\n",
      "Name: (Biorefinery, Internal rate of return [%]), dtype: float64\n"
     ]
    }
   ],
   "source": [
    "df_rho, df_p = model.spearman_r()\n",
    "print(df_rho['Biorefinery', 'Internal rate of return [%]'])"
   ]
  },
  {
   "cell_type": "markdown",
   "metadata": {},
   "source": [
    "Create a tornado plot of Spearman's correlation between all parameters and IRR:"
   ]
  },
  {
   "cell_type": "code",
   "execution_count": 21,
   "metadata": {
    "tags": [
     "nbval-ignore-output",
     "nbval-skip"
    ]
   },
   "outputs": [
    {
     "data": {
      "text/plain": [
       "(<Figure size 432x288 with 3 Axes>,\n",
       " <AxesSubplot:xlabel=\"Spearman's correlation with IRR [%]\">)"
      ]
     },
     "execution_count": 21,
     "metadata": {},
     "output_type": "execute_result"
    },
    {
     "data": {
      "image/png": "[encoded data removed]",
      "text/plain": [
       "<Figure size 432x288 with 3 Axes>"
      ]
     },
     "metadata": {
      "needs_background": "light"
     },
     "output_type": "display_data"
    }
   ],
   "source": [
    "bst.plots.plot_spearman_1d(df_rho['Biorefinery', 'Internal rate of return [%]'], \n",
    "                           index=[i.describe() for i in model.parameters],\n",
    "                           name='IRR [%]')"
   ]
  },
  {
   "cell_type": "markdown",
   "metadata": {},
   "source": [
    "## Single point sensitivity"
   ]
  },
  {
   "cell_type": "markdown",
   "metadata": {},
   "source": [
    "A quick way to evaluate sentivity is through single point sensitivity analysis, whereby a metric is evaluated at the baseline and at the lower and upper limits of each parameter. This method ignores the interactions between parameters and their distributions, but can help screen whether a system is sensitive to a given parameter. Model objects also facilitate this analysis:"
   ]
  },
  {
   "cell_type": "code",
   "execution_count": 22,
   "metadata": {
    "tags": [
     "nbval-ignore-output",
     "nbval-skip"
    ]
   },
   "outputs": [
    {
     "name": "stdout",
     "output_type": "stream",
     "text": [
      "BASELINE\n",
      "--------\n",
      "Element      Feature                    \n",
      "Biorefinery  Internal rate of return [%]   0.139\n",
      "             Utility cost [10^6 USD/yr]    -18.4\n",
      "dtype: float64\n",
      "\n",
      "LOWER\n",
      "-----\n",
      "Element                                                        Biorefinery                           \n",
      "Feature                                        Internal rate of return [%] Utility cost [10^6 USD/yr]\n",
      "Element           Feature                                                                            \n",
      "Fermentation-R301 Number of reactors                                  0.14                      -18.4\n",
      "                  Exponential cost coefficient                       0.138                      -18.4\n",
      "Stream-sugarcane  Feedstock price [USD/kg]                           0.159                      -18.4\n",
      "Fermentation-R301 Efficiency                                         0.124                      -19.1\n",
      "Stream-sugarcane  Capacity                                            0.13                      -16.6\n",
      "\n",
      "UPPER\n",
      "-----\n",
      "Element                                                        Biorefinery                           \n",
      "Feature                                        Internal rate of return [%] Utility cost [10^6 USD/yr]\n",
      "Element           Feature                                                                            \n",
      "Fermentation-R301 Number of reactors                                 0.138                      -18.4\n",
      "                  Exponential cost coefficient                        0.14                      -18.4\n",
      "Stream-sugarcane  Feedstock price [USD/kg]                           0.118                      -18.4\n",
      "Fermentation-R301 Efficiency                                         0.153                      -17.6\n",
      "Stream-sugarcane  Capacity                                           0.146                      -20.3\n"
     ]
    }
   ],
   "source": [
    "baseline, lower, upper = model.single_point_sensitivity()\n",
    "print('BASELINE')\n",
    "print('--------')\n",
    "print(baseline)\n",
    "print()\n",
    "print('LOWER')\n",
    "print('-----')\n",
    "print(lower)\n",
    "print()\n",
    "print('UPPER')\n",
    "print('-----')\n",
    "print(upper)"
   ]
  },
  {
   "cell_type": "markdown",
   "metadata": {},
   "source": [
    "Create a tornado plot of the lower and upper values of the IRR:"
   ]
  },
  {
   "cell_type": "code",
   "execution_count": 23,
   "metadata": {
    "tags": [
     "nbval-ignore-output",
     "nbval-skip"
    ]
   },
   "outputs": [
    {
     "data": {
      "text/plain": [
       "(<Figure size 432x288 with 3 Axes>, <AxesSubplot:xlabel='IRR [%]'>)"
      ]
     },
     "execution_count": 23,
     "metadata": {},
     "output_type": "execute_result"
    },
    {
     "data": {
      "image/png": "[encoded data removed]",
      "text/plain": [
       "<Figure size 432x288 with 3 Axes>"
      ]
     },
     "metadata": {
      "needs_background": "light"
     },
     "output_type": "display_data"
    }
   ],
   "source": [
    "IRR, utility_cost = model.metrics\n",
    "metric_index = IRR.index\n",
    "index = [i.describe(distribution=False) # Instead of displaying distribution, it displays lower, baseline, and upper values\n",
    "         for i in model.parameters] \n",
    "bst.plots.plot_single_point_sensitivity(100 * baseline[metric_index],\n",
    "                                        100 * lower[metric_index], \n",
    "                                        100 * upper[metric_index],\n",
    "                                        name='IRR [%]',\n",
    "                                        index=index)"
   ]
  },
  {
   "cell_type": "markdown",
   "metadata": {},
   "source": [
    "Note that blue represents the upper limit while red the lower limit."
   ]
  }
 ],
 "metadata": {
  "celltoolbar": "Tags",
  "kernelspec": {
   "display_name": "Python 3 (ipykernel)",
   "language": "python",
   "name": "python3"
  },
  "language_info": {
   "codemirror_mode": {
    "name": "ipython",
    "version": 3
   },
   "file_extension": ".py",
   "mimetype": "text/x-python",
   "name": "python",
   "nbconvert_exporter": "python",
   "pygments_lexer": "ipython3",
   "version": "3.9.12"
  }
 },
 "nbformat": 4,
 "nbformat_minor": 2
}
