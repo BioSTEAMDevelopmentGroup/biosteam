{
 "cells": [
  {
   "cell_type": "markdown",
   "metadata": {},
   "source": [
    "# Preferences"
   ]
  },
  {
   "cell_type": "markdown",
   "metadata": {},
   "source": [
    "### Stream data display preferences"
   ]
  },
  {
   "cell_type": "markdown",
   "metadata": {},
   "source": [
    "Stream data can be displayed in different units of measure. As an example, here we show a stream's flow in kg/hr, temperature in Celcius, and pressure in bar:"
   ]
  },
  {
   "cell_type": "code",
   "execution_count": 1,
   "metadata": {},
   "outputs": [
    {
     "name": "stdout",
     "output_type": "stream",
     "text": [
      "Stream: sugarcane to <ConveyingBelt: U101>\n",
      " phase: 'l', T: 25 degC, P: 1.01325 bar\n",
      " composition (%): Water          70\n",
      "                  Glucose        1.21\n",
      "                  Sucrose        13.7\n",
      "                  Ash            0.6\n",
      "                  Cellulose      6.12\n",
      "                  Hemicellulose  3.61\n",
      "                  Lignin         3.28\n",
      "                  Solids         1.5\n",
      "                  -------------  3.33e+05 kg/hr\n"
     ]
    }
   ],
   "source": [
    "from biorefineries import sugarcane as sc\n",
    "import biosteam as bst\n",
    "bst.nbtutorial()\n",
    "sc.sugarcane.show(\n",
    "    flow='kg/hr', T='degC', P='bar', # Change units of measure\n",
    "    composition=True, # Show as fractions\n",
    "    N=100, # Total number of components to show\n",
    ")"
   ]
  },
  {
   "cell_type": "markdown",
   "metadata": {},
   "source": [
    "We can make this the default through the [preferences](../API/preferences.txt) object:"
   ]
  },
  {
   "cell_type": "code",
   "execution_count": 2,
   "metadata": {},
   "outputs": [
    {
     "name": "stdout",
     "output_type": "stream",
     "text": [
      "Stream: sugarcane to <ConveyingBelt: U101>\n",
      " phase: 'l', T: 25 degC, P: 1.01325 bar\n",
      " composition (%): Water          70\n",
      "                  Glucose        1.21\n",
      "                  Sucrose        13.7\n",
      "                  Ash            0.6\n",
      "                  Cellulose      6.12\n",
      "                  Hemicellulose  3.61\n",
      "                  Lignin         3.28\n",
      "                  Solids         1.5\n",
      "                  -------------  3.33e+05 kg/hr\n"
     ]
    }
   ],
   "source": [
    "import biosteam as bst\n",
    "bst.preferences.update(flow='kg/hr', T='degC', P='bar', N=100, composition=True)\n",
    "sc.sugarcane.show() # Notice how the default style has been updated"
   ]
  },
  {
   "cell_type": "markdown",
   "metadata": {},
   "source": [
    "We can save preferences to not have to update it in later sessions (it will autoload when you restart Python):"
   ]
  },
  {
   "cell_type": "code",
   "execution_count": 3,
   "metadata": {},
   "outputs": [],
   "source": [
    "# bst.preferences.save()"
   ]
  },
  {
   "cell_type": "markdown",
   "metadata": {},
   "source": [
    "We can also reset all preferences back to the default:"
   ]
  },
  {
   "cell_type": "code",
   "execution_count": 4,
   "metadata": {
    "tags": [
     "nbval-ingore-output"
    ]
   },
   "outputs": [
    {
     "name": "stdout",
     "output_type": "stream",
     "text": [
      "Stream: sugarcane to <ConveyingBelt: U101>\n",
      " phase: 'l', T: 298.15 K, P: 101325 Pa\n",
      " flow (kmol/hr): Water          1.3e+04\n",
      "                 Glucose        22.4\n",
      "                 Sucrose        133\n",
      "                 Ash            2e+03\n",
      "                 Cellulose      126\n",
      "                 Hemicellulose  91\n",
      "                 Lignin         71.8\n",
      "                 ...            5e+03\n"
     ]
    }
   ],
   "source": [
    "bst.preferences.reset()\n",
    "sc.sugarcane.show() # Notice how the default style has been reset"
   ]
  },
  {
   "cell_type": "markdown",
   "metadata": {},
   "source": [
    "### Diagram display preferences"
   ]
  },
  {
   "cell_type": "markdown",
   "metadata": {},
   "source": [
    "To view full output in material flow rates and unit operation results in diagrams when you hover the mouse:"
   ]
  },
  {
   "cell_type": "code",
   "execution_count": 5,
   "metadata": {
    "tags": [
     "nbval-ingore-output"
    ]
   },
   "outputs": [
    {
     "data": {
      "text/html": [
       "\n",
       "        <iframe\n",
       "            width=\"100%\"\n",
       "            height=\"400px\"\n",
       "            src=\"data:text/html;charset=utf-8,%3C%21DOCTYPE%20html%3E%3Chtml%3E%3Chead%3E%3Clink%20rel%3D%22stylesheet%22%20href%3D%22https%3A//unpkg.com/tippy.js%406.3.7/themes/translucent.css%22%3E%3Clink%20rel%3D%22stylesheet%22%20href%3D%22https%3A//rawcdn.githack.com/BioSTEAMDevelopmentGroup/biosteam/e065aca079c216d72b75949bbcbb74a3bbddb75d/biosteam/digraph/digraph.css%22%3E%3Cscript%20src%3D%22https%3A//unpkg.com/%40popperjs/core%402%22%3E%3C/script%3E%3Cscript%20src%3D%22https%3A//unpkg.com/tippy.js%406%22%3E%3C/script%3E%3Cscript%20src%3D%22https%3A//rawcdn.githack.com/BioSTEAMDevelopmentGroup/biosteam/e065aca079c216d72b75949bbcbb74a3bbddb75d/biosteam/digraph/digraph.js%22%3E%3C/script%3E%3C/head%3E%3Cbody%3E%3Csvg%20width%3D%22251pt%22%20height%3D%22140pt%22%20viewBox%3D%220.00%200.00%20251.00%20140.21%22%3E%0A%3Cg%20id%3D%22graph0%22%20class%3D%22graph%22%20transform%3D%22scale%281%201%29%20rotate%280%29%20translate%284%20136.21%29%22%3E%0A%0A%3Cg%20id%3D%22edge2%22%20class%3D%22edge%22%20data-tippy-content%3D%22%3Ctable%20border%3D%26quot%3B1%26quot%3B%20class%3D%26quot%3Bdataframe%26quot%3B%26gt%3B%3Cthead%26gt%3B%3Ctr%20style%3D%26quot%3Btext-align%3A%20unset%3B%26quot%3B%26gt%3B%3Cth%26gt%3B%3C/th%26gt%3B%3Cth%26gt%3B%3C/th%26gt%3B%3Cth%26gt%3Bs35%3C/th%26gt%3B%3C/tr%26gt%3B%3C/thead%26gt%3B%3Ctbody%26gt%3B%3Ctr%26gt%3B%3Cth%26gt%3BTemperature%20%5BK%5D%3C/th%26gt%3B%3Cth%26gt%3B%3C/th%26gt%3B%3Ctd%26gt%3B385%3C/td%26gt%3B%3C/tr%26gt%3B%3Ctr%26gt%3B%3Cth%26gt%3BPressure%20%5BPa%5D%3C/th%26gt%3B%3Cth%26gt%3B%3C/th%26gt%3B%3Ctd%26gt%3B202650%3C/td%26gt%3B%3C/tr%26gt%3B%3Ctr%26gt%3B%3Cth%20rowspan%3D%26quot%3B2%26quot%3B%20valign%3D%26quot%3Btop%26quot%3B%26gt%3BGas%20%5Bkmol/hr%5D%3C/th%26gt%3B%3Cth%26gt%3BWater%3C/th%26gt%3B%3Ctd%26gt%3B1.26e%2B03%3C/td%26gt%3B%3C/tr%26gt%3B%3Ctr%26gt%3B%3Cth%26gt%3BEthanol%3C/th%26gt%3B%3Ctd%26gt%3B491%3C/td%26gt%3B%3C/tr%26gt%3B%3C/tbody%26gt%3B%3C/table%26gt%3B%22%3E%0A%3Cpath%20fill%3D%22none%22%20stroke%3D%22%2390918e%22%20d%3D%22M121.5%2C-110.1C121.5%2C-159.88%20183.72%2C-109.1%20233.5%2C-109.1%22%3E%3C/path%3E%0A%3Cg%20id%3D%22a_edge2-label%22%3E%3Ca%20title%3D%22%20%3Ctable%20border%3D%26quot%3B1%26quot%3B%20class%3D%26quot%3Bdataframe%26quot%3B%26gt%3B%3Cthead%26gt%3B%3Ctr%20style%3D%26quot%3Btext-align%3A%20unset%3B%26quot%3B%26gt%3B%3Cth%26gt%3B%3C/th%26gt%3B%3Cth%26gt%3B%3C/th%26gt%3B%3Cth%26gt%3Bs35%3C/th%26gt%3B%3C/tr%26gt%3B%3C/thead%26gt%3B%3Ctbody%26gt%3B%3Ctr%26gt%3B%3Cth%26gt%3BTemperature%20%5BK%5D%3C/th%26gt%3B%3Cth%26gt%3B%3C/th%26gt%3B%3Ctd%26gt%3B385%3C/td%26gt%3B%3C/tr%26gt%3B%3Ctr%26gt%3B%3Cth%26gt%3BPressure%20%5BPa%5D%3C/th%26gt%3B%3Cth%26gt%3B%3C/th%26gt%3B%3Ctd%26gt%3B202650%3C/td%26gt%3B%3C/tr%26gt%3B%3Ctr%26gt%3B%3Cth%20rowspan%3D%26quot%3B2%26quot%3B%20valign%3D%26quot%3Btop%26quot%3B%26gt%3BGas%20%5Bkmol/hr%5D%3C/th%26gt%3B%3Cth%26gt%3BWater%3C/th%26gt%3B%3Ctd%26gt%3B1.26e%2B03%3C/td%26gt%3B%3C/tr%26gt%3B%3Ctr%26gt%3B%3Cth%26gt%3BEthanol%3C/th%26gt%3B%3Ctd%26gt%3B491%3C/td%26gt%3B%3C/tr%26gt%3B%3C/tbody%26gt%3B%3C/table%26gt%3B%22%3E%0A%3Ctext%20text-anchor%3D%22middle%22%20x%3D%22210%22%20y%3D%22-118.9%22%20font-family%3D%22Arial%22%20font-size%3D%2214.00%22%20fill%3D%22%2390918e%22%3E%20s35%3C/text%3E%0A%3C/a%3E%0A%3C/g%3E%0A%3C/g%3E%0A%0A%3Cg%20id%3D%22edge3%22%20class%3D%22edge%22%20data-tippy-content%3D%22%3Ctable%20border%3D%26quot%3B1%26quot%3B%20class%3D%26quot%3Bdataframe%26quot%3B%26gt%3B%3Cthead%26gt%3B%3Ctr%20style%3D%26quot%3Btext-align%3A%20unset%3B%26quot%3B%26gt%3B%3Cth%26gt%3B%3C/th%26gt%3B%3Cth%26gt%3B%3C/th%26gt%3B%3Cth%26gt%3Bs37%3C/th%26gt%3B%3C/tr%26gt%3B%3C/thead%26gt%3B%3Ctbody%26gt%3B%3Ctr%26gt%3B%3Cth%26gt%3BTemperature%20%5BK%5D%3C/th%26gt%3B%3Cth%26gt%3B%3C/th%26gt%3B%3Ctd%26gt%3B394%3C/td%26gt%3B%3C/tr%26gt%3B%3Ctr%26gt%3B%3Cth%26gt%3BPressure%20%5BPa%5D%3C/th%26gt%3B%3Cth%26gt%3B%3C/th%26gt%3B%3Ctd%26gt%3B202650%3C/td%26gt%3B%3C/tr%26gt%3B%3Ctr%26gt%3B%3Cth%20rowspan%3D%26quot%3B5%26quot%3B%20valign%3D%26quot%3Btop%26quot%3B%26gt%3BLiquid%20%5Bkmol/hr%5D%3C/th%26gt%3B%3Cth%26gt%3BWater%3C/th%26gt%3B%3Ctd%26gt%3B8.87e%2B03%3C/td%26gt%3B%3C/tr%26gt%3B%3Ctr%26gt%3B%3Cth%26gt%3BEthanol%3C/th%26gt%3B%3Ctd%26gt%3B0.0347%3C/td%26gt%3B%3C/tr%26gt%3B%3Ctr%26gt%3B%3Cth%26gt%3BGlucose%3C/th%26gt%3B%3Ctd%26gt%3B8.1%3C/td%26gt%3B%3C/tr%26gt%3B%3Ctr%26gt%3B%3Cth%26gt%3BH3PO4%3C/th%26gt%3B%3Ctd%26gt%3B0.364%3C/td%26gt%3B%3C/tr%26gt%3B%3Ctr%26gt%3B%3Cth%26gt%3BYeast%3C/th%26gt%3B%3Ctd%26gt%3B1.66%3C/td%26gt%3B%3C/tr%26gt%3B%3C/tbody%26gt%3B%3C/table%26gt%3B%22%3E%0A%3Cpath%20fill%3D%22none%22%20stroke%3D%22%2390918e%22%20stroke-width%3D%221.6%22%20d%3D%22M121.5%2C-22.1C121.5%2C27.68%20183.72%2C-23.1%20233.5%2C-23.1%22%3E%3C/path%3E%0A%3Cg%20id%3D%22a_edge3-label%22%3E%3Ca%20title%3D%22%20%3Ctable%20border%3D%26quot%3B1%26quot%3B%20class%3D%26quot%3Bdataframe%26quot%3B%26gt%3B%3Cthead%26gt%3B%3Ctr%20style%3D%26quot%3Btext-align%3A%20unset%3B%26quot%3B%26gt%3B%3Cth%26gt%3B%3C/th%26gt%3B%3Cth%26gt%3B%3C/th%26gt%3B%3Cth%26gt%3Bs37%3C/th%26gt%3B%3C/tr%26gt%3B%3C/thead%26gt%3B%3Ctbody%26gt%3B%3Ctr%26gt%3B%3Cth%26gt%3BTemperature%20%5BK%5D%3C/th%26gt%3B%3Cth%26gt%3B%3C/th%26gt%3B%3Ctd%26gt%3B394%3C/td%26gt%3B%3C/tr%26gt%3B%3Ctr%26gt%3B%3Cth%26gt%3BPressure%20%5BPa%5D%3C/th%26gt%3B%3Cth%26gt%3B%3C/th%26gt%3B%3Ctd%26gt%3B202650%3C/td%26gt%3B%3C/tr%26gt%3B%3Ctr%26gt%3B%3Cth%20rowspan%3D%26quot%3B5%26quot%3B%20valign%3D%26quot%3Btop%26quot%3B%26gt%3BLiquid%20%5Bkmol/hr%5D%3C/th%26gt%3B%3Cth%26gt%3BWater%3C/th%26gt%3B%3Ctd%26gt%3B8.87e%2B03%3C/td%26gt%3B%3C/tr%26gt%3B%3Ctr%26gt%3B%3Cth%26gt%3BEthanol%3C/th%26gt%3B%3Ctd%26gt%3B0.0347%3C/td%26gt%3B%3C/tr%26gt%3B%3Ctr%26gt%3B%3Cth%26gt%3BGlucose%3C/th%26gt%3B%3Ctd%26gt%3B8.1%3C/td%26gt%3B%3C/tr%26gt%3B%3Ctr%26gt%3B%3Cth%26gt%3BH3PO4%3C/th%26gt%3B%3Ctd%26gt%3B0.364%3C/td%26gt%3B%3C/tr%26gt%3B%3Ctr%26gt%3B%3Cth%26gt%3BYeast%3C/th%26gt%3B%3Ctd%26gt%3B1.66%3C/td%26gt%3B%3C/tr%26gt%3B%3C/tbody%26gt%3B%3C/table%26gt%3B%22%3E%0A%3Ctext%20text-anchor%3D%22middle%22%20x%3D%22210%22%20y%3D%22-26.9%22%20font-family%3D%22Arial%22%20font-size%3D%2214.00%22%20fill%3D%22%2390918e%22%3E%20s37%3C/text%3E%0A%3C/a%3E%0A%3C/g%3E%0A%3C/g%3E%0A%0A%3Cg%20id%3D%22edge1%22%20class%3D%22edge%22%20data-tippy-content%3D%22%3Ctable%20border%3D%26quot%3B1%26quot%3B%20class%3D%26quot%3Bdataframe%26quot%3B%26gt%3B%3Cthead%26gt%3B%3Ctr%20style%3D%26quot%3Btext-align%3A%20unset%3B%26quot%3B%26gt%3B%3Cth%26gt%3B%3C/th%26gt%3B%3Cth%26gt%3B%3C/th%26gt%3B%3Cth%26gt%3Bs39%3C/th%26gt%3B%3C/tr%26gt%3B%3C/thead%26gt%3B%3Ctbody%26gt%3B%3Ctr%26gt%3B%3Cth%26gt%3BTemperature%20%5BK%5D%3C/th%26gt%3B%3Cth%26gt%3B%3C/th%26gt%3B%3Ctd%26gt%3B373%3C/td%26gt%3B%3C/tr%26gt%3B%3Ctr%26gt%3B%3Cth%26gt%3BPressure%20%5BPa%5D%3C/th%26gt%3B%3Cth%26gt%3B%3C/th%26gt%3B%3Ctd%26gt%3B202650%3C/td%26gt%3B%3C/tr%26gt%3B%3Ctr%26gt%3B%3Cth%20rowspan%3D%26quot%3B5%26quot%3B%20valign%3D%26quot%3Btop%26quot%3B%26gt%3BLiquid%20%5Bkmol/hr%5D%3C/th%26gt%3B%3Cth%26gt%3BWater%3C/th%26gt%3B%3Ctd%26gt%3B1.01e%2B04%3C/td%26gt%3B%3C/tr%26gt%3B%3Ctr%26gt%3B%3Cth%26gt%3BEthanol%3C/th%26gt%3B%3Ctd%26gt%3B491%3C/td%26gt%3B%3C/tr%26gt%3B%3Ctr%26gt%3B%3Cth%26gt%3BGlucose%3C/th%26gt%3B%3Ctd%26gt%3B8.1%3C/td%26gt%3B%3C/tr%26gt%3B%3Ctr%26gt%3B%3Cth%26gt%3BH3PO4%3C/th%26gt%3B%3Ctd%26gt%3B0.364%3C/td%26gt%3B%3C/tr%26gt%3B%3Ctr%26gt%3B%3Cth%26gt%3BYeast%3C/th%26gt%3B%3Ctd%26gt%3B1.66%3C/td%26gt%3B%3C/tr%26gt%3B%3C/tbody%26gt%3B%3C/table%26gt%3B%22%3E%0A%3Cpath%20fill%3D%22none%22%20stroke%3D%22%2390918e%22%20stroke-width%3D%222.2%22%20d%3D%22M11%2C-66.1C25.16%2C-66.1%2040.36%2C-66.1%2054.78%2C-66.1%22%3E%3C/path%3E%0A%3Cg%20id%3D%22a_edge1-label%22%3E%3Ca%20title%3D%22%20%3Ctable%20border%3D%26quot%3B1%26quot%3B%20class%3D%26quot%3Bdataframe%26quot%3B%26gt%3B%3Cthead%26gt%3B%3Ctr%20style%3D%26quot%3Btext-align%3A%20unset%3B%26quot%3B%26gt%3B%3Cth%26gt%3B%3C/th%26gt%3B%3Cth%26gt%3B%3C/th%26gt%3B%3Cth%26gt%3Bs39%3C/th%26gt%3B%3C/tr%26gt%3B%3C/thead%26gt%3B%3Ctbody%26gt%3B%3Ctr%26gt%3B%3Cth%26gt%3BTemperature%20%5BK%5D%3C/th%26gt%3B%3Cth%26gt%3B%3C/th%26gt%3B%3Ctd%26gt%3B373%3C/td%26gt%3B%3C/tr%26gt%3B%3Ctr%26gt%3B%3Cth%26gt%3BPressure%20%5BPa%5D%3C/th%26gt%3B%3Cth%26gt%3B%3C/th%26gt%3B%3Ctd%26gt%3B202650%3C/td%26gt%3B%3C/tr%26gt%3B%3Ctr%26gt%3B%3Cth%20rowspan%3D%26quot%3B5%26quot%3B%20valign%3D%26quot%3Btop%26quot%3B%26gt%3BLiquid%20%5Bkmol/hr%5D%3C/th%26gt%3B%3Cth%26gt%3BWater%3C/th%26gt%3B%3Ctd%26gt%3B1.01e%2B04%3C/td%26gt%3B%3C/tr%26gt%3B%3Ctr%26gt%3B%3Cth%26gt%3BEthanol%3C/th%26gt%3B%3Ctd%26gt%3B491%3C/td%26gt%3B%3C/tr%26gt%3B%3Ctr%26gt%3B%3Cth%26gt%3BGlucose%3C/th%26gt%3B%3Ctd%26gt%3B8.1%3C/td%26gt%3B%3C/tr%26gt%3B%3Ctr%26gt%3B%3Cth%26gt%3BH3PO4%3C/th%26gt%3B%3Ctd%26gt%3B0.364%3C/td%26gt%3B%3C/tr%26gt%3B%3Ctr%26gt%3B%3Cth%26gt%3BYeast%3C/th%26gt%3B%3Ctd%26gt%3B1.66%3C/td%26gt%3B%3C/tr%26gt%3B%3C/tbody%26gt%3B%3C/table%26gt%3B%22%3E%0A%3Ctext%20text-anchor%3D%22middle%22%20x%3D%2233%22%20y%3D%22-69.9%22%20font-family%3D%22Arial%22%20font-size%3D%2214.00%22%20fill%3D%22%2390918e%22%3E%20s39%3C/text%3E%0A%3C/a%3E%0A%3C/g%3E%0A%3C/g%3E%0A%0A%3Cg%20id%3D%22node1%22%20class%3D%22node%22%20data-tippy-content%3D%22%3Ctable%20border%3D%26quot%3B1%26quot%3B%20class%3D%26quot%3Bdataframe%26quot%3B%26gt%3B%3Cthead%26gt%3B%3Ctr%20style%3D%26quot%3Btext-align%3A%20unset%3B%26quot%3B%26gt%3B%3Cth%26gt%3B%3C/th%26gt%3B%3Cth%26gt%3BDistillation%20Column%3C/th%26gt%3B%3Cth%26gt%3BUnits%3C/th%26gt%3B%3Cth%26gt%3BD302%3C/th%26gt%3B%3C/tr%26gt%3B%3C/thead%26gt%3B%3Ctbody%26gt%3B%3Ctr%26gt%3B%3Cth%20rowspan%3D%26quot%3B3%26quot%3B%20valign%3D%26quot%3Btop%26quot%3B%26gt%3BCooling%20water%3C/th%26gt%3B%3Cth%26gt%3BDuty%3C/th%26gt%3B%3Ctd%26gt%3BkJ/hr%3C/td%26gt%3B%3Ctd%26gt%3B-7.83e%2B04%3C/td%26gt%3B%3C/tr%26gt%3B%3Ctr%26gt%3B%3Cth%26gt%3BFlow%3C/th%26gt%3B%3Ctd%26gt%3Bkmol/hr%3C/td%26gt%3B%3Ctd%26gt%3B53.5%3C/td%26gt%3B%3C/tr%26gt%3B%3Ctr%26gt%3B%3Cth%26gt%3BCost%3C/th%26gt%3B%3Ctd%26gt%3BUSD/hr%3C/td%26gt%3B%3Ctd%26gt%3B0%3C/td%26gt%3B%3C/tr%26gt%3B%3Ctr%26gt%3B%3Cth%20rowspan%3D%26quot%3B3%26quot%3B%20valign%3D%26quot%3Btop%26quot%3B%26gt%3BLow%20pressure%20steam%3C/th%26gt%3B%3Cth%26gt%3BDuty%3C/th%26gt%3B%3Ctd%26gt%3BkJ/hr%3C/td%26gt%3B%3Ctd%26gt%3B9.48e%2B07%3C/td%26gt%3B%3C/tr%26gt%3B%3Ctr%26gt%3B%3Cth%26gt%3BFlow%3C/th%26gt%3B%3Ctd%26gt%3Bkmol/hr%3C/td%26gt%3B%3Ctd%26gt%3B3.14e%2B03%3C/td%26gt%3B%3C/tr%26gt%3B%3Ctr%26gt%3B%3Cth%26gt%3BCost%3C/th%26gt%3B%3Ctd%26gt%3BUSD/hr%3C/td%26gt%3B%3Ctd%26gt%3B960%3C/td%26gt%3B%3C/tr%26gt%3B%3Ctr%26gt%3B%3Cth%20rowspan%3D%26quot%3B9%26quot%3B%20valign%3D%26quot%3Btop%26quot%3B%26gt%3BDesign%3C/th%26gt%3B%3Cth%26gt%3BTheoretical%20feed%20stage%3C/th%26gt%3B%3Ctd%26gt%3B%3C/td%26gt%3B%3Ctd%26gt%3B1%3C/td%26gt%3B%3C/tr%26gt%3B%3Ctr%26gt%3B%3Cth%26gt%3BTheoretical%20stages%3C/th%26gt%3B%3Ctd%26gt%3B%3C/td%26gt%3B%3Ctd%26gt%3B14%3C/td%26gt%3B%3C/tr%26gt%3B%3Ctr%26gt%3B%3Cth%26gt%3BMinimum%20reflux%3C/th%26gt%3B%3Ctd%26gt%3BRatio%3C/td%26gt%3B%3Ctd%26gt%3B0.001%3C/td%26gt%3B%3C/tr%26gt%3B%3Ctr%26gt%3B%3Cth%26gt%3BReflux%3C/th%26gt%3B%3Ctd%26gt%3BRatio%3C/td%26gt%3B%3Ctd%26gt%3B0.0011%3C/td%26gt%3B%3C/tr%26gt%3B%3Ctr%26gt%3B%3Cth%26gt%3BActual%20stages%3C/th%26gt%3B%3Ctd%26gt%3B%3C/td%26gt%3B%3Ctd%26gt%3B36%3C/td%26gt%3B%3C/tr%26gt%3B%3Ctr%26gt%3B%3Cth%26gt%3BHeight%3C/th%26gt%3B%3Ctd%26gt%3Bft%3C/td%26gt%3B%3Ctd%26gt%3B64.2%3C/td%26gt%3B%3C/tr%26gt%3B%3Ctr%26gt%3B%3Cth%26gt%3BDiameter%3C/th%26gt%3B%3Ctd%26gt%3Bft%3C/td%26gt%3B%3Ctd%26gt%3B7.8%3C/td%26gt%3B%3C/tr%26gt%3B%3Ctr%26gt%3B%3Cth%26gt%3BWall%20thickness%3C/th%26gt%3B%3Ctd%26gt%3Bin%3C/td%26gt%3B%3Ctd%26gt%3B0.375%3C/td%26gt%3B%3C/tr%26gt%3B%3Ctr%26gt%3B%3Cth%26gt%3BWeight%3C/th%26gt%3B%3Ctd%26gt%3Blb%3C/td%26gt%3B%3Ctd%26gt%3B2.7e%2B04%3C/td%26gt%3B%3C/tr%26gt%3B%3Ctr%26gt%3B%3Cth%20rowspan%3D%26quot%3B5%26quot%3B%20valign%3D%26quot%3Btop%26quot%3B%26gt%3BPurchase%20cost%3C/th%26gt%3B%3Cth%26gt%3BCondenser%20-%20Double%20pipe%3C/th%26gt%3B%3Ctd%26gt%3BUSD%3C/td%26gt%3B%3Ctd%26gt%3B3.35e%2B03%3C/td%26gt%3B%3C/tr%26gt%3B%3Ctr%26gt%3B%3Cth%26gt%3BBoiler%20-%20Floating%20head%3C/th%26gt%3B%3Ctd%26gt%3BUSD%3C/td%26gt%3B%3Ctd%26gt%3B3.58e%2B04%3C/td%26gt%3B%3C/tr%26gt%3B%3Ctr%26gt%3B%3Cth%26gt%3BTrays%3C/th%26gt%3B%3Ctd%26gt%3BUSD%3C/td%26gt%3B%3Ctd%26gt%3B9.15e%2B04%3C/td%26gt%3B%3C/tr%26gt%3B%3Ctr%26gt%3B%3Cth%26gt%3BTower%3C/th%26gt%3B%3Ctd%26gt%3BUSD%3C/td%26gt%3B%3Ctd%26gt%3B2.1e%2B05%3C/td%26gt%3B%3C/tr%26gt%3B%3Ctr%26gt%3B%3Cth%26gt%3BPlatform%20and%20ladders%3C/th%26gt%3B%3Ctd%26gt%3BUSD%3C/td%26gt%3B%3Ctd%26gt%3B3.77e%2B04%3C/td%26gt%3B%3C/tr%26gt%3B%3Ctr%26gt%3B%3Cth%26gt%3BTotal%20purchase%20cost%3C/th%26gt%3B%3Cth%26gt%3B%3C/th%26gt%3B%3Ctd%26gt%3BUSD%3C/td%26gt%3B%3Ctd%26gt%3B3.79e%2B05%3C/td%26gt%3B%3C/tr%26gt%3B%3Ctr%26gt%3B%3Cth%26gt%3BInstalled%20equipment%20cost%3C/th%26gt%3B%3Cth%26gt%3B%3C/th%26gt%3B%3Ctd%26gt%3BUSD%3C/td%26gt%3B%3Ctd%26gt%3B1.04e%2B06%3C/td%26gt%3B%3C/tr%26gt%3B%3Ctr%26gt%3B%3Cth%26gt%3BUtility%20cost%3C/th%26gt%3B%3Cth%26gt%3B%3C/th%26gt%3B%3Ctd%26gt%3BUSD/hr%3C/td%26gt%3B%3Ctd%26gt%3B960%3C/td%26gt%3B%3C/tr%26gt%3B%3C/tbody%26gt%3B%3C/table%26gt%3B%22%3E%0A%3Cg%20id%3D%22a_node1%22%3E%3Ca%20title%3D%22%20%3Ctable%20border%3D%26quot%3B1%26quot%3B%20class%3D%26quot%3Bdataframe%26quot%3B%26gt%3B%3Cthead%26gt%3B%3Ctr%20style%3D%26quot%3Btext-align%3A%20unset%3B%26quot%3B%26gt%3B%3Cth%26gt%3B%3C/th%26gt%3B%3Cth%26gt%3BDistillation%20Column%3C/th%26gt%3B%3Cth%26gt%3BUnits%3C/th%26gt%3B%3Cth%26gt%3BD302%3C/th%26gt%3B%3C/tr%26gt%3B%3C/thead%26gt%3B%3Ctbody%26gt%3B%3Ctr%26gt%3B%3Cth%20rowspan%3D%26quot%3B3%26quot%3B%20valign%3D%26quot%3Btop%26quot%3B%26gt%3BCooling%20water%3C/th%26gt%3B%3Cth%26gt%3BDuty%3C/th%26gt%3B%3Ctd%26gt%3BkJ/hr%3C/td%26gt%3B%3Ctd%26gt%3B-7.83e%2B04%3C/td%26gt%3B%3C/tr%26gt%3B%3Ctr%26gt%3B%3Cth%26gt%3BFlow%3C/th%26gt%3B%3Ctd%26gt%3Bkmol/hr%3C/td%26gt%3B%3Ctd%26gt%3B53.5%3C/td%26gt%3B%3C/tr%26gt%3B%3Ctr%26gt%3B%3Cth%26gt%3BCost%3C/th%26gt%3B%3Ctd%26gt%3BUSD/hr%3C/td%26gt%3B%3Ctd%26gt%3B0%3C/td%26gt%3B%3C/tr%26gt%3B%3Ctr%26gt%3B%3Cth%20rowspan%3D%26quot%3B3%26quot%3B%20valign%3D%26quot%3Btop%26quot%3B%26gt%3BLow%20pressure%20steam%3C/th%26gt%3B%3Cth%26gt%3BDuty%3C/th%26gt%3B%3Ctd%26gt%3BkJ/hr%3C/td%26gt%3B%3Ctd%26gt%3B9.48e%2B07%3C/td%26gt%3B%3C/tr%26gt%3B%3Ctr%26gt%3B%3Cth%26gt%3BFlow%3C/th%26gt%3B%3Ctd%26gt%3Bkmol/hr%3C/td%26gt%3B%3Ctd%26gt%3B3.14e%2B03%3C/td%26gt%3B%3C/tr%26gt%3B%3Ctr%26gt%3B%3Cth%26gt%3BCost%3C/th%26gt%3B%3Ctd%26gt%3BUSD/hr%3C/td%26gt%3B%3Ctd%26gt%3B960%3C/td%26gt%3B%3C/tr%26gt%3B%3Ctr%26gt%3B%3Cth%20rowspan%3D%26quot%3B9%26quot%3B%20valign%3D%26quot%3Btop%26quot%3B%26gt%3BDesign%3C/th%26gt%3B%3Cth%26gt%3BTheoretical%20feed%20stage%3C/th%26gt%3B%3Ctd%26gt%3B%3C/td%26gt%3B%3Ctd%26gt%3B1%3C/td%26gt%3B%3C/tr%26gt%3B%3Ctr%26gt%3B%3Cth%26gt%3BTheoretical%20stages%3C/th%26gt%3B%3Ctd%26gt%3B%3C/td%26gt%3B%3Ctd%26gt%3B14%3C/td%26gt%3B%3C/tr%26gt%3B%3Ctr%26gt%3B%3Cth%26gt%3BMinimum%20reflux%3C/th%26gt%3B%3Ctd%26gt%3BRatio%3C/td%26gt%3B%3Ctd%26gt%3B0.001%3C/td%26gt%3B%3C/tr%26gt%3B%3Ctr%26gt%3B%3Cth%26gt%3BReflux%3C/th%26gt%3B%3Ctd%26gt%3BRatio%3C/td%26gt%3B%3Ctd%26gt%3B0.0011%3C/td%26gt%3B%3C/tr%26gt%3B%3Ctr%26gt%3B%3Cth%26gt%3BActual%20stages%3C/th%26gt%3B%3Ctd%26gt%3B%3C/td%26gt%3B%3Ctd%26gt%3B36%3C/td%26gt%3B%3C/tr%26gt%3B%3Ctr%26gt%3B%3Cth%26gt%3BHeight%3C/th%26gt%3B%3Ctd%26gt%3Bft%3C/td%26gt%3B%3Ctd%26gt%3B64.2%3C/td%26gt%3B%3C/tr%26gt%3B%3Ctr%26gt%3B%3Cth%26gt%3BDiameter%3C/th%26gt%3B%3Ctd%26gt%3Bft%3C/td%26gt%3B%3Ctd%26gt%3B7.8%3C/td%26gt%3B%3C/tr%26gt%3B%3Ctr%26gt%3B%3Cth%26gt%3BWall%20thickness%3C/th%26gt%3B%3Ctd%26gt%3Bin%3C/td%26gt%3B%3Ctd%26gt%3B0.375%3C/td%26gt%3B%3C/tr%26gt%3B%3Ctr%26gt%3B%3Cth%26gt%3BWeight%3C/th%26gt%3B%3Ctd%26gt%3Blb%3C/td%26gt%3B%3Ctd%26gt%3B2.7e%2B04%3C/td%26gt%3B%3C/tr%26gt%3B%3Ctr%26gt%3B%3Cth%20rowspan%3D%26quot%3B5%26quot%3B%20valign%3D%26quot%3Btop%26quot%3B%26gt%3BPurchase%20cost%3C/th%26gt%3B%3Cth%26gt%3BCondenser%20-%20Double%20pipe%3C/th%26gt%3B%3Ctd%26gt%3BUSD%3C/td%26gt%3B%3Ctd%26gt%3B3.35e%2B03%3C/td%26gt%3B%3C/tr%26gt%3B%3Ctr%26gt%3B%3Cth%26gt%3BBoiler%20-%20Floating%20head%3C/th%26gt%3B%3Ctd%26gt%3BUSD%3C/td%26gt%3B%3Ctd%26gt%3B3.58e%2B04%3C/td%26gt%3B%3C/tr%26gt%3B%3Ctr%26gt%3B%3Cth%26gt%3BTrays%3C/th%26gt%3B%3Ctd%26gt%3BUSD%3C/td%26gt%3B%3Ctd%26gt%3B9.15e%2B04%3C/td%26gt%3B%3C/tr%26gt%3B%3Ctr%26gt%3B%3Cth%26gt%3BTower%3C/th%26gt%3B%3Ctd%26gt%3BUSD%3C/td%26gt%3B%3Ctd%26gt%3B2.1e%2B05%3C/td%26gt%3B%3C/tr%26gt%3B%3Ctr%26gt%3B%3Cth%26gt%3BPlatform%20and%20ladders%3C/th%26gt%3B%3Ctd%26gt%3BUSD%3C/td%26gt%3B%3Ctd%26gt%3B3.77e%2B04%3C/td%26gt%3B%3C/tr%26gt%3B%3Ctr%26gt%3B%3Cth%26gt%3BTotal%20purchase%20cost%3C/th%26gt%3B%3Cth%26gt%3B%3C/th%26gt%3B%3Ctd%26gt%3BUSD%3C/td%26gt%3B%3Ctd%26gt%3B3.79e%2B05%3C/td%26gt%3B%3C/tr%26gt%3B%3Ctr%26gt%3B%3Cth%26gt%3BInstalled%20equipment%20cost%3C/th%26gt%3B%3Cth%26gt%3B%3C/th%26gt%3B%3Ctd%26gt%3BUSD%3C/td%26gt%3B%3Ctd%26gt%3B1.04e%2B06%3C/td%26gt%3B%3C/tr%26gt%3B%3Ctr%26gt%3B%3Cth%26gt%3BUtility%20cost%3C/th%26gt%3B%3Cth%26gt%3B%3C/th%26gt%3B%3Ctd%26gt%3BUSD/hr%3C/td%26gt%3B%3Ctd%26gt%3B960%3C/td%26gt%3B%3C/tr%26gt%3B%3C/tbody%26gt%3B%3C/table%26gt%3B%22%3E%0A%3Cpolygon%20fill%3D%22%23555f69%22%20stroke%3D%22%2390918e%22%20points%3D%22188%2C-109.1%2055%2C-109.1%2055%2C-23.1%20188%2C-23.1%20188%2C-109.1%22%3E%3C/polygon%3E%0A%3Ctext%20text-anchor%3D%22middle%22%20x%3D%22121.5%22%20y%3D%22-69.9%22%20font-family%3D%22Arial%22%20font-size%3D%2214.00%22%20fill%3D%22white%22%3ED302%3C/text%3E%0A%3Ctext%20text-anchor%3D%22middle%22%20x%3D%22121.5%22%20y%3D%22-54.9%22%20font-family%3D%22Arial%22%20font-size%3D%2214.00%22%20fill%3D%22white%22%3EDistillation%20Column%3C/text%3E%0A%3C/a%3E%0A%3C/g%3E%0A%3C/g%3E%0A%0A%3Cg%20id%3D%22node2%22%20class%3D%22node%22%20data-tippy-content%3D%22s39%22%3E%0A%3Cpolygon%20fill%3D%22%23f98f60%22%20stroke%3D%22%2390918e%22%20points%3D%225.5%2C-71.6%200%2C-66.1%205.5%2C-60.6%2011%2C-66.1%205.5%2C-71.6%22%3E%3C/polygon%3E%0A%3C/g%3E%0A%0A%3Cg%20id%3D%22node3%22%20class%3D%22node%22%20data-tippy-content%3D%22s35%22%3E%0A%3Cpolygon%20fill%3D%22%23f98f60%22%20stroke%3D%22%2390918e%22%20points%3D%22243%2C-109.1%20234.75%2C-116.1%20234.75%2C-102.1%20243%2C-109.1%22%3E%3C/polygon%3E%0A%3C/g%3E%0A%0A%3Cg%20id%3D%22node4%22%20class%3D%22node%22%20data-tippy-content%3D%22s37%22%3E%0A%3Cpolygon%20fill%3D%22%23f98f60%22%20stroke%3D%22%2390918e%22%20points%3D%22243%2C-23.1%20234.75%2C-30.1%20234.75%2C-16.1%20243%2C-23.1%22%3E%3C/polygon%3E%0A%3C/g%3E%0A%3C/g%3E%0A%3C/svg%3E%3C/body%3E%3C/html%3E\"\n",
       "            frameborder=\"0\"\n",
       "            allowfullscreen\n",
       "            allowtransparency=\"true\"\n",
       "        ></iframe>\n",
       "        "
      ],
      "text/plain": [
       "<IPython.lib.display.IFrame at 0x16510f466a0>"
      ]
     },
     "metadata": {},
     "output_type": "display_data"
    }
   ],
   "source": [
    "bst.preferences.tooltips_full_results = True\n",
    "bst.preferences.graphviz_format = 'html' # IMPORTANT: Full output only works with html format\n",
    "sc.D302.diagram()"
   ]
  },
  {
   "cell_type": "markdown",
   "metadata": {},
   "source": [
    "There are many options related to diagrams available in [preferences](../API/preferences.txt), including the display background and stream colors. Feel free to make changes and save them too! Here are a few preselected display options that you might like: "
   ]
  },
  {
   "cell_type": "code",
   "execution_count": 6,
   "metadata": {
    "scrolled": true,
    "tags": [
     "nbval-ignore-output"
    ]
   },
   "outputs": [
    {
     "data": {
      "text/html": [
       "\n",
       "        <iframe\n",
       "            width=\"100%\"\n",
       "            height=\"400px\"\n",
       "            src=\"data:text/html;charset=utf-8,%3C%21DOCTYPE%20html%3E%3Chtml%3E%3Chead%3E%3Clink%20rel%3D%22stylesheet%22%20href%3D%22https%3A//unpkg.com/tippy.js%406.3.7/themes/translucent.css%22%3E%3Clink%20rel%3D%22stylesheet%22%20href%3D%22https%3A//rawcdn.githack.com/BioSTEAMDevelopmentGroup/biosteam/e065aca079c216d72b75949bbcbb74a3bbddb75d/biosteam/digraph/digraph.css%22%3E%3Cscript%20src%3D%22https%3A//unpkg.com/%40popperjs/core%402%22%3E%3C/script%3E%3Cscript%20src%3D%22https%3A//unpkg.com/tippy.js%406%22%3E%3C/script%3E%3Cscript%20src%3D%22https%3A//rawcdn.githack.com/BioSTEAMDevelopmentGroup/biosteam/e065aca079c216d72b75949bbcbb74a3bbddb75d/biosteam/digraph/digraph.js%22%3E%3C/script%3E%3C/head%3E%3Cbody%3E%3Csvg%20width%3D%22251pt%22%20height%3D%22140pt%22%20viewBox%3D%220.00%200.00%20251.00%20140.21%22%3E%0A%3Cg%20id%3D%22graph0%22%20class%3D%22graph%22%20transform%3D%22scale%281%201%29%20rotate%280%29%20translate%284%20136.21%29%22%3E%0A%3Cpolygon%20fill%3D%22%23ffffff%22%20stroke%3D%22transparent%22%20points%3D%22-4%2C4%20-4%2C-136.21%20247%2C-136.21%20247%2C4%20-4%2C4%22%3E%3C/polygon%3E%0A%0A%3Cg%20id%3D%22edge2%22%20class%3D%22edge%22%20data-tippy-content%3D%22%3Ctable%20border%3D%26quot%3B1%26quot%3B%20class%3D%26quot%3Bdataframe%26quot%3B%26gt%3B%3Cthead%26gt%3B%3Ctr%20style%3D%26quot%3Btext-align%3A%20unset%3B%26quot%3B%26gt%3B%3Cth%26gt%3B%3C/th%26gt%3B%3Cth%26gt%3B%3C/th%26gt%3B%3Cth%26gt%3Bs35%3C/th%26gt%3B%3C/tr%26gt%3B%3C/thead%26gt%3B%3Ctbody%26gt%3B%3Ctr%26gt%3B%3Cth%26gt%3BTemperature%20%5BK%5D%3C/th%26gt%3B%3Cth%26gt%3B%3C/th%26gt%3B%3Ctd%26gt%3B385%3C/td%26gt%3B%3C/tr%26gt%3B%3Ctr%26gt%3B%3Cth%26gt%3BPressure%20%5BPa%5D%3C/th%26gt%3B%3Cth%26gt%3B%3C/th%26gt%3B%3Ctd%26gt%3B202650%3C/td%26gt%3B%3C/tr%26gt%3B%3Ctr%26gt%3B%3Cth%20rowspan%3D%26quot%3B2%26quot%3B%20valign%3D%26quot%3Btop%26quot%3B%26gt%3BGas%20%5Bkmol/hr%5D%3C/th%26gt%3B%3Cth%26gt%3BWater%3C/th%26gt%3B%3Ctd%26gt%3B1.26e%2B03%3C/td%26gt%3B%3C/tr%26gt%3B%3Ctr%26gt%3B%3Cth%26gt%3BEthanol%3C/th%26gt%3B%3Ctd%26gt%3B491%3C/td%26gt%3B%3C/tr%26gt%3B%3C/tbody%26gt%3B%3C/table%26gt%3B%22%3E%0A%3Cpath%20fill%3D%22none%22%20stroke%3D%22%234e4e4e%22%20d%3D%22M121.5%2C-110.1C121.5%2C-159.88%20183.72%2C-109.1%20233.5%2C-109.1%22%3E%3C/path%3E%0A%3Cg%20id%3D%22a_edge2-label%22%3E%3Ca%20title%3D%22%20%3Ctable%20border%3D%26quot%3B1%26quot%3B%20class%3D%26quot%3Bdataframe%26quot%3B%26gt%3B%3Cthead%26gt%3B%3Ctr%20style%3D%26quot%3Btext-align%3A%20unset%3B%26quot%3B%26gt%3B%3Cth%26gt%3B%3C/th%26gt%3B%3Cth%26gt%3B%3C/th%26gt%3B%3Cth%26gt%3Bs35%3C/th%26gt%3B%3C/tr%26gt%3B%3C/thead%26gt%3B%3Ctbody%26gt%3B%3Ctr%26gt%3B%3Cth%26gt%3BTemperature%20%5BK%5D%3C/th%26gt%3B%3Cth%26gt%3B%3C/th%26gt%3B%3Ctd%26gt%3B385%3C/td%26gt%3B%3C/tr%26gt%3B%3Ctr%26gt%3B%3Cth%26gt%3BPressure%20%5BPa%5D%3C/th%26gt%3B%3Cth%26gt%3B%3C/th%26gt%3B%3Ctd%26gt%3B202650%3C/td%26gt%3B%3C/tr%26gt%3B%3Ctr%26gt%3B%3Cth%20rowspan%3D%26quot%3B2%26quot%3B%20valign%3D%26quot%3Btop%26quot%3B%26gt%3BGas%20%5Bkmol/hr%5D%3C/th%26gt%3B%3Cth%26gt%3BWater%3C/th%26gt%3B%3Ctd%26gt%3B1.26e%2B03%3C/td%26gt%3B%3C/tr%26gt%3B%3Ctr%26gt%3B%3Cth%26gt%3BEthanol%3C/th%26gt%3B%3Ctd%26gt%3B491%3C/td%26gt%3B%3C/tr%26gt%3B%3C/tbody%26gt%3B%3C/table%26gt%3B%22%3E%0A%3Ctext%20text-anchor%3D%22middle%22%20x%3D%22210%22%20y%3D%22-118.9%22%20font-family%3D%22Arial%22%20font-size%3D%2214.00%22%20fill%3D%22%234e4e4e%22%3E%20s35%3C/text%3E%0A%3C/a%3E%0A%3C/g%3E%0A%3C/g%3E%0A%0A%3Cg%20id%3D%22edge3%22%20class%3D%22edge%22%20data-tippy-content%3D%22%3Ctable%20border%3D%26quot%3B1%26quot%3B%20class%3D%26quot%3Bdataframe%26quot%3B%26gt%3B%3Cthead%26gt%3B%3Ctr%20style%3D%26quot%3Btext-align%3A%20unset%3B%26quot%3B%26gt%3B%3Cth%26gt%3B%3C/th%26gt%3B%3Cth%26gt%3B%3C/th%26gt%3B%3Cth%26gt%3Bs37%3C/th%26gt%3B%3C/tr%26gt%3B%3C/thead%26gt%3B%3Ctbody%26gt%3B%3Ctr%26gt%3B%3Cth%26gt%3BTemperature%20%5BK%5D%3C/th%26gt%3B%3Cth%26gt%3B%3C/th%26gt%3B%3Ctd%26gt%3B394%3C/td%26gt%3B%3C/tr%26gt%3B%3Ctr%26gt%3B%3Cth%26gt%3BPressure%20%5BPa%5D%3C/th%26gt%3B%3Cth%26gt%3B%3C/th%26gt%3B%3Ctd%26gt%3B202650%3C/td%26gt%3B%3C/tr%26gt%3B%3Ctr%26gt%3B%3Cth%20rowspan%3D%26quot%3B5%26quot%3B%20valign%3D%26quot%3Btop%26quot%3B%26gt%3BLiquid%20%5Bkmol/hr%5D%3C/th%26gt%3B%3Cth%26gt%3BWater%3C/th%26gt%3B%3Ctd%26gt%3B8.87e%2B03%3C/td%26gt%3B%3C/tr%26gt%3B%3Ctr%26gt%3B%3Cth%26gt%3BEthanol%3C/th%26gt%3B%3Ctd%26gt%3B0.0347%3C/td%26gt%3B%3C/tr%26gt%3B%3Ctr%26gt%3B%3Cth%26gt%3BGlucose%3C/th%26gt%3B%3Ctd%26gt%3B8.1%3C/td%26gt%3B%3C/tr%26gt%3B%3Ctr%26gt%3B%3Cth%26gt%3BH3PO4%3C/th%26gt%3B%3Ctd%26gt%3B0.364%3C/td%26gt%3B%3C/tr%26gt%3B%3Ctr%26gt%3B%3Cth%26gt%3BYeast%3C/th%26gt%3B%3Ctd%26gt%3B1.66%3C/td%26gt%3B%3C/tr%26gt%3B%3C/tbody%26gt%3B%3C/table%26gt%3B%22%3E%0A%3Cpath%20fill%3D%22none%22%20stroke%3D%22%234e4e4e%22%20stroke-width%3D%221.6%22%20d%3D%22M121.5%2C-22.1C121.5%2C27.68%20183.72%2C-23.1%20233.5%2C-23.1%22%3E%3C/path%3E%0A%3Cg%20id%3D%22a_edge3-label%22%3E%3Ca%20title%3D%22%20%3Ctable%20border%3D%26quot%3B1%26quot%3B%20class%3D%26quot%3Bdataframe%26quot%3B%26gt%3B%3Cthead%26gt%3B%3Ctr%20style%3D%26quot%3Btext-align%3A%20unset%3B%26quot%3B%26gt%3B%3Cth%26gt%3B%3C/th%26gt%3B%3Cth%26gt%3B%3C/th%26gt%3B%3Cth%26gt%3Bs37%3C/th%26gt%3B%3C/tr%26gt%3B%3C/thead%26gt%3B%3Ctbody%26gt%3B%3Ctr%26gt%3B%3Cth%26gt%3BTemperature%20%5BK%5D%3C/th%26gt%3B%3Cth%26gt%3B%3C/th%26gt%3B%3Ctd%26gt%3B394%3C/td%26gt%3B%3C/tr%26gt%3B%3Ctr%26gt%3B%3Cth%26gt%3BPressure%20%5BPa%5D%3C/th%26gt%3B%3Cth%26gt%3B%3C/th%26gt%3B%3Ctd%26gt%3B202650%3C/td%26gt%3B%3C/tr%26gt%3B%3Ctr%26gt%3B%3Cth%20rowspan%3D%26quot%3B5%26quot%3B%20valign%3D%26quot%3Btop%26quot%3B%26gt%3BLiquid%20%5Bkmol/hr%5D%3C/th%26gt%3B%3Cth%26gt%3BWater%3C/th%26gt%3B%3Ctd%26gt%3B8.87e%2B03%3C/td%26gt%3B%3C/tr%26gt%3B%3Ctr%26gt%3B%3Cth%26gt%3BEthanol%3C/th%26gt%3B%3Ctd%26gt%3B0.0347%3C/td%26gt%3B%3C/tr%26gt%3B%3Ctr%26gt%3B%3Cth%26gt%3BGlucose%3C/th%26gt%3B%3Ctd%26gt%3B8.1%3C/td%26gt%3B%3C/tr%26gt%3B%3Ctr%26gt%3B%3Cth%26gt%3BH3PO4%3C/th%26gt%3B%3Ctd%26gt%3B0.364%3C/td%26gt%3B%3C/tr%26gt%3B%3Ctr%26gt%3B%3Cth%26gt%3BYeast%3C/th%26gt%3B%3Ctd%26gt%3B1.66%3C/td%26gt%3B%3C/tr%26gt%3B%3C/tbody%26gt%3B%3C/table%26gt%3B%22%3E%0A%3Ctext%20text-anchor%3D%22middle%22%20x%3D%22210%22%20y%3D%22-26.9%22%20font-family%3D%22Arial%22%20font-size%3D%2214.00%22%20fill%3D%22%234e4e4e%22%3E%20s37%3C/text%3E%0A%3C/a%3E%0A%3C/g%3E%0A%3C/g%3E%0A%0A%3Cg%20id%3D%22edge1%22%20class%3D%22edge%22%20data-tippy-content%3D%22%3Ctable%20border%3D%26quot%3B1%26quot%3B%20class%3D%26quot%3Bdataframe%26quot%3B%26gt%3B%3Cthead%26gt%3B%3Ctr%20style%3D%26quot%3Btext-align%3A%20unset%3B%26quot%3B%26gt%3B%3Cth%26gt%3B%3C/th%26gt%3B%3Cth%26gt%3B%3C/th%26gt%3B%3Cth%26gt%3Bs39%3C/th%26gt%3B%3C/tr%26gt%3B%3C/thead%26gt%3B%3Ctbody%26gt%3B%3Ctr%26gt%3B%3Cth%26gt%3BTemperature%20%5BK%5D%3C/th%26gt%3B%3Cth%26gt%3B%3C/th%26gt%3B%3Ctd%26gt%3B373%3C/td%26gt%3B%3C/tr%26gt%3B%3Ctr%26gt%3B%3Cth%26gt%3BPressure%20%5BPa%5D%3C/th%26gt%3B%3Cth%26gt%3B%3C/th%26gt%3B%3Ctd%26gt%3B202650%3C/td%26gt%3B%3C/tr%26gt%3B%3Ctr%26gt%3B%3Cth%20rowspan%3D%26quot%3B5%26quot%3B%20valign%3D%26quot%3Btop%26quot%3B%26gt%3BLiquid%20%5Bkmol/hr%5D%3C/th%26gt%3B%3Cth%26gt%3BWater%3C/th%26gt%3B%3Ctd%26gt%3B1.01e%2B04%3C/td%26gt%3B%3C/tr%26gt%3B%3Ctr%26gt%3B%3Cth%26gt%3BEthanol%3C/th%26gt%3B%3Ctd%26gt%3B491%3C/td%26gt%3B%3C/tr%26gt%3B%3Ctr%26gt%3B%3Cth%26gt%3BGlucose%3C/th%26gt%3B%3Ctd%26gt%3B8.1%3C/td%26gt%3B%3C/tr%26gt%3B%3Ctr%26gt%3B%3Cth%26gt%3BH3PO4%3C/th%26gt%3B%3Ctd%26gt%3B0.364%3C/td%26gt%3B%3C/tr%26gt%3B%3Ctr%26gt%3B%3Cth%26gt%3BYeast%3C/th%26gt%3B%3Ctd%26gt%3B1.66%3C/td%26gt%3B%3C/tr%26gt%3B%3C/tbody%26gt%3B%3C/table%26gt%3B%22%3E%0A%3Cpath%20fill%3D%22none%22%20stroke%3D%22%234e4e4e%22%20stroke-width%3D%222.2%22%20d%3D%22M11%2C-66.1C25.16%2C-66.1%2040.36%2C-66.1%2054.78%2C-66.1%22%3E%3C/path%3E%0A%3Cg%20id%3D%22a_edge1-label%22%3E%3Ca%20title%3D%22%20%3Ctable%20border%3D%26quot%3B1%26quot%3B%20class%3D%26quot%3Bdataframe%26quot%3B%26gt%3B%3Cthead%26gt%3B%3Ctr%20style%3D%26quot%3Btext-align%3A%20unset%3B%26quot%3B%26gt%3B%3Cth%26gt%3B%3C/th%26gt%3B%3Cth%26gt%3B%3C/th%26gt%3B%3Cth%26gt%3Bs39%3C/th%26gt%3B%3C/tr%26gt%3B%3C/thead%26gt%3B%3Ctbody%26gt%3B%3Ctr%26gt%3B%3Cth%26gt%3BTemperature%20%5BK%5D%3C/th%26gt%3B%3Cth%26gt%3B%3C/th%26gt%3B%3Ctd%26gt%3B373%3C/td%26gt%3B%3C/tr%26gt%3B%3Ctr%26gt%3B%3Cth%26gt%3BPressure%20%5BPa%5D%3C/th%26gt%3B%3Cth%26gt%3B%3C/th%26gt%3B%3Ctd%26gt%3B202650%3C/td%26gt%3B%3C/tr%26gt%3B%3Ctr%26gt%3B%3Cth%20rowspan%3D%26quot%3B5%26quot%3B%20valign%3D%26quot%3Btop%26quot%3B%26gt%3BLiquid%20%5Bkmol/hr%5D%3C/th%26gt%3B%3Cth%26gt%3BWater%3C/th%26gt%3B%3Ctd%26gt%3B1.01e%2B04%3C/td%26gt%3B%3C/tr%26gt%3B%3Ctr%26gt%3B%3Cth%26gt%3BEthanol%3C/th%26gt%3B%3Ctd%26gt%3B491%3C/td%26gt%3B%3C/tr%26gt%3B%3Ctr%26gt%3B%3Cth%26gt%3BGlucose%3C/th%26gt%3B%3Ctd%26gt%3B8.1%3C/td%26gt%3B%3C/tr%26gt%3B%3Ctr%26gt%3B%3Cth%26gt%3BH3PO4%3C/th%26gt%3B%3Ctd%26gt%3B0.364%3C/td%26gt%3B%3C/tr%26gt%3B%3Ctr%26gt%3B%3Cth%26gt%3BYeast%3C/th%26gt%3B%3Ctd%26gt%3B1.66%3C/td%26gt%3B%3C/tr%26gt%3B%3C/tbody%26gt%3B%3C/table%26gt%3B%22%3E%0A%3Ctext%20text-anchor%3D%22middle%22%20x%3D%2233%22%20y%3D%22-69.9%22%20font-family%3D%22Arial%22%20font-size%3D%2214.00%22%20fill%3D%22%234e4e4e%22%3E%20s39%3C/text%3E%0A%3C/a%3E%0A%3C/g%3E%0A%3C/g%3E%0A%0A%3Cg%20id%3D%22node1%22%20class%3D%22node%22%20data-tippy-content%3D%22%3Ctable%20border%3D%26quot%3B1%26quot%3B%20class%3D%26quot%3Bdataframe%26quot%3B%26gt%3B%3Cthead%26gt%3B%3Ctr%20style%3D%26quot%3Btext-align%3A%20unset%3B%26quot%3B%26gt%3B%3Cth%26gt%3B%3C/th%26gt%3B%3Cth%26gt%3BDistillation%20Column%3C/th%26gt%3B%3Cth%26gt%3BUnits%3C/th%26gt%3B%3Cth%26gt%3BD302%3C/th%26gt%3B%3C/tr%26gt%3B%3C/thead%26gt%3B%3Ctbody%26gt%3B%3Ctr%26gt%3B%3Cth%20rowspan%3D%26quot%3B3%26quot%3B%20valign%3D%26quot%3Btop%26quot%3B%26gt%3BCooling%20water%3C/th%26gt%3B%3Cth%26gt%3BDuty%3C/th%26gt%3B%3Ctd%26gt%3BkJ/hr%3C/td%26gt%3B%3Ctd%26gt%3B-7.83e%2B04%3C/td%26gt%3B%3C/tr%26gt%3B%3Ctr%26gt%3B%3Cth%26gt%3BFlow%3C/th%26gt%3B%3Ctd%26gt%3Bkmol/hr%3C/td%26gt%3B%3Ctd%26gt%3B53.5%3C/td%26gt%3B%3C/tr%26gt%3B%3Ctr%26gt%3B%3Cth%26gt%3BCost%3C/th%26gt%3B%3Ctd%26gt%3BUSD/hr%3C/td%26gt%3B%3Ctd%26gt%3B0%3C/td%26gt%3B%3C/tr%26gt%3B%3Ctr%26gt%3B%3Cth%20rowspan%3D%26quot%3B3%26quot%3B%20valign%3D%26quot%3Btop%26quot%3B%26gt%3BLow%20pressure%20steam%3C/th%26gt%3B%3Cth%26gt%3BDuty%3C/th%26gt%3B%3Ctd%26gt%3BkJ/hr%3C/td%26gt%3B%3Ctd%26gt%3B9.48e%2B07%3C/td%26gt%3B%3C/tr%26gt%3B%3Ctr%26gt%3B%3Cth%26gt%3BFlow%3C/th%26gt%3B%3Ctd%26gt%3Bkmol/hr%3C/td%26gt%3B%3Ctd%26gt%3B3.14e%2B03%3C/td%26gt%3B%3C/tr%26gt%3B%3Ctr%26gt%3B%3Cth%26gt%3BCost%3C/th%26gt%3B%3Ctd%26gt%3BUSD/hr%3C/td%26gt%3B%3Ctd%26gt%3B960%3C/td%26gt%3B%3C/tr%26gt%3B%3Ctr%26gt%3B%3Cth%20rowspan%3D%26quot%3B9%26quot%3B%20valign%3D%26quot%3Btop%26quot%3B%26gt%3BDesign%3C/th%26gt%3B%3Cth%26gt%3BTheoretical%20feed%20stage%3C/th%26gt%3B%3Ctd%26gt%3B%3C/td%26gt%3B%3Ctd%26gt%3B1%3C/td%26gt%3B%3C/tr%26gt%3B%3Ctr%26gt%3B%3Cth%26gt%3BTheoretical%20stages%3C/th%26gt%3B%3Ctd%26gt%3B%3C/td%26gt%3B%3Ctd%26gt%3B14%3C/td%26gt%3B%3C/tr%26gt%3B%3Ctr%26gt%3B%3Cth%26gt%3BMinimum%20reflux%3C/th%26gt%3B%3Ctd%26gt%3BRatio%3C/td%26gt%3B%3Ctd%26gt%3B0.001%3C/td%26gt%3B%3C/tr%26gt%3B%3Ctr%26gt%3B%3Cth%26gt%3BReflux%3C/th%26gt%3B%3Ctd%26gt%3BRatio%3C/td%26gt%3B%3Ctd%26gt%3B0.0011%3C/td%26gt%3B%3C/tr%26gt%3B%3Ctr%26gt%3B%3Cth%26gt%3BActual%20stages%3C/th%26gt%3B%3Ctd%26gt%3B%3C/td%26gt%3B%3Ctd%26gt%3B36%3C/td%26gt%3B%3C/tr%26gt%3B%3Ctr%26gt%3B%3Cth%26gt%3BHeight%3C/th%26gt%3B%3Ctd%26gt%3Bft%3C/td%26gt%3B%3Ctd%26gt%3B64.2%3C/td%26gt%3B%3C/tr%26gt%3B%3Ctr%26gt%3B%3Cth%26gt%3BDiameter%3C/th%26gt%3B%3Ctd%26gt%3Bft%3C/td%26gt%3B%3Ctd%26gt%3B7.8%3C/td%26gt%3B%3C/tr%26gt%3B%3Ctr%26gt%3B%3Cth%26gt%3BWall%20thickness%3C/th%26gt%3B%3Ctd%26gt%3Bin%3C/td%26gt%3B%3Ctd%26gt%3B0.375%3C/td%26gt%3B%3C/tr%26gt%3B%3Ctr%26gt%3B%3Cth%26gt%3BWeight%3C/th%26gt%3B%3Ctd%26gt%3Blb%3C/td%26gt%3B%3Ctd%26gt%3B2.7e%2B04%3C/td%26gt%3B%3C/tr%26gt%3B%3Ctr%26gt%3B%3Cth%20rowspan%3D%26quot%3B5%26quot%3B%20valign%3D%26quot%3Btop%26quot%3B%26gt%3BPurchase%20cost%3C/th%26gt%3B%3Cth%26gt%3BCondenser%20-%20Double%20pipe%3C/th%26gt%3B%3Ctd%26gt%3BUSD%3C/td%26gt%3B%3Ctd%26gt%3B3.35e%2B03%3C/td%26gt%3B%3C/tr%26gt%3B%3Ctr%26gt%3B%3Cth%26gt%3BBoiler%20-%20Floating%20head%3C/th%26gt%3B%3Ctd%26gt%3BUSD%3C/td%26gt%3B%3Ctd%26gt%3B3.58e%2B04%3C/td%26gt%3B%3C/tr%26gt%3B%3Ctr%26gt%3B%3Cth%26gt%3BTrays%3C/th%26gt%3B%3Ctd%26gt%3BUSD%3C/td%26gt%3B%3Ctd%26gt%3B9.15e%2B04%3C/td%26gt%3B%3C/tr%26gt%3B%3Ctr%26gt%3B%3Cth%26gt%3BTower%3C/th%26gt%3B%3Ctd%26gt%3BUSD%3C/td%26gt%3B%3Ctd%26gt%3B2.1e%2B05%3C/td%26gt%3B%3C/tr%26gt%3B%3Ctr%26gt%3B%3Cth%26gt%3BPlatform%20and%20ladders%3C/th%26gt%3B%3Ctd%26gt%3BUSD%3C/td%26gt%3B%3Ctd%26gt%3B3.77e%2B04%3C/td%26gt%3B%3C/tr%26gt%3B%3Ctr%26gt%3B%3Cth%26gt%3BTotal%20purchase%20cost%3C/th%26gt%3B%3Cth%26gt%3B%3C/th%26gt%3B%3Ctd%26gt%3BUSD%3C/td%26gt%3B%3Ctd%26gt%3B3.79e%2B05%3C/td%26gt%3B%3C/tr%26gt%3B%3Ctr%26gt%3B%3Cth%26gt%3BInstalled%20equipment%20cost%3C/th%26gt%3B%3Cth%26gt%3B%3C/th%26gt%3B%3Ctd%26gt%3BUSD%3C/td%26gt%3B%3Ctd%26gt%3B1.04e%2B06%3C/td%26gt%3B%3C/tr%26gt%3B%3Ctr%26gt%3B%3Cth%26gt%3BUtility%20cost%3C/th%26gt%3B%3Cth%26gt%3B%3C/th%26gt%3B%3Ctd%26gt%3BUSD/hr%3C/td%26gt%3B%3Ctd%26gt%3B960%3C/td%26gt%3B%3C/tr%26gt%3B%3C/tbody%26gt%3B%3C/table%26gt%3B%22%3E%0A%3Cg%20id%3D%22a_node1%22%3E%3Ca%20title%3D%22%20%3Ctable%20border%3D%26quot%3B1%26quot%3B%20class%3D%26quot%3Bdataframe%26quot%3B%26gt%3B%3Cthead%26gt%3B%3Ctr%20style%3D%26quot%3Btext-align%3A%20unset%3B%26quot%3B%26gt%3B%3Cth%26gt%3B%3C/th%26gt%3B%3Cth%26gt%3BDistillation%20Column%3C/th%26gt%3B%3Cth%26gt%3BUnits%3C/th%26gt%3B%3Cth%26gt%3BD302%3C/th%26gt%3B%3C/tr%26gt%3B%3C/thead%26gt%3B%3Ctbody%26gt%3B%3Ctr%26gt%3B%3Cth%20rowspan%3D%26quot%3B3%26quot%3B%20valign%3D%26quot%3Btop%26quot%3B%26gt%3BCooling%20water%3C/th%26gt%3B%3Cth%26gt%3BDuty%3C/th%26gt%3B%3Ctd%26gt%3BkJ/hr%3C/td%26gt%3B%3Ctd%26gt%3B-7.83e%2B04%3C/td%26gt%3B%3C/tr%26gt%3B%3Ctr%26gt%3B%3Cth%26gt%3BFlow%3C/th%26gt%3B%3Ctd%26gt%3Bkmol/hr%3C/td%26gt%3B%3Ctd%26gt%3B53.5%3C/td%26gt%3B%3C/tr%26gt%3B%3Ctr%26gt%3B%3Cth%26gt%3BCost%3C/th%26gt%3B%3Ctd%26gt%3BUSD/hr%3C/td%26gt%3B%3Ctd%26gt%3B0%3C/td%26gt%3B%3C/tr%26gt%3B%3Ctr%26gt%3B%3Cth%20rowspan%3D%26quot%3B3%26quot%3B%20valign%3D%26quot%3Btop%26quot%3B%26gt%3BLow%20pressure%20steam%3C/th%26gt%3B%3Cth%26gt%3BDuty%3C/th%26gt%3B%3Ctd%26gt%3BkJ/hr%3C/td%26gt%3B%3Ctd%26gt%3B9.48e%2B07%3C/td%26gt%3B%3C/tr%26gt%3B%3Ctr%26gt%3B%3Cth%26gt%3BFlow%3C/th%26gt%3B%3Ctd%26gt%3Bkmol/hr%3C/td%26gt%3B%3Ctd%26gt%3B3.14e%2B03%3C/td%26gt%3B%3C/tr%26gt%3B%3Ctr%26gt%3B%3Cth%26gt%3BCost%3C/th%26gt%3B%3Ctd%26gt%3BUSD/hr%3C/td%26gt%3B%3Ctd%26gt%3B960%3C/td%26gt%3B%3C/tr%26gt%3B%3Ctr%26gt%3B%3Cth%20rowspan%3D%26quot%3B9%26quot%3B%20valign%3D%26quot%3Btop%26quot%3B%26gt%3BDesign%3C/th%26gt%3B%3Cth%26gt%3BTheoretical%20feed%20stage%3C/th%26gt%3B%3Ctd%26gt%3B%3C/td%26gt%3B%3Ctd%26gt%3B1%3C/td%26gt%3B%3C/tr%26gt%3B%3Ctr%26gt%3B%3Cth%26gt%3BTheoretical%20stages%3C/th%26gt%3B%3Ctd%26gt%3B%3C/td%26gt%3B%3Ctd%26gt%3B14%3C/td%26gt%3B%3C/tr%26gt%3B%3Ctr%26gt%3B%3Cth%26gt%3BMinimum%20reflux%3C/th%26gt%3B%3Ctd%26gt%3BRatio%3C/td%26gt%3B%3Ctd%26gt%3B0.001%3C/td%26gt%3B%3C/tr%26gt%3B%3Ctr%26gt%3B%3Cth%26gt%3BReflux%3C/th%26gt%3B%3Ctd%26gt%3BRatio%3C/td%26gt%3B%3Ctd%26gt%3B0.0011%3C/td%26gt%3B%3C/tr%26gt%3B%3Ctr%26gt%3B%3Cth%26gt%3BActual%20stages%3C/th%26gt%3B%3Ctd%26gt%3B%3C/td%26gt%3B%3Ctd%26gt%3B36%3C/td%26gt%3B%3C/tr%26gt%3B%3Ctr%26gt%3B%3Cth%26gt%3BHeight%3C/th%26gt%3B%3Ctd%26gt%3Bft%3C/td%26gt%3B%3Ctd%26gt%3B64.2%3C/td%26gt%3B%3C/tr%26gt%3B%3Ctr%26gt%3B%3Cth%26gt%3BDiameter%3C/th%26gt%3B%3Ctd%26gt%3Bft%3C/td%26gt%3B%3Ctd%26gt%3B7.8%3C/td%26gt%3B%3C/tr%26gt%3B%3Ctr%26gt%3B%3Cth%26gt%3BWall%20thickness%3C/th%26gt%3B%3Ctd%26gt%3Bin%3C/td%26gt%3B%3Ctd%26gt%3B0.375%3C/td%26gt%3B%3C/tr%26gt%3B%3Ctr%26gt%3B%3Cth%26gt%3BWeight%3C/th%26gt%3B%3Ctd%26gt%3Blb%3C/td%26gt%3B%3Ctd%26gt%3B2.7e%2B04%3C/td%26gt%3B%3C/tr%26gt%3B%3Ctr%26gt%3B%3Cth%20rowspan%3D%26quot%3B5%26quot%3B%20valign%3D%26quot%3Btop%26quot%3B%26gt%3BPurchase%20cost%3C/th%26gt%3B%3Cth%26gt%3BCondenser%20-%20Double%20pipe%3C/th%26gt%3B%3Ctd%26gt%3BUSD%3C/td%26gt%3B%3Ctd%26gt%3B3.35e%2B03%3C/td%26gt%3B%3C/tr%26gt%3B%3Ctr%26gt%3B%3Cth%26gt%3BBoiler%20-%20Floating%20head%3C/th%26gt%3B%3Ctd%26gt%3BUSD%3C/td%26gt%3B%3Ctd%26gt%3B3.58e%2B04%3C/td%26gt%3B%3C/tr%26gt%3B%3Ctr%26gt%3B%3Cth%26gt%3BTrays%3C/th%26gt%3B%3Ctd%26gt%3BUSD%3C/td%26gt%3B%3Ctd%26gt%3B9.15e%2B04%3C/td%26gt%3B%3C/tr%26gt%3B%3Ctr%26gt%3B%3Cth%26gt%3BTower%3C/th%26gt%3B%3Ctd%26gt%3BUSD%3C/td%26gt%3B%3Ctd%26gt%3B2.1e%2B05%3C/td%26gt%3B%3C/tr%26gt%3B%3Ctr%26gt%3B%3Cth%26gt%3BPlatform%20and%20ladders%3C/th%26gt%3B%3Ctd%26gt%3BUSD%3C/td%26gt%3B%3Ctd%26gt%3B3.77e%2B04%3C/td%26gt%3B%3C/tr%26gt%3B%3Ctr%26gt%3B%3Cth%26gt%3BTotal%20purchase%20cost%3C/th%26gt%3B%3Cth%26gt%3B%3C/th%26gt%3B%3Ctd%26gt%3BUSD%3C/td%26gt%3B%3Ctd%26gt%3B3.79e%2B05%3C/td%26gt%3B%3C/tr%26gt%3B%3Ctr%26gt%3B%3Cth%26gt%3BInstalled%20equipment%20cost%3C/th%26gt%3B%3Cth%26gt%3B%3C/th%26gt%3B%3Ctd%26gt%3BUSD%3C/td%26gt%3B%3Ctd%26gt%3B1.04e%2B06%3C/td%26gt%3B%3C/tr%26gt%3B%3Ctr%26gt%3B%3Cth%26gt%3BUtility%20cost%3C/th%26gt%3B%3Cth%26gt%3B%3C/th%26gt%3B%3Ctd%26gt%3BUSD/hr%3C/td%26gt%3B%3Ctd%26gt%3B960%3C/td%26gt%3B%3C/tr%26gt%3B%3C/tbody%26gt%3B%3C/table%26gt%3B%22%3E%0A%3Cdefs%3E%0A%3ClinearGradient%20id%3D%22l_0%22%20gradientUnits%3D%22userSpaceOnUse%22%20x1%3D%2255%22%20y1%3D%22-66.1%22%20x2%3D%22188%22%20y2%3D%22-66.1%22%3E%0A%3Cstop%20offset%3D%220%22%20style%3D%22stop-color%3Awhite%3Bstop-opacity%3A1.%3B%22%3E%3C/stop%3E%0A%3Cstop%20offset%3D%221%22%20style%3D%22stop-color%3A%23cdcdcd%3Bstop-opacity%3A1.%3B%22%3E%3C/stop%3E%0A%3C/linearGradient%3E%0A%3C/defs%3E%0A%3Cpolygon%20fill%3D%22url%28%23l_0%29%22%20stroke%3D%22%234e4e4e%22%20points%3D%22188%2C-109.1%2055%2C-109.1%2055%2C-23.1%20188%2C-23.1%20188%2C-109.1%22%3E%3C/polygon%3E%0A%3Ctext%20text-anchor%3D%22middle%22%20x%3D%22121.5%22%20y%3D%22-69.9%22%20font-family%3D%22Arial%22%20font-size%3D%2214.00%22%3ED302%3C/text%3E%0A%3Ctext%20text-anchor%3D%22middle%22%20x%3D%22121.5%22%20y%3D%22-54.9%22%20font-family%3D%22Arial%22%20font-size%3D%2214.00%22%3EDistillation%20Column%3C/text%3E%0A%3C/a%3E%0A%3C/g%3E%0A%3C/g%3E%0A%0A%3Cg%20id%3D%22node2%22%20class%3D%22node%22%20data-tippy-content%3D%22s39%22%3E%0A%3Cpolygon%20fill%3D%22%23f98f60%22%20stroke%3D%22%234e4e4e%22%20points%3D%225.5%2C-71.6%200%2C-66.1%205.5%2C-60.6%2011%2C-66.1%205.5%2C-71.6%22%3E%3C/polygon%3E%0A%3C/g%3E%0A%0A%3Cg%20id%3D%22node3%22%20class%3D%22node%22%20data-tippy-content%3D%22s35%22%3E%0A%3Cpolygon%20fill%3D%22%23f98f60%22%20stroke%3D%22%234e4e4e%22%20points%3D%22243%2C-109.1%20234.75%2C-116.1%20234.75%2C-102.1%20243%2C-109.1%22%3E%3C/polygon%3E%0A%3C/g%3E%0A%0A%3Cg%20id%3D%22node4%22%20class%3D%22node%22%20data-tippy-content%3D%22s37%22%3E%0A%3Cpolygon%20fill%3D%22%23f98f60%22%20stroke%3D%22%234e4e4e%22%20points%3D%22243%2C-23.1%20234.75%2C-30.1%20234.75%2C-16.1%20243%2C-23.1%22%3E%3C/polygon%3E%0A%3C/g%3E%0A%3C/g%3E%0A%3C/svg%3E%3C/body%3E%3C/html%3E\"\n",
       "            frameborder=\"0\"\n",
       "            allowfullscreen\n",
       "            allowtransparency=\"true\"\n",
       "        ></iframe>\n",
       "        "
      ],
      "text/plain": [
       "<IPython.lib.display.IFrame at 0x1656c284b20>"
      ]
     },
     "metadata": {},
     "output_type": "display_data"
    }
   ],
   "source": [
    "bst.preferences.light_mode()\n",
    "sc.D302.diagram()"
   ]
  },
  {
   "cell_type": "code",
   "execution_count": 7,
   "metadata": {
    "scrolled": true,
    "tags": [
     "nbval-ignore-output"
    ]
   },
   "outputs": [
    {
     "data": {
      "image/png": "[encoded data removed]",
      "text/plain": [
       "<IPython.core.display.Image object>"
      ]
     },
     "metadata": {},
     "output_type": "display_data"
    }
   ],
   "source": [
    "bst.preferences.dark_mode() # Try toggling the tutorial sun/moon icon at the top right\n",
    "# A bug in readthedocs requires png for correct background colors.\n",
    "# If format is png, hovering the mouse on units/streams won't show results.\n",
    "sc.D302.diagram(format='png')\n",
    "# Alternatively, you can save the diagram as html and view the file separately\n",
    "# in a dark background. For example:\n",
    "# sc.D302.diagram(radius=1, file='diagram', format='html')"
   ]
  },
  {
   "cell_type": "code",
   "execution_count": 8,
   "metadata": {
    "tags": [
     "nbval-ingore-output"
    ]
   },
   "outputs": [
    {
     "data": {
      "image/png": "[encoded data removed]",
      "text/plain": [
       "<IPython.core.display.Image object>"
      ]
     },
     "metadata": {},
     "output_type": "display_data"
    }
   ],
   "source": [
    "# The default `classic_mode` works for both light and dark backgrounds\n",
    "bst.preferences.classic_mode()\n",
    "sc.D302.diagram(format='png')"
   ]
  },
  {
   "cell_type": "markdown",
   "metadata": {},
   "source": [
    "To prevent diagrams from being automatically displayed on the ipython console:"
   ]
  },
  {
   "cell_type": "code",
   "execution_count": 9,
   "metadata": {
    "tags": [
     "nbval-ignore-output"
    ]
   },
   "outputs": [
    {
     "name": "stdout",
     "output_type": "stream",
     "text": [
      "BinaryDistillation: D302\n",
      "ins...\n",
      "[0] s39  from  HXprocess-H302\n",
      "    phase: 'l', T: 372.68 K, P: 202650 Pa\n",
      "    flow (kmol/hr): Water    1.01e+04\n",
      "                    Ethanol  491\n",
      "                    Glucose  8.1\n",
      "                    H3PO4    0.364\n",
      "                    Yeast    1.66\n",
      "outs...\n",
      "[0] s35  to  Mixer-M303\n",
      "    phase: 'g', T: 384.68 K, P: 202650 Pa\n",
      "    flow (kmol/hr): Water    1.26e+03\n",
      "                    Ethanol  491\n",
      "[1] s37  to  Pump-P302\n",
      "    phase: 'l', T: 393.78 K, P: 202650 Pa\n",
      "    flow (kmol/hr): Water    8.87e+03\n",
      "                    Ethanol  0.0347\n",
      "                    Glucose  8.1\n",
      "                    H3PO4    0.364\n",
      "                    Yeast    1.66\n"
     ]
    }
   ],
   "source": [
    "bst.preferences.autodisplay = False\n",
    "sc.D302 # Notice how the diagram was not displayed"
   ]
  },
  {
   "cell_type": "markdown",
   "metadata": {},
   "source": [
    "Don't forget to save your preferences with `bst.preferences.save()`!"
   ]
  }
 ],
 "metadata": {
  "celltoolbar": "Tags",
  "kernelspec": {
   "display_name": "Python 3 (ipykernel)",
   "language": "python",
   "name": "python3"
  },
  "language_info": {
   "codemirror_mode": {
    "name": "ipython",
    "version": 3
   },
   "file_extension": ".py",
   "mimetype": "text/x-python",
   "name": "python",
   "nbconvert_exporter": "python",
   "pygments_lexer": "ipython3",
   "version": "3.9.12"
  }
 },
 "nbformat": 4,
 "nbformat_minor": 2
}
