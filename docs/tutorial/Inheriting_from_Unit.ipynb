{
 "cells": [
  {
   "cell_type": "markdown",
   "metadata": {},
   "source": [
    "# Inheriting from Unit"
   ]
  },
  {
   "cell_type": "markdown",
   "metadata": {},
   "source": [
    "## Layout"
   ]
  },
  {
   "cell_type": "raw",
   "metadata": {
    "raw_mimetype": "text/restructuredtext"
   },
   "source": [
    ".. figure:: Unit_UML_light.png\n",
    "   :class: only-light\n",
    "   :align: center\n",
    "\n",
    ".. figure:: Unit_UML_dark.png\n",
    "   :class: only-dark\n",
    "   :align: center"
   ]
  },
  {
   "cell_type": "markdown",
   "metadata": {},
   "source": [
    "**A Unit subclass has class attributes that dictate how an instance is initialized:**\n",
    "    \n",
    "* `_F_BM_default` : dict[str, float] Default bare module factors for each purchase cost item.\n",
    "\n",
    "* `_units` : [dict] Units of measure for the `design_results` items.\n",
    "\n",
    "* `_N_ins`=1 : [int] Expected number of input streams.\n",
    "    \n",
    "* `_N_outs`=1 : [int] Expected number of output streams.\n",
    "    \n",
    "* `_ins_size_is_fixed`=True : [bool] Whether the number of streams in ins is fixed.\n",
    "    \n",
    "* `_outs_size_is_fixed`=True : [bool] Whether the number of streams in outs is fixed.\n",
    "    \n",
    "* `_N_heat_utilities`=0 : [int] Number of heat utility objects in the `heat_utilities` tuple.\n",
    "\n",
    "* `auxiliary_unit_names`=() : tuple[str] Name of attributes that are auxiliary units.\n",
    "\n",
    "* `_graphics` : [biosteam Graphics] A Graphics object for diagram representation. Defaults to a box diagram.\n",
    "\n",
    "* `_default_equipment_lifetime` : [int] or dict[str, int] Default lifetime of equipment. Defaults to lifetime of production venture.\n",
    "    \n",
    "* `line` : [str] Label for the unit operation in a diagram. Defaults to the class name.\n",
    "\n",
    "**Abstract methods are used to setup stream conditions, run heat and mass balances, find design requirements, and cost the unit:**\n",
    "\n",
    "* `_setup()` : Called before System convergece to initialize constant data and setup stream conditions.\n",
    "\n",
    "* `_run()` : Called during System convergece to specify `outs` streams.\n",
    "\n",
    "* `_design()` : Called after System convergence to find design requirements. \n",
    "\n",
    "* `_cost()` : Called after `_design` to find cost requirements.\n",
    "\n",
    "**These abstract methods will rely on the following instance attributes:**\n",
    "\n",
    "* `ins` : Inlets[Stream] Input streams.\n",
    "\n",
    "* `outs` : Outlets[Stream] Output streams.\n",
    "\n",
    "* `power_utility` : [PowerUtility] Can find electricity rate requirement.\n",
    "\n",
    "* `heat_utilities` : tuple[HeatUtility] Can find cooling and heating requirements.\n",
    "\n",
    "* `design_results` : [dict] All design requirements.\n",
    "\n",
    "* `baseline_purchase_costs` : [dict] Itemized purchase costs (without accounting for design, pressure or material factors).\n",
    "\n",
    "* `F_BM`: [dict] Bare-module factors.\n",
    "\n",
    "* `F_D`: [dict] Design factors.\n",
    "\n",
    "* `F_P`: [dict] Pressure factors.\n",
    "\n",
    "* `F_M`: [dict] Material factors.\n",
    "\n",
    "* `equipment_lifetime`: [dict] Lifetime of each equiment.\n",
    "\n",
    "* `thermo` : [Thermo] The thermodynamic property package used by the unit."
   ]
  },
  {
   "cell_type": "markdown",
   "metadata": {},
   "source": [
    "### Subclass example"
   ]
  },
  {
   "cell_type": "markdown",
   "metadata": {},
   "source": [
    "The following example depicts inheritance from Unit by creating a new Boiler class:"
   ]
  },
  {
   "cell_type": "code",
   "execution_count": 1,
   "metadata": {},
   "outputs": [],
   "source": [
    "import biosteam as bst\n",
    "from math import ceil\n",
    "bst.nbtutorial()\n",
    "\n",
    "class Boiler(bst.Unit):\n",
    "    \"\"\"\n",
    "    Create a Boiler object that partially boils the feed.\n",
    "    \n",
    "    Parameters\n",
    "    ----------\n",
    "    ins : stream\n",
    "        Inlet fluid.\n",
    "    outs : stream sequence\n",
    "        * [0] vapor product\n",
    "        * [1] liquid product\n",
    "    V : float\n",
    "        Molar vapor fraction.\n",
    "    P : float\n",
    "        Operating pressure [Pa].\n",
    "    \n",
    "    \"\"\"\n",
    "    # Note that the documentation does not include `ID` or `thermo` in the parameters.\n",
    "    # This is OK, and most subclasses in BioSTEAM are documented this way too.\n",
    "    # Documentation for all unit operations should include the inlet and outlet streams\n",
    "    # listed by index. If there is only one stream in the inlets (or outlets), there is no\n",
    "    # need to list out by index. The types for the `ins` and `outs` should be either\n",
    "    # `stream sequence` for multiple streams, or `stream` for a single stream.\n",
    "    # Any additional arguments to the unit should also be listed (e.g. V, and P).\n",
    "    \n",
    "    _N_ins = 1 # Number in inlets\n",
    "    _N_outs = 2 # Number in outlets\n",
    "    _N_heat_utilities = 1 # Number of heat utilities\n",
    "    _units = {'Area': 'm^2'}\n",
    "    \n",
    "    def __init__(self, ID='', ins=None, outs=(), thermo=None, *, V, P):\n",
    "        bst.Unit.__init__(self, ID, ins, outs, thermo)\n",
    "        self.V = V #: Molar vapor fraction.\n",
    "        self.P = P #: Operating pressure [Pa].\n",
    "        \n",
    "    def _setup(self):\n",
    "        super()._setup()\n",
    "        vap, liq = self.outs\n",
    "        \n",
    "        # Initialize top stream as a vapor\n",
    "        vap.phase = 'g'\n",
    "        \n",
    "        # Initialize bottom stream as a liquid\n",
    "        liq.phase = 'l'\n",
    "  \n",
    "    def _run(self):\n",
    "        # Equivalent to self.ins[0] when the number of inlets is one\n",
    "        feed = self.feed \n",
    "        vap, liq = self.outs\n",
    "        \n",
    "        # Perform vapor-liquid equilibrium\n",
    "        stream = feed.copy()\n",
    "        stream.vle(V=self.V, P=self.P)\n",
    "        \n",
    "        # Update outlet streams\n",
    "        vap.mol[:] = stream.imol['g']\n",
    "        liq.mol[:] = stream.imol['l']\n",
    "        vap.T = liq.T = stream.T\n",
    "        vap.P = liq.P = stream.P\n",
    "        \n",
    "    def _design(self):\n",
    "        # Set heat utility requirement (please read docs for HeatUtility objects)\n",
    "        T_operation = self.outs[0].T\n",
    "        duty = self.H_out - self.H_in\n",
    "        if duty < 0: raise RuntimeError(f'{repr(self)} is cooling.')\n",
    "        hu = self.heat_utilities[0]\n",
    "        hu(duty, T_operation)\n",
    "        \n",
    "        # Temperature of utility at entrance\n",
    "        T_utility = hu.inlet_utility_stream.T\n",
    "        \n",
    "        # Temeperature gradient\n",
    "        dT = T_utility - T_operation\n",
    "        \n",
    "        # Heat transfer coefficient kJ/(hr*m2*K)\n",
    "        U = 8176.699 \n",
    "        \n",
    "        # Area requirement (m^2)\n",
    "        A = duty /(U * dT)\n",
    "        \n",
    "        # Maximum area per unit\n",
    "        A_max = 743.224\n",
    "        \n",
    "        # Number of units\n",
    "        N = ceil(A / A_max)\n",
    "        \n",
    "        # Design requirements (excluding utilities) are stored here\n",
    "        self.design_results['Area'] = A / N\n",
    "        self.design_results['N'] = N\n",
    "        \n",
    "    def _cost(self):\n",
    "        A = self.design_results['Area']\n",
    "        N = self.design_results['N']\n",
    "        \n",
    "        # Long-tube vertical boiler cost correlation from \n",
    "        # \"Product process and design\". Warren et. al. (2016) Table 22.32, pg 592\n",
    "        purchase_cost = N * bst.settings.CEPCI * 3.086 * A **0.55\n",
    "        \n",
    "        # Itemized purchase costs are stored here\n",
    "        self.baseline_purchase_costs['Boilers'] = purchase_cost # Not accounting for material factor\n",
    "        \n",
    "        # Assume design, pressure, and material factors are 1.\n",
    "        self.F_D['Boilers'] = self.F_P['Boilers'] = self.F_M['Boilers'] = 1.\n",
    "        \n",
    "        # Set bare-module factor for boilers\n",
    "        self.F_BM['Boilers'] = 2.45\n",
    "    "
   ]
  },
  {
   "cell_type": "markdown",
   "metadata": {},
   "source": [
    "### Simulation test"
   ]
  },
  {
   "cell_type": "code",
   "execution_count": 2,
   "metadata": {
    "tags": [
     "nbval-ignore-output"
    ]
   },
   "outputs": [
    {
     "data": {
      "image/svg+xml": [
       "<svg xmlns=\"http://www.w3.org/2000/svg\" xmlns:xlink=\"http://www.w3.org/1999/xlink\" width=\"181pt\" height=\"85pt\" viewBox=\"0.00 0.00 181.00 85.00\">\n",
       "<g id=\"graph0\" class=\"graph\" transform=\"scale(1 1) rotate(0) translate(4 81)\">\n",
       "<!-- B1\n",
       "Boiler&#45;&gt; gas -->\n",
       "<g id=\"edge1\" class=\"edge\">\n",
       "<title>B1\n",
       "Boiler:c-&gt; gas:w</title>\n",
       "<path fill=\"none\" stroke=\"#90918e\" stroke-dasharray=\"5,2\" d=\"M118.19,-50.47C131.28,-56.95 147.73,-63 163.5,-63\"/>\n",
       "<g id=\"a_edge1-label\"><a xlink:title=\"(empty)\">\n",
       "<text text-anchor=\"middle\" x=\"140\" y=\"-65.8\" font-family=\"Arial\" font-size=\"14.00\" fill=\"#90918e\"> gas</text>\n",
       "</a>\n",
       "</g>\n",
       "</g>\n",
       "<!-- B1\n",
       "Boiler&#45;&gt; liq -->\n",
       "<g id=\"edge3\" class=\"edge\">\n",
       "<title>B1\n",
       "Boiler:c-&gt; liq:w</title>\n",
       "<path fill=\"none\" stroke=\"#90918e\" stroke-dasharray=\"5,2\" d=\"M118.19,-19.53C131.28,-13.05 147.73,-7 163.5,-7\"/>\n",
       "<g id=\"a_edge3-label\"><a xlink:title=\"(empty)\">\n",
       "<text text-anchor=\"middle\" x=\"140\" y=\"-19.8\" font-family=\"Arial\" font-size=\"14.00\" fill=\"#90918e\"> liq</text>\n",
       "</a>\n",
       "</g>\n",
       "</g>\n",
       "<!--  water&#45;&gt;B1\n",
       "Boiler -->\n",
       "<g id=\"edge2\" class=\"edge\">\n",
       "<title> water:e-&gt;B1\n",
       "Boiler:c</title>\n",
       "<path fill=\"none\" stroke=\"#90918e\" d=\"M11,-35C28.94,-35 49.16,-35 64.72,-35\"/>\n",
       "<g id=\"a_edge2-label\"><a xlink:title=\"Temperature: 298 K\n",
       "Pressure: 101325 Pa\n",
       "Liquid flow: 300 kmol/hr\">\n",
       "<text text-anchor=\"middle\" x=\"38\" y=\"-38.8\" font-family=\"Arial\" font-size=\"14.00\" fill=\"#90918e\"> water</text>\n",
       "</a>\n",
       "</g>\n",
       "</g>\n",
       "<!-- B1\n",
       "Boiler -->\n",
       "<g id=\"node1\" class=\"node\">\n",
       "<title>B1\n",
       "Boiler</title>\n",
       "<g id=\"a_node1\"><a xlink:title=\"No capital costs or utilities\">\n",
       "<polygon fill=\"#555f69\" stroke=\"#90918e\" points=\"118,-56.5 65,-56.5 65,-13.5 118,-13.5 118,-56.5\"/>\n",
       "<text text-anchor=\"middle\" x=\"91.5\" y=\"-38.8\" font-family=\"Arial\" font-size=\"14.00\" fill=\"white\">B1</text>\n",
       "<text text-anchor=\"middle\" x=\"91.5\" y=\"-23.8\" font-family=\"Arial\" font-size=\"14.00\" fill=\"white\">Boiler</text>\n",
       "</a>\n",
       "</g>\n",
       "</g>\n",
       "<!--  gas -->\n",
       "<g id=\"node2\" class=\"node\">\n",
       "<title> gas</title>\n",
       "<polygon fill=\"#f98f60\" stroke=\"#90918e\" points=\"173,-63 164.75,-70 164.75,-56 173,-63\"/>\n",
       "</g>\n",
       "<!--  water -->\n",
       "<g id=\"node3\" class=\"node\">\n",
       "<title> water</title>\n",
       "<polygon fill=\"#f98f60\" stroke=\"#90918e\" points=\"5.5,-40.5 0,-35 5.5,-29.5 11,-35 5.5,-40.5\"/>\n",
       "</g>\n",
       "<!--  liq -->\n",
       "<g id=\"node4\" class=\"node\">\n",
       "<title> liq</title>\n",
       "<polygon fill=\"#f98f60\" stroke=\"#90918e\" points=\"173,-7 164.75,-14 164.75,0 173,-7\"/>\n",
       "</g>\n",
       "</g>\n",
       "</svg>"
      ],
      "text/plain": [
       "<IPython.core.display.SVG object>"
      ]
     },
     "metadata": {},
     "output_type": "display_data"
    },
    {
     "name": "stdout",
     "output_type": "stream",
     "text": [
      "Boiler: B1\n",
      "ins...\n",
      "[0] water\n",
      "    phase: 'l', T: 298.15 K, P: 101325 Pa\n",
      "    flow (kmol/hr): Water  300\n",
      "outs...\n",
      "[0] gas\n",
      "    phase: 'l', T: 298.15 K, P: 101325 Pa\n",
      "    flow: 0\n",
      "[1] liq\n",
      "    phase: 'l', T: 298.15 K, P: 101325 Pa\n",
      "    flow: 0\n"
     ]
    }
   ],
   "source": [
    "import biosteam as bst\n",
    "bst.settings.set_thermo(['Water'])\n",
    "water = bst.Stream('water', Water=300)\n",
    "B1 = Boiler('B1', ins=water, outs=('gas', 'liq'),\n",
    "            V=0.5, P=101325)\n",
    "B1.diagram()\n",
    "B1.show()"
   ]
  },
  {
   "cell_type": "code",
   "execution_count": 3,
   "metadata": {},
   "outputs": [
    {
     "name": "stdout",
     "output_type": "stream",
     "text": [
      "Boiler: B1\n",
      "ins...\n",
      "[0] water\n",
      "    phase: 'l', T: 298.15 K, P: 101325 Pa\n",
      "    flow (kmol/hr): Water  300\n",
      "outs...\n",
      "[0] gas\n",
      "    phase: 'g', T: 373.12 K, P: 101325 Pa\n",
      "    flow (kmol/hr): Water  150\n",
      "[1] liq\n",
      "    phase: 'l', T: 373.12 K, P: 101325 Pa\n",
      "    flow (kmol/hr): Water  150\n"
     ]
    }
   ],
   "source": [
    "B1.simulate()\n",
    "B1.show()"
   ]
  },
  {
   "cell_type": "code",
   "execution_count": 4,
   "metadata": {},
   "outputs": [
    {
     "name": "stdout",
     "output_type": "stream",
     "text": [
      "Boiler                         Units       B1\n",
      "Low pressure steam  Duty       kJ/hr 8.23e+06\n",
      "                    Flow     kmol/hr      212\n",
      "                    Cost      USD/hr     50.4\n",
      "Design              Area         m^2     24.5\n",
      "                    N                       1\n",
      "Purchase cost       Boilers      USD 1.02e+04\n",
      "Total purchase cost              USD 1.02e+04\n",
      "Utility cost                  USD/hr     50.4\n"
     ]
    }
   ],
   "source": [
    "# Note that utility requirements, items in the `design_results` dictionary,\n",
    "# and purchase costs are automatically included in the results dataframe.\n",
    "print(B1.results())"
   ]
  },
  {
   "cell_type": "markdown",
   "metadata": {},
   "source": [
    "### Graphviz attributes"
   ]
  },
  {
   "cell_type": "markdown",
   "metadata": {},
   "source": [
    "All [graphviz](https://graphviz.readthedocs.io/en/stable/manual.html) attributes for generating a diagram are stored in `_graphics` as a Graphics object. One Graphics object is generated for each Unit subclass:"
   ]
  },
  {
   "cell_type": "code",
   "execution_count": 5,
   "metadata": {},
   "outputs": [],
   "source": [
    "graphics = Boiler._graphics\n",
    "edge_in = graphics.edge_in\n",
    "edge_out = graphics.edge_out\n",
    "node = graphics.node"
   ]
  },
  {
   "cell_type": "code",
   "execution_count": 6,
   "metadata": {},
   "outputs": [
    {
     "data": {
      "text/plain": [
       "[{'headport': 'c'}]"
      ]
     },
     "execution_count": 6,
     "metadata": {},
     "output_type": "execute_result"
    }
   ],
   "source": [
    "# Attributes correspond to each inlet stream respectively\n",
    "# For example: Attributes for B1.ins[0] would correspond to edge_in[0]\n",
    "edge_in "
   ]
  },
  {
   "cell_type": "code",
   "execution_count": 7,
   "metadata": {},
   "outputs": [
    {
     "data": {
      "text/plain": [
       "[{'tailport': 'c'}, {'tailport': 'c'}]"
      ]
     },
     "execution_count": 7,
     "metadata": {},
     "output_type": "execute_result"
    }
   ],
   "source": [
    "# Attributes correspond to each outlet stream respectively\n",
    "# For example: Attributes for B1.outs[0] would correspond to edge_out[0]\n",
    "edge_out"
   ]
  },
  {
   "cell_type": "code",
   "execution_count": 8,
   "metadata": {},
   "outputs": [
    {
     "data": {
      "text/plain": [
       "{'shape': 'box',\n",
       " 'style': 'filled',\n",
       " 'gradientangle': '0',\n",
       " 'width': '0.6',\n",
       " 'height': '0.6',\n",
       " 'orientation': '0.0',\n",
       " 'peripheries': '1',\n",
       " 'margin': 'default',\n",
       " 'fontname': 'Arial'}"
      ]
     },
     "execution_count": 8,
     "metadata": {},
     "output_type": "execute_result"
    }
   ],
   "source": [
    "node # The node represents the actual unit"
   ]
  },
  {
   "cell_type": "markdown",
   "metadata": {},
   "source": [
    "These attributes can be changed to the user's liking:"
   ]
  },
  {
   "cell_type": "code",
   "execution_count": 9,
   "metadata": {},
   "outputs": [],
   "source": [
    "edge_out[0]['tailport'] = 'n'\n",
    "edge_out[1]['tailport'] = 's'\n",
    "node['width'] = '1'\n",
    "node['height'] = '1.2'"
   ]
  },
  {
   "cell_type": "code",
   "execution_count": 10,
   "metadata": {
    "tags": [
     "nbval-ignore-output"
    ]
   },
   "outputs": [
    {
     "data": {
      "image/svg+xml": [
       "<svg xmlns=\"http://www.w3.org/2000/svg\" xmlns:xlink=\"http://www.w3.org/1999/xlink\" width=\"200pt\" height=\"133pt\" viewBox=\"0.00 0.00 200.00 133.02\">\n",
       "<g id=\"graph0\" class=\"graph\" transform=\"scale(1 1) rotate(0) translate(4 129.02)\">\n",
       "<!-- B1\n",
       "Boiler&#45;&gt; gas -->\n",
       "<g id=\"edge1\" class=\"edge\">\n",
       "<title>B1\n",
       "Boiler:n-&gt; gas:w</title>\n",
       "<path fill=\"none\" stroke=\"#90918e\" d=\"M101,-104.02C101,-140.24 146.28,-103.02 182.5,-103.02\"/>\n",
       "<g id=\"a_edge1-label\"><a xlink:title=\"Temperature: 373 K\n",
       "Pressure: 101325 Pa\n",
       "Gas flow: 150 kmol/hr\">\n",
       "<text text-anchor=\"middle\" x=\"159\" y=\"-113.82\" font-family=\"Arial\" font-size=\"14.00\" fill=\"#90918e\"> gas</text>\n",
       "</a>\n",
       "</g>\n",
       "</g>\n",
       "<!-- B1\n",
       "Boiler&#45;&gt; liq -->\n",
       "<g id=\"edge3\" class=\"edge\">\n",
       "<title>B1\n",
       "Boiler:s-&gt; liq:w</title>\n",
       "<path fill=\"none\" stroke=\"#90918e\" d=\"M101,-16.02C101,20.21 146.28,-17.02 182.5,-17.02\"/>\n",
       "<g id=\"a_edge3-label\"><a xlink:title=\"Temperature: 373 K\n",
       "Pressure: 101325 Pa\n",
       "Liquid flow: 150 kmol/hr\">\n",
       "<text text-anchor=\"middle\" x=\"159\" y=\"-19.82\" font-family=\"Arial\" font-size=\"14.00\" fill=\"#90918e\"> liq</text>\n",
       "</a>\n",
       "</g>\n",
       "</g>\n",
       "<!--  water&#45;&gt;B1\n",
       "Boiler -->\n",
       "<g id=\"edge2\" class=\"edge\">\n",
       "<title> water:e-&gt;B1\n",
       "Boiler:c</title>\n",
       "<path fill=\"none\" stroke=\"#90918e\" stroke-width=\"2.2\" d=\"M11,-60.02C28.77,-60.02 48.53,-60.02 64.92,-60.02\"/>\n",
       "<g id=\"a_edge2-label\"><a xlink:title=\"Temperature: 298 K\n",
       "Pressure: 101325 Pa\n",
       "Liquid flow: 300 kmol/hr\">\n",
       "<text text-anchor=\"middle\" x=\"38\" y=\"-63.82\" font-family=\"Arial\" font-size=\"14.00\" fill=\"#90918e\"> water</text>\n",
       "</a>\n",
       "</g>\n",
       "</g>\n",
       "<!-- B1\n",
       "Boiler -->\n",
       "<g id=\"node1\" class=\"node\">\n",
       "<title>B1\n",
       "Boiler</title>\n",
       "<g id=\"a_node1\"><a xlink:title=\"Heating duty: 8.23e+03 MJ/hr\n",
       "Utility cost: 50.4 USD/hr\n",
       "Purchase cost: 10,166 USD\n",
       "Installed equipment cost: 24,907 USD\">\n",
       "<polygon fill=\"#555f69\" stroke=\"#90918e\" points=\"137,-103.02 65,-103.02 65,-17.02 137,-17.02 137,-103.02\"/>\n",
       "<text text-anchor=\"middle\" x=\"101\" y=\"-63.82\" font-family=\"Arial\" font-size=\"14.00\" fill=\"white\">B1</text>\n",
       "<text text-anchor=\"middle\" x=\"101\" y=\"-48.82\" font-family=\"Arial\" font-size=\"14.00\" fill=\"white\">Boiler</text>\n",
       "</a>\n",
       "</g>\n",
       "</g>\n",
       "<!--  gas -->\n",
       "<g id=\"node2\" class=\"node\">\n",
       "<title> gas</title>\n",
       "<polygon fill=\"#f98f60\" stroke=\"#90918e\" points=\"192,-103.02 183.75,-110.02 183.75,-96.02 192,-103.02\"/>\n",
       "</g>\n",
       "<!--  water -->\n",
       "<g id=\"node3\" class=\"node\">\n",
       "<title> water</title>\n",
       "<polygon fill=\"#f98f60\" stroke=\"#90918e\" points=\"5.5,-65.52 0,-60.02 5.5,-54.52 11,-60.02 5.5,-65.52\"/>\n",
       "</g>\n",
       "<!--  liq -->\n",
       "<g id=\"node4\" class=\"node\">\n",
       "<title> liq</title>\n",
       "<polygon fill=\"#f98f60\" stroke=\"#90918e\" points=\"192,-17.02 183.75,-24.02 183.75,-10.02 192,-17.02\"/>\n",
       "</g>\n",
       "</g>\n",
       "</svg>"
      ],
      "text/plain": [
       "<IPython.core.display.SVG object>"
      ]
     },
     "metadata": {},
     "output_type": "display_data"
    }
   ],
   "source": [
    "B1.diagram()"
   ]
  },
  {
   "cell_type": "markdown",
   "metadata": {},
   "source": [
    "It is also possible to dynamically adjust node and edge attributes by setting the `tailor_node_to_unit` attribute:"
   ]
  },
  {
   "cell_type": "code",
   "execution_count": 11,
   "metadata": {
    "tags": [
     "nbval-ignore-output"
    ]
   },
   "outputs": [
    {
     "data": {
      "image/svg+xml": [
       "<svg xmlns=\"http://www.w3.org/2000/svg\" xmlns:xlink=\"http://www.w3.org/1999/xlink\" width=\"200pt\" height=\"133pt\" viewBox=\"0.00 0.00 200.00 133.02\">\n",
       "<g id=\"graph0\" class=\"graph\" transform=\"scale(1 1) rotate(0) translate(4 129.02)\">\n",
       "<!-- B1\n",
       "Boiler&#45;&gt; gas -->\n",
       "<g id=\"edge1\" class=\"edge\">\n",
       "<title>B1\n",
       "Boiler:n-&gt; gas:w</title>\n",
       "<path fill=\"none\" stroke=\"#90918e\" d=\"M101,-104.02C101,-140.24 146.28,-103.02 182.5,-103.02\"/>\n",
       "<g id=\"a_edge1-label\"><a xlink:title=\"Temperature: 373 K\n",
       "Pressure: 101325 Pa\n",
       "Gas flow: 150 kmol/hr\">\n",
       "<text text-anchor=\"middle\" x=\"159\" y=\"-113.82\" font-family=\"Arial\" font-size=\"14.00\" fill=\"#90918e\"> gas</text>\n",
       "</a>\n",
       "</g>\n",
       "</g>\n",
       "<!-- B1\n",
       "Boiler&#45;&gt; liq -->\n",
       "<g id=\"edge3\" class=\"edge\">\n",
       "<title>B1\n",
       "Boiler:s-&gt; liq:w</title>\n",
       "<path fill=\"none\" stroke=\"#90918e\" d=\"M101,-16.02C101,20.21 146.28,-17.02 182.5,-17.02\"/>\n",
       "<g id=\"a_edge3-label\"><a xlink:title=\"Temperature: 373 K\n",
       "Pressure: 101325 Pa\n",
       "Liquid flow: 150 kmol/hr\">\n",
       "<text text-anchor=\"middle\" x=\"159\" y=\"-19.82\" font-family=\"Arial\" font-size=\"14.00\" fill=\"#90918e\"> liq</text>\n",
       "</a>\n",
       "</g>\n",
       "</g>\n",
       "<!--  water&#45;&gt;B1\n",
       "Boiler -->\n",
       "<g id=\"edge2\" class=\"edge\">\n",
       "<title> water:e-&gt;B1\n",
       "Boiler:c</title>\n",
       "<path fill=\"none\" stroke=\"#90918e\" stroke-width=\"2.2\" d=\"M11,-60.02C28.77,-60.02 48.53,-60.02 64.92,-60.02\"/>\n",
       "<g id=\"a_edge2-label\"><a xlink:title=\"Temperature: 298 K\n",
       "Pressure: 101325 Pa\n",
       "Liquid flow: 300 kmol/hr\">\n",
       "<text text-anchor=\"middle\" x=\"38\" y=\"-63.82\" font-family=\"Arial\" font-size=\"14.00\" fill=\"#90918e\"> water</text>\n",
       "</a>\n",
       "</g>\n",
       "</g>\n",
       "<!-- B1\n",
       "Boiler -->\n",
       "<g id=\"node1\" class=\"node\">\n",
       "<title>B1\n",
       "Boiler</title>\n",
       "<g id=\"a_node1\"><a xlink:title=\"Heating duty: 8.23e+03 MJ/hr\n",
       "Utility cost: 50.4 USD/hr\n",
       "Purchase cost: 10,166 USD\n",
       "Installed equipment cost: 24,907 USD\">\n",
       "<polygon fill=\"#555f69\" stroke=\"#90918e\" points=\"137,-103.02 65,-103.02 65,-17.02 137,-17.02 137,-103.02\"/>\n",
       "<text text-anchor=\"middle\" x=\"101\" y=\"-63.82\" font-family=\"Arial\" font-size=\"14.00\" fill=\"white\">B1</text>\n",
       "<text text-anchor=\"middle\" x=\"101\" y=\"-48.82\" font-family=\"Arial\" font-size=\"14.00\" fill=\"white\">Boiler</text>\n",
       "</a>\n",
       "</g>\n",
       "</g>\n",
       "<!--  gas -->\n",
       "<g id=\"node2\" class=\"node\">\n",
       "<title> gas</title>\n",
       "<polygon fill=\"#f98f60\" stroke=\"#90918e\" points=\"192,-103.02 183.75,-110.02 183.75,-96.02 192,-103.02\"/>\n",
       "</g>\n",
       "<!--  water -->\n",
       "<g id=\"node3\" class=\"node\">\n",
       "<title> water</title>\n",
       "<polygon fill=\"#f98f60\" stroke=\"#90918e\" points=\"5.5,-65.52 0,-60.02 5.5,-54.52 11,-60.02 5.5,-65.52\"/>\n",
       "</g>\n",
       "<!--  liq -->\n",
       "<g id=\"node4\" class=\"node\">\n",
       "<title> liq</title>\n",
       "<polygon fill=\"#f98f60\" stroke=\"#90918e\" points=\"192,-17.02 183.75,-24.02 183.75,-10.02 192,-17.02\"/>\n",
       "</g>\n",
       "</g>\n",
       "</svg>"
      ],
      "text/plain": [
       "<IPython.core.display.SVG object>"
      ]
     },
     "metadata": {},
     "output_type": "display_data"
    }
   ],
   "source": [
    "def tailor_node_to_unit(node, unit):\n",
    "    feed = unit.ins[0]\n",
    "    if not feed.F_mol:\n",
    "        node['name'] += '\\n-empty-'\n",
    "graphics.tailor_node_to_unit = tailor_node_to_unit\n",
    "B1.diagram()"
   ]
  },
  {
   "cell_type": "code",
   "execution_count": 12,
   "metadata": {
    "tags": [
     "nbval-ignore-output"
    ]
   },
   "outputs": [
    {
     "data": {
      "image/svg+xml": [
       "<svg xmlns=\"http://www.w3.org/2000/svg\" xmlns:xlink=\"http://www.w3.org/1999/xlink\" width=\"200pt\" height=\"133pt\" viewBox=\"0.00 0.00 200.00 133.02\">\n",
       "<g id=\"graph0\" class=\"graph\" transform=\"scale(1 1) rotate(0) translate(4 129.02)\">\n",
       "<!-- B1\n",
       "Boiler\n",
       "&#45;empty&#45;&#45;&gt; gas -->\n",
       "<g id=\"edge1\" class=\"edge\">\n",
       "<title>B1\n",
       "Boiler\n",
       "-empty-:n-&gt; gas:w</title>\n",
       "<path fill=\"none\" stroke=\"#90918e\" d=\"M101,-104.02C101,-140.24 146.28,-103.02 182.5,-103.02\"/>\n",
       "<g id=\"a_edge1-label\"><a xlink:title=\"Temperature: 373 K\n",
       "Pressure: 101325 Pa\n",
       "Gas flow: 150 kmol/hr\">\n",
       "<text text-anchor=\"middle\" x=\"159\" y=\"-113.82\" font-family=\"Arial\" font-size=\"14.00\" fill=\"#90918e\"> gas</text>\n",
       "</a>\n",
       "</g>\n",
       "</g>\n",
       "<!-- B1\n",
       "Boiler\n",
       "&#45;empty&#45;&#45;&gt; liq -->\n",
       "<g id=\"edge3\" class=\"edge\">\n",
       "<title>B1\n",
       "Boiler\n",
       "-empty-:s-&gt; liq:w</title>\n",
       "<path fill=\"none\" stroke=\"#90918e\" d=\"M101,-16.02C101,20.21 146.28,-17.02 182.5,-17.02\"/>\n",
       "<g id=\"a_edge3-label\"><a xlink:title=\"Temperature: 373 K\n",
       "Pressure: 101325 Pa\n",
       "Liquid flow: 150 kmol/hr\">\n",
       "<text text-anchor=\"middle\" x=\"159\" y=\"-19.82\" font-family=\"Arial\" font-size=\"14.00\" fill=\"#90918e\"> liq</text>\n",
       "</a>\n",
       "</g>\n",
       "</g>\n",
       "<!--  water&#45;&gt;B1\n",
       "Boiler\n",
       "&#45;empty&#45; -->\n",
       "<g id=\"edge2\" class=\"edge\">\n",
       "<title> water:e-&gt;B1\n",
       "Boiler\n",
       "-empty-:c</title>\n",
       "<path fill=\"none\" stroke=\"#90918e\" stroke-dasharray=\"5,2\" d=\"M11,-60.02C28.77,-60.02 48.53,-60.02 64.92,-60.02\"/>\n",
       "<g id=\"a_edge2-label\"><a xlink:title=\"(empty)\">\n",
       "<text text-anchor=\"middle\" x=\"38\" y=\"-63.82\" font-family=\"Arial\" font-size=\"14.00\" fill=\"#90918e\"> water</text>\n",
       "</a>\n",
       "</g>\n",
       "</g>\n",
       "<!-- B1\n",
       "Boiler\n",
       "&#45;empty&#45; -->\n",
       "<g id=\"node1\" class=\"node\">\n",
       "<title>B1\n",
       "Boiler\n",
       "-empty-</title>\n",
       "<g id=\"a_node1\"><a xlink:title=\"Heating duty: 8.23e+03 MJ/hr\n",
       "Utility cost: 50.4 USD/hr\n",
       "Purchase cost: 10,166 USD\n",
       "Installed equipment cost: 24,907 USD\">\n",
       "<polygon fill=\"#555f69\" stroke=\"#90918e\" points=\"137,-103.02 65,-103.02 65,-17.02 137,-17.02 137,-103.02\"/>\n",
       "<text text-anchor=\"middle\" x=\"101\" y=\"-71.32\" font-family=\"Arial\" font-size=\"14.00\" fill=\"white\">B1</text>\n",
       "<text text-anchor=\"middle\" x=\"101\" y=\"-56.32\" font-family=\"Arial\" font-size=\"14.00\" fill=\"white\">Boiler</text>\n",
       "<text text-anchor=\"middle\" x=\"101\" y=\"-41.32\" font-family=\"Arial\" font-size=\"14.00\" fill=\"white\">-empty-</text>\n",
       "</a>\n",
       "</g>\n",
       "</g>\n",
       "<!--  gas -->\n",
       "<g id=\"node2\" class=\"node\">\n",
       "<title> gas</title>\n",
       "<polygon fill=\"#f98f60\" stroke=\"#90918e\" points=\"192,-103.02 183.75,-110.02 183.75,-96.02 192,-103.02\"/>\n",
       "</g>\n",
       "<!--  water -->\n",
       "<g id=\"node3\" class=\"node\">\n",
       "<title> water</title>\n",
       "<polygon fill=\"#f98f60\" stroke=\"#90918e\" points=\"5.5,-65.52 0,-60.02 5.5,-54.52 11,-60.02 5.5,-65.52\"/>\n",
       "</g>\n",
       "<!--  liq -->\n",
       "<g id=\"node4\" class=\"node\">\n",
       "<title> liq</title>\n",
       "<polygon fill=\"#f98f60\" stroke=\"#90918e\" points=\"192,-17.02 183.75,-24.02 183.75,-10.02 192,-17.02\"/>\n",
       "</g>\n",
       "</g>\n",
       "</svg>"
      ],
      "text/plain": [
       "<IPython.core.display.SVG object>"
      ]
     },
     "metadata": {},
     "output_type": "display_data"
    }
   ],
   "source": [
    "B1.ins[0].empty()\n",
    "B1.diagram()"
   ]
  },
  {
   "cell_type": "markdown",
   "metadata": {},
   "source": [
    "NOTE: The example implementation of the `tailor_node_to_unit` function is not suggested; best to keep diagrams simple."
   ]
  },
  {
   "cell_type": "markdown",
   "metadata": {},
   "source": [
    "### Cost decorator"
   ]
  },
  {
   "cell_type": "markdown",
   "metadata": {},
   "source": [
    "The cost decorator adds a free on board purchase cost based on the exponential scale up equation:\n",
    "<div style=\"background: rgba(255,255,255,.8)\">\n",
    "$$New\\ cost = N \\cdot cost \\bigg(\\frac{CE_{new}}{CE}\\bigg) \\bigg(\\frac{S_{new}}{N \\cdot S}\\bigg)^{n}$$\n",
    "$$Electricity\\ rate = kW \\bigg(\\frac{S_{new}}{S}\\bigg)$$\n",
    "$$N = ceil \\bigg( \\frac{S_{new}}{ub} \\bigg)$$\n",
    "    \n",
    "$N\\text{: Number of units}$\n",
    "\n",
    "$ub\\text{: Upper bound of size}$\n",
    "\n",
    "$CE_{new}\\text{: New Chemical Engineering Plant Cost Index}$\n",
    "\n",
    "$CE\\text{: Chemical Engineering Plant Cost Index}$\n",
    "    \n",
    "$S_{new}\\text{: New size value}$\n",
    "    \n",
    "$S\\text{: Original size value}$\n",
    "    \n",
    "$cost\\text{: Free on board purchase cost at size S}$\n",
    "    \n",
    "$kW\\text{: Electricity rate in kW at size S}$\n",
    "    \n",
    "$n\\text{: Exponential factor}$\n",
    "    \n",
    "$lifetime\\text{: Number of operating years until equipment needs to be replaced}$\n",
    "</div>"
   ]
  },
  {
   "cell_type": "markdown",
   "metadata": {},
   "source": [
    "Create a Shredder Unit subclass for sugar cane with the following exponential scale up factors [[1]](#References):\n",
    "\n",
    "* Chemical Engineering Plant Cost Index: 567.3\n",
    "* Size: 500,000 kg/hr flow rate\n",
    "* Purchase cost: $2,500,000\n",
    "* Electricity rate: 3,000 kW\n",
    "* Exponential factor: 0.6\n",
    "* Bare module factor: 1.39\n",
    "* Equipment lifetime: 30\n",
    "\n",
    "Additionally, include a bare module factor of 1.39 as an approximation for this example [[2]](#References)."
   ]
  },
  {
   "cell_type": "code",
   "execution_count": 13,
   "metadata": {},
   "outputs": [
    {
     "name": "stdout",
     "output_type": "stream",
     "text": [
      "Shredder: U1\n",
      "ins...\n",
      "[0] s1\n",
      "    phase: 'l', T: 298.15 K, P: 101325 Pa\n",
      "    flow (kg/hr): SugarCane  1e+06\n",
      "outs...\n",
      "[0] s2\n",
      "    phase: 'l', T: 298.15 K, P: 101325 Pa\n",
      "    flow (kg/hr): SugarCane  1e+06\n",
      "Shredder                        Units       U1\n",
      "Power               Rate           kW    6e+03\n",
      "                    Cost       USD/hr      469\n",
      "Design              Flow rate   kg/hr    1e+06\n",
      "Purchase cost       Shredder      USD 4.03e+06\n",
      "Total purchase cost               USD 4.03e+06\n",
      "Utility cost                   USD/hr      469\n"
     ]
    }
   ],
   "source": [
    "import biosteam as bst\n",
    "from biosteam.units.decorators import cost\n",
    "\n",
    "# Set up thermo property package\n",
    "chemicals = bst.Chemicals(['Water', 'Ethanol'])\n",
    "SugarCane = bst.Chemical.blank('SugarCane', phase_ref='s')\n",
    "SugarCane.default()\n",
    "chemicals.append(SugarCane)\n",
    "bst.settings.set_thermo(chemicals)\n",
    "\n",
    "# For year 2018\n",
    "bst.CE = 603.1 \n",
    "\n",
    "# basis will be the total flow rate in kg/hr\n",
    "@cost('Flow rate', units='kg/hr', cost=2.5e6, CE=567.3,\n",
    "      n=0.6, S=500e3, kW=3000, BM=1.39, lifetime=30)\n",
    "class Shredder(bst.Unit): pass\n",
    "# Units without a `_run` method assume one input and output stream\n",
    "# that share the same flow rates and conditions\n",
    "\n",
    "### Test a Shreadder object ###\n",
    "\n",
    "# Display flow rate in kg/hr\n",
    "bst.Stream.display_units.flow = 'kg/hr'\n",
    "\n",
    "feed = bst.Stream(SugarCane=1e6, units='kg/hr')\n",
    "shredder = Shredder(ins=feed)\n",
    "shredder.simulate()\n",
    "\n",
    "shredder.show()\n",
    "print(shredder.results())"
   ]
  },
  {
   "cell_type": "markdown",
   "metadata": {},
   "source": [
    "Cost data is stored as CostItem objects in the `cost_items` dictionary:"
   ]
  },
  {
   "cell_type": "code",
   "execution_count": 14,
   "metadata": {},
   "outputs": [
    {
     "data": {
      "text/plain": [
       "{'Shredder': <CostItem: Flow rate (kg/hr)>}"
      ]
     },
     "execution_count": 14,
     "metadata": {},
     "output_type": "execute_result"
    }
   ],
   "source": [
    "Shredder.cost_items"
   ]
  },
  {
   "cell_type": "code",
   "execution_count": 15,
   "metadata": {},
   "outputs": [
    {
     "name": "stdout",
     "output_type": "stream",
     "text": [
      "CostItem: Flow rate (kg/hr)\n",
      " S     5e+05\n",
      " CE    567\n",
      " cost  2.5e+06\n",
      " n     0.6\n",
      " kW    3e+03\n",
      "\n"
     ]
    }
   ],
   "source": [
    "Shredder.cost_items['Shredder']"
   ]
  },
  {
   "cell_type": "markdown",
   "metadata": {},
   "source": [
    "Bare module factors and equipment lifetimes are stored separately:"
   ]
  },
  {
   "cell_type": "code",
   "execution_count": 16,
   "metadata": {},
   "outputs": [
    {
     "data": {
      "text/plain": [
       "{'Shredder': 30}"
      ]
     },
     "execution_count": 16,
     "metadata": {},
     "output_type": "execute_result"
    }
   ],
   "source": [
    "Shredder._default_equipment_lifetime"
   ]
  },
  {
   "cell_type": "markdown",
   "metadata": {},
   "source": [
    "Any option can be changed:"
   ]
  },
  {
   "cell_type": "code",
   "execution_count": 17,
   "metadata": {},
   "outputs": [
    {
     "name": "stdout",
     "output_type": "stream",
     "text": [
      "Shredder                        Units       U1\n",
      "Power               Rate           kW    6e+03\n",
      "                    Cost       USD/hr      469\n",
      "Design              Flow rate   kg/hr    1e+06\n",
      "Purchase cost       Shredder      USD 4.83e+06\n",
      "Total purchase cost               USD 4.83e+06\n",
      "Utility cost                   USD/hr      469\n"
     ]
    }
   ],
   "source": [
    "Shredder.cost_items['Shredder'].cost = 3e6 # Change base cost\n",
    "# This also works:\n",
    "# Shredder.cost_items['Shredder']['cost'] = 3e6\n",
    "shredder.simulate()\n",
    "print(shredder.results())"
   ]
  },
  {
   "cell_type": "code",
   "execution_count": 18,
   "metadata": {},
   "outputs": [
    {
     "name": "stdout",
     "output_type": "stream",
     "text": [
      "Shredder                        Units       U1\n",
      "Power               Rate           kW    6e+03\n",
      "                    Cost       USD/hr      469\n",
      "Design              Flow rate   kg/hr    1e+06\n",
      "                    #Shredder                2\n",
      "Purchase cost       Shredder      USD 6.38e+06\n",
      "Total purchase cost               USD 6.38e+06\n",
      "Utility cost                   USD/hr      469\n"
     ]
    }
   ],
   "source": [
    "Shredder.cost_items['Shredder'].ub = 6e5 # Change size upper bound\n",
    "shredder.simulate()\n",
    "print(shredder.results())"
   ]
  },
  {
   "cell_type": "markdown",
   "metadata": {},
   "source": [
    "Note: It is also possible to decorate a Unit subclass multiple times to add multiple cost items."
   ]
  },
  {
   "cell_type": "markdown",
   "metadata": {},
   "source": [
    "It is also possible to extend the decorated cost. In this next example we will add an agitator to a flash vessel with the following exponential scale up factors [[3]](#References):\n",
    "\n",
    "* Chemical Engineering Plant Cost Index: 522\n",
    "* Size: 252,891 kg/hr flow rate\n",
    "* Purchase cost: $90,000\n",
    "* Electricity rate: 170 kW\n",
    "* Exponential factor: 0.5\n",
    "* Bare module factor: 1.5\n",
    "* Lifetime: Number of biorefinery operating years"
   ]
  },
  {
   "cell_type": "code",
   "execution_count": 19,
   "metadata": {
    "tags": [
     "nbval-ignore-output"
    ]
   },
   "outputs": [
    {
     "name": "stdout",
     "output_type": "stream",
     "text": [
      "Flash with agitator                                   Units            F1\n",
      "Power               Rate                                 kW          25.2\n",
      "                    Cost                             USD/hr          1.97\n",
      "Low pressure steam  Duty                              kJ/hr      2.81e+07\n",
      "                    Flow                            kmol/hr           725\n",
      "                    Cost                             USD/hr           172\n",
      "Design              Vessel type                                  Vertical\n",
      "                    Length                               ft          13.5\n",
      "                    Diameter                             ft           8.5\n",
      "                    Weight                               lb      8.61e+03\n",
      "                    Wall thickness                       in         0.438\n",
      "                    Flow rate                         kg/hr      3.74e+04\n",
      "                    Vessel material                          Carbon steel\n",
      "Purchase cost       Heat exchanger - Floating head      USD      3.65e+04\n",
      "                    Vertical pressure vessel            USD      4.65e+04\n",
      "                    Platform and ladders                USD      1.35e+04\n",
      "                    Agitator                            USD         4e+04\n",
      "Total purchase cost                                     USD      1.36e+05\n",
      "Utility cost                                         USD/hr           174\n"
     ]
    }
   ],
   "source": [
    "@cost('Flow rate', 'Agitator', units='kg/hr',\n",
    "      cost=90e3, S=252891, kW=170, CE=522, n=0.5, BM=1.5)\n",
    "class FlashWithAgitator(bst.Flash):\n",
    "    \n",
    "    def _design(self):\n",
    "        super()._design()\n",
    "        self._decorated_design()\n",
    "    \n",
    "    def _cost(self):\n",
    "        # Run flash cost algorithm\n",
    "        super()._cost()\n",
    "        \n",
    "        # Save vacuum pump rate to add it back later.\n",
    "        if self.P < 101325:\n",
    "            rate = self.power_utility.rate # Has a vacuum pump\n",
    "        else:\n",
    "            rate = 0 # No vacuum\n",
    "        \n",
    "        # Run decorated cost algorithm\n",
    "        self._decorated_cost()\n",
    "        \n",
    "        if rate:\n",
    "            # Agitator rate replaced vacuum pump rate\n",
    "            # so add both and set power utility\n",
    "            self.power_utility(self.power_utility.rate + rate)\n",
    "        \n",
    "# Test\n",
    "F1 = FlashWithAgitator('F1', bst.Stream('feed', Water=800, Ethanol=500, T=350),\n",
    "                       V=0.5, P=101325)\n",
    "F1.simulate()\n",
    "print(F1.results())"
   ]
  },
  {
   "cell_type": "markdown",
   "metadata": {},
   "source": [
    "### References\n",
    "\n",
    "<a id='References'></a>\n",
    "\n",
    "1. Huang, H., Long, S., & Singh, V. (2016) \"Techno-economic analysis of biodiesel and ethanol co-production from lipid-producing sugarcane\" Biofuels, Bioproducts and Biorefining, 10(3), 299–315. https://doi.org/10.1002/bbb.1640\n",
    "\n",
    "2. Seider, W. D., Lewin,  D. R., Seader, J. D., Widagdo, S., Gani, R., & Ng, M. K. (2017). Product and Process Design Principles. Wiley. Cost Accounting and Capital Cost Estimation (Chapter 16)\n",
    "\n",
    "3. Humbird, D., Davis, R., Tao, L., Kinchin, C., Hsu, D., Aden, A., Dudgeon, D. (2011). Process Design and Economics for Biochemical Conversion of Lignocellulosic Biomass to Ethanol: Dilute-Acid Pretreatment and Enzymatic Hydrolysis of Corn Stover (No. NREL/TP-5100-47764, 1013269). https://doi.org/10.2172/1013269\n"
   ]
  }
 ],
 "metadata": {
  "celltoolbar": "Tags",
  "kernelspec": {
   "display_name": "Python 3 (ipykernel)",
   "language": "python",
   "name": "python3"
  },
  "language_info": {
   "codemirror_mode": {
    "name": "ipython",
    "version": 3
   },
   "file_extension": ".py",
   "mimetype": "text/x-python",
   "name": "python",
   "nbconvert_exporter": "python",
   "pygments_lexer": "ipython3",
   "version": "3.9.12"
  }
 },
 "nbformat": 4,
 "nbformat_minor": 2
}
