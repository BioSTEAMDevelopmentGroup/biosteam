{
 "cells": [
  {
   "cell_type": "markdown",
   "metadata": {},
   "source": [
    "# Inheriting from Unit"
   ]
  },
  {
   "cell_type": "markdown",
   "metadata": {},
   "source": [
    "## Layout"
   ]
  },
  {
   "cell_type": "raw",
   "metadata": {
    "raw_mimetype": "text/restructuredtext"
   },
   "source": [
    ".. figure:: Unit_UML.png\n",
    "   :class: dark-light\n",
    "   :align: center"
   ]
  },
  {
   "cell_type": "markdown",
   "metadata": {},
   "source": [
    "**A Unit subclass has class attributes that dictate how an instance is initialized:**\n",
    "    \n",
    "* `_F_BM_default` : dict[str, float] Default bare module factors for each purchase cost item.\n",
    "\n",
    "* `_units` : [dict] Units of measure for the `design_results` items.\n",
    "\n",
    "* `_N_ins`=1 : [int] Expected number of input streams.\n",
    "    \n",
    "* `_N_outs`=1 : [int] Expected number of output streams.\n",
    "    \n",
    "* `_ins_size_is_fixed`=True : [bool] Whether the number of streams in ins is fixed.\n",
    "    \n",
    "* `_outs_size_is_fixed`=True : [bool] Whether the number of streams in outs is fixed.\n",
    "\n",
    "* `auxiliary_unit_names`=() : tuple[str] Name of attributes that are auxiliary units.\n",
    "\n",
    "* `_graphics` : [biosteam Graphics] A Graphics object for diagram representation. Defaults to a box diagram.\n",
    "\n",
    "* `_default_equipment_lifetime` : [int] or dict[str, int] Default lifetime of equipment. Defaults to lifetime of production venture.\n",
    "    \n",
    "* `line` : [str] Label for the unit operation in a diagram. Defaults to the class name.\n",
    "\n",
    "**Abstract methods are used to run heat and mass balances, find design requirements, and cost the unit:**\n",
    "\n",
    "* `_run()` : Called during System convergece to specify `outs` streams.\n",
    "\n",
    "* `_design()` : Called after System convergence to find design requirements. \n",
    "\n",
    "* `_cost()` : Called after `_design` to find cost requirements.\n",
    "\n",
    "**These abstract methods will rely on the following instance attributes:**\n",
    "\n",
    "* `ins` : Inlets[Stream] Input streams.\n",
    "\n",
    "* `outs` : Outlets[Stream] Output streams.\n",
    "\n",
    "* `power_utility` : [PowerUtility] Used to add electricity rate requirement.\n",
    "\n",
    "* `heat_utilities` : list[HeatUtility] Used to add cooling and heating requirements.\n",
    "\n",
    "* `design_results` : [dict] All design requirements.\n",
    "\n",
    "* `baseline_purchase_costs` : [dict] Itemized purchase costs (without accounting for design, pressure or material factors).\n",
    "\n",
    "* `parallel` : [dict] Name-number pairs of baseline purchase costs and auxiliary unit operations in parallel.\n",
    "\n",
    "* `F_BM`: [dict] Bare-module factors.\n",
    "\n",
    "* `F_D`: [dict] Design factors.\n",
    "\n",
    "* `F_P`: [dict] Pressure factors.\n",
    "\n",
    "* `F_M`: [dict] Material factors.\n",
    "\n",
    "* `equipment_lifetime`: [dict] Lifetime of each equiment.\n",
    "\n",
    "* `thermo` : [Thermo] The thermodynamic property package used by the unit."
   ]
  },
  {
   "cell_type": "markdown",
   "metadata": {},
   "source": [
    "### Subclass example"
   ]
  },
  {
   "cell_type": "markdown",
   "metadata": {},
   "source": [
    "The following example depicts inheritance from Unit by creating a new Boiler class:"
   ]
  },
  {
   "cell_type": "code",
   "execution_count": 1,
   "metadata": {},
   "outputs": [],
   "source": [
    "import biosteam as bst\n",
    "from math import ceil\n",
    "bst.nbtutorial()\n",
    "\n",
    "class Boiler(bst.Unit):\n",
    "    \"\"\"\n",
    "    Create a Boiler object that partially boils the feed.\n",
    "    \n",
    "    Parameters\n",
    "    ----------\n",
    "    ins :\n",
    "        Inlet fluid.\n",
    "    outs :\n",
    "        * [0] vapor product\n",
    "        * [1] liquid product\n",
    "    V : float\n",
    "        Molar vapor fraction.\n",
    "    P : float\n",
    "        Operating pressure [Pa].\n",
    "    \n",
    "    \"\"\"\n",
    "    # Note that the documentation does not include `ID` or `thermo` in the parameters.\n",
    "    # This is OK, and most subclasses in BioSTEAM are documented this way too.\n",
    "    # Documentation for all unit operations should include the inlet and outlet streams\n",
    "    # listed by index. If there is only one stream in the inlets (or outlets), there is no\n",
    "    # need to list out by index. There is no need to specify the types for the `ins` and `outs` either;\n",
    "    # BioSTEAM automatically adds the correct types for these when creating the documentation.\n",
    "    # Any additional arguments to the unit should also be listed (e.g. V, and P).\n",
    "    \n",
    "    _N_ins = 1 # Number in inlets\n",
    "    _N_outs = 2 # Number in outlets\n",
    "    _units = {'Area': 'm^2'}\n",
    "    \n",
    "    def _init(self, V, P):\n",
    "        # The _init methods adds input parameters for unit creation\n",
    "        self.V = V #: Molar vapor fraction.\n",
    "        self.P = P #: Operating pressure [Pa].\n",
    "  \n",
    "    def _run(self):\n",
    "        # Equivalent to self.ins[0] when the number of inlets is one\n",
    "        feed = self.feed \n",
    "        vap, liq = self.outs\n",
    "        \n",
    "        # Perform vapor-liquid equilibrium\n",
    "        stream = feed.copy()\n",
    "        stream.vle(V=self.V, P=self.P)\n",
    "        \n",
    "        # Update outlet streams\n",
    "        vap.copy_like(stream['g'])\n",
    "        liq.copy_like(stream['l'])\n",
    "        \n",
    "    def _design(self):\n",
    "        # Add heat utility requirement\n",
    "        T_operation = self.outs[0].T\n",
    "        duty = self.H_out - self.H_in\n",
    "        if duty < 0: raise RuntimeError(f'{repr(self)} is cooling.')\n",
    "        heat_utility = self.add_heat_utility(duty, T_operation) # New utility is also in self.heat_utilities\n",
    "        \n",
    "        # Temperature of utility at entrance\n",
    "        T_utility = heat_utility.inlet_utility_stream.T\n",
    "        \n",
    "        # Temeperature gradient\n",
    "        dT = T_utility - T_operation\n",
    "        \n",
    "        # Heat transfer coefficient kJ/(hr*m2*K)\n",
    "        U = 8176.699 \n",
    "        \n",
    "        # Area requirement (m^2)\n",
    "        A = duty /(U * dT)\n",
    "        \n",
    "        # Maximum area per unit\n",
    "        A_max = 743.224\n",
    "        \n",
    "        # Number of units\n",
    "        N = ceil(A / A_max)\n",
    "        \n",
    "        # Design requirements (excluding utilities) are stored here\n",
    "        self.design_results['Area'] = A / N\n",
    "        \n",
    "        # The capital cost of all boilers will be equal to the cost of a single\n",
    "        # boiler by the number of boilers\n",
    "        self.parallel['Boiler'] = N\n",
    "        \n",
    "    def _cost(self):\n",
    "        A = self.design_results['Area']\n",
    "        \n",
    "        # Long-tube vertical boiler cost correlation from \n",
    "        # \"Product process and design\". Warren et. al. (2016) Table 22.32, pg 592\n",
    "        purchase_cost = bst.settings.CEPCI * 3.086 * A **0.55\n",
    "        \n",
    "        # Itemized purchase costs are stored here\n",
    "        self.baseline_purchase_costs['Boiler'] = purchase_cost # Not accounting for material factor\n",
    "        \n",
    "        # Assume design, pressure, and material factors are 1.\n",
    "        self.F_D['Boiler'] = self.F_P['Boiler'] = self.F_M['Boiler'] = 1.\n",
    "        \n",
    "        # Set bare-module factor for boilers\n",
    "        self.F_BM['Boiler'] = 2.45\n",
    "    "
   ]
  },
  {
   "cell_type": "markdown",
   "metadata": {},
   "source": [
    "### Simulation test"
   ]
  },
  {
   "cell_type": "code",
   "execution_count": 2,
   "metadata": {
    "tags": [
     "nbval-ignore-output"
    ]
   },
   "outputs": [
    {
     "data": {
      "text/html": [
       "\n",
       "        <iframe\n",
       "            width=\"100%\"\n",
       "            height=\"225px\"\n",
       "            src=\"data:text/html;charset=utf-8,%3C%21DOCTYPE%20html%3E%3Chtml%3E%3Chead%3E%3Clink%20rel%3D%22stylesheet%22%20href%3D%22https%3A//unpkg.com/tippy.js%406.3.7/themes/translucent.css%22%3E%3Clink%20rel%3D%22stylesheet%22%20href%3D%22https%3A//rawcdn.githack.com/BioSTEAMDevelopmentGroup/biosteam/e065aca079c216d72b75949bbcbb74a3bbddb75d/biosteam/digraph/digraph.css%22%3E%3Cscript%20src%3D%22https%3A//unpkg.com/%40popperjs/core%402%22%3E%3C/script%3E%3Cscript%20src%3D%22https%3A//unpkg.com/tippy.js%406%22%3E%3C/script%3E%3Cscript%20src%3D%22https%3A//rawcdn.githack.com/BioSTEAMDevelopmentGroup/biosteam/e065aca079c216d72b75949bbcbb74a3bbddb75d/biosteam/digraph/digraph.js%22%3E%3C/script%3E%3C/head%3E%3Cbody%3E%3Csvg%20width%3D%22181pt%22%20height%3D%2285pt%22%20viewBox%3D%220.00%200.00%20181.00%2085.00%22%3E%0A%3Cg%20id%3D%22graph0%22%20class%3D%22graph%22%20transform%3D%22scale%281%201%29%20rotate%280%29%20translate%284%2081%29%22%3E%0A%3Cpolygon%20fill%3D%22%23ffffff%22%20fill-opacity%3D%220.666667%22%20stroke%3D%22transparent%22%20points%3D%22-4%2C4%20-4%2C-81%20177%2C-81%20177%2C4%20-4%2C4%22%3E%3C/polygon%3E%0A%0A%3Cg%20id%3D%22edge2%22%20class%3D%22edge%22%20data-tippy-content%3D%22%28empty%29%22%3E%0A%3Cpath%20fill%3D%22none%22%20stroke%3D%22%234e4e4e%22%20stroke-dasharray%3D%225%2C2%22%20d%3D%22M118.19%2C-50.47C131.28%2C-56.95%20147.73%2C-63%20163.5%2C-63%22%3E%3C/path%3E%0A%3Cg%20id%3D%22a_edge2-label%22%3E%3Ca%20title%3D%22%28empty%29%22%3E%0A%3Ctext%20text-anchor%3D%22middle%22%20x%3D%22140%22%20y%3D%22-65.8%22%20font-family%3D%22Arial%22%20font-size%3D%2214.00%22%20fill%3D%22%234e4e4e%22%3E%20gas%3C/text%3E%0A%3C/a%3E%0A%3C/g%3E%0A%3C/g%3E%0A%0A%3Cg%20id%3D%22edge3%22%20class%3D%22edge%22%20data-tippy-content%3D%22%28empty%29%22%3E%0A%3Cpath%20fill%3D%22none%22%20stroke%3D%22%234e4e4e%22%20stroke-dasharray%3D%225%2C2%22%20d%3D%22M118.19%2C-19.53C131.28%2C-13.05%20147.73%2C-7%20163.5%2C-7%22%3E%3C/path%3E%0A%3Cg%20id%3D%22a_edge3-label%22%3E%3Ca%20title%3D%22%28empty%29%22%3E%0A%3Ctext%20text-anchor%3D%22middle%22%20x%3D%22140%22%20y%3D%22-19.8%22%20font-family%3D%22Arial%22%20font-size%3D%2214.00%22%20fill%3D%22%234e4e4e%22%3E%20liq%3C/text%3E%0A%3C/a%3E%0A%3C/g%3E%0A%3C/g%3E%0A%0A%3Cg%20id%3D%22edge1%22%20class%3D%22edge%22%20data-tippy-content%3D%22Temperature%3A%20298.15%20K%3Cbr%26gt%3BPressure%3A%20101325%20Pa%3Cbr%26gt%3BLiquid%20flow%3A%20300%20kmol/hr%22%3E%0A%3Cpath%20fill%3D%22none%22%20stroke%3D%22%234e4e4e%22%20d%3D%22M11%2C-35C28.94%2C-35%2049.16%2C-35%2064.72%2C-35%22%3E%3C/path%3E%0A%3Cg%20id%3D%22a_edge1-label%22%3E%3Ca%20title%3D%22%20Temperature%3A%20298.15%20K%3Cbr%26gt%3BPressure%3A%20101325%20Pa%3Cbr%26gt%3BLiquid%20flow%3A%20300%20kmol/hr%22%3E%0A%3Ctext%20text-anchor%3D%22middle%22%20x%3D%2238%22%20y%3D%22-38.8%22%20font-family%3D%22Arial%22%20font-size%3D%2214.00%22%20fill%3D%22%234e4e4e%22%3E%20water%3C/text%3E%0A%3C/a%3E%0A%3C/g%3E%0A%3C/g%3E%0A%0A%3Cg%20id%3D%22node1%22%20class%3D%22node%22%20data-tippy-content%3D%22No%20capital%20costs%20or%20utilities%22%3E%0A%3Cg%20id%3D%22a_node1%22%3E%3Ca%20title%3D%22%20No%20capital%20costs%20or%20utilities%22%3E%0A%3Cdefs%3E%0A%3ClinearGradient%20id%3D%22l_0%22%20gradientUnits%3D%22userSpaceOnUse%22%20x1%3D%2265%22%20y1%3D%22-35%22%20x2%3D%22118%22%20y2%3D%22-35%22%3E%0A%3Cstop%20offset%3D%220%22%20style%3D%22stop-color%3Awhite%3Bstop-opacity%3A1.%3B%22%3E%3C/stop%3E%0A%3Cstop%20offset%3D%221%22%20style%3D%22stop-color%3A%23cdcdcd%3Bstop-opacity%3A1.%3B%22%3E%3C/stop%3E%0A%3C/linearGradient%3E%0A%3C/defs%3E%0A%3Cpolygon%20fill%3D%22url%28%23l_0%29%22%20stroke%3D%22%234e4e4e%22%20points%3D%22118%2C-56.5%2065%2C-56.5%2065%2C-13.5%20118%2C-13.5%20118%2C-56.5%22%3E%3C/polygon%3E%0A%3Ctext%20text-anchor%3D%22middle%22%20x%3D%2291.5%22%20y%3D%22-38.8%22%20font-family%3D%22Arial%22%20font-size%3D%2214.00%22%3EB1%3C/text%3E%0A%3Ctext%20text-anchor%3D%22middle%22%20x%3D%2291.5%22%20y%3D%22-23.8%22%20font-family%3D%22Arial%22%20font-size%3D%2214.00%22%3EBoiler%3C/text%3E%0A%3C/a%3E%0A%3C/g%3E%0A%3C/g%3E%0A%0A%3Cg%20id%3D%22node2%22%20class%3D%22node%22%20data-tippy-content%3D%22149738691136%22%3E%0A%3Cpolygon%20fill%3D%22%23f98f60%22%20stroke%3D%22%234e4e4e%22%20points%3D%225.5%2C-40.5%200%2C-35%205.5%2C-29.5%2011%2C-35%205.5%2C-40.5%22%3E%3C/polygon%3E%0A%3C/g%3E%0A%0A%3Cg%20id%3D%22node3%22%20class%3D%22node%22%20data-tippy-content%3D%22149738691059%22%3E%0A%3Cpolygon%20fill%3D%22%23f98f60%22%20stroke%3D%22%234e4e4e%22%20points%3D%22173%2C-63%20164.75%2C-70%20164.75%2C-56%20173%2C-63%22%3E%3C/polygon%3E%0A%3C/g%3E%0A%0A%3Cg%20id%3D%22node4%22%20class%3D%22node%22%20data-tippy-content%3D%22149738691147%22%3E%0A%3Cpolygon%20fill%3D%22%23f98f60%22%20stroke%3D%22%234e4e4e%22%20points%3D%22173%2C-7%20164.75%2C-14%20164.75%2C0%20173%2C-7%22%3E%3C/polygon%3E%0A%3C/g%3E%0A%3C/g%3E%0A%3C/svg%3E%3C/body%3E%3C/html%3E\"\n",
       "            frameborder=\"0\"\n",
       "            allowfullscreen\n",
       "            allowtransparency=\"true\"\n",
       "        ></iframe>\n",
       "        "
      ],
      "text/plain": [
       "<IPython.lib.display.IFrame at 0x22dce88e090>"
      ]
     },
     "metadata": {},
     "output_type": "display_data"
    },
    {
     "name": "stdout",
     "output_type": "stream",
     "text": [
      "Boiler: B1\n",
      "ins...\n",
      "[0] water  \n",
      "    phase: 'l', T: 298.15 K, P: 101325 Pa\n",
      "    flow (kmol/hr): Water  300\n",
      "outs...\n",
      "[0] gas  \n",
      "    phase: 'l', T: 298.15 K, P: 101325 Pa\n",
      "    flow: 0\n",
      "[1] liq  \n",
      "    phase: 'l', T: 298.15 K, P: 101325 Pa\n",
      "    flow: 0\n"
     ]
    }
   ],
   "source": [
    "import biosteam as bst\n",
    "bst.settings.set_thermo(['Water'])\n",
    "water = bst.Stream('water', Water=300)\n",
    "B1 = Boiler('B1', ins=water, outs=('gas', 'liq'),\n",
    "            V=0.5, P=101325)\n",
    "B1.diagram()\n",
    "B1.show()"
   ]
  },
  {
   "cell_type": "code",
   "execution_count": 3,
   "metadata": {},
   "outputs": [
    {
     "name": "stdout",
     "output_type": "stream",
     "text": [
      "Boiler: B1\n",
      "ins...\n",
      "[0] water  \n",
      "    phase: 'l', T: 298.15 K, P: 101325 Pa\n",
      "    flow (kmol/hr): Water  300\n",
      "outs...\n",
      "[0] gas  \n",
      "    phase: 'g', T: 373.12 K, P: 101325 Pa\n",
      "    flow (kmol/hr): Water  150\n",
      "[1] liq  \n",
      "    phase: 'l', T: 373.12 K, P: 101325 Pa\n",
      "    flow (kmol/hr): Water  150\n"
     ]
    }
   ],
   "source": [
    "B1.simulate()\n",
    "B1.show()"
   ]
  },
  {
   "cell_type": "code",
   "execution_count": 4,
   "metadata": {},
   "outputs": [
    {
     "data": {
      "text/html": [
       "<div>\n",
       "<style scoped>\n",
       "    .dataframe tbody tr th:only-of-type {\n",
       "        vertical-align: middle;\n",
       "    }\n",
       "\n",
       "    .dataframe tbody tr th {\n",
       "        vertical-align: top;\n",
       "    }\n",
       "\n",
       "    .dataframe thead th {\n",
       "        text-align: right;\n",
       "    }\n",
       "</style>\n",
       "<table border=\"1\" class=\"dataframe\">\n",
       "  <thead>\n",
       "    <tr style=\"text-align: right;\">\n",
       "      <th></th>\n",
       "      <th>Boiler</th>\n",
       "      <th>Units</th>\n",
       "      <th>B1</th>\n",
       "    </tr>\n",
       "  </thead>\n",
       "  <tbody>\n",
       "    <tr>\n",
       "      <th rowspan=\"3\" valign=\"top\">Low pressure steam</th>\n",
       "      <th>Duty</th>\n",
       "      <td>kJ/hr</td>\n",
       "      <td>8.21e+06</td>\n",
       "    </tr>\n",
       "    <tr>\n",
       "      <th>Flow</th>\n",
       "      <td>kmol/hr</td>\n",
       "      <td>212</td>\n",
       "    </tr>\n",
       "    <tr>\n",
       "      <th>Cost</th>\n",
       "      <td>USD/hr</td>\n",
       "      <td>50.4</td>\n",
       "    </tr>\n",
       "    <tr>\n",
       "      <th>Design</th>\n",
       "      <th>Area</th>\n",
       "      <td>m^2</td>\n",
       "      <td>24.4</td>\n",
       "    </tr>\n",
       "    <tr>\n",
       "      <th>Purchase cost</th>\n",
       "      <th>Boiler</th>\n",
       "      <td>USD</td>\n",
       "      <td>1.02e+04</td>\n",
       "    </tr>\n",
       "    <tr>\n",
       "      <th>Total purchase cost</th>\n",
       "      <th></th>\n",
       "      <td>USD</td>\n",
       "      <td>1.02e+04</td>\n",
       "    </tr>\n",
       "    <tr>\n",
       "      <th>Utility cost</th>\n",
       "      <th></th>\n",
       "      <td>USD/hr</td>\n",
       "      <td>50.4</td>\n",
       "    </tr>\n",
       "  </tbody>\n",
       "</table>\n",
       "</div>"
      ],
      "text/plain": [
       "Boiler                        Units       B1\n",
       "Low pressure steam  Duty      kJ/hr 8.21e+06\n",
       "                    Flow    kmol/hr      212\n",
       "                    Cost     USD/hr     50.4\n",
       "Design              Area        m^2     24.4\n",
       "Purchase cost       Boiler      USD 1.02e+04\n",
       "Total purchase cost             USD 1.02e+04\n",
       "Utility cost                 USD/hr     50.4"
      ]
     },
     "execution_count": 4,
     "metadata": {},
     "output_type": "execute_result"
    }
   ],
   "source": [
    "# Note that utility requirements, items in the `design_results` dictionary,\n",
    "# and purchase costs are automatically included in the results dataframe.\n",
    "B1.results()"
   ]
  },
  {
   "cell_type": "code",
   "execution_count": 5,
   "metadata": {},
   "outputs": [
    {
     "data": {
      "text/html": [
       "<div>\n",
       "<style scoped>\n",
       "    .dataframe tbody tr th:only-of-type {\n",
       "        vertical-align: middle;\n",
       "    }\n",
       "\n",
       "    .dataframe tbody tr th {\n",
       "        vertical-align: top;\n",
       "    }\n",
       "\n",
       "    .dataframe thead th {\n",
       "        text-align: right;\n",
       "    }\n",
       "</style>\n",
       "<table border=\"1\" class=\"dataframe\">\n",
       "  <thead>\n",
       "    <tr style=\"text-align: right;\">\n",
       "      <th></th>\n",
       "      <th>Boiler</th>\n",
       "      <th>Units</th>\n",
       "      <th>B1</th>\n",
       "    </tr>\n",
       "  </thead>\n",
       "  <tbody>\n",
       "    <tr>\n",
       "      <th rowspan=\"3\" valign=\"top\">Low pressure steam</th>\n",
       "      <th>Duty</th>\n",
       "      <td>kJ/hr</td>\n",
       "      <td>8.21e+08</td>\n",
       "    </tr>\n",
       "    <tr>\n",
       "      <th>Flow</th>\n",
       "      <td>kmol/hr</td>\n",
       "      <td>2.12e+04</td>\n",
       "    </tr>\n",
       "    <tr>\n",
       "      <th>Cost</th>\n",
       "      <td>USD/hr</td>\n",
       "      <td>5.04e+03</td>\n",
       "    </tr>\n",
       "    <tr>\n",
       "      <th>Design</th>\n",
       "      <th>Area</th>\n",
       "      <td>m^2</td>\n",
       "      <td>610</td>\n",
       "    </tr>\n",
       "    <tr>\n",
       "      <th>Purchase cost</th>\n",
       "      <th>Boiler (x4)</th>\n",
       "      <td>USD</td>\n",
       "      <td>2.38e+05</td>\n",
       "    </tr>\n",
       "    <tr>\n",
       "      <th>Total purchase cost</th>\n",
       "      <th></th>\n",
       "      <td>USD</td>\n",
       "      <td>2.38e+05</td>\n",
       "    </tr>\n",
       "    <tr>\n",
       "      <th>Utility cost</th>\n",
       "      <th></th>\n",
       "      <td>USD/hr</td>\n",
       "      <td>5.04e+03</td>\n",
       "    </tr>\n",
       "  </tbody>\n",
       "</table>\n",
       "</div>"
      ],
      "text/plain": [
       "Boiler                             Units       B1\n",
       "Low pressure steam  Duty           kJ/hr 8.21e+08\n",
       "                    Flow         kmol/hr 2.12e+04\n",
       "                    Cost          USD/hr 5.04e+03\n",
       "Design              Area             m^2      610\n",
       "Purchase cost       Boiler (x4)      USD 2.38e+05\n",
       "Total purchase cost                  USD 2.38e+05\n",
       "Utility cost                      USD/hr 5.04e+03"
      ]
     },
     "execution_count": 5,
     "metadata": {},
     "output_type": "execute_result"
    }
   ],
   "source": [
    "# Note that the number of boilers are automatically accounted for \n",
    "# through the `parallel` dictionany.\n",
    "B1.feed.scale(100) # Rescale flow rate x100\n",
    "B1.simulate()\n",
    "B1.results()"
   ]
  },
  {
   "cell_type": "markdown",
   "metadata": {},
   "source": [
    "### Graphviz attributes"
   ]
  },
  {
   "cell_type": "markdown",
   "metadata": {},
   "source": [
    "All [graphviz](https://graphviz.readthedocs.io/en/stable/manual.html) attributes for generating a diagram are stored in `_graphics` as a Graphics object. One Graphics object is generated for each Unit subclass:"
   ]
  },
  {
   "cell_type": "code",
   "execution_count": 6,
   "metadata": {},
   "outputs": [],
   "source": [
    "graphics = Boiler._graphics\n",
    "edge_in = graphics.edge_in\n",
    "edge_out = graphics.edge_out\n",
    "node = graphics.node"
   ]
  },
  {
   "cell_type": "code",
   "execution_count": 7,
   "metadata": {},
   "outputs": [
    {
     "data": {
      "text/plain": [
       "[{'headport': 'c'}]"
      ]
     },
     "execution_count": 7,
     "metadata": {},
     "output_type": "execute_result"
    }
   ],
   "source": [
    "# Attributes correspond to each inlet stream respectively\n",
    "# For example: Attributes for B1.ins[0] would correspond to edge_in[0]\n",
    "edge_in "
   ]
  },
  {
   "cell_type": "code",
   "execution_count": 8,
   "metadata": {},
   "outputs": [
    {
     "data": {
      "text/plain": [
       "[{'tailport': 'c'}, {'tailport': 'c'}]"
      ]
     },
     "execution_count": 8,
     "metadata": {},
     "output_type": "execute_result"
    }
   ],
   "source": [
    "# Attributes correspond to each outlet stream respectively\n",
    "# For example: Attributes for B1.outs[0] would correspond to edge_out[0]\n",
    "edge_out"
   ]
  },
  {
   "cell_type": "code",
   "execution_count": 9,
   "metadata": {},
   "outputs": [
    {
     "data": {
      "text/plain": [
       "{'shape': 'box',\n",
       " 'style': 'filled',\n",
       " 'gradientangle': '0',\n",
       " 'width': '0.6',\n",
       " 'height': '0.6',\n",
       " 'orientation': '0.0',\n",
       " 'peripheries': '1',\n",
       " 'margin': 'default',\n",
       " 'fontname': 'Arial'}"
      ]
     },
     "execution_count": 9,
     "metadata": {},
     "output_type": "execute_result"
    }
   ],
   "source": [
    "node # The node represents the actual unit"
   ]
  },
  {
   "cell_type": "markdown",
   "metadata": {},
   "source": [
    "These attributes can be changed to the user's liking:"
   ]
  },
  {
   "cell_type": "code",
   "execution_count": 10,
   "metadata": {},
   "outputs": [],
   "source": [
    "edge_out[0]['tailport'] = 'n'\n",
    "edge_out[1]['tailport'] = 's'\n",
    "node['width'] = '1'\n",
    "node['height'] = '1.2'"
   ]
  },
  {
   "cell_type": "code",
   "execution_count": 11,
   "metadata": {
    "tags": [
     "nbval-ignore-output"
    ]
   },
   "outputs": [
    {
     "data": {
      "text/html": [
       "\n",
       "        <iframe\n",
       "            width=\"100%\"\n",
       "            height=\"225px\"\n",
       "            src=\"data:text/html;charset=utf-8,%3C%21DOCTYPE%20html%3E%3Chtml%3E%3Chead%3E%3Clink%20rel%3D%22stylesheet%22%20href%3D%22https%3A//unpkg.com/tippy.js%406.3.7/themes/translucent.css%22%3E%3Clink%20rel%3D%22stylesheet%22%20href%3D%22https%3A//rawcdn.githack.com/BioSTEAMDevelopmentGroup/biosteam/e065aca079c216d72b75949bbcbb74a3bbddb75d/biosteam/digraph/digraph.css%22%3E%3Cscript%20src%3D%22https%3A//unpkg.com/%40popperjs/core%402%22%3E%3C/script%3E%3Cscript%20src%3D%22https%3A//unpkg.com/tippy.js%406%22%3E%3C/script%3E%3Cscript%20src%3D%22https%3A//rawcdn.githack.com/BioSTEAMDevelopmentGroup/biosteam/e065aca079c216d72b75949bbcbb74a3bbddb75d/biosteam/digraph/digraph.js%22%3E%3C/script%3E%3C/head%3E%3Cbody%3E%3Csvg%20width%3D%22200pt%22%20height%3D%22133pt%22%20viewBox%3D%220.00%200.00%20200.00%20133.02%22%3E%0A%3Cg%20id%3D%22graph0%22%20class%3D%22graph%22%20transform%3D%22scale%281%201%29%20rotate%280%29%20translate%284%20129.02%29%22%3E%0A%3Cpolygon%20fill%3D%22%23ffffff%22%20fill-opacity%3D%220.666667%22%20stroke%3D%22transparent%22%20points%3D%22-4%2C4%20-4%2C-129.02%20196%2C-129.02%20196%2C4%20-4%2C4%22%3E%3C/polygon%3E%0A%0A%3Cg%20id%3D%22edge2%22%20class%3D%22edge%22%20data-tippy-content%3D%22Temperature%3A%20373.12%20K%3Cbr%26gt%3BPressure%3A%20101325%20Pa%3Cbr%26gt%3BGas%20flow%3A%201.5e%2B04%20kmol/hr%22%3E%0A%3Cpath%20fill%3D%22none%22%20stroke%3D%22%234e4e4e%22%20d%3D%22M101%2C-104.02C101%2C-140.24%20146.28%2C-103.02%20182.5%2C-103.02%22%3E%3C/path%3E%0A%3Cg%20id%3D%22a_edge2-label%22%3E%3Ca%20title%3D%22%20Temperature%3A%20373.12%20K%3Cbr%26gt%3BPressure%3A%20101325%20Pa%3Cbr%26gt%3BGas%20flow%3A%201.5e%2B04%20kmol/hr%22%3E%0A%3Ctext%20text-anchor%3D%22middle%22%20x%3D%22159%22%20y%3D%22-113.82%22%20font-family%3D%22Arial%22%20font-size%3D%2214.00%22%20fill%3D%22%234e4e4e%22%3E%20gas%3C/text%3E%0A%3C/a%3E%0A%3C/g%3E%0A%3C/g%3E%0A%0A%3Cg%20id%3D%22edge3%22%20class%3D%22edge%22%20data-tippy-content%3D%22Temperature%3A%20373.12%20K%3Cbr%26gt%3BPressure%3A%20101325%20Pa%3Cbr%26gt%3BLiquid%20flow%3A%201.5e%2B04%20kmol/hr%22%3E%0A%3Cpath%20fill%3D%22none%22%20stroke%3D%22%234e4e4e%22%20d%3D%22M101%2C-16.02C101%2C20.21%20146.28%2C-17.02%20182.5%2C-17.02%22%3E%3C/path%3E%0A%3Cg%20id%3D%22a_edge3-label%22%3E%3Ca%20title%3D%22%20Temperature%3A%20373.12%20K%3Cbr%26gt%3BPressure%3A%20101325%20Pa%3Cbr%26gt%3BLiquid%20flow%3A%201.5e%2B04%20kmol/hr%22%3E%0A%3Ctext%20text-anchor%3D%22middle%22%20x%3D%22159%22%20y%3D%22-19.82%22%20font-family%3D%22Arial%22%20font-size%3D%2214.00%22%20fill%3D%22%234e4e4e%22%3E%20liq%3C/text%3E%0A%3C/a%3E%0A%3C/g%3E%0A%3C/g%3E%0A%0A%3Cg%20id%3D%22edge1%22%20class%3D%22edge%22%20data-tippy-content%3D%22Temperature%3A%20298.15%20K%3Cbr%26gt%3BPressure%3A%20101325%20Pa%3Cbr%26gt%3BLiquid%20flow%3A%203e%2B04%20kmol/hr%22%3E%0A%3Cpath%20fill%3D%22none%22%20stroke%3D%22%234e4e4e%22%20stroke-width%3D%222.2%22%20d%3D%22M11%2C-60.02C28.77%2C-60.02%2048.53%2C-60.02%2064.92%2C-60.02%22%3E%3C/path%3E%0A%3Cg%20id%3D%22a_edge1-label%22%3E%3Ca%20title%3D%22%20Temperature%3A%20298.15%20K%3Cbr%26gt%3BPressure%3A%20101325%20Pa%3Cbr%26gt%3BLiquid%20flow%3A%203e%2B04%20kmol/hr%22%3E%0A%3Ctext%20text-anchor%3D%22middle%22%20x%3D%2238%22%20y%3D%22-63.82%22%20font-family%3D%22Arial%22%20font-size%3D%2214.00%22%20fill%3D%22%234e4e4e%22%3E%20water%3C/text%3E%0A%3C/a%3E%0A%3C/g%3E%0A%3C/g%3E%0A%0A%3Cg%20id%3D%22node1%22%20class%3D%22node%22%20data-tippy-content%3D%22Heating%20duty%3A%208.21e%2B05%20MJ/hr%3Cbr%26gt%3BUtility%20cost%3A%205.04e%2B03%20USD/hr%3Cbr%26gt%3BPurchase%20cost%3A%20238%2C451%20USD%3Cbr%26gt%3BInstalled%20equipment%20cost%3A%20584%2C205%20USD%22%3E%0A%3Cg%20id%3D%22a_node1%22%3E%3Ca%20title%3D%22%20Heating%20duty%3A%208.21e%2B05%20MJ/hr%3Cbr%26gt%3BUtility%20cost%3A%205.04e%2B03%20USD/hr%3Cbr%26gt%3BPurchase%20cost%3A%20238%2C451%20USD%3Cbr%26gt%3BInstalled%20equipment%20cost%3A%20584%2C205%20USD%22%3E%0A%3Cdefs%3E%0A%3ClinearGradient%20id%3D%22l_0%22%20gradientUnits%3D%22userSpaceOnUse%22%20x1%3D%2265%22%20y1%3D%22-60.02%22%20x2%3D%22137%22%20y2%3D%22-60.02%22%3E%0A%3Cstop%20offset%3D%220%22%20style%3D%22stop-color%3Awhite%3Bstop-opacity%3A1.%3B%22%3E%3C/stop%3E%0A%3Cstop%20offset%3D%221%22%20style%3D%22stop-color%3A%23cdcdcd%3Bstop-opacity%3A1.%3B%22%3E%3C/stop%3E%0A%3C/linearGradient%3E%0A%3C/defs%3E%0A%3Cpolygon%20fill%3D%22url%28%23l_0%29%22%20stroke%3D%22%234e4e4e%22%20points%3D%22137%2C-103.02%2065%2C-103.02%2065%2C-17.02%20137%2C-17.02%20137%2C-103.02%22%3E%3C/polygon%3E%0A%3Ctext%20text-anchor%3D%22middle%22%20x%3D%22101%22%20y%3D%22-63.82%22%20font-family%3D%22Arial%22%20font-size%3D%2214.00%22%3EB1%3C/text%3E%0A%3Ctext%20text-anchor%3D%22middle%22%20x%3D%22101%22%20y%3D%22-48.82%22%20font-family%3D%22Arial%22%20font-size%3D%2214.00%22%3EBoiler%3C/text%3E%0A%3C/a%3E%0A%3C/g%3E%0A%3C/g%3E%0A%0A%3Cg%20id%3D%22node2%22%20class%3D%22node%22%20data-tippy-content%3D%22149738691136%22%3E%0A%3Cpolygon%20fill%3D%22%23f98f60%22%20stroke%3D%22%234e4e4e%22%20points%3D%225.5%2C-65.52%200%2C-60.02%205.5%2C-54.52%2011%2C-60.02%205.5%2C-65.52%22%3E%3C/polygon%3E%0A%3C/g%3E%0A%0A%3Cg%20id%3D%22node3%22%20class%3D%22node%22%20data-tippy-content%3D%22149738691059%22%3E%0A%3Cpolygon%20fill%3D%22%23f98f60%22%20stroke%3D%22%234e4e4e%22%20points%3D%22192%2C-103.02%20183.75%2C-110.02%20183.75%2C-96.02%20192%2C-103.02%22%3E%3C/polygon%3E%0A%3C/g%3E%0A%0A%3Cg%20id%3D%22node4%22%20class%3D%22node%22%20data-tippy-content%3D%22149738691147%22%3E%0A%3Cpolygon%20fill%3D%22%23f98f60%22%20stroke%3D%22%234e4e4e%22%20points%3D%22192%2C-17.02%20183.75%2C-24.02%20183.75%2C-10.02%20192%2C-17.02%22%3E%3C/polygon%3E%0A%3C/g%3E%0A%3C/g%3E%0A%3C/svg%3E%3C/body%3E%3C/html%3E\"\n",
       "            frameborder=\"0\"\n",
       "            allowfullscreen\n",
       "            allowtransparency=\"true\"\n",
       "        ></iframe>\n",
       "        "
      ],
      "text/plain": [
       "<IPython.lib.display.IFrame at 0x22dcff16d10>"
      ]
     },
     "metadata": {},
     "output_type": "display_data"
    }
   ],
   "source": [
    "B1.diagram()"
   ]
  },
  {
   "cell_type": "markdown",
   "metadata": {},
   "source": [
    "It is also possible to dynamically adjust node and edge attributes by setting the `tailor_node_to_unit` attribute:"
   ]
  },
  {
   "cell_type": "code",
   "execution_count": 12,
   "metadata": {
    "tags": [
     "nbval-ignore-output"
    ]
   },
   "outputs": [
    {
     "data": {
      "text/html": [
       "\n",
       "        <iframe\n",
       "            width=\"100%\"\n",
       "            height=\"225px\"\n",
       "            src=\"data:text/html;charset=utf-8,%3C%21DOCTYPE%20html%3E%3Chtml%3E%3Chead%3E%3Clink%20rel%3D%22stylesheet%22%20href%3D%22https%3A//unpkg.com/tippy.js%406.3.7/themes/translucent.css%22%3E%3Clink%20rel%3D%22stylesheet%22%20href%3D%22https%3A//rawcdn.githack.com/BioSTEAMDevelopmentGroup/biosteam/e065aca079c216d72b75949bbcbb74a3bbddb75d/biosteam/digraph/digraph.css%22%3E%3Cscript%20src%3D%22https%3A//unpkg.com/%40popperjs/core%402%22%3E%3C/script%3E%3Cscript%20src%3D%22https%3A//unpkg.com/tippy.js%406%22%3E%3C/script%3E%3Cscript%20src%3D%22https%3A//rawcdn.githack.com/BioSTEAMDevelopmentGroup/biosteam/e065aca079c216d72b75949bbcbb74a3bbddb75d/biosteam/digraph/digraph.js%22%3E%3C/script%3E%3C/head%3E%3Cbody%3E%3Csvg%20width%3D%22200pt%22%20height%3D%22133pt%22%20viewBox%3D%220.00%200.00%20200.00%20133.02%22%3E%0A%3Cg%20id%3D%22graph0%22%20class%3D%22graph%22%20transform%3D%22scale%281%201%29%20rotate%280%29%20translate%284%20129.02%29%22%3E%0A%3Cpolygon%20fill%3D%22%23ffffff%22%20fill-opacity%3D%220.666667%22%20stroke%3D%22transparent%22%20points%3D%22-4%2C4%20-4%2C-129.02%20196%2C-129.02%20196%2C4%20-4%2C4%22%3E%3C/polygon%3E%0A%0A%3Cg%20id%3D%22edge2%22%20class%3D%22edge%22%20data-tippy-content%3D%22Temperature%3A%20373.12%20K%3Cbr%26gt%3BPressure%3A%20101325%20Pa%3Cbr%26gt%3BGas%20flow%3A%201.5e%2B04%20kmol/hr%22%3E%0A%3Cpath%20fill%3D%22none%22%20stroke%3D%22%234e4e4e%22%20d%3D%22M101%2C-104.02C101%2C-140.24%20146.28%2C-103.02%20182.5%2C-103.02%22%3E%3C/path%3E%0A%3Cg%20id%3D%22a_edge2-label%22%3E%3Ca%20title%3D%22%20Temperature%3A%20373.12%20K%3Cbr%26gt%3BPressure%3A%20101325%20Pa%3Cbr%26gt%3BGas%20flow%3A%201.5e%2B04%20kmol/hr%22%3E%0A%3Ctext%20text-anchor%3D%22middle%22%20x%3D%22159%22%20y%3D%22-113.82%22%20font-family%3D%22Arial%22%20font-size%3D%2214.00%22%20fill%3D%22%234e4e4e%22%3E%20gas%3C/text%3E%0A%3C/a%3E%0A%3C/g%3E%0A%3C/g%3E%0A%0A%3Cg%20id%3D%22edge3%22%20class%3D%22edge%22%20data-tippy-content%3D%22Temperature%3A%20373.12%20K%3Cbr%26gt%3BPressure%3A%20101325%20Pa%3Cbr%26gt%3BLiquid%20flow%3A%201.5e%2B04%20kmol/hr%22%3E%0A%3Cpath%20fill%3D%22none%22%20stroke%3D%22%234e4e4e%22%20d%3D%22M101%2C-16.02C101%2C20.21%20146.28%2C-17.02%20182.5%2C-17.02%22%3E%3C/path%3E%0A%3Cg%20id%3D%22a_edge3-label%22%3E%3Ca%20title%3D%22%20Temperature%3A%20373.12%20K%3Cbr%26gt%3BPressure%3A%20101325%20Pa%3Cbr%26gt%3BLiquid%20flow%3A%201.5e%2B04%20kmol/hr%22%3E%0A%3Ctext%20text-anchor%3D%22middle%22%20x%3D%22159%22%20y%3D%22-19.82%22%20font-family%3D%22Arial%22%20font-size%3D%2214.00%22%20fill%3D%22%234e4e4e%22%3E%20liq%3C/text%3E%0A%3C/a%3E%0A%3C/g%3E%0A%3C/g%3E%0A%0A%3Cg%20id%3D%22edge1%22%20class%3D%22edge%22%20data-tippy-content%3D%22Temperature%3A%20298.15%20K%3Cbr%26gt%3BPressure%3A%20101325%20Pa%3Cbr%26gt%3BLiquid%20flow%3A%203e%2B04%20kmol/hr%22%3E%0A%3Cpath%20fill%3D%22none%22%20stroke%3D%22%234e4e4e%22%20stroke-width%3D%222.2%22%20d%3D%22M11%2C-60.02C28.77%2C-60.02%2048.53%2C-60.02%2064.92%2C-60.02%22%3E%3C/path%3E%0A%3Cg%20id%3D%22a_edge1-label%22%3E%3Ca%20title%3D%22%20Temperature%3A%20298.15%20K%3Cbr%26gt%3BPressure%3A%20101325%20Pa%3Cbr%26gt%3BLiquid%20flow%3A%203e%2B04%20kmol/hr%22%3E%0A%3Ctext%20text-anchor%3D%22middle%22%20x%3D%2238%22%20y%3D%22-63.82%22%20font-family%3D%22Arial%22%20font-size%3D%2214.00%22%20fill%3D%22%234e4e4e%22%3E%20water%3C/text%3E%0A%3C/a%3E%0A%3C/g%3E%0A%3C/g%3E%0A%0A%3Cg%20id%3D%22node1%22%20class%3D%22node%22%20data-tippy-content%3D%22Heating%20duty%3A%208.21e%2B05%20MJ/hr%3Cbr%26gt%3BUtility%20cost%3A%205.04e%2B03%20USD/hr%3Cbr%26gt%3BPurchase%20cost%3A%20238%2C451%20USD%3Cbr%26gt%3BInstalled%20equipment%20cost%3A%20584%2C205%20USD%22%3E%0A%3Cg%20id%3D%22a_node1%22%3E%3Ca%20title%3D%22%20Heating%20duty%3A%208.21e%2B05%20MJ/hr%3Cbr%26gt%3BUtility%20cost%3A%205.04e%2B03%20USD/hr%3Cbr%26gt%3BPurchase%20cost%3A%20238%2C451%20USD%3Cbr%26gt%3BInstalled%20equipment%20cost%3A%20584%2C205%20USD%22%3E%0A%3Cdefs%3E%0A%3ClinearGradient%20id%3D%22l_0%22%20gradientUnits%3D%22userSpaceOnUse%22%20x1%3D%2265%22%20y1%3D%22-60.02%22%20x2%3D%22137%22%20y2%3D%22-60.02%22%3E%0A%3Cstop%20offset%3D%220%22%20style%3D%22stop-color%3Awhite%3Bstop-opacity%3A1.%3B%22%3E%3C/stop%3E%0A%3Cstop%20offset%3D%221%22%20style%3D%22stop-color%3A%23cdcdcd%3Bstop-opacity%3A1.%3B%22%3E%3C/stop%3E%0A%3C/linearGradient%3E%0A%3C/defs%3E%0A%3Cpolygon%20fill%3D%22url%28%23l_0%29%22%20stroke%3D%22%234e4e4e%22%20points%3D%22137%2C-103.02%2065%2C-103.02%2065%2C-17.02%20137%2C-17.02%20137%2C-103.02%22%3E%3C/polygon%3E%0A%3Ctext%20text-anchor%3D%22middle%22%20x%3D%22101%22%20y%3D%22-63.82%22%20font-family%3D%22Arial%22%20font-size%3D%2214.00%22%3EB1%3C/text%3E%0A%3Ctext%20text-anchor%3D%22middle%22%20x%3D%22101%22%20y%3D%22-48.82%22%20font-family%3D%22Arial%22%20font-size%3D%2214.00%22%3EBoiler%3C/text%3E%0A%3C/a%3E%0A%3C/g%3E%0A%3C/g%3E%0A%0A%3Cg%20id%3D%22node2%22%20class%3D%22node%22%20data-tippy-content%3D%22149738691136%22%3E%0A%3Cpolygon%20fill%3D%22%23f98f60%22%20stroke%3D%22%234e4e4e%22%20points%3D%225.5%2C-65.52%200%2C-60.02%205.5%2C-54.52%2011%2C-60.02%205.5%2C-65.52%22%3E%3C/polygon%3E%0A%3C/g%3E%0A%0A%3Cg%20id%3D%22node3%22%20class%3D%22node%22%20data-tippy-content%3D%22149738691059%22%3E%0A%3Cpolygon%20fill%3D%22%23f98f60%22%20stroke%3D%22%234e4e4e%22%20points%3D%22192%2C-103.02%20183.75%2C-110.02%20183.75%2C-96.02%20192%2C-103.02%22%3E%3C/polygon%3E%0A%3C/g%3E%0A%0A%3Cg%20id%3D%22node4%22%20class%3D%22node%22%20data-tippy-content%3D%22149738691147%22%3E%0A%3Cpolygon%20fill%3D%22%23f98f60%22%20stroke%3D%22%234e4e4e%22%20points%3D%22192%2C-17.02%20183.75%2C-24.02%20183.75%2C-10.02%20192%2C-17.02%22%3E%3C/polygon%3E%0A%3C/g%3E%0A%3C/g%3E%0A%3C/svg%3E%3C/body%3E%3C/html%3E\"\n",
       "            frameborder=\"0\"\n",
       "            allowfullscreen\n",
       "            allowtransparency=\"true\"\n",
       "        ></iframe>\n",
       "        "
      ],
      "text/plain": [
       "<IPython.lib.display.IFrame at 0x22dd1fb2310>"
      ]
     },
     "metadata": {},
     "output_type": "display_data"
    }
   ],
   "source": [
    "def tailor_node_to_unit(node, unit):\n",
    "    if unit.feed.isempty(): node['label'] += '\\n-empty-'\n",
    "graphics.tailor_node_to_unit = tailor_node_to_unit\n",
    "B1.diagram()"
   ]
  },
  {
   "cell_type": "code",
   "execution_count": 13,
   "metadata": {
    "tags": [
     "nbval-ignore-output"
    ]
   },
   "outputs": [
    {
     "data": {
      "text/html": [
       "\n",
       "        <iframe\n",
       "            width=\"100%\"\n",
       "            height=\"225px\"\n",
       "            src=\"data:text/html;charset=utf-8,%3C%21DOCTYPE%20html%3E%3Chtml%3E%3Chead%3E%3Clink%20rel%3D%22stylesheet%22%20href%3D%22https%3A//unpkg.com/tippy.js%406.3.7/themes/translucent.css%22%3E%3Clink%20rel%3D%22stylesheet%22%20href%3D%22https%3A//rawcdn.githack.com/BioSTEAMDevelopmentGroup/biosteam/e065aca079c216d72b75949bbcbb74a3bbddb75d/biosteam/digraph/digraph.css%22%3E%3Cscript%20src%3D%22https%3A//unpkg.com/%40popperjs/core%402%22%3E%3C/script%3E%3Cscript%20src%3D%22https%3A//unpkg.com/tippy.js%406%22%3E%3C/script%3E%3Cscript%20src%3D%22https%3A//rawcdn.githack.com/BioSTEAMDevelopmentGroup/biosteam/e065aca079c216d72b75949bbcbb74a3bbddb75d/biosteam/digraph/digraph.js%22%3E%3C/script%3E%3C/head%3E%3Cbody%3E%3Csvg%20width%3D%22200pt%22%20height%3D%22133pt%22%20viewBox%3D%220.00%200.00%20200.00%20133.02%22%3E%0A%3Cg%20id%3D%22graph0%22%20class%3D%22graph%22%20transform%3D%22scale%281%201%29%20rotate%280%29%20translate%284%20129.02%29%22%3E%0A%3Cpolygon%20fill%3D%22%23ffffff%22%20fill-opacity%3D%220.666667%22%20stroke%3D%22transparent%22%20points%3D%22-4%2C4%20-4%2C-129.02%20196%2C-129.02%20196%2C4%20-4%2C4%22%3E%3C/polygon%3E%0A%0A%3Cg%20id%3D%22edge2%22%20class%3D%22edge%22%20data-tippy-content%3D%22Temperature%3A%20373.12%20K%3Cbr%26gt%3BPressure%3A%20101325%20Pa%3Cbr%26gt%3BGas%20flow%3A%201.5e%2B04%20kmol/hr%22%3E%0A%3Cpath%20fill%3D%22none%22%20stroke%3D%22%234e4e4e%22%20d%3D%22M101%2C-104.02C101%2C-140.24%20146.28%2C-103.02%20182.5%2C-103.02%22%3E%3C/path%3E%0A%3Cg%20id%3D%22a_edge2-label%22%3E%3Ca%20title%3D%22%20Temperature%3A%20373.12%20K%3Cbr%26gt%3BPressure%3A%20101325%20Pa%3Cbr%26gt%3BGas%20flow%3A%201.5e%2B04%20kmol/hr%22%3E%0A%3Ctext%20text-anchor%3D%22middle%22%20x%3D%22159%22%20y%3D%22-113.82%22%20font-family%3D%22Arial%22%20font-size%3D%2214.00%22%20fill%3D%22%234e4e4e%22%3E%20gas%3C/text%3E%0A%3C/a%3E%0A%3C/g%3E%0A%3C/g%3E%0A%0A%3Cg%20id%3D%22edge3%22%20class%3D%22edge%22%20data-tippy-content%3D%22Temperature%3A%20373.12%20K%3Cbr%26gt%3BPressure%3A%20101325%20Pa%3Cbr%26gt%3BLiquid%20flow%3A%201.5e%2B04%20kmol/hr%22%3E%0A%3Cpath%20fill%3D%22none%22%20stroke%3D%22%234e4e4e%22%20d%3D%22M101%2C-16.02C101%2C20.21%20146.28%2C-17.02%20182.5%2C-17.02%22%3E%3C/path%3E%0A%3Cg%20id%3D%22a_edge3-label%22%3E%3Ca%20title%3D%22%20Temperature%3A%20373.12%20K%3Cbr%26gt%3BPressure%3A%20101325%20Pa%3Cbr%26gt%3BLiquid%20flow%3A%201.5e%2B04%20kmol/hr%22%3E%0A%3Ctext%20text-anchor%3D%22middle%22%20x%3D%22159%22%20y%3D%22-19.82%22%20font-family%3D%22Arial%22%20font-size%3D%2214.00%22%20fill%3D%22%234e4e4e%22%3E%20liq%3C/text%3E%0A%3C/a%3E%0A%3C/g%3E%0A%3C/g%3E%0A%0A%3Cg%20id%3D%22edge1%22%20class%3D%22edge%22%20data-tippy-content%3D%22%28empty%29%22%3E%0A%3Cpath%20fill%3D%22none%22%20stroke%3D%22%234e4e4e%22%20stroke-dasharray%3D%225%2C2%22%20d%3D%22M11%2C-60.02C28.77%2C-60.02%2048.53%2C-60.02%2064.92%2C-60.02%22%3E%3C/path%3E%0A%3Cg%20id%3D%22a_edge1-label%22%3E%3Ca%20title%3D%22%28empty%29%22%3E%0A%3Ctext%20text-anchor%3D%22middle%22%20x%3D%2238%22%20y%3D%22-63.82%22%20font-family%3D%22Arial%22%20font-size%3D%2214.00%22%20fill%3D%22%234e4e4e%22%3E%20water%3C/text%3E%0A%3C/a%3E%0A%3C/g%3E%0A%3C/g%3E%0A%0A%3Cg%20id%3D%22node1%22%20class%3D%22node%22%20data-tippy-content%3D%22Heating%20duty%3A%208.21e%2B05%20MJ/hr%3Cbr%26gt%3BUtility%20cost%3A%205.04e%2B03%20USD/hr%3Cbr%26gt%3BPurchase%20cost%3A%20238%2C451%20USD%3Cbr%26gt%3BInstalled%20equipment%20cost%3A%20584%2C205%20USD%22%3E%0A%3Cg%20id%3D%22a_node1%22%3E%3Ca%20title%3D%22%20Heating%20duty%3A%208.21e%2B05%20MJ/hr%3Cbr%26gt%3BUtility%20cost%3A%205.04e%2B03%20USD/hr%3Cbr%26gt%3BPurchase%20cost%3A%20238%2C451%20USD%3Cbr%26gt%3BInstalled%20equipment%20cost%3A%20584%2C205%20USD%22%3E%0A%3Cdefs%3E%0A%3ClinearGradient%20id%3D%22l_0%22%20gradientUnits%3D%22userSpaceOnUse%22%20x1%3D%2265%22%20y1%3D%22-60.02%22%20x2%3D%22137%22%20y2%3D%22-60.02%22%3E%0A%3Cstop%20offset%3D%220%22%20style%3D%22stop-color%3Awhite%3Bstop-opacity%3A1.%3B%22%3E%3C/stop%3E%0A%3Cstop%20offset%3D%221%22%20style%3D%22stop-color%3A%23cdcdcd%3Bstop-opacity%3A1.%3B%22%3E%3C/stop%3E%0A%3C/linearGradient%3E%0A%3C/defs%3E%0A%3Cpolygon%20fill%3D%22url%28%23l_0%29%22%20stroke%3D%22%234e4e4e%22%20points%3D%22137%2C-103.02%2065%2C-103.02%2065%2C-17.02%20137%2C-17.02%20137%2C-103.02%22%3E%3C/polygon%3E%0A%3Ctext%20text-anchor%3D%22middle%22%20x%3D%22101%22%20y%3D%22-71.32%22%20font-family%3D%22Arial%22%20font-size%3D%2214.00%22%3EB1%3C/text%3E%0A%3Ctext%20text-anchor%3D%22middle%22%20x%3D%22101%22%20y%3D%22-56.32%22%20font-family%3D%22Arial%22%20font-size%3D%2214.00%22%3EBoiler%3C/text%3E%0A%3Ctext%20text-anchor%3D%22middle%22%20x%3D%22101%22%20y%3D%22-41.32%22%20font-family%3D%22Arial%22%20font-size%3D%2214.00%22%3E-empty-%3C/text%3E%0A%3C/a%3E%0A%3C/g%3E%0A%3C/g%3E%0A%0A%3Cg%20id%3D%22node2%22%20class%3D%22node%22%20data-tippy-content%3D%22149738691136%22%3E%0A%3Cpolygon%20fill%3D%22%23f98f60%22%20stroke%3D%22%234e4e4e%22%20points%3D%225.5%2C-65.52%200%2C-60.02%205.5%2C-54.52%2011%2C-60.02%205.5%2C-65.52%22%3E%3C/polygon%3E%0A%3C/g%3E%0A%0A%3Cg%20id%3D%22node3%22%20class%3D%22node%22%20data-tippy-content%3D%22149738691059%22%3E%0A%3Cpolygon%20fill%3D%22%23f98f60%22%20stroke%3D%22%234e4e4e%22%20points%3D%22192%2C-103.02%20183.75%2C-110.02%20183.75%2C-96.02%20192%2C-103.02%22%3E%3C/polygon%3E%0A%3C/g%3E%0A%0A%3Cg%20id%3D%22node4%22%20class%3D%22node%22%20data-tippy-content%3D%22149738691147%22%3E%0A%3Cpolygon%20fill%3D%22%23f98f60%22%20stroke%3D%22%234e4e4e%22%20points%3D%22192%2C-17.02%20183.75%2C-24.02%20183.75%2C-10.02%20192%2C-17.02%22%3E%3C/polygon%3E%0A%3C/g%3E%0A%3C/g%3E%0A%3C/svg%3E%3C/body%3E%3C/html%3E\"\n",
       "            frameborder=\"0\"\n",
       "            allowfullscreen\n",
       "            allowtransparency=\"true\"\n",
       "        ></iframe>\n",
       "        "
      ],
      "text/plain": [
       "<IPython.lib.display.IFrame at 0x22dd1fbf710>"
      ]
     },
     "metadata": {},
     "output_type": "display_data"
    }
   ],
   "source": [
    "B1.ins[0].empty()\n",
    "B1.diagram()"
   ]
  },
  {
   "cell_type": "markdown",
   "metadata": {},
   "source": [
    "NOTE: The example implementation of the `tailor_node_to_unit` function is not suggested; best to keep diagrams simple."
   ]
  },
  {
   "cell_type": "markdown",
   "metadata": {},
   "source": [
    "### Cost decorator"
   ]
  },
  {
   "cell_type": "markdown",
   "metadata": {
    "raw_mimetype": "text/markdown"
   },
   "source": [
    "The cost decorator adds a free on board purchase cost based on the exponential scale up equation:\n",
    "\n",
    "$New\\ cost = N \\cdot cost \\bigg(\\frac{CE_{new}}{CE}\\bigg) \\bigg(\\frac{S_{new}}{N \\cdot S}\\bigg)^{n}$\n",
    "\n",
    "$Electricity\\ rate = kW \\bigg(\\frac{S_{new}}{S}\\bigg)$\n",
    "\n",
    "$N = ceil \\bigg( \\frac{S_{new}}{ub} \\bigg)$\n",
    "\n",
    "$N\\text{: Number of units}$\n",
    "\n",
    "$ub\\text{: Upper bound of size}$\n",
    "\n",
    "$CE_{new}\\text{: New Chemical Engineering Plant Cost Index}$\n",
    "\n",
    "$CE\\text{: Chemical Engineering Plant Cost Index}$\n",
    "\n",
    "$S_{new}\\text{: New size value}$\n",
    "\n",
    "$S\\text{: Original size value}$\n",
    "\n",
    "$cost\\text{: Free on board purchase cost at size S}$\n",
    "\n",
    "$kW\\text{: Electricity rate in kW at size S}$\n",
    "\n",
    "$n\\text{: Exponential factor}$\n",
    "\n",
    "$lifetime\\text{: Number of operating years until equipment needs to be replaced}$\n"
   ]
  },
  {
   "cell_type": "markdown",
   "metadata": {},
   "source": [
    "Create a Shredder Unit subclass for sugar cane with the following exponential scale up factors [[1]](#References):\n",
    "\n",
    "* Chemical Engineering Plant Cost Index: 567.3\n",
    "* Size: 500,000 kg/hr flow rate\n",
    "* Purchase cost: $2,500,000\n",
    "* Electricity rate: 3,000 kW\n",
    "* Exponential factor: 0.6\n",
    "* Bare module factor: 1.39\n",
    "* Equipment lifetime: 30\n",
    "\n",
    "Additionally, include a bare module factor of 1.39 as an approximation for this example [[2]](#References)."
   ]
  },
  {
   "cell_type": "code",
   "execution_count": 14,
   "metadata": {},
   "outputs": [
    {
     "name": "stdout",
     "output_type": "stream",
     "text": [
      "Shredder: U1\n",
      "ins...\n",
      "[0] s1  \n",
      "    phase: 'l', T: 298.15 K, P: 101325 Pa\n",
      "    flow (kg/hr): SugarCane  1e+06\n",
      "outs...\n",
      "[0] s2  \n",
      "    phase: 'l', T: 298.15 K, P: 101325 Pa\n",
      "    flow (kg/hr): SugarCane  1e+06\n"
     ]
    },
    {
     "data": {
      "text/html": [
       "<div>\n",
       "<style scoped>\n",
       "    .dataframe tbody tr th:only-of-type {\n",
       "        vertical-align: middle;\n",
       "    }\n",
       "\n",
       "    .dataframe tbody tr th {\n",
       "        vertical-align: top;\n",
       "    }\n",
       "\n",
       "    .dataframe thead th {\n",
       "        text-align: right;\n",
       "    }\n",
       "</style>\n",
       "<table border=\"1\" class=\"dataframe\">\n",
       "  <thead>\n",
       "    <tr style=\"text-align: right;\">\n",
       "      <th></th>\n",
       "      <th>Shredder</th>\n",
       "      <th>Units</th>\n",
       "      <th>U1</th>\n",
       "    </tr>\n",
       "  </thead>\n",
       "  <tbody>\n",
       "    <tr>\n",
       "      <th rowspan=\"2\" valign=\"top\">Electricity</th>\n",
       "      <th>Power</th>\n",
       "      <td>kW</td>\n",
       "      <td>6e+03</td>\n",
       "    </tr>\n",
       "    <tr>\n",
       "      <th>Cost</th>\n",
       "      <td>USD/hr</td>\n",
       "      <td>469</td>\n",
       "    </tr>\n",
       "    <tr>\n",
       "      <th>Design</th>\n",
       "      <th>Flow rate</th>\n",
       "      <td>kg/hr</td>\n",
       "      <td>1e+06</td>\n",
       "    </tr>\n",
       "    <tr>\n",
       "      <th>Purchase cost</th>\n",
       "      <th>Shredder</th>\n",
       "      <td>USD</td>\n",
       "      <td>4.03e+06</td>\n",
       "    </tr>\n",
       "    <tr>\n",
       "      <th>Total purchase cost</th>\n",
       "      <th></th>\n",
       "      <td>USD</td>\n",
       "      <td>4.03e+06</td>\n",
       "    </tr>\n",
       "    <tr>\n",
       "      <th>Utility cost</th>\n",
       "      <th></th>\n",
       "      <td>USD/hr</td>\n",
       "      <td>469</td>\n",
       "    </tr>\n",
       "  </tbody>\n",
       "</table>\n",
       "</div>"
      ],
      "text/plain": [
       "Shredder                        Units       U1\n",
       "Electricity         Power          kW    6e+03\n",
       "                    Cost       USD/hr      469\n",
       "Design              Flow rate   kg/hr    1e+06\n",
       "Purchase cost       Shredder      USD 4.03e+06\n",
       "Total purchase cost               USD 4.03e+06\n",
       "Utility cost                   USD/hr      469"
      ]
     },
     "execution_count": 14,
     "metadata": {},
     "output_type": "execute_result"
    }
   ],
   "source": [
    "import biosteam as bst\n",
    "from biosteam.units.decorators import cost\n",
    "\n",
    "# Set up thermo property package\n",
    "chemicals = bst.Chemicals(['Water', 'Ethanol'])\n",
    "SugarCane = bst.Chemical.blank('SugarCane', phase_ref='s')\n",
    "SugarCane.default()\n",
    "chemicals.append(SugarCane)\n",
    "bst.settings.set_thermo(chemicals)\n",
    "\n",
    "# For year 2018\n",
    "bst.CE = 603.1 \n",
    "\n",
    "# basis will be the total flow rate in kg/hr\n",
    "@cost('Flow rate', units='kg/hr', cost=2.5e6, CE=567.3,\n",
    "      n=0.6, S=500e3, kW=3000, BM=1.39, lifetime=30)\n",
    "class Shredder(bst.Unit): pass\n",
    "# Units without a `_run` method assume one input and output stream\n",
    "# that share the same flow rates and conditions\n",
    "\n",
    "### Test a Shreadder object ###\n",
    "\n",
    "# Display flow rate in kg/hr\n",
    "bst.Stream.display_units.flow = 'kg/hr'\n",
    "\n",
    "feed = bst.Stream(SugarCane=1e6, units='kg/hr')\n",
    "shredder = Shredder(ins=feed)\n",
    "shredder.simulate()\n",
    "\n",
    "shredder.show()\n",
    "shredder.results()"
   ]
  },
  {
   "cell_type": "markdown",
   "metadata": {},
   "source": [
    "Cost data is stored as CostItem objects in the `cost_items` dictionary:"
   ]
  },
  {
   "cell_type": "code",
   "execution_count": 15,
   "metadata": {},
   "outputs": [
    {
     "data": {
      "text/plain": [
       "{'Shredder': <CostItem: Flow rate (kg/hr)>}"
      ]
     },
     "execution_count": 15,
     "metadata": {},
     "output_type": "execute_result"
    }
   ],
   "source": [
    "Shredder.cost_items"
   ]
  },
  {
   "cell_type": "code",
   "execution_count": 16,
   "metadata": {},
   "outputs": [
    {
     "name": "stdout",
     "output_type": "stream",
     "text": [
      "CostItem: Flow rate (kg/hr)\n",
      " S     5e+05\n",
      " CE    567\n",
      " cost  2.5e+06\n",
      " n     0.6\n",
      " kW    3e+03\n",
      "\n"
     ]
    }
   ],
   "source": [
    "Shredder.cost_items['Shredder']"
   ]
  },
  {
   "cell_type": "markdown",
   "metadata": {},
   "source": [
    "Bare module factors and equipment lifetimes are stored separately:"
   ]
  },
  {
   "cell_type": "code",
   "execution_count": 17,
   "metadata": {},
   "outputs": [
    {
     "data": {
      "text/plain": [
       "{'Shredder': 30}"
      ]
     },
     "execution_count": 17,
     "metadata": {},
     "output_type": "execute_result"
    }
   ],
   "source": [
    "Shredder._default_equipment_lifetime"
   ]
  },
  {
   "cell_type": "markdown",
   "metadata": {},
   "source": [
    "Any option can be changed:"
   ]
  },
  {
   "cell_type": "code",
   "execution_count": 18,
   "metadata": {},
   "outputs": [
    {
     "data": {
      "text/html": [
       "<div>\n",
       "<style scoped>\n",
       "    .dataframe tbody tr th:only-of-type {\n",
       "        vertical-align: middle;\n",
       "    }\n",
       "\n",
       "    .dataframe tbody tr th {\n",
       "        vertical-align: top;\n",
       "    }\n",
       "\n",
       "    .dataframe thead th {\n",
       "        text-align: right;\n",
       "    }\n",
       "</style>\n",
       "<table border=\"1\" class=\"dataframe\">\n",
       "  <thead>\n",
       "    <tr style=\"text-align: right;\">\n",
       "      <th></th>\n",
       "      <th>Shredder</th>\n",
       "      <th>Units</th>\n",
       "      <th>U1</th>\n",
       "    </tr>\n",
       "  </thead>\n",
       "  <tbody>\n",
       "    <tr>\n",
       "      <th rowspan=\"2\" valign=\"top\">Electricity</th>\n",
       "      <th>Power</th>\n",
       "      <td>kW</td>\n",
       "      <td>6e+03</td>\n",
       "    </tr>\n",
       "    <tr>\n",
       "      <th>Cost</th>\n",
       "      <td>USD/hr</td>\n",
       "      <td>469</td>\n",
       "    </tr>\n",
       "    <tr>\n",
       "      <th>Design</th>\n",
       "      <th>Flow rate</th>\n",
       "      <td>kg/hr</td>\n",
       "      <td>1e+06</td>\n",
       "    </tr>\n",
       "    <tr>\n",
       "      <th>Purchase cost</th>\n",
       "      <th>Shredder</th>\n",
       "      <td>USD</td>\n",
       "      <td>4.83e+06</td>\n",
       "    </tr>\n",
       "    <tr>\n",
       "      <th>Total purchase cost</th>\n",
       "      <th></th>\n",
       "      <td>USD</td>\n",
       "      <td>4.83e+06</td>\n",
       "    </tr>\n",
       "    <tr>\n",
       "      <th>Utility cost</th>\n",
       "      <th></th>\n",
       "      <td>USD/hr</td>\n",
       "      <td>469</td>\n",
       "    </tr>\n",
       "  </tbody>\n",
       "</table>\n",
       "</div>"
      ],
      "text/plain": [
       "Shredder                        Units       U1\n",
       "Electricity         Power          kW    6e+03\n",
       "                    Cost       USD/hr      469\n",
       "Design              Flow rate   kg/hr    1e+06\n",
       "Purchase cost       Shredder      USD 4.83e+06\n",
       "Total purchase cost               USD 4.83e+06\n",
       "Utility cost                   USD/hr      469"
      ]
     },
     "execution_count": 18,
     "metadata": {},
     "output_type": "execute_result"
    }
   ],
   "source": [
    "Shredder.cost_items['Shredder'].cost = 3e6 # Change base cost\n",
    "# This also works:\n",
    "# Shredder.cost_items['Shredder']['cost'] = 3e6\n",
    "shredder.simulate()\n",
    "shredder.results()"
   ]
  },
  {
   "cell_type": "code",
   "execution_count": 19,
   "metadata": {},
   "outputs": [
    {
     "data": {
      "text/html": [
       "<div>\n",
       "<style scoped>\n",
       "    .dataframe tbody tr th:only-of-type {\n",
       "        vertical-align: middle;\n",
       "    }\n",
       "\n",
       "    .dataframe tbody tr th {\n",
       "        vertical-align: top;\n",
       "    }\n",
       "\n",
       "    .dataframe thead th {\n",
       "        text-align: right;\n",
       "    }\n",
       "</style>\n",
       "<table border=\"1\" class=\"dataframe\">\n",
       "  <thead>\n",
       "    <tr style=\"text-align: right;\">\n",
       "      <th></th>\n",
       "      <th>Shredder</th>\n",
       "      <th>Units</th>\n",
       "      <th>U1</th>\n",
       "    </tr>\n",
       "  </thead>\n",
       "  <tbody>\n",
       "    <tr>\n",
       "      <th rowspan=\"2\" valign=\"top\">Electricity</th>\n",
       "      <th>Power</th>\n",
       "      <td>kW</td>\n",
       "      <td>6e+03</td>\n",
       "    </tr>\n",
       "    <tr>\n",
       "      <th>Cost</th>\n",
       "      <td>USD/hr</td>\n",
       "      <td>469</td>\n",
       "    </tr>\n",
       "    <tr>\n",
       "      <th>Design</th>\n",
       "      <th>Flow rate</th>\n",
       "      <td>kg/hr</td>\n",
       "      <td>1e+06</td>\n",
       "    </tr>\n",
       "    <tr>\n",
       "      <th>Purchase cost</th>\n",
       "      <th>Shredder (x2)</th>\n",
       "      <td>USD</td>\n",
       "      <td>6.38e+06</td>\n",
       "    </tr>\n",
       "    <tr>\n",
       "      <th>Total purchase cost</th>\n",
       "      <th></th>\n",
       "      <td>USD</td>\n",
       "      <td>6.38e+06</td>\n",
       "    </tr>\n",
       "    <tr>\n",
       "      <th>Utility cost</th>\n",
       "      <th></th>\n",
       "      <td>USD/hr</td>\n",
       "      <td>469</td>\n",
       "    </tr>\n",
       "  </tbody>\n",
       "</table>\n",
       "</div>"
      ],
      "text/plain": [
       "Shredder                            Units       U1\n",
       "Electricity         Power              kW    6e+03\n",
       "                    Cost           USD/hr      469\n",
       "Design              Flow rate       kg/hr    1e+06\n",
       "Purchase cost       Shredder (x2)     USD 6.38e+06\n",
       "Total purchase cost                   USD 6.38e+06\n",
       "Utility cost                       USD/hr      469"
      ]
     },
     "execution_count": 19,
     "metadata": {},
     "output_type": "execute_result"
    }
   ],
   "source": [
    "Shredder.cost_items['Shredder'].ub = 6e5 # Change size upper bound\n",
    "shredder.simulate()\n",
    "shredder.results()"
   ]
  },
  {
   "cell_type": "markdown",
   "metadata": {},
   "source": [
    "Note: It is also possible to decorate a Unit subclass multiple times to add multiple cost items."
   ]
  },
  {
   "cell_type": "markdown",
   "metadata": {},
   "source": [
    "It is also possible to extend the decorated cost. In this next example we will add an agitator to a flash vessel with the following exponential scale up factors [[3]](#References):\n",
    "\n",
    "* Chemical Engineering Plant Cost Index: 522\n",
    "* Size: 252,891 kg/hr flow rate\n",
    "* Purchase cost: $90,000\n",
    "* Electricity rate: 170 kW\n",
    "* Exponential factor: 0.5\n",
    "* Bare module factor: 1.5\n",
    "* Lifetime: Number of biorefinery operating years"
   ]
  },
  {
   "cell_type": "code",
   "execution_count": 20,
   "metadata": {
    "tags": [
     "nbval-ignore-output"
    ]
   },
   "outputs": [
    {
     "data": {
      "text/html": [
       "<div>\n",
       "<style scoped>\n",
       "    .dataframe tbody tr th:only-of-type {\n",
       "        vertical-align: middle;\n",
       "    }\n",
       "\n",
       "    .dataframe tbody tr th {\n",
       "        vertical-align: top;\n",
       "    }\n",
       "\n",
       "    .dataframe thead th {\n",
       "        text-align: right;\n",
       "    }\n",
       "</style>\n",
       "<table border=\"1\" class=\"dataframe\">\n",
       "  <thead>\n",
       "    <tr style=\"text-align: right;\">\n",
       "      <th></th>\n",
       "      <th>Flash with agitator</th>\n",
       "      <th>Units</th>\n",
       "      <th>F1</th>\n",
       "    </tr>\n",
       "  </thead>\n",
       "  <tbody>\n",
       "    <tr>\n",
       "      <th rowspan=\"2\" valign=\"top\">Electricity</th>\n",
       "      <th>Power</th>\n",
       "      <td>kW</td>\n",
       "      <td>25.2</td>\n",
       "    </tr>\n",
       "    <tr>\n",
       "      <th>Cost</th>\n",
       "      <td>USD/hr</td>\n",
       "      <td>1.97</td>\n",
       "    </tr>\n",
       "    <tr>\n",
       "      <th rowspan=\"3\" valign=\"top\">Low pressure steam</th>\n",
       "      <th>Duty</th>\n",
       "      <td>kJ/hr</td>\n",
       "      <td>2.82e+07</td>\n",
       "    </tr>\n",
       "    <tr>\n",
       "      <th>Flow</th>\n",
       "      <td>kmol/hr</td>\n",
       "      <td>728</td>\n",
       "    </tr>\n",
       "    <tr>\n",
       "      <th>Cost</th>\n",
       "      <td>USD/hr</td>\n",
       "      <td>173</td>\n",
       "    </tr>\n",
       "    <tr>\n",
       "      <th rowspan=\"7\" valign=\"top\">Design</th>\n",
       "      <th>Vessel type</th>\n",
       "      <td></td>\n",
       "      <td>Vertical</td>\n",
       "    </tr>\n",
       "    <tr>\n",
       "      <th>Length</th>\n",
       "      <td>ft</td>\n",
       "      <td>12.5</td>\n",
       "    </tr>\n",
       "    <tr>\n",
       "      <th>Diameter</th>\n",
       "      <td>ft</td>\n",
       "      <td>8.5</td>\n",
       "    </tr>\n",
       "    <tr>\n",
       "      <th>Weight</th>\n",
       "      <td>lb</td>\n",
       "      <td>8.14e+03</td>\n",
       "    </tr>\n",
       "    <tr>\n",
       "      <th>Wall thickness</th>\n",
       "      <td>in</td>\n",
       "      <td>0.438</td>\n",
       "    </tr>\n",
       "    <tr>\n",
       "      <th>Flow rate</th>\n",
       "      <td>kg/hr</td>\n",
       "      <td>3.74e+04</td>\n",
       "    </tr>\n",
       "    <tr>\n",
       "      <th>Vessel material</th>\n",
       "      <td></td>\n",
       "      <td>Carbon steel</td>\n",
       "    </tr>\n",
       "    <tr>\n",
       "      <th rowspan=\"4\" valign=\"top\">Purchase cost</th>\n",
       "      <th>Vertical pressure vessel</th>\n",
       "      <td>USD</td>\n",
       "      <td>4.2e+04</td>\n",
       "    </tr>\n",
       "    <tr>\n",
       "      <th>Platform and ladders</th>\n",
       "      <td>USD</td>\n",
       "      <td>1.19e+04</td>\n",
       "    </tr>\n",
       "    <tr>\n",
       "      <th>Agitator</th>\n",
       "      <td>USD</td>\n",
       "      <td>4e+04</td>\n",
       "    </tr>\n",
       "    <tr>\n",
       "      <th>Heat exchanger - Floating head</th>\n",
       "      <td>USD</td>\n",
       "      <td>3.65e+04</td>\n",
       "    </tr>\n",
       "    <tr>\n",
       "      <th>Total purchase cost</th>\n",
       "      <th></th>\n",
       "      <td>USD</td>\n",
       "      <td>1.3e+05</td>\n",
       "    </tr>\n",
       "    <tr>\n",
       "      <th>Utility cost</th>\n",
       "      <th></th>\n",
       "      <td>USD/hr</td>\n",
       "      <td>175</td>\n",
       "    </tr>\n",
       "  </tbody>\n",
       "</table>\n",
       "</div>"
      ],
      "text/plain": [
       "Flash with agitator                                   Units            F1\n",
       "Electricity         Power                                kW          25.2\n",
       "                    Cost                             USD/hr          1.97\n",
       "Low pressure steam  Duty                              kJ/hr      2.82e+07\n",
       "                    Flow                            kmol/hr           728\n",
       "                    Cost                             USD/hr           173\n",
       "Design              Vessel type                                  Vertical\n",
       "                    Length                               ft          12.5\n",
       "                    Diameter                             ft           8.5\n",
       "                    Weight                               lb      8.14e+03\n",
       "                    Wall thickness                       in         0.438\n",
       "                    Flow rate                         kg/hr      3.74e+04\n",
       "                    Vessel material                          Carbon steel\n",
       "Purchase cost       Vertical pressure vessel            USD       4.2e+04\n",
       "                    Platform and ladders                USD      1.19e+04\n",
       "                    Agitator                            USD         4e+04\n",
       "                    Heat exchanger - Floating head      USD      3.65e+04\n",
       "Total purchase cost                                     USD       1.3e+05\n",
       "Utility cost                                         USD/hr           175"
      ]
     },
     "execution_count": 20,
     "metadata": {},
     "output_type": "execute_result"
    }
   ],
   "source": [
    "@cost('Flow rate', 'Agitator', units='kg/hr',\n",
    "      cost=90e3, S=252891, kW=170, CE=522, n=0.5, BM=1.5)\n",
    "class FlashWithAgitator(bst.Flash):\n",
    "    \n",
    "    def _design(self):\n",
    "        super()._design()\n",
    "        self._decorated_design()\n",
    "    \n",
    "    def _cost(self):\n",
    "        # Run flash cost algorithm\n",
    "        super()._cost()\n",
    "        \n",
    "        # Run decorated cost algorithm\n",
    "        self._decorated_cost()\n",
    "        \n",
    "# Test\n",
    "F1 = FlashWithAgitator('F1', bst.Stream('feed', Water=800, Ethanol=500, T=350),\n",
    "                       V=0.5, P=101325)\n",
    "F1.simulate()\n",
    "F1.results()"
   ]
  },
  {
   "cell_type": "markdown",
   "metadata": {},
   "source": [
    "### Auxiliary units"
   ]
  },
  {
   "cell_type": "markdown",
   "metadata": {},
   "source": [
    "A unit operation may be composed of several auxiliary unit operations. To implement auxiliary units, define their names in  `auxiliary_unit_names` and instantiate them using the `auxiliary` method. In the following example, we create a new unit class composed of a mix tank, a pump, and a heat exchanger:"
   ]
  },
  {
   "cell_type": "code",
   "execution_count": 21,
   "metadata": {
    "tags": [
     "nbval-ignore-output"
    ]
   },
   "outputs": [
    {
     "data": {
      "image/svg+xml": [
       "<svg xmlns=\"http://www.w3.org/2000/svg\" xmlns:xlink=\"http://www.w3.org/1999/xlink\" width=\"435pt\" height=\"149pt\" viewBox=\"0.00 0.00 435.42 149.42\">\n",
       "<g id=\"graph0\" class=\"graph\" transform=\"scale(1 1) rotate(0) translate(4 145.42)\">\n",
       "<polygon fill=\"#ffffff\" fill-opacity=\"0.666667\" stroke=\"transparent\" points=\"-4,4 -4,-145.42 431.42,-145.42 431.42,4 -4,4\"/>\n",
       "<!-- HT1\n",
       "Mix tank\n",
       "Auxiliary&#45;&gt;149739870487 -->\n",
       "<g id=\"edge2\" class=\"edge\">\n",
       "<title>HT1\n",
       "Mix tank\n",
       "Auxiliary:c-&gt;149739870487:w</title>\n",
       "<path fill=\"none\" stroke=\"#4e4e4e\" d=\"M380.45,-70.71C392.35,-70.71 405.71,-70.71 417.92,-70.71\"/>\n",
       "<g id=\"a_edge2-label\"><a xlink:title=\"Temperature: 310 K\n",
       "Pressure: 101325 Pa\n",
       "Liquid flow: 3.6e+03 kg/hr\">\n",
       "<text text-anchor=\"middle\" x=\"398.42\" y=\"-74.51\" font-family=\"Arial\" font-size=\"14.00\" fill=\"#4e4e4e\"> s5</text>\n",
       "</a>\n",
       "</g>\n",
       "</g>\n",
       "<!-- HT1\n",
       "Pump\n",
       "Auxiliary&#45;&gt;HT1\n",
       "Heat exchanger\n",
       "Auxiliary -->\n",
       "<g id=\"edge4\" class=\"edge\">\n",
       "<title>HT1\n",
       "Pump\n",
       "Auxiliary:c-&gt;HT1\n",
       "Heat exchanger\n",
       "Auxiliary:c</title>\n",
       "<path fill=\"none\" stroke=\"#4e4e4e\" d=\"M133.2,-70.71C135.37,-70.71 137.59,-70.71 139.85,-70.71\"/>\n",
       "<polygon fill=\"#4e4e4e\" stroke=\"#4e4e4e\" points=\"139.96,-74.21 149.96,-70.71 139.96,-67.21 139.96,-74.21\"/>\n",
       "</g>\n",
       "<!-- HT1\n",
       "Heat exchanger\n",
       "Auxiliary&#45;&gt;HT1\n",
       "Mix tank\n",
       "Auxiliary -->\n",
       "<g id=\"edge1\" class=\"edge\">\n",
       "<title>HT1\n",
       "Heat exchanger\n",
       "Auxiliary:c-&gt;HT1\n",
       "Mix tank\n",
       "Auxiliary:c</title>\n",
       "<path fill=\"none\" stroke=\"#4e4e4e\" d=\"M291.45,-70.71C293.69,-70.71 295.92,-70.71 298.11,-70.71\"/>\n",
       "<polygon fill=\"#4e4e4e\" stroke=\"#4e4e4e\" points=\"298.13,-74.21 308.13,-70.71 298.13,-67.21 298.13,-74.21\"/>\n",
       "</g>\n",
       "<!-- 149739871180&#45;&gt;HT1\n",
       "Pump\n",
       "Auxiliary -->\n",
       "<g id=\"edge3\" class=\"edge\">\n",
       "<title>149739871180:e-&gt;HT1\n",
       "Pump\n",
       "Auxiliary:c</title>\n",
       "<path fill=\"none\" stroke=\"#4e4e4e\" d=\"M11,-70.71C27.38,-70.71 45.54,-70.71 60.85,-70.71\"/>\n",
       "<g id=\"a_edge3-label\"><a xlink:title=\"Temperature: 298.15 K\n",
       "Pressure: 101325 Pa\n",
       "Liquid flow: 3.6e+03 kg/hr\">\n",
       "<text text-anchor=\"middle\" x=\"36\" y=\"-74.51\" font-family=\"Arial\" font-size=\"14.00\" fill=\"#4e4e4e\"> feed</text>\n",
       "</a>\n",
       "</g>\n",
       "</g>\n",
       "<!-- HT1\n",
       "Mix tank\n",
       "Auxiliary -->\n",
       "<g id=\"node1\" class=\"node\">\n",
       "<title>HT1\n",
       "Mix tank\n",
       "Auxiliary</title>\n",
       "<g id=\"a_node1\"><a xlink:title=\"Electricity consumption: 0.447 kW\n",
       "Purchase cost: 30,662 USD\n",
       "Installed equipment cost: 50,592 USD\">\n",
       "<defs>\n",
       "<linearGradient id=\"l_0\" gradientUnits=\"userSpaceOnUse\" x1=\"308.42\" y1=\"-70.71\" x2=\"380.42\" y2=\"-70.71\">\n",
       "<stop offset=\"0\" style=\"stop-color:white;stop-opacity:1.;\"/>\n",
       "<stop offset=\"1\" style=\"stop-color:#cdcdcd;stop-opacity:1.;\"/>\n",
       "</linearGradient>\n",
       "</defs>\n",
       "<polygon fill=\"url(#l_0)\" stroke=\"#4e4e4e\" points=\"380.42,-113.71 308.42,-113.71 308.42,-27.71 380.42,-27.71 380.42,-113.71\"/>\n",
       "<text text-anchor=\"middle\" x=\"344.42\" y=\"-82.01\" font-family=\"Arial\" font-size=\"14.00\">HT1</text>\n",
       "<text text-anchor=\"middle\" x=\"344.42\" y=\"-67.01\" font-family=\"Arial\" font-size=\"14.00\">Mix tank</text>\n",
       "<text text-anchor=\"middle\" x=\"344.42\" y=\"-52.01\" font-family=\"Arial\" font-size=\"14.00\">Auxiliary</text>\n",
       "</a>\n",
       "</g>\n",
       "</g>\n",
       "<!-- HT1\n",
       "Pump\n",
       "Auxiliary -->\n",
       "<g id=\"node2\" class=\"node\">\n",
       "<title>HT1\n",
       "Pump\n",
       "Auxiliary</title>\n",
       "<g id=\"a_node2\"><a xlink:title=\"Electricity consumption: 0.289 kW\n",
       "Purchase cost: 4,916 USD\n",
       "Installed equipment cost: 16,225 USD\">\n",
       "<defs>\n",
       "<linearGradient id=\"l_1\" gradientUnits=\"userSpaceOnUse\" x1=\"61\" y1=\"-70.71\" x2=\"133\" y2=\"-70.71\">\n",
       "<stop offset=\"0\" style=\"stop-color:white;stop-opacity:1.;\"/>\n",
       "<stop offset=\"1\" style=\"stop-color:#cdcdcd;stop-opacity:1.;\"/>\n",
       "</linearGradient>\n",
       "</defs>\n",
       "<polygon fill=\"url(#l_1)\" stroke=\"#4e4e4e\" points=\"133,-113.71 61,-113.71 61,-27.71 133,-27.71 133,-113.71\"/>\n",
       "<text text-anchor=\"middle\" x=\"97\" y=\"-82.01\" font-family=\"Arial\" font-size=\"14.00\">HT1</text>\n",
       "<text text-anchor=\"middle\" x=\"97\" y=\"-67.01\" font-family=\"Arial\" font-size=\"14.00\">Pump</text>\n",
       "<text text-anchor=\"middle\" x=\"97\" y=\"-52.01\" font-family=\"Arial\" font-size=\"14.00\">Auxiliary</text>\n",
       "</a>\n",
       "</g>\n",
       "</g>\n",
       "<!-- HT1\n",
       "Heat exchanger\n",
       "Auxiliary -->\n",
       "<g id=\"node3\" class=\"node\">\n",
       "<title>HT1\n",
       "Heat exchanger\n",
       "Auxiliary</title>\n",
       "<g id=\"a_node3\"><a xlink:title=\"Heating duty: 188 MJ/hr\n",
       "Purchase cost: 3,838 USD\n",
       "Installed equipment cost: 5,619 USD\">\n",
       "<ellipse fill=\"#ed5a6a\" stroke=\"transparent\" cx=\"220.71\" cy=\"-70.71\" rx=\"70.92\" ry=\"70.92\"/>\n",
       "<text text-anchor=\"middle\" x=\"220.71\" y=\"-82.01\" font-family=\"Arial\" font-size=\"14.00\" fill=\"white\">HT1</text>\n",
       "<text text-anchor=\"middle\" x=\"220.71\" y=\"-67.01\" font-family=\"Arial\" font-size=\"14.00\" fill=\"white\">Heat exchanger</text>\n",
       "<text text-anchor=\"middle\" x=\"220.71\" y=\"-52.01\" font-family=\"Arial\" font-size=\"14.00\" fill=\"white\">Auxiliary</text>\n",
       "</a>\n",
       "</g>\n",
       "</g>\n",
       "<!-- 149739870487 -->\n",
       "<g id=\"node4\" class=\"node\">\n",
       "<title>149739870487</title>\n",
       "<polygon fill=\"#f98f60\" stroke=\"#4e4e4e\" points=\"427.42,-70.71 419.17,-77.71 419.17,-63.71 427.42,-70.71\"/>\n",
       "</g>\n",
       "<!-- 149739871180 -->\n",
       "<g id=\"node5\" class=\"node\">\n",
       "<title>149739871180</title>\n",
       "<polygon fill=\"#f98f60\" stroke=\"#4e4e4e\" points=\"5.5,-76.21 0,-70.71 5.5,-65.21 11,-70.71 5.5,-76.21\"/>\n",
       "</g>\n",
       "</g>\n",
       "</svg>"
      ],
      "text/plain": [
       "<IPython.core.display.SVG object>"
      ]
     },
     "metadata": {},
     "output_type": "display_data"
    },
    {
     "name": "stdout",
     "output_type": "stream",
     "text": [
      "HeatedTank: HT1\n",
      "ins...\n",
      "[0] feed  \n",
      "    phase: 'l', T: 298.15 K, P: 101325 Pa\n",
      "    flow (kg/hr): Water  3.6e+03\n",
      "outs...\n",
      "[0] s5  \n",
      "    phase: 'l', T: 310 K, P: 101325 Pa\n",
      "    flow (kg/hr): Water  3.6e+03\n"
     ]
    },
    {
     "data": {
      "text/html": [
       "<div>\n",
       "<style scoped>\n",
       "    .dataframe tbody tr th:only-of-type {\n",
       "        vertical-align: middle;\n",
       "    }\n",
       "\n",
       "    .dataframe tbody tr th {\n",
       "        vertical-align: top;\n",
       "    }\n",
       "\n",
       "    .dataframe thead th {\n",
       "        text-align: right;\n",
       "    }\n",
       "</style>\n",
       "<table border=\"1\" class=\"dataframe\">\n",
       "  <thead>\n",
       "    <tr style=\"text-align: right;\">\n",
       "      <th></th>\n",
       "      <th>Heated tank</th>\n",
       "      <th>Units</th>\n",
       "      <th>HT1</th>\n",
       "    </tr>\n",
       "  </thead>\n",
       "  <tbody>\n",
       "    <tr>\n",
       "      <th rowspan=\"2\" valign=\"top\">Electricity</th>\n",
       "      <th>Power</th>\n",
       "      <td>kW</td>\n",
       "      <td>0.736</td>\n",
       "    </tr>\n",
       "    <tr>\n",
       "      <th>Cost</th>\n",
       "      <td>USD/hr</td>\n",
       "      <td>0.0575</td>\n",
       "    </tr>\n",
       "    <tr>\n",
       "      <th rowspan=\"3\" valign=\"top\">Low pressure steam</th>\n",
       "      <th>Duty</th>\n",
       "      <td>kJ/hr</td>\n",
       "      <td>1.88e+05</td>\n",
       "    </tr>\n",
       "    <tr>\n",
       "      <th>Flow</th>\n",
       "      <td>kmol/hr</td>\n",
       "      <td>4.86</td>\n",
       "    </tr>\n",
       "    <tr>\n",
       "      <th>Cost</th>\n",
       "      <td>USD/hr</td>\n",
       "      <td>1.15</td>\n",
       "    </tr>\n",
       "    <tr>\n",
       "      <th rowspan=\"4\" valign=\"top\">Purchase cost</th>\n",
       "      <th>Mix tank - Tank</th>\n",
       "      <td>USD</td>\n",
       "      <td>3.07e+04</td>\n",
       "    </tr>\n",
       "    <tr>\n",
       "      <th>Pump - Pump</th>\n",
       "      <td>USD</td>\n",
       "      <td>4.64e+03</td>\n",
       "    </tr>\n",
       "    <tr>\n",
       "      <th>Pump - Motor</th>\n",
       "      <td>USD</td>\n",
       "      <td>273</td>\n",
       "    </tr>\n",
       "    <tr>\n",
       "      <th>Heat exchanger - Double pipe</th>\n",
       "      <td>USD</td>\n",
       "      <td>3.84e+03</td>\n",
       "    </tr>\n",
       "    <tr>\n",
       "      <th>Total purchase cost</th>\n",
       "      <th></th>\n",
       "      <td>USD</td>\n",
       "      <td>3.94e+04</td>\n",
       "    </tr>\n",
       "    <tr>\n",
       "      <th>Utility cost</th>\n",
       "      <th></th>\n",
       "      <td>USD/hr</td>\n",
       "      <td>1.21</td>\n",
       "    </tr>\n",
       "  </tbody>\n",
       "</table>\n",
       "</div>"
      ],
      "text/plain": [
       "Heated tank                                         Units      HT1\n",
       "Electricity         Power                              kW    0.736\n",
       "                    Cost                           USD/hr   0.0575\n",
       "Low pressure steam  Duty                            kJ/hr 1.88e+05\n",
       "                    Flow                          kmol/hr     4.86\n",
       "                    Cost                           USD/hr     1.15\n",
       "Purchase cost       Mix tank - Tank                   USD 3.07e+04\n",
       "                    Pump - Pump                       USD 4.64e+03\n",
       "                    Pump - Motor                      USD      273\n",
       "                    Heat exchanger - Double pipe      USD 3.84e+03\n",
       "Total purchase cost                                   USD 3.94e+04\n",
       "Utility cost                                       USD/hr     1.21"
      ]
     },
     "execution_count": 21,
     "metadata": {},
     "output_type": "execute_result"
    }
   ],
   "source": [
    "class HeatedTank(bst.Unit):\n",
    "    # Define names of auxiliary units\n",
    "    auxiliary_unit_names = ('mix_tank', 'pump', 'heat_exchanger')\n",
    "    \n",
    "    def _init(self, T):\n",
    "        pump = self.auxiliary(\n",
    "            'pump', # name of auxiliary unit\n",
    "            bst.Pump, # class of auxiliary unit\n",
    "            ins=self.ins, # inlets to auxiliary unit (can be the same as parent unit)\n",
    "        )\n",
    "        heat_exchanger = self.auxiliary(\n",
    "            'heat_exchanger', # name\n",
    "            bst.HXutility, # class\n",
    "            ins=pump.outlet, # outlet from pump is the inlet to heat exchanger\n",
    "            T=T, #: additional arguments to HXutility (Temperature [K])\n",
    "        )\n",
    "        self.auxiliary(\n",
    "            'mix_tank', # name\n",
    "            bst.MixTank, # class\n",
    "            ins=heat_exchanger.outlet, # connect\n",
    "            outs=self.outs, # outlet from auxiliary unit (can be the same as parent unit)\n",
    "        )\n",
    "        \n",
    "    def _run(self):\n",
    "        # Run auxiliary unit operations internally\n",
    "        self.pump._run()\n",
    "        self.heat_exchanger._run()\n",
    "        self.mix_tank._run()\n",
    "        \n",
    "    def _design(self):\n",
    "        # Explicitly design and cost auxiliaries\n",
    "        self.pump._design()\n",
    "        self.heat_exchanger._design()\n",
    "        self.mix_tank._design()\n",
    "        \n",
    "    def _cost(self):\n",
    "        self.pump._cost()\n",
    "        self.heat_exchanger._cost()\n",
    "        self.mix_tank._cost()\n",
    "    \n",
    "feed = bst.Stream('feed', Water=200)\n",
    "HT1 = HeatedTank('HT1', ins=feed, T=310)\n",
    "HT1.simulate()\n",
    "HT1.diagram(format='svg')\n",
    "HT1.show()\n",
    "HT1.results()"
   ]
  },
  {
   "cell_type": "markdown",
   "metadata": {},
   "source": [
    "Note that BioSTEAM takes care of adding utilities and costs from auxiliary units to the parent unit. Auxiliary units are displayed by default in unit diagrams, but it is possible to supress this behavior by passing `auxiliaries=0`:"
   ]
  },
  {
   "cell_type": "code",
   "execution_count": 22,
   "metadata": {
    "tags": [
     "nbval-ignore-output"
    ]
   },
   "outputs": [
    {
     "data": {
      "image/png": "[encoded data removed]",
      "text/plain": [
       "<IPython.core.display.Image object>"
      ]
     },
     "metadata": {},
     "output_type": "display_data"
    }
   ],
   "source": [
    "HT1.diagram(auxiliaries=0, format='png')"
   ]
  },
  {
   "cell_type": "markdown",
   "metadata": {},
   "source": [
    "### References\n",
    "\n",
    "<a id='References'></a>\n",
    "\n",
    "1. Huang, H., Long, S., & Singh, V. (2016) \"Techno-economic analysis of biodiesel and ethanol co-production from lipid-producing sugarcane\" Biofuels, Bioproducts and Biorefining, 10(3), 299–315. https://doi.org/10.1002/bbb.1640\n",
    "\n",
    "2. Seider, W. D., Lewin,  D. R., Seader, J. D., Widagdo, S., Gani, R., & Ng, M. K. (2017). Product and Process Design Principles. Wiley. Cost Accounting and Capital Cost Estimation (Chapter 16)\n",
    "\n",
    "3. Humbird, D., Davis, R., Tao, L., Kinchin, C., Hsu, D., Aden, A., Dudgeon, D. (2011). Process Design and Economics for Biochemical Conversion of Lignocellulosic Biomass to Ethanol: Dilute-Acid Pretreatment and Enzymatic Hydrolysis of Corn Stover (No. NREL/TP-5100-47764, 1013269). https://doi.org/10.2172/1013269\n"
   ]
  }
 ],
 "metadata": {
  "celltoolbar": "Tags",
  "kernelspec": {
   "display_name": "Python 3 (ipykernel)",
   "language": "python",
   "name": "python3"
  },
  "language_info": {
   "codemirror_mode": {
    "name": "ipython",
    "version": 3
   },
   "file_extension": ".py",
   "mimetype": "text/x-python",
   "name": "python",
   "nbconvert_exporter": "python",
   "pygments_lexer": "ipython3",
   "version": "3.11.4"
  }
 },
 "nbformat": 4,
 "nbformat_minor": 2
}
