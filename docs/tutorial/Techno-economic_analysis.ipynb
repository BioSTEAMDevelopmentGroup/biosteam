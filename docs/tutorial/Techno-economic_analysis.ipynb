{
 "cells": [
  {
   "cell_type": "markdown",
   "metadata": {},
   "source": [
    "# Techno-economic analysis"
   ]
  },
  {
   "cell_type": "markdown",
   "metadata": {},
   "source": [
    "[TEA](../API/TEA.txt) objects can perform cashflow analysis on a [System](../API/System.txt) object and arguments for cashflow analysis. These include arguments such as operating days, lang factor, and income tax, as well as arguments for taking into account startup operation, construction schedule, and capital cost financing."
   ]
  },
  {
   "cell_type": "markdown",
   "metadata": {},
   "source": [
    "### Inheriting from TEA objects"
   ]
  },
  {
   "cell_type": "markdown",
   "metadata": {},
   "source": [
    "Depending on the rigour and flexibility of the techno-economic analysis, different parameters may be needed to calculate total depreciable capital (TDC), fixed capital investment (FCI), and fixed operating cost (FOC). For this reason, the TEA object is left as an *abstract class* with *abstract methods* `_TDC`, `_FCI`, and `_FOC`. Here is an example TEA subclass from the sugarcane biorefinery design for the production of ethanol:"
   ]
  },
  {
   "cell_type": "code",
   "execution_count": 1,
   "metadata": {
    "tags": [
     "nbval-ignore-output"
    ]
   },
   "outputs": [],
   "source": [
    "import biosteam as bst\n",
    "import numpy as np\n",
    "\n",
    "class SugarcaneTEA(bst.TEA):\n",
    "    \"\"\"\n",
    "    Create a SugarcaneTEA object for techno-economic analysis of a biorefinery [1]_.\n",
    "    \n",
    "    Parameters\n",
    "    ----------    \n",
    "    system : System\n",
    "        Should contain feed and product streams.\n",
    "    IRR : float\n",
    "        Internal rate of return (fraction).\n",
    "    duration : tuple[int, int]\n",
    "        Start and end year of venture (e.g. (2018, 2038)).\n",
    "    depreciation : str\n",
    "        'MACRS' + number of years (e.g. 'MACRS7').\n",
    "    operating_days : float\n",
    "        Number of operating days per year.\n",
    "    income_tax : float\n",
    "        Combined federal and state income tax rate (fraction).\n",
    "    lang_factor : float\n",
    "        Lang factor for getting fixed capital investment from\n",
    "        total purchase cost. If no lang factor, estimate capital investment\n",
    "        using bare module factors.\n",
    "    startup_schedule : tuple[float]\n",
    "        Startup investment fractions per year \n",
    "        (e.g. (0.5, 0.5) for 50% capital investment in the first year and 50%\n",
    "        investment in the second).\n",
    "    WC_over_FCI : float\n",
    "        Working capital as a fraction of fixed capital investment.\n",
    "    labor_cost : float\n",
    "        Total labor cost (USD/yr).\n",
    "    fringe_benefits : float\n",
    "        Cost of fringe benefits as a fraction of labor cost.\n",
    "    property_tax : float\n",
    "        Fee as a fraction of fixed capital investment.\n",
    "    property_insurance : float\n",
    "        Fee as a fraction of fixed capital investment.    \n",
    "    supplies : float\n",
    "        Yearly fee as a fraction of labor cost.\n",
    "    maintenance : float\n",
    "        Yearly fee as a fraction of fixed capital investment.\n",
    "    administration : float\n",
    "        Yearly fee as a fraction of fixed capital investment.\n",
    "\n",
    "    References\n",
    "    ----------\n",
    "    .. [1] Huang, H., Long, S., & Singh, V. (2016). Techno-economic analysis of biodiesel\n",
    "        and ethanol co-production from lipid-producing sugarcane. Biofuels, Bioproducts\n",
    "        and Biorefining, 10(3), 299–315. https://doi.org/10.1002/bbb.1640\n",
    "    \n",
    "    \"\"\"\n",
    "    \n",
    "    def __init__(self, system, IRR, duration, depreciation, income_tax,\n",
    "                 operating_days, lang_factor, construction_schedule, WC_over_FCI,\n",
    "                 labor_cost, fringe_benefits, property_tax,\n",
    "                 property_insurance, supplies, maintenance, administration):\n",
    "        # Huang et. al. does not take into account financing or startup\n",
    "        # so these parameters are 0 by default\n",
    "        super().__init__(system, IRR, duration, depreciation, income_tax,\n",
    "                         operating_days, lang_factor, construction_schedule,\n",
    "                         startup_months=0, startup_FOCfrac=0, startup_VOCfrac=0,\n",
    "                         startup_salesfrac=0, finance_interest=0, finance_years=0, \n",
    "                         finance_fraction=0, WC_over_FCI=WC_over_FCI)\n",
    "        self.labor_cost = labor_cost\n",
    "        self.fringe_benefits = fringe_benefits\n",
    "        self.property_tax = property_tax\n",
    "        self.property_insurance = property_insurance\n",
    "        self.supplies= supplies\n",
    "        self.maintenance = maintenance\n",
    "        self.administration = administration\n",
    "        \n",
    "    # The abstract _DPI method should take installed equipment cost\n",
    "    # and return the direct permanent investment. Huang et. al. assume \n",
    "    # these values are equal\n",
    "    def _DPI(self, installed_equipment_cost):\n",
    "        return installed_equipment_cost\n",
    "    \n",
    "    # The abstract _TDC method should take direct permanent investment\n",
    "    # and return the total depreciable capital. Huang et. al. assume \n",
    "    # these values are equal\n",
    "    def _TDC(self, DPI):\n",
    "        return DPI\n",
    "    \n",
    "    # The abstract _FCI method should take total depreciable capital\n",
    "    # and return the fixed capital investment. Again, Huang et. al.  \n",
    "    # assume these values are equal.\n",
    "    def _FCI(self, TDC):\n",
    "        return TDC\n",
    "    \n",
    "    # The abstract _FOC method should take fixed capital investment\n",
    "    # and return the fixed operating cost.\n",
    "    def _FOC(self, FCI):\n",
    "        return (FCI*(self.property_tax + self.property_insurance\n",
    "                     + self.maintenance + self.administration)\n",
    "                + self.labor_cost*(1+self.fringe_benefits+self.supplies))"
   ]
  },
  {
   "cell_type": "markdown",
   "metadata": {},
   "source": [
    "### Cash flow analysis and results"
   ]
  },
  {
   "cell_type": "markdown",
   "metadata": {},
   "source": [
    "Create a TEA object from a system:"
   ]
  },
  {
   "cell_type": "code",
   "execution_count": 2,
   "metadata": {
    "tags": [
     "nbval-ignore-output"
    ]
   },
   "outputs": [
    {
     "name": "stdout",
     "output_type": "stream",
     "text": [
      "SugarcaneTEA: sugarcane_sys\n",
      " NPV: -1,250,278 USD at 15.0% IRR\n"
     ]
    }
   ],
   "source": [
    "from biorefineries import sugarcane as sc\n",
    "\n",
    "tea = SugarcaneTEA(system=sc.sugarcane_sys,\n",
    "                 IRR=0.15,\n",
    "                 duration=(2018, 2038),\n",
    "                 depreciation='MACRS7',\n",
    "                 income_tax=0.21,\n",
    "                 operating_days=200,\n",
    "                 lang_factor=3,\n",
    "                 construction_schedule=(0.4, 0.6),\n",
    "                 WC_over_FCI=0.05,\n",
    "                 labor_cost=2.5e6,\n",
    "                 fringe_benefits=0.4,\n",
    "                 property_tax=0.001,\n",
    "                 property_insurance=0.005,\n",
    "                 supplies=0.20,\n",
    "                 maintenance=0.01,\n",
    "                 administration=0.005)\n",
    "\n",
    "tea.show() # Print TEA summary at current options\n",
    "# Ignore the warnings, these are taken care of internally."
   ]
  },
  {
   "cell_type": "markdown",
   "metadata": {},
   "source": [
    "Retrieve complete cashflow analysis as a DataFrame object:"
   ]
  },
  {
   "cell_type": "code",
   "execution_count": 3,
   "metadata": {
    "tags": [
     "nbval-ignore-output"
    ]
   },
   "outputs": [
    {
     "name": "stdout",
     "output_type": "stream",
     "text": [
      "      Depreciable capital [MM$]  Fixed capital investment [MM$]  \\\n",
      "2016                       69.2                            69.2   \n",
      "2017                        104                             104   \n",
      "2018                          0                               0   \n",
      "2019                          0                               0   \n",
      "2020                          0                               0   \n",
      "2021                          0                               0   \n",
      "2022                          0                               0   \n",
      "2023                          0                            2.98   \n",
      "2024                          0                               0   \n",
      "2025                          0                               0   \n",
      "2026                          0                               0   \n",
      "2027                          0                               0   \n",
      "2028                          0                            2.98   \n",
      "2029                          0                               0   \n",
      "2030                          0                               0   \n",
      "2031                          0                               0   \n",
      "2032                          0                               0   \n",
      "2033                          0                            2.98   \n",
      "2034                          0                               0   \n",
      "2035                          0                               0   \n",
      "2036                          0                               0   \n",
      "2037                          0                               0   \n",
      "\n",
      "      Working capital [MM$]  Depreciation [MM$]  Loan [MM$]  ...  \\\n",
      "2016                      0                   0           0  ...   \n",
      "2017                   8.64                   0           0  ...   \n",
      "2018                      0                24.7           0  ...   \n",
      "2019                      0                42.3           0  ...   \n",
      "2020                      0                30.2           0  ...   \n",
      "2021                      0                21.6           0  ...   \n",
      "2022                      0                15.4           0  ...   \n",
      "2023                      0                15.4           0  ...   \n",
      "2024                      0                15.4           0  ...   \n",
      "2025                      0                7.71           0  ...   \n",
      "2026                      0                   0           0  ...   \n",
      "2027                      0                   0           0  ...   \n",
      "2028                      0                   0           0  ...   \n",
      "2029                      0                   0           0  ...   \n",
      "2030                      0                   0           0  ...   \n",
      "2031                      0                   0           0  ...   \n",
      "2032                      0                   0           0  ...   \n",
      "2033                      0                   0           0  ...   \n",
      "2034                      0                   0           0  ...   \n",
      "2035                      0                   0           0  ...   \n",
      "2036                      0                   0           0  ...   \n",
      "2037                  -8.64                   0           0  ...   \n",
      "\n",
      "      Net earnings [MM$]  Cash flow [MM$]  Discount factor  \\\n",
      "2016                   0            -69.2             1.15   \n",
      "2017                   0             -112                1   \n",
      "2018                7.78             32.5             0.87   \n",
      "2019               -7.79             34.6            0.756   \n",
      "2020                3.41             33.6            0.658   \n",
      "2021                10.2             31.8            0.572   \n",
      "2022                15.1             30.5            0.497   \n",
      "2023                15.1             27.6            0.432   \n",
      "2024                15.1             30.5            0.376   \n",
      "2025                21.2             28.9            0.327   \n",
      "2026                27.3             27.3            0.284   \n",
      "2027                27.3             27.3            0.247   \n",
      "2028                27.3             24.3            0.215   \n",
      "2029                27.3             27.3            0.187   \n",
      "2030                27.3             27.3            0.163   \n",
      "2031                27.3             27.3            0.141   \n",
      "2032                27.3             27.3            0.123   \n",
      "2033                27.3             24.3            0.107   \n",
      "2034                27.3             27.3           0.0929   \n",
      "2035                27.3             27.3           0.0808   \n",
      "2036                27.3             27.3           0.0703   \n",
      "2037                27.3             35.9           0.0611   \n",
      "\n",
      "      Net present value (NPV) [MM$]  Cumulative NPV [MM$]  \n",
      "2016                          -79.5                 -79.5  \n",
      "2017                           -112                  -192  \n",
      "2018                           28.2                  -164  \n",
      "2019                           26.1                  -138  \n",
      "2020                           22.1                  -115  \n",
      "2021                           18.2                 -97.2  \n",
      "2022                           15.2                   -82  \n",
      "2023                           11.9                 -70.1  \n",
      "2024                           11.5                 -58.6  \n",
      "2025                           9.45                 -49.2  \n",
      "2026                           7.76                 -41.4  \n",
      "2027                           6.75                 -34.7  \n",
      "2028                           5.23                 -29.5  \n",
      "2029                            5.1                 -24.4  \n",
      "2030                           4.44                 -19.9  \n",
      "2031                           3.86                 -16.1  \n",
      "2032                           3.35                 -12.7  \n",
      "2033                            2.6                 -10.1  \n",
      "2034                           2.54                 -7.57  \n",
      "2035                           2.21                 -5.36  \n",
      "2036                           1.92                 -3.45  \n",
      "2037                            2.2                 -1.25  \n",
      "\n",
      "[22 rows x 17 columns]\n"
     ]
    }
   ],
   "source": [
    "print(tea.get_cashflow_table())"
   ]
  },
  {
   "cell_type": "markdown",
   "metadata": {},
   "source": [
    "Find production cost:"
   ]
  },
  {
   "cell_type": "code",
   "execution_count": 4,
   "metadata": {
    "tags": [
     "nbval-ignore-output"
    ]
   },
   "outputs": [
    {
     "data": {
      "text/plain": [
       "array([62.])"
      ]
     },
     "execution_count": 4,
     "metadata": {},
     "output_type": "execute_result"
    }
   ],
   "source": [
    "products = [bst.main_flowsheet('ethanol')]\n",
    "costs = tea.production_costs(products)# USD/yr\n",
    "np.round(costs / 1e6) # million USD / yr"
   ]
  },
  {
   "cell_type": "markdown",
   "metadata": {},
   "source": [
    "Solve for the price of a stream at the break even point:"
   ]
  },
  {
   "cell_type": "code",
   "execution_count": 5,
   "metadata": {
    "tags": [
     "nbval-ignore-output"
    ]
   },
   "outputs": [
    {
     "data": {
      "text/plain": [
       "0.0344"
      ]
     },
     "execution_count": 5,
     "metadata": {},
     "output_type": "execute_result"
    }
   ],
   "source": [
    "feed = bst.main_flowsheet('sugarcane')\n",
    "price = tea.solve_price(feed) # USD/kg\n",
    "round(price, 5)"
   ]
  },
  {
   "cell_type": "markdown",
   "metadata": {},
   "source": [
    "Solve for the IRR at the break even point:"
   ]
  },
  {
   "cell_type": "code",
   "execution_count": 6,
   "metadata": {
    "tags": [
     "nbval-ignore-output"
    ]
   },
   "outputs": [
    {
     "name": "stdout",
     "output_type": "stream",
     "text": [
      "SugarcaneTEA: sugarcane_sys\n",
      " NPV: -0 USD at 14.9% IRR\n"
     ]
    }
   ],
   "source": [
    "tea.IRR = tea.solve_IRR()\n",
    "tea.show()"
   ]
  },
  {
   "cell_type": "markdown",
   "metadata": {},
   "source": [
    "Save stream tables, utility requirements, itemized costs, TEA results, and a cash flow table:"
   ]
  },
  {
   "cell_type": "code",
   "execution_count": 7,
   "metadata": {},
   "outputs": [],
   "source": [
    "# Try this on your computer and open excel:\n",
    "# tea.save_report('report.xlsx')\n",
    "# Ignore the warning. The flowsheet is saved on the excel file\n",
    "# as a really big image and Python thinks it could be a \n",
    "# malicious file cause its so big."
   ]
  },
  {
   "cell_type": "markdown",
   "metadata": {},
   "source": [
    "### Incentives"
   ]
  },
  {
   "cell_type": "markdown",
   "metadata": {},
   "source": [
    "Inclusion of policy incentives in TEA is useful to evaluate their efficacy. Results can be used by researchers to determine the degree to which incentives may improve biorefinery economics, and by policymakers to develop better incentives. The [BioSTEAM Location-Specific Evaluation library (BLocS)](https://github.com/BioSTEAMDevelopmentGroup/BLocS) allows users to simulate 20 existing state-level tax incentives, and also includes state-level tax rate data for use in TEA. Information on the tax incentives available for simulation can be found in [incentives_info.xlsx](https://github.com/BioSTEAMDevelopmentGroup/BLocS/blob/main/blocs/incentives/incentives_info.xlsx), and state-specific tax rate data is available in [state_scenarios_for_import.xlsx](https://github.com/BioSTEAMDevelopmentGroup/BLocS/blob/main/blocs/incentives/state_scenarios_for_import.xlsx).\n",
    "\n",
    "In the following example, we evaluate a sugarcane biorefinery operating in Louisiana with state specific data from the BLocS library:"
   ]
  },
  {
   "cell_type": "code",
   "execution_count": 8,
   "metadata": {
    "tags": [
     "nbval-skip"
    ]
   },
   "outputs": [
    {
     "name": "stdout",
     "output_type": "stream",
     "text": [
      "ConventionalIncentivesTEA: sugarcane_sys\n",
      " NPV: 1 USD at 4.4% IRR\n"
     ]
    }
   ],
   "source": [
    "import blocs as blc # pip install blocs first (or clone from github)\n",
    "tea = blc.create_incentivized_tea(\n",
    "    system=sc.sugarcane_sys, \n",
    "    incentive_numbers=[13, 14], # Incentive number as described in incentives_info.xlsx\n",
    "    state='Louisiana',\n",
    "    isconventional=True, \n",
    "    cogeneration_unit=sc.BT,\n",
    "    feedstock=sc.sugarcane, \n",
    "    ethanol_product=sc.ethanol,\n",
    "    IRR=0.15,\n",
    "    duration=(2018, 2038),\n",
    "    depreciation='MACRS7', \n",
    "    federal_income_tax=0.21,\n",
    "    operating_days=180,\n",
    "    lang_factor=3,\n",
    "    construction_schedule=(0.4, 0.6),\n",
    "    WC_over_FCI=0.05,\n",
    "    labor_cost=2.5e6,\n",
    "    fringe_benefits=0.4,\n",
    "    property_tax=0.001,\n",
    "    property_insurance=0.005,\n",
    "    supplies=0.20,\n",
    "    maintenance=0.01,\n",
    "    administration=0.005,\n",
    ")\n",
    "tea.IRR = tea.solve_IRR()\n",
    "tea.show()"
   ]
  },
  {
   "cell_type": "markdown",
   "metadata": {},
   "source": [
    "Incentive cashflows can be found in the cash flow table:"
   ]
  },
  {
   "cell_type": "code",
   "execution_count": 9,
   "metadata": {
    "tags": [
     "nbval-skip"
    ]
   },
   "outputs": [
    {
     "name": "stdout",
     "output_type": "stream",
     "text": [
      "2016       0\n",
      "2017       0\n",
      "2018   0.252\n",
      "2019       0\n",
      "2020       0\n",
      "2021   0.393\n",
      "2022   0.354\n",
      "2023   0.316\n",
      "2024   0.277\n",
      "2025       0\n",
      "2026       1\n",
      "2027       1\n",
      "2028       0\n",
      "2029       0\n",
      "2030       0\n",
      "2031       0\n",
      "2032       0\n",
      "2033       0\n",
      "2034       0\n",
      "2035       0\n",
      "2036       0\n",
      "2037       0\n",
      "Name: Incentives [MM$], dtype: float64\n"
     ]
    }
   ],
   "source": [
    "df = tea.get_cashflow_table()\n",
    "print(df['Incentives [MM$]'])"
   ]
  }
 ],
 "metadata": {
  "celltoolbar": "Tags",
  "kernelspec": {
   "display_name": "Python 3 (ipykernel)",
   "language": "python",
   "name": "python3"
  },
  "language_info": {
   "codemirror_mode": {
    "name": "ipython",
    "version": 3
   },
   "file_extension": ".py",
   "mimetype": "text/x-python",
   "name": "python",
   "nbconvert_exporter": "python",
   "pygments_lexer": "ipython3",
   "version": "3.8.5"
  }
 },
 "nbformat": 4,
 "nbformat_minor": 2
}
