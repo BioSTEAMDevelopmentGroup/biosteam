{
 "cells": [
  {
   "cell_type": "markdown",
   "metadata": {},
   "source": [
    "# Unit decorators"
   ]
  },
  {
   "cell_type": "markdown",
   "metadata": {},
   "source": [
    "### cost decorator"
   ]
  },
  {
   "cell_type": "markdown",
   "metadata": {},
   "source": [
    "The cost decorator adds a free on board purchase cost based on the exponential scale up equation:\n",
    "\n",
    "$$New\\ cost = N \\cdot cost \\bigg(\\frac{CE_{new}}{CE}\\bigg) \\bigg(\\frac{S_{new}}{N \\cdot S}\\bigg)^{n}$$\n",
    "    \n",
    "$$Electricity\\ rate = kW \\bigg(\\frac{S_{new}}{S}\\bigg)$$\n",
    "\n",
    "$$N = ceil \\bigg( \\frac{S_{new}}{ub} \\bigg)$$\n",
    "\n",
    "$N\\text{: Number of units}$\n",
    "\n",
    "$ub\\text{: Upper bound of size}$\n",
    "\n",
    "$CE_{new}\\text{: New Chemical Engineering Plant Cost Index}$\n",
    "\n",
    "$CE\\text{: Chemical Engineering Plant Cost Index}$\n",
    "\n",
    "$S_{new}\\text{: New size value}$\n",
    "\n",
    "$S\\text{: Original size value}$\n",
    "\n",
    "$cost\\text{: Free on board purchase cost at size S}$\n",
    "\n",
    "$kW\\text{: Electricity rate in kW at size S}$\n",
    "\n",
    "$n\\text{: Exponential factor}$\n"
   ]
  },
  {
   "cell_type": "markdown",
   "metadata": {},
   "source": [
    "Create a Shredder Unit subclass for sugar cane with the following exponential scale up factors [[1]](#References):\n",
    "\n",
    "* Chemical Engineering Plant Cost Index: 567.3\n",
    "* Size: 500,000 kg/hr flow rate\n",
    "* Purchase cost: 2,500,000\n",
    "* Electricity rate: 3,000 kW\n",
    "* Exponential factor: 0.6\n",
    "\n",
    "Additionally, include a bare module factor of 1.39 as an approximation for this example [[2]](#References)."
   ]
  },
  {
   "cell_type": "code",
   "execution_count": 1,
   "metadata": {},
   "outputs": [
    {
     "name": "stdout",
     "output_type": "stream",
     "text": [
      "Shredder: U1\n",
      "ins...\n",
      "[0] s1\n",
      "    phase: 'l', T: 298.15 K, P: 101325 Pa\n",
      "    flow (kg/hr): SugarCane  1e+06\n",
      "outs...\n",
      "[0] s2\n",
      "    phase: 'l', T: 298.15 K, P: 101325 Pa\n",
      "    flow (kg/hr): SugarCane  1e+06\n"
     ]
    },
    {
     "data": {
      "text/html": [
       "<div>\n",
       "<style scoped>\n",
       "    .dataframe tbody tr th:only-of-type {\n",
       "        vertical-align: middle;\n",
       "    }\n",
       "\n",
       "    .dataframe tbody tr th {\n",
       "        vertical-align: top;\n",
       "    }\n",
       "\n",
       "    .dataframe thead th {\n",
       "        text-align: right;\n",
       "    }\n",
       "</style>\n",
       "<table border=\"1\" class=\"dataframe\">\n",
       "  <thead>\n",
       "    <tr style=\"text-align: right;\">\n",
       "      <th></th>\n",
       "      <th>Shredder</th>\n",
       "      <th>Units</th>\n",
       "      <th>U1</th>\n",
       "    </tr>\n",
       "  </thead>\n",
       "  <tbody>\n",
       "    <tr>\n",
       "      <th rowspan=\"2\" valign=\"top\">Power</th>\n",
       "      <th>Rate</th>\n",
       "      <td>kW</td>\n",
       "      <td>6e+03</td>\n",
       "    </tr>\n",
       "    <tr>\n",
       "      <th>Cost</th>\n",
       "      <td>USD/hr</td>\n",
       "      <td>469</td>\n",
       "    </tr>\n",
       "    <tr>\n",
       "      <th>Design</th>\n",
       "      <th>Flow rate</th>\n",
       "      <td>kg/hr</td>\n",
       "      <td>1e+06</td>\n",
       "    </tr>\n",
       "    <tr>\n",
       "      <th>Purchase cost</th>\n",
       "      <th>Shredder</th>\n",
       "      <td>USD</td>\n",
       "      <td>4.03e+06</td>\n",
       "    </tr>\n",
       "    <tr>\n",
       "      <th>Total purchase cost</th>\n",
       "      <th></th>\n",
       "      <td>USD</td>\n",
       "      <td>4.03e+06</td>\n",
       "    </tr>\n",
       "    <tr>\n",
       "      <th>Utility cost</th>\n",
       "      <th></th>\n",
       "      <td>USD/hr</td>\n",
       "      <td>469</td>\n",
       "    </tr>\n",
       "  </tbody>\n",
       "</table>\n",
       "</div>"
      ],
      "text/plain": [
       "Shredder                        Units       U1\n",
       "Power               Rate           kW    6e+03\n",
       "                    Cost       USD/hr      469\n",
       "Design              Flow rate   kg/hr    1e+06\n",
       "Purchase cost       Shredder      USD 4.03e+06\n",
       "Total purchase cost               USD 4.03e+06\n",
       "Utility cost                   USD/hr      469"
      ]
     },
     "execution_count": 1,
     "metadata": {},
     "output_type": "execute_result"
    }
   ],
   "source": [
    "import biosteam as bst\n",
    "from biosteam.units.decorators import cost\n",
    "\n",
    "# Set up thermo property package\n",
    "chemicals = bst.Chemicals(['Water', 'Ethanol'])\n",
    "SugarCane = bst.Chemical.blank('SugarCane', phase_ref='s')\n",
    "SugarCane.default()\n",
    "chemicals.append(SugarCane)\n",
    "bst.settings.set_thermo(chemicals)\n",
    "\n",
    "# For year 2018\n",
    "bst.CE = 603.1 \n",
    "\n",
    "# basis will be the total flow rate in kg/hr\n",
    "@cost('Flow rate', units='kg/hr', cost=2.5e6,\n",
    "      CE=567.3, n=0.6, S=500e3, kW=3000, BM=1.39)\n",
    "class Shredder(bst.Unit): pass\n",
    "# Units without a `_run` method assume one input and output stream\n",
    "# that share the same flow rates and conditions\n",
    "\n",
    "### Test a Shreadder object ###\n",
    "\n",
    "# Display flow rate in kg/hr\n",
    "bst.Stream.display_units.flow = 'kg/hr'\n",
    "\n",
    "feed = bst.Stream(SugarCane=1e6, units='kg/hr')\n",
    "shredder = Shredder(ins=feed)\n",
    "shredder.simulate()\n",
    "\n",
    "shredder.show()\n",
    "shredder.results()"
   ]
  },
  {
   "cell_type": "markdown",
   "metadata": {},
   "source": [
    "Cost data is stored as CostItem objects in the `cost_items` dictionary:"
   ]
  },
  {
   "cell_type": "code",
   "execution_count": 2,
   "metadata": {},
   "outputs": [
    {
     "data": {
      "text/plain": [
       "{'Shredder': <CostItem: Flow rate (kg/hr)>}"
      ]
     },
     "execution_count": 2,
     "metadata": {},
     "output_type": "execute_result"
    }
   ],
   "source": [
    "Shredder.cost_items"
   ]
  },
  {
   "cell_type": "code",
   "execution_count": 3,
   "metadata": {},
   "outputs": [
    {
     "name": "stdout",
     "output_type": "stream",
     "text": [
      "CostItem: Flow rate (kg/hr)\n",
      " S     5e+05\n",
      " ub    0\n",
      " CE    567\n",
      " cost  2.5e+06\n",
      " n     0.6\n",
      " kW    3e+03\n",
      " BM    1.39\n",
      "\n"
     ]
    }
   ],
   "source": [
    "Shredder.cost_items['Shredder']"
   ]
  },
  {
   "cell_type": "markdown",
   "metadata": {},
   "source": [
    "Any option can be changed:"
   ]
  },
  {
   "cell_type": "code",
   "execution_count": 4,
   "metadata": {},
   "outputs": [
    {
     "data": {
      "text/html": [
       "<div>\n",
       "<style scoped>\n",
       "    .dataframe tbody tr th:only-of-type {\n",
       "        vertical-align: middle;\n",
       "    }\n",
       "\n",
       "    .dataframe tbody tr th {\n",
       "        vertical-align: top;\n",
       "    }\n",
       "\n",
       "    .dataframe thead th {\n",
       "        text-align: right;\n",
       "    }\n",
       "</style>\n",
       "<table border=\"1\" class=\"dataframe\">\n",
       "  <thead>\n",
       "    <tr style=\"text-align: right;\">\n",
       "      <th></th>\n",
       "      <th>Shredder</th>\n",
       "      <th>Units</th>\n",
       "      <th>U1</th>\n",
       "    </tr>\n",
       "  </thead>\n",
       "  <tbody>\n",
       "    <tr>\n",
       "      <th rowspan=\"2\" valign=\"top\">Power</th>\n",
       "      <th>Rate</th>\n",
       "      <td>kW</td>\n",
       "      <td>6e+03</td>\n",
       "    </tr>\n",
       "    <tr>\n",
       "      <th>Cost</th>\n",
       "      <td>USD/hr</td>\n",
       "      <td>469</td>\n",
       "    </tr>\n",
       "    <tr>\n",
       "      <th>Design</th>\n",
       "      <th>Flow rate</th>\n",
       "      <td>kg/hr</td>\n",
       "      <td>1e+06</td>\n",
       "    </tr>\n",
       "    <tr>\n",
       "      <th>Purchase cost</th>\n",
       "      <th>Shredder</th>\n",
       "      <td>USD</td>\n",
       "      <td>4.83e+06</td>\n",
       "    </tr>\n",
       "    <tr>\n",
       "      <th>Total purchase cost</th>\n",
       "      <th></th>\n",
       "      <td>USD</td>\n",
       "      <td>4.83e+06</td>\n",
       "    </tr>\n",
       "    <tr>\n",
       "      <th>Utility cost</th>\n",
       "      <th></th>\n",
       "      <td>USD/hr</td>\n",
       "      <td>469</td>\n",
       "    </tr>\n",
       "  </tbody>\n",
       "</table>\n",
       "</div>"
      ],
      "text/plain": [
       "Shredder                        Units       U1\n",
       "Power               Rate           kW    6e+03\n",
       "                    Cost       USD/hr      469\n",
       "Design              Flow rate   kg/hr    1e+06\n",
       "Purchase cost       Shredder      USD 4.83e+06\n",
       "Total purchase cost               USD 4.83e+06\n",
       "Utility cost                   USD/hr      469"
      ]
     },
     "execution_count": 4,
     "metadata": {},
     "output_type": "execute_result"
    }
   ],
   "source": [
    "Shredder.cost_items['Shredder'].cost = 3e6 # Change base cost\n",
    "# This also works:\n",
    "# Shredder.cost_items['Shredder']['cost'] = 3e6\n",
    "shredder.simulate()\n",
    "shredder.results()"
   ]
  },
  {
   "cell_type": "code",
   "execution_count": 5,
   "metadata": {},
   "outputs": [
    {
     "data": {
      "text/html": [
       "<div>\n",
       "<style scoped>\n",
       "    .dataframe tbody tr th:only-of-type {\n",
       "        vertical-align: middle;\n",
       "    }\n",
       "\n",
       "    .dataframe tbody tr th {\n",
       "        vertical-align: top;\n",
       "    }\n",
       "\n",
       "    .dataframe thead th {\n",
       "        text-align: right;\n",
       "    }\n",
       "</style>\n",
       "<table border=\"1\" class=\"dataframe\">\n",
       "  <thead>\n",
       "    <tr style=\"text-align: right;\">\n",
       "      <th></th>\n",
       "      <th>Shredder</th>\n",
       "      <th>Units</th>\n",
       "      <th>U1</th>\n",
       "    </tr>\n",
       "  </thead>\n",
       "  <tbody>\n",
       "    <tr>\n",
       "      <th rowspan=\"2\" valign=\"top\">Power</th>\n",
       "      <th>Rate</th>\n",
       "      <td>kW</td>\n",
       "      <td>6e+03</td>\n",
       "    </tr>\n",
       "    <tr>\n",
       "      <th>Cost</th>\n",
       "      <td>USD/hr</td>\n",
       "      <td>469</td>\n",
       "    </tr>\n",
       "    <tr>\n",
       "      <th rowspan=\"2\" valign=\"top\">Design</th>\n",
       "      <th>Flow rate</th>\n",
       "      <td>kg/hr</td>\n",
       "      <td>1e+06</td>\n",
       "    </tr>\n",
       "    <tr>\n",
       "      <th>#Shredder</th>\n",
       "      <td></td>\n",
       "      <td>2</td>\n",
       "    </tr>\n",
       "    <tr>\n",
       "      <th>Purchase cost</th>\n",
       "      <th>Shredder</th>\n",
       "      <td>USD</td>\n",
       "      <td>6.38e+06</td>\n",
       "    </tr>\n",
       "    <tr>\n",
       "      <th>Total purchase cost</th>\n",
       "      <th></th>\n",
       "      <td>USD</td>\n",
       "      <td>6.38e+06</td>\n",
       "    </tr>\n",
       "    <tr>\n",
       "      <th>Utility cost</th>\n",
       "      <th></th>\n",
       "      <td>USD/hr</td>\n",
       "      <td>469</td>\n",
       "    </tr>\n",
       "  </tbody>\n",
       "</table>\n",
       "</div>"
      ],
      "text/plain": [
       "Shredder                        Units       U1\n",
       "Power               Rate           kW    6e+03\n",
       "                    Cost       USD/hr      469\n",
       "Design              Flow rate   kg/hr    1e+06\n",
       "                    #Shredder                2\n",
       "Purchase cost       Shredder      USD 6.38e+06\n",
       "Total purchase cost               USD 6.38e+06\n",
       "Utility cost                   USD/hr      469"
      ]
     },
     "execution_count": 5,
     "metadata": {},
     "output_type": "execute_result"
    }
   ],
   "source": [
    "Shredder.cost_items['Shredder'].ub = 6e5 # Change size upper bound\n",
    "shredder.simulate()\n",
    "shredder.results()"
   ]
  },
  {
   "cell_type": "markdown",
   "metadata": {},
   "source": [
    "Note: It is also possible to decorate a Unit subclass multiple times to add multiple cost items."
   ]
  },
  {
   "cell_type": "markdown",
   "metadata": {},
   "source": [
    "### References\n",
    "\n",
    "<a id='References'></a>\n",
    "\n",
    "1. Huang, H., Long, S., & Singh, V. (2016) \"Techno-economic analysis of biodiesel and ethanol co-production from lipid-producing sugarcane\" Biofuels, Bioproducts and Biorefining, 10(3), 299–315. https://doi.org/10.1002/bbb.1640\n",
    "\n",
    "2. Seider, W. D., Lewin,  D. R., Seader, J. D., Widagdo, S., Gani, R., & Ng, M. K. (2017). Product and Process Design Principles. Wiley. Cost Accounting and Capital Cost Estimation (Chapter 16)\n",
    "\n"
   ]
  }
 ],
 "metadata": {
  "kernelspec": {
   "display_name": "Python 3",
   "language": "python",
   "name": "python3"
  },
  "language_info": {
   "codemirror_mode": {
    "name": "ipython",
    "version": 3
   },
   "file_extension": ".py",
   "mimetype": "text/x-python",
   "name": "python",
   "nbconvert_exporter": "python",
   "pygments_lexer": "ipython3",
   "version": "3.7.6"
  }
 },
 "nbformat": 4,
 "nbformat_minor": 2
}
