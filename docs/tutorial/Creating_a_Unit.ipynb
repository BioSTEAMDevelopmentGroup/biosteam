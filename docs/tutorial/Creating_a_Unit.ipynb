{
 "cells": [
  {
   "cell_type": "markdown",
   "metadata": {},
   "source": [
    "# Creating a Unit"
   ]
  },
  {
   "cell_type": "markdown",
   "metadata": {},
   "source": [
    "All unit operations are created by passing a name and both inlet and outlet streams. The parent [Unit](../API/Unit.txt) class does nothing when simulated, but is used here as a general example that applies to all Unit child classes (e.g. heat exchangers, mixers) which do implement modeling algorithms. "
   ]
  },
  {
   "cell_type": "markdown",
   "metadata": {},
   "source": [
    "## Key parameters"
   ]
  },
  {
   "cell_type": "markdown",
   "metadata": {},
   "source": [
    "Initialize a Unit object with an `ID`, `ins` streams, and `outs` streams. Either an iterable of Stream objects, or a Stream object may work for `ins` and `outs`:"
   ]
  },
  {
   "cell_type": "code",
   "execution_count": 1,
   "metadata": {},
   "outputs": [
    {
     "name": "stdout",
     "output_type": "stream",
     "text": [
      "Unit: U1\n",
      "ins...\n",
      "[0] in0  \n",
      "outs...\n",
      "[0] out0  \n"
     ]
    }
   ],
   "source": [
    "from biosteam import Unit, Stream, settings, main_flowsheet\n",
    "import biosteam as bst\n",
    "bst.nbtutorial() # Light-mode html diagrams and filter warnings\n",
    "settings.set_thermo(['Water'])\n",
    "ins = Stream('in0')\n",
    "outs = [Stream('out0')]\n",
    "U1 = Unit(ID='U1', ins=ins, outs=outs)\n",
    "U1.show(data=False) # Passing data as False returns only stream names"
   ]
  },
  {
   "cell_type": "markdown",
   "metadata": {},
   "source": [
    "You can also view a diagram to check connections:"
   ]
  },
  {
   "cell_type": "code",
   "execution_count": 2,
   "metadata": {
    "tags": [
     "nbval-ignore-output"
    ]
   },
   "outputs": [
    {
     "data": {
      "text/html": [
       "\n",
       "        <iframe\n",
       "            width=\"100%\"\n",
       "            height=\"225px\"\n",
       "            src=\"data:text/html;charset=utf-8,%3C%21DOCTYPE%20html%3E%3Chtml%3E%3Chead%3E%3Clink%20rel%3D%22stylesheet%22%20href%3D%22https%3A//unpkg.com/tippy.js%406.3.7/themes/translucent.css%22%3E%3Clink%20rel%3D%22stylesheet%22%20href%3D%22https%3A//rawcdn.githack.com/BioSTEAMDevelopmentGroup/biosteam/e065aca079c216d72b75949bbcbb74a3bbddb75d/biosteam/digraph/digraph.css%22%3E%3Cscript%20src%3D%22https%3A//unpkg.com/%40popperjs/core%402%22%3E%3C/script%3E%3Cscript%20src%3D%22https%3A//unpkg.com/tippy.js%406%22%3E%3C/script%3E%3Cscript%20src%3D%22https%3A//rawcdn.githack.com/BioSTEAMDevelopmentGroup/biosteam/e065aca079c216d72b75949bbcbb74a3bbddb75d/biosteam/digraph/digraph.js%22%3E%3C/script%3E%3C/head%3E%3Cbody%3E%3Csvg%20width%3D%22160pt%22%20height%3D%2251pt%22%20viewBox%3D%220.00%200.00%20160.00%2051.00%22%3E%0A%3Cg%20id%3D%22graph0%22%20class%3D%22graph%22%20transform%3D%22scale%281%201%29%20rotate%280%29%20translate%284%2047%29%22%3E%0A%3Cpolygon%20fill%3D%22%23ffffff%22%20fill-opacity%3D%220.666667%22%20stroke%3D%22transparent%22%20points%3D%22-4%2C4%20-4%2C-47%20156%2C-47%20156%2C4%20-4%2C4%22%3E%3C/polygon%3E%0A%0A%3Cg%20id%3D%22edge2%22%20class%3D%22edge%22%20data-tippy-content%3D%22%28empty%29%22%3E%0A%3Cpath%20fill%3D%22none%22%20stroke%3D%22%234e4e4e%22%20stroke-dasharray%3D%225%2C2%22%20d%3D%22M93.02%2C-21.5C106.97%2C-21.5%20125.85%2C-21.5%20142.5%2C-21.5%22%3E%3C/path%3E%0A%3Cg%20id%3D%22a_edge2-label%22%3E%3Ca%20title%3D%22%28empty%29%22%3E%0A%3Ctext%20text-anchor%3D%22middle%22%20x%3D%22117%22%20y%3D%22-25.3%22%20font-family%3D%22Arial%22%20font-size%3D%2214.00%22%20fill%3D%22%234e4e4e%22%3E%20out0%3C/text%3E%0A%3C/a%3E%0A%3C/g%3E%0A%3C/g%3E%0A%0A%3Cg%20id%3D%22edge1%22%20class%3D%22edge%22%20data-tippy-content%3D%22%28empty%29%22%3E%0A%3Cpath%20fill%3D%22none%22%20stroke%3D%22%234e4e4e%22%20stroke-dasharray%3D%225%2C2%22%20d%3D%22M11%2C-21.5C23.91%2C-21.5%2038.4%2C-21.5%2049.85%2C-21.5%22%3E%3C/path%3E%0A%3Cg%20id%3D%22a_edge1-label%22%3E%3Ca%20title%3D%22%28empty%29%22%3E%0A%3Ctext%20text-anchor%3D%22middle%22%20x%3D%2230.5%22%20y%3D%22-25.3%22%20font-family%3D%22Arial%22%20font-size%3D%2214.00%22%20fill%3D%22%234e4e4e%22%3E%20in0%3C/text%3E%0A%3C/a%3E%0A%3C/g%3E%0A%3C/g%3E%0A%0A%3Cg%20id%3D%22node1%22%20class%3D%22node%22%20data-tippy-content%3D%22No%20capital%20costs%20or%20utilities%22%3E%0A%3Cg%20id%3D%22a_node1%22%3E%3Ca%20title%3D%22%20No%20capital%20costs%20or%20utilities%22%3E%0A%3Cdefs%3E%0A%3ClinearGradient%20id%3D%22l_0%22%20gradientUnits%3D%22userSpaceOnUse%22%20x1%3D%2250%22%20y1%3D%22-21.5%22%20x2%3D%2293%22%20y2%3D%22-21.5%22%3E%0A%3Cstop%20offset%3D%220%22%20style%3D%22stop-color%3Awhite%3Bstop-opacity%3A1.%3B%22%3E%3C/stop%3E%0A%3Cstop%20offset%3D%221%22%20style%3D%22stop-color%3A%23cdcdcd%3Bstop-opacity%3A1.%3B%22%3E%3C/stop%3E%0A%3C/linearGradient%3E%0A%3C/defs%3E%0A%3Cpolygon%20fill%3D%22url%28%23l_0%29%22%20stroke%3D%22%234e4e4e%22%20points%3D%2293%2C-43%2050%2C-43%2050%2C0%2093%2C0%2093%2C-43%22%3E%3C/polygon%3E%0A%3Ctext%20text-anchor%3D%22middle%22%20x%3D%2271.5%22%20y%3D%22-25.3%22%20font-family%3D%22Arial%22%20font-size%3D%2214.00%22%3EU1%3C/text%3E%0A%3Ctext%20text-anchor%3D%22middle%22%20x%3D%2271.5%22%20y%3D%22-10.3%22%20font-family%3D%22Arial%22%20font-size%3D%2214.00%22%3EUnit%3C/text%3E%0A%3C/a%3E%0A%3C/g%3E%0A%3C/g%3E%0A%0A%3Cg%20id%3D%22node2%22%20class%3D%22node%22%20data-tippy-content%3D%22131386263104%22%3E%0A%3Cpolygon%20fill%3D%22%23f98f60%22%20stroke%3D%22%234e4e4e%22%20points%3D%225.5%2C-27%200%2C-21.5%205.5%2C-16%2011%2C-21.5%205.5%2C-27%22%3E%3C/polygon%3E%0A%3C/g%3E%0A%0A%3Cg%20id%3D%22node3%22%20class%3D%22node%22%20data-tippy-content%3D%22131386263027%22%3E%0A%3Cpolygon%20fill%3D%22%23f98f60%22%20stroke%3D%22%234e4e4e%22%20points%3D%22152%2C-21.5%20143.75%2C-28.5%20143.75%2C-14.5%20152%2C-21.5%22%3E%3C/polygon%3E%0A%3C/g%3E%0A%3C/g%3E%0A%3C/svg%3E%3C/body%3E%3C/html%3E\"\n",
       "            frameborder=\"0\"\n",
       "            allowfullscreen\n",
       "            allowtransparency=\"true\"\n",
       "        ></iframe>\n",
       "        "
      ],
      "text/plain": [
       "<IPython.lib.display.IFrame at 0x1e972ed0990>"
      ]
     },
     "metadata": {},
     "output_type": "display_data"
    }
   ],
   "source": [
    "U1.diagram()"
   ]
  },
  {
   "cell_type": "markdown",
   "metadata": {},
   "source": [
    "IDs for Stream objects can also be used instead:"
   ]
  },
  {
   "cell_type": "code",
   "execution_count": 3,
   "metadata": {},
   "outputs": [
    {
     "name": "stdout",
     "output_type": "stream",
     "text": [
      "Unit: U2\n",
      "ins...\n",
      "[0] s1  \n",
      "outs...\n",
      "[0] s2  \n"
     ]
    }
   ],
   "source": [
    "U2 = Unit('U2', ins='', outs=['']) # Empty strings default unused IDs\n",
    "U2.show(data=False)"
   ]
  },
  {
   "cell_type": "markdown",
   "metadata": {},
   "source": [
    "## Parameter defaults"
   ]
  },
  {
   "cell_type": "markdown",
   "metadata": {},
   "source": [
    "By default, a unique `ID` is chosen, missing streams are given to `ins`, and empty streams to `outs`:"
   ]
  },
  {
   "cell_type": "code",
   "execution_count": 4,
   "metadata": {},
   "outputs": [
    {
     "name": "stdout",
     "output_type": "stream",
     "text": [
      "Unit: U3\n",
      "ins...\n",
      "[0] missing stream  \n",
      "outs...\n",
      "[0] s3  \n"
     ]
    }
   ],
   "source": [
    "unit = Unit()\n",
    "unit.show(data=False)"
   ]
  },
  {
   "cell_type": "markdown",
   "metadata": {},
   "source": [
    "For either `ins` or `outs`, if None is given, missing streams are initialized. If an empty iterable is given, empty streams are initialized:"
   ]
  },
  {
   "cell_type": "code",
   "execution_count": 5,
   "metadata": {},
   "outputs": [
    {
     "name": "stdout",
     "output_type": "stream",
     "text": [
      "Unit: U4\n",
      "ins...\n",
      "[0] missing stream  \n",
      "outs...\n",
      "[0] missing stream  \n"
     ]
    }
   ],
   "source": [
    "U4 = Unit('U4', ins=None, outs=None)\n",
    "U4.show(data=False)"
   ]
  },
  {
   "cell_type": "code",
   "execution_count": 6,
   "metadata": {},
   "outputs": [
    {
     "name": "stdout",
     "output_type": "stream",
     "text": [
      "Unit: U5\n",
      "ins...\n",
      "[0] s4  \n",
      "outs...\n",
      "[0] s5  \n"
     ]
    }
   ],
   "source": [
    "U5 = Unit('U5', ins=(), outs=())\n",
    "U5.show(data=False)"
   ]
  },
  {
   "cell_type": "markdown",
   "metadata": {},
   "source": [
    "The number of default streams is different for each Unit subclass: "
   ]
  },
  {
   "cell_type": "code",
   "execution_count": 7,
   "metadata": {},
   "outputs": [
    {
     "name": "stdout",
     "output_type": "stream",
     "text": [
      "Mixer: M1\n",
      "ins...\n",
      "[0] missing stream  \n",
      "[1] missing stream  \n",
      "outs...\n",
      "[0] s6  \n"
     ]
    }
   ],
   "source": [
    "from biosteam import Mixer, Splitter\n",
    "Mixer().show(data=False)"
   ]
  },
  {
   "cell_type": "code",
   "execution_count": 8,
   "metadata": {},
   "outputs": [
    {
     "name": "stdout",
     "output_type": "stream",
     "text": [
      "Splitter: S1\n",
      "ins...\n",
      "[0] missing stream  \n",
      "outs...\n",
      "[0] s7  \n",
      "[1] s8  \n"
     ]
    }
   ],
   "source": [
    "Splitter(split=0.5).show(data=False)"
   ]
  },
  {
   "cell_type": "markdown",
   "metadata": {},
   "source": [
    "Notice how the starting letter for default IDs vary between unit operations. This is because default names follow the \"area naming convention\" as explained in the following section."
   ]
  },
  {
   "cell_type": "markdown",
   "metadata": {},
   "source": [
    "## Area naming convention"
   ]
  },
  {
   "cell_type": "markdown",
   "metadata": {},
   "source": [
    "Default IDs for unit operations follow the area naming convention based on {letter}{area + number} where the letter depends on the unit operation as follows:\n",
    "\n",
    "* C: Centrifuge\n",
    "* D: Distillation column\n",
    "* E: Evaporator\n",
    "* F: Flash tank\n",
    "* H: Heat exchange\n",
    "* M: Mixer\n",
    "* P: Pump (including conveying belt)\n",
    "* R: Reactor\n",
    "* S: Splitter (including solid/liquid separator)\n",
    "* T: Tank or bin for storage\n",
    "* U: Other units\n",
    "* J: Junction, not a physical unit (serves to adjust streams)\n",
    "* PS: Process specificiation, not a physical unit (serves to adjust streams)"
   ]
  },
  {
   "cell_type": "markdown",
   "metadata": {},
   "source": [
    "Continue creating unit operations following the area naming convention: "
   ]
  },
  {
   "cell_type": "code",
   "execution_count": 9,
   "metadata": {},
   "outputs": [
    {
     "name": "stdout",
     "output_type": "stream",
     "text": [
      "Mixer: M2\n",
      "ins...\n",
      "[0] missing stream  \n",
      "[1] missing stream  \n",
      "outs...\n",
      "[0] s9  \n"
     ]
    }
   ],
   "source": [
    "Mixer().show(data=False)"
   ]
  },
  {
   "cell_type": "code",
   "execution_count": 10,
   "metadata": {},
   "outputs": [
    {
     "name": "stdout",
     "output_type": "stream",
     "text": [
      "Splitter: S2\n",
      "ins...\n",
      "[0] missing stream  \n",
      "outs...\n",
      "[0] s10  \n",
      "[1] s11  \n"
     ]
    }
   ],
   "source": [
    "Splitter(split=0.5).show(data=False)"
   ]
  },
  {
   "cell_type": "code",
   "execution_count": 11,
   "metadata": {},
   "outputs": [
    {
     "name": "stdout",
     "output_type": "stream",
     "text": [
      "Splitter: S3\n",
      "ins...\n",
      "[0] missing stream  \n",
      "outs...\n",
      "[0] s12  \n",
      "[1] s13  \n"
     ]
    }
   ],
   "source": [
    "Splitter(split=0.5).show(data=False)"
   ]
  },
  {
   "cell_type": "markdown",
   "metadata": {},
   "source": [
    "Notice how there were no name conflicts for default IDs. "
   ]
  },
  {
   "cell_type": "markdown",
   "metadata": {},
   "source": [
    "Create a mixer following the area naming convention, this time starting from nunber 101: "
   ]
  },
  {
   "cell_type": "code",
   "execution_count": 12,
   "metadata": {},
   "outputs": [
    {
     "name": "stdout",
     "output_type": "stream",
     "text": [
      "Mixer: M101\n",
      "ins...\n",
      "[0] missing stream  \n",
      "[1] missing stream  \n",
      "outs...\n",
      "[0] s14  \n"
     ]
    }
   ],
   "source": [
    "Mixer(100).show(data=False)"
   ]
  }
 ],
 "metadata": {
  "celltoolbar": "Tags",
  "kernelspec": {
   "display_name": "Python 3 (ipykernel)",
   "language": "python",
   "name": "python3"
  },
  "language_info": {
   "codemirror_mode": {
    "name": "ipython",
    "version": 3
   },
   "file_extension": ".py",
   "mimetype": "text/x-python",
   "name": "python",
   "nbconvert_exporter": "python",
   "pygments_lexer": "ipython3",
   "version": "3.11.4"
  }
 },
 "nbformat": 4,
 "nbformat_minor": 2
}
