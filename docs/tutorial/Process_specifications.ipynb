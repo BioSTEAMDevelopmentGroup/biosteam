{
 "cells": [
  {
   "cell_type": "markdown",
   "metadata": {},
   "source": [
    "# Process specifications"
   ]
  },
  {
   "cell_type": "markdown",
   "metadata": {},
   "source": [
    "Dynamically adjusting parameters in a process to meet a specification is critical in designing a production process, and even more so when its under uncertaintly. BioSTEAM groups process specifications into two categories: analytical specifications, and numerical specifications. As the name suggests, an analytical specification is directly solved within a single loop of a system. A numerical specification, on the other hand, is solved numerically by rerunning a unit operation or even by reconverging a recycle system. The following real world examples will explain this in detail."
   ]
  },
  {
   "cell_type": "markdown",
   "metadata": {},
   "source": [
    "## Analytical specifications"
   ]
  },
  {
   "cell_type": "markdown",
   "metadata": {},
   "source": [
    "### Denature ethanol fuel in a bioethanol process"
   ]
  },
  {
   "cell_type": "markdown",
   "metadata": {},
   "source": [
    "Vary the amount of denaturant to add according to the flow of bioethanol. The final bioethanol product must be 2 wt. % denaturant:"
   ]
  },
  {
   "cell_type": "code",
   "execution_count": 1,
   "metadata": {},
   "outputs": [
    {
     "name": "stdout",
     "output_type": "stream",
     "text": [
      "Mixer: M1\n",
      "ins...\n",
      "[0] dehydrated_ethanol\n",
      "    phase: 'l', T: 340 K, P: 101325 Pa\n",
      "    composition (%): Water    0.1\n",
      "                     Ethanol  99.9\n",
      "                     -------  9.06e+07 kg/hr\n",
      "[1] denaturant\n",
      "    phase: 'l', T: 298.15 K, P: 101325 Pa\n",
      "    composition (%): Octane  100\n",
      "                     ------  1.85e+06 kg/hr\n",
      "outs...\n",
      "[0] denatured_ethanol\n",
      "    phase: 'l', T: 339.31 K, P: 101325 Pa\n",
      "    composition (%): Water    0.098\n",
      "                     Ethanol  97.9\n",
      "                     Octane   2\n",
      "                     -------  9.25e+07 kg/hr\n"
     ]
    }
   ],
   "source": [
    "from biosteam import settings, Chemical, Stream, units, main_flowsheet\n",
    "import biosteam as bst; bst.nbtutorial()\n",
    "# First name a new flowsheet\n",
    "main_flowsheet.set_flowsheet('mix_ethanol_with_denaturant')\n",
    "\n",
    "# Set the thermodynamic property package.\n",
    "# In an actual process, much more chemicals\n",
    "# would be defined, but here we keep it short.\n",
    "settings.set_thermo(['Water', 'Ethanol', 'Octane'])\n",
    "\n",
    "# Assume 40 million gal ethanol produced a year\n",
    "# with 330 operating days\n",
    "dehydrated_ethanol = Stream('dehydrated_ethanol', T=340,\n",
    "                            Water=0.1, Ethanol=99.9, units='kg/hr')\n",
    "operating_days_per_year = 330\n",
    "dehydrated_ethanol.F_vol = 40e6 / operating_days_per_year\n",
    "denaturant = Stream('denaturant', Octane=1)\n",
    "M1 = units.Mixer('M1', ins=(dehydrated_ethanol, denaturant), outs='denatured_ethanol')\n",
    "\n",
    "# Create the specification function.\n",
    "@M1.add_specification(run=True) # Run mass and energy balance after specification function\n",
    "def adjust_denaturant_flow():\n",
    "    denaturant_over_ethanol_flow = 0.02 / 0.98 # A mass ratio\n",
    "    denaturant.imass['Octane'] = denaturant_over_ethanol_flow * dehydrated_ethanol.F_mass\n",
    "    \n",
    "# Simulate, and check results. \n",
    "M1.simulate()\n",
    "M1.show(composition=True, flow='kg/hr')"
   ]
  },
  {
   "cell_type": "markdown",
   "metadata": {},
   "source": [
    "All specifications are in the unit's specification list:"
   ]
  },
  {
   "cell_type": "code",
   "execution_count": 2,
   "metadata": {
    "tags": [
     "nbval-ignore-output"
    ]
   },
   "outputs": [
    {
     "data": {
      "text/plain": [
       "[ProcessSpecification(f=adjust_denaturant_flow(), args=(), impacted_units=())]"
      ]
     },
     "execution_count": 2,
     "metadata": {},
     "output_type": "execute_result"
    }
   ],
   "source": [
    "M1.specifications"
   ]
  },
  {
   "cell_type": "markdown",
   "metadata": {},
   "source": [
    "We'll talk more about the `args` and `impacted_units` parameters in the next section on corn slurry. "
   ]
  },
  {
   "cell_type": "markdown",
   "metadata": {},
   "source": [
    "### Preparing corn slurry in a conventional dry-grind process"
   ]
  },
  {
   "cell_type": "markdown",
   "metadata": {},
   "source": [
    "The solids content of a corn slurry fed to a conventional dry-grind corn ethanol plant is typically about 32 wt. %. Adjust the flow rate of water mixed with the milled corn such that the slurry is 32 wt. % solids:"
   ]
  },
  {
   "cell_type": "code",
   "execution_count": 3,
   "metadata": {},
   "outputs": [
    {
     "name": "stdout",
     "output_type": "stream",
     "text": [
      "Mixer: M1\n",
      "ins...\n",
      "[0] dilution_water\n",
      "    phase: 'l', T: 298.15 K, P: 101325 Pa\n",
      "    composition (%): Water  100\n",
      "                     -----  4.33e+07 kg/hr\n",
      "[1] s1  from  StorageTank-T1\n",
      "    phase: 'l', T: 298.15 K, P: 101325 Pa\n",
      "    composition (%): Starch  62.2\n",
      "                     Oil     3.72\n",
      "                     Fiber   19.1\n",
      "                     Water   15\n",
      "                     ------  2.4e+07 kg/hr\n",
      "outs...\n",
      "[0] slurry\n",
      "    phase: 'l', T: 298.15 K, P: 101325 Pa\n",
      "    composition (%): Starch  22.2\n",
      "                     Oil     1.32\n",
      "                     Fiber   6.79\n",
      "                     Water   69.7\n",
      "                     ------  6.73e+07 kg/hr\n"
     ]
    }
   ],
   "source": [
    "# First name a new flowsheet\n",
    "main_flowsheet.set_flowsheet('corn_slurry_example')\n",
    "\n",
    "# Create a general chemicals to represent the \n",
    "# components of corn.\n",
    "Starch = Chemical.blank('Starch', phase='s')\n",
    "Fiber = Chemical.blank('Fiber', phase='s')\n",
    "Oil = Chemical('Oil', search_ID='Oleic_acid')\n",
    "Water = Chemical('Water')\n",
    "\n",
    "# The exact properties are not important for \n",
    "# the example, so just assume its like water at\n",
    "# 25 C and 1 atm.\n",
    "Starch.default()\n",
    "Fiber.default()\n",
    "\n",
    "# Set the thermodynamic property package.\n",
    "# In an actual process, much more chemicals\n",
    "# would be defined, but here we keep it short.\n",
    "settings.set_thermo([Starch, Oil, Fiber, Water])\n",
    "\n",
    "# A typical dry grind process may produce\n",
    "# 40 million gal of ethanol a year with a\n",
    "# yield of 2.7 gal ethanol per bushel of corn.\n",
    "corn_flow_per_year = 40e6 / 2.7 # In bushels\n",
    "days_per_year = 365\n",
    "operating_days_per_year = 330\n",
    "corn_flow_per_day = corn_flow_per_year * days_per_year / operating_days_per_year\n",
    "\n",
    "# The corn kernel iscomposed of starch (62%), protein and fiber (19%),\n",
    "# water (15%), and oil (4%).\n",
    "corn_feed = Stream('corn_feed',\n",
    "    Starch=62, Fiber=19, Water=15, Oil=4,\n",
    "    total_flow=corn_flow_per_day,\n",
    "    units='bu/day', # bushel per day\n",
    ")\n",
    "T1 = bst.StorageTank('T1', corn_feed) \n",
    "\n",
    "# Water that will be mixed with the milled corn to create the slurry.\n",
    "dilution_water = Stream('dilution_water', Water=1)\n",
    "M1 = units.Mixer('M1', ins=(dilution_water, T1-0), outs='slurry')\n",
    "\n",
    "@M1.add_specification(\n",
    "    run=True, # Run mass and energy balance after specification function\n",
    "    args=[0.32], # Arguments to pass to `adjust_water_flow`\n",
    ") \n",
    "def adjust_water_flow(solids_content):\n",
    "    F_mass_moisture = corn_feed.imass['Water']\n",
    "    F_mass_solids = corn_feed.F_mass - F_mass_moisture\n",
    "    water_solids_ratio = (1 - solids_content) / solids_content\n",
    "    dilution_water.imass['Water'] = F_mass_solids * water_solids_ratio\n",
    "    \n",
    "# Simulate, and check results. \n",
    "corn_slurry_sys = main_flowsheet.create_system('corn_slurry_sys')\n",
    "corn_slurry_sys.simulate()\n",
    "M1.show(flow='kg/hr', composition=True)"
   ]
  },
  {
   "cell_type": "markdown",
   "metadata": {},
   "source": [
    "Let's say that the dilution water is first heated before mixing. This would affect upstream unit operations (e.g., the pump and the heat exchanger). We can make sure these unit operations are rerun after the specification function by passing the `impacted_units` argument with any unit operations that are directly impacted by the specification."
   ]
  },
  {
   "cell_type": "code",
   "execution_count": 4,
   "metadata": {
    "tags": [
     "nbval-ignore-output"
    ]
   },
   "outputs": [
    {
     "data": {
      "image/png": "[encoded data removed]",
      "text/plain": [
       "<IPython.core.display.Image object>"
      ]
     },
     "metadata": {},
     "output_type": "display_data"
    }
   ],
   "source": [
    "# Insert units\n",
    "P1 = units.Pump('P1', dilution_water, P=5 * 101325)\n",
    "H1 = units.HXutility('H1', P1-0, T=350)\n",
    "M1.ins[0] = H1-0\n",
    "\n",
    "M1.specifications.clear() # Remove specifications\n",
    "# Create specification with impacted units.\n",
    "M1.add_specification(\n",
    "    adjust_water_flow, # Specification function\n",
    "    args=[0.32], # Arguments passed to function.\n",
    "    run=True, # Run mass and energy balance after specification function.\n",
    "    impacted_units=[P1], # Dilution water is connected to P1.\n",
    "    # BioSTEAM also takes into account units between the given impacted units\n",
    "    # (P1) and the specification unit (M1). \n",
    ")\n",
    "\n",
    "# Alternatively, you can add the impacted units to the original specification\n",
    "# M1.specifications[0].impacted_units = [P1]\n",
    "\n",
    "corn_slurry_sys = main_flowsheet.create_system('corn_slurry_sys')\n",
    "dilution_water.empty() # Reset dilution water to very simulation\n",
    "corn_slurry_sys.simulate()\n",
    "corn_slurry_sys.diagram(format='png', number=True)"
   ]
  },
  {
   "cell_type": "code",
   "execution_count": 5,
   "metadata": {},
   "outputs": [
    {
     "name": "stdout",
     "output_type": "stream",
     "text": [
      "System: corn_slurry_sys\n",
      "ins...\n",
      "[0] dilution_water\n",
      "    phase: 'l', T: 298.15 K, P: 101325 Pa\n",
      "    flow (kmol/hr): Water  2.4e+06\n",
      "[1] corn_feed\n",
      "    phase: 'l', T: 298.15 K, P: 101325 Pa\n",
      "    flow (kmol/hr): Starch  1.49e+07\n",
      "                    Oil     3.15e+03\n",
      "                    Fiber   4.57e+06\n",
      "                    Water   2e+05\n",
      "outs...\n",
      "[0] slurry\n",
      "    phase: 'l', T: 331.77 K, P: 101325 Pa\n",
      "    flow (kmol/hr): Starch  1.49e+07\n",
      "                    Oil     3.15e+03\n",
      "                    Fiber   4.57e+06\n",
      "                    Water   2.6e+06\n"
     ]
    }
   ],
   "source": [
    "corn_slurry_sys.show()"
   ]
  },
  {
   "cell_type": "markdown",
   "metadata": {},
   "source": [
    "Let's say we create the specification at the corn storage (T1) instead of at the slurry mixer (M1). Because P1 and H1 are run first than T1 (as shown in the diagram above) and are in parallel (not upstream), you may expect an issue in the simulation order. However, by specifying `impacted_units`, BioSTEAM knows how to prioritize the simulation order."
   ]
  },
  {
   "cell_type": "code",
   "execution_count": 6,
   "metadata": {
    "tags": [
     "nbval-ignore-output"
    ]
   },
   "outputs": [
    {
     "data": {
      "image/png": "[encoded data removed]",
      "text/plain": [
       "<IPython.core.display.Image object>"
      ]
     },
     "metadata": {},
     "output_type": "display_data"
    }
   ],
   "source": [
    "M1.specifications.clear() # Remove specifications\n",
    "# Create specification with impacted units.\n",
    "T1.add_specification(\n",
    "    adjust_water_flow, # Specification function\n",
    "    args=[0.32], # Arguments passed to function.\n",
    "    run=True, # Run mass and energy balance after specification function.\n",
    "    impacted_units=[P1], # Dilution water is connected to P1.\n",
    ")\n",
    "\n",
    "corn_slurry_sys = main_flowsheet.create_system('corn_slurry_sys')\n",
    "corn_slurry_sys.simulate()\n",
    "corn_slurry_sys.diagram(format='png', number=True)"
   ]
  },
  {
   "cell_type": "code",
   "execution_count": 7,
   "metadata": {},
   "outputs": [
    {
     "name": "stdout",
     "output_type": "stream",
     "text": [
      "System: corn_slurry_sys\n",
      "ins...\n",
      "[0] dilution_water\n",
      "    phase: 'l', T: 298.15 K, P: 101325 Pa\n",
      "    flow (kmol/hr): Water  2.4e+06\n",
      "[1] corn_feed\n",
      "    phase: 'l', T: 298.15 K, P: 101325 Pa\n",
      "    flow (kmol/hr): Starch  1.49e+07\n",
      "                    Oil     3.15e+03\n",
      "                    Fiber   4.57e+06\n",
      "                    Water   2e+05\n",
      "outs...\n",
      "[0] slurry\n",
      "    phase: 'l', T: 331.77 K, P: 101325 Pa\n",
      "    flow (kmol/hr): Starch  1.49e+07\n",
      "                    Oil     3.15e+03\n",
      "                    Fiber   4.57e+06\n",
      "                    Water   2.6e+06\n"
     ]
    }
   ],
   "source": [
    "corn_slurry_sys.show()"
   ]
  },
  {
   "cell_type": "markdown",
   "metadata": {},
   "source": [
    "## Numerical specifications"
   ]
  },
  {
   "cell_type": "markdown",
   "metadata": {},
   "source": [
    "### Flash design specification"
   ]
  },
  {
   "cell_type": "markdown",
   "metadata": {},
   "source": [
    "Let's say we have a mixture of water, ethanol and propanol and we would like to evaporate 50% of the liquid by mass (not by mol). We can solve this problem numerically by testing whether the specification is met at a given temperature:"
   ]
  },
  {
   "cell_type": "code",
   "execution_count": 8,
   "metadata": {
    "tags": [
     "nbval-ignore-output"
    ]
   },
   "outputs": [
    {
     "data": {
      "text/html": [
       "\n",
       "        <iframe\n",
       "            width=\"100%\"\n",
       "            height=\"225px\"\n",
       "            src=\"data:text/html;charset=utf-8,%3C%21DOCTYPE%20html%3E%3Chtml%3E%3Chead%3E%3Clink%20rel%3D%22stylesheet%22%20href%3D%22https%3A//unpkg.com/tippy.js%406.3.7/themes/translucent.css%22%3E%3Clink%20rel%3D%22stylesheet%22%20href%3D%22https%3A//rawcdn.githack.com/BioSTEAMDevelopmentGroup/biosteam/e065aca079c216d72b75949bbcbb74a3bbddb75d/biosteam/digraph/digraph.css%22%3E%3Cscript%20src%3D%22https%3A//unpkg.com/%40popperjs/core%402%22%3E%3C/script%3E%3Cscript%20src%3D%22https%3A//unpkg.com/tippy.js%406%22%3E%3C/script%3E%3Cscript%20src%3D%22https%3A//rawcdn.githack.com/BioSTEAMDevelopmentGroup/biosteam/e065aca079c216d72b75949bbcbb74a3bbddb75d/biosteam/digraph/digraph.js%22%3E%3C/script%3E%3C/head%3E%3Cbody%3E%3Csvg%20width%3D%22203pt%22%20height%3D%22132pt%22%20viewBox%3D%220.00%200.00%20203.00%20132.31%22%3E%0A%3Cg%20id%3D%22graph0%22%20class%3D%22graph%22%20transform%3D%22scale%281%201%29%20rotate%280%29%20translate%284%20128.31%29%22%3E%0A%3Cpolygon%20fill%3D%22%23ffffff%22%20fill-opacity%3D%220.666667%22%20stroke%3D%22transparent%22%20points%3D%22-4%2C4%20-4%2C-128.31%20199%2C-128.31%20199%2C4%20-4%2C4%22%3E%3C/polygon%3E%0A%0A%3Cg%20id%3D%22edge2%22%20class%3D%22edge%22%20data-tippy-content%3D%22Temperature%3A%20358%20K%3Cbr%26gt%3BPressure%3A%20101325%20Pa%3Cbr%26gt%3BGas%20flow%3A%2042.8%20kmol/hr%22%3E%0A%3Cpath%20fill%3D%22none%22%20stroke%3D%22%234e4e4e%22%20d%3D%22M102.5%2C-98.31C102.5%2C-135.21%20148.61%2C-97.31%20185.5%2C-97.31%22%3E%3C/path%3E%0A%3Cg%20id%3D%22a_edge2-label%22%3E%3Ca%20title%3D%22%20Temperature%3A%20358%20K%3Cbr%26gt%3BPressure%3A%20101325%20Pa%3Cbr%26gt%3BGas%20flow%3A%2042.8%20kmol/hr%22%3E%0A%3Ctext%20text-anchor%3D%22middle%22%20x%3D%22156%22%20y%3D%22-113.11%22%20font-family%3D%22Arial%22%20font-size%3D%2214.00%22%20fill%3D%22%234e4e4e%22%3E%20vapor%3C/text%3E%0A%3C/a%3E%0A%3C/g%3E%0A%3C/g%3E%0A%0A%3Cg%20id%3D%22edge3%22%20class%3D%22edge%22%20data-tippy-content%3D%22Temperature%3A%20358%20K%3Cbr%26gt%3BPressure%3A%20101325%20Pa%3Cbr%26gt%3BLiquid%20flow%3A%2051%20kmol/hr%22%3E%0A%3Cpath%20fill%3D%22none%22%20stroke%3D%22%234e4e4e%22%20stroke-width%3D%221.6%22%20d%3D%22M102.5%2C-16.31C102.5%2C20.58%20148.61%2C-17.31%20185.5%2C-17.31%22%3E%3C/path%3E%0A%3Cg%20id%3D%22a_edge3-label%22%3E%3Ca%20title%3D%22%20Temperature%3A%20358%20K%3Cbr%26gt%3BPressure%3A%20101325%20Pa%3Cbr%26gt%3BLiquid%20flow%3A%2051%20kmol/hr%22%3E%0A%3Ctext%20text-anchor%3D%22middle%22%20x%3D%22156%22%20y%3D%22-20.11%22%20font-family%3D%22Arial%22%20font-size%3D%2214.00%22%20fill%3D%22%234e4e4e%22%3E%20liquid%3C/text%3E%0A%3C/a%3E%0A%3C/g%3E%0A%3C/g%3E%0A%0A%3Cg%20id%3D%22edge1%22%20class%3D%22edge%22%20data-tippy-content%3D%22Temperature%3A%20340%20K%3Cbr%26gt%3BPressure%3A%20101325%20Pa%3Cbr%26gt%3BLiquid%20flow%3A%2093.9%20kmol/hr%22%3E%0A%3Cpath%20fill%3D%22none%22%20stroke%3D%22%234e4e4e%22%20stroke-width%3D%222.2%22%20d%3D%22M11%2C-57.31C33.31%2C-57.31%2058.72%2C-57.31%2076.92%2C-57.31%22%3E%3C/path%3E%0A%3Cg%20id%3D%22a_edge1-label%22%3E%3Ca%20title%3D%22%20Temperature%3A%20340%20K%3Cbr%26gt%3BPressure%3A%20101325%20Pa%3Cbr%26gt%3BLiquid%20flow%3A%2093.9%20kmol/hr%22%3E%0A%3Ctext%20text-anchor%3D%22middle%22%20x%3D%2244%22%20y%3D%22-61.11%22%20font-family%3D%22Arial%22%20font-size%3D%2214.00%22%20fill%3D%22%234e4e4e%22%3E%20mixture%3C/text%3E%0A%3C/a%3E%0A%3C/g%3E%0A%3C/g%3E%0A%0A%3Cg%20id%3D%22node1%22%20class%3D%22node%22%20data-tippy-content%3D%22Heating%20duty%3A%202.03e%2B03%20MJ/hr%3Cbr%26gt%3BUtility%20cost%3A%2012.5%20USD/hr%3Cbr%26gt%3BPurchase%20cost%3A%2023%2C608%20USD%3Cbr%26gt%3BInstalled%20equipment%20cost%3A%2069%2C902%20USD%22%3E%0A%3Cg%20id%3D%22a_node1%22%3E%3Ca%20title%3D%22%20Heating%20duty%3A%202.03e%2B03%20MJ/hr%3Cbr%26gt%3BUtility%20cost%3A%2012.5%20USD/hr%3Cbr%26gt%3BPurchase%20cost%3A%2023%2C608%20USD%3Cbr%26gt%3BInstalled%20equipment%20cost%3A%2069%2C902%20USD%22%3E%0A%3Cdefs%3E%0A%3ClinearGradient%20id%3D%22l_0%22%20gradientUnits%3D%22userSpaceOnUse%22%20x1%3D%2277%22%20y1%3D%22-57.31%22%20x2%3D%22128%22%20y2%3D%22-57.31%22%3E%0A%3Cstop%20offset%3D%220%22%20style%3D%22stop-color%3Awhite%3Bstop-opacity%3A1.%3B%22%3E%3C/stop%3E%0A%3Cstop%20offset%3D%221%22%20style%3D%22stop-color%3A%23cdcdcd%3Bstop-opacity%3A1.%3B%22%3E%3C/stop%3E%0A%3C/linearGradient%3E%0A%3C/defs%3E%0A%3Cpolygon%20fill%3D%22url%28%23l_0%29%22%20stroke%3D%22%234e4e4e%22%20points%3D%22128%2C-96.81%2077%2C-96.81%2077%2C-17.81%20128%2C-17.81%20128%2C-96.81%22%3E%3C/polygon%3E%0A%3Ctext%20text-anchor%3D%22middle%22%20x%3D%22102.5%22%20y%3D%22-61.11%22%20font-family%3D%22Arial%22%20font-size%3D%2214.00%22%3EF1%3C/text%3E%0A%3Ctext%20text-anchor%3D%22middle%22%20x%3D%22102.5%22%20y%3D%22-46.11%22%20font-family%3D%22Arial%22%20font-size%3D%2214.00%22%3EFlash%3C/text%3E%0A%3C/a%3E%0A%3C/g%3E%0A%3C/g%3E%0A%0A%3Cg%20id%3D%22node2%22%20class%3D%22node%22%20data-tippy-content%3D%22mixture%22%3E%0A%3Cpolygon%20fill%3D%22%23f98f60%22%20stroke%3D%22%234e4e4e%22%20points%3D%225.5%2C-62.81%200%2C-57.31%205.5%2C-51.81%2011%2C-57.31%205.5%2C-62.81%22%3E%3C/polygon%3E%0A%3C/g%3E%0A%0A%3Cg%20id%3D%22node3%22%20class%3D%22node%22%20data-tippy-content%3D%22vapor%22%3E%0A%3Cpolygon%20fill%3D%22%23f98f60%22%20stroke%3D%22%234e4e4e%22%20points%3D%22195%2C-97.31%20186.75%2C-104.31%20186.75%2C-90.31%20195%2C-97.31%22%3E%3C/polygon%3E%0A%3C/g%3E%0A%0A%3Cg%20id%3D%22node4%22%20class%3D%22node%22%20data-tippy-content%3D%22liquid%22%3E%0A%3Cpolygon%20fill%3D%22%23f98f60%22%20stroke%3D%22%234e4e4e%22%20points%3D%22195%2C-17.31%20186.75%2C-24.31%20186.75%2C-10.31%20195%2C-17.31%22%3E%3C/polygon%3E%0A%3C/g%3E%0A%3C/g%3E%0A%3C/svg%3E%3C/body%3E%3C/html%3E\"\n",
       "            frameborder=\"0\"\n",
       "            allowfullscreen\n",
       "            allowtransparency=\"true\"\n",
       "        ></iframe>\n",
       "        "
      ],
      "text/plain": [
       "<IPython.lib.display.IFrame at 0x2781ffaaf70>"
      ]
     },
     "metadata": {},
     "output_type": "display_data"
    }
   ],
   "source": [
    "# First name a new flowsheet\n",
    "main_flowsheet.set_flowsheet('flash_specification_example')\n",
    "\n",
    "# Set the thermodynamic property package.\n",
    "# In an actual process, much more chemicals\n",
    "# would be defined, but here we keep it short.\n",
    "settings.set_thermo(['Water', 'Ethanol', 'Propanol'])\n",
    "\n",
    "# Feed stream\n",
    "mixture = Stream('mixture', T=340,\n",
    "                 Water=1000, Ethanol=1000, Propanol=1000,\n",
    "                 units='kg/hr')\n",
    "\n",
    "# Create a flash vessel\n",
    "F1 = units.Flash('F1',\n",
    "                 ins=mixture,\n",
    "                 outs=('vapor', 'liquid'),\n",
    "                 T=373, P=101325)\n",
    "\n",
    "# Set a numerical specification which solves the objective function when called.\n",
    "@F1.add_bounded_numerical_specification(x0=351.4, x1=373, xtol=1e-9, ytol=1e-3)\n",
    "def f(x):\n",
    "    # Objective function where f(x) = 0 at a \n",
    "    # vapor fraction of 50 wt. %.\n",
    "    F1.T = x\n",
    "    F1.run() # IMPORTANT: This runs the mass and energy balance at the new conditions\n",
    "    feed = F1.ins[0]\n",
    "    vapor = F1.outs[0]\n",
    "    V = vapor.F_mass / feed.F_mass \n",
    "    return V - 0.5\n",
    "\n",
    "# Now create the system, simulate, and check results. \n",
    "system = main_flowsheet.create_system()\n",
    "system.simulate()\n",
    "system.diagram()"
   ]
  },
  {
   "cell_type": "code",
   "execution_count": 9,
   "metadata": {
    "tags": [
     "nbval-ignore-output"
    ]
   },
   "outputs": [
    {
     "name": "stdout",
     "output_type": "stream",
     "text": [
      "vapor mass fraction:  50%\n"
     ]
    }
   ],
   "source": [
    "print('vapor mass fraction: ', format(F1.outs[0].F_mass / mixture.F_mass, '.0%'))"
   ]
  }
 ],
 "metadata": {
  "celltoolbar": "Tags",
  "kernelspec": {
   "display_name": "Python 3 (ipykernel)",
   "language": "python",
   "name": "python3"
  },
  "language_info": {
   "codemirror_mode": {
    "name": "ipython",
    "version": 3
   },
   "file_extension": ".py",
   "mimetype": "text/x-python",
   "name": "python",
   "nbconvert_exporter": "python",
   "pygments_lexer": "ipython3",
   "version": "3.9.16"
  }
 },
 "nbformat": 4,
 "nbformat_minor": 2
}
