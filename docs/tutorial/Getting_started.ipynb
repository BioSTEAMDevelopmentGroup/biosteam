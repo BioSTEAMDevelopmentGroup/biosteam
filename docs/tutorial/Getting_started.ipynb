{
 "cells": [
  {
   "cell_type": "markdown",
   "metadata": {},
   "source": [
    "# Getting started"
   ]
  },
  {
   "cell_type": "markdown",
   "metadata": {},
   "source": [
    "### Dynamic flowsheets"
   ]
  },
  {
   "cell_type": "markdown",
   "metadata": {},
   "source": [
    "In this tutorial, diagrams are generated as needed. When building a biorefinery, however, it may be useful to view a dynamic flowsheet that is always up to date with all units and their connections. This can be done by running:\n",
    "```python\n",
    ">>> from biosteam import main_flowsheet\n",
    ">>> main_flowsheet.view()\n",
    "```\n",
    "If you are using the [Spyder IDE](https://www.spyder-ide.org/) to create dynamic flowsheets, make sure that your graphics backend is set to \"Automatic\" or \"PyQt5\" in your system preferences. If you are using Jupyter Notebooks, make sure you run the following line first:\n",
    "```python\n",
    "%gui qt5\n",
    "```\n",
    "A [spyder-biosteam](https://github.com/BioSTEAMDevelopmentGroup/spyder-biosteam) plugin is also under development to fully integrate flowsheets as part of the development environment. "
   ]
  },
  {
   "cell_type": "markdown",
   "metadata": {},
   "source": [
    "### Initialize streams"
   ]
  },
  {
   "cell_type": "markdown",
   "metadata": {},
   "source": [
    "[Stream](https://thermosteam.readthedocs.io/en/latest/Stream.html) objects define material flow rates along with its thermodynamic state. Before creating streams, a [Thermo](https://thermosteam.readthedocs.io/en/latest/Thermo.html) property package must be defined. Alternatively, we can just pass chemical names and BioSTEAM will automatically create a property package based on ideal mixing rules and UNIFAC activity coefficients for thermodynamic equilibrium. More complex packages can be defined through Thermosteam, BioSTEAM's premier thermodynamic engine. Please visit [Thermosteam's documentation](https://thermosteam.readthedocs.io/en/latest/index.html) for a complete tutorial on [Stream](https://thermosteam.readthedocs.io/en/latest/Stream.html) objects and how to create a property package. In this example, a simple feed stream with a few common chemicals will be initialized:"
   ]
  },
  {
   "cell_type": "code",
   "execution_count": 1,
   "metadata": {},
   "outputs": [
    {
     "name": "stdout",
     "output_type": "stream",
     "text": [
      "Stream: s1\n",
      " phase: 'l', T: 298.15 K, P: 101325 Pa\n",
      " flow (kmol/hr): Water     50\n",
      "                 Methanol  20\n"
     ]
    }
   ],
   "source": [
    "import biosteam as bst\n",
    "bst.settings.set_thermo(['Water', 'Methanol'])\n",
    "feed = bst.Stream(Water=50, Methanol=20)\n",
    "feed.show()"
   ]
  },
  {
   "cell_type": "markdown",
   "metadata": {},
   "source": [
    "Set prices for performing techno-economic analysis later:"
   ]
  },
  {
   "cell_type": "code",
   "execution_count": 2,
   "metadata": {},
   "outputs": [
    {
     "data": {
      "text/plain": [
       "231.24018"
      ]
     },
     "execution_count": 2,
     "metadata": {},
     "output_type": "execute_result"
    }
   ],
   "source": [
    "feed.price = 0.15 # USD/kg\n",
    "feed.cost # USD/hr"
   ]
  },
  {
   "cell_type": "markdown",
   "metadata": {},
   "source": [
    "### Process settings"
   ]
  },
  {
   "cell_type": "markdown",
   "metadata": {},
   "source": [
    "**Process settings include price of feeds and products, conditions of utilities, and the chemical engineering plant cost index. These should be set before simulating a system.**"
   ]
  },
  {
   "cell_type": "markdown",
   "metadata": {},
   "source": [
    "Set the chemical engineering plant cost index:"
   ]
  },
  {
   "cell_type": "code",
   "execution_count": 3,
   "metadata": {},
   "outputs": [
    {
     "data": {
      "text/plain": [
       "567.5"
      ]
     },
     "execution_count": 3,
     "metadata": {},
     "output_type": "execute_result"
    }
   ],
   "source": [
    "bst.CE # Default year is 2017"
   ]
  },
  {
   "cell_type": "code",
   "execution_count": 4,
   "metadata": {},
   "outputs": [],
   "source": [
    "bst.CE = 603.1 # To year 2018"
   ]
  },
  {
   "cell_type": "markdown",
   "metadata": {},
   "source": [
    "Set [PowerUtility](../PowerUtility.txt) options:"
   ]
  },
  {
   "cell_type": "code",
   "execution_count": 5,
   "metadata": {},
   "outputs": [
    {
     "data": {
      "text/plain": [
       "0.0782"
      ]
     },
     "execution_count": 5,
     "metadata": {},
     "output_type": "execute_result"
    }
   ],
   "source": [
    "bst.PowerUtility.price # Default price (USD/kJ)"
   ]
  },
  {
   "cell_type": "code",
   "execution_count": 6,
   "metadata": {},
   "outputs": [],
   "source": [
    "bst.PowerUtility.price = 0.065 # Adjust price"
   ]
  },
  {
   "cell_type": "markdown",
   "metadata": {},
   "source": [
    "Set [HeatUtility](../HeatUtility.txt) options via [UtilityAgent](../UtilityAgent.txt) objects, which are [Stream](https://thermosteam.readthedocs.io/en/latest/Stream.html) objects with additional attributes to describe a utility agent:"
   ]
  },
  {
   "cell_type": "code",
   "execution_count": 7,
   "metadata": {},
   "outputs": [
    {
     "data": {
      "text/plain": [
       "[<UtilityAgent: cooling_water>,\n",
       " <UtilityAgent: chilled_water>,\n",
       " <UtilityAgent: chilled_brine>]"
      ]
     },
     "execution_count": 7,
     "metadata": {},
     "output_type": "execute_result"
    }
   ],
   "source": [
    "bst.HeatUtility.cooling_agents # All available cooling agents"
   ]
  },
  {
   "cell_type": "code",
   "execution_count": 8,
   "metadata": {},
   "outputs": [
    {
     "name": "stdout",
     "output_type": "stream",
     "text": [
      "UtilityAgent: cooling_water\n",
      " heat_transfer_efficiency: 1.000\n",
      " heat_transfer_price: 0 USD/kJ\n",
      " regeneration_price: 0.000488 USD/kmol\n",
      " T_limit: 325 K\n",
      " phase: 'l'\n",
      " T: 305.37 K\n",
      " P: 101325 Pa\n",
      " flow (kmol/hr): Water  1\n"
     ]
    }
   ],
   "source": [
    "cooling_water = bst.HeatUtility.get_cooling_agent('cooling_water')\n",
    "cooling_water # A UtilityAgent"
   ]
  },
  {
   "cell_type": "code",
   "execution_count": 9,
   "metadata": {},
   "outputs": [
    {
     "data": {
      "text/plain": [
       "0.00048785"
      ]
     },
     "execution_count": 9,
     "metadata": {},
     "output_type": "execute_result"
    }
   ],
   "source": [
    "# Price of regenerating the utility in USD/kmol\n",
    "cooling_water.regeneration_price"
   ]
  },
  {
   "cell_type": "code",
   "execution_count": 10,
   "metadata": {},
   "outputs": [
    {
     "data": {
      "text/plain": [
       "5e-06"
      ]
     },
     "execution_count": 10,
     "metadata": {},
     "output_type": "execute_result"
    }
   ],
   "source": [
    "# Other utilities may be priced for amount of heat transfered in USD/kJ\n",
    "chilled_water = bst.HeatUtility.get_cooling_agent('chilled_water')\n",
    "chilled_water.heat_transfer_price"
   ]
  },
  {
   "cell_type": "code",
   "execution_count": 11,
   "metadata": {},
   "outputs": [],
   "source": [
    "cooling_water.T = 302 # Change the temperature of cooling water (K)"
   ]
  },
  {
   "cell_type": "code",
   "execution_count": 12,
   "metadata": {},
   "outputs": [
    {
     "data": {
      "text/plain": [
       "[<UtilityAgent: low_pressure_steam>,\n",
       " <UtilityAgent: medium_pressure_steam>,\n",
       " <UtilityAgent: high_pressure_steam>]"
      ]
     },
     "execution_count": 12,
     "metadata": {},
     "output_type": "execute_result"
    }
   ],
   "source": [
    "bst.HeatUtility.heating_agents # All available heating agents"
   ]
  },
  {
   "cell_type": "code",
   "execution_count": 13,
   "metadata": {},
   "outputs": [
    {
     "name": "stdout",
     "output_type": "stream",
     "text": [
      "UtilityAgent: low_pressure_steam\n",
      " heat_transfer_efficiency: 0.950\n",
      " heat_transfer_price: 0 USD/kJ\n",
      " regeneration_price: 0.238 USD/kmol\n",
      " T_limit: None\n",
      " phase: 'g'\n",
      " T: 412.19 K\n",
      " P: 344738 Pa\n",
      " flow (kmol/hr): Water  1\n"
     ]
    }
   ],
   "source": [
    "lps = bst.HeatUtility.get_heating_agent('low_pressure_steam') # A UtilityAgent\n",
    "lps # Note that because utility changes phase, T_limit is None"
   ]
  },
  {
   "cell_type": "code",
   "execution_count": 14,
   "metadata": {},
   "outputs": [],
   "source": [
    "lps.regeneration_price = 0.20 # Adjust price (USD/kmol)"
   ]
  },
  {
   "cell_type": "markdown",
   "metadata": {},
   "source": [
    "### Find design requirements and cost with Unit objects"
   ]
  },
  {
   "cell_type": "markdown",
   "metadata": {},
   "source": [
    "[Creating a Unit](./Creating_a_Unit.ipynb) can be flexible. But in summary, a [Unit](../Unit.txt) object is initialized with an ID, and unit-specific arguments. BioSTEAM includes [essential unit operations](../units/units.txt) with rigorous modeling and design algorithms. Here we create a [Flash](../units/Flash.txt) object as an example:"
   ]
  },
  {
   "cell_type": "code",
   "execution_count": 15,
   "metadata": {},
   "outputs": [
    {
     "data": {
      "image/png": "[encoded data removed]",
      "text/plain": [
       "<IPython.core.display.Image object>"
      ]
     },
     "metadata": {},
     "output_type": "display_data"
    },
    {
     "name": "stdout",
     "output_type": "stream",
     "text": [
      "Flash: F1\n",
      "ins...\n",
      "[0] missing stream\n",
      "outs...\n",
      "[0] s2\n",
      "    phase: 'l', T: 298.15 K, P: 101325 Pa\n",
      "    flow: 0\n",
      "[1] s3\n",
      "    phase: 'l', T: 298.15 K, P: 101325 Pa\n",
      "    flow: 0\n"
     ]
    }
   ],
   "source": [
    "from biosteam import units\n",
    "\n",
    "# Specify vapor fraction and isobaric conditions\n",
    "F1 = units.Flash('F1', V=0.5, P=101325)\n",
    "F1"
   ]
  },
  {
   "cell_type": "markdown",
   "metadata": {},
   "source": [
    "Note that, by default, Missing Stream objects are given to inputs, `ins`, and empty streams to outputs, `outs`:"
   ]
  },
  {
   "cell_type": "code",
   "execution_count": 16,
   "metadata": {},
   "outputs": [
    {
     "data": {
      "text/plain": [
       "[<MissingStream>]"
      ]
     },
     "execution_count": 16,
     "metadata": {},
     "output_type": "execute_result"
    }
   ],
   "source": [
    "F1.ins"
   ]
  },
  {
   "cell_type": "code",
   "execution_count": 17,
   "metadata": {},
   "outputs": [
    {
     "data": {
      "text/plain": [
       "[<Stream: s2>, <Stream: s3>]"
      ]
     },
     "execution_count": 17,
     "metadata": {},
     "output_type": "execute_result"
    }
   ],
   "source": [
    "F1.outs"
   ]
  },
  {
   "cell_type": "markdown",
   "metadata": {},
   "source": [
    "You can connect streams by setting the `ins` and `outs`:"
   ]
  },
  {
   "cell_type": "code",
   "execution_count": 18,
   "metadata": {},
   "outputs": [
    {
     "data": {
      "image/png": "[encoded data removed]",
      "text/plain": [
       "<IPython.core.display.Image object>"
      ]
     },
     "metadata": {},
     "output_type": "display_data"
    },
    {
     "name": "stdout",
     "output_type": "stream",
     "text": [
      "Flash: F1\n",
      "ins...\n",
      "[0] s1\n",
      "    phase: 'l', T: 298.15 K, P: 101325 Pa\n",
      "    flow (kmol/hr): Water     50\n",
      "                    Methanol  20\n",
      "outs...\n",
      "[0] s2\n",
      "    phase: 'l', T: 298.15 K, P: 101325 Pa\n",
      "    flow: 0\n",
      "[1] s3\n",
      "    phase: 'l', T: 298.15 K, P: 101325 Pa\n",
      "    flow: 0\n"
     ]
    }
   ],
   "source": [
    "F1.ins[0] = feed\n",
    "F1"
   ]
  },
  {
   "cell_type": "markdown",
   "metadata": {},
   "source": [
    "To simulate the flash, use the `simulate` method:"
   ]
  },
  {
   "cell_type": "code",
   "execution_count": 19,
   "metadata": {},
   "outputs": [
    {
     "name": "stdout",
     "output_type": "stream",
     "text": [
      "Flash: F1\n",
      "ins...\n",
      "[0] s1\n",
      "    phase: 'l', T: 298.15 K, P: 101325 Pa\n",
      "    flow (kmol/hr): Water     50\n",
      "                    Methanol  20\n",
      "outs...\n",
      "[0] s2\n",
      "    phase: 'g', T: 359.63 K, P: 101325 Pa\n",
      "    flow (kmol/hr): Water     19\n",
      "                    Methanol  16\n",
      "[1] s3\n",
      "    phase: 'l', T: 359.63 K, P: 101325 Pa\n",
      "    flow (kmol/hr): Water     31\n",
      "                    Methanol  4\n"
     ]
    },
    {
     "name": "stderr",
     "output_type": "stream",
     "text": [
      "C:\\Users\\yrc2\\OneDrive\\Code\\biosteam\\biosteam\\units\\design_tools\\pressure_vessel.py:78: CostWarning: \u001b[38;2;229;63;229m<Flash: F1>\u001b[0m Vertical vessel weight (399.5 lb) is out of bounds (4200 to 1e+06 lb).\n",
      "  return method(pressure, diameter, length)\n",
      "C:\\Users\\yrc2\\OneDrive\\Code\\biosteam\\biosteam\\units\\design_tools\\pressure_vessel.py:78: CostWarning: \u001b[38;2;229;63;229m<Flash: F1>\u001b[0m Vertical vessel length (7.5 ft) is out of bounds (12 to 40 ft).\n",
      "  return method(pressure, diameter, length)\n"
     ]
    }
   ],
   "source": [
    "F1.simulate()\n",
    "F1.show()"
   ]
  },
  {
   "cell_type": "markdown",
   "metadata": {},
   "source": [
    "Note that warnings notify you whether purchase cost correlations are out of range for the given design. This is ok for the example, but its important to make sure that the process is well designed and cost correlations are suitable for the domain."
   ]
  },
  {
   "cell_type": "markdown",
   "metadata": {},
   "source": [
    "The `results` method returns simulation results:"
   ]
  },
  {
   "cell_type": "code",
   "execution_count": 20,
   "metadata": {},
   "outputs": [
    {
     "data": {
      "text/html": [
       "<div>\n",
       "<style scoped>\n",
       "    .dataframe tbody tr th:only-of-type {\n",
       "        vertical-align: middle;\n",
       "    }\n",
       "\n",
       "    .dataframe tbody tr th {\n",
       "        vertical-align: top;\n",
       "    }\n",
       "\n",
       "    .dataframe thead th {\n",
       "        text-align: right;\n",
       "    }\n",
       "</style>\n",
       "<table border=\"1\" class=\"dataframe\">\n",
       "  <thead>\n",
       "    <tr style=\"text-align: right;\">\n",
       "      <th></th>\n",
       "      <th>Flash</th>\n",
       "      <th>Units</th>\n",
       "      <th>F1</th>\n",
       "    </tr>\n",
       "  </thead>\n",
       "  <tbody>\n",
       "    <tr>\n",
       "      <th rowspan=\"3\" valign=\"top\">Low pressure steam</th>\n",
       "      <th>Duty</th>\n",
       "      <td>kJ/hr</td>\n",
       "      <td>1.84e+06</td>\n",
       "    </tr>\n",
       "    <tr>\n",
       "      <th>Flow</th>\n",
       "      <td>kmol/hr</td>\n",
       "      <td>47.4</td>\n",
       "    </tr>\n",
       "    <tr>\n",
       "      <th>Cost</th>\n",
       "      <td>USD/hr</td>\n",
       "      <td>9.49</td>\n",
       "    </tr>\n",
       "    <tr>\n",
       "      <th rowspan=\"6\" valign=\"top\">Design</th>\n",
       "      <th>Vessel type</th>\n",
       "      <td></td>\n",
       "      <td>Vertical</td>\n",
       "    </tr>\n",
       "    <tr>\n",
       "      <th>Length</th>\n",
       "      <td>ft</td>\n",
       "      <td>7.5</td>\n",
       "    </tr>\n",
       "    <tr>\n",
       "      <th>Diameter</th>\n",
       "      <td>ft</td>\n",
       "      <td>1.5</td>\n",
       "    </tr>\n",
       "    <tr>\n",
       "      <th>Weight</th>\n",
       "      <td>lb</td>\n",
       "      <td>399</td>\n",
       "    </tr>\n",
       "    <tr>\n",
       "      <th>Wall thickness</th>\n",
       "      <td>in</td>\n",
       "      <td>0.25</td>\n",
       "    </tr>\n",
       "    <tr>\n",
       "      <th>Vessel material</th>\n",
       "      <td></td>\n",
       "      <td>Carbon steel</td>\n",
       "    </tr>\n",
       "    <tr>\n",
       "      <th rowspan=\"2\" valign=\"top\">Purchase cost</th>\n",
       "      <th>Vertical pressure vessel</th>\n",
       "      <td>USD</td>\n",
       "      <td>1.16e+04</td>\n",
       "    </tr>\n",
       "    <tr>\n",
       "      <th>Heat exchanger</th>\n",
       "      <td>USD</td>\n",
       "      <td>5.16e+03</td>\n",
       "    </tr>\n",
       "    <tr>\n",
       "      <th>Total purchase cost</th>\n",
       "      <th></th>\n",
       "      <td>USD</td>\n",
       "      <td>1.67e+04</td>\n",
       "    </tr>\n",
       "    <tr>\n",
       "      <th>Utility cost</th>\n",
       "      <th></th>\n",
       "      <td>USD/hr</td>\n",
       "      <td>9.49</td>\n",
       "    </tr>\n",
       "  </tbody>\n",
       "</table>\n",
       "</div>"
      ],
      "text/plain": [
       "Flash                                           Units            F1\n",
       "Low pressure steam  Duty                        kJ/hr      1.84e+06\n",
       "                    Flow                      kmol/hr          47.4\n",
       "                    Cost                       USD/hr          9.49\n",
       "Design              Vessel type                            Vertical\n",
       "                    Length                         ft           7.5\n",
       "                    Diameter                       ft           1.5\n",
       "                    Weight                         lb           399\n",
       "                    Wall thickness                 in          0.25\n",
       "                    Vessel material                    Carbon steel\n",
       "Purchase cost       Vertical pressure vessel      USD      1.16e+04\n",
       "                    Heat exchanger                USD      5.16e+03\n",
       "Total purchase cost                               USD      1.67e+04\n",
       "Utility cost                                   USD/hr          9.49"
      ]
     },
     "execution_count": 20,
     "metadata": {},
     "output_type": "execute_result"
    }
   ],
   "source": [
    "F1.results() # Default returns DataFrame object with units"
   ]
  },
  {
   "cell_type": "code",
   "execution_count": 21,
   "metadata": {},
   "outputs": [
    {
     "data": {
      "text/plain": [
       "Low pressure steam   Duty                            1.84e+06\n",
       "                     Flow                                47.4\n",
       "                     Cost                                9.49\n",
       "Design               Vessel type                     Vertical\n",
       "                     Length                               7.5\n",
       "                     Diameter                             1.5\n",
       "                     Weight                               399\n",
       "                     Wall thickness                      0.25\n",
       "                     Vessel material             Carbon steel\n",
       "Purchase cost        Heat exchanger                  5.16e+03\n",
       "                     Vertical pressure vessel        1.16e+04\n",
       "Total purchase cost                                  1.67e+04\n",
       "Utility cost                                             9.49\n",
       "Name: F1, dtype: object"
      ]
     },
     "execution_count": 21,
     "metadata": {},
     "output_type": "execute_result"
    }
   ],
   "source": [
    "F1.results(with_units=False) # Returns Series object without units"
   ]
  },
  {
   "cell_type": "markdown",
   "metadata": {},
   "source": [
    "### Solve recycle loops and process specifications with System objects"
   ]
  },
  {
   "cell_type": "markdown",
   "metadata": {},
   "source": [
    "**Designing a chemical process is no easy task. A simple recycle process consisting of a flash with a partial liquid recycle is presented here.**"
   ]
  },
  {
   "cell_type": "markdown",
   "metadata": {},
   "source": [
    "Create a [Mixer](../units/Mixer.txt) object and a [Splitter](../units/Splitter.txt) object:"
   ]
  },
  {
   "cell_type": "code",
   "execution_count": 22,
   "metadata": {
    "scrolled": true
   },
   "outputs": [],
   "source": [
    "M1 = units.Mixer('M1')\n",
    "S1 = units.Splitter('S1', outs=('liquid_recycle', 'liquid_product'),\n",
    "                    split=0.5) # Split to 0th output stream\n",
    "F1.outs[0].ID = 'vapor_product'\n",
    "F1.outs[1].ID = 'liquid'"
   ]
  },
  {
   "cell_type": "markdown",
   "metadata": {},
   "source": [
    "You can [find unit operations and manage flowsheets](./Managing_flowsheets.ipynb) with the `main_flowsheet`:"
   ]
  },
  {
   "cell_type": "code",
   "execution_count": 23,
   "metadata": {},
   "outputs": [
    {
     "data": {
      "image/svg+xml": [
       "<svg height=\"310pt\" viewBox=\"0.00 0.00 438.39 310.48\" width=\"438pt\" xmlns=\"http://www.w3.org/2000/svg\" xmlns:xlink=\"http://www.w3.org/1999/xlink\">\n",
       "<g class=\"graph\" id=\"graph0\" transform=\"scale(1 1) rotate(0) translate(4 306.48)\">\n",
       "<title>%3</title>\n",
       "<polygon fill=\"white\" points=\"-4,4 -4,-306.48 434.392,-306.48 434.392,4 -4,4\" stroke=\"none\"/>\n",
       "<!-- M1\n",
       "Mixer&#45;&gt;s4 -->\n",
       "<g class=\"edge\" id=\"edge2\"><title>M1\n",
       "Mixer:e-&gt;s4:w</title>\n",
       "<path d=\"M149.196,-53.7401C181.061,-53.7401 189.027,-53.7401 220.892,-53.7401\" fill=\"none\" stroke=\"black\"/>\n",
       "</g>\n",
       "<!-- F1\n",
       "Flash&#45;&gt;vapor_product -->\n",
       "<g class=\"edge\" id=\"edge1\"><title>F1\n",
       "Flash:n-&gt;vapor_product:w</title>\n",
       "<path d=\"M243.892,-180.74C243.892,-199.741 310.391,-179.74 329.392,-179.74\" fill=\"none\" stroke=\"black\"/>\n",
       "</g>\n",
       "<!-- F1\n",
       "Flash&#45;&gt;liquid -->\n",
       "<g class=\"edge\" id=\"edge4\"><title>F1\n",
       "Flash:s-&gt;liquid:w</title>\n",
       "<path d=\"M243.892,-98.7401C243.892,-74.0724 330.224,-99.7401 354.892,-99.7401\" fill=\"none\" stroke=\"black\"/>\n",
       "</g>\n",
       "<!-- S1\n",
       "Splitter&#45;&gt;liquid_recycle -->\n",
       "<g class=\"edge\" id=\"edge3\"><title>S1\n",
       "Splitter:c-&gt;liquid_recycle:w</title>\n",
       "<path d=\"M119.058,-261.021C141.073,-266.926 169.259,-272.74 194.892,-272.74\" fill=\"none\" stroke=\"black\"/>\n",
       "</g>\n",
       "<!-- S1\n",
       "Splitter&#45;&gt;liquid_product -->\n",
       "<g class=\"edge\" id=\"edge6\"><title>S1\n",
       "Splitter:c-&gt;liquid_product:w</title>\n",
       "<path d=\"M118.911,-233.301C140.719,-225.95 168.666,-218.74 194.392,-218.74\" fill=\"none\" stroke=\"black\"/>\n",
       "</g>\n",
       "<!-- s1&#45;&gt;F1\n",
       "Flash -->\n",
       "<g class=\"edge\" id=\"edge5\"><title>s1:e-&gt;F1\n",
       "Flash:c</title>\n",
       "<path d=\"M102.196,-139.74C143.721,-139.74 192.139,-139.74 219.984,-139.74\" fill=\"none\" stroke=\"black\"/>\n",
       "</g>\n",
       "<!-- M1\n",
       "Mixer -->\n",
       "<g class=\"node\" id=\"node1\"><title>M1\n",
       "Mixer</title>\n",
       "<defs>\n",
       "<linearGradient gradientUnits=\"userSpaceOnUse\" id=\"l_0\" x1=\"44.6492\" x2=\"148.289\" y1=\"-53.7401\" y2=\"-53.7401\">\n",
       "<stop offset=\"0\" style=\"stop-color:white;stop-opacity:1.;\"/>\n",
       "<stop offset=\"1\" style=\"stop-color:#cdcdcd;stop-opacity:1.;\"/>\n",
       "</linearGradient>\n",
       "</defs>\n",
       "<polygon fill=\"url(#l_0)\" points=\"148.289,-53.7401 44.6492,-107.721 44.6492,0.241193 148.289,-53.7401\" stroke=\"black\"/>\n",
       "<text font-family=\"Times New Roman,serif\" font-size=\"14.00\" text-anchor=\"middle\" x=\"79.196\" y=\"-57.5401\">M1</text>\n",
       "<text font-family=\"Times New Roman,serif\" font-size=\"14.00\" text-anchor=\"middle\" x=\"79.196\" y=\"-42.5401\">Mixer</text>\n",
       "</g>\n",
       "<!-- F1\n",
       "Flash -->\n",
       "<g class=\"node\" id=\"node2\"><title>F1\n",
       "Flash</title>\n",
       "<defs>\n",
       "<linearGradient gradientUnits=\"userSpaceOnUse\" id=\"l_1\" x1=\"220.392\" x2=\"267.392\" y1=\"-139.74\" y2=\"-139.74\">\n",
       "<stop offset=\"0\" style=\"stop-color:white;stop-opacity:1.;\"/>\n",
       "<stop offset=\"1\" style=\"stop-color:#cdcdcd;stop-opacity:1.;\"/>\n",
       "</linearGradient>\n",
       "</defs>\n",
       "<polygon fill=\"url(#l_1)\" points=\"267.392,-179.24 220.392,-179.24 220.392,-100.24 267.392,-100.24 267.392,-179.24\" stroke=\"black\"/>\n",
       "<text font-family=\"Times New Roman,serif\" font-size=\"14.00\" text-anchor=\"middle\" x=\"243.892\" y=\"-143.54\">F1</text>\n",
       "<text font-family=\"Times New Roman,serif\" font-size=\"14.00\" text-anchor=\"middle\" x=\"243.892\" y=\"-128.54\">Flash</text>\n",
       "</g>\n",
       "<!-- S1\n",
       "Splitter -->\n",
       "<g class=\"node\" id=\"node3\"><title>S1\n",
       "Splitter</title>\n",
       "<defs>\n",
       "<linearGradient gradientUnits=\"userSpaceOnUse\" id=\"l_2\" x1=\"-0.196446\" x2=\"118.892\" y1=\"-248.74\" y2=\"-248.74\">\n",
       "<stop offset=\"0\" style=\"stop-color:#bfbfbf;stop-opacity:1.;\"/>\n",
       "<stop offset=\"1\" style=\"stop-color:white;stop-opacity:1.;\"/>\n",
       "</linearGradient>\n",
       "</defs>\n",
       "<polygon fill=\"url(#l_2)\" points=\"-0.196446,-248.74 118.892,-194.759 118.892,-302.721 -0.196446,-248.74\" stroke=\"black\"/>\n",
       "<text font-family=\"Times New Roman,serif\" font-size=\"14.00\" text-anchor=\"middle\" x=\"79.196\" y=\"-252.54\">S1</text>\n",
       "<text font-family=\"Times New Roman,serif\" font-size=\"14.00\" text-anchor=\"middle\" x=\"79.196\" y=\"-237.54\">Splitter</text>\n",
       "</g>\n",
       "<!-- vapor_product -->\n",
       "<g class=\"node\" id=\"node4\"><title>vapor_product</title>\n",
       "<polygon fill=\"#79dae8\" points=\"412.392,-195.24 329.392,-195.24 329.392,-164.24 412.392,-164.24 412.392,-158.24 430.392,-179.74 412.392,-201.24 412.392,-195.24\" stroke=\"black\"/>\n",
       "<text font-family=\"Times New Roman,serif\" font-size=\"14.00\" text-anchor=\"middle\" x=\"379.892\" y=\"-176.04\">vapor_product</text>\n",
       "</g>\n",
       "<!-- s4 -->\n",
       "<g class=\"node\" id=\"node5\"><title>s4</title>\n",
       "<polygon fill=\"#79dae8\" points=\"247.392,-69.2401 222.392,-69.2401 222.392,-38.2401 247.392,-38.2401 247.392,-32.2401 265.392,-53.7401 247.392,-75.2401 247.392,-69.2401\" stroke=\"black\"/>\n",
       "<text font-family=\"Times New Roman,serif\" font-size=\"14.00\" text-anchor=\"middle\" x=\"243.892\" y=\"-50.0401\">s4</text>\n",
       "</g>\n",
       "<!-- liquid_recycle -->\n",
       "<g class=\"node\" id=\"node6\"><title>liquid_recycle</title>\n",
       "<polygon fill=\"#79dae8\" points=\"273.392,-288.24 196.392,-288.24 196.392,-257.24 273.392,-257.24 273.392,-251.24 291.392,-272.74 273.392,-294.24 273.392,-288.24\" stroke=\"black\"/>\n",
       "<text font-family=\"Times New Roman,serif\" font-size=\"14.00\" text-anchor=\"middle\" x=\"243.892\" y=\"-269.04\">liquid_recycle</text>\n",
       "</g>\n",
       "<!-- liquid -->\n",
       "<g class=\"node\" id=\"node7\"><title>liquid</title>\n",
       "<polygon fill=\"#79dae8\" points=\"385.392,-115.24 356.392,-115.24 356.392,-84.2401 385.392,-84.2401 385.392,-78.2401 403.392,-99.7401 385.392,-121.24 385.392,-115.24\" stroke=\"black\"/>\n",
       "<text font-family=\"Times New Roman,serif\" font-size=\"14.00\" text-anchor=\"middle\" x=\"379.892\" y=\"-96.0401\">liquid</text>\n",
       "</g>\n",
       "<!-- s1 -->\n",
       "<g class=\"node\" id=\"node8\"><title>s1</title>\n",
       "<polygon fill=\"#79dae8\" points=\"82.696,-155.24 57.696,-155.24 57.696,-124.24 82.696,-124.24 82.696,-118.24 100.696,-139.74 82.696,-161.24 82.696,-155.24\" stroke=\"black\"/>\n",
       "<text font-family=\"Times New Roman,serif\" font-size=\"14.00\" text-anchor=\"middle\" x=\"79.196\" y=\"-136.04\">s1</text>\n",
       "</g>\n",
       "<!-- liquid_product -->\n",
       "<g class=\"node\" id=\"node9\"><title>liquid_product</title>\n",
       "<polygon fill=\"#79dae8\" points=\"275.392,-234.24 194.392,-234.24 194.392,-203.24 275.392,-203.24 275.392,-197.24 293.392,-218.74 275.392,-240.24 275.392,-234.24\" stroke=\"black\"/>\n",
       "<text font-family=\"Times New Roman,serif\" font-size=\"14.00\" text-anchor=\"middle\" x=\"243.892\" y=\"-215.04\">liquid_product</text>\n",
       "</g>\n",
       "</g>\n",
       "</svg>"
      ],
      "text/plain": [
       "<IPython.core.display.SVG object>"
      ]
     },
     "metadata": {},
     "output_type": "display_data"
    }
   ],
   "source": [
    "bst.main_flowsheet.diagram()"
   ]
  },
  {
   "cell_type": "markdown",
   "metadata": {},
   "source": [
    "Connect streams and make a recycle loop using [-pipe- notation](./Using_-pipe-_notation.ipynb):"
   ]
  },
  {
   "cell_type": "code",
   "execution_count": 24,
   "metadata": {},
   "outputs": [],
   "source": [
    "feed = bst.Stream('feed', Methanol=100, Water=450)\n",
    "\n",
    "# Broken down -pipe- notation\n",
    "[S1-0, feed]-M1     # M1.ins[:] = [S1.outs[0], feed]\n",
    "M1-F1               # F1.ins[:] = M1.outs\n",
    "F1-1-S1             # S1.ins[:] = [F1.outs[1]]\n",
    "\n",
    "# All together\n",
    "[S1-0, feed]-M1-F1-1-S1;"
   ]
  },
  {
   "cell_type": "markdown",
   "metadata": {},
   "source": [
    "Now lets check the diagram again:"
   ]
  },
  {
   "cell_type": "code",
   "execution_count": 25,
   "metadata": {},
   "outputs": [
    {
     "data": {
      "image/png": "[encoded data removed]",
      "text/plain": [
       "<IPython.core.display.Image object>"
      ]
     },
     "metadata": {},
     "output_type": "display_data"
    }
   ],
   "source": [
    "bst.main_flowsheet.diagram(format='png')"
   ]
  },
  {
   "cell_type": "markdown",
   "metadata": {},
   "source": [
    "A [System](../System.txt) object can be created directly from the flowsheet:"
   ]
  },
  {
   "cell_type": "code",
   "execution_count": 26,
   "metadata": {},
   "outputs": [
    {
     "data": {
      "image/png": "[encoded data removed]",
      "text/plain": [
       "<IPython.core.display.Image object>"
      ]
     },
     "metadata": {},
     "output_type": "display_data"
    },
    {
     "name": "stdout",
     "output_type": "stream",
     "text": [
      "System: SYS1\n",
      " path: (M1, F1, S1)\n"
     ]
    }
   ],
   "source": [
    "SYS1 = bst.main_flowsheet.create_system('SYS1')\n",
    "SYS1"
   ]
  },
  {
   "cell_type": "markdown",
   "metadata": {},
   "source": [
    "Alternatively, create a [System](../System.txt) object by specifying an ID, a `recycle` stream and a `path` of units to run element by element:"
   ]
  },
  {
   "cell_type": "code",
   "execution_count": 27,
   "metadata": {},
   "outputs": [
    {
     "name": "stdout",
     "output_type": "stream",
     "text": [
      "System: sys1\n",
      " recycle: liquid_recycle\n",
      " path: (M1, F1, S1)\n",
      " convergence error: Flow rate   0.00e+00 kmol/hr\n",
      "                    Temperature 0.00e+00 K\n",
      " iterations: 0\n"
     ]
    }
   ],
   "source": [
    "sys1 = bst.System('sys1', path=(M1, F1, S1), recycle=S1-0) # recycle=S1.outs[0]\n",
    "sys1.show() # Prints info without the diagram"
   ]
  },
  {
   "cell_type": "markdown",
   "metadata": {},
   "source": [
    "Simulate the System object:"
   ]
  },
  {
   "cell_type": "code",
   "execution_count": 28,
   "metadata": {},
   "outputs": [
    {
     "name": "stdout",
     "output_type": "stream",
     "text": [
      "System: sys1\n",
      " recycle: liquid_recycle\n",
      " path: (M1, F1, S1)\n",
      " convergence error: Flow rate   1.51e-01 kmol/hr\n",
      "                    Temperature 4.43e-03 K\n",
      " iterations: 4\n"
     ]
    },
    {
     "name": "stderr",
     "output_type": "stream",
     "text": [
      "C:\\Users\\yrc2\\OneDrive\\Code\\biosteam\\biosteam\\units\\design_tools\\pressure_vessel.py:78: CostWarning: \u001b[38;2;229;63;229m<Flash: F1>\u001b[0m Vertical vessel weight (2965 lb) is out of bounds (4200 to 1e+06 lb).\n",
      "  return method(pressure, diameter, length)\n",
      "C:\\Users\\yrc2\\OneDrive\\Code\\biosteam\\biosteam\\units\\design_tools\\pressure_vessel.py:78: CostWarning: \u001b[38;2;229;63;229m<Flash: F1>\u001b[0m Vertical vessel length (10.5 ft) is out of bounds (12 to 40 ft).\n",
      "  return method(pressure, diameter, length)\n"
     ]
    }
   ],
   "source": [
    "sys1.simulate()\n",
    "sys1.show()"
   ]
  },
  {
   "cell_type": "code",
   "execution_count": 29,
   "metadata": {},
   "outputs": [
    {
     "name": "stdout",
     "output_type": "stream",
     "text": [
      "Flash: F1\n",
      "ins...\n",
      "[0] s4  from  Mixer-M1\n",
      "    phase: 'l', T: 315.15 K, P: 101325 Pa\n",
      "    flow (kmol/hr): Water     626\n",
      "                    Methanol  108\n",
      "outs...\n",
      "[0] vapor_product\n",
      "    phase: 'g', T: 366.37 K, P: 101325 Pa\n",
      "    flow (kmol/hr): Water     275\n",
      "                    Methanol  92.1\n",
      "[1] liquid  to  Splitter-S1\n",
      "    phase: 'l', T: 366.37 K, P: 101325 Pa\n",
      "    flow (kmol/hr): Water     351\n",
      "                    Methanol  15.8\n"
     ]
    }
   ],
   "source": [
    "F1.show()"
   ]
  },
  {
   "cell_type": "code",
   "execution_count": 30,
   "metadata": {},
   "outputs": [
    {
     "data": {
      "text/html": [
       "<div>\n",
       "<style scoped>\n",
       "    .dataframe tbody tr th:only-of-type {\n",
       "        vertical-align: middle;\n",
       "    }\n",
       "\n",
       "    .dataframe tbody tr th {\n",
       "        vertical-align: top;\n",
       "    }\n",
       "\n",
       "    .dataframe thead th {\n",
       "        text-align: right;\n",
       "    }\n",
       "</style>\n",
       "<table border=\"1\" class=\"dataframe\">\n",
       "  <thead>\n",
       "    <tr style=\"text-align: right;\">\n",
       "      <th></th>\n",
       "      <th>Flash</th>\n",
       "      <th>Units</th>\n",
       "      <th>F1</th>\n",
       "    </tr>\n",
       "  </thead>\n",
       "  <tbody>\n",
       "    <tr>\n",
       "      <th rowspan=\"3\" valign=\"top\">Low pressure steam</th>\n",
       "      <th>Duty</th>\n",
       "      <td>kJ/hr</td>\n",
       "      <td>1.91e+07</td>\n",
       "    </tr>\n",
       "    <tr>\n",
       "      <th>Flow</th>\n",
       "      <td>kmol/hr</td>\n",
       "      <td>493</td>\n",
       "    </tr>\n",
       "    <tr>\n",
       "      <th>Cost</th>\n",
       "      <td>USD/hr</td>\n",
       "      <td>98.6</td>\n",
       "    </tr>\n",
       "    <tr>\n",
       "      <th rowspan=\"6\" valign=\"top\">Design</th>\n",
       "      <th>Vessel type</th>\n",
       "      <td></td>\n",
       "      <td>Vertical</td>\n",
       "    </tr>\n",
       "    <tr>\n",
       "      <th>Length</th>\n",
       "      <td>ft</td>\n",
       "      <td>10.5</td>\n",
       "    </tr>\n",
       "    <tr>\n",
       "      <th>Diameter</th>\n",
       "      <td>ft</td>\n",
       "      <td>5.5</td>\n",
       "    </tr>\n",
       "    <tr>\n",
       "      <th>Weight</th>\n",
       "      <td>lb</td>\n",
       "      <td>2.97e+03</td>\n",
       "    </tr>\n",
       "    <tr>\n",
       "      <th>Wall thickness</th>\n",
       "      <td>in</td>\n",
       "      <td>0.312</td>\n",
       "    </tr>\n",
       "    <tr>\n",
       "      <th>Vessel material</th>\n",
       "      <td></td>\n",
       "      <td>Carbon steel</td>\n",
       "    </tr>\n",
       "    <tr>\n",
       "      <th rowspan=\"2\" valign=\"top\">Purchase cost</th>\n",
       "      <th>Vertical pressure vessel</th>\n",
       "      <td>USD</td>\n",
       "      <td>3.32e+04</td>\n",
       "    </tr>\n",
       "    <tr>\n",
       "      <th>Heat exchanger</th>\n",
       "      <td>USD</td>\n",
       "      <td>3.44e+04</td>\n",
       "    </tr>\n",
       "    <tr>\n",
       "      <th>Total purchase cost</th>\n",
       "      <th></th>\n",
       "      <td>USD</td>\n",
       "      <td>6.75e+04</td>\n",
       "    </tr>\n",
       "    <tr>\n",
       "      <th>Utility cost</th>\n",
       "      <th></th>\n",
       "      <td>USD/hr</td>\n",
       "      <td>98.6</td>\n",
       "    </tr>\n",
       "  </tbody>\n",
       "</table>\n",
       "</div>"
      ],
      "text/plain": [
       "Flash                                           Units            F1\n",
       "Low pressure steam  Duty                        kJ/hr      1.91e+07\n",
       "                    Flow                      kmol/hr           493\n",
       "                    Cost                       USD/hr          98.6\n",
       "Design              Vessel type                            Vertical\n",
       "                    Length                         ft          10.5\n",
       "                    Diameter                       ft           5.5\n",
       "                    Weight                         lb      2.97e+03\n",
       "                    Wall thickness                 in         0.312\n",
       "                    Vessel material                    Carbon steel\n",
       "Purchase cost       Vertical pressure vessel      USD      3.32e+04\n",
       "                    Heat exchanger                USD      3.44e+04\n",
       "Total purchase cost                               USD      6.75e+04\n",
       "Utility cost                                   USD/hr          98.6"
      ]
     },
     "execution_count": 30,
     "metadata": {},
     "output_type": "execute_result"
    }
   ],
   "source": [
    "F1.results()"
   ]
  },
  {
   "cell_type": "markdown",
   "metadata": {},
   "source": [
    "Although BioSTEAM includes a large set of essential unit operations, many process specific unit operations are not yet available. In this case, you can create new [Unit subclasses](./Inheriting_from_Unit.ipynb) to model unit operations not yet available in BioSTEAM."
   ]
  },
  {
   "cell_type": "markdown",
   "metadata": {},
   "source": [
    "Once your system has been simulated, you can save a system report to view all results in an excel spreadsheet:"
   ]
  },
  {
   "cell_type": "code",
   "execution_count": 31,
   "metadata": {},
   "outputs": [
    {
     "name": "stderr",
     "output_type": "stream",
     "text": [
      "C:\\ProgramData\\Anaconda3\\lib\\site-packages\\ipykernel_launcher.py:1: RuntimeWarning: Cannot find TEA object in <System: sys1>. Ignoring TEA sheets.\n",
      "  \"\"\"Entry point for launching an IPython kernel.\n"
     ]
    }
   ],
   "source": [
    "sys1.save_report('Example.xlsx') # Try this on your computer and open excel"
   ]
  },
  {
   "cell_type": "markdown",
   "metadata": {},
   "source": [
    "Once process settings are set and the system is simulated, it is possible to perform [techno-economic analysis](./Techno-economic_analysis.ipynb). If a [TEA](../TEA.txt) object of the system was initialized, techno-economic analysis results would also appear in the report."
   ]
  }
 ],
 "metadata": {
  "kernelspec": {
   "display_name": "Python 3",
   "language": "python",
   "name": "python3"
  },
  "language_info": {
   "codemirror_mode": {
    "name": "ipython",
    "version": 3
   },
   "file_extension": ".py",
   "mimetype": "text/x-python",
   "name": "python",
   "nbconvert_exporter": "python",
   "pygments_lexer": "ipython3",
   "version": "3.7.6"
  }
 },
 "nbformat": 4,
 "nbformat_minor": 2
}
