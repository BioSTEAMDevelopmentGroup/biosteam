{
 "cells": [
  {
   "cell_type": "markdown",
   "metadata": {},
   "source": [
    "# Getting started"
   ]
  },
  {
   "cell_type": "markdown",
   "metadata": {},
   "source": [
    "### Initialize streams"
   ]
  },
  {
   "cell_type": "markdown",
   "metadata": {},
   "source": [
    "[Stream](../API/thermosteam/Stream.txt) objects define material flow rates along with its thermodynamic state. Before creating streams, a [Thermo](../API/thermosteam/Thermo.txt) property package must be defined. Alternatively, we can just pass chemical names and BioSTEAM will automatically create a property package based on ideal mixing rules and UNIFAC activity coefficients for phase equilibrium. More complex packages can be defined through Thermosteam, BioSTEAM's premier thermodynamic engine. Please visit [Thermosteam 101](./Thermosteam_101.ipynb) for details. In this example, a simple feed stream with a few common chemicals will be initialized:"
   ]
  },
  {
   "cell_type": "code",
   "execution_count": 1,
   "metadata": {},
   "outputs": [
    {
     "name": "stdout",
     "output_type": "stream",
     "text": [
      "Stream: s1\n",
      "phase: 'l', T: 298.15 K, P: 101325 Pa\n",
      "flow (kmol/hr): Water     50\n",
      "                Methanol  20\n"
     ]
    }
   ],
   "source": [
    "import biosteam as bst\n",
    "from biosteam import settings\n",
    "bst.nbtutorial() # Light-mode html diagrams and filter warnings\n",
    "settings.set_thermo(['Water', 'Methanol'])\n",
    "feed = bst.Stream(Water=50, Methanol=20)\n",
    "feed.show()"
   ]
  },
  {
   "cell_type": "markdown",
   "metadata": {},
   "source": [
    "Set prices for performing techno-economic analysis later:"
   ]
  },
  {
   "cell_type": "code",
   "execution_count": 2,
   "metadata": {},
   "outputs": [
    {
     "data": {
      "text/plain": [
       "231.24018"
      ]
     },
     "execution_count": 2,
     "metadata": {},
     "output_type": "execute_result"
    }
   ],
   "source": [
    "feed.price = 0.15 # USD/kg\n",
    "feed.cost # USD/hr"
   ]
  },
  {
   "cell_type": "markdown",
   "metadata": {},
   "source": [
    "### Process settings"
   ]
  },
  {
   "cell_type": "markdown",
   "metadata": {},
   "source": [
    "[Process settings](../API/settings.txt) include price of feeds and products, conditions of utilities, and the chemical engineering plant cost index. These should be set before simulating a system."
   ]
  },
  {
   "cell_type": "markdown",
   "metadata": {},
   "source": [
    "Set the chemical engineering plant cost index:"
   ]
  },
  {
   "cell_type": "code",
   "execution_count": 3,
   "metadata": {},
   "outputs": [
    {
     "data": {
      "text/plain": [
       "567.5"
      ]
     },
     "execution_count": 3,
     "metadata": {},
     "output_type": "execute_result"
    }
   ],
   "source": [
    "settings.CEPCI # Default year is 2017"
   ]
  },
  {
   "cell_type": "code",
   "execution_count": 4,
   "metadata": {},
   "outputs": [],
   "source": [
    "settings.CEPCI = 603.1 # To year 2018"
   ]
  },
  {
   "cell_type": "markdown",
   "metadata": {},
   "source": [
    "Set [PowerUtility](../API/PowerUtility.txt) options:"
   ]
  },
  {
   "cell_type": "code",
   "execution_count": 5,
   "metadata": {},
   "outputs": [
    {
     "data": {
      "text/plain": [
       "0.0782"
      ]
     },
     "execution_count": 5,
     "metadata": {},
     "output_type": "execute_result"
    }
   ],
   "source": [
    "settings.electricity_price # Default price (USD/kWhr)"
   ]
  },
  {
   "cell_type": "code",
   "execution_count": 6,
   "metadata": {},
   "outputs": [],
   "source": [
    "settings.electricity_price = 0.065 # Adjust price"
   ]
  },
  {
   "cell_type": "markdown",
   "metadata": {},
   "source": [
    "Set [HeatUtility](../API/HeatUtility.txt) options via [UtilityAgent](../API/UtilityAgent.txt) objects, which are [Stream](../API/thermosteam/Stream.txt) objects with additional attributes to describe a utility agent:"
   ]
  },
  {
   "cell_type": "code",
   "execution_count": 7,
   "metadata": {},
   "outputs": [
    {
     "data": {
      "text/plain": [
       "[<UtilityAgent: cooling_water>,\n",
       " <UtilityAgent: chilled_water>,\n",
       " <UtilityAgent: chilled_brine>,\n",
       " <UtilityAgent: propane>,\n",
       " <UtilityAgent: propylene>,\n",
       " <UtilityAgent: ethylene>]"
      ]
     },
     "execution_count": 7,
     "metadata": {},
     "output_type": "execute_result"
    }
   ],
   "source": [
    "settings.cooling_agents # All available cooling agents"
   ]
  },
  {
   "cell_type": "code",
   "execution_count": 8,
   "metadata": {},
   "outputs": [
    {
     "name": "stdout",
     "output_type": "stream",
     "text": [
      "UtilityAgent: cooling_water\n",
      "heat_transfer_efficiency: 1.000\n",
      "heat_transfer_price: 0 USD/kJ\n",
      "regeneration_price: 0.000488 USD/kmol\n",
      "T_limit: 325 K\n",
      "phase: 'l'\n",
      "T: 305.37 K\n",
      "P: 101325 Pa\n",
      "flow (kmol/hr): Water  1\n"
     ]
    }
   ],
   "source": [
    "cooling_water = settings.get_cooling_agent('cooling_water')\n",
    "cooling_water.show() # A UtilityAgent"
   ]
  },
  {
   "cell_type": "code",
   "execution_count": 9,
   "metadata": {},
   "outputs": [
    {
     "data": {
      "text/plain": [
       "0.00048785"
      ]
     },
     "execution_count": 9,
     "metadata": {},
     "output_type": "execute_result"
    }
   ],
   "source": [
    "# Price of regenerating the utility in USD/kmol\n",
    "cooling_water.regeneration_price"
   ]
  },
  {
   "cell_type": "code",
   "execution_count": 10,
   "metadata": {},
   "outputs": [
    {
     "data": {
      "text/plain": [
       "5e-06"
      ]
     },
     "execution_count": 10,
     "metadata": {},
     "output_type": "execute_result"
    }
   ],
   "source": [
    "# Other utilities may be priced for amount of heat transfered in USD/kJ\n",
    "chilled_water = settings.get_cooling_agent('chilled_water')\n",
    "chilled_water.heat_transfer_price"
   ]
  },
  {
   "cell_type": "code",
   "execution_count": 11,
   "metadata": {},
   "outputs": [],
   "source": [
    "cooling_water.T = 302 # Change the temperature of cooling water (K)"
   ]
  },
  {
   "cell_type": "code",
   "execution_count": 12,
   "metadata": {},
   "outputs": [
    {
     "data": {
      "text/plain": [
       "[<UtilityAgent: low_pressure_steam>,\n",
       " <UtilityAgent: medium_pressure_steam>,\n",
       " <UtilityAgent: high_pressure_steam>,\n",
       " <UtilityAgent: natural_gas>]"
      ]
     },
     "execution_count": 12,
     "metadata": {},
     "output_type": "execute_result"
    }
   ],
   "source": [
    "settings.heating_agents # All available heating agents"
   ]
  },
  {
   "cell_type": "code",
   "execution_count": 13,
   "metadata": {},
   "outputs": [
    {
     "name": "stdout",
     "output_type": "stream",
     "text": [
      "UtilityAgent: low_pressure_steam\n",
      "heat_transfer_efficiency: 0.950\n",
      "heat_transfer_price: 0 USD/kJ\n",
      "regeneration_price: 0.238 USD/kmol\n",
      "T_limit: None\n",
      "phase: 'g'\n",
      "T: 412.19 K\n",
      "P: 344738 Pa\n",
      "flow (kmol/hr): Water  1\n"
     ]
    }
   ],
   "source": [
    "lps = settings.get_heating_agent('low_pressure_steam') # A UtilityAgent\n",
    "lps.show() # Note that because utility changes phase, T_limit is None"
   ]
  },
  {
   "cell_type": "code",
   "execution_count": 14,
   "metadata": {},
   "outputs": [],
   "source": [
    "lps.regeneration_price = 0.20 # Adjust price (USD/kmol)"
   ]
  },
  {
   "cell_type": "markdown",
   "metadata": {},
   "source": [
    "Remove propane, propylene, and ethylene refrigerants:"
   ]
  },
  {
   "cell_type": "code",
   "execution_count": 15,
   "metadata": {},
   "outputs": [
    {
     "data": {
      "text/plain": [
       "[<UtilityAgent: cooling_water>,\n",
       " <UtilityAgent: chilled_water>,\n",
       " <UtilityAgent: chilled_brine>]"
      ]
     },
     "execution_count": 15,
     "metadata": {},
     "output_type": "execute_result"
    }
   ],
   "source": [
    "settings.cooling_agents = settings.cooling_agents[:-3]\n",
    "settings.cooling_agents"
   ]
  },
  {
   "cell_type": "markdown",
   "metadata": {},
   "source": [
    "Add ammonia as a refrigerant:"
   ]
  },
  {
   "cell_type": "code",
   "execution_count": 16,
   "metadata": {},
   "outputs": [],
   "source": [
    "# Assume cost from Table 17.1 in Warren D.Seider's\n",
    "# Product and Process Design Principles Synthesis, Analysis and Evaluation. Wiley (2016)\n",
    "Ammonia = bst.Chemical('Ammonia') # Load ammonia properties\n",
    "P = 101325 * 1.2 # Pressure should be above atmospheric\n",
    "T = Ammonia.Tsat(P) # Temperature should be at the bubble point for latent cooling\n",
    "ammonia = bst.UtilityAgent(\n",
    "    'ammonia',\n",
    "    Ammonia=1,\n",
    "    P=P,\n",
    "    T=T,\n",
    "    phase='l',\n",
    "    thermo=bst.Thermo([Ammonia]),\n",
    "    heat_transfer_price=13.17e-6,\n",
    ")\n",
    "settings.cooling_agents.append(ammonia)"
   ]
  },
  {
   "cell_type": "markdown",
   "metadata": {},
   "source": [
    "Note that BioSTEAM only recognizes utility agents contained in `settings.cooling_agents` and `settings.heating_agents`. The order of utility agents dictates their priority. For example, BioSTEAM will attempt to use cooling water before chilled water because it is first in the list. Heating agents should be ordered from coolest to hottest and cooling agents should be ordered from hottest to coolest."
   ]
  },
  {
   "cell_type": "markdown",
   "metadata": {},
   "source": [
    "### Find design requirements and cost with Unit objects"
   ]
  },
  {
   "cell_type": "markdown",
   "metadata": {},
   "source": [
    "[Creating a Unit](./Creating_a_Unit.ipynb) can be flexible. But in summary, a [Unit](../API/Unit.txt) object is initialized with an ID, and unit-specific arguments. BioSTEAM includes [essential unit operations](../API/units/index.txt) with rigorous modeling and design algorithms. Here we create a [Flash](../API/units/Flash.txt) object as an example:"
   ]
  },
  {
   "cell_type": "code",
   "execution_count": 17,
   "metadata": {},
   "outputs": [
    {
     "name": "stdout",
     "output_type": "stream",
     "text": [
      "Flash: F1\n",
      "ins...\n",
      "[0] s1  \n",
      "    phase: 'l', T: 298.15 K, P: 101325 Pa\n",
      "    flow (kmol/hr): Water     50\n",
      "                    Methanol  20\n",
      "outs...\n",
      "[0] s2  \n",
      "    phase: 'l', T: 298.15 K, P: 101325 Pa\n",
      "    flow: 0\n",
      "[1] s3  \n",
      "    phase: 'l', T: 298.15 K, P: 101325 Pa\n",
      "    flow: 0\n"
     ]
    }
   ],
   "source": [
    "# Specify vapor fraction and isobaric conditions\n",
    "F1 = bst.Flash('F1', ins=feed, V=0.1, P=101325)\n",
    "F1.show()"
   ]
  },
  {
   "cell_type": "markdown",
   "metadata": {},
   "source": [
    "Note that the outlets, `outs`, is populated by empty streams."
   ]
  },
  {
   "cell_type": "markdown",
   "metadata": {},
   "source": [
    "To simulate the flash, use the `simulate` method:"
   ]
  },
  {
   "cell_type": "code",
   "execution_count": 18,
   "metadata": {
    "scrolled": true,
    "tags": [
     "nbval-ignore-output"
    ]
   },
   "outputs": [
    {
     "name": "stdout",
     "output_type": "stream",
     "text": [
      "Flash: F1\n",
      "ins...\n",
      "[0] s1  \n",
      "    phase: 'l', T: 298.15 K, P: 101325 Pa\n",
      "    flow (kmol/hr): Water     50\n",
      "                    Methanol  20\n",
      "outs...\n",
      "[0] s2  \n",
      "    phase: 'g', T: 352.84 K, P: 101325 Pa\n",
      "    flow (kmol/hr): Water     2.59\n",
      "                    Methanol  4.41\n",
      "[1] s3  \n",
      "    phase: 'l', T: 352.84 K, P: 101325 Pa\n",
      "    flow (kmol/hr): Water     47.4\n",
      "                    Methanol  15.6\n"
     ]
    }
   ],
   "source": [
    "F1.simulate()\n",
    "F1.show()"
   ]
  },
  {
   "cell_type": "markdown",
   "metadata": {},
   "source": [
    "You may get a \"CostWarning\" that notifies you whether purchase cost correlations are out of range for the given design. This is ok for the example, but its important to make sure that the process is well designed and cost correlations are suitable for the domain."
   ]
  },
  {
   "cell_type": "markdown",
   "metadata": {},
   "source": [
    "The `results` method returns simulation results:"
   ]
  },
  {
   "cell_type": "code",
   "execution_count": 19,
   "metadata": {
    "tags": [
     "nbval-skip"
    ]
   },
   "outputs": [
    {
     "data": {
      "text/html": [
       "<div>\n",
       "<style scoped>\n",
       "    .dataframe tbody tr th:only-of-type {\n",
       "        vertical-align: middle;\n",
       "    }\n",
       "\n",
       "    .dataframe tbody tr th {\n",
       "        vertical-align: top;\n",
       "    }\n",
       "\n",
       "    .dataframe thead th {\n",
       "        text-align: right;\n",
       "    }\n",
       "</style>\n",
       "<table border=\"1\" class=\"dataframe\">\n",
       "  <thead>\n",
       "    <tr style=\"text-align: right;\">\n",
       "      <th></th>\n",
       "      <th>Flash</th>\n",
       "      <th>Units</th>\n",
       "      <th>F1</th>\n",
       "    </tr>\n",
       "  </thead>\n",
       "  <tbody>\n",
       "    <tr>\n",
       "      <th rowspan=\"3\" valign=\"top\">Low pressure steam</th>\n",
       "      <th>Duty</th>\n",
       "      <td>kJ/hr</td>\n",
       "      <td>5.92e+05</td>\n",
       "    </tr>\n",
       "    <tr>\n",
       "      <th>Flow</th>\n",
       "      <td>kmol/hr</td>\n",
       "      <td>15.3</td>\n",
       "    </tr>\n",
       "    <tr>\n",
       "      <th>Cost</th>\n",
       "      <td>USD/hr</td>\n",
       "      <td>3.06</td>\n",
       "    </tr>\n",
       "    <tr>\n",
       "      <th rowspan=\"6\" valign=\"top\">Design</th>\n",
       "      <th>Vessel type</th>\n",
       "      <td></td>\n",
       "      <td>Horizontal</td>\n",
       "    </tr>\n",
       "    <tr>\n",
       "      <th>Length</th>\n",
       "      <td>ft</td>\n",
       "      <td>6.44</td>\n",
       "    </tr>\n",
       "    <tr>\n",
       "      <th>Diameter</th>\n",
       "      <td>ft</td>\n",
       "      <td>4</td>\n",
       "    </tr>\n",
       "    <tr>\n",
       "      <th>Weight</th>\n",
       "      <td>lb</td>\n",
       "      <td>1.38e+03</td>\n",
       "    </tr>\n",
       "    <tr>\n",
       "      <th>Wall thickness</th>\n",
       "      <td>in</td>\n",
       "      <td>0.312</td>\n",
       "    </tr>\n",
       "    <tr>\n",
       "      <th>Vessel material</th>\n",
       "      <td></td>\n",
       "      <td>Carbon steel</td>\n",
       "    </tr>\n",
       "    <tr>\n",
       "      <th rowspan=\"3\" valign=\"top\">Purchase cost</th>\n",
       "      <th>Horizontal pressure vessel</th>\n",
       "      <td>USD</td>\n",
       "      <td>1.12e+04</td>\n",
       "    </tr>\n",
       "    <tr>\n",
       "      <th>Platform and ladders</th>\n",
       "      <td>USD</td>\n",
       "      <td>3.21e+03</td>\n",
       "    </tr>\n",
       "    <tr>\n",
       "      <th>Heat exchanger - Double pipe</th>\n",
       "      <td>USD</td>\n",
       "      <td>4.3e+03</td>\n",
       "    </tr>\n",
       "    <tr>\n",
       "      <th>Total purchase cost</th>\n",
       "      <th></th>\n",
       "      <td>USD</td>\n",
       "      <td>1.87e+04</td>\n",
       "    </tr>\n",
       "    <tr>\n",
       "      <th>Utility cost</th>\n",
       "      <th></th>\n",
       "      <td>USD/hr</td>\n",
       "      <td>3.06</td>\n",
       "    </tr>\n",
       "  </tbody>\n",
       "</table>\n",
       "</div>"
      ],
      "text/plain": [
       "Flash                                               Units            F1\n",
       "Low pressure steam  Duty                            kJ/hr      5.92e+05\n",
       "                    Flow                          kmol/hr          15.3\n",
       "                    Cost                           USD/hr          3.06\n",
       "Design              Vessel type                              Horizontal\n",
       "                    Length                             ft          6.44\n",
       "                    Diameter                           ft             4\n",
       "                    Weight                             lb      1.38e+03\n",
       "                    Wall thickness                     in         0.312\n",
       "                    Vessel material                        Carbon steel\n",
       "Purchase cost       Horizontal pressure vessel        USD      1.12e+04\n",
       "                    Platform and ladders              USD      3.21e+03\n",
       "                    Heat exchanger - Double pipe      USD       4.3e+03\n",
       "Total purchase cost                                   USD      1.87e+04\n",
       "Utility cost                                       USD/hr          3.06"
      ]
     },
     "execution_count": 19,
     "metadata": {},
     "output_type": "execute_result"
    }
   ],
   "source": [
    "F1.results() # Default returns DataFrame object with units"
   ]
  },
  {
   "cell_type": "markdown",
   "metadata": {},
   "source": [
    "Unit operations also have useful properties for accessing streams and utility requirements:"
   ]
  },
  {
   "cell_type": "code",
   "execution_count": 20,
   "metadata": {
    "tags": [
     "nbval-skip"
    ]
   },
   "outputs": [
    {
     "data": {
      "text/plain": [
       "591521.4038213422"
      ]
     },
     "execution_count": 20,
     "metadata": {},
     "output_type": "execute_result"
    }
   ],
   "source": [
    "F1.net_duty # Duty with heat transfer losses [kJ / hr]"
   ]
  },
  {
   "cell_type": "code",
   "execution_count": 21,
   "metadata": {
    "tags": [
     "nbval-skip"
    ]
   },
   "outputs": [
    {
     "data": {
      "text/plain": [
       "0.0"
      ]
     },
     "execution_count": 21,
     "metadata": {},
     "output_type": "execute_result"
    }
   ],
   "source": [
    "F1.net_power # Electricity consumption [kW]"
   ]
  },
  {
   "cell_type": "code",
   "execution_count": 22,
   "metadata": {
    "tags": [
     "nbval-skip"
    ]
   },
   "outputs": [
    {
     "data": {
      "text/plain": [
       "[<Stream: s1>, <Stream: s2>, <Stream: s3>]"
      ]
     },
     "execution_count": 22,
     "metadata": {},
     "output_type": "execute_result"
    }
   ],
   "source": [
    "[F1.feed, F1.vapor, F1.liquid] # Inlet feed and vapor and liquid outlets"
   ]
  },
  {
   "cell_type": "markdown",
   "metadata": {},
   "source": [
    "Although BioSTEAM includes a large set of essential unit operations, many process specific unit operations are not yet available. In this case, you can create new [Unit subclasses](./Inheriting_from_Unit.ipynb) to model unit operations not yet available in BioSTEAM."
   ]
  },
  {
   "cell_type": "markdown",
   "metadata": {},
   "source": [
    "### Solve recycle loops and process specifications with System objects"
   ]
  },
  {
   "cell_type": "markdown",
   "metadata": {},
   "source": [
    "Designing a chemical process is no easy task. A simple recycle process consisting of a flash with a partial liquid recycle is presented here:"
   ]
  },
  {
   "cell_type": "code",
   "execution_count": 23,
   "metadata": {
    "scrolled": true
   },
   "outputs": [],
   "source": [
    "recycle = bst.Stream('liquid_recycle')\n",
    "feed = bst.Stream('feed', Methanol=100, Water=450)\n",
    "M1 = bst.Mixer('M1', ins=(recycle, feed))\n",
    "F1 = bst.Flash('F1',\n",
    "    ins=M1-0, # -pipe- notation equivalent to M1.outs[0]\n",
    "    outs=('vapor_product', 'liquid'),\n",
    "    V=0.1, P=101325\n",
    ")\n",
    "S1 = bst.Splitter('S1',\n",
    "    ins=F1-1, # -pipe- notation equivalent to F1.outs[1]\n",
    "    outs=(recycle, 'liquid_product'),\n",
    "    split=0.5 # Split to 0th output stream\n",
    ")"
   ]
  },
  {
   "cell_type": "markdown",
   "metadata": {},
   "source": [
    "Note that [-pipe- notation](./-pipe-_notation.ipynb) was used to retrieve streams and connect units."
   ]
  },
  {
   "cell_type": "markdown",
   "metadata": {},
   "source": [
    "You can [find unit operations and manage flowsheets](./Managing_flowsheets.ipynb) with the `main_flowsheet`:"
   ]
  },
  {
   "cell_type": "code",
   "execution_count": 24,
   "metadata": {
    "tags": [
     "nbval-ignore-output"
    ]
   },
   "outputs": [
    {
     "data": {
      "text/html": [
       "\n",
       "        <iframe\n",
       "            width=\"100%\"\n",
       "            height=\"400px\"\n",
       "            src=\"data:text/html;charset=utf-8,%3C%21DOCTYPE%20html%3E%3Chtml%3E%3Chead%3E%3Clink%20rel%3D%22stylesheet%22%20href%3D%22https%3A//unpkg.com/tippy.js%406.3.7/themes/translucent.css%22%3E%3Clink%20rel%3D%22stylesheet%22%20href%3D%22https%3A//rawcdn.githack.com/BioSTEAMDevelopmentGroup/biosteam/e065aca079c216d72b75949bbcbb74a3bbddb75d/biosteam/digraph/digraph.css%22%3E%3Cscript%20src%3D%22https%3A//unpkg.com/%40popperjs/core%402%22%3E%3C/script%3E%3Cscript%20src%3D%22https%3A//unpkg.com/tippy.js%406%22%3E%3C/script%3E%3Cscript%20src%3D%22https%3A//rawcdn.githack.com/BioSTEAMDevelopmentGroup/biosteam/e065aca079c216d72b75949bbcbb74a3bbddb75d/biosteam/digraph/digraph.js%22%3E%3C/script%3E%3C/head%3E%3Cbody%3E%3Csvg%20width%3D%22553pt%22%20height%3D%22171pt%22%20viewBox%3D%220.00%200.00%20553.43%20170.58%22%3E%0A%3Cg%20id%3D%22graph0%22%20class%3D%22graph%22%20transform%3D%22scale%281%201%29%20rotate%280%29%20translate%284%20166.58%29%22%3E%0A%3Cpolygon%20fill%3D%22%23ffffff%22%20fill-opacity%3D%220.666667%22%20stroke%3D%22none%22%20points%3D%22-4%2C4%20-4%2C-166.58%20549.43%2C-166.58%20549.43%2C4%20-4%2C4%22%3E%3C/polygon%3E%0A%0A%3Cg%20id%3D%22edge2%22%20class%3D%22edge%22%20data-tippy-content%3D%22%28empty%29%22%3E%0A%3Cpath%20fill%3D%22none%22%20stroke%3D%22%234e4e4e%22%20stroke-dasharray%3D%225%2C2%22%20d%3D%22M200.51%2C-57.98C217.82%2C-57.98%20233.29%2C-67.59%20245.78%2C-79.42%22%3E%3C/path%3E%0A%3Cpolygon%20fill%3D%22%234e4e4e%22%20stroke%3D%22%234e4e4e%22%20points%3D%22243.03%2C-81.61%20252.5%2C-86.35%20248.05%2C-76.74%20243.03%2C-81.61%22%3E%3C/polygon%3E%0A%3Cg%20id%3D%22a_edge2-label%22%3E%3Ca%20title%3D%22%28empty%29%22%3E%0A%3Ctext%20text-anchor%3D%22middle%22%20x%3D%22218.26%22%20y%3D%22-67.18%22%20font-family%3D%22Arial%22%20font-size%3D%2214.00%22%20fill%3D%22%234e4e4e%22%3E%20s4%3C/text%3E%0A%3C/a%3E%0A%3C/g%3E%0A%3C/g%3E%0A%0A%3Cg%20id%3D%22edge4%22%20class%3D%22edge%22%20data-tippy-content%3D%22%28empty%29%22%3E%0A%3Cpath%20fill%3D%22none%22%20stroke%3D%22%234e4e4e%22%20stroke-dasharray%3D%225%2C2%22%20d%3D%22M279.14%2C-82.38C279.14%2C-42.19%20322.51%2C-55.09%20363.54%2C-57.6%22%3E%3C/path%3E%0A%3Cpolygon%20fill%3D%22%234e4e4e%22%20stroke%3D%22%234e4e4e%22%20points%3D%22363.39%2C-61.1%20373.5%2C-57.93%20363.62%2C-54.1%20363.39%2C-61.1%22%3E%3C/polygon%3E%0A%3Cg%20id%3D%22a_edge4-label%22%3E%3Ca%20title%3D%22%28empty%29%22%3E%0A%3Ctext%20text-anchor%3D%22middle%22%20x%3D%22348.64%22%20y%3D%22-61.18%22%20font-family%3D%22Arial%22%20font-size%3D%2214.00%22%20fill%3D%22%234e4e4e%22%3E%20liquid%3C/text%3E%0A%3C/a%3E%0A%3C/g%3E%0A%3C/g%3E%0A%0A%3Cg%20id%3D%22edge1%22%20class%3D%22edge%22%20data-tippy-content%3D%22%28empty%29%22%3E%0A%3Cpath%20fill%3D%22none%22%20stroke%3D%22%234e4e4e%22%20stroke-dasharray%3D%225%2C2%22%20d%3D%22M386.5%2C-52.33C379.91%2C-51.85%20373.34%2C-51.4%20367.01%2C-50.98%20308.91%2C-47.15%20294.19%2C-45.85%20236.01%2C-48.48%20224.78%2C-48.99%20212.9%2C-49.8%20201.32%2C-50.74%22%3E%3C/path%3E%0A%3Cpolygon%20fill%3D%22%234e4e4e%22%20stroke%3D%22%234e4e4e%22%20points%3D%22201.05%2C-47.25%20191.39%2C-51.59%20201.65%2C-54.23%20201.05%2C-47.25%22%3E%3C/polygon%3E%0A%3Cg%20id%3D%22a_edge1-label%22%3E%3Ca%20title%3D%22%28empty%29%22%3E%0A%3Ctext%20text-anchor%3D%22middle%22%20x%3D%22279.14%22%20y%3D%22-52.18%22%20font-family%3D%22Arial%22%20font-size%3D%2214.00%22%20fill%3D%22%234e4e4e%22%3E%20liquid%20recycle%3C/text%3E%0A%3C/a%3E%0A%3C/g%3E%0A%3C/g%3E%0A%0A%3Cg%20id%3D%22edge3%22%20class%3D%22edge%22%20data-tippy-content%3D%22Temperature%3A%20298.15%20K%3Cbr%26gt%3BPressure%3A%20101325%20Pa%3Cbr%26gt%3BLiquid%20flow%3A%20550%20kmol/hr%22%3E%0A%3Cpath%20fill%3D%22none%22%20stroke%3D%22%234e4e4e%22%20d%3D%22M10.8%2C-57.98C39.05%2C-57.98%2071.1%2C-57.98%2094.72%2C-57.98%22%3E%3C/path%3E%0A%3Cg%20id%3D%22a_edge3-label%22%3E%3Ca%20title%3D%22%20Temperature%3A%20298.15%20K%3Cbr%26gt%3BPressure%3A%20101325%20Pa%3Cbr%26gt%3BLiquid%20flow%3A%20550%20kmol/hr%22%3E%0A%3Ctext%20text-anchor%3D%22middle%22%20x%3D%2235.3%22%20y%3D%22-61.18%22%20font-family%3D%22Arial%22%20font-size%3D%2214.00%22%20fill%3D%22%234e4e4e%22%3E%20feed%3C/text%3E%0A%3C/a%3E%0A%3C/g%3E%0A%3C/g%3E%0A%0A%3Cg%20id%3D%22node1%22%20class%3D%22node%22%20data-tippy-content%3D%22No%20capital%20costs%20or%20utilities%22%3E%0A%3Cg%20id%3D%22a_node1%22%3E%3Ca%20title%3D%22%20No%20capital%20costs%20or%20utilities%22%3E%0A%3Cdefs%3E%0A%3ClinearGradient%20id%3D%22node1_l_0%22%20gradientUnits%3D%22userSpaceOnUse%22%20x1%3D%2294.98%22%20y1%3D%22-57.98%22%20x2%3D%22200.51%22%20y2%3D%22-57.98%22%3E%0A%3Cstop%20offset%3D%220%22%20style%3D%22stop-color%3A%23fcfcfc%3Bstop-opacity%3A1.%3B%22%3E%3C/stop%3E%0A%3Cstop%20offset%3D%221%22%20style%3D%22stop-color%3A%23e6e6e6%3Bstop-opacity%3A1.%3B%22%3E%3C/stop%3E%0A%3C/linearGradient%3E%0A%3C/defs%3E%0A%3Cpolygon%20fill%3D%22url%28%23node1_l_0%29%22%20stroke%3D%22%234e4e4e%22%20points%3D%22200.51%2C-57.98%2094.98%2C-115.97%2094.98%2C0%20200.51%2C-57.98%22%3E%3C/polygon%3E%0A%3Ctext%20text-anchor%3D%22middle%22%20x%3D%22130.16%22%20y%3D%22-61.18%22%20font-family%3D%22Arial%22%20font-size%3D%2214.00%22%3EM1%3C/text%3E%0A%3Ctext%20text-anchor%3D%22middle%22%20x%3D%22130.16%22%20y%3D%22-44.68%22%20font-family%3D%22Arial%22%20font-size%3D%2214.00%22%3EMixer%3C/text%3E%0A%3C/a%3E%0A%3C/g%3E%0A%3C/g%3E%0A%0A%3Cg%20id%3D%22node2%22%20class%3D%22node%22%20data-tippy-content%3D%22No%20capital%20costs%20or%20utilities%22%3E%0A%3Cg%20id%3D%22a_node2%22%3E%3Ca%20title%3D%22%20No%20capital%20costs%20or%20utilities%22%3E%0A%3Cdefs%3E%0A%3ClinearGradient%20id%3D%22node2_l_1%22%20gradientUnits%3D%22userSpaceOnUse%22%20x1%3D%22253.89%22%20y1%3D%22-122.98%22%20x2%3D%22304.39%22%20y2%3D%22-122.98%22%3E%0A%3Cstop%20offset%3D%220%22%20style%3D%22stop-color%3A%23fcfcfc%3Bstop-opacity%3A1.%3B%22%3E%3C/stop%3E%0A%3Cstop%20offset%3D%221%22%20style%3D%22stop-color%3A%23e6e6e6%3Bstop-opacity%3A1.%3B%22%3E%3C/stop%3E%0A%3C/linearGradient%3E%0A%3C/defs%3E%0A%3Cpolygon%20fill%3D%22url%28%23node2_l_1%29%22%20stroke%3D%22%234e4e4e%22%20points%3D%22304.39%2C-162.58%20253.89%2C-162.58%20253.89%2C-83.38%20304.39%2C-83.38%20304.39%2C-162.58%22%3E%3C/polygon%3E%0A%3Ctext%20text-anchor%3D%22middle%22%20x%3D%22279.14%22%20y%3D%22-126.18%22%20font-family%3D%22Arial%22%20font-size%3D%2214.00%22%3EF1%3C/text%3E%0A%3Ctext%20text-anchor%3D%22middle%22%20x%3D%22279.14%22%20y%3D%22-109.68%22%20font-family%3D%22Arial%22%20font-size%3D%2214.00%22%3EFlash%3C/text%3E%0A%3C/a%3E%0A%3C/g%3E%0A%3C/g%3E%0A%0A%3Cg%20id%3D%22node3%22%20class%3D%22node%22%20data-tippy-content%3D%22No%20capital%20costs%20or%20utilities%22%3E%0A%3Cg%20id%3D%22a_node3%22%3E%3Ca%20title%3D%22%20No%20capital%20costs%20or%20utilities%22%3E%0A%3Cdefs%3E%0A%3ClinearGradient%20id%3D%22node3_l_2%22%20gradientUnits%3D%22userSpaceOnUse%22%20x1%3D%22375.01%22%20y1%3D%22-57.98%22%20x2%3D%22502.82%22%20y2%3D%22-57.98%22%3E%0A%3Cstop%20offset%3D%220%22%20style%3D%22stop-color%3A%23fcfcfc%3Bstop-opacity%3A1.%3B%22%3E%3C/stop%3E%0A%3Cstop%20offset%3D%221%22%20style%3D%22stop-color%3A%23e6e6e6%3Bstop-opacity%3A1.%3B%22%3E%3C/stop%3E%0A%3C/linearGradient%3E%0A%3C/defs%3E%0A%3Cpolygon%20fill%3D%22url%28%23node3_l_2%29%22%20stroke%3D%22%234e4e4e%22%20points%3D%22375.01%2C-57.98%20502.82%2C0%20502.82%2C-115.97%20375.01%2C-57.98%22%3E%3C/polygon%3E%0A%3Ctext%20text-anchor%3D%22middle%22%20x%3D%22460.22%22%20y%3D%22-61.18%22%20font-family%3D%22Arial%22%20font-size%3D%2214.00%22%3ES1%3C/text%3E%0A%3Ctext%20text-anchor%3D%22middle%22%20x%3D%22460.22%22%20y%3D%22-44.68%22%20font-family%3D%22Arial%22%20font-size%3D%2214.00%22%3ESplitter%3C/text%3E%0A%3C/a%3E%0A%3C/g%3E%0A%3C/g%3E%0A%0A%3Cg%20id%3D%22node4%22%20class%3D%22node%22%20data-tippy-content%3D%22132986300981%22%3E%0A%3Cpolygon%20fill%3D%22%23f98f60%22%20stroke%3D%22%234e4e4e%22%20points%3D%225.4%2C-63.38%200%2C-57.98%205.4%2C-52.58%2010.8%2C-57.98%205.4%2C-63.38%22%3E%3C/polygon%3E%0A%3C/g%3E%0A%3C/g%3E%0A%3C/svg%3E%3C/body%3E%3C/html%3E\"\n",
       "            frameborder=\"0\"\n",
       "            allowfullscreen\n",
       "            allowtransparency=\"true\"\n",
       "        ></iframe>\n",
       "        "
      ],
      "text/plain": [
       "<IPython.lib.display.IFrame at 0x1ef699c24e0>"
      ]
     },
     "metadata": {},
     "output_type": "display_data"
    }
   ],
   "source": [
    "bst.main_flowsheet.diagram()\n",
    "# Note that empty streams are dashed and the \n",
    "# width of streams depend on their flow rates (by mass)"
   ]
  },
  {
   "cell_type": "markdown",
   "metadata": {},
   "source": [
    "[System](../API/System.txt) objects take care of solving recycle loops and simulating all unit operations.\n",
    "Although there are many ways of [creating a system](./Creating_a_System.ipynb), the most recommended way is to use the flowsheet:"
   ]
  },
  {
   "cell_type": "code",
   "execution_count": 25,
   "metadata": {},
   "outputs": [
    {
     "name": "stdout",
     "output_type": "stream",
     "text": [
      "System: sys\n",
      "ins...\n",
      "[0] feed  \n",
      "    phase: 'l', T: 298.15 K, P: 101325 Pa\n",
      "    flow (kmol/hr): Water     450\n",
      "                    Methanol  100\n",
      "outs...\n",
      "[0] vapor_product  \n",
      "    phase: 'l', T: 298.15 K, P: 101325 Pa\n",
      "    flow: 0\n",
      "[1] liquid_product  \n",
      "    phase: 'l', T: 298.15 K, P: 101325 Pa\n",
      "    flow: 0\n"
     ]
    }
   ],
   "source": [
    "sys = bst.main_flowsheet.create_system('sys')\n",
    "sys.show()"
   ]
  },
  {
   "cell_type": "markdown",
   "metadata": {},
   "source": [
    "Simulate the System object:"
   ]
  },
  {
   "cell_type": "code",
   "execution_count": 26,
   "metadata": {
    "scrolled": true,
    "tags": [
     "nbval-ignore-output"
    ]
   },
   "outputs": [
    {
     "name": "stdout",
     "output_type": "stream",
     "text": [
      "System: sys\n",
      "Highest convergence error among components in recycle\n",
      "stream S1-0 after 4 loops:\n",
      "- flow rate   3.12e-01 kmol/hr (0.57%)\n",
      "- temperature 3.56e-02 K (0.0099%)\n",
      "ins...\n",
      "[0] feed  \n",
      "    phase: 'l', T: 298.15 K, P: 101325 Pa\n",
      "    flow (kmol/hr): Water     450\n",
      "                    Methanol  100\n",
      "outs...\n",
      "[0] vapor_product  \n",
      "    phase: 'g', T: 359.26 K, P: 101325 Pa\n",
      "    flow (kmol/hr): Water     53.4\n",
      "                    Methanol  46.7\n",
      "[1] liquid_product  \n",
      "    phase: 'l', T: 359.26 K, P: 101325 Pa\n",
      "    flow (kmol/hr): Water     397\n",
      "                    Methanol  53.6\n"
     ]
    }
   ],
   "source": [
    "sys.simulate()\n",
    "sys.show()"
   ]
  },
  {
   "cell_type": "markdown",
   "metadata": {},
   "source": [
    "Note how the recycle stream converged and all unit operations (including the flash vessel) were simulated. Let's have a look at  system-level results:"
   ]
  },
  {
   "cell_type": "code",
   "execution_count": 27,
   "metadata": {
    "tags": [
     "nbval-ignore-output"
    ]
   },
   "outputs": [
    {
     "data": {
      "text/html": [
       "<div>\n",
       "<style scoped>\n",
       "    .dataframe tbody tr th:only-of-type {\n",
       "        vertical-align: middle;\n",
       "    }\n",
       "\n",
       "    .dataframe tbody tr th {\n",
       "        vertical-align: top;\n",
       "    }\n",
       "\n",
       "    .dataframe thead th {\n",
       "        text-align: right;\n",
       "    }\n",
       "</style>\n",
       "<table border=\"1\" class=\"dataframe\">\n",
       "  <thead>\n",
       "    <tr style=\"text-align: right;\">\n",
       "      <th></th>\n",
       "      <th>System</th>\n",
       "      <th>Units</th>\n",
       "      <th>sys</th>\n",
       "    </tr>\n",
       "  </thead>\n",
       "  <tbody>\n",
       "    <tr>\n",
       "      <th rowspan=\"3\" valign=\"top\">Low pressure steam</th>\n",
       "      <th>Duty</th>\n",
       "      <td>kJ/hr</td>\n",
       "      <td>6.76e+06</td>\n",
       "    </tr>\n",
       "    <tr>\n",
       "      <th>Flow</th>\n",
       "      <td>kmol/hr</td>\n",
       "      <td>175</td>\n",
       "    </tr>\n",
       "    <tr>\n",
       "      <th>Cost</th>\n",
       "      <td>USD/hr</td>\n",
       "      <td>34.9</td>\n",
       "    </tr>\n",
       "    <tr>\n",
       "      <th>Total purchase cost</th>\n",
       "      <th></th>\n",
       "      <td>USD</td>\n",
       "      <td>3.87e+04</td>\n",
       "    </tr>\n",
       "    <tr>\n",
       "      <th>Installed equipment cost</th>\n",
       "      <th></th>\n",
       "      <td>USD</td>\n",
       "      <td>1.15e+05</td>\n",
       "    </tr>\n",
       "    <tr>\n",
       "      <th>Utility cost</th>\n",
       "      <th></th>\n",
       "      <td>USD/hr</td>\n",
       "      <td>34.9</td>\n",
       "    </tr>\n",
       "    <tr>\n",
       "      <th>Material cost</th>\n",
       "      <th></th>\n",
       "      <td>USD/hr</td>\n",
       "      <td>0</td>\n",
       "    </tr>\n",
       "    <tr>\n",
       "      <th>Sales</th>\n",
       "      <th></th>\n",
       "      <td>USD/hr</td>\n",
       "      <td>0</td>\n",
       "    </tr>\n",
       "  </tbody>\n",
       "</table>\n",
       "</div>"
      ],
      "text/plain": [
       "System                           Units      sys\n",
       "Low pressure steam       Duty    kJ/hr 6.76e+06\n",
       "                         Flow  kmol/hr      175\n",
       "                         Cost   USD/hr     34.9\n",
       "Total purchase cost                USD 3.87e+04\n",
       "Installed equipment cost           USD 1.15e+05\n",
       "Utility cost                    USD/hr     34.9\n",
       "Material cost                   USD/hr        0\n",
       "Sales                           USD/hr        0"
      ]
     },
     "execution_count": 27,
     "metadata": {},
     "output_type": "execute_result"
    }
   ],
   "source": [
    "sys.results()"
   ]
  },
  {
   "cell_type": "markdown",
   "metadata": {},
   "source": [
    "Once your system has been simulated, you can save a system report to view detailed results in an excel spreadsheet:"
   ]
  },
  {
   "cell_type": "code",
   "execution_count": 28,
   "metadata": {},
   "outputs": [],
   "source": [
    "# Try this on your computer and open excel\n",
    "# sys.save_report('Example.xlsx') "
   ]
  },
  {
   "cell_type": "markdown",
   "metadata": {},
   "source": [
    "Note that the cash flow analysis did not appear in the report because it requires a [TEA](../API/TEA.txt) object with all the necessary parameters (e.g., depreciation schedule, plant lifetime, construction schedule) to perform the analysis. A [TEA](../API/TEA.txt) object may also solve for economic indicators such as internal rate of return, minimum product selling price (MPSP), and maximum feedstock purchase price (MFPP). [Techno-economic analysis](./Techno-economic_analysis.ipynb) is discussed in detail later in the tutorial due to the extensive nature of the cash flow analysis."
   ]
  }
 ],
 "metadata": {
  "celltoolbar": "Tags",
  "kernelspec": {
   "display_name": "Python 3 (ipykernel)",
   "language": "python",
   "name": "python3"
  },
  "language_info": {
   "codemirror_mode": {
    "name": "ipython",
    "version": 3
   },
   "file_extension": ".py",
   "mimetype": "text/x-python",
   "name": "python",
   "nbconvert_exporter": "python",
   "pygments_lexer": "ipython3",
   "version": "3.12.3"
  }
 },
 "nbformat": 4,
 "nbformat_minor": 4
}
