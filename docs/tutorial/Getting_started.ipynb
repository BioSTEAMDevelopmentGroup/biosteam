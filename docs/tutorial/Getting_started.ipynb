{
 "cells": [
  {
   "cell_type": "markdown",
   "metadata": {},
   "source": [
    "# Getting started"
   ]
  },
  {
   "cell_type": "markdown",
   "metadata": {},
   "source": [
    "### Initialize streams"
   ]
  },
  {
   "cell_type": "markdown",
   "metadata": {},
   "source": [
    "[Stream](../API/thermosteam/Stream.txt) objects define material flow rates along with its thermodynamic state. Before creating streams, a [Thermo](../API/thermosteam/Thermo.txt) property package must be defined. Alternatively, we can just pass chemical names and BioSTEAM will automatically create a property package based on ideal mixing rules and UNIFAC activity coefficients for phase equilibrium. More complex packages can be defined through Thermosteam, BioSTEAM's premier thermodynamic engine. Please visit [Thermosteam 101](./Thermosteam_101.ipynb) for details. In this example, a simple feed stream with a few common chemicals will be initialized:"
   ]
  },
  {
   "cell_type": "code",
   "execution_count": 1,
   "metadata": {},
   "outputs": [
    {
     "name": "stdout",
     "output_type": "stream",
     "text": [
      "Stream: s1\n",
      " phase: 'l', T: 298.15 K, P: 101325 Pa\n",
      " flow (kmol/hr): Water     50\n",
      "                 Methanol  20\n"
     ]
    }
   ],
   "source": [
    "import biosteam as bst\n",
    "from biosteam import settings\n",
    "bst.nbtutorial() # Ignore warnings and reset local BioSTEAM preferences\n",
    "settings.set_thermo(['Water', 'Methanol'])\n",
    "feed = bst.Stream(Water=50, Methanol=20)\n",
    "feed.show()"
   ]
  },
  {
   "cell_type": "markdown",
   "metadata": {},
   "source": [
    "Set prices for performing techno-economic analysis later:"
   ]
  },
  {
   "cell_type": "code",
   "execution_count": 2,
   "metadata": {},
   "outputs": [
    {
     "data": {
      "text/plain": [
       "231.24018"
      ]
     },
     "execution_count": 2,
     "metadata": {},
     "output_type": "execute_result"
    }
   ],
   "source": [
    "feed.price = 0.15 # USD/kg\n",
    "feed.cost # USD/hr"
   ]
  },
  {
   "cell_type": "markdown",
   "metadata": {},
   "source": [
    "### Process settings"
   ]
  },
  {
   "cell_type": "markdown",
   "metadata": {},
   "source": [
    "[Process settings](../API/settings.txt) include price of feeds and products, conditions of utilities, and the chemical engineering plant cost index. These should be set before simulating a system."
   ]
  },
  {
   "cell_type": "markdown",
   "metadata": {},
   "source": [
    "Set the chemical engineering plant cost index:"
   ]
  },
  {
   "cell_type": "code",
   "execution_count": 3,
   "metadata": {},
   "outputs": [
    {
     "data": {
      "text/plain": [
       "567.5"
      ]
     },
     "execution_count": 3,
     "metadata": {},
     "output_type": "execute_result"
    }
   ],
   "source": [
    "settings.CEPCI # Default year is 2017"
   ]
  },
  {
   "cell_type": "code",
   "execution_count": 4,
   "metadata": {},
   "outputs": [],
   "source": [
    "settings.CEPCI = 603.1 # To year 2018"
   ]
  },
  {
   "cell_type": "markdown",
   "metadata": {},
   "source": [
    "Set [PowerUtility](../API/PowerUtility.txt) options:"
   ]
  },
  {
   "cell_type": "code",
   "execution_count": 5,
   "metadata": {},
   "outputs": [
    {
     "data": {
      "text/plain": [
       "0.0782"
      ]
     },
     "execution_count": 5,
     "metadata": {},
     "output_type": "execute_result"
    }
   ],
   "source": [
    "settings.electricity_price # Default price (USD/kWhr)"
   ]
  },
  {
   "cell_type": "code",
   "execution_count": 6,
   "metadata": {},
   "outputs": [],
   "source": [
    "settings.electricity_price = 0.065 # Adjust price"
   ]
  },
  {
   "cell_type": "markdown",
   "metadata": {},
   "source": [
    "Set [HeatUtility](../API/HeatUtility.txt) options via [UtilityAgent](../API/UtilityAgent.txt) objects, which are [Stream](../API/thermosteam/Stream.txt) objects with additional attributes to describe a utility agent:"
   ]
  },
  {
   "cell_type": "code",
   "execution_count": 7,
   "metadata": {},
   "outputs": [
    {
     "data": {
      "text/plain": [
       "[<UtilityAgent: cooling_water>,\n",
       " <UtilityAgent: chilled_water>,\n",
       " <UtilityAgent: chilled_brine>,\n",
       " <UtilityAgent: propane>]"
      ]
     },
     "execution_count": 7,
     "metadata": {},
     "output_type": "execute_result"
    }
   ],
   "source": [
    "settings.cooling_agents # All available cooling agents"
   ]
  },
  {
   "cell_type": "code",
   "execution_count": 8,
   "metadata": {},
   "outputs": [
    {
     "name": "stdout",
     "output_type": "stream",
     "text": [
      "UtilityAgent: cooling_water\n",
      " heat_transfer_efficiency: 1.000\n",
      " heat_transfer_price: 0 USD/kJ\n",
      " regeneration_price: 0.000488 USD/kmol\n",
      " T_limit: 325 K\n",
      " phase: 'l'\n",
      " T: 305.37 K\n",
      " P: 101325 Pa\n",
      " flow (kmol/hr): Water  1\n"
     ]
    }
   ],
   "source": [
    "cooling_water = settings.get_cooling_agent('cooling_water')\n",
    "cooling_water.show() # A UtilityAgent"
   ]
  },
  {
   "cell_type": "code",
   "execution_count": 9,
   "metadata": {},
   "outputs": [
    {
     "data": {
      "text/plain": [
       "0.00048785"
      ]
     },
     "execution_count": 9,
     "metadata": {},
     "output_type": "execute_result"
    }
   ],
   "source": [
    "# Price of regenerating the utility in USD/kmol\n",
    "cooling_water.regeneration_price"
   ]
  },
  {
   "cell_type": "code",
   "execution_count": 10,
   "metadata": {},
   "outputs": [
    {
     "data": {
      "text/plain": [
       "5e-06"
      ]
     },
     "execution_count": 10,
     "metadata": {},
     "output_type": "execute_result"
    }
   ],
   "source": [
    "# Other utilities may be priced for amount of heat transfered in USD/kJ\n",
    "chilled_water = settings.get_cooling_agent('chilled_water')\n",
    "chilled_water.heat_transfer_price"
   ]
  },
  {
   "cell_type": "code",
   "execution_count": 11,
   "metadata": {},
   "outputs": [],
   "source": [
    "cooling_water.T = 302 # Change the temperature of cooling water (K)"
   ]
  },
  {
   "cell_type": "code",
   "execution_count": 12,
   "metadata": {},
   "outputs": [
    {
     "data": {
      "text/plain": [
       "[<UtilityAgent: low_pressure_steam>,\n",
       " <UtilityAgent: medium_pressure_steam>,\n",
       " <UtilityAgent: high_pressure_steam>]"
      ]
     },
     "execution_count": 12,
     "metadata": {},
     "output_type": "execute_result"
    }
   ],
   "source": [
    "settings.heating_agents # All available heating agents"
   ]
  },
  {
   "cell_type": "code",
   "execution_count": 13,
   "metadata": {},
   "outputs": [
    {
     "name": "stdout",
     "output_type": "stream",
     "text": [
      "UtilityAgent: low_pressure_steam\n",
      " heat_transfer_efficiency: 0.950\n",
      " heat_transfer_price: 0 USD/kJ\n",
      " regeneration_price: 0.238 USD/kmol\n",
      " T_limit: None\n",
      " phase: 'g'\n",
      " T: 412.19 K\n",
      " P: 344738 Pa\n",
      " flow (kmol/hr): Water  1\n"
     ]
    }
   ],
   "source": [
    "lps = settings.get_heating_agent('low_pressure_steam') # A UtilityAgent\n",
    "lps.show() # Note that because utility changes phase, T_limit is None"
   ]
  },
  {
   "cell_type": "code",
   "execution_count": 14,
   "metadata": {},
   "outputs": [],
   "source": [
    "lps.regeneration_price = 0.20 # Adjust price (USD/kmol)"
   ]
  },
  {
   "cell_type": "markdown",
   "metadata": {},
   "source": [
    "### Find design requirements and cost with Unit objects"
   ]
  },
  {
   "cell_type": "markdown",
   "metadata": {},
   "source": [
    "[Creating a Unit](./Creating_a_Unit.ipynb) can be flexible. But in summary, a [Unit](../API/Unit.txt) object is initialized with an ID, and unit-specific arguments. BioSTEAM includes [essential unit operations](../API/units/index.txt) with rigorous modeling and design algorithms. Here we create a [Flash](../API/units/Flash.txt) object as an example:"
   ]
  },
  {
   "cell_type": "code",
   "execution_count": 15,
   "metadata": {},
   "outputs": [
    {
     "name": "stdout",
     "output_type": "stream",
     "text": [
      "Flash: F1\n",
      "ins...\n",
      "[0] missing stream\n",
      "outs...\n",
      "[0] s2\n",
      "    phase: 'l', T: 298.15 K, P: 101325 Pa\n",
      "    flow: 0\n",
      "[1] s3\n",
      "    phase: 'l', T: 298.15 K, P: 101325 Pa\n",
      "    flow: 0\n"
     ]
    }
   ],
   "source": [
    "from biosteam import units\n",
    "\n",
    "# Specify vapor fraction and isobaric conditions\n",
    "F1 = units.Flash('F1', V=0.1, P=101325)\n",
    "F1.show()"
   ]
  },
  {
   "cell_type": "markdown",
   "metadata": {},
   "source": [
    "Note that, by default, Missing Stream objects are given to inputs, `ins`, and empty streams to outputs, `outs`:"
   ]
  },
  {
   "cell_type": "code",
   "execution_count": 16,
   "metadata": {},
   "outputs": [
    {
     "data": {
      "text/plain": [
       "[<MissingStream>]"
      ]
     },
     "execution_count": 16,
     "metadata": {},
     "output_type": "execute_result"
    }
   ],
   "source": [
    "F1.ins"
   ]
  },
  {
   "cell_type": "code",
   "execution_count": 17,
   "metadata": {},
   "outputs": [
    {
     "data": {
      "text/plain": [
       "[<Stream: s2>, <Stream: s3>]"
      ]
     },
     "execution_count": 17,
     "metadata": {},
     "output_type": "execute_result"
    }
   ],
   "source": [
    "F1.outs"
   ]
  },
  {
   "cell_type": "markdown",
   "metadata": {},
   "source": [
    "You can connect streams by setting the `ins` and `outs`:"
   ]
  },
  {
   "cell_type": "code",
   "execution_count": 18,
   "metadata": {},
   "outputs": [
    {
     "name": "stdout",
     "output_type": "stream",
     "text": [
      "Flash: F1\n",
      "ins...\n",
      "[0] s1\n",
      "    phase: 'l', T: 298.15 K, P: 101325 Pa\n",
      "    flow (kmol/hr): Water     50\n",
      "                    Methanol  20\n",
      "outs...\n",
      "[0] s2\n",
      "    phase: 'l', T: 298.15 K, P: 101325 Pa\n",
      "    flow: 0\n",
      "[1] s3\n",
      "    phase: 'l', T: 298.15 K, P: 101325 Pa\n",
      "    flow: 0\n"
     ]
    }
   ],
   "source": [
    "F1.ins[0] = feed\n",
    "F1.show()"
   ]
  },
  {
   "cell_type": "markdown",
   "metadata": {},
   "source": [
    "To simulate the flash, use the `simulate` method:"
   ]
  },
  {
   "cell_type": "code",
   "execution_count": 19,
   "metadata": {
    "scrolled": true,
    "tags": [
     "nbval-ignore-output"
    ]
   },
   "outputs": [
    {
     "name": "stdout",
     "output_type": "stream",
     "text": [
      "Flash: F1\n",
      "ins...\n",
      "[0] s1\n",
      "    phase: 'l', T: 298.15 K, P: 101325 Pa\n",
      "    flow (kmol/hr): Water     50\n",
      "                    Methanol  20\n",
      "outs...\n",
      "[0] s2\n",
      "    phase: 'g', T: 352.87 K, P: 101325 Pa\n",
      "    flow (kmol/hr): Water     2.59\n",
      "                    Methanol  4.41\n",
      "[1] s3\n",
      "    phase: 'l', T: 352.87 K, P: 101325 Pa\n",
      "    flow (kmol/hr): Water     47.4\n",
      "                    Methanol  15.6\n"
     ]
    }
   ],
   "source": [
    "F1.simulate()\n",
    "F1.show()"
   ]
  },
  {
   "cell_type": "markdown",
   "metadata": {},
   "source": [
    "You may get a \"CostWarning\" that notifies you whether purchase cost correlations are out of range for the given design. This is ok for the example, but its important to make sure that the process is well designed and cost correlations are suitable for the domain."
   ]
  },
  {
   "cell_type": "markdown",
   "metadata": {},
   "source": [
    "The `results` method returns simulation results:"
   ]
  },
  {
   "cell_type": "code",
   "execution_count": 20,
   "metadata": {
    "tags": [
     "nbval-skip"
    ]
   },
   "outputs": [
    {
     "name": "stdout",
     "output_type": "stream",
     "text": [
      "Flash                                               Units            F1\n",
      "Low pressure steam  Duty                            kJ/hr      5.91e+05\n",
      "                    Flow                          kmol/hr          15.2\n",
      "                    Cost                           USD/hr          3.05\n",
      "Design              Vessel type                                Vertical\n",
      "                    Length                             ft          44.5\n",
      "                    Diameter                           ft           0.5\n",
      "                    Weight                             lb           718\n",
      "                    Wall thickness                     in          0.25\n",
      "                    Vessel material                        Carbon steel\n",
      "Purchase cost       Heat exchanger - Double pipe      USD       4.3e+03\n",
      "                    Vertical pressure vessel          USD      1.21e+04\n",
      "                    Platform and ladders              USD      3.85e+03\n",
      "Total purchase cost                                   USD      2.03e+04\n",
      "Utility cost                                       USD/hr          3.05\n"
     ]
    }
   ],
   "source": [
    "print(F1.results()) # Default returns DataFrame object with units"
   ]
  },
  {
   "cell_type": "markdown",
   "metadata": {},
   "source": [
    "Unit operations also have useful properties for accessing streams and utility requirements:"
   ]
  },
  {
   "cell_type": "code",
   "execution_count": 21,
   "metadata": {
    "tags": [
     "nbval-skip"
    ]
   },
   "outputs": [
    {
     "data": {
      "text/plain": [
       "591499.1453087364"
      ]
     },
     "execution_count": 21,
     "metadata": {},
     "output_type": "execute_result"
    }
   ],
   "source": [
    "F1.net_duty # Duty [kJ / hr]"
   ]
  },
  {
   "cell_type": "code",
   "execution_count": 22,
   "metadata": {
    "tags": [
     "nbval-skip"
    ]
   },
   "outputs": [
    {
     "data": {
      "text/plain": [
       "0.0"
      ]
     },
     "execution_count": 22,
     "metadata": {},
     "output_type": "execute_result"
    }
   ],
   "source": [
    "F1.net_power # Electricity consumption [kW]"
   ]
  },
  {
   "cell_type": "code",
   "execution_count": 23,
   "metadata": {
    "tags": [
     "nbval-skip"
    ]
   },
   "outputs": [
    {
     "data": {
      "text/plain": [
       "[<Stream: s1>, <Stream: s2>, <Stream: s3>]"
      ]
     },
     "execution_count": 23,
     "metadata": {},
     "output_type": "execute_result"
    }
   ],
   "source": [
    "[F1.feed, F1.vapor, F1.liquid] # Inlet feed and vapor and liquid outlets"
   ]
  },
  {
   "cell_type": "markdown",
   "metadata": {},
   "source": [
    "Although BioSTEAM includes a large set of essential unit operations, many process specific unit operations are not yet available. In this case, you can create new [Unit subclasses](./Inheriting_from_Unit.ipynb) to model unit operations not yet available in BioSTEAM."
   ]
  },
  {
   "cell_type": "markdown",
   "metadata": {},
   "source": [
    "### Solve recycle loops and process specifications with System objects"
   ]
  },
  {
   "cell_type": "markdown",
   "metadata": {},
   "source": [
    "Designing a chemical process is no easy task. A simple recycle process consisting of a flash with a partial liquid recycle is presented here."
   ]
  },
  {
   "cell_type": "markdown",
   "metadata": {},
   "source": [
    "Create a [Mixer](../API/units/mixing.txt) object and a [Splitter](../API/units/splitting.txt) object:"
   ]
  },
  {
   "cell_type": "code",
   "execution_count": 24,
   "metadata": {
    "scrolled": true
   },
   "outputs": [],
   "source": [
    "M1 = units.Mixer('M1')\n",
    "S1 = units.Splitter('S1', outs=('liquid_recycle', 'liquid_product'),\n",
    "                    split=0.5) # Split to 0th output stream\n",
    "F1.outs[0].ID = 'vapor_product'\n",
    "F1.outs[1].ID = 'liquid'"
   ]
  },
  {
   "cell_type": "markdown",
   "metadata": {},
   "source": [
    "You can [find unit operations and manage flowsheets](./Managing_flowsheets.ipynb) with the `main_flowsheet`:"
   ]
  },
  {
   "cell_type": "code",
   "execution_count": 25,
   "metadata": {
    "tags": [
     "nbval-ignore-output"
    ]
   },
   "outputs": [
    {
     "data": {
      "image/svg+xml": [
       "<svg xmlns=\"http://www.w3.org/2000/svg\" xmlns:xlink=\"http://www.w3.org/1999/xlink\" width=\"346pt\" height=\"413pt\" viewBox=\"0.00 0.00 345.53 413.37\">\n",
       "<g id=\"graph0\" class=\"graph\" transform=\"scale(1 1) rotate(0) translate(4 409.37)\">\n",
       "<!-- F1\n",
       "Flash&#45;&gt; vapor product -->\n",
       "<g id=\"edge6\" class=\"edge\">\n",
       "<title>F1\n",
       "Flash:n-&gt; vapor product:w</title>\n",
       "<path fill=\"none\" stroke=\"#90918e\" d=\"M133.27,-120.63C133.27,-142.27 306.39,-119.63 328.03,-119.63\"/>\n",
       "<g id=\"a_edge6-label\"><a xlink:title=\"Temperature: 353 K\n",
       "Pressure: 101325 Pa\n",
       "Gas flow: 7 kmol/hr\">\n",
       "<text text-anchor=\"middle\" x=\"273.03\" y=\"-131.43\" font-family=\"Arial\" font-size=\"14.00\" fill=\"#90918e\"> vapor product</text>\n",
       "</a>\n",
       "</g>\n",
       "</g>\n",
       "<!-- F1\n",
       "Flash&#45;&gt; liquid -->\n",
       "<g id=\"edge9\" class=\"edge\">\n",
       "<title>F1\n",
       "Flash:s-&gt; liquid:w</title>\n",
       "<path fill=\"none\" stroke=\"#90918e\" stroke-width=\"1.6\" d=\"M133.27,-38.63C133.27,47.94 241.47,-39.63 328.03,-39.63\"/>\n",
       "<g id=\"a_edge9-label\"><a xlink:title=\"Temperature: 353 K\n",
       "Pressure: 101325 Pa\n",
       "Liquid flow: 63 kmol/hr\">\n",
       "<text text-anchor=\"middle\" x=\"273.03\" y=\"-43.43\" font-family=\"Arial\" font-size=\"14.00\" fill=\"#90918e\"> liquid</text>\n",
       "</a>\n",
       "</g>\n",
       "</g>\n",
       "<!-- M1\n",
       "Mixer&#45;&gt; s4 -->\n",
       "<g id=\"edge3\" class=\"edge\">\n",
       "<title>M1\n",
       "Mixer:e-&gt; s4:w</title>\n",
       "<path fill=\"none\" stroke=\"#90918e\" stroke-dasharray=\"5,2\" d=\"M205.27,-208.63C259.83,-208.63 273.47,-208.63 328.03,-208.63\"/>\n",
       "<g id=\"a_edge3-label\"><a xlink:title=\"(empty)\">\n",
       "<text text-anchor=\"middle\" x=\"273.03\" y=\"-212.43\" font-family=\"Arial\" font-size=\"14.00\" fill=\"#90918e\"> s4</text>\n",
       "</a>\n",
       "</g>\n",
       "</g>\n",
       "<!-- S1\n",
       "Splitter&#45;&gt; liquid recycle -->\n",
       "<g id=\"edge5\" class=\"edge\">\n",
       "<title>S1\n",
       "Splitter:c-&gt; liquid recycle:w</title>\n",
       "<path fill=\"none\" stroke=\"#90918e\" stroke-dasharray=\"5,2\" d=\"M176.35,-361.26C215.43,-369.36 275.35,-379.63 328.03,-379.63\"/>\n",
       "<g id=\"a_edge5-label\"><a xlink:title=\"(empty)\">\n",
       "<text text-anchor=\"middle\" x=\"273.03\" y=\"-382.43\" font-family=\"Arial\" font-size=\"14.00\" fill=\"#90918e\"> liquid recycle</text>\n",
       "</a>\n",
       "</g>\n",
       "</g>\n",
       "<!-- S1\n",
       "Splitter&#45;&gt; liquid product -->\n",
       "<g id=\"edge8\" class=\"edge\">\n",
       "<title>S1\n",
       "Splitter:c-&gt; liquid product:w</title>\n",
       "<path fill=\"none\" stroke=\"#90918e\" stroke-dasharray=\"5,2\" d=\"M176.35,-341.99C215.43,-333.89 275.35,-323.63 328.03,-323.63\"/>\n",
       "<g id=\"a_edge8-label\"><a xlink:title=\"(empty)\">\n",
       "<text text-anchor=\"middle\" x=\"273.03\" y=\"-335.43\" font-family=\"Arial\" font-size=\"14.00\" fill=\"#90918e\"> liquid product</text>\n",
       "</a>\n",
       "</g>\n",
       "</g>\n",
       "<!--  s6&#45;&gt;S1\n",
       "Splitter -->\n",
       "<g id=\"edge1\" class=\"edge\">\n",
       "<title> s6:e-&gt;S1\n",
       "Splitter:w</title>\n",
       "<path fill=\"none\" stroke=\"#90918e\" stroke-dasharray=\"5,2\" d=\"M11,-351.63C27,-351.63 31,-351.63 47,-351.63\"/>\n",
       "<g id=\"a_edge1-label\"><a xlink:title=\"(empty)\">\n",
       "<text text-anchor=\"middle\" x=\"29\" y=\"-355.43\" font-family=\"Arial\" font-size=\"14.00\" fill=\"#90918e\"> s6</text>\n",
       "</a>\n",
       "</g>\n",
       "</g>\n",
       "<!--  s7&#45;&gt;M1\n",
       "Mixer -->\n",
       "<g id=\"edge2\" class=\"edge\">\n",
       "<title> s7:e-&gt;M1\n",
       "Mixer:c</title>\n",
       "<path fill=\"none\" stroke=\"#90918e\" stroke-dasharray=\"5,2\" d=\"M11,-236.63C40.82,-236.63 73.73,-228.49 97.73,-220.99\"/>\n",
       "<g id=\"a_edge2-label\"><a xlink:title=\"(empty)\">\n",
       "<text text-anchor=\"middle\" x=\"29\" y=\"-239.43\" font-family=\"Arial\" font-size=\"14.00\" fill=\"#90918e\"> s7</text>\n",
       "</a>\n",
       "</g>\n",
       "</g>\n",
       "<!--  s1&#45;&gt;F1\n",
       "Flash -->\n",
       "<g id=\"edge4\" class=\"edge\">\n",
       "<title> s1:e-&gt;F1\n",
       "Flash:c</title>\n",
       "<path fill=\"none\" stroke=\"#90918e\" stroke-width=\"2.2\" d=\"M11,-79.63C44.47,-79.63 83.15,-79.63 107.65,-79.63\"/>\n",
       "<g id=\"a_edge4-label\"><a xlink:title=\"Temperature: 298 K\n",
       "Pressure: 101325 Pa\n",
       "Liquid flow: 70 kmol/hr\">\n",
       "<text text-anchor=\"middle\" x=\"29\" y=\"-83.43\" font-family=\"Arial\" font-size=\"14.00\" fill=\"#90918e\"> s1</text>\n",
       "</a>\n",
       "</g>\n",
       "</g>\n",
       "<!--  s5&#45;&gt;M1\n",
       "Mixer -->\n",
       "<g id=\"edge7\" class=\"edge\">\n",
       "<title> s5:e-&gt;M1\n",
       "Mixer:c</title>\n",
       "<path fill=\"none\" stroke=\"#90918e\" stroke-dasharray=\"5,2\" d=\"M11,-180.63C40.82,-180.63 73.73,-188.76 97.73,-196.27\"/>\n",
       "<g id=\"a_edge7-label\"><a xlink:title=\"(empty)\">\n",
       "<text text-anchor=\"middle\" x=\"29\" y=\"-186.43\" font-family=\"Arial\" font-size=\"14.00\" fill=\"#90918e\"> s5</text>\n",
       "</a>\n",
       "</g>\n",
       "</g>\n",
       "<!-- F1\n",
       "Flash -->\n",
       "<g id=\"node1\" class=\"node\">\n",
       "<title>F1\n",
       "Flash</title>\n",
       "<g id=\"a_node1\"><a xlink:title=\"Heating duty: 591 MJ/hr\n",
       "Utility cost: 3.05 USD/hr\n",
       "Purchase cost: 20,258 USD\n",
       "Installed equipment cost: 60,524 USD\">\n",
       "<polygon fill=\"#555f69\" stroke=\"#90918e\" points=\"158.77,-119.13 107.77,-119.13 107.77,-40.13 158.77,-40.13 158.77,-119.13\"/>\n",
       "<text text-anchor=\"middle\" x=\"133.27\" y=\"-83.43\" font-family=\"Arial\" font-size=\"14.00\" fill=\"white\">F1</text>\n",
       "<text text-anchor=\"middle\" x=\"133.27\" y=\"-68.43\" font-family=\"Arial\" font-size=\"14.00\" fill=\"white\">Flash</text>\n",
       "</a>\n",
       "</g>\n",
       "</g>\n",
       "<!-- M1\n",
       "Mixer -->\n",
       "<g id=\"node2\" class=\"node\">\n",
       "<title>M1\n",
       "Mixer</title>\n",
       "<g id=\"a_node2\"><a xlink:title=\"No capital costs or utilities\">\n",
       "<polygon fill=\"#555f69\" stroke=\"#90918e\" points=\"204.19,-208.63 97.81,-262.61 97.81,-154.65 204.19,-208.63\"/>\n",
       "<text text-anchor=\"middle\" x=\"133.27\" y=\"-212.43\" font-family=\"Arial\" font-size=\"14.00\" fill=\"white\">M1</text>\n",
       "<text text-anchor=\"middle\" x=\"133.27\" y=\"-197.43\" font-family=\"Arial\" font-size=\"14.00\" fill=\"white\">Mixer</text>\n",
       "</a>\n",
       "</g>\n",
       "</g>\n",
       "<!-- S1\n",
       "Splitter -->\n",
       "<g id=\"node3\" class=\"node\">\n",
       "<title>S1\n",
       "Splitter</title>\n",
       "<g id=\"a_node3\"><a xlink:title=\"No capital costs or utilities\">\n",
       "<polygon fill=\"#555f69\" stroke=\"#90918e\" points=\"47.23,-351.63 176.28,-297.65 176.28,-405.61 47.23,-351.63\"/>\n",
       "<text text-anchor=\"middle\" x=\"133.27\" y=\"-355.43\" font-family=\"Arial\" font-size=\"14.00\" fill=\"white\">S1</text>\n",
       "<text text-anchor=\"middle\" x=\"133.27\" y=\"-340.43\" font-family=\"Arial\" font-size=\"14.00\" fill=\"white\">Splitter</text>\n",
       "</a>\n",
       "</g>\n",
       "</g>\n",
       "<!--  s6 -->\n",
       "<g id=\"node4\" class=\"node\">\n",
       "<title> s6</title>\n",
       "<polygon fill=\"#f98f60\" stroke=\"#90918e\" points=\"5.5,-357.13 0,-351.63 5.5,-346.13 11,-351.63 5.5,-357.13\"/>\n",
       "</g>\n",
       "<!--  s7 -->\n",
       "<g id=\"node5\" class=\"node\">\n",
       "<title> s7</title>\n",
       "<polygon fill=\"#f98f60\" stroke=\"#90918e\" points=\"5.5,-242.13 0,-236.63 5.5,-231.13 11,-236.63 5.5,-242.13\"/>\n",
       "</g>\n",
       "<!--  s4 -->\n",
       "<g id=\"node6\" class=\"node\">\n",
       "<title> s4</title>\n",
       "<polygon fill=\"#f98f60\" stroke=\"#90918e\" points=\"337.53,-208.63 329.28,-215.63 329.28,-201.63 337.53,-208.63\"/>\n",
       "</g>\n",
       "<!--  s1 -->\n",
       "<g id=\"node7\" class=\"node\">\n",
       "<title> s1</title>\n",
       "<polygon fill=\"#f98f60\" stroke=\"#90918e\" points=\"5.5,-85.13 0,-79.63 5.5,-74.13 11,-79.63 5.5,-85.13\"/>\n",
       "</g>\n",
       "<!--  liquid recycle -->\n",
       "<g id=\"node8\" class=\"node\">\n",
       "<title> liquid recycle</title>\n",
       "<polygon fill=\"#f98f60\" stroke=\"#90918e\" points=\"337.53,-379.63 329.28,-386.63 329.28,-372.63 337.53,-379.63\"/>\n",
       "</g>\n",
       "<!--  vapor product -->\n",
       "<g id=\"node9\" class=\"node\">\n",
       "<title> vapor product</title>\n",
       "<polygon fill=\"#f98f60\" stroke=\"#90918e\" points=\"337.53,-119.63 329.28,-126.63 329.28,-112.63 337.53,-119.63\"/>\n",
       "</g>\n",
       "<!--  s5 -->\n",
       "<g id=\"node10\" class=\"node\">\n",
       "<title> s5</title>\n",
       "<polygon fill=\"#f98f60\" stroke=\"#90918e\" points=\"5.5,-186.13 0,-180.63 5.5,-175.13 11,-180.63 5.5,-186.13\"/>\n",
       "</g>\n",
       "<!--  liquid product -->\n",
       "<g id=\"node11\" class=\"node\">\n",
       "<title> liquid product</title>\n",
       "<polygon fill=\"#f98f60\" stroke=\"#90918e\" points=\"337.53,-323.63 329.28,-330.63 329.28,-316.63 337.53,-323.63\"/>\n",
       "</g>\n",
       "<!--  liquid -->\n",
       "<g id=\"node12\" class=\"node\">\n",
       "<title> liquid</title>\n",
       "<polygon fill=\"#f98f60\" stroke=\"#90918e\" points=\"337.53,-39.63 329.28,-46.63 329.28,-32.63 337.53,-39.63\"/>\n",
       "</g>\n",
       "</g>\n",
       "</svg>"
      ],
      "text/plain": [
       "<IPython.core.display.SVG object>"
      ]
     },
     "metadata": {},
     "output_type": "display_data"
    }
   ],
   "source": [
    "bst.main_flowsheet.diagram()\n",
    "# Note that empty streams are dashed and the \n",
    "# width of streams depend on their flow rates (by mass)"
   ]
  },
  {
   "cell_type": "markdown",
   "metadata": {},
   "source": [
    "Connect streams and make a recycle loop using [-pipe- notation](./-pipe-_notation.ipynb):"
   ]
  },
  {
   "cell_type": "code",
   "execution_count": 26,
   "metadata": {},
   "outputs": [],
   "source": [
    "feed = bst.Stream('feed', Methanol=100, Water=450)\n",
    "\n",
    "# Broken down -pipe- notation\n",
    "[S1-0, feed]-M1     # M1.ins[:] = [S1.outs[0], feed]\n",
    "M1-F1               # F1.ins[:] = M1.outs\n",
    "F1-1-S1             # S1.ins[:] = [F1.outs[1]]\n",
    "\n",
    "# All together\n",
    "[S1-0, feed]-M1-F1-1-S1;"
   ]
  },
  {
   "cell_type": "markdown",
   "metadata": {},
   "source": [
    "Now lets check the diagram again:"
   ]
  },
  {
   "cell_type": "code",
   "execution_count": 27,
   "metadata": {
    "tags": [
     "nbval-ignore-output"
    ]
   },
   "outputs": [
    {
     "data": {
      "image/svg+xml": [
       "<svg xmlns=\"http://www.w3.org/2000/svg\" xmlns:xlink=\"http://www.w3.org/1999/xlink\" width=\"729pt\" height=\"236pt\" viewBox=\"0.00 0.00 728.96 235.74\">\n",
       "<g id=\"graph0\" class=\"graph\" transform=\"scale(1 1) rotate(0) translate(4 231.74)\">\n",
       "<!-- M1\n",
       "Mixer&#45;&gt;F1\n",
       "Flash -->\n",
       "<g id=\"edge3\" class=\"edge\">\n",
       "<title>M1\n",
       "Mixer:e-&gt;F1\n",
       "Flash:c</title>\n",
       "<path fill=\"none\" stroke=\"#90918e\" stroke-dasharray=\"5,2\" d=\"M202.42,-62.74C220.32,-62.74 236.33,-72.89 249.15,-85.16\"/>\n",
       "<polygon fill=\"#90918e\" stroke=\"#90918e\" points=\"246.85,-87.82 256.32,-92.58 251.88,-82.96 246.85,-87.82\"/>\n",
       "<g id=\"a_edge3-label\"><a xlink:title=\"(empty)\">\n",
       "<text text-anchor=\"middle\" x=\"220.42\" y=\"-75.54\" font-family=\"Arial\" font-size=\"14.00\" fill=\"#90918e\"> s4</text>\n",
       "</a>\n",
       "</g>\n",
       "</g>\n",
       "<!-- F1\n",
       "Flash&#45;&gt;S1\n",
       "Splitter -->\n",
       "<g id=\"edge6\" class=\"edge\">\n",
       "<title>F1\n",
       "Flash:s-&gt;S1\n",
       "Splitter:w</title>\n",
       "<path fill=\"none\" stroke=\"#90918e\" stroke-width=\"1.6\" d=\"M281.92,-86.74C281.92,-55.38 379.47,-53.78 422.18,-53.74\"/>\n",
       "<polygon fill=\"#90918e\" stroke=\"#90918e\" stroke-width=\"1.6\" points=\"422.42,-57.24 432.42,-53.74 422.42,-50.24 422.42,-57.24\"/>\n",
       "<g id=\"a_edge6-label\"><a xlink:title=\"Temperature: 353 K\n",
       "Pressure: 101325 Pa\n",
       "Liquid flow: 63 kmol/hr\">\n",
       "<text text-anchor=\"middle\" x=\"378.92\" y=\"-62.54\" font-family=\"Arial\" font-size=\"14.00\" fill=\"#90918e\"> liquid</text>\n",
       "</a>\n",
       "</g>\n",
       "</g>\n",
       "<!-- F1\n",
       "Flash&#45;&gt; vapor product -->\n",
       "<g id=\"edge2\" class=\"edge\">\n",
       "<title>F1\n",
       "Flash:n-&gt; vapor product:w</title>\n",
       "<path fill=\"none\" stroke=\"#90918e\" d=\"M281.92,-168.74C281.92,-272.19 411.24,-167.74 514.69,-167.74\"/>\n",
       "<g id=\"a_edge2-label\"><a xlink:title=\"Temperature: 353 K\n",
       "Pressure: 101325 Pa\n",
       "Gas flow: 7 kmol/hr\">\n",
       "<text text-anchor=\"middle\" x=\"378.92\" y=\"-216.54\" font-family=\"Arial\" font-size=\"14.00\" fill=\"#90918e\"> vapor product</text>\n",
       "</a>\n",
       "</g>\n",
       "</g>\n",
       "<!-- S1\n",
       "Splitter&#45;&gt;M1\n",
       "Mixer -->\n",
       "<g id=\"edge1\" class=\"edge\">\n",
       "<title>S1\n",
       "Splitter:c-&gt;M1\n",
       "Mixer:c</title>\n",
       "<path fill=\"none\" stroke=\"#90918e\" stroke-dasharray=\"5,2\" d=\"M437.06,-51.79C375.03,-50.89 287.22,-50.91 210.42,-55.74 207.57,-55.92 204.66,-56.12 201.72,-56.33\"/>\n",
       "<polygon fill=\"#90918e\" stroke=\"#90918e\" points=\"201.37,-52.84 191.66,-57.09 201.9,-59.82 201.37,-52.84\"/>\n",
       "<g id=\"a_edge1-label\"><a xlink:title=\"(empty)\">\n",
       "<text text-anchor=\"middle\" x=\"281.92\" y=\"-58.54\" font-family=\"Arial\" font-size=\"14.00\" fill=\"#90918e\"> liquid recycle</text>\n",
       "</a>\n",
       "</g>\n",
       "</g>\n",
       "<!-- S1\n",
       "Splitter&#45;&gt; liquid product -->\n",
       "<g id=\"edge5\" class=\"edge\">\n",
       "<title>S1\n",
       "Splitter:c-&gt; liquid product:w</title>\n",
       "<path fill=\"none\" stroke=\"#90918e\" stroke-dasharray=\"5,2\" d=\"M561.96,-53.74C600.82,-53.74 660.02,-53.74 711.46,-53.74\"/>\n",
       "<g id=\"a_edge5-label\"><a xlink:title=\"(empty)\">\n",
       "<text text-anchor=\"middle\" x=\"657.46\" y=\"-57.54\" font-family=\"Arial\" font-size=\"14.00\" fill=\"#90918e\"> liquid product</text>\n",
       "</a>\n",
       "</g>\n",
       "</g>\n",
       "<!--  feed&#45;&gt;M1\n",
       "Mixer -->\n",
       "<g id=\"edge4\" class=\"edge\">\n",
       "<title> feed:e-&gt;M1\n",
       "Mixer:c</title>\n",
       "<path fill=\"none\" stroke=\"#90918e\" stroke-width=\"2.2\" d=\"M11,-62.74C39.68,-62.74 72.23,-62.74 96.14,-62.74\"/>\n",
       "<g id=\"a_edge4-label\"><a xlink:title=\"Temperature: 298 K\n",
       "Pressure: 101325 Pa\n",
       "Liquid flow: 550 kmol/hr\">\n",
       "<text text-anchor=\"middle\" x=\"36\" y=\"-66.54\" font-family=\"Arial\" font-size=\"14.00\" fill=\"#90918e\"> feed</text>\n",
       "</a>\n",
       "</g>\n",
       "</g>\n",
       "<!-- M1\n",
       "Mixer -->\n",
       "<g id=\"node1\" class=\"node\">\n",
       "<title>M1\n",
       "Mixer</title>\n",
       "<g id=\"a_node1\"><a xlink:title=\"No capital costs or utilities\">\n",
       "<polygon fill=\"#555f69\" stroke=\"#90918e\" points=\"202.63,-62.74 96.25,-116.72 96.25,-8.76 202.63,-62.74\"/>\n",
       "<text text-anchor=\"middle\" x=\"131.71\" y=\"-66.54\" font-family=\"Arial\" font-size=\"14.00\" fill=\"white\">M1</text>\n",
       "<text text-anchor=\"middle\" x=\"131.71\" y=\"-51.54\" font-family=\"Arial\" font-size=\"14.00\" fill=\"white\">Mixer</text>\n",
       "</a>\n",
       "</g>\n",
       "</g>\n",
       "<!-- F1\n",
       "Flash -->\n",
       "<g id=\"node2\" class=\"node\">\n",
       "<title>F1\n",
       "Flash</title>\n",
       "<g id=\"a_node2\"><a xlink:title=\"Heating duty: 591 MJ/hr\n",
       "Utility cost: 3.05 USD/hr\n",
       "Purchase cost: 20,258 USD\n",
       "Installed equipment cost: 60,524 USD\">\n",
       "<polygon fill=\"#555f69\" stroke=\"#90918e\" points=\"307.42,-167.24 256.42,-167.24 256.42,-88.24 307.42,-88.24 307.42,-167.24\"/>\n",
       "<text text-anchor=\"middle\" x=\"281.92\" y=\"-131.54\" font-family=\"Arial\" font-size=\"14.00\" fill=\"white\">F1</text>\n",
       "<text text-anchor=\"middle\" x=\"281.92\" y=\"-116.54\" font-family=\"Arial\" font-size=\"14.00\" fill=\"white\">Flash</text>\n",
       "</a>\n",
       "</g>\n",
       "</g>\n",
       "<!-- S1\n",
       "Splitter -->\n",
       "<g id=\"node3\" class=\"node\">\n",
       "<title>S1\n",
       "Splitter</title>\n",
       "<g id=\"a_node3\"><a xlink:title=\"No capital costs or utilities\">\n",
       "<polygon fill=\"#555f69\" stroke=\"#90918e\" points=\"432.65,-53.74 561.71,0.24 561.71,-107.72 432.65,-53.74\"/>\n",
       "<text text-anchor=\"middle\" x=\"518.69\" y=\"-57.54\" font-family=\"Arial\" font-size=\"14.00\" fill=\"white\">S1</text>\n",
       "<text text-anchor=\"middle\" x=\"518.69\" y=\"-42.54\" font-family=\"Arial\" font-size=\"14.00\" fill=\"white\">Splitter</text>\n",
       "</a>\n",
       "</g>\n",
       "</g>\n",
       "<!--  vapor product -->\n",
       "<g id=\"node4\" class=\"node\">\n",
       "<title> vapor product</title>\n",
       "<polygon fill=\"#f98f60\" stroke=\"#90918e\" points=\"524.19,-167.74 515.94,-174.74 515.94,-160.74 524.19,-167.74\"/>\n",
       "</g>\n",
       "<!--  feed -->\n",
       "<g id=\"node5\" class=\"node\">\n",
       "<title> feed</title>\n",
       "<polygon fill=\"#f98f60\" stroke=\"#90918e\" points=\"5.5,-68.24 0,-62.74 5.5,-57.24 11,-62.74 5.5,-68.24\"/>\n",
       "</g>\n",
       "<!--  liquid product -->\n",
       "<g id=\"node6\" class=\"node\">\n",
       "<title> liquid product</title>\n",
       "<polygon fill=\"#f98f60\" stroke=\"#90918e\" points=\"720.96,-53.74 712.71,-60.74 712.71,-46.74 720.96,-53.74\"/>\n",
       "</g>\n",
       "</g>\n",
       "</svg>"
      ],
      "text/plain": [
       "<IPython.core.display.SVG object>"
      ]
     },
     "metadata": {},
     "output_type": "display_data"
    }
   ],
   "source": [
    "bst.main_flowsheet.diagram()"
   ]
  },
  {
   "cell_type": "markdown",
   "metadata": {},
   "source": [
    "[System](../API/System.txt) objects take care of solving recycle loops and simulating all unit operations.\n",
    "Although there are many ways of [creating a system](./Creating_a_System.ipynb), the most recommended way is to use the flowsheet:"
   ]
  },
  {
   "cell_type": "code",
   "execution_count": 28,
   "metadata": {},
   "outputs": [
    {
     "name": "stdout",
     "output_type": "stream",
     "text": [
      "System: flowsheet_sys\n",
      "ins...\n",
      "[0] feed\n",
      "    phase: 'l', T: 298.15 K, P: 101325 Pa\n",
      "    flow (kmol/hr): Water     450\n",
      "                    Methanol  100\n",
      "outs...\n",
      "[0] vapor_product\n",
      "    phase: 'g', T: 352.87 K, P: 101325 Pa\n",
      "    flow (kmol/hr): Water     2.59\n",
      "                    Methanol  4.41\n",
      "[1] liquid_product\n",
      "    phase: 'l', T: 298.15 K, P: 101325 Pa\n",
      "    flow: 0\n"
     ]
    }
   ],
   "source": [
    "flowsheet_sys = bst.main_flowsheet.create_system('flowsheet_sys')\n",
    "flowsheet_sys.show()"
   ]
  },
  {
   "cell_type": "markdown",
   "metadata": {},
   "source": [
    "Although not recommened due to the likelyhood of human error, a [System](../API/System.txt) object may also be created by specifying an ID, a `recycle` stream and a `path` of units to run element by element:"
   ]
  },
  {
   "cell_type": "code",
   "execution_count": 29,
   "metadata": {
    "scrolled": true
   },
   "outputs": [
    {
     "name": "stdout",
     "output_type": "stream",
     "text": [
      "System: sys\n",
      "ins...\n",
      "[0] feed\n",
      "    phase: 'l', T: 298.15 K, P: 101325 Pa\n",
      "    flow (kmol/hr): Water     450\n",
      "                    Methanol  100\n",
      "outs...\n",
      "[0] vapor_product\n",
      "    phase: 'g', T: 352.87 K, P: 101325 Pa\n",
      "    flow (kmol/hr): Water     2.59\n",
      "                    Methanol  4.41\n",
      "[1] liquid_product\n",
      "    phase: 'l', T: 298.15 K, P: 101325 Pa\n",
      "    flow: 0\n"
     ]
    }
   ],
   "source": [
    "sys = bst.System('sys', path=(M1, F1, S1), recycle=S1-0) # recycle=S1.outs[0]\n",
    "sys.show()"
   ]
  },
  {
   "cell_type": "markdown",
   "metadata": {},
   "source": [
    "Simulate the System object:"
   ]
  },
  {
   "cell_type": "code",
   "execution_count": 30,
   "metadata": {
    "scrolled": true,
    "tags": [
     "nbval-skip"
    ]
   },
   "outputs": [
    {
     "name": "stdout",
     "output_type": "stream",
     "text": [
      "System: sys\n",
      "Highest convergence error among components in recycle\n",
      "stream S1-0 after 4 loops:\n",
      "- flow rate   3.12e-01 kmol/hr (0.56%)\n",
      "- temperature 3.55e-02 K (0.0099%)\n",
      "ins...\n",
      "[0] feed\n",
      "    phase: 'l', T: 298.15 K, P: 101325 Pa\n",
      "    flow (kmol/hr): Water     450\n",
      "                    Methanol  100\n",
      "outs...\n",
      "[0] vapor_product\n",
      "    phase: 'g', T: 359.27 K, P: 101325 Pa\n",
      "    flow (kmol/hr): Water     53.5\n",
      "                    Methanol  46.6\n",
      "[1] liquid_product\n",
      "    phase: 'l', T: 359.27 K, P: 101325 Pa\n",
      "    flow (kmol/hr): Water     397\n",
      "                    Methanol  53.7\n"
     ]
    }
   ],
   "source": [
    "sys.simulate()\n",
    "sys.show()"
   ]
  },
  {
   "cell_type": "markdown",
   "metadata": {},
   "source": [
    "Note how the recycle stream converged and all unit operations (including the flash vessel) were simulated:"
   ]
  },
  {
   "cell_type": "code",
   "execution_count": 31,
   "metadata": {
    "tags": [
     "nbval-skip"
    ]
   },
   "outputs": [
    {
     "name": "stdout",
     "output_type": "stream",
     "text": [
      "Flash                                                 Units            F1\n",
      "Low pressure steam  Duty                              kJ/hr      6.76e+06\n",
      "                    Flow                            kmol/hr           174\n",
      "                    Cost                             USD/hr          34.8\n",
      "Design              Vessel type                                  Vertical\n",
      "                    Length                               ft          43.5\n",
      "                    Diameter                             ft           2.5\n",
      "                    Weight                               lb       3.6e+03\n",
      "                    Wall thickness                       in          0.25\n",
      "                    Vessel material                          Carbon steel\n",
      "Purchase cost       Heat exchanger - Double pipe        USD       4.3e+03\n",
      "                    Heat exchanger - Floating head      USD      2.29e+04\n",
      "                    Vertical pressure vessel            USD      2.81e+04\n",
      "                    Platform and ladders                USD      1.25e+04\n",
      "Total purchase cost                                     USD      6.78e+04\n",
      "Utility cost                                         USD/hr          34.8\n"
     ]
    }
   ],
   "source": [
    "print(F1.results())"
   ]
  },
  {
   "cell_type": "markdown",
   "metadata": {},
   "source": [
    "You can retrieve summarized power and heat utilities from the system as well:"
   ]
  },
  {
   "cell_type": "code",
   "execution_count": 32,
   "metadata": {},
   "outputs": [
    {
     "name": "stdout",
     "output_type": "stream",
     "text": [
      "PowerUtility:\n",
      " consumption: 0 kW\n",
      " production: 0 kW\n",
      " rate: 0 kW\n",
      " cost: 0 USD/hr\n"
     ]
    }
   ],
   "source": [
    "sys.power_utility.show()"
   ]
  },
  {
   "cell_type": "code",
   "execution_count": 33,
   "metadata": {
    "tags": [
     "nbval-skip"
    ]
   },
   "outputs": [
    {
     "name": "stdout",
     "output_type": "stream",
     "text": [
      "HeatUtility: low_pressure_steam\n",
      " duty: 6.76e+06 kJ/hr\n",
      " flow: 174 kmol/hr\n",
      " cost: 34.8 USD/hr\n"
     ]
    }
   ],
   "source": [
    "for i in sys.heat_utilities: i.show()"
   ]
  },
  {
   "cell_type": "markdown",
   "metadata": {},
   "source": [
    "Once your system has been simulated, you can save a system report to view all results in an excel spreadsheet:"
   ]
  },
  {
   "cell_type": "code",
   "execution_count": 34,
   "metadata": {},
   "outputs": [],
   "source": [
    "# Try this on your computer and open excel\n",
    "# sys.save_report('Example.xlsx') "
   ]
  },
  {
   "cell_type": "markdown",
   "metadata": {},
   "source": [
    "Note that the cash flow analysis did not appear in the report because it requires a [TEA](../API/TEA.txt) object with all the necessary parameters (e.g., depreciation schedule, plant lifetime, construction schedule) to perform the analysis. A [TEA](../API/TEA.txt) object may also solve for economic indicators such as internal rate of return, minimum product selling price (MPSP), and maximum feedstock purchase price (MFPP). [Techno-economic analysis](./Techno-economic_analysis.ipynb) is discussed in detail later in the tutorial due to the extensive nature of the cash flow analysis."
   ]
  }
 ],
 "metadata": {
  "celltoolbar": "Tags",
  "kernelspec": {
   "display_name": "Python 3 (ipykernel)",
   "language": "python",
   "name": "python3"
  },
  "language_info": {
   "codemirror_mode": {
    "name": "ipython",
    "version": 3
   },
   "file_extension": ".py",
   "mimetype": "text/x-python",
   "name": "python",
   "nbconvert_exporter": "python",
   "pygments_lexer": "ipython3",
   "version": "3.9.12"
  }
 },
 "nbformat": 4,
 "nbformat_minor": 2
}
