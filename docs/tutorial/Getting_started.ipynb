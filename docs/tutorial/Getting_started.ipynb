{
 "cells": [
  {
   "cell_type": "markdown",
   "metadata": {},
   "source": [
    "# Getting started"
   ]
  },
  {
   "cell_type": "markdown",
   "metadata": {},
   "source": [
    "### Initialize streams"
   ]
  },
  {
   "cell_type": "markdown",
   "metadata": {},
   "source": [
    "[Stream](../API/thermosteam/Stream.txt) objects define material flow rates along with its thermodynamic state. Before creating streams, a [Thermo](../API/thermosteam/Thermo.txt) property package must be defined. Alternatively, we can just pass chemical names and BioSTEAM will automatically create a property package based on ideal mixing rules and UNIFAC activity coefficients for phase equilibrium. More complex packages can be defined through Thermosteam, BioSTEAM's premier thermodynamic engine. Please visit [Thermosteam 101](./Thermosteam_101.ipynb) for details. In this example, a simple feed stream with a few common chemicals will be initialized:"
   ]
  },
  {
   "cell_type": "code",
   "execution_count": 1,
   "metadata": {},
   "outputs": [
    {
     "name": "stdout",
     "output_type": "stream",
     "text": [
      "Stream: s1\n",
      "phase: 'l', T: 298.15 K, P: 101325 Pa\n",
      "flow (kmol/hr): Water     50\n",
      "                Methanol  20\n"
     ]
    }
   ],
   "source": [
    "import biosteam as bst\n",
    "from biosteam import settings\n",
    "bst.nbtutorial() # Light-mode html diagrams and filter warnings\n",
    "settings.set_thermo(['Water', 'Methanol'])\n",
    "feed = bst.Stream(Water=50, Methanol=20)\n",
    "feed.show()"
   ]
  },
  {
   "cell_type": "markdown",
   "metadata": {},
   "source": [
    "Set prices for performing techno-economic analysis later:"
   ]
  },
  {
   "cell_type": "code",
   "execution_count": 2,
   "metadata": {},
   "outputs": [
    {
     "data": {
      "text/plain": [
       "231.24018"
      ]
     },
     "execution_count": 2,
     "metadata": {},
     "output_type": "execute_result"
    }
   ],
   "source": [
    "feed.price = 0.15 # USD/kg\n",
    "feed.cost # USD/hr"
   ]
  },
  {
   "cell_type": "markdown",
   "metadata": {},
   "source": [
    "### Process settings"
   ]
  },
  {
   "cell_type": "markdown",
   "metadata": {},
   "source": [
    "[Process settings](../API/settings.txt) include price of feeds and products, conditions of utilities, and the chemical engineering plant cost index. These should be set before simulating a system."
   ]
  },
  {
   "cell_type": "markdown",
   "metadata": {},
   "source": [
    "Set the chemical engineering plant cost index:"
   ]
  },
  {
   "cell_type": "code",
   "execution_count": 3,
   "metadata": {},
   "outputs": [
    {
     "data": {
      "text/plain": [
       "567.5"
      ]
     },
     "execution_count": 3,
     "metadata": {},
     "output_type": "execute_result"
    }
   ],
   "source": [
    "settings.CEPCI # Default year is 2017"
   ]
  },
  {
   "cell_type": "code",
   "execution_count": 4,
   "metadata": {},
   "outputs": [],
   "source": [
    "settings.CEPCI = 603.1 # To year 2018"
   ]
  },
  {
   "cell_type": "markdown",
   "metadata": {},
   "source": [
    "Set [PowerUtility](../API/PowerUtility.txt) options:"
   ]
  },
  {
   "cell_type": "code",
   "execution_count": 5,
   "metadata": {},
   "outputs": [
    {
     "data": {
      "text/plain": [
       "0.0782"
      ]
     },
     "execution_count": 5,
     "metadata": {},
     "output_type": "execute_result"
    }
   ],
   "source": [
    "settings.electricity_price # Default price (USD/kWhr)"
   ]
  },
  {
   "cell_type": "code",
   "execution_count": 6,
   "metadata": {},
   "outputs": [],
   "source": [
    "settings.electricity_price = 0.065 # Adjust price"
   ]
  },
  {
   "cell_type": "markdown",
   "metadata": {},
   "source": [
    "Set [HeatUtility](../API/HeatUtility.txt) options via [UtilityAgent](../API/UtilityAgent.txt) objects, which are [Stream](../API/thermosteam/Stream.txt) objects with additional attributes to describe a utility agent:"
   ]
  },
  {
   "cell_type": "code",
   "execution_count": 7,
   "metadata": {},
   "outputs": [
    {
     "data": {
      "text/plain": [
       "[<UtilityAgent: cooling_water>,\n",
       " <UtilityAgent: chilled_water>,\n",
       " <UtilityAgent: chilled_brine>,\n",
       " <UtilityAgent: propane>,\n",
       " <UtilityAgent: propylene>,\n",
       " <UtilityAgent: ethylene>]"
      ]
     },
     "execution_count": 7,
     "metadata": {},
     "output_type": "execute_result"
    }
   ],
   "source": [
    "settings.cooling_agents # All available cooling agents"
   ]
  },
  {
   "cell_type": "code",
   "execution_count": 8,
   "metadata": {},
   "outputs": [
    {
     "name": "stdout",
     "output_type": "stream",
     "text": [
      "UtilityAgent: cooling_water\n",
      "heat_transfer_efficiency: 1.000\n",
      "heat_transfer_price: 0 USD/kJ\n",
      "regeneration_price: 0.000488 USD/kmol\n",
      "T_limit: 325 K\n",
      "phase: 'l'\n",
      "T: 305.37 K\n",
      "P: 101325 Pa\n",
      "flow (kmol/hr): Water  1\n"
     ]
    }
   ],
   "source": [
    "cooling_water = settings.get_cooling_agent('cooling_water')\n",
    "cooling_water.show() # A UtilityAgent"
   ]
  },
  {
   "cell_type": "code",
   "execution_count": 9,
   "metadata": {},
   "outputs": [
    {
     "data": {
      "text/plain": [
       "0.00048785"
      ]
     },
     "execution_count": 9,
     "metadata": {},
     "output_type": "execute_result"
    }
   ],
   "source": [
    "# Price of regenerating the utility in USD/kmol\n",
    "cooling_water.regeneration_price"
   ]
  },
  {
   "cell_type": "code",
   "execution_count": 10,
   "metadata": {},
   "outputs": [
    {
     "data": {
      "text/plain": [
       "5e-06"
      ]
     },
     "execution_count": 10,
     "metadata": {},
     "output_type": "execute_result"
    }
   ],
   "source": [
    "# Other utilities may be priced for amount of heat transfered in USD/kJ\n",
    "chilled_water = settings.get_cooling_agent('chilled_water')\n",
    "chilled_water.heat_transfer_price"
   ]
  },
  {
   "cell_type": "code",
   "execution_count": 11,
   "metadata": {},
   "outputs": [],
   "source": [
    "cooling_water.T = 302 # Change the temperature of cooling water (K)"
   ]
  },
  {
   "cell_type": "code",
   "execution_count": 12,
   "metadata": {},
   "outputs": [
    {
     "data": {
      "text/plain": [
       "[<UtilityAgent: low_pressure_steam>,\n",
       " <UtilityAgent: medium_pressure_steam>,\n",
       " <UtilityAgent: high_pressure_steam>,\n",
       " <UtilityAgent: natural_gas>]"
      ]
     },
     "execution_count": 12,
     "metadata": {},
     "output_type": "execute_result"
    }
   ],
   "source": [
    "settings.heating_agents # All available heating agents"
   ]
  },
  {
   "cell_type": "code",
   "execution_count": 13,
   "metadata": {},
   "outputs": [
    {
     "name": "stdout",
     "output_type": "stream",
     "text": [
      "UtilityAgent: low_pressure_steam\n",
      "heat_transfer_efficiency: 0.950\n",
      "heat_transfer_price: 0 USD/kJ\n",
      "regeneration_price: 0.238 USD/kmol\n",
      "T_limit: None\n",
      "phase: 'g'\n",
      "T: 412.19 K\n",
      "P: 344738 Pa\n",
      "flow (kmol/hr): Water  1\n"
     ]
    }
   ],
   "source": [
    "lps = settings.get_heating_agent('low_pressure_steam') # A UtilityAgent\n",
    "lps.show() # Note that because utility changes phase, T_limit is None"
   ]
  },
  {
   "cell_type": "code",
   "execution_count": 14,
   "metadata": {},
   "outputs": [],
   "source": [
    "lps.regeneration_price = 0.20 # Adjust price (USD/kmol)"
   ]
  },
  {
   "cell_type": "markdown",
   "metadata": {},
   "source": [
    "Remove propane, propylene, and ethylene refrigerants:"
   ]
  },
  {
   "cell_type": "code",
   "execution_count": 15,
   "metadata": {},
   "outputs": [
    {
     "data": {
      "text/plain": [
       "[<UtilityAgent: cooling_water>,\n",
       " <UtilityAgent: chilled_water>,\n",
       " <UtilityAgent: chilled_brine>]"
      ]
     },
     "execution_count": 15,
     "metadata": {},
     "output_type": "execute_result"
    }
   ],
   "source": [
    "settings.cooling_agents = settings.cooling_agents[:-3]\n",
    "settings.cooling_agents"
   ]
  },
  {
   "cell_type": "markdown",
   "metadata": {},
   "source": [
    "Add ammonia as a refrigerant:"
   ]
  },
  {
   "cell_type": "code",
   "execution_count": 16,
   "metadata": {},
   "outputs": [],
   "source": [
    "# Assume cost from Table 17.1 in Warren D.Seider's\n",
    "# Product and Process Design Principles Synthesis, Analysis and Evaluation. Wiley (2016)\n",
    "Ammonia = bst.Chemical('Ammonia') # Load ammonia properties\n",
    "P = 101325 * 1.2 # Pressure should be above atmospheric\n",
    "T = Ammonia.Tsat(P) # Temperature should be at the bubble point for latent cooling\n",
    "ammonia = bst.UtilityAgent(\n",
    "    'ammonia',\n",
    "    Ammonia=1,\n",
    "    P=P,\n",
    "    T=T,\n",
    "    phase='l',\n",
    "    thermo=bst.Thermo([Ammonia]),\n",
    "    heat_transfer_price=13.17e-6,\n",
    ")\n",
    "settings.cooling_agents.append(ammonia)"
   ]
  },
  {
   "cell_type": "markdown",
   "metadata": {},
   "source": [
    "Note that BioSTEAM only recognizes utility agents contained in `settings.cooling_agents` and `settings.heating_agents`. The order of utility agents dictates their priority. For example, BioSTEAM will attempt to use cooling water before chilled water because it is first in the list. Heating agents should be ordered from coolest to hottest and cooling agents should be ordered from hottest to coolest."
   ]
  },
  {
   "cell_type": "markdown",
   "metadata": {},
   "source": [
    "### Find design requirements and cost with Unit objects"
   ]
  },
  {
   "cell_type": "markdown",
   "metadata": {},
   "source": [
    "[Creating a Unit](./Creating_a_Unit.ipynb) can be flexible. But in summary, a [Unit](../API/Unit.txt) object is initialized with an ID, and unit-specific arguments. BioSTEAM includes [essential unit operations](../API/units/index.txt) with rigorous modeling and design algorithms. Here we create a [Flash](../API/units/Flash.txt) object as an example:"
   ]
  },
  {
   "cell_type": "code",
   "execution_count": 17,
   "metadata": {},
   "outputs": [
    {
     "name": "stdout",
     "output_type": "stream",
     "text": [
      "Flash: F1\n",
      "ins...\n",
      "[0] s1  \n",
      "    phase: 'l', T: 298.15 K, P: 101325 Pa\n",
      "    flow (kmol/hr): Water     50\n",
      "                    Methanol  20\n",
      "outs...\n",
      "[0] s2  \n",
      "    phase: 'l', T: 298.15 K, P: 101325 Pa\n",
      "    flow: 0\n",
      "[1] s3  \n",
      "    phase: 'l', T: 298.15 K, P: 101325 Pa\n",
      "    flow: 0\n"
     ]
    }
   ],
   "source": [
    "# Specify vapor fraction and isobaric conditions\n",
    "F1 = bst.Flash('F1', ins=feed, V=0.1, P=101325)\n",
    "F1.show()"
   ]
  },
  {
   "cell_type": "markdown",
   "metadata": {},
   "source": [
    "Note that the outlets, `outs`, is populated by empty streams."
   ]
  },
  {
   "cell_type": "markdown",
   "metadata": {},
   "source": [
    "To simulate the flash, use the `simulate` method:"
   ]
  },
  {
   "cell_type": "code",
   "execution_count": 18,
   "metadata": {
    "scrolled": true,
    "tags": [
     "nbval-ignore-output"
    ]
   },
   "outputs": [
    {
     "name": "stdout",
     "output_type": "stream",
     "text": [
      "Flash: F1\n",
      "ins...\n",
      "[0] s1  \n",
      "    phase: 'l', T: 298.15 K, P: 101325 Pa\n",
      "    flow (kmol/hr): Water     50\n",
      "                    Methanol  20\n",
      "outs...\n",
      "[0] s2  \n",
      "    phase: 'g', T: 352.84 K, P: 101325 Pa\n",
      "    flow (kmol/hr): Water     2.59\n",
      "                    Methanol  4.41\n",
      "[1] s3  \n",
      "    phase: 'l', T: 352.84 K, P: 101325 Pa\n",
      "    flow (kmol/hr): Water     47.4\n",
      "                    Methanol  15.6\n"
     ]
    }
   ],
   "source": [
    "F1.simulate()\n",
    "F1.show()"
   ]
  },
  {
   "cell_type": "markdown",
   "metadata": {},
   "source": [
    "You may get a \"CostWarning\" that notifies you whether purchase cost correlations are out of range for the given design. This is ok for the example, but its important to make sure that the process is well designed and cost correlations are suitable for the domain."
   ]
  },
  {
   "cell_type": "markdown",
   "metadata": {},
   "source": [
    "The `results` method returns simulation results:"
   ]
  },
  {
   "cell_type": "code",
   "execution_count": 19,
   "metadata": {
    "tags": [
     "nbval-skip"
    ]
   },
   "outputs": [
    {
     "data": {
      "text/html": [
       "<div>\n",
       "<style scoped>\n",
       "    .dataframe tbody tr th:only-of-type {\n",
       "        vertical-align: middle;\n",
       "    }\n",
       "\n",
       "    .dataframe tbody tr th {\n",
       "        vertical-align: top;\n",
       "    }\n",
       "\n",
       "    .dataframe thead th {\n",
       "        text-align: right;\n",
       "    }\n",
       "</style>\n",
       "<table border=\"1\" class=\"dataframe\">\n",
       "  <thead>\n",
       "    <tr style=\"text-align: right;\">\n",
       "      <th></th>\n",
       "      <th>Flash</th>\n",
       "      <th>Units</th>\n",
       "      <th>F1</th>\n",
       "    </tr>\n",
       "  </thead>\n",
       "  <tbody>\n",
       "    <tr>\n",
       "      <th rowspan=\"3\" valign=\"top\">Low pressure steam</th>\n",
       "      <th>Duty</th>\n",
       "      <td>kJ/hr</td>\n",
       "      <td>5.92e+05</td>\n",
       "    </tr>\n",
       "    <tr>\n",
       "      <th>Flow</th>\n",
       "      <td>kmol/hr</td>\n",
       "      <td>15.3</td>\n",
       "    </tr>\n",
       "    <tr>\n",
       "      <th>Cost</th>\n",
       "      <td>USD/hr</td>\n",
       "      <td>3.06</td>\n",
       "    </tr>\n",
       "    <tr>\n",
       "      <th rowspan=\"6\" valign=\"top\">Design</th>\n",
       "      <th>Vessel type</th>\n",
       "      <td></td>\n",
       "      <td>Horizontal</td>\n",
       "    </tr>\n",
       "    <tr>\n",
       "      <th>Length</th>\n",
       "      <td>ft</td>\n",
       "      <td>6.44</td>\n",
       "    </tr>\n",
       "    <tr>\n",
       "      <th>Diameter</th>\n",
       "      <td>ft</td>\n",
       "      <td>4</td>\n",
       "    </tr>\n",
       "    <tr>\n",
       "      <th>Weight</th>\n",
       "      <td>lb</td>\n",
       "      <td>1.38e+03</td>\n",
       "    </tr>\n",
       "    <tr>\n",
       "      <th>Wall thickness</th>\n",
       "      <td>in</td>\n",
       "      <td>0.312</td>\n",
       "    </tr>\n",
       "    <tr>\n",
       "      <th>Vessel material</th>\n",
       "      <td></td>\n",
       "      <td>Carbon steel</td>\n",
       "    </tr>\n",
       "    <tr>\n",
       "      <th rowspan=\"3\" valign=\"top\">Purchase cost</th>\n",
       "      <th>Horizontal pressure vessel</th>\n",
       "      <td>USD</td>\n",
       "      <td>1.12e+04</td>\n",
       "    </tr>\n",
       "    <tr>\n",
       "      <th>Platform and ladders</th>\n",
       "      <td>USD</td>\n",
       "      <td>3.21e+03</td>\n",
       "    </tr>\n",
       "    <tr>\n",
       "      <th>Heat exchanger - Double pipe</th>\n",
       "      <td>USD</td>\n",
       "      <td>4.3e+03</td>\n",
       "    </tr>\n",
       "    <tr>\n",
       "      <th>Total purchase cost</th>\n",
       "      <th></th>\n",
       "      <td>USD</td>\n",
       "      <td>1.87e+04</td>\n",
       "    </tr>\n",
       "    <tr>\n",
       "      <th>Utility cost</th>\n",
       "      <th></th>\n",
       "      <td>USD/hr</td>\n",
       "      <td>3.06</td>\n",
       "    </tr>\n",
       "  </tbody>\n",
       "</table>\n",
       "</div>"
      ],
      "text/plain": [
       "Flash                                               Units            F1\n",
       "Low pressure steam  Duty                            kJ/hr      5.92e+05\n",
       "                    Flow                          kmol/hr          15.3\n",
       "                    Cost                           USD/hr          3.06\n",
       "Design              Vessel type                              Horizontal\n",
       "                    Length                             ft          6.44\n",
       "                    Diameter                           ft             4\n",
       "                    Weight                             lb      1.38e+03\n",
       "                    Wall thickness                     in         0.312\n",
       "                    Vessel material                        Carbon steel\n",
       "Purchase cost       Horizontal pressure vessel        USD      1.12e+04\n",
       "                    Platform and ladders              USD      3.21e+03\n",
       "                    Heat exchanger - Double pipe      USD       4.3e+03\n",
       "Total purchase cost                                   USD      1.87e+04\n",
       "Utility cost                                       USD/hr          3.06"
      ]
     },
     "execution_count": 19,
     "metadata": {},
     "output_type": "execute_result"
    }
   ],
   "source": [
    "F1.results() # Default returns DataFrame object with units"
   ]
  },
  {
   "cell_type": "markdown",
   "metadata": {},
   "source": [
    "Unit operations also have useful properties for accessing streams and utility requirements:"
   ]
  },
  {
   "cell_type": "code",
   "execution_count": 20,
   "metadata": {
    "tags": [
     "nbval-skip"
    ]
   },
   "outputs": [
    {
     "data": {
      "text/plain": [
       "591521.4038213617"
      ]
     },
     "execution_count": 20,
     "metadata": {},
     "output_type": "execute_result"
    }
   ],
   "source": [
    "F1.net_duty # Duty with heat transfer losses [kJ / hr]"
   ]
  },
  {
   "cell_type": "code",
   "execution_count": 21,
   "metadata": {
    "tags": [
     "nbval-skip"
    ]
   },
   "outputs": [
    {
     "data": {
      "text/plain": [
       "0.0"
      ]
     },
     "execution_count": 21,
     "metadata": {},
     "output_type": "execute_result"
    }
   ],
   "source": [
    "F1.net_power # Electricity consumption [kW]"
   ]
  },
  {
   "cell_type": "code",
   "execution_count": 22,
   "metadata": {
    "tags": [
     "nbval-skip"
    ]
   },
   "outputs": [
    {
     "data": {
      "text/plain": [
       "[<Stream: s1>, <Stream: s2>, <Stream: s3>]"
      ]
     },
     "execution_count": 22,
     "metadata": {},
     "output_type": "execute_result"
    }
   ],
   "source": [
    "[F1.feed, F1.vapor, F1.liquid] # Inlet feed and vapor and liquid outlets"
   ]
  },
  {
   "cell_type": "markdown",
   "metadata": {},
   "source": [
    "Although BioSTEAM includes a large set of essential unit operations, many process specific unit operations are not yet available. In this case, you can create new [Unit subclasses](./Inheriting_from_Unit.ipynb) to model unit operations not yet available in BioSTEAM."
   ]
  },
  {
   "cell_type": "markdown",
   "metadata": {},
   "source": [
    "### Solve recycle loops and process specifications with System objects"
   ]
  },
  {
   "cell_type": "markdown",
   "metadata": {},
   "source": [
    "Designing a chemical process is no easy task. A simple recycle process consisting of a flash with a partial liquid recycle is presented here:"
   ]
  },
  {
   "cell_type": "code",
   "execution_count": 23,
   "metadata": {
    "scrolled": true
   },
   "outputs": [],
   "source": [
    "recycle = bst.Stream('liquid_recycle')\n",
    "feed = bst.Stream('feed', Methanol=100, Water=450)\n",
    "M1 = bst.Mixer('M1', ins=(recycle, feed))\n",
    "F1 = bst.Flash('F1',\n",
    "    ins=M1-0, # -pipe- notation equivalent to M1.outs[0]\n",
    "    outs=('vapor_product', 'liquid'),\n",
    "    V=0.1, P=101325\n",
    ")\n",
    "S1 = bst.Splitter('S1',\n",
    "    ins=F1-1, # -pipe- notation equivalent to F1.outs[1]\n",
    "    outs=(recycle, 'liquid_product'),\n",
    "    split=0.5 # Split to 0th output stream\n",
    ")"
   ]
  },
  {
   "cell_type": "markdown",
   "metadata": {},
   "source": [
    "Note that [-pipe- notation](./-pipe-_notation.ipynb) was used to retrieve streams and connect units."
   ]
  },
  {
   "cell_type": "markdown",
   "metadata": {},
   "source": [
    "You can [find unit operations and manage flowsheets](./Managing_flowsheets.ipynb) with the `main_flowsheet`:"
   ]
  },
  {
   "cell_type": "code",
   "execution_count": 24,
   "metadata": {
    "tags": [
     "nbval-ignore-output"
    ]
   },
   "outputs": [
    {
     "data": {
      "image/svg+xml": [
       "<ns0:svg xmlns:ns0=\"http://www.w3.org/2000/svg\" xmlns:ns1=\"http://www.w3.org/1999/xlink\" width=\"723pt\" height=\"243pt\" viewBox=\"0.00 0.00 722.73 243.48\">\n",
       "<ns0:g id=\"graph0\" class=\"graph\" transform=\"scale(1 1) rotate(0) translate(4 239.48)\">\n",
       "<ns0:polygon fill=\"#ffffff\" fill-opacity=\"0.666667\" stroke=\"none\" points=\"-4,4 -4,-239.48 718.73,-239.48 718.73,4 -4,4\" />\n",
       "\n",
       "<ns0:g id=\"edge2\" class=\"edge\">\n",
       "<ns0:title>155672914390:e-&gt;155674687210:c</ns0:title>\n",
       "<ns0:path fill=\"none\" stroke=\"#4e4e4e\" stroke-dasharray=\"5,2\" d=\"M200.51,-69.98C217.82,-69.98 233.29,-79.59 245.78,-91.42\" />\n",
       "<ns0:polygon fill=\"#4e4e4e\" stroke=\"#4e4e4e\" points=\"243.03,-93.61 252.5,-98.35 248.05,-88.74 243.03,-93.61\" />\n",
       "<ns0:g id=\"a_edge2-label\"><ns0:a ns1:title=\"(empty)\">\n",
       "<ns0:text text-anchor=\"middle\" x=\"218.26\" y=\"-79.18\" font-family=\"Arial\" font-size=\"14.00\" fill=\"#4e4e4e\"> s4</ns0:text>\n",
       "</ns0:a>\n",
       "</ns0:g>\n",
       "</ns0:g>\n",
       "\n",
       "<ns0:g id=\"edge5\" class=\"edge\">\n",
       "<ns0:title>155674687210:s-&gt;155672914495:w</ns0:title>\n",
       "<ns0:path fill=\"none\" stroke=\"#4e4e4e\" stroke-dasharray=\"5,2\" d=\"M279.14,-94.38C279.14,-64.6 372.15,-67.05 417.96,-60.1\" />\n",
       "<ns0:polygon fill=\"#4e4e4e\" stroke=\"#4e4e4e\" points=\"418.36,-63.59 427.53,-58.27 417.05,-56.71 418.36,-63.59\" />\n",
       "<ns0:g id=\"a_edge5-label\"><ns0:a ns1:title=\"(empty)\">\n",
       "<ns0:text text-anchor=\"middle\" x=\"375.64\" y=\"-72.18\" font-family=\"Arial\" font-size=\"14.00\" fill=\"#4e4e4e\"> liquid</ns0:text>\n",
       "</ns0:a>\n",
       "</ns0:g>\n",
       "</ns0:g>\n",
       "\n",
       "<ns0:g id=\"edge3\" class=\"edge\">\n",
       "<ns0:title>155674687210:n-&gt;155672932741:w</ns0:title>\n",
       "<ns0:path fill=\"none\" stroke=\"#4e4e4e\" stroke-dasharray=\"5,2\" d=\"M279.14,-175.58C279.14,-278.25 407.47,-173.98 510.14,-173.98\" />\n",
       "<ns0:g id=\"a_edge3-label\"><ns0:a ns1:title=\"(empty)\">\n",
       "<ns0:text text-anchor=\"middle\" x=\"375.64\" y=\"-222.18\" font-family=\"Arial\" font-size=\"14.00\" fill=\"#4e4e4e\"> vapor product</ns0:text>\n",
       "</ns0:a>\n",
       "</ns0:g>\n",
       "</ns0:g>\n",
       "\n",
       "<ns0:g id=\"edge1\" class=\"edge\">\n",
       "<ns0:title>155672914495:c-&gt;155672914390:c</ns0:title>\n",
       "<ns0:path fill=\"none\" stroke=\"#4e4e4e\" stroke-dasharray=\"5,2\" d=\"M430.08,-56.97C374.99,-56.73 301.15,-57.24 236.01,-60.48 224.86,-61.04 213.05,-61.87 201.54,-62.81\" />\n",
       "<ns0:polygon fill=\"#4e4e4e\" stroke=\"#4e4e4e\" points=\"201.33,-59.32 191.67,-63.66 201.93,-66.29 201.33,-59.32\" />\n",
       "<ns0:g id=\"a_edge1-label\"><ns0:a ns1:title=\"(empty)\">\n",
       "<ns0:text text-anchor=\"middle\" x=\"279.14\" y=\"-64.18\" font-family=\"Arial\" font-size=\"14.00\" fill=\"#4e4e4e\"> liquid recycle</ns0:text>\n",
       "</ns0:a>\n",
       "</ns0:g>\n",
       "</ns0:g>\n",
       "\n",
       "<ns0:g id=\"edge6\" class=\"edge\">\n",
       "<ns0:title>155672914495:c-&gt;155672932939:w</ns0:title>\n",
       "<ns0:path fill=\"none\" stroke=\"#4e4e4e\" stroke-dasharray=\"5,2\" d=\"M557.11,-57.98C595.61,-57.98 654.27,-57.98 705.24,-57.98\" />\n",
       "<ns0:g id=\"a_edge6-label\"><ns0:a ns1:title=\"(empty)\">\n",
       "<ns0:text text-anchor=\"middle\" x=\"651.68\" y=\"-62.18\" font-family=\"Arial\" font-size=\"14.00\" fill=\"#4e4e4e\"> liquid product</ns0:text>\n",
       "</ns0:a>\n",
       "</ns0:g>\n",
       "</ns0:g>\n",
       "\n",
       "<ns0:g id=\"edge4\" class=\"edge\">\n",
       "<ns0:title>155672932873:e-&gt;155672914390:c</ns0:title>\n",
       "<ns0:path fill=\"none\" stroke=\"#4e4e4e\" d=\"M10.8,-69.98C39.05,-69.98 71.1,-69.98 94.72,-69.98\" />\n",
       "<ns0:g id=\"a_edge4-label\"><ns0:a ns1:title=\" Temperature: 298.15 K&lt;br&gt;Pressure: 101325 Pa&lt;br&gt;Liquid flow: 550 kmol/hr\">\n",
       "<ns0:text text-anchor=\"middle\" x=\"35.3\" y=\"-73.18\" font-family=\"Arial\" font-size=\"14.00\" fill=\"#4e4e4e\"> feed</ns0:text>\n",
       "</ns0:a>\n",
       "</ns0:g>\n",
       "</ns0:g>\n",
       "\n",
       "<ns0:g id=\"node1\" class=\"node\">\n",
       "<ns0:title>155672914390</ns0:title>\n",
       "<ns0:g id=\"a_node1\"><ns0:a ns1:title=\" No capital costs or utilities\">\n",
       "<ns0:defs>\n",
       "<ns0:linearGradient id=\"node1_l_0\" gradientUnits=\"userSpaceOnUse\" x1=\"94.98\" y1=\"-69.98\" x2=\"200.51\" y2=\"-69.98\">\n",
       "<ns0:stop offset=\"0\" style=\"stop-color:white;stop-opacity:1.;\" />\n",
       "<ns0:stop offset=\"1\" style=\"stop-color:#cdcdcd;stop-opacity:1.;\" />\n",
       "</ns0:linearGradient>\n",
       "</ns0:defs>\n",
       "<ns0:polygon fill=\"url(#node1_l_0)\" stroke=\"#4e4e4e\" points=\"200.51,-69.98 94.98,-127.97 94.98,-12 200.51,-69.98\" />\n",
       "<ns0:text text-anchor=\"middle\" x=\"130.16\" y=\"-73.18\" font-family=\"Arial\" font-size=\"14.00\">M1</ns0:text>\n",
       "<ns0:text text-anchor=\"middle\" x=\"130.16\" y=\"-56.68\" font-family=\"Arial\" font-size=\"14.00\">Mixer</ns0:text>\n",
       "</ns0:a>\n",
       "</ns0:g>\n",
       "</ns0:g>\n",
       "\n",
       "<ns0:g id=\"node2\" class=\"node\">\n",
       "<ns0:title>155674687210</ns0:title>\n",
       "<ns0:g id=\"a_node2\"><ns0:a ns1:title=\" No capital costs or utilities\">\n",
       "<ns0:defs>\n",
       "<ns0:linearGradient id=\"node2_l_1\" gradientUnits=\"userSpaceOnUse\" x1=\"253.89\" y1=\"-134.98\" x2=\"304.39\" y2=\"-134.98\">\n",
       "<ns0:stop offset=\"0\" style=\"stop-color:white;stop-opacity:1.;\" />\n",
       "<ns0:stop offset=\"1\" style=\"stop-color:#cdcdcd;stop-opacity:1.;\" />\n",
       "</ns0:linearGradient>\n",
       "</ns0:defs>\n",
       "<ns0:polygon fill=\"url(#node2_l_1)\" stroke=\"#4e4e4e\" points=\"304.39,-174.58 253.89,-174.58 253.89,-95.38 304.39,-95.38 304.39,-174.58\" />\n",
       "<ns0:text text-anchor=\"middle\" x=\"279.14\" y=\"-138.18\" font-family=\"Arial\" font-size=\"14.00\">F1</ns0:text>\n",
       "<ns0:text text-anchor=\"middle\" x=\"279.14\" y=\"-121.68\" font-family=\"Arial\" font-size=\"14.00\">Flash</ns0:text>\n",
       "</ns0:a>\n",
       "</ns0:g>\n",
       "</ns0:g>\n",
       "\n",
       "<ns0:g id=\"node3\" class=\"node\">\n",
       "<ns0:title>155672914495</ns0:title>\n",
       "<ns0:g id=\"a_node3\"><ns0:a ns1:title=\" No capital costs or utilities\">\n",
       "<ns0:defs>\n",
       "<ns0:linearGradient id=\"node3_l_2\" gradientUnits=\"userSpaceOnUse\" x1=\"429.01\" y1=\"-57.98\" x2=\"556.82\" y2=\"-57.98\">\n",
       "<ns0:stop offset=\"0\" style=\"stop-color:white;stop-opacity:1.;\" />\n",
       "<ns0:stop offset=\"1\" style=\"stop-color:#cdcdcd;stop-opacity:1.;\" />\n",
       "</ns0:linearGradient>\n",
       "</ns0:defs>\n",
       "<ns0:polygon fill=\"url(#node3_l_2)\" stroke=\"#4e4e4e\" points=\"429.01,-57.98 556.82,0 556.82,-115.97 429.01,-57.98\" />\n",
       "<ns0:text text-anchor=\"middle\" x=\"514.22\" y=\"-61.18\" font-family=\"Arial\" font-size=\"14.00\">S1</ns0:text>\n",
       "<ns0:text text-anchor=\"middle\" x=\"514.22\" y=\"-44.68\" font-family=\"Arial\" font-size=\"14.00\">Splitter</ns0:text>\n",
       "</ns0:a>\n",
       "</ns0:g>\n",
       "</ns0:g>\n",
       "\n",
       "<ns0:g id=\"node4\" class=\"node\">\n",
       "<ns0:title>155672932741</ns0:title>\n",
       "<ns0:polygon fill=\"#f98f60\" stroke=\"#4e4e4e\" points=\"519.62,-173.98 511.52,-181.18 511.52,-166.78 519.62,-173.98\" />\n",
       "</ns0:g>\n",
       "\n",
       "<ns0:g id=\"node5\" class=\"node\">\n",
       "<ns0:title>155672932873</ns0:title>\n",
       "<ns0:polygon fill=\"#f98f60\" stroke=\"#4e4e4e\" points=\"5.4,-75.38 0,-69.98 5.4,-64.58 10.8,-69.98 5.4,-75.38\" />\n",
       "</ns0:g>\n",
       "\n",
       "<ns0:g id=\"node6\" class=\"node\">\n",
       "<ns0:title>155672932939</ns0:title>\n",
       "<ns0:polygon fill=\"#f98f60\" stroke=\"#4e4e4e\" points=\"714.73,-57.98 706.63,-65.18 706.63,-50.78 714.73,-57.98\" />\n",
       "</ns0:g>\n",
       "</ns0:g>\n",
       "</ns0:svg>"
      ],
      "text/plain": [
       "<IPython.core.display.SVG object>"
      ]
     },
     "metadata": {},
     "output_type": "display_data"
    }
   ],
   "source": [
    "bst.main_flowsheet.diagram()\n",
    "# Note that empty streams are dashed and the \n",
    "# width of streams depend on their flow rates (by mass)"
   ]
  },
  {
   "cell_type": "markdown",
   "metadata": {},
   "source": [
    "[System](../API/System.txt) objects take care of solving recycle loops and simulating all unit operations.\n",
    "Although there are many ways of [creating a system](./Creating_a_System.ipynb), the most recommended way is to use the flowsheet:"
   ]
  },
  {
   "cell_type": "code",
   "execution_count": 25,
   "metadata": {},
   "outputs": [
    {
     "name": "stdout",
     "output_type": "stream",
     "text": [
      "System: sys\n",
      "ins...\n",
      "[0] feed  \n",
      "    phase: 'l', T: 298.15 K, P: 101325 Pa\n",
      "    flow (kmol/hr): Water     450\n",
      "                    Methanol  100\n",
      "outs...\n",
      "[0] vapor_product  \n",
      "    phase: 'l', T: 298.15 K, P: 101325 Pa\n",
      "    flow: 0\n",
      "[1] liquid_product  \n",
      "    phase: 'l', T: 298.15 K, P: 101325 Pa\n",
      "    flow: 0\n"
     ]
    }
   ],
   "source": [
    "sys = bst.main_flowsheet.create_system('sys')\n",
    "sys.show()"
   ]
  },
  {
   "cell_type": "markdown",
   "metadata": {},
   "source": [
    "Simulate the System object:"
   ]
  },
  {
   "cell_type": "code",
   "execution_count": 26,
   "metadata": {
    "scrolled": true,
    "tags": [
     "nbval-ignore-output"
    ]
   },
   "outputs": [
    {
     "name": "stdout",
     "output_type": "stream",
     "text": [
      "System: sys\n",
      "Highest convergence error among components in recycle\n",
      "stream S1-0 after 4 loops:\n",
      "- flow rate   3.12e-01 kmol/hr (0.57%)\n",
      "- temperature 3.56e-02 K (0.0099%)\n",
      "ins...\n",
      "[0] feed  \n",
      "    phase: 'l', T: 298.15 K, P: 101325 Pa\n",
      "    flow (kmol/hr): Water     450\n",
      "                    Methanol  100\n",
      "outs...\n",
      "[0] vapor_product  \n",
      "    phase: 'g', T: 359.26 K, P: 101325 Pa\n",
      "    flow (kmol/hr): Water     53.4\n",
      "                    Methanol  46.7\n",
      "[1] liquid_product  \n",
      "    phase: 'l', T: 359.26 K, P: 101325 Pa\n",
      "    flow (kmol/hr): Water     397\n",
      "                    Methanol  53.6\n"
     ]
    }
   ],
   "source": [
    "sys.simulate()\n",
    "sys.show()"
   ]
  },
  {
   "cell_type": "markdown",
   "metadata": {},
   "source": [
    "Note how the recycle stream converged and all unit operations (including the flash vessel) were simulated. Let's have a look at  system-level results:"
   ]
  },
  {
   "cell_type": "code",
   "execution_count": 27,
   "metadata": {
    "tags": [
     "nbval-ignore-output"
    ]
   },
   "outputs": [
    {
     "data": {
      "text/html": [
       "<div>\n",
       "<style scoped>\n",
       "    .dataframe tbody tr th:only-of-type {\n",
       "        vertical-align: middle;\n",
       "    }\n",
       "\n",
       "    .dataframe tbody tr th {\n",
       "        vertical-align: top;\n",
       "    }\n",
       "\n",
       "    .dataframe thead th {\n",
       "        text-align: right;\n",
       "    }\n",
       "</style>\n",
       "<table border=\"1\" class=\"dataframe\">\n",
       "  <thead>\n",
       "    <tr style=\"text-align: right;\">\n",
       "      <th></th>\n",
       "      <th>System</th>\n",
       "      <th>Units</th>\n",
       "      <th>sys</th>\n",
       "    </tr>\n",
       "  </thead>\n",
       "  <tbody>\n",
       "    <tr>\n",
       "      <th rowspan=\"3\" valign=\"top\">Low pressure steam</th>\n",
       "      <th>Duty</th>\n",
       "      <td>kJ/hr</td>\n",
       "      <td>6.76e+06</td>\n",
       "    </tr>\n",
       "    <tr>\n",
       "      <th>Flow</th>\n",
       "      <td>kmol/hr</td>\n",
       "      <td>175</td>\n",
       "    </tr>\n",
       "    <tr>\n",
       "      <th>Cost</th>\n",
       "      <td>USD/hr</td>\n",
       "      <td>34.9</td>\n",
       "    </tr>\n",
       "    <tr>\n",
       "      <th>Total purchase cost</th>\n",
       "      <th></th>\n",
       "      <td>USD</td>\n",
       "      <td>3.87e+04</td>\n",
       "    </tr>\n",
       "    <tr>\n",
       "      <th>Installed equipment cost</th>\n",
       "      <th></th>\n",
       "      <td>USD</td>\n",
       "      <td>1.15e+05</td>\n",
       "    </tr>\n",
       "    <tr>\n",
       "      <th>Utility cost</th>\n",
       "      <th></th>\n",
       "      <td>USD/hr</td>\n",
       "      <td>34.9</td>\n",
       "    </tr>\n",
       "    <tr>\n",
       "      <th>Material cost</th>\n",
       "      <th></th>\n",
       "      <td>USD/hr</td>\n",
       "      <td>0</td>\n",
       "    </tr>\n",
       "    <tr>\n",
       "      <th>Sales</th>\n",
       "      <th></th>\n",
       "      <td>USD/hr</td>\n",
       "      <td>0</td>\n",
       "    </tr>\n",
       "  </tbody>\n",
       "</table>\n",
       "</div>"
      ],
      "text/plain": [
       "System                           Units      sys\n",
       "Low pressure steam       Duty    kJ/hr 6.76e+06\n",
       "                         Flow  kmol/hr      175\n",
       "                         Cost   USD/hr     34.9\n",
       "Total purchase cost                USD 3.87e+04\n",
       "Installed equipment cost           USD 1.15e+05\n",
       "Utility cost                    USD/hr     34.9\n",
       "Material cost                   USD/hr        0\n",
       "Sales                           USD/hr        0"
      ]
     },
     "execution_count": 27,
     "metadata": {},
     "output_type": "execute_result"
    }
   ],
   "source": [
    "sys.results()"
   ]
  },
  {
   "cell_type": "markdown",
   "metadata": {},
   "source": [
    "Once your system has been simulated, you can save a system report to view detailed results in an excel spreadsheet:"
   ]
  },
  {
   "cell_type": "code",
   "execution_count": 28,
   "metadata": {},
   "outputs": [],
   "source": [
    "# Try this on your computer and open excel\n",
    "# sys.save_report('Example.xlsx') "
   ]
  },
  {
   "cell_type": "markdown",
   "metadata": {},
   "source": [
    "Note that the cash flow analysis did not appear in the report because it requires a [TEA](../API/TEA.txt) object with all the necessary parameters (e.g., depreciation schedule, plant lifetime, construction schedule) to perform the analysis. A [TEA](../API/TEA.txt) object may also solve for economic indicators such as internal rate of return, minimum product selling price (MPSP), and maximum feedstock purchase price (MFPP). [Techno-economic analysis](./Techno-economic_analysis.ipynb) is discussed in detail later in the tutorial due to the extensive nature of the cash flow analysis."
   ]
  }
 ],
 "metadata": {
  "celltoolbar": "Tags",
  "kernelspec": {
   "display_name": "Python 3 (ipykernel)",
   "language": "python",
   "name": "python3"
  },
  "language_info": {
   "codemirror_mode": {
    "name": "ipython",
    "version": 3
   },
   "file_extension": ".py",
   "mimetype": "text/x-python",
   "name": "python",
   "nbconvert_exporter": "python",
   "pygments_lexer": "ipython3",
   "version": "3.12.4"
  }
 },
 "nbformat": 4,
 "nbformat_minor": 4
}
