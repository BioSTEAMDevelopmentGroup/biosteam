{
 "cells": [
  {
   "cell_type": "markdown",
   "metadata": {},
   "source": [
    "# Getting started"
   ]
  },
  {
   "cell_type": "markdown",
   "metadata": {},
   "source": [
    "### Dynamic flowsheets"
   ]
  },
  {
   "cell_type": "markdown",
   "metadata": {},
   "source": [
    "In this tutorial, diagrams are generated as needed. When building a biorefinery, however, it may be useful to view a dynamic flowsheet that is always up to date with all units and their connections. This can be done by running:\n",
    "```python\n",
    ">>> from biosteam import main_flowsheet\n",
    ">>> main_flowsheet.view()\n",
    "```\n",
    "If you are using the [Spyder IDE](https://www.spyder-ide.org/) to create dynamic flowsheets, make sure that your graphics backend is set to \"Automatic\" or \"PyQt5\" in your system preferences. If you are using Jupyter Notebooks, make sure you run the following line first:\n",
    "```python\n",
    "%gui qt5\n",
    "```\n",
    "A [spyder-biosteam](https://github.com/BioSTEAMDevelopmentGroup/spyder-biosteam) plugin is also under development to fully integrate flowsheets as part of the development environment. "
   ]
  },
  {
   "cell_type": "markdown",
   "metadata": {},
   "source": [
    "### Initialize streams"
   ]
  },
  {
   "cell_type": "markdown",
   "metadata": {},
   "source": [
    "[Stream](https://thermosteam.readthedocs.io/en/latest/Stream.html) objects define material flow rates along with its thermodynamic state. Before creating streams, a [Thermo](https://thermosteam.readthedocs.io/en/latest/Thermo.html) property package must be defined. Alternatively, we can just pass chemical names and BioSTEAM will automatically create a property package based on ideal mixing rules and UNIFAC activity coefficients for thermodynamic equilibrium. More complex packages can be defined through Thermosteam, BioSTEAM's premier thermodynamic engine. Please visit [Thermosteam's documentation](https://thermosteam.readthedocs.io/en/latest/index.html) for a complete tutorial on [Stream](https://thermosteam.readthedocs.io/en/latest/Stream.html) objects and how to create a property package. In this example, a simple feed stream with a few common chemicals will be initialized:"
   ]
  },
  {
   "cell_type": "code",
   "execution_count": 1,
   "metadata": {},
   "outputs": [
    {
     "name": "stdout",
     "output_type": "stream",
     "text": [
      "Stream: s1\n",
      " phase: 'l', T: 298.15 K, P: 101325 Pa\n",
      " flow (kmol/hr): Water     50\n",
      "                 Methanol  20\n"
     ]
    }
   ],
   "source": [
    "import biosteam as bst\n",
    "bst.settings.set_thermo(['Water', 'Methanol'])\n",
    "feed = bst.Stream(Water=50, Methanol=20)\n",
    "feed.show()"
   ]
  },
  {
   "cell_type": "markdown",
   "metadata": {},
   "source": [
    "Set prices for performing techno-economic analysis later:"
   ]
  },
  {
   "cell_type": "code",
   "execution_count": 2,
   "metadata": {},
   "outputs": [
    {
     "data": {
      "text/plain": [
       "231.24018"
      ]
     },
     "execution_count": 2,
     "metadata": {},
     "output_type": "execute_result"
    }
   ],
   "source": [
    "feed.price = 0.15 # USD/kg\n",
    "feed.cost # USD/hr"
   ]
  },
  {
   "cell_type": "markdown",
   "metadata": {},
   "source": [
    "### Process settings"
   ]
  },
  {
   "cell_type": "markdown",
   "metadata": {},
   "source": [
    "**Process settings include price of feeds and products, conditions of utilities, and the chemical engineering plant cost index. These should be set before simulating a system.**"
   ]
  },
  {
   "cell_type": "markdown",
   "metadata": {},
   "source": [
    "Set the chemical engineering plant cost index:"
   ]
  },
  {
   "cell_type": "code",
   "execution_count": 3,
   "metadata": {},
   "outputs": [
    {
     "data": {
      "text/plain": [
       "567.5"
      ]
     },
     "execution_count": 3,
     "metadata": {},
     "output_type": "execute_result"
    }
   ],
   "source": [
    "bst.CE # Default year is 2017"
   ]
  },
  {
   "cell_type": "code",
   "execution_count": 4,
   "metadata": {},
   "outputs": [],
   "source": [
    "bst.CE = 603.1 # To year 2018"
   ]
  },
  {
   "cell_type": "markdown",
   "metadata": {},
   "source": [
    "Set [PowerUtility](../PowerUtility.txt) options:"
   ]
  },
  {
   "cell_type": "code",
   "execution_count": 5,
   "metadata": {},
   "outputs": [
    {
     "data": {
      "text/plain": [
       "0.0782"
      ]
     },
     "execution_count": 5,
     "metadata": {},
     "output_type": "execute_result"
    }
   ],
   "source": [
    "bst.PowerUtility.price # Default price (USD/kJ)"
   ]
  },
  {
   "cell_type": "code",
   "execution_count": 6,
   "metadata": {},
   "outputs": [],
   "source": [
    "bst.PowerUtility.price = 0.065 # Adjust price"
   ]
  },
  {
   "cell_type": "markdown",
   "metadata": {},
   "source": [
    "Set [HeatUtility](../HeatUtility.txt) options via [UtilityAgent](../UtilityAgent.txt) objects, which are [Stream](https://thermosteam.readthedocs.io/en/latest/Stream.html) objects with additional attributes to describe a utility agent:"
   ]
  },
  {
   "cell_type": "code",
   "execution_count": 7,
   "metadata": {},
   "outputs": [
    {
     "data": {
      "text/plain": [
       "[<UtilityAgent: cooling_water>,\n",
       " <UtilityAgent: chilled_water>,\n",
       " <UtilityAgent: chilled_brine>]"
      ]
     },
     "execution_count": 7,
     "metadata": {},
     "output_type": "execute_result"
    }
   ],
   "source": [
    "bst.HeatUtility.cooling_agents # All available cooling agents"
   ]
  },
  {
   "cell_type": "code",
   "execution_count": 8,
   "metadata": {},
   "outputs": [
    {
     "name": "stdout",
     "output_type": "stream",
     "text": [
      "UtilityAgent: cooling_water\n",
      " heat_transfer_efficiency: 1.000\n",
      " heat_transfer_price: 0 USD/kJ\n",
      " regeneration_price: 0.000488 USD/kmol\n",
      " T_limit: 325 K\n",
      " phase: 'l'\n",
      " T: 305.37 K\n",
      " P: 101325 Pa\n",
      " flow (kmol/hr): Water  1\n"
     ]
    }
   ],
   "source": [
    "cooling_water = bst.HeatUtility.get_cooling_agent('cooling_water')\n",
    "cooling_water # A UtilityAgent"
   ]
  },
  {
   "cell_type": "code",
   "execution_count": 9,
   "metadata": {},
   "outputs": [
    {
     "data": {
      "text/plain": [
       "0.00048785"
      ]
     },
     "execution_count": 9,
     "metadata": {},
     "output_type": "execute_result"
    }
   ],
   "source": [
    "# Price of regenerating the utility in USD/kmol\n",
    "cooling_water.regeneration_price"
   ]
  },
  {
   "cell_type": "code",
   "execution_count": 10,
   "metadata": {},
   "outputs": [
    {
     "data": {
      "text/plain": [
       "5e-06"
      ]
     },
     "execution_count": 10,
     "metadata": {},
     "output_type": "execute_result"
    }
   ],
   "source": [
    "# Other utilities may be priced for amount of heat transfered in USD/kJ\n",
    "chilled_water = bst.HeatUtility.get_cooling_agent('chilled_water')\n",
    "chilled_water.heat_transfer_price"
   ]
  },
  {
   "cell_type": "code",
   "execution_count": 11,
   "metadata": {},
   "outputs": [],
   "source": [
    "cooling_water.T = 302 # Change the temperature of cooling water (K)"
   ]
  },
  {
   "cell_type": "code",
   "execution_count": 12,
   "metadata": {},
   "outputs": [
    {
     "data": {
      "text/plain": [
       "[<UtilityAgent: low_pressure_steam>,\n",
       " <UtilityAgent: medium_pressure_steam>,\n",
       " <UtilityAgent: high_pressure_steam>]"
      ]
     },
     "execution_count": 12,
     "metadata": {},
     "output_type": "execute_result"
    }
   ],
   "source": [
    "bst.HeatUtility.heating_agents # All available heating agents"
   ]
  },
  {
   "cell_type": "code",
   "execution_count": 13,
   "metadata": {},
   "outputs": [
    {
     "name": "stdout",
     "output_type": "stream",
     "text": [
      "UtilityAgent: low_pressure_steam\n",
      " heat_transfer_efficiency: 0.950\n",
      " heat_transfer_price: 0 USD/kJ\n",
      " regeneration_price: 0.238 USD/kmol\n",
      " T_limit: None\n",
      " phase: 'g'\n",
<<<<<<< HEAD
      " T: 411.49 K\n",
=======
      " T: 412.19 K\n",
>>>>>>> cd2c5013aaf9b5bc94bb764b52fd37db183472f1
      " P: 344738 Pa\n",
      " flow (kmol/hr): Water  1\n"
     ]
    }
   ],
   "source": [
    "lps = bst.HeatUtility.get_heating_agent('low_pressure_steam') # A UtilityAgent\n",
    "lps # Note that because utility changes phase, T_limit is None"
   ]
  },
  {
   "cell_type": "code",
   "execution_count": 14,
   "metadata": {},
   "outputs": [],
   "source": [
    "lps.regeneration_price = 0.20 # Adjust price (USD/kmol)"
   ]
  },
  {
   "cell_type": "markdown",
   "metadata": {},
   "source": [
    "### Find design requirements and cost with Unit objects"
   ]
  },
  {
   "cell_type": "markdown",
   "metadata": {},
   "source": [
    "[Creating a Unit](./Creating_a_Unit.ipynb) can be flexible. But in summary, a [Unit](../Unit.txt) object is initialized with an ID, and unit-specific arguments. BioSTEAM includes [essential unit operations](../units/units.txt) with rigorous modeling and design algorithms. Here we create a [Flash](../units/Flash.txt) object as an example:"
   ]
  },
  {
   "cell_type": "code",
   "execution_count": 15,
   "metadata": {},
   "outputs": [
    {
     "data": {
<<<<<<< HEAD
      "image/png": "iVBORw0KGgoAAAANSUhEUgAAAcMAAADyCAYAAAAx165iAAAABmJLR0QA/wD/AP+gvaeTAAAgAElEQVR4nO3deVxU9eI+8AcRcIldZRlAZZNNEEYFBMrMrTJ3uymplUt2L96sNO1qea3cbqU3bzet1LKQ/Jp7uVTq9Sa7gOwQAi4wLLIzsckyvz+8zi8SS2XwM8N53q8XrxmG4znPZM7D+ZzPOUdPpVKpQEREJF1hPUQnICIiEo1lSEREkscyJCIiyWMZEhGR5PUUHYB0i0KhQG5uLq5cuYKioiKUlJSguLgYlZWVqK6uRk1NDWpra9Hc3HzHddy4cQP6+vowMTGBsbExTExMYGJiAjMzM/VzY2NjWFlZwc7ODjY2NpDJZLCysoK+vv4DfLdEJBUsQ+pQXV0dLl68iKSkJCQlJSElJQU5OTmor68HAPTu3Ru2trawtraGjY0NnJycYG5uri4zQ0PDP9zGL7/8AqVSidraWiiVSlRXV6OgoED92vXr11FWVqZeXl9fH1ZWVpDJZLCxsYGdnR0GDhwIZ2dn9VefPn267L8JEXVfejy1ggCgqakJ58+fx7lz53Du3DnEx8ejubkZ1tbWkMvl8PHxgaurK1xcXODs7IwBAwY8sFzFxcVQKBQoKipCUVERFAoFiouLUVhYiMuXL6OgoABtbW0AAJlMpi5GV1dXODs7w8XFBUOGDLmrgiYiSQpjGUpYXV0dTpw4gcOHD+P48eP45ZdfMHToUDzyyCMYPXo0/P39YWtrKzrmH2pqakJ+fj4uXbqE3Nzcdl/Xrl1Da2srDAwM4OLiAi8vL3h5ecHDwwPe3t5wdHTk0CsRsQylKDY2Fp9//jn27duHxsZGPPbYY5g6dSqmTp36wPb4HpQbN24gLy8PGRkZSE9PR0ZGBtLS0pCXl4eWlhb06tULHh4e8PT0hLe3N3x9fSGXy2FmZiY6OhE9OCxDqWhra8PBgwexadMmJCUlYdiwYViwYAHmzJkDCwsL0fEeuKamJmRmZiIzMxPp6elIT09Hamoqrl27BgAYPHgw5HI5fH194efnBz8/v273iwLR3crMzMS4ceOQnJyM/v37i47TFViG3V1bWxu+/vprvP3228jNzcXMmTOxfPlyjBgxQnQ0rVReXt5u4lBSUhLy8vKgUqkgk8kgl8shl8vh7++PgIAAmJqaio5M1OV2796NBQsWYFRwMP5z5kx3PP7OMuzOzp07h1dffRVpaWkIDQ3F6tWr4eLiIjqWzqmtrUVSUpK6JBMTE5GdnQ0AcHNzQ0BAAAICAuDv7w8vLy8eg6RuJyIiAqGhoehtbIJZ06dhzxdfiI6kaWE8taIbqqqqwl//+leEh4dj4sSJCA8Ph4eHh+hYOsvExASjR4/G6NGj1a9VV1cjNjYW8fHxiImJwRtvvIHKykoYGxtDLpcjMDBQXZBWVlbiwhNp0KQPPkb4S/Ph7uaGVatWiY6jUSzDbubEiRNYvHgxVCoVjh07hqeeekp0pG7JzMwMEydOxMSJEwEAKpUKOTk5iI2NRVxcHE6ePIn33nsPLS0tGDx4cLu9R19f3+44zEQS4Dx6LB59/S2sXrMGHh4emDx5suhIGsMy7CZaW1uxZs0abN68GaGhodi2bRvMzc1Fx5IMPT09DBkyBEOGDMH8+fMB3Dx1JSEhAbGxsYiNjcXGjRtRUlICIyMjyOVyjBw5Ur0H6eDgIPgdEN2dkc+/iMr8XDwzezbiYmMxdOhQ0ZE0gmXYDVRWVmLOnDn46aef8OWXX+LZZ58VHYkA9O3bF4888ggeeeQR9WvXrl1DdHQ04uLiEBcXh+3bt6OpqQkymQyjRo1CcHAwgoKC4OPjg549+c+TtNO4tzag+tplTHj8CSQnJXaLmdacQKPjioqKMHbsWDQ0NODQoUPw9fUVHYnuQVNTE5KTkxETE4OoqChERkaipKQExsbG8Pf3R1BQEIKDg+Hv7w9jY2PRcUmibk2geSOnRP1aQ1Ulwp9+EoOtBuC/5/6D3r17C0zYaZxNqsuuXLmCxx57DKampjh16lS3+O2MgPz8fJw/fx7R0dE4f/48srOzoa+vDx8fH4waNQohISEYNWoUZDKZ6Kj0AGzbtg3Lli2D/aBBwjJcu3wZANqVIQBUXM7DVzMfx7TJTyH8q6+gp6cnIp4mcDapriosLMTDDz8Me3t7HD9+nFdM6UYcHR3h6OioPvZYWVmJqKgo9Z7jp59+iqamJjg6OrYbWvXw8ECPHrwrW3cTFxcHlUoFpxmhwjI4ATC1u/24tuVgJ0z9107sWzAbHu7uWL169YMPpyHcM9RBNTU1CAkJQZ8+fXDmzBn07dtXdCR6gJqampCQkIDIyEh1SVZWVsLCwgKBgYHqodXhw4fr+tAVAQgNDUWKshGTP/hYdJQ7Sor4Aj+sewP79+/HzJkzRce5H9wz1DU3btzA9OnTAQDffvsti1CCjIyMEBQUhKCgIAA3T+vIzs5WD63u3LkTf/vb39SzVm8V5KhRo3jOI3UJvznPoTwnG3Pnz8egQYMwfPhw0ZHuGfcMdcyyZctw4MABxMbGws7OTnQc0lIlJSXqPceYmBgkJSWhubkZrq6uCAwMxKhRozBq1CgOreoAXdgzBABVayv2L5yNhiv5iI+N0bXPJ06g0SVHjhzB008/jbNnzyI4OFh0HNIh9fX1iI+PV5djTExMu6HVW3uPI0aM4GiDltGVMgSAJmUtvpr1BBwszPHTf8/p0s22WYa6QqFQwMvLCytXrux2l0GiB0+lUiEjIwPR0dGIjo5GTEwMcnJyYGBgAD8/v3Z7j5y1KpYulSEAVF29jPA/TcKEMY/im/37dWWGKctQV0yfPh11dXU4deqUrvzPRTrm+vXr6gk5MTExSExMRFNTEwYPHoygoCD13iMvRv5g6VoZAsDV2EjsXzAHq1a+jnfeeUd0nLvBCTS64OjRo/jhhx+Qnp7OIqQuM2DAAEybNg3Tpk0DcHPW6oULFxAVFYXo6Gj8/e9/R1lZGYyNjREUFISRI0fC398f/v7+sLS0FJyetMnAgGCMe2s91r/1Otzc3BAaKu60kLvFMtRydXV1CAsLw7p16zBI4Em3JD1GRkYIDg5ud3w6JydHPTHn4MGDePfdd9HW1gYXFxf4+/urC9LX1xcGBgYC05Now/40FxX5uVi4aBGcnZ3h7+8vOtLv4jCpllu/fj3Cw8ORlpbGa1WS1qmtrcWFCxfUt7OKi4tDaWkpjIyM4Ofn164gHR0dRcfVSbo4THqLqrUVh/78HKoyUpGUmKDNM0x5zFCbVVVVYfDgwdi5c6eunshKEnTlyhX1razi4+ORlJSExsZGmJubQy6XY/jw4Rg+fDjkcjlHO+6CLpchcHOGacScKbA06In4uFhtnWHKMtRmb7zxBk6fPo34+HgeKySd1dzcjNTUVCQkJCAxMREJCQlIT09Hc3Mz+vXrd1tB2tvbi46sVXS9DAGguuAqvnr6SYwOGoWjhw9r47mtLENtVV1dDXt7e4SHh2PKlCmi4xBpVFNTE1JSUtTlmJCQgMzMTLS0tKB///4YNmwYfH19MXToUAwbNgxDhgyR7DHI7lCGAFCYFI+v587E8tdexcaNG0XH+S3OJtVWO3fuhJWVFe9UT92SkZERRo4ciZEjR6pfa2hoQHJyMhITE5GSkoKzZ89i27ZtaGxshKGhIby8vODt7Q0fHx94e3tj2LBhsLCwEPguurfaIgWiP9mGi1/vge/s+XB//CkMDLj/i33Y+Y3ExPXvY9Prf4W7uzvmzZunwbSdxz1DLdTS0gInJycsXboUy5cvFx2HSJjW1lbk5OQgJSVF/ZWamgqFQgEAsLe3h6enJzw9PeHm5gYPDw+4u7vD3NxccHLNEbFn2KSsxbULsXAZMx5Nylrk/XQWR19Zgpk7voTLmPGdWve5D9Yj4fNPcPbMGW26khaHSbXRoUOHMHfuXCgUCt6aiagD5eXlSElJQXJyMjIzM5GRkYHs7GzU1NQAAKytreHh4QE3Nzd1UQ4ZMkQnr6Yjogwvnf3httLb6GoN4PZ7Gt4rVVsbDv/leZSnJCE+LlZbZhmzDLXR9OnTYWhoiH379omOQqRTFAoFsrKykJWVhczMTGRnZyMjIwNlZWUAAFNTUzg7O6vvGeno6AgnJyc4OjrC3t5eK09f6soyjNu9HWc3rcPj774P18cm4sNArzuW3UZXa/jOno+J6zZ3ervNDQ0If/oJWBjoIzoyEqampp1eZyfxmKG2qa6uxokTJ3DgwAHRUYh0jkwmg0wmw9ixY9u9XlFRoS7H3Nxc5Ofn48cff0R+fj6qq6sBAAYGBnBwcGhXlAMHDoRMJoOtrS1sbW3Rq1cvEW+rS8Tt3g73iZPh/8JLaFLWIm7X9jsu26SsBQA4PfKYRrZt0Ls3Zn4WgT3Tx2NOaCiOHT0q/BJ/LEMtc/DgQRgbG2PChAmioxB1G5aWlggJCUFISMhtP6usrER+fj7y8/ORl5eH/Px8XLp0Cd9//z0KCgrQ2trabj02Njaws7ODtbU17OzsYGVlBXt7e1hZWcHS0hLm5uYwNzcX/uH+R85uWoehU2YBAIyMTTB87gJEfby1w2VLMlLhMmY8HEYEaGz7xtY2mL59D76eNwMrVqzAli1bNLbu+8Ey1DL79+/HlClTJDuNnOhBs7CwgIWFRYc3pG1tbUVpaSmKi4tRVFQEhUKB4uJiFBYWoqSkBImJiSgpKVEPw/6aiYkJzMzM1OVobm7e7nsDAwOYmJioS/PWpJ8ePXqohw0NDAxQWVkJGGj+RHXf2fPxYaAXpmzdAaeHx6CPZb87DpFe+OJTBC55GUbGJhrNYOvjh4nvvI9/rgiDm5sbFi9erNH13wseM9QiDQ0NsLS0xJ49ezBr1izRcYjoLjU1NaG0tBQVFRWoqqpCVVUVqqur1c87+r6lpQXV1dVQqVRQqVTq4dqOeD41XePHDCuv5OHspnW4dPYHAMCYVWvh/8JLty2XefwIbtT9gmFPP6vR7f/arck5AuuIxwy1ydmzZ3Hjxg2MH9+5qctE9GAZGRnBwcEBDg4OnV5XS0sLlEolgJsl++KLLyKvCzrCYpATZu74EtezM5D09Zc4u2kdALQrxOvZGSi/9DMeXrZS8wH+JyniC+jp6SEiIqLLtnE3tO6aOFL2ww8/IDAwUBtmVhGRID179lQPpVpbW+Ohhx7qku1sdLVGk7IWA9w8MXHdZiw4dkZdiABQX1GOy9E/tSvC69kZOLVWc8V4NTYSZ9a/hbVr1+KZZ57R2HrvB/cMtciZM2cwY8YM0TGISCLidm3HsKefhYmtDL1MzDBm1VoAN4vwxOpXcensD+0KEgBm7vhSI9uuunoZR8IWYMaM6Xjrrbc0ss7O4J6hlqipqUFWVhYCAjQ3W4uI6PcMn7sAWaeOYaOrNbJOHVMPkf607T31scTfsnR06vR2m5S1OLBwDjzd3LB71y6tuBEBJ9BoiR9//BETJkxAeXk5r7dIRGrd5ULdt7S1NGP/gtlovHYFCfFxsLW1FR0J4AQa7XHhwgW4uLiwCImoWzv97psoTklCdGSkthQhAB4z1Brx8fGQy+WiYxARdZnE8N1I+noPDh06BF9fX9Fx2uExQy2RmZkJLy8v0TGIiLpE/vn/4PT6N7FhwwZMnTpVdJzbsAy1QFNTE/Lz8+Hm5iY6ChGRxpVf+hnHlr2IZ555BitXdt05i53BMtQCOTk5aG1thYeHh+goREQaVV9ZgcN/fg5DPTzw+e7dWjFztCMsQy2QkZEBAwMDODs7i45CRKQxrc3NOPryIvRqa8V33x6DoaGh6Eh3xAk0WuDq1atwcHDQynupERHdr+/Xvo7yzHRER0Wif//+ouP8Ln76aoHCwkKtmmJMRNRZcbs+Rtrh/Th86BCGDh0qOs4f4jCpFigsLISdnZ3oGEREGnHpzPc49/56bNq4EZMnTxYd566wDLWAQqFgGRJRt1CWk4Xjr4dh/vz5WLFiheg4d41lqAU4TEpE3UF9ZQUOvjgPw/38sGP7dtFx7gnLUAtUVlbC0tJSdAwiovvW2tyMQy/Ng1kvIxz85hutnjnaEU6gEayxsRFNTU28hyER6bQTbyxDdV4uYqKjtH7maEdYhoJVV1cDAMzMzAQnISK6PzGf/AuZx4/g+HffwdPTU3Sc+8IyFIxlSER/JOPbQzC2ETuvwNxhEIY9/extr+ecPon/btmADz/8EBMnThSQTDNYhoKxDIno94wZMwb//ek8GhKihWVISUoCgNvKsDQrHd++9me8uGQJli5dKiKaxvDmvoJFRkYiJCQEpaWlGDBggOg4RES3iYiIQGhoKN7IKVG/9sv1Enw16wkMc3PDD9+fgoGBgcCEnRbG2aSC1dfXAwCMjIwEJyEiujvNDQ04HPYCzPv0weFDB3W9CAFwmFS45uZm0RGIiO6eSoWTq19F7eV8JCZc6DaHeFiGWkLXzskhImmK/OgD/Pz9d/j+1KludacdlqFgjY2NAIDevXsLTkJE9PuyThxF5Ecf4N///jfGjBkjOo5G8ZihYBMmTEBeXp7oGEREf+jEG8vwl7AwvPTSS6KjaJzO7xnW1tZi8+bNaG1tFR1FspycnLBo0SLRMYioi9wawRr98MP459atgtN0DZ0/tWLfvn2YPXs25HK5+rV7fUv3snxXrVsbMtzPujMyMu7rzxGR7sjNzcWyZcuwd+/e7nrpyDCd3zNsa2sDAFy4cAHAzQ/lWx/MmnzsinWK2Kam13ny5EmsXr0aRNR9OTs747vvvhMdo0vxmCEREUkey5CIiCSPZUhERJLHMiQiIsljGRIRkeSxDImISPJYhkREJHksQyIikjyWIRERSR7LkIiIJI9lSEREkscyJCIiyWMZEhGR5LEMiYhI8liGREQkeSxDIiKSPJYhERFJHsuQiIgkj2VIRESSxzIkIiLJYxkSEZHksQyJiEjyWIZERCR5LEMiIpI8liEREUkey5CIiCSPZUhERJLHMiQiIsljGRIRkeSxDImISPJYhkREJHksQyIikjyWIRERSR7LkIiIJK+n6ADdWf/+/e9quaKiIgCAUqlETk4OsrOz8eOPP2LXrl1dGY+IiP6HZdiFysrKUFNTA2dnZwBAaWkpVCoVAEClUiEyMhKzZs1SL799+3YAwIcffvjgwxIRSRjLsIuZmJjc8WfBwcHtvn/99dehUqlYhkREDxiPGQpiY2MD4P8PkRIRkTgsQwEUCoXoCERE9CscJn2ArKysREcgIqIOcM/wASotLUVJSQkSExNFRyEiol9hGQogk8lERyAiol9hGQpSXFwsOgIREf0Py5CIiCSPZdjFamtrO3x+J0qlssPnRETUdTibtAv99nJsLi4uAICSkpIOl//tsURPT08AwNWrV7sgHRER3cIy7EJlZWXtLr/268eOKBSKdsvdzZ8hIqLO4zApERFJHsuQiIgkj2VIRESSxzIkIiLJYxkSEZHksQyJiEjyWIZdrLy8HIcPH8bcuXM1sr6Kigp8++23WLhwoUbWR0REPM/wvpiZmd3VcmVlZdi8eTP27NmjsW1v2bIFe/fu1dj6iIiIe4b3pbq6ut1VYSorK1FRUYGKigr1nuAt7733nka3vX79eo2uj4iIWIb3zcTE5I4/CwkJeYBJiIios1iGGtavXz8AN4dI76S2thZ79+6FjY0NbG1t8Y9//APl5eXtlvn000/h4OCAiIgIVFRUYODAgR2u68yZM3BycsKbb76JiooKzb0RIiIJ4TFDDSosLLyr5davX489e/YgLS0NjY2NGDFiBCoqKrBp0yYAwCeffIInn3wSixYtglKpxI4dOzpcz8WLF/HYY4/h9OnTGDt2LADg7bff1sybISKSEO4ZaoCFhQUsLS3h4+Nz18vPmzcP/fr1U9+p4quvvlL//J133oGRkREAwNjYGM8//3yH6/H19QUADB48GAAQERFx3++BiEjKuGeoAZWVlVCpVCgsLLyrQly5ciVUKhUUCgWOHTt228/nzp0LX19ffPTRR3j00UdhaWmJq1ev8u4VRERdhHuGGmRnZ3fXy+7duxd/+9vfMH78+Nt+tmjRIowbNw5hYWHw9PTEZ599psmYRET0G9wz1LDfToTpyJEjR7B8+XIkJCTA1tb2tp87Ojpi9+7dyMjIQHh4ON59910A4In2RERdhHuGAixZsgTA7Xe2v8XOzg5KpRIeHh7YsGEDTp06pS5EIiLSPJbhfaqtre3w+W/9ek/x1vNbQ6MKhQL5+fkdLrtjxw4oFAoAgKmpKdasWQMA7U6fuPVcqVTe9hoREd09luF9MDMza3fe36BBg2Bpadnhsh4eHurnnp6eAG5OoAGA8PBwmJiYYNmyZZg7dy6amprUyz7//PM4fvw4HBwccPz4cSxatAgAIJfL1cuMGDECADBs2DD1a/7+/p19e0REkqOn0vEpihEREQgNDUVbWxsAQKVSqWddavKxK9YpYpuaXufJkyexevVqznQlIl0Wxj1DIiKSPJYhERFJHsuQiIgkj2VIRESSxzIkIiLJYxkSEZHksQyJiEjyWIZERCR5LEMiIpI8liEREUkey5CIiCSPZUhERJLHMiQiIsljGRIRkeSxDImISPJYhkREJHksQyIikjyWIRERSR7LkIiIJI9lSEREkscyJCIiyWMZEhGR5LEMiYhI8liGREQkeSxDIiKSPJYhERFJHsuQiIgkj2VIRESSxzIkIiLJYxkSEZHksQyJiEjyWIZERCR5LEMiIpI8liEREUkey5CIiCSvp+gAmpKYmAgAUKlU6tduPb/T470sp8l1idympvNnZWWBiLo3lUqFkpIS2NjYiI7SZXS+DK2trQEAI0aMEJyEiKh7+vbbbzFlyhScOXMGY8aMER2nS+h8GY4ZMwZXr15FS0uL6CiSZWpqKjoCEXUhpVIJAJj19J8QFxsDZ2dnwYk0T+fLEAAcHBxER7hvycnJ2LdvHzZt2iQ6ChFRh/T09AAAvWX2eOLJSbgQH9ftfgnmBBrBCgoKsHnzZtExiIj+0LSPdqNMqcS06TPQ2toqOo5GsQwF69Hj5l9BTU2N4CRERL/P2NoGU//9OaJiohG2dKnoOBrFMiQiortm4+WDJzf/C5/s2IHt27eLjqMxLEPB+vbtKzoCEdE9cZs4CQ8vW4mwpUtx+vRp0XE0oltMoNFlPXve/CtQKpXd7oA0EXVebW0tLl26JDTDrfO4f23UkpdRkXcJ02fMxIX4OAwZMkRAMs1hGQrWp08fAEBjY6PgJESkjVauXIkdO3aIjnE7PT08/u4H+HredDz+5CTEx8agX79+olPdN5ahYGZmZgCA6upqwUmISBvV1tZCNkyOyR98LDSHkbHJba/17NULM7Z/iT3Tx2PW03/C96dOwtDQUEC6zmMZCsYyJKI/YmY/EGb2A0XH6FAfy36Y+dlefDnrCYQtXYpPP/lEdKT7wgk0grEMiUjX9Xd1x+QtO7Br1y5s3bpVdJz7wjIUrEePHjAxMWEZEpFOc3lsAh5etgrLV6zA8ePHRce5ZyxDLWBlZYXS0lLRMYiIOiXwxaXwmjwDs+eEIi0tTXSce8Iy1AJ2dnYoKioSHYOIqNMmvvsBzF3d8NSUqSgrKxMd566xDLWATCZDYWGh6BhERJ2mb2CAaR/txi9tbZg6fTpu3LghOtJdYRlqAZYhEXUnfSwsMe3fn+NiSioWLlokOs5dYRlqAXt7exQUFIiOQUSkMf1d3THpg4+xd+9enbhFHctQC7i4uKCsrIwzSomoW3EePRZjVq7F6jVrcOzYMdFxfhfLUAu4u7sDADIzMwUnISLSrBHPLYbPzDl4ZvZsrZ5hyjLUAvb29jA2NkZ2drboKEREGjfurQ2w9vHDhMefwPXr10XH6RDLUEt4eHggKytLdAwiIo3TNzDAlA8/Q3NPA0x6ajIaGhpER7oNy1BLeHl5ISUlRXQMIiIAQH1FOX7652ZsdLXGRldrZB4/0qn19TYzx/RPw5GelYWFixZBpVJpKKlmsAy1RGBgIOLj49HW1iY6ChFJXH1FOaoKruLhZSvxRk4JpmzdgaOvLEHc7s7d2d5ysBOmfrQL+/btw4YNGzSUVjNYhlrC398fNTU1wm/iSURUVXAVsmFy9fceT04FAJzdtK7T6x4UGIJxb67Hm2++iQMHDnR6fZrCMtQS7u7ueOihhxATEyM6ChFJRNzu7djoao3k/eGoryjHRldrAGhXhADQpKwFAAT9+RWNbNdvznPwmz0fc+fPx4ULFzSyzs5iGWoJfX19BAQEsAyJ6IGI270d7hMn442cErg/PhkJX+3qcLnaIgXidt0cHvWaOlNj2x/35nrY+g7HlGnTteIKXCxDLTJx4kScOnVKdAwikoCzm9ahp5ERgJt3sR8+d8Fty9QWKfDv0XJEfXzzHoWXzv6gse3r6etj6radaDHqhanTpqO+vl5j676vPCptm9IjYWlpafD29kZGRgY8PDxExyEiDaqurkZVVZX6sbGxEXV1dQCApqYmdRk0NjaqTz1oaGjAN998Az0nN0z+4GON5jm1diUufr0HU7bugNPDY2BkbHLHZa9nZyD71HeI+ngrHn/3fQx7+lmN5ai6ehk7xgVixsyZOPDNNxpb7z0K6ylqy3S7oUOHwsHBASdPnmQZEmmxpqYmFBcXQ6FQoKioCMXFxSgpKUFFRQWqqqrafd0qv9/b7zAwMMBDDz0EADA0NETfvn0BAEZGRigtLYWNk5vG38PI5xfjl9JiHH1lCQBgzKq18H/hpQ6XHeDmiZ69eiHq4604uWa5RsvwoQE3j1MeFDyZhmWoZR5//HEcP34cr732mugoRJLU1NSEK1euIC8vD1euXEFJSQkKCgpQWlqKwsJClJSUtLtPX48ePWBlZQUrKyv069cP5ubmcHR0hJmZGczNzdVfv/3e0NAQxsbGf5gnNDQUKcpGjb9Pi0FOmLnjS1zPzkDS11+qZ4reqRAtBjlpPANUKny34i+w7NcfsT7g9s8AAAxqSURBVDHRml//PWAZapnZs2djzJgxKCoqgq2treg4RN1SeXk58vLykJ+fr/669b1CoVCf72tpaQkbGxvY2dnB2toaw4cPh7W1Nezs7GBlZaV+7NlT9z5KN7pa49XEHAxw88TEdZvhN3sedk1+7I5leGtG6ZStOzSW4dyWDcg7dxo/fP89nJ2dNbbe+6F7f4PdXEhICGQyGfbt24dXX31VdBwindXc3Izc3FxkZmYiOzsbGRkZyM7ORl5eHmprb36wGxoaYuDAgXBycoKnpyeeeuopODk5wdHREY6Ojuqhy+4qbtd2DHv6WZjYytDLxAxjVq0FABxYMg/2IwPhPnEyTGxlaFLWIm7XdgT9+RX1OYedlXHsIGI//Qg7d+7E6NGjNbLOzmAZapkePXpgzpw5iIiIYBkS3YW6ujpkZ2cjKysLmZmZ+Pnnn5GVlYXc3Fw0NzejZ8+ecHR0hKenJ8aPHw8XFxd12dnZ2UFfX1/0WxBm+NwFSDv6Dc5uWtfumKHP08/iwJJ56qHTMavWwmn02NvOP7xfRSlJOPHGK3jttdfwwgsvaGSdncXZpFooKysLnp6eSExMhK+vr+g4RFrj8uXLSE1NRUpKClJTU5GcnIz8/HyoVCoYGRnBzc0Nbm5u8PDwgLu7O9zd3eHq6gpDQ0PR0e/brWOGmp5NKkptkQJ7ZkzA6KBROHLokLb8MsLZpNrI3d0d48ePxz//+U/s2bNHdByiB66+vh6ZmZm4ePEi0tLSkJycjLS0NFRXV0NfXx+urq4YOnQoFi5cCC8vL7i7u2PQoEHa8sFKd3Cj7hccfPFZONhYY+9XX2nV3xfLUEu98sormDx5MjZv3gxra2vRcYi6TF1dHZKTk5GQkIDExEQkJCQgJycHra2tMDU1hbe3N3x8fDB37lz4+vrCw8MDffr0ER2b7pGqtRXfLf8LmivKcSLhAkxM7nxeowgsQy01fvx4uLq6YseOHfj73/8uOg6RRtTX1yMlJUVdegkJCcjOzkZraytsbGwwfPhw/OlPf4KPjw98fHwwePBg0ZFJQ859sB755/+Dn/77XwwcOFB0nNuwDLWUnp4e3n77bTz33HMICwtDv379REciuictLS1IT09HbGws4uPjkZiYiMzMTLS0tMDKygpyuRwzZsyAXC7H8OHDeSpRN5Z6cB9id36M8PBwBAQEiI7TIZahFps6dSrc3d2xceNGfPDBB6LjEP0uhUKBuLg4xMbGIjY2FklJSairq4OFhQVGjhyJyZMnY926dZDL5bC3txcdlx6Qa/Ex+P6t17Fq1SqEhoaKjnNHLEMtpqenhw0bNmDSpElYunQpBg0aJDoSEYCbx/mSkpLalZ9CoYCBgQF8fHwQEBCAxYsXY+TIkXB1dRUdlwSpunoZR19ehCeefELrbub7Wzy1QgfMmDEDDQ0NOHHihOgoJFEKhQLR0dGIjo5GTEwMEhMT0dLSAgcHBwQGBsLf3x/+/v7w9fVF7969RcftVnT11IomZS32zp4Cq95GiImO0vZJTzy1Qhds27YNHh4e2LdvH5555hnRcaiba21tRXp6OqKiohAVFYXIyEhcu3YNRkZGkMvlCA4OxsqVKxEYGMiZztQhVWsrjr2yBHrKGhw/E6ftRQiAw6Q6QSaTYePGjVi6dCmCg4NhZ2cnOhJ1I0qlErGxsYiMjER0dDTi4uKgVCrRv39/BAYGIiwsDEFBQZDL5TD63/3viH7PmY1rUZgQi3Nnz+rM5xXLUEcsWbIEBw8exOzZs/Gf//xHJy8MTNrh8uXLiIqKQkxMDKKiopCeno62tja4ubkhJCQEzz77LAIDA3msj+5LUsQXSPhqFyIiIuDv7y86zl3jJ6qO6NGjB/bu3QtfX1+sWrUK77//vuhIpAOam5uRlJSEmJgY9TE/hUKBvn37YsSIEZg0aRLWr1+PwMBAWFhYiI5LOu5qbCTOrH8Lb731ls4d0mEZ6hBra2tERERg3LhxcHJywksvdXyrFZKumpoaxMTEIDIyElFRUYiLi0NDQwNkMhlGjRqF5cuXIzAwEHK5nKMLpFFVVy/jyNKFmDFjOtauXSs6zj3jvwYd8+ijj+Jf//oXli5dCplMhsmTJ4uORAJdu3ZNXXyRkZFIT08HAHh5eSE4OBgLFy5ESEgIHBwcBCel7qxJWYtvFs6B55Ah2L1rF/T09ERHumcsQx300ksv4dq1a5g9ezaOHj2KsWPHio5ED8CtWZ7nz59HdHQ0IiMjUVBQgN69e8Pf3x9PPfUUNm3ahFGjRsHU1FR0XJKIttYWHA57AYYtzTh86KBOzBztCMtQR23YsAGVlZWYNGkS/u///g9TpkwRHYk0rK6uDhcuXFCXX3R0NGpra9G/f38EBwfj5ZdfRnBwMPz8/GBgYCA6LnWRHj16IOPbQyhNSRKWoa66ChYDB2PewVO3/ez0O2tQnJKE6MhIyGQyAek0g2Woo/T09LBjxw4YGxtj5syZ+OSTT7TmJpl0f0pKShATE4OffvoJMTExSEpKQnNzM4YMGYKgoCBs3boVwcHBnOUpMStWrICXl5fQDBEREUhNTb7t9cTw3Uj6eg8OHjyo8/deZRnqMD09Pbz//vswNzfHwoULcfHiRWzZsoV7CTqgpaUFqamp6kuZxcXFIScnBwYGBuoT21etWoWgoCD0799fdFwSyNvbG97e3kIz2Nvb33Zd0cuR53B6/ZvYsGEDpk2bJiiZ5rAMu4HVq1fD09MT8+bNQ2pqKsLDw3khZC2jUCgQHx+PmJgYxMbGIjExEfX19ejfvz/8/f0xb948hISEYMSIEbycGWm98twcHH15MZ555hmsXLlSdByNYBl2E1OnTkVcXBxmzpwJLy8vbNmyBQsWLBAdS5IaGxuRlJTUbq/v2rVr6otYBwYGYvHixQgICICzs7PouET3pL6yAodfmg8vd3d8vnu3Ts4c7QjLsBtxd3dHYmIi3nzzTbz44ovYv38/tm7dCg8PD9HRurX8/Px2xXfx4kU0NzdDJpMhMDAQf/3rXxEQEAA/Pz/u9ZFOa21uxtGXF6FXWyuOf/ctDA0NRUfSGJZhN9OrVy+89957mD59Ov7yl7/Ax8cHixcvxrp163iDYA2orq7GxYsXER0djfj4eMTGxuL69evo3bs35HI5QkJC8PrrryMgIECnZ9YRdeSHv69EWUYaYqKjut2xbN7CqRtra2vDF198gTVr1kCpVGLx4sV49dVX+SF9l8rKypCUlISLFy8iMTERFy9eRH5+PlQqFVxcXNS3LQoMDIS3tzcnLlG3FRERgdDQUPTQ18fhQ4e648U+wliGEvDLL7/g008/xZYtW1BWVobZs2dj0aJFCAoKEh1Na1y5cgWpqam4ePGiugALCgqgp6cHR0dH+Pr6Qi6Xqx+5l01S8uWXX2L+/Pn4xz/+gRUrVoiO0xVYhlJy48YN7N27Fx9//DESEhLg5uaG+fPnY9asWXBychId74G4fv060tPT1V9paWnIzMxEbW0t9PX14erqCrlcjmHDhqkfzczMRMcmEqq+vh7nz5/HhAkTREfpKixDqUpLS8Nnn32GAwcOoLi4GEOHDsWUKVMwbtw4+Pv76/R965qbm3Ht2jXk5uYiNzcXP//8MzIyMpCeno7r168DAGxsbODp6YmhQ4e2e+zbt6/g9EQkAMtQ6tra2hAbG4sjR47g+PHjyMzMRO/evREYGAh/f3/4+fnB19cXjo6OWjWFuqqqCkVFRbhy5QouXbqkLr7c3FxcvXoVLS0tAIABAwbA1dVVXXgeHh7w9vaGpaWl4HdARFqEZUjtlZaW4ty5czh37hxiYmKQmZmJ5uZmmJiYwNnZGS4uLnBxccHgwYNhZWUFmUwGKysr9O/fv1O3BGpsbERtbS2USiWqq6tRU1OD0tJSlJSUoKCgACUlJSgsLERxcTEUCgUaGhrUf1Ymk8HZ2RmOjo5wdnZu92ViYqKJ/yxE1L2xDOn33bhxA2lpaUhOTkZOTo567+vy5ctQKpXtlu3Tpw9MTU1hamr6h8ONKpVKXXq1tbVobm6+bZmePXvCysoKdnZ2sLa2hr29PaytrWFnZwdbW1vIZDIMGjRIZ6+ST0Rag2VI96+urg5FRUUoKSlBeXk5ampq1OVWV1f3u39WT08PZmZmMDExgYmJCYyNjdWP5ubmMDExgYWFBXr06PGA3g0RSRjLkIiIJC+Mv3YTEZHksQyJiEjyWIZERCR5PQHMFR2CiIhIoPj/B9DerdnbaBMHAAAAAElFTkSuQmCC\n",
=======
      "image/png": "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\n",
>>>>>>> cd2c5013aaf9b5bc94bb764b52fd37db183472f1
      "text/plain": [
       "<IPython.core.display.Image object>"
      ]
     },
     "metadata": {},
     "output_type": "display_data"
    },
    {
     "name": "stdout",
     "output_type": "stream",
     "text": [
      "Flash: F1\n",
      "ins...\n",
      "[0] missing stream\n",
      "outs...\n",
      "[0] s2\n",
      "    phase: 'l', T: 298.15 K, P: 101325 Pa\n",
      "    flow: 0\n",
      "[1] s3\n",
      "    phase: 'l', T: 298.15 K, P: 101325 Pa\n",
      "    flow: 0\n"
     ]
    }
   ],
   "source": [
    "from biosteam import units\n",
    "\n",
    "# Specify vapor fraction and isobaric conditions\n",
    "F1 = units.Flash('F1', V=0.5, P=101325)\n",
    "F1"
   ]
  },
  {
   "cell_type": "markdown",
   "metadata": {},
   "source": [
    "Note that, by default, Missing Stream objects are given to inputs, `ins`, and empty streams to outputs, `outs`:"
   ]
  },
  {
   "cell_type": "code",
   "execution_count": 16,
   "metadata": {},
   "outputs": [
    {
     "data": {
      "text/plain": [
       "[<MissingStream>]"
      ]
     },
     "execution_count": 16,
     "metadata": {},
     "output_type": "execute_result"
    }
   ],
   "source": [
    "F1.ins"
   ]
  },
  {
   "cell_type": "code",
   "execution_count": 17,
   "metadata": {},
   "outputs": [
    {
     "data": {
      "text/plain": [
       "[<Stream: s2>, <Stream: s3>]"
      ]
     },
     "execution_count": 17,
     "metadata": {},
     "output_type": "execute_result"
    }
   ],
   "source": [
    "F1.outs"
   ]
  },
  {
   "cell_type": "markdown",
   "metadata": {},
   "source": [
    "You can connect streams by setting the `ins` and `outs`:"
   ]
  },
  {
   "cell_type": "code",
   "execution_count": 18,
   "metadata": {},
   "outputs": [
    {
     "data": {
<<<<<<< HEAD
      "image/png": "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\n",
=======
      "image/png": "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\n",
>>>>>>> cd2c5013aaf9b5bc94bb764b52fd37db183472f1
      "text/plain": [
       "<IPython.core.display.Image object>"
      ]
     },
     "metadata": {},
     "output_type": "display_data"
    },
    {
     "name": "stdout",
     "output_type": "stream",
     "text": [
      "Flash: F1\n",
      "ins...\n",
      "[0] s1\n",
      "    phase: 'l', T: 298.15 K, P: 101325 Pa\n",
      "    flow (kmol/hr): Water     50\n",
      "                    Methanol  20\n",
      "outs...\n",
      "[0] s2\n",
      "    phase: 'l', T: 298.15 K, P: 101325 Pa\n",
      "    flow: 0\n",
      "[1] s3\n",
      "    phase: 'l', T: 298.15 K, P: 101325 Pa\n",
      "    flow: 0\n"
     ]
    }
   ],
   "source": [
    "F1.ins[0] = feed\n",
    "F1"
   ]
  },
  {
   "cell_type": "markdown",
   "metadata": {},
   "source": [
    "To simulate the flash, use the `simulate` method:"
   ]
  },
  {
   "cell_type": "code",
   "execution_count": 19,
   "metadata": {},
   "outputs": [
    {
     "name": "stdout",
     "output_type": "stream",
     "text": [
      "Flash: F1\n",
      "ins...\n",
      "[0] s1\n",
      "    phase: 'l', T: 298.15 K, P: 101325 Pa\n",
      "    flow (kmol/hr): Water     50\n",
      "                    Methanol  20\n",
      "outs...\n",
      "[0] s2\n",
      "    phase: 'g', T: 359.63 K, P: 101325 Pa\n",
      "    flow (kmol/hr): Water     19\n",
      "                    Methanol  16\n",
      "[1] s3\n",
      "    phase: 'l', T: 359.63 K, P: 101325 Pa\n",
      "    flow (kmol/hr): Water     31\n",
      "                    Methanol  4\n"
     ]
    },
    {
     "name": "stderr",
     "output_type": "stream",
     "text": [
<<<<<<< HEAD
      "C:\\Users\\yoelr\\OneDrive\\Code\\biosteam\\biosteam\\units\\_flash.py:312: CostWarning: \u001b[38;2;229;63;229m<Flash: F1>\u001b[0m Vertical vessel weight (591.9 lb) is out of bounds (4200 to 1e+06 lb).\n",
      "  if isVertical: self._design_vertical_vessel()\n",
      "C:\\Users\\yoelr\\OneDrive\\Code\\biosteam\\biosteam\\units\\_flash.py:312: CostWarning: \u001b[38;2;229;63;229m<Flash: F1>\u001b[0m Vertical vessel length (11.5 ft) is out of bounds (12 to 40 ft).\n",
      "  if isVertical: self._design_vertical_vessel()\n"
=======
      "C:\\Users\\yrc2\\OneDrive\\Code\\biosteam\\biosteam\\units\\design_tools\\pressure_vessel.py:78: CostWarning: \u001b[38;2;229;63;229m<Flash: F1>\u001b[0m Vertical vessel weight (399.5 lb) is out of bounds (4200 to 1e+06 lb).\n",
      "  return method(pressure, diameter, length)\n",
      "C:\\Users\\yrc2\\OneDrive\\Code\\biosteam\\biosteam\\units\\design_tools\\pressure_vessel.py:78: CostWarning: \u001b[38;2;229;63;229m<Flash: F1>\u001b[0m Vertical vessel length (7.5 ft) is out of bounds (12 to 40 ft).\n",
      "  return method(pressure, diameter, length)\n"
>>>>>>> cd2c5013aaf9b5bc94bb764b52fd37db183472f1
     ]
    }
   ],
   "source": [
    "F1.simulate()\n",
    "F1.show()"
   ]
  },
  {
   "cell_type": "markdown",
   "metadata": {},
   "source": [
    "Note that warnings notify you whether purchase cost correlations are out of range for the given design. This is ok for the example, but its important to make sure that the process is well designed and cost correlations are suitable for the domain."
   ]
  },
  {
   "cell_type": "markdown",
   "metadata": {},
   "source": [
    "The `results` method returns simulation results:"
   ]
  },
  {
   "cell_type": "code",
   "execution_count": 20,
   "metadata": {},
   "outputs": [
    {
     "data": {
      "text/html": [
       "<div>\n",
       "<style scoped>\n",
       "    .dataframe tbody tr th:only-of-type {\n",
       "        vertical-align: middle;\n",
       "    }\n",
       "\n",
       "    .dataframe tbody tr th {\n",
       "        vertical-align: top;\n",
       "    }\n",
       "\n",
       "    .dataframe thead th {\n",
       "        text-align: right;\n",
       "    }\n",
       "</style>\n",
       "<table border=\"1\" class=\"dataframe\">\n",
       "  <thead>\n",
       "    <tr style=\"text-align: right;\">\n",
       "      <th></th>\n",
       "      <th>Flash</th>\n",
       "      <th>Units</th>\n",
       "      <th>F1</th>\n",
       "    </tr>\n",
       "  </thead>\n",
       "  <tbody>\n",
       "    <tr>\n",
       "      <th rowspan=\"3\" valign=\"top\">Low pressure steam</th>\n",
       "      <th>Duty</th>\n",
       "      <td>kJ/hr</td>\n",
       "      <td>1.84e+06</td>\n",
       "    </tr>\n",
       "    <tr>\n",
       "      <th>Flow</th>\n",
       "      <td>kmol/hr</td>\n",
       "      <td>47.4</td>\n",
       "    </tr>\n",
       "    <tr>\n",
       "      <th>Cost</th>\n",
       "      <td>USD/hr</td>\n",
<<<<<<< HEAD
       "      <td>9.48</td>\n",
=======
       "      <td>9.49</td>\n",
>>>>>>> cd2c5013aaf9b5bc94bb764b52fd37db183472f1
       "    </tr>\n",
       "    <tr>\n",
       "      <th rowspan=\"6\" valign=\"top\">Design</th>\n",
       "      <th>Vessel type</th>\n",
       "      <td></td>\n",
       "      <td>Vertical</td>\n",
       "    </tr>\n",
       "    <tr>\n",
       "      <th>Length</th>\n",
       "      <td>ft</td>\n",
<<<<<<< HEAD
       "      <td>11.5</td>\n",
=======
       "      <td>7.5</td>\n",
>>>>>>> cd2c5013aaf9b5bc94bb764b52fd37db183472f1
       "    </tr>\n",
       "    <tr>\n",
       "      <th>Diameter</th>\n",
       "      <td>ft</td>\n",
       "      <td>1.5</td>\n",
       "    </tr>\n",
       "    <tr>\n",
       "      <th>Weight</th>\n",
       "      <td>lb</td>\n",
<<<<<<< HEAD
       "      <td>592</td>\n",
=======
       "      <td>399</td>\n",
>>>>>>> cd2c5013aaf9b5bc94bb764b52fd37db183472f1
       "    </tr>\n",
       "    <tr>\n",
       "      <th>Wall thickness</th>\n",
       "      <td>in</td>\n",
       "      <td>0.25</td>\n",
       "    </tr>\n",
       "    <tr>\n",
<<<<<<< HEAD
       "      <th>Material</th>\n",
=======
       "      <th>Vessel material</th>\n",
>>>>>>> cd2c5013aaf9b5bc94bb764b52fd37db183472f1
       "      <td></td>\n",
       "      <td>Carbon steel</td>\n",
       "    </tr>\n",
       "    <tr>\n",
       "      <th rowspan=\"2\" valign=\"top\">Purchase cost</th>\n",
<<<<<<< HEAD
       "      <th>Flash</th>\n",
       "      <td>USD</td>\n",
       "      <td>1.43e+04</td>\n",
=======
       "      <th>Vertical pressure vessel</th>\n",
       "      <td>USD</td>\n",
       "      <td>1.16e+04</td>\n",
>>>>>>> cd2c5013aaf9b5bc94bb764b52fd37db183472f1
       "    </tr>\n",
       "    <tr>\n",
       "      <th>Heat exchanger</th>\n",
       "      <td>USD</td>\n",
<<<<<<< HEAD
       "      <td>5.17e+03</td>\n",
=======
       "      <td>5.16e+03</td>\n",
>>>>>>> cd2c5013aaf9b5bc94bb764b52fd37db183472f1
       "    </tr>\n",
       "    <tr>\n",
       "      <th>Total purchase cost</th>\n",
       "      <th></th>\n",
       "      <td>USD</td>\n",
<<<<<<< HEAD
       "      <td>1.94e+04</td>\n",
=======
       "      <td>1.67e+04</td>\n",
>>>>>>> cd2c5013aaf9b5bc94bb764b52fd37db183472f1
       "    </tr>\n",
       "    <tr>\n",
       "      <th>Utility cost</th>\n",
       "      <th></th>\n",
       "      <td>USD/hr</td>\n",
<<<<<<< HEAD
       "      <td>9.48</td>\n",
=======
       "      <td>9.49</td>\n",
>>>>>>> cd2c5013aaf9b5bc94bb764b52fd37db183472f1
       "    </tr>\n",
       "  </tbody>\n",
       "</table>\n",
       "</div>"
      ],
      "text/plain": [
<<<<<<< HEAD
       "Flash                                 Units            F1\n",
       "Low pressure steam  Duty              kJ/hr      1.84e+06\n",
       "                    Flow            kmol/hr          47.4\n",
       "                    Cost             USD/hr          9.48\n",
       "Design              Vessel type                  Vertical\n",
       "                    Length               ft          11.5\n",
       "                    Diameter             ft           1.5\n",
       "                    Weight               lb           592\n",
       "                    Wall thickness       in          0.25\n",
       "                    Material                 Carbon steel\n",
       "Purchase cost       Flash               USD      1.43e+04\n",
       "                    Heat exchanger      USD      5.17e+03\n",
       "Total purchase cost                     USD      1.94e+04\n",
       "Utility cost                         USD/hr          9.48"
=======
       "Flash                                           Units            F1\n",
       "Low pressure steam  Duty                        kJ/hr      1.84e+06\n",
       "                    Flow                      kmol/hr          47.4\n",
       "                    Cost                       USD/hr          9.49\n",
       "Design              Vessel type                            Vertical\n",
       "                    Length                         ft           7.5\n",
       "                    Diameter                       ft           1.5\n",
       "                    Weight                         lb           399\n",
       "                    Wall thickness                 in          0.25\n",
       "                    Vessel material                    Carbon steel\n",
       "Purchase cost       Vertical pressure vessel      USD      1.16e+04\n",
       "                    Heat exchanger                USD      5.16e+03\n",
       "Total purchase cost                               USD      1.67e+04\n",
       "Utility cost                                   USD/hr          9.49"
>>>>>>> cd2c5013aaf9b5bc94bb764b52fd37db183472f1
      ]
     },
     "execution_count": 20,
     "metadata": {},
     "output_type": "execute_result"
    }
   ],
   "source": [
    "F1.results() # Default returns DataFrame object with units"
   ]
  },
  {
   "cell_type": "code",
   "execution_count": 21,
   "metadata": {},
   "outputs": [
    {
     "data": {
      "text/plain": [
<<<<<<< HEAD
       "Low pressure steam   Duty                  1.84e+06\n",
       "                     Flow                      47.4\n",
       "                     Cost                      9.48\n",
       "Design               Vessel type           Vertical\n",
       "                     Length                    11.5\n",
       "                     Diameter                   1.5\n",
       "                     Weight                     592\n",
       "                     Wall thickness            0.25\n",
       "                     Material          Carbon steel\n",
       "Purchase cost        Flash                 1.43e+04\n",
       "                     Heat exchanger        5.17e+03\n",
       "Total purchase cost                        1.94e+04\n",
       "Utility cost                                   9.48\n",
=======
       "Low pressure steam   Duty                            1.84e+06\n",
       "                     Flow                                47.4\n",
       "                     Cost                                9.49\n",
       "Design               Vessel type                     Vertical\n",
       "                     Length                               7.5\n",
       "                     Diameter                             1.5\n",
       "                     Weight                               399\n",
       "                     Wall thickness                      0.25\n",
       "                     Vessel material             Carbon steel\n",
       "Purchase cost        Heat exchanger                  5.16e+03\n",
       "                     Vertical pressure vessel        1.16e+04\n",
       "Total purchase cost                                  1.67e+04\n",
       "Utility cost                                             9.49\n",
>>>>>>> cd2c5013aaf9b5bc94bb764b52fd37db183472f1
       "Name: F1, dtype: object"
      ]
     },
     "execution_count": 21,
     "metadata": {},
     "output_type": "execute_result"
    }
   ],
   "source": [
    "F1.results(with_units=False) # Returns Series object without units"
   ]
  },
  {
   "cell_type": "markdown",
   "metadata": {},
   "source": [
    "### Solve recycle loops and process specifications with System objects"
   ]
  },
  {
   "cell_type": "markdown",
   "metadata": {},
   "source": [
    "**Designing a chemical process is no easy task. A simple recycle process consisting of a flash with a partial liquid recycle is presented here.**"
   ]
  },
  {
   "cell_type": "markdown",
   "metadata": {},
   "source": [
    "Create a [Mixer](../units/Mixer.txt) object and a [Splitter](../units/Splitter.txt) object:"
   ]
  },
  {
   "cell_type": "code",
   "execution_count": 22,
   "metadata": {
    "scrolled": true
   },
   "outputs": [],
   "source": [
    "M1 = units.Mixer('M1')\n",
    "S1 = units.Splitter('S1', outs=('liquid_recycle', 'liquid_product'),\n",
    "                    split=0.5) # Split to 0th output stream\n",
    "F1.outs[0].ID = 'vapor_product'\n",
    "F1.outs[1].ID = 'liquid'"
   ]
  },
  {
   "cell_type": "markdown",
   "metadata": {},
   "source": [
    "You can [find unit operations and manage flowsheets](./Managing_flowsheets.ipynb) with the `main_flowsheet`:"
   ]
  },
  {
   "cell_type": "code",
   "execution_count": 23,
   "metadata": {},
   "outputs": [
    {
     "data": {
      "image/svg+xml": [
<<<<<<< HEAD
       "<svg height=\"327pt\" viewBox=\"0.00 0.00 438.39 327.24\" width=\"438pt\" xmlns=\"http://www.w3.org/2000/svg\" xmlns:xlink=\"http://www.w3.org/1999/xlink\">\n",
       "<g class=\"graph\" id=\"graph0\" transform=\"scale(1 1) rotate(0) translate(4 323.24)\">\n",
       "<title>%3</title>\n",
       "<polygon fill=\"white\" points=\"-4,4 -4,-323.24 434.392,-323.24 434.392,4 -4,4\" stroke=\"none\"/>\n",
       "<!-- M1\n",
       "Mixer&#45;&gt;s4 -->\n",
       "<g class=\"edge\" id=\"edge6\"><title>M1\n",
       "Mixer:e-&gt;s4:w</title>\n",
       "<path d=\"M149.196,-53.7401C181.061,-53.7401 189.027,-53.7401 220.892,-53.7401\" fill=\"none\" stroke=\"black\"/>\n",
       "</g>\n",
       "<!-- S1\n",
       "Splitter&#45;&gt;liquid_product -->\n",
       "<g class=\"edge\" id=\"edge4\"><title>S1\n",
       "Splitter:c-&gt;liquid_product:w</title>\n",
       "<path d=\"M119.008,-175.302C141.087,-177.031 169.265,-178.74 194.392,-178.74\" fill=\"none\" stroke=\"black\"/>\n",
       "</g>\n",
       "<!-- S1\n",
       "Splitter&#45;&gt;liquid_recycle -->\n",
       "<g class=\"edge\" id=\"edge5\"><title>S1\n",
       "Splitter:c-&gt;liquid_recycle:w</title>\n",
       "<path d=\"M118.948,-147.139C140.464,-135.767 168.208,-124.74 194.892,-124.74\" fill=\"none\" stroke=\"black\"/>\n",
       "</g>\n",
       "<!-- F1\n",
       "Flash&#45;&gt;liquid -->\n",
       "<g class=\"edge\" id=\"edge1\"><title>F1\n",
       "Flash:s-&gt;liquid:w</title>\n",
       "<path d=\"M243.892,-216.74C243.892,-192.072 330.224,-217.74 354.892,-217.74\" fill=\"none\" stroke=\"black\"/>\n",
       "</g>\n",
       "<!-- F1\n",
       "Flash&#45;&gt;vapor_product -->\n",
       "<g class=\"edge\" id=\"edge3\"><title>F1\n",
       "Flash:n-&gt;vapor_product:w</title>\n",
       "<path d=\"M243.892,-298.74C243.892,-336.743 291.389,-297.74 329.392,-297.74\" fill=\"none\" stroke=\"black\"/>\n",
       "</g>\n",
       "<!-- s1&#45;&gt;F1\n",
       "Flash -->\n",
       "<g class=\"edge\" id=\"edge2\"><title>s1:e-&gt;F1\n",
       "Flash:c</title>\n",
       "<path d=\"M102.196,-257.74C138.103,-257.74 179.164,-257.74 207.621,-257.74\" fill=\"none\" stroke=\"black\"/>\n",
=======
       "<svg height=\"310pt\" viewBox=\"0.00 0.00 438.39 310.48\" width=\"438pt\" xmlns=\"http://www.w3.org/2000/svg\" xmlns:xlink=\"http://www.w3.org/1999/xlink\">\n",
       "<g class=\"graph\" id=\"graph0\" transform=\"scale(1 1) rotate(0) translate(4 306.48)\">\n",
       "<title>%3</title>\n",
       "<polygon fill=\"white\" points=\"-4,4 -4,-306.48 434.392,-306.48 434.392,4 -4,4\" stroke=\"none\"/>\n",
       "<!-- M1\n",
       "Mixer&#45;&gt;s4 -->\n",
       "<g class=\"edge\" id=\"edge2\"><title>M1\n",
       "Mixer:e-&gt;s4:w</title>\n",
       "<path d=\"M149.196,-53.7401C181.061,-53.7401 189.027,-53.7401 220.892,-53.7401\" fill=\"none\" stroke=\"black\"/>\n",
       "</g>\n",
       "<!-- F1\n",
       "Flash&#45;&gt;vapor_product -->\n",
       "<g class=\"edge\" id=\"edge1\"><title>F1\n",
       "Flash:n-&gt;vapor_product:w</title>\n",
       "<path d=\"M243.892,-180.74C243.892,-199.741 310.391,-179.74 329.392,-179.74\" fill=\"none\" stroke=\"black\"/>\n",
       "</g>\n",
       "<!-- F1\n",
       "Flash&#45;&gt;liquid -->\n",
       "<g class=\"edge\" id=\"edge4\"><title>F1\n",
       "Flash:s-&gt;liquid:w</title>\n",
       "<path d=\"M243.892,-98.7401C243.892,-74.0724 330.224,-99.7401 354.892,-99.7401\" fill=\"none\" stroke=\"black\"/>\n",
       "</g>\n",
       "<!-- S1\n",
       "Splitter&#45;&gt;liquid_recycle -->\n",
       "<g class=\"edge\" id=\"edge3\"><title>S1\n",
       "Splitter:c-&gt;liquid_recycle:w</title>\n",
       "<path d=\"M119.058,-261.021C141.073,-266.926 169.259,-272.74 194.892,-272.74\" fill=\"none\" stroke=\"black\"/>\n",
       "</g>\n",
       "<!-- S1\n",
       "Splitter&#45;&gt;liquid_product -->\n",
       "<g class=\"edge\" id=\"edge6\"><title>S1\n",
       "Splitter:c-&gt;liquid_product:w</title>\n",
       "<path d=\"M118.911,-233.301C140.719,-225.95 168.666,-218.74 194.392,-218.74\" fill=\"none\" stroke=\"black\"/>\n",
       "</g>\n",
       "<!-- s1&#45;&gt;F1\n",
       "Flash -->\n",
       "<g class=\"edge\" id=\"edge5\"><title>s1:e-&gt;F1\n",
       "Flash:c</title>\n",
       "<path d=\"M102.196,-139.74C143.721,-139.74 192.139,-139.74 219.984,-139.74\" fill=\"none\" stroke=\"black\"/>\n",
>>>>>>> cd2c5013aaf9b5bc94bb764b52fd37db183472f1
       "</g>\n",
       "<!-- M1\n",
       "Mixer -->\n",
       "<g class=\"node\" id=\"node1\"><title>M1\n",
       "Mixer</title>\n",
       "<defs>\n",
       "<linearGradient gradientUnits=\"userSpaceOnUse\" id=\"l_0\" x1=\"44.6492\" x2=\"148.289\" y1=\"-53.7401\" y2=\"-53.7401\">\n",
       "<stop offset=\"0\" style=\"stop-color:white;stop-opacity:1.;\"/>\n",
       "<stop offset=\"1\" style=\"stop-color:#cdcdcd;stop-opacity:1.;\"/>\n",
       "</linearGradient>\n",
       "</defs>\n",
       "<polygon fill=\"url(#l_0)\" points=\"148.289,-53.7401 44.6492,-107.721 44.6492,0.241193 148.289,-53.7401\" stroke=\"black\"/>\n",
       "<text font-family=\"Times New Roman,serif\" font-size=\"14.00\" text-anchor=\"middle\" x=\"79.196\" y=\"-57.5401\">M1</text>\n",
       "<text font-family=\"Times New Roman,serif\" font-size=\"14.00\" text-anchor=\"middle\" x=\"79.196\" y=\"-42.5401\">Mixer</text>\n",
       "</g>\n",
<<<<<<< HEAD
       "<!-- S1\n",
       "Splitter -->\n",
       "<g class=\"node\" id=\"node2\"><title>S1\n",
       "Splitter</title>\n",
       "<defs>\n",
       "<linearGradient gradientUnits=\"userSpaceOnUse\" id=\"l_1\" x1=\"-0.196446\" x2=\"118.892\" y1=\"-171.74\" y2=\"-171.74\">\n",
       "<stop offset=\"0\" style=\"stop-color:#bfbfbf;stop-opacity:1.;\"/>\n",
       "<stop offset=\"1\" style=\"stop-color:white;stop-opacity:1.;\"/>\n",
       "</linearGradient>\n",
       "</defs>\n",
       "<polygon fill=\"url(#l_1)\" points=\"-0.196446,-171.74 118.892,-117.759 118.892,-225.721 -0.196446,-171.74\" stroke=\"black\"/>\n",
       "<text font-family=\"Times New Roman,serif\" font-size=\"14.00\" text-anchor=\"middle\" x=\"79.196\" y=\"-175.54\">S1</text>\n",
       "<text font-family=\"Times New Roman,serif\" font-size=\"14.00\" text-anchor=\"middle\" x=\"79.196\" y=\"-160.54\">Splitter</text>\n",
       "</g>\n",
       "<!-- F1\n",
       "Flash -->\n",
       "<g class=\"node\" id=\"node3\"><title>F1\n",
       "Flash</title>\n",
       "<defs>\n",
       "<linearGradient gradientUnits=\"userSpaceOnUse\" id=\"l_2\" x1=\"207.892\" x2=\"279.892\" y1=\"-257.74\" y2=\"-257.74\">\n",
=======
       "<!-- F1\n",
       "Flash -->\n",
       "<g class=\"node\" id=\"node2\"><title>F1\n",
       "Flash</title>\n",
       "<defs>\n",
       "<linearGradient gradientUnits=\"userSpaceOnUse\" id=\"l_1\" x1=\"220.392\" x2=\"267.392\" y1=\"-139.74\" y2=\"-139.74\">\n",
>>>>>>> cd2c5013aaf9b5bc94bb764b52fd37db183472f1
       "<stop offset=\"0\" style=\"stop-color:white;stop-opacity:1.;\"/>\n",
       "<stop offset=\"1\" style=\"stop-color:#cdcdcd;stop-opacity:1.;\"/>\n",
       "</linearGradient>\n",
       "</defs>\n",
<<<<<<< HEAD
       "<polygon fill=\"url(#l_2)\" points=\"279.892,-297.24 207.892,-297.24 207.892,-218.24 279.892,-218.24 279.892,-297.24\" stroke=\"black\"/>\n",
       "<text font-family=\"Times New Roman,serif\" font-size=\"14.00\" text-anchor=\"middle\" x=\"243.892\" y=\"-261.54\">F1</text>\n",
       "<text font-family=\"Times New Roman,serif\" font-size=\"14.00\" text-anchor=\"middle\" x=\"243.892\" y=\"-246.54\">Flash</text>\n",
       "</g>\n",
       "<!-- liquid -->\n",
       "<g class=\"node\" id=\"node4\"><title>liquid</title>\n",
       "<polygon fill=\"#79dae8\" points=\"385.392,-233.24 356.392,-233.24 356.392,-202.24 385.392,-202.24 385.392,-196.24 403.392,-217.74 385.392,-239.24 385.392,-233.24\" stroke=\"black\"/>\n",
       "<text font-family=\"Times New Roman,serif\" font-size=\"14.00\" text-anchor=\"middle\" x=\"379.892\" y=\"-214.04\">liquid</text>\n",
       "</g>\n",
       "<!-- s1 -->\n",
       "<g class=\"node\" id=\"node5\"><title>s1</title>\n",
       "<polygon fill=\"#79dae8\" points=\"82.696,-273.24 57.696,-273.24 57.696,-242.24 82.696,-242.24 82.696,-236.24 100.696,-257.74 82.696,-279.24 82.696,-273.24\" stroke=\"black\"/>\n",
       "<text font-family=\"Times New Roman,serif\" font-size=\"14.00\" text-anchor=\"middle\" x=\"79.196\" y=\"-254.04\">s1</text>\n",
       "</g>\n",
       "<!-- vapor_product -->\n",
       "<g class=\"node\" id=\"node6\"><title>vapor_product</title>\n",
       "<polygon fill=\"#79dae8\" points=\"412.392,-313.24 329.392,-313.24 329.392,-282.24 412.392,-282.24 412.392,-276.24 430.392,-297.74 412.392,-319.24 412.392,-313.24\" stroke=\"black\"/>\n",
       "<text font-family=\"Times New Roman,serif\" font-size=\"14.00\" text-anchor=\"middle\" x=\"379.892\" y=\"-294.04\">vapor_product</text>\n",
       "</g>\n",
       "<!-- liquid_product -->\n",
       "<g class=\"node\" id=\"node7\"><title>liquid_product</title>\n",
       "<polygon fill=\"#79dae8\" points=\"275.392,-194.24 194.392,-194.24 194.392,-163.24 275.392,-163.24 275.392,-157.24 293.392,-178.74 275.392,-200.24 275.392,-194.24\" stroke=\"black\"/>\n",
       "<text font-family=\"Times New Roman,serif\" font-size=\"14.00\" text-anchor=\"middle\" x=\"243.892\" y=\"-175.04\">liquid_product</text>\n",
       "</g>\n",
       "<!-- liquid_recycle -->\n",
       "<g class=\"node\" id=\"node8\"><title>liquid_recycle</title>\n",
       "<polygon fill=\"#79dae8\" points=\"273.392,-140.24 196.392,-140.24 196.392,-109.24 273.392,-109.24 273.392,-103.24 291.392,-124.74 273.392,-146.24 273.392,-140.24\" stroke=\"black\"/>\n",
       "<text font-family=\"Times New Roman,serif\" font-size=\"14.00\" text-anchor=\"middle\" x=\"243.892\" y=\"-121.04\">liquid_recycle</text>\n",
       "</g>\n",
       "<!-- s4 -->\n",
       "<g class=\"node\" id=\"node9\"><title>s4</title>\n",
       "<polygon fill=\"#79dae8\" points=\"247.392,-69.2401 222.392,-69.2401 222.392,-38.2401 247.392,-38.2401 247.392,-32.2401 265.392,-53.7401 247.392,-75.2401 247.392,-69.2401\" stroke=\"black\"/>\n",
       "<text font-family=\"Times New Roman,serif\" font-size=\"14.00\" text-anchor=\"middle\" x=\"243.892\" y=\"-50.0401\">s4</text>\n",
       "</g>\n",
=======
       "<polygon fill=\"url(#l_1)\" points=\"267.392,-179.24 220.392,-179.24 220.392,-100.24 267.392,-100.24 267.392,-179.24\" stroke=\"black\"/>\n",
       "<text font-family=\"Times New Roman,serif\" font-size=\"14.00\" text-anchor=\"middle\" x=\"243.892\" y=\"-143.54\">F1</text>\n",
       "<text font-family=\"Times New Roman,serif\" font-size=\"14.00\" text-anchor=\"middle\" x=\"243.892\" y=\"-128.54\">Flash</text>\n",
       "</g>\n",
       "<!-- S1\n",
       "Splitter -->\n",
       "<g class=\"node\" id=\"node3\"><title>S1\n",
       "Splitter</title>\n",
       "<defs>\n",
       "<linearGradient gradientUnits=\"userSpaceOnUse\" id=\"l_2\" x1=\"-0.196446\" x2=\"118.892\" y1=\"-248.74\" y2=\"-248.74\">\n",
       "<stop offset=\"0\" style=\"stop-color:#bfbfbf;stop-opacity:1.;\"/>\n",
       "<stop offset=\"1\" style=\"stop-color:white;stop-opacity:1.;\"/>\n",
       "</linearGradient>\n",
       "</defs>\n",
       "<polygon fill=\"url(#l_2)\" points=\"-0.196446,-248.74 118.892,-194.759 118.892,-302.721 -0.196446,-248.74\" stroke=\"black\"/>\n",
       "<text font-family=\"Times New Roman,serif\" font-size=\"14.00\" text-anchor=\"middle\" x=\"79.196\" y=\"-252.54\">S1</text>\n",
       "<text font-family=\"Times New Roman,serif\" font-size=\"14.00\" text-anchor=\"middle\" x=\"79.196\" y=\"-237.54\">Splitter</text>\n",
       "</g>\n",
       "<!-- vapor_product -->\n",
       "<g class=\"node\" id=\"node4\"><title>vapor_product</title>\n",
       "<polygon fill=\"#79dae8\" points=\"412.392,-195.24 329.392,-195.24 329.392,-164.24 412.392,-164.24 412.392,-158.24 430.392,-179.74 412.392,-201.24 412.392,-195.24\" stroke=\"black\"/>\n",
       "<text font-family=\"Times New Roman,serif\" font-size=\"14.00\" text-anchor=\"middle\" x=\"379.892\" y=\"-176.04\">vapor_product</text>\n",
       "</g>\n",
       "<!-- s4 -->\n",
       "<g class=\"node\" id=\"node5\"><title>s4</title>\n",
       "<polygon fill=\"#79dae8\" points=\"247.392,-69.2401 222.392,-69.2401 222.392,-38.2401 247.392,-38.2401 247.392,-32.2401 265.392,-53.7401 247.392,-75.2401 247.392,-69.2401\" stroke=\"black\"/>\n",
       "<text font-family=\"Times New Roman,serif\" font-size=\"14.00\" text-anchor=\"middle\" x=\"243.892\" y=\"-50.0401\">s4</text>\n",
       "</g>\n",
       "<!-- liquid_recycle -->\n",
       "<g class=\"node\" id=\"node6\"><title>liquid_recycle</title>\n",
       "<polygon fill=\"#79dae8\" points=\"273.392,-288.24 196.392,-288.24 196.392,-257.24 273.392,-257.24 273.392,-251.24 291.392,-272.74 273.392,-294.24 273.392,-288.24\" stroke=\"black\"/>\n",
       "<text font-family=\"Times New Roman,serif\" font-size=\"14.00\" text-anchor=\"middle\" x=\"243.892\" y=\"-269.04\">liquid_recycle</text>\n",
       "</g>\n",
       "<!-- liquid -->\n",
       "<g class=\"node\" id=\"node7\"><title>liquid</title>\n",
       "<polygon fill=\"#79dae8\" points=\"385.392,-115.24 356.392,-115.24 356.392,-84.2401 385.392,-84.2401 385.392,-78.2401 403.392,-99.7401 385.392,-121.24 385.392,-115.24\" stroke=\"black\"/>\n",
       "<text font-family=\"Times New Roman,serif\" font-size=\"14.00\" text-anchor=\"middle\" x=\"379.892\" y=\"-96.0401\">liquid</text>\n",
       "</g>\n",
       "<!-- s1 -->\n",
       "<g class=\"node\" id=\"node8\"><title>s1</title>\n",
       "<polygon fill=\"#79dae8\" points=\"82.696,-155.24 57.696,-155.24 57.696,-124.24 82.696,-124.24 82.696,-118.24 100.696,-139.74 82.696,-161.24 82.696,-155.24\" stroke=\"black\"/>\n",
       "<text font-family=\"Times New Roman,serif\" font-size=\"14.00\" text-anchor=\"middle\" x=\"79.196\" y=\"-136.04\">s1</text>\n",
       "</g>\n",
       "<!-- liquid_product -->\n",
       "<g class=\"node\" id=\"node9\"><title>liquid_product</title>\n",
       "<polygon fill=\"#79dae8\" points=\"275.392,-234.24 194.392,-234.24 194.392,-203.24 275.392,-203.24 275.392,-197.24 293.392,-218.74 275.392,-240.24 275.392,-234.24\" stroke=\"black\"/>\n",
       "<text font-family=\"Times New Roman,serif\" font-size=\"14.00\" text-anchor=\"middle\" x=\"243.892\" y=\"-215.04\">liquid_product</text>\n",
       "</g>\n",
>>>>>>> cd2c5013aaf9b5bc94bb764b52fd37db183472f1
       "</g>\n",
       "</svg>"
      ],
      "text/plain": [
       "<IPython.core.display.SVG object>"
      ]
     },
     "metadata": {},
     "output_type": "display_data"
    }
   ],
   "source": [
    "bst.main_flowsheet.diagram()"
   ]
  },
  {
   "cell_type": "markdown",
   "metadata": {},
   "source": [
    "Connect streams and make a recycle loop using [-pipe- notation](./Using_-pipe-_notation.ipynb):"
   ]
  },
  {
   "cell_type": "code",
   "execution_count": 24,
   "metadata": {},
   "outputs": [],
   "source": [
    "feed = bst.Stream('feed', Methanol=100, Water=450)\n",
    "\n",
    "# Broken down -pipe- notation\n",
    "[S1-0, feed]-M1     # M1.ins[:] = [S1.outs[0], feed]\n",
    "M1-F1               # F1.ins[:] = M1.outs\n",
    "F1-1-S1             # S1.ins[:] = [F1.outs[1]]\n",
    "\n",
    "# All together\n",
    "[S1-0, feed]-M1-F1-1-S1;"
   ]
  },
  {
   "cell_type": "markdown",
   "metadata": {},
   "source": [
    "Now lets check the diagram again:"
   ]
  },
  {
   "cell_type": "code",
   "execution_count": 25,
   "metadata": {},
   "outputs": [
    {
     "data": {
<<<<<<< HEAD
      "image/png": "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\n",
=======
      "image/png": "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\n",
>>>>>>> cd2c5013aaf9b5bc94bb764b52fd37db183472f1
      "text/plain": [
       "<IPython.core.display.Image object>"
      ]
     },
     "metadata": {},
     "output_type": "display_data"
    }
   ],
   "source": [
    "bst.main_flowsheet.diagram(format='png')"
   ]
  },
  {
   "cell_type": "markdown",
   "metadata": {},
   "source": [
    "A [System](../System.txt) object can be created directly from the flowsheet:"
   ]
  },
  {
   "cell_type": "code",
   "execution_count": 26,
   "metadata": {},
   "outputs": [
    {
     "data": {
      "image/png": "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\n",
      "text/plain": [
       "<IPython.core.display.Image object>"
      ]
     },
     "metadata": {},
     "output_type": "display_data"
    },
    {
     "name": "stdout",
     "output_type": "stream",
     "text": [
      "System: SYS1\n",
<<<<<<< HEAD
      " recycle: liquid_recycle\n",
      " path: (M1, F1, S1)\n",
      " convergence error: Flow rate   0.00e+00 kmol/hr\n",
      "                    Temperature 0.00e+00 K\n",
      " iterations: 0\n"
=======
      " path: (M1, F1, S1)\n"
>>>>>>> cd2c5013aaf9b5bc94bb764b52fd37db183472f1
     ]
    }
   ],
   "source": [
    "SYS1 = bst.main_flowsheet.create_system('SYS1')\n",
    "SYS1"
   ]
  },
  {
   "cell_type": "markdown",
   "metadata": {},
   "source": [
    "Alternatively, create a [System](../System.txt) object by specifying an ID, a `recycle` stream and a `path` of units to run element by element:"
   ]
  },
  {
   "cell_type": "code",
   "execution_count": 27,
   "metadata": {},
   "outputs": [
    {
     "name": "stdout",
     "output_type": "stream",
     "text": [
      "System: sys1\n",
      " recycle: liquid_recycle\n",
      " path: (M1, F1, S1)\n",
      " convergence error: Flow rate   0.00e+00 kmol/hr\n",
      "                    Temperature 0.00e+00 K\n",
      " iterations: 0\n"
     ]
    }
   ],
   "source": [
    "sys1 = bst.System('sys1', path=(M1, F1, S1), recycle=S1-0) # recycle=S1.outs[0]\n",
    "sys1.show() # Prints info without the diagram"
   ]
  },
  {
   "cell_type": "markdown",
   "metadata": {},
   "source": [
    "Simulate the System object:"
   ]
  },
  {
   "cell_type": "code",
   "execution_count": 28,
   "metadata": {},
   "outputs": [
    {
     "name": "stdout",
     "output_type": "stream",
     "text": [
      "System: sys1\n",
      " recycle: liquid_recycle\n",
      " path: (M1, F1, S1)\n",
      " convergence error: Flow rate   1.51e-01 kmol/hr\n",
      "                    Temperature 4.43e-03 K\n",
      " iterations: 4\n"
     ]
    },
    {
     "name": "stderr",
     "output_type": "stream",
     "text": [
<<<<<<< HEAD
      "C:\\Users\\yoelr\\OneDrive\\Code\\biosteam\\biosteam\\units\\_flash.py:312: CostWarning: \u001b[38;2;229;63;229m<Flash: F1>\u001b[0m Vertical vessel weight (1838 lb) is out of bounds (4200 to 1e+06 lb).\n",
      "  if isVertical: self._design_vertical_vessel()\n"
=======
      "C:\\Users\\yrc2\\OneDrive\\Code\\biosteam\\biosteam\\units\\design_tools\\pressure_vessel.py:78: CostWarning: \u001b[38;2;229;63;229m<Flash: F1>\u001b[0m Vertical vessel weight (2965 lb) is out of bounds (4200 to 1e+06 lb).\n",
      "  return method(pressure, diameter, length)\n",
      "C:\\Users\\yrc2\\OneDrive\\Code\\biosteam\\biosteam\\units\\design_tools\\pressure_vessel.py:78: CostWarning: \u001b[38;2;229;63;229m<Flash: F1>\u001b[0m Vertical vessel length (10.5 ft) is out of bounds (12 to 40 ft).\n",
      "  return method(pressure, diameter, length)\n"
>>>>>>> cd2c5013aaf9b5bc94bb764b52fd37db183472f1
     ]
    }
   ],
   "source": [
    "sys1.simulate()\n",
    "sys1.show()"
   ]
  },
  {
   "cell_type": "code",
   "execution_count": 29,
   "metadata": {},
   "outputs": [
    {
     "name": "stdout",
     "output_type": "stream",
     "text": [
      "Flash: F1\n",
      "ins...\n",
      "[0] s4  from  Mixer-M1\n",
      "    phase: 'l', T: 315.15 K, P: 101325 Pa\n",
      "    flow (kmol/hr): Water     626\n",
      "                    Methanol  108\n",
      "outs...\n",
      "[0] vapor_product\n",
      "    phase: 'g', T: 366.37 K, P: 101325 Pa\n",
      "    flow (kmol/hr): Water     275\n",
      "                    Methanol  92.1\n",
      "[1] liquid  to  Splitter-S1\n",
      "    phase: 'l', T: 366.37 K, P: 101325 Pa\n",
      "    flow (kmol/hr): Water     351\n",
      "                    Methanol  15.8\n"
     ]
    }
   ],
   "source": [
    "F1.show()"
   ]
  },
  {
   "cell_type": "code",
   "execution_count": 30,
   "metadata": {},
   "outputs": [
    {
     "data": {
      "text/html": [
       "<div>\n",
       "<style scoped>\n",
       "    .dataframe tbody tr th:only-of-type {\n",
       "        vertical-align: middle;\n",
       "    }\n",
       "\n",
       "    .dataframe tbody tr th {\n",
       "        vertical-align: top;\n",
       "    }\n",
       "\n",
       "    .dataframe thead th {\n",
       "        text-align: right;\n",
       "    }\n",
       "</style>\n",
       "<table border=\"1\" class=\"dataframe\">\n",
       "  <thead>\n",
       "    <tr style=\"text-align: right;\">\n",
       "      <th></th>\n",
       "      <th>Flash</th>\n",
       "      <th>Units</th>\n",
       "      <th>F1</th>\n",
       "    </tr>\n",
       "  </thead>\n",
       "  <tbody>\n",
       "    <tr>\n",
       "      <th rowspan=\"3\" valign=\"top\">Low pressure steam</th>\n",
       "      <th>Duty</th>\n",
       "      <td>kJ/hr</td>\n",
       "      <td>1.91e+07</td>\n",
       "    </tr>\n",
       "    <tr>\n",
       "      <th>Flow</th>\n",
       "      <td>kmol/hr</td>\n",
       "      <td>493</td>\n",
       "    </tr>\n",
       "    <tr>\n",
       "      <th>Cost</th>\n",
       "      <td>USD/hr</td>\n",
<<<<<<< HEAD
       "      <td>98.5</td>\n",
=======
       "      <td>98.6</td>\n",
>>>>>>> cd2c5013aaf9b5bc94bb764b52fd37db183472f1
       "    </tr>\n",
       "    <tr>\n",
       "      <th rowspan=\"6\" valign=\"top\">Design</th>\n",
       "      <th>Vessel type</th>\n",
       "      <td></td>\n",
       "      <td>Vertical</td>\n",
       "    </tr>\n",
       "    <tr>\n",
       "      <th>Length</th>\n",
       "      <td>ft</td>\n",
<<<<<<< HEAD
       "      <td>14.5</td>\n",
=======
       "      <td>10.5</td>\n",
>>>>>>> cd2c5013aaf9b5bc94bb764b52fd37db183472f1
       "    </tr>\n",
       "    <tr>\n",
       "      <th>Diameter</th>\n",
       "      <td>ft</td>\n",
<<<<<<< HEAD
       "      <td>3.5</td>\n",
=======
       "      <td>5.5</td>\n",
>>>>>>> cd2c5013aaf9b5bc94bb764b52fd37db183472f1
       "    </tr>\n",
       "    <tr>\n",
       "      <th>Weight</th>\n",
       "      <td>lb</td>\n",
<<<<<<< HEAD
       "      <td>1.84e+03</td>\n",
=======
       "      <td>2.97e+03</td>\n",
>>>>>>> cd2c5013aaf9b5bc94bb764b52fd37db183472f1
       "    </tr>\n",
       "    <tr>\n",
       "      <th>Wall thickness</th>\n",
       "      <td>in</td>\n",
<<<<<<< HEAD
       "      <td>0.25</td>\n",
       "    </tr>\n",
       "    <tr>\n",
       "      <th>Material</th>\n",
=======
       "      <td>0.312</td>\n",
       "    </tr>\n",
       "    <tr>\n",
       "      <th>Vessel material</th>\n",
>>>>>>> cd2c5013aaf9b5bc94bb764b52fd37db183472f1
       "      <td></td>\n",
       "      <td>Carbon steel</td>\n",
       "    </tr>\n",
       "    <tr>\n",
       "      <th rowspan=\"2\" valign=\"top\">Purchase cost</th>\n",
<<<<<<< HEAD
       "      <th>Flash</th>\n",
       "      <td>USD</td>\n",
       "      <td>2.66e+04</td>\n",
=======
       "      <th>Vertical pressure vessel</th>\n",
       "      <td>USD</td>\n",
       "      <td>3.32e+04</td>\n",
>>>>>>> cd2c5013aaf9b5bc94bb764b52fd37db183472f1
       "    </tr>\n",
       "    <tr>\n",
       "      <th>Heat exchanger</th>\n",
       "      <td>USD</td>\n",
<<<<<<< HEAD
       "      <td>4.41e+03</td>\n",
=======
       "      <td>3.44e+04</td>\n",
>>>>>>> cd2c5013aaf9b5bc94bb764b52fd37db183472f1
       "    </tr>\n",
       "    <tr>\n",
       "      <th>Total purchase cost</th>\n",
       "      <th></th>\n",
       "      <td>USD</td>\n",
<<<<<<< HEAD
       "      <td>3.11e+04</td>\n",
=======
       "      <td>6.75e+04</td>\n",
>>>>>>> cd2c5013aaf9b5bc94bb764b52fd37db183472f1
       "    </tr>\n",
       "    <tr>\n",
       "      <th>Utility cost</th>\n",
       "      <th></th>\n",
       "      <td>USD/hr</td>\n",
<<<<<<< HEAD
       "      <td>98.5</td>\n",
=======
       "      <td>98.6</td>\n",
>>>>>>> cd2c5013aaf9b5bc94bb764b52fd37db183472f1
       "    </tr>\n",
       "  </tbody>\n",
       "</table>\n",
       "</div>"
      ],
      "text/plain": [
<<<<<<< HEAD
       "Flash                                 Units            F1\n",
       "Low pressure steam  Duty              kJ/hr      1.91e+07\n",
       "                    Flow            kmol/hr           493\n",
       "                    Cost             USD/hr          98.5\n",
       "Design              Vessel type                  Vertical\n",
       "                    Length               ft          14.5\n",
       "                    Diameter             ft           3.5\n",
       "                    Weight               lb      1.84e+03\n",
       "                    Wall thickness       in          0.25\n",
       "                    Material                 Carbon steel\n",
       "Purchase cost       Flash               USD      2.66e+04\n",
       "                    Heat exchanger      USD      4.41e+03\n",
       "Total purchase cost                     USD      3.11e+04\n",
       "Utility cost                         USD/hr          98.5"
=======
       "Flash                                           Units            F1\n",
       "Low pressure steam  Duty                        kJ/hr      1.91e+07\n",
       "                    Flow                      kmol/hr           493\n",
       "                    Cost                       USD/hr          98.6\n",
       "Design              Vessel type                            Vertical\n",
       "                    Length                         ft          10.5\n",
       "                    Diameter                       ft           5.5\n",
       "                    Weight                         lb      2.97e+03\n",
       "                    Wall thickness                 in         0.312\n",
       "                    Vessel material                    Carbon steel\n",
       "Purchase cost       Vertical pressure vessel      USD      3.32e+04\n",
       "                    Heat exchanger                USD      3.44e+04\n",
       "Total purchase cost                               USD      6.75e+04\n",
       "Utility cost                                   USD/hr          98.6"
>>>>>>> cd2c5013aaf9b5bc94bb764b52fd37db183472f1
      ]
     },
     "execution_count": 30,
     "metadata": {},
     "output_type": "execute_result"
    }
   ],
   "source": [
    "F1.results()"
   ]
  },
  {
   "cell_type": "markdown",
   "metadata": {},
   "source": [
    "Although BioSTEAM includes a large set of essential unit operations, many process specific unit operations are not yet available. In this case, you can create new [Unit subclasses](./Inheriting_from_Unit.ipynb) to model unit operations not yet available in BioSTEAM."
   ]
  },
  {
   "cell_type": "markdown",
   "metadata": {},
   "source": [
    "Once your system has been simulated, you can save a system report to view all results in an excel spreadsheet:"
   ]
  },
  {
   "cell_type": "code",
   "execution_count": 31,
   "metadata": {},
   "outputs": [
    {
     "name": "stderr",
     "output_type": "stream",
     "text": [
      "C:\\ProgramData\\Anaconda3\\lib\\site-packages\\ipykernel_launcher.py:1: RuntimeWarning: Cannot find TEA object in <System: sys1>. Ignoring TEA sheets.\n",
      "  \"\"\"Entry point for launching an IPython kernel.\n"
     ]
    }
   ],
   "source": [
    "sys1.save_report('Example.xlsx') # Try this on your computer and open excel"
   ]
  },
  {
   "cell_type": "markdown",
   "metadata": {},
   "source": [
    "Once process settings are set and the system is simulated, it is possible to perform [techno-economic analysis](./Techno-economic_analysis.ipynb). If a [TEA](../TEA.txt) object of the system was initialized, techno-economic analysis results would also appear in the report."
   ]
  }
 ],
 "metadata": {
  "kernelspec": {
   "display_name": "Python 3",
   "language": "python",
   "name": "python3"
  },
  "language_info": {
   "codemirror_mode": {
    "name": "ipython",
    "version": 3
   },
   "file_extension": ".py",
   "mimetype": "text/x-python",
   "name": "python",
   "nbconvert_exporter": "python",
   "pygments_lexer": "ipython3",
   "version": "3.7.6"
  }
 },
 "nbformat": 4,
 "nbformat_minor": 2
}
