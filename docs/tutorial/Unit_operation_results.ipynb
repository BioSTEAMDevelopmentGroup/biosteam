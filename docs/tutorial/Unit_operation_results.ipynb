{
 "cells": [
  {
   "cell_type": "markdown",
   "metadata": {},
   "source": [
    "# Unit operation results"
   ]
  },
  {
   "cell_type": "markdown",
   "metadata": {},
   "source": [
    "### A note on design and modeling"
   ]
  },
  {
   "cell_type": "markdown",
   "metadata": {},
   "source": [
    "BioSTEAM includes a wide range of [unit operation](../API/units/index.txt) models and cost correlations adapted from design textbooks and literature [[1-5]](#References). Essential unit operations such as [pumps](../API/units/Pump.txt), [heat exchangers](../API/units/heat_exchange.txt), [flash vessels](../API/units/Flash.txt), and [distillation columns](../API/units/distillation.txt) are some of the most rigorously modeled and designed. Design requirements for these essential units are calculated based on design specifications such as operating temperature and pressure, feed conditions, construction material, and degree of separation. These design requirements include, but are not limited to, the heat-transfer area of heat exchangers, the size and thickness of pressure vessels, and number of stages in a distillation column. Other unit operation models are modeled as [splitters](../API/units/splitting.txt) (i.e., a specified fraction of each component entering a unit is separated), and the purchase price is estimated using size factor correlations that are ultimately a function of material flow rates. BioSTEAM chooses purchase price correlations and construction factors based on the design specifications and requirements for each unit operation. For detailed documentation and examples of each unit operation, visit the [units subpackage documentation](../API/units/index.txt)."
   ]
  },
  {
   "cell_type": "markdown",
   "metadata": {},
   "source": [
    "### A good example "
   ]
  },
  {
   "cell_type": "markdown",
   "metadata": {},
   "source": [
    "In the following example, BioSTEAM's binary distillation column is used to highlight key details here on where do unit operations store results:"
   ]
  },
  {
   "cell_type": "code",
   "execution_count": 1,
   "metadata": {},
   "outputs": [
    {
     "name": "stdout",
     "output_type": "stream",
     "text": [
      "BinaryDistillation: D1\n",
      "ins...\n",
      "[0] feed\n",
      "    phase: 'l', T: 354.19 K, P: 101325 Pa\n",
      "    flow (kmol/hr): Water    1.08e+03\n",
      "                    Ethanol  586\n",
      "outs...\n",
      "[0] distillate\n",
      "    phase: 'l', T: 298.15 K, P: 101325 Pa\n",
      "    flow: 0\n",
      "[1] bottoms_product\n",
      "    phase: 'l', T: 298.15 K, P: 101325 Pa\n",
      "    flow: 0\n"
     ]
    }
   ],
   "source": [
    "from biosteam import Stream, settings\n",
    "from biosteam.units import BinaryDistillation\n",
    "import biosteam as bst\n",
    "bst.nbtutorial()\n",
    "\n",
    "# First set the property package\n",
    "settings.set_thermo(['Water', 'Ethanol'])\n",
    "\n",
    "# Create the feed at the bubble point\n",
    "feed = Stream('feed', Water=1.08e+03, Ethanol=586)\n",
    "bp = feed.bubble_point_at_P()\n",
    "feed.T = bp.T # Feed at bubble point temperature\n",
    "\n",
    "# Create a distillation column and simulate\n",
    "D1 = BinaryDistillation('D1', ins=feed,\n",
    "                    outs=('distillate', 'bottoms_product'),\n",
    "                    LHK=('Ethanol', 'Water'), # Light and heavy keys\n",
    "                    y_top=0.79, # Light key composition at the distillate\n",
    "                    x_bot=0.001, # Light key composition at the bottoms product\n",
    "                    k=1.25, # Ratio of actual reflux over minimum reflux\n",
    "                    is_divided=True) # Whether the rectifying and stripping sections are divided\n",
    "D1.show()"
   ]
  },
  {
   "cell_type": "markdown",
   "metadata": {},
   "source": [
    "Before simulating a distillation column, no results are available, streams are empty, and the components are initialized but empty as well:"
   ]
  },
  {
   "cell_type": "code",
   "execution_count": 2,
   "metadata": {},
   "outputs": [
    {
     "data": {
      "text/plain": [
       "{}"
      ]
     },
     "execution_count": 2,
     "metadata": {},
     "output_type": "execute_result"
    }
   ],
   "source": [
    "D1.design_results"
   ]
  },
  {
   "cell_type": "code",
   "execution_count": 3,
   "metadata": {},
   "outputs": [
    {
     "data": {
      "text/plain": [
       "{}"
      ]
     },
     "execution_count": 3,
     "metadata": {},
     "output_type": "execute_result"
    }
   ],
   "source": [
    "D1.purchase_costs"
   ]
  },
  {
   "cell_type": "code",
   "execution_count": 4,
   "metadata": {},
   "outputs": [
    {
     "data": {
      "text/plain": [
       "(<HeatUtility: None>,\n",
       " <HeatUtility: None>,\n",
       " <HeatUtility: None>,\n",
       " <HeatUtility: None>)"
      ]
     },
     "execution_count": 4,
     "metadata": {},
     "output_type": "execute_result"
    }
   ],
   "source": [
    "D1.heat_utilities"
   ]
  },
  {
   "cell_type": "code",
   "execution_count": 5,
   "metadata": {},
   "outputs": [
    {
     "name": "stdout",
     "output_type": "stream",
     "text": [
      "PowerUtility:\n",
      " consumption: 0 kW\n",
      " production: 0 kW\n",
      " rate: 0 kW\n",
      " cost: 0 USD/hr\n"
     ]
    }
   ],
   "source": [
    "D1.power_utility"
   ]
  },
  {
   "cell_type": "markdown",
   "metadata": {},
   "source": [
    "All unit operations have the `design_results`, `purchase_costs`, `heat_utilities`, and `power_utility` attributes. The `heat_utilities` attribute is a tuple of [HeatUtility](../API/HeatUtility.txt) objects and the `power_utility` attribute is a either [PowerUtility](../API/PowerUtility.txt) object or `None`. Unit operations may also have attributes and components specific to that unit operation. For example, here are few distillation-specific components:"
   ]
  },
  {
   "cell_type": "code",
   "execution_count": 6,
   "metadata": {
    "tags": [
     "nbval-ignore-output"
    ]
   },
   "outputs": [
    {
     "data": {
      "image/svg+xml": [
       "<svg xmlns=\"http://www.w3.org/2000/svg\" xmlns:xlink=\"http://www.w3.org/1999/xlink\" width=\"250pt\" height=\"148pt\" viewBox=\"0.00 0.00 249.58 147.58\">\n",
       "<g id=\"graph0\" class=\"graph\" transform=\"scale(1 1) rotate(0) translate(4 143.58)\">\n",
       "<!-- Condenser\n",
       "Heat exchanger&#45;&gt; s.2 -->\n",
       "<g id=\"edge2\" class=\"edge\">\n",
       "<title>Condenser\n",
       "Heat exchanger:c-&gt; s.2:w</title>\n",
       "<path fill=\"none\" stroke=\"#90918e\" stroke-dasharray=\"5,2\" d=\"M190.63,-69.79C204.36,-69.79 218.68,-69.79 232.08,-69.79\"/>\n",
       "<g id=\"a_edge2-label\"><a xlink:title=\"(empty)\">\n",
       "<text text-anchor=\"middle\" x=\"210.58\" y=\"-73.59\" font-family=\"Arial\" font-size=\"14.00\" fill=\"#90918e\"> s.2</text>\n",
       "</a>\n",
       "</g>\n",
       "</g>\n",
       "<!--  s.1&#45;&gt;Condenser\n",
       "Heat exchanger -->\n",
       "<g id=\"edge1\" class=\"edge\">\n",
       "<title> s.1:e-&gt;Condenser\n",
       "Heat exchanger:c</title>\n",
       "<path fill=\"none\" stroke=\"#90918e\" stroke-dasharray=\"5,2\" d=\"M11,-69.79C23.84,-69.79 37.54,-69.79 50.73,-69.79\"/>\n",
       "<g id=\"a_edge1-label\"><a xlink:title=\"(empty)\">\n",
       "<text text-anchor=\"middle\" x=\"31\" y=\"-73.59\" font-family=\"Arial\" font-size=\"14.00\" fill=\"#90918e\"> s.1</text>\n",
       "</a>\n",
       "</g>\n",
       "</g>\n",
       "<!-- Condenser\n",
       "Heat exchanger -->\n",
       "<g id=\"node1\" class=\"node\">\n",
       "<title>Condenser\n",
       "Heat exchanger</title>\n",
       "<g id=\"a_node1\"><a xlink:title=\"No capital costs or utilities\">\n",
       "<ellipse fill=\"#555f69\" stroke=\"#90918e\" cx=\"120.79\" cy=\"-69.79\" rx=\"69.58\" ry=\"69.58\"/>\n",
       "<text text-anchor=\"middle\" x=\"120.79\" y=\"-73.59\" font-family=\"Arial\" font-size=\"14.00\" fill=\"white\">Condenser</text>\n",
       "<text text-anchor=\"middle\" x=\"120.79\" y=\"-58.59\" font-family=\"Arial\" font-size=\"14.00\" fill=\"white\">Heat exchanger</text>\n",
       "</a>\n",
       "</g>\n",
       "</g>\n",
       "<!--  s.1 -->\n",
       "<g id=\"node2\" class=\"node\">\n",
       "<title> s.1</title>\n",
       "<polygon fill=\"#f98f60\" stroke=\"#90918e\" points=\"5.5,-75.29 0,-69.79 5.5,-64.29 11,-69.79 5.5,-75.29\"/>\n",
       "</g>\n",
       "<!--  s.2 -->\n",
       "<g id=\"node3\" class=\"node\">\n",
       "<title> s.2</title>\n",
       "<polygon fill=\"#f98f60\" stroke=\"#90918e\" points=\"241.58,-69.79 233.33,-76.79 233.33,-62.79 241.58,-69.79\"/>\n",
       "</g>\n",
       "</g>\n",
       "</svg>"
      ],
      "text/plain": [
       "<IPython.core.display.SVG object>"
      ]
     },
     "metadata": {},
     "output_type": "display_data"
    },
    {
     "name": "stdout",
     "output_type": "stream",
     "text": [
      "HXutility: Condenser\n",
      "ins...\n",
      "[0] s.1\n",
      "    phase: 'g', T: 298.15 K, P: 101325 Pa\n",
      "    flow: 0\n",
      "outs...\n",
      "[0] s.2\n",
      "    phases: ('g', 'l'), T: 298.15 K, P: 101325 Pa\n",
      "    flow: 0\n"
     ]
    }
   ],
   "source": [
    "D1.condenser"
   ]
  },
  {
   "cell_type": "code",
   "execution_count": 7,
   "metadata": {
    "tags": [
     "nbval-ignore-output"
    ]
   },
   "outputs": [
    {
     "data": {
      "image/svg+xml": [
       "<svg xmlns=\"http://www.w3.org/2000/svg\" xmlns:xlink=\"http://www.w3.org/1999/xlink\" width=\"250pt\" height=\"148pt\" viewBox=\"0.00 0.00 249.58 147.58\">\n",
       "<g id=\"graph0\" class=\"graph\" transform=\"scale(1 1) rotate(0) translate(4 143.58)\">\n",
       "<!-- Boiler\n",
       "Heat exchanger&#45;&gt; s.3 -->\n",
       "<g id=\"edge2\" class=\"edge\">\n",
       "<title>Boiler\n",
       "Heat exchanger:c-&gt; s.3:w</title>\n",
       "<path fill=\"none\" stroke=\"#90918e\" stroke-dasharray=\"5,2\" d=\"M190.63,-69.79C204.36,-69.79 218.68,-69.79 232.08,-69.79\"/>\n",
       "<g id=\"a_edge2-label\"><a xlink:title=\"(empty)\">\n",
       "<text text-anchor=\"middle\" x=\"210.58\" y=\"-73.59\" font-family=\"Arial\" font-size=\"14.00\" fill=\"#90918e\"> s.3</text>\n",
       "</a>\n",
       "</g>\n",
       "</g>\n",
       "<!--  s.2&#45;&gt;Boiler\n",
       "Heat exchanger -->\n",
       "<g id=\"edge1\" class=\"edge\">\n",
       "<title> s.2:e-&gt;Boiler\n",
       "Heat exchanger:c</title>\n",
       "<path fill=\"none\" stroke=\"#90918e\" stroke-dasharray=\"5,2\" d=\"M11,-69.79C23.84,-69.79 37.54,-69.79 50.73,-69.79\"/>\n",
       "<g id=\"a_edge1-label\"><a xlink:title=\"(empty)\">\n",
       "<text text-anchor=\"middle\" x=\"31\" y=\"-73.59\" font-family=\"Arial\" font-size=\"14.00\" fill=\"#90918e\"> s.2</text>\n",
       "</a>\n",
       "</g>\n",
       "</g>\n",
       "<!-- Boiler\n",
       "Heat exchanger -->\n",
       "<g id=\"node1\" class=\"node\">\n",
       "<title>Boiler\n",
       "Heat exchanger</title>\n",
       "<g id=\"a_node1\"><a xlink:title=\"No capital costs or utilities\">\n",
       "<ellipse fill=\"#555f69\" stroke=\"#90918e\" cx=\"120.79\" cy=\"-69.79\" rx=\"69.58\" ry=\"69.58\"/>\n",
       "<text text-anchor=\"middle\" x=\"120.79\" y=\"-73.59\" font-family=\"Arial\" font-size=\"14.00\" fill=\"white\">Boiler</text>\n",
       "<text text-anchor=\"middle\" x=\"120.79\" y=\"-58.59\" font-family=\"Arial\" font-size=\"14.00\" fill=\"white\">Heat exchanger</text>\n",
       "</a>\n",
       "</g>\n",
       "</g>\n",
       "<!--  s.2 -->\n",
       "<g id=\"node2\" class=\"node\">\n",
       "<title> s.2</title>\n",
       "<polygon fill=\"#f98f60\" stroke=\"#90918e\" points=\"5.5,-75.29 0,-69.79 5.5,-64.29 11,-69.79 5.5,-75.29\"/>\n",
       "</g>\n",
       "<!--  s.3 -->\n",
       "<g id=\"node3\" class=\"node\">\n",
       "<title> s.3</title>\n",
       "<polygon fill=\"#f98f60\" stroke=\"#90918e\" points=\"241.58,-69.79 233.33,-76.79 233.33,-62.79 241.58,-69.79\"/>\n",
       "</g>\n",
       "</g>\n",
       "</svg>"
      ],
      "text/plain": [
       "<IPython.core.display.SVG object>"
      ]
     },
     "metadata": {},
     "output_type": "display_data"
    },
    {
     "name": "stdout",
     "output_type": "stream",
     "text": [
      "HXutility: Boiler\n",
      "ins...\n",
      "[0] s.2\n",
      "    phase: 'l', T: 298.15 K, P: 101325 Pa\n",
      "    flow: 0\n",
      "outs...\n",
      "[0] s.3\n",
      "    phases: ('g', 'l'), T: 298.15 K, P: 101325 Pa\n",
      "    flow: 0\n"
     ]
    }
   ],
   "source": [
    "D1.boiler"
   ]
  },
  {
   "cell_type": "markdown",
   "metadata": {},
   "source": [
    "After simulation, the unit operation along with its components will calculate all design results, purchase costs, and utilities:"
   ]
  },
  {
   "cell_type": "code",
   "execution_count": 8,
   "metadata": {},
   "outputs": [
    {
     "name": "stdout",
     "output_type": "stream",
     "text": [
      "BinaryDistillation: D1\n",
      "ins...\n",
      "[0] feed\n",
      "    phase: 'l', T: 81.039 degC, P: 1 atm\n",
      "    composition (%): Water    64.8\n",
      "                     Ethanol  35.2\n",
      "                     -------  1.67e+03 kmol/hr\n",
      "outs...\n",
      "[0] distillate\n",
      "    phase: 'g', T: 78.379 degC, P: 1 atm\n",
      "    composition (%): Water    21\n",
      "                     Ethanol  79\n",
      "                     -------  741 kmol/hr\n",
      "[1] bottoms_product\n",
      "    phase: 'l', T: 99.638 degC, P: 1 atm\n",
      "    composition (%): Water    99.9\n",
      "                     Ethanol  0.1\n",
      "                     -------  925 kmol/hr\n"
     ]
    }
   ],
   "source": [
    "D1.simulate()\n",
    "D1.show(T='degC', P='atm', composition=True)"
   ]
  },
  {
   "cell_type": "code",
   "execution_count": 9,
   "metadata": {
    "tags": [
     "nbval-ignore-output"
    ]
   },
   "outputs": [
    {
     "data": {
      "text/plain": [
       "{'Theoretical feed stage': 24,\n",
       " 'Theoretical stages': 29,\n",
       " 'Minimum reflux': 0.7609035825752395,\n",
       " 'Reflux': 0.9511294782190494,\n",
       " 'Rectifier stages': 41.0,\n",
       " 'Stripper stages': 9.0,\n",
       " 'Rectifier height': 73.03641599999999,\n",
       " 'Stripper height': 25.804416,\n",
       " 'Rectifier diameter': 10.007104645424018,\n",
       " 'Stripper diameter': 7.852829914322249,\n",
       " 'Rectifier wall thickness': 0.5,\n",
       " 'Stripper wall thickness': 0.375,\n",
       " 'Rectifier weight': 39195.408221959144,\n",
       " 'Stripper weight': 12188.149494101272}"
      ]
     },
     "execution_count": 9,
     "metadata": {},
     "output_type": "execute_result"
    }
   ],
   "source": [
    "D1.design_results"
   ]
  },
  {
   "cell_type": "code",
   "execution_count": 10,
   "metadata": {
    "tags": [
     "nbval-ignore-output"
    ]
   },
   "outputs": [
    {
     "data": {
      "text/plain": [
       "{'Condenser - Floating head': 65224.00634717317,\n",
       " 'Boiler - Floating head': 64981.07302856404,\n",
       " 'Rectifier trays': 88379.36038070692,\n",
       " 'Stripper trays': 20891.441075700266,\n",
       " 'Rectifier tower': 158013.9571240082,\n",
       " 'Stripper platform and ladders': 48998.81981664172,\n",
       " 'Stripper tower': 74682.02525608693,\n",
       " 'Rectifier platform and ladders': 18252.45573798007}"
      ]
     },
     "execution_count": 10,
     "metadata": {},
     "output_type": "execute_result"
    }
   ],
   "source": [
    "D1.purchase_costs"
   ]
  },
  {
   "cell_type": "code",
   "execution_count": 11,
   "metadata": {},
   "outputs": [
    {
     "data": {
      "text/plain": [
       "(<cooling_water: -2.79e+07 kJ/hr, 1.91e+04 kmol/hr, 9.3 USD/hr>,\n",
       " <low_pressure_steam: 6.24e+07 kJ/hr, 1.61e+03 kmol/hr, 382 USD/hr>,\n",
       " <HeatUtility: None>,\n",
       " <HeatUtility: None>)"
      ]
     },
     "execution_count": 11,
     "metadata": {},
     "output_type": "execute_result"
    }
   ],
   "source": [
    "D1.heat_utilities"
   ]
  },
  {
   "cell_type": "code",
   "execution_count": 12,
   "metadata": {},
   "outputs": [
    {
     "name": "stdout",
     "output_type": "stream",
     "text": [
      "PowerUtility:\n",
      " consumption: 0 kW\n",
      " production: 0 kW\n",
      " rate: 0 kW\n",
      " cost: 0 USD/hr\n"
     ]
    }
   ],
   "source": [
    "D1.power_utility"
   ]
  },
  {
   "cell_type": "markdown",
   "metadata": {},
   "source": [
    "The `results()` method can conviniently present all these results: "
   ]
  },
  {
   "cell_type": "code",
   "execution_count": 13,
   "metadata": {
    "scrolled": false,
    "tags": [
     "nbval-ignore-output"
    ]
   },
   "outputs": [
    {
     "name": "stdout",
     "output_type": "stream",
     "text": [
      "Divided Distillation Column                           Units        D1\n",
      "Cooling water       Duty                              kJ/hr -2.79e+07\n",
      "                    Flow                            kmol/hr  1.91e+04\n",
      "                    Cost                             USD/hr       9.3\n",
      "Low pressure steam  Duty                              kJ/hr  6.24e+07\n",
      "                    Flow                            kmol/hr  1.61e+03\n",
      "                    Cost                             USD/hr       382\n",
      "Design              Theoretical feed stage                         24\n",
      "                    Theoretical stages                             29\n",
      "                    Minimum reflux                    Ratio     0.761\n",
      "                    Reflux                            Ratio     0.951\n",
      "                    Rectifier stages                               41\n",
      "                    Stripper stages                                 9\n",
      "                    Rectifier height                     ft        73\n",
      "                    Stripper height                      ft      25.8\n",
      "                    Rectifier diameter                   ft        10\n",
      "                    Stripper diameter                    ft      7.85\n",
      "                    Rectifier wall thickness             in       0.5\n",
      "                    Stripper wall thickness              in     0.375\n",
      "                    Rectifier weight                     lb  3.92e+04\n",
      "                    Stripper weight                      lb  1.22e+04\n",
      "Purchase cost       Condenser - Floating head           USD  6.52e+04\n",
      "                    Boiler - Floating head              USD   6.5e+04\n",
      "                    Rectifier trays                     USD  8.84e+04\n",
      "                    Stripper trays                      USD  2.09e+04\n",
      "                    Rectifier tower                     USD  1.58e+05\n",
      "                    Stripper platform and ladders       USD   4.9e+04\n",
      "                    Stripper tower                      USD  7.47e+04\n",
      "                    Rectifier platform and ladders      USD  1.83e+04\n",
      "Total purchase cost                                     USD  5.39e+05\n",
      "Utility cost                                         USD/hr       392\n"
     ]
    }
   ],
   "source": [
    "print(D1.results())"
   ]
  },
  {
   "cell_type": "markdown",
   "metadata": {},
   "source": [
    "Note that the units for the design results are in the `_units` dictionary:"
   ]
  },
  {
   "cell_type": "code",
   "execution_count": 14,
   "metadata": {},
   "outputs": [
    {
     "data": {
      "text/plain": [
       "{'Minimum reflux': 'Ratio',\n",
       " 'Reflux': 'Ratio',\n",
       " 'Rectifier height': 'ft',\n",
       " 'Rectifier diameter': 'ft',\n",
       " 'Rectifier wall thickness': 'in',\n",
       " 'Rectifier weight': 'lb',\n",
       " 'Stripper height': 'ft',\n",
       " 'Stripper diameter': 'ft',\n",
       " 'Stripper wall thickness': 'in',\n",
       " 'Stripper weight': 'lb',\n",
       " 'Height': 'ft',\n",
       " 'Diameter': 'ft',\n",
       " 'Wall thickness': 'in',\n",
       " 'Weight': 'lb'}"
      ]
     },
     "execution_count": 14,
     "metadata": {},
     "output_type": "execute_result"
    }
   ],
   "source": [
    "D1._units"
   ]
  },
  {
   "cell_type": "markdown",
   "metadata": {},
   "source": [
    "It is also possible to retrieve design results in another set of units:"
   ]
  },
  {
   "cell_type": "code",
   "execution_count": 15,
   "metadata": {
    "scrolled": true
   },
   "outputs": [
    {
     "data": {
      "text/plain": [
       "22"
      ]
     },
     "execution_count": 15,
     "metadata": {},
     "output_type": "execute_result"
    }
   ],
   "source": [
    "rectifier_height = D1.get_design_result('Rectifier height', 'meter')\n",
    "round(rectifier_height)"
   ]
  },
  {
   "cell_type": "markdown",
   "metadata": {},
   "source": [
    "For completeness, here are the rest of the results:"
   ]
  },
  {
   "cell_type": "code",
   "execution_count": 16,
   "metadata": {
    "tags": [
     "nbval-ignore-output"
    ]
   },
   "outputs": [
    {
     "data": {
      "image/svg+xml": [
       "<svg xmlns=\"http://www.w3.org/2000/svg\" xmlns:xlink=\"http://www.w3.org/1999/xlink\" width=\"209pt\" height=\"107pt\" viewBox=\"0.00 0.00 209.10 107.10\">\n",
       "<g id=\"graph0\" class=\"graph\" transform=\"scale(1 1) rotate(0) translate(4 103.1)\">\n",
       "<!-- Condenser\n",
       "Cooling&#45;&gt; s.2 -->\n",
       "<g id=\"edge2\" class=\"edge\">\n",
       "<title>Condenser\n",
       "Cooling:c-&gt; s.2:w</title>\n",
       "<path fill=\"none\" stroke=\"#90918e\" d=\"M150.16,-49.55C163.58,-49.55 178.16,-49.55 191.6,-49.55\"/>\n",
       "<g id=\"a_edge2-label\"><a xlink:title=\"Temperature: 352 K\n",
       "Pressure: 101325 Pa\n",
       "Gas flow: 741 kmol/hr\n",
       "Liquid flow: 704 kmol/hr\">\n",
       "<text text-anchor=\"middle\" x=\"170.1\" y=\"-53.35\" font-family=\"Arial\" font-size=\"14.00\" fill=\"#90918e\"> s.2</text>\n",
       "</a>\n",
       "</g>\n",
       "</g>\n",
       "<!--  s.1&#45;&gt;Condenser\n",
       "Cooling -->\n",
       "<g id=\"edge1\" class=\"edge\">\n",
       "<title> s.1:e-&gt;Condenser\n",
       "Cooling:c</title>\n",
       "<path fill=\"none\" stroke=\"#90918e\" d=\"M11,-49.55C23.91,-49.55 37.89,-49.55 50.83,-49.55\"/>\n",
       "<g id=\"a_edge1-label\"><a xlink:title=\"Temperature: 352 K\n",
       "Pressure: 101325 Pa\n",
       "Gas flow: 1.45e+03 kmol/hr\">\n",
       "<text text-anchor=\"middle\" x=\"31\" y=\"-53.35\" font-family=\"Arial\" font-size=\"14.00\" fill=\"#90918e\"> s.1</text>\n",
       "</a>\n",
       "</g>\n",
       "</g>\n",
       "<!-- Condenser\n",
       "Cooling -->\n",
       "<g id=\"node1\" class=\"node\">\n",
       "<title>Condenser\n",
       "Cooling</title>\n",
       "<g id=\"a_node1\"><a xlink:title=\"Cooling duty: -2.79e+04 MJ/hr\n",
       "Purchase cost: 65,224 USD\n",
       "Installed equipment cost: 209,414 USD\">\n",
       "<ellipse fill=\"#60c1cf\" stroke=\"transparent\" cx=\"100.55\" cy=\"-49.55\" rx=\"49.6\" ry=\"49.6\"/>\n",
       "<text text-anchor=\"middle\" x=\"100.55\" y=\"-53.35\" font-family=\"Arial\" font-size=\"14.00\" fill=\"white\">Condenser</text>\n",
       "<text text-anchor=\"middle\" x=\"100.55\" y=\"-38.35\" font-family=\"Arial\" font-size=\"14.00\" fill=\"white\">Cooling</text>\n",
       "</a>\n",
       "</g>\n",
       "</g>\n",
       "<!--  s.1 -->\n",
       "<g id=\"node2\" class=\"node\">\n",
       "<title> s.1</title>\n",
       "<polygon fill=\"#f98f60\" stroke=\"#90918e\" points=\"5.5,-55.05 0,-49.55 5.5,-44.05 11,-49.55 5.5,-55.05\"/>\n",
       "</g>\n",
       "<!--  s.2 -->\n",
       "<g id=\"node3\" class=\"node\">\n",
       "<title> s.2</title>\n",
       "<polygon fill=\"#f98f60\" stroke=\"#90918e\" points=\"201.1,-49.55 192.85,-56.55 192.85,-42.55 201.1,-49.55\"/>\n",
       "</g>\n",
       "</g>\n",
       "</svg>"
      ],
      "text/plain": [
       "<IPython.core.display.SVG object>"
      ]
     },
     "metadata": {},
     "output_type": "display_data"
    },
    {
     "name": "stdout",
     "output_type": "stream",
     "text": [
      "HXutility: Condenser\n",
      "ins...\n",
      "[0] s.1\n",
      "    phase: 'g', T: 351.62 K, P: 101325 Pa\n",
      "    flow (kmol/hr): Water    327\n",
      "                    Ethanol  1.12e+03\n",
      "outs...\n",
      "[0] s.2\n",
      "    phases: ('g', 'l'), T: 351.53 K, P: 101325 Pa\n",
      "    flow (kmol/hr): (g) Water    156\n",
      "                        Ethanol  585\n",
      "                    (l) Water    172\n",
      "                        Ethanol  532\n"
     ]
    }
   ],
   "source": [
    "D1.condenser"
   ]
  },
  {
   "cell_type": "code",
   "execution_count": 17,
   "metadata": {
    "tags": [
     "nbval-ignore-output"
    ]
   },
   "outputs": [
    {
     "data": {
      "image/svg+xml": [
       "<svg xmlns=\"http://www.w3.org/2000/svg\" xmlns:xlink=\"http://www.w3.org/1999/xlink\" width=\"178pt\" height=\"76pt\" viewBox=\"0.00 0.00 178.40 76.40\">\n",
       "<g id=\"graph0\" class=\"graph\" transform=\"scale(1 1) rotate(0) translate(4 72.4)\">\n",
       "<!-- Boiler\n",
       "Heating&#45;&gt; s.3 -->\n",
       "<g id=\"edge2\" class=\"edge\">\n",
       "<title>Boiler\n",
       "Heating:c-&gt; s.3:w</title>\n",
       "<path fill=\"none\" stroke=\"#90918e\" d=\"M119.66,-34.2C132.55,-34.2 147.41,-34.2 160.9,-34.2\"/>\n",
       "<g id=\"a_edge2-label\"><a xlink:title=\"Temperature: 373 K\n",
       "Pressure: 101325 Pa\n",
       "Gas flow: 1.45e+03 kmol/hr\n",
       "Liquid flow: 925 kmol/hr\">\n",
       "<text text-anchor=\"middle\" x=\"139.4\" y=\"-38\" font-family=\"Arial\" font-size=\"14.00\" fill=\"#90918e\"> s.3</text>\n",
       "</a>\n",
       "</g>\n",
       "</g>\n",
       "<!--  s.2&#45;&gt;Boiler\n",
       "Heating -->\n",
       "<g id=\"edge1\" class=\"edge\">\n",
       "<title> s.2:e-&gt;Boiler\n",
       "Heating:c</title>\n",
       "<path fill=\"none\" stroke=\"#90918e\" d=\"M11,-34.2C23.96,-34.2 38.22,-34.2 50.67,-34.2\"/>\n",
       "<g id=\"a_edge1-label\"><a xlink:title=\"Temperature: 371 K\n",
       "Pressure: 101325 Pa\n",
       "Liquid flow: 2.37e+03 kmol/hr\">\n",
       "<text text-anchor=\"middle\" x=\"31\" y=\"-38\" font-family=\"Arial\" font-size=\"14.00\" fill=\"#90918e\"> s.2</text>\n",
       "</a>\n",
       "</g>\n",
       "</g>\n",
       "<!-- Boiler\n",
       "Heating -->\n",
       "<g id=\"node1\" class=\"node\">\n",
       "<title>Boiler\n",
       "Heating</title>\n",
       "<g id=\"a_node1\"><a xlink:title=\"Heating duty: 6.24e+04 MJ/hr\n",
       "Purchase cost: 64,981 USD\n",
       "Installed equipment cost: 207,655 USD\">\n",
       "<ellipse fill=\"#ed5a6a\" stroke=\"transparent\" cx=\"85.2\" cy=\"-34.2\" rx=\"34.4\" ry=\"34.4\"/>\n",
       "<text text-anchor=\"middle\" x=\"85.2\" y=\"-38\" font-family=\"Arial\" font-size=\"14.00\" fill=\"white\">Boiler</text>\n",
       "<text text-anchor=\"middle\" x=\"85.2\" y=\"-23\" font-family=\"Arial\" font-size=\"14.00\" fill=\"white\">Heating</text>\n",
       "</a>\n",
       "</g>\n",
       "</g>\n",
       "<!--  s.2 -->\n",
       "<g id=\"node2\" class=\"node\">\n",
       "<title> s.2</title>\n",
       "<polygon fill=\"#f98f60\" stroke=\"#90918e\" points=\"5.5,-39.7 0,-34.2 5.5,-28.7 11,-34.2 5.5,-39.7\"/>\n",
       "</g>\n",
       "<!--  s.3 -->\n",
       "<g id=\"node3\" class=\"node\">\n",
       "<title> s.3</title>\n",
       "<polygon fill=\"#f98f60\" stroke=\"#90918e\" points=\"170.4,-34.2 162.15,-41.2 162.15,-27.2 170.4,-34.2\"/>\n",
       "</g>\n",
       "</g>\n",
       "</svg>"
      ],
      "text/plain": [
       "<IPython.core.display.SVG object>"
      ]
     },
     "metadata": {},
     "output_type": "display_data"
    },
    {
     "name": "stdout",
     "output_type": "stream",
     "text": [
      "HXutility: Boiler\n",
      "ins...\n",
      "[0] s.2\n",
      "    phase: 'l', T: 370.61 K, P: 101325 Pa\n",
      "    flow (kmol/hr): Water    2.35e+03\n",
      "                    Ethanol  19.6\n",
      "outs...\n",
      "[0] s.3\n",
      "    phases: ('g', 'l'), T: 372.79 K, P: 101325 Pa\n",
      "    flow (kmol/hr): (g) Water    1.43e+03\n",
      "                        Ethanol  18.7\n",
      "                    (l) Water    924\n",
      "                        Ethanol  0.925\n"
     ]
    }
   ],
   "source": [
    "D1.boiler"
   ]
  },
  {
   "cell_type": "markdown",
   "metadata": {},
   "source": [
    "Unit operations may also have special methods that you may find useful:"
   ]
  },
  {
   "cell_type": "code",
   "execution_count": 18,
   "metadata": {
    "tags": [
     "nbval-ignore-output"
    ]
   },
   "outputs": [
    {
     "data": {
      "image/png": "[encoded data removed]",
      "text/plain": [
       "<Figure size 432x288 with 1 Axes>"
      ]
     },
     "metadata": {
      "needs_background": "light"
     },
     "output_type": "display_data"
    }
   ],
   "source": [
    "from matplotlib import pyplot as plt\n",
    "D1.plot_stages()\n",
    "plt.show()"
   ]
  },
  {
   "cell_type": "markdown",
   "metadata": {},
   "source": [
    "### References\n",
    "\n",
    "<a id='References'></a>\n",
    "\n",
    "1. Seider, W. D.; Lewin, D. R.; Seader, J. D.; Widagdo, S.; Gani, R.; Ng, M. K. Cost Accounting and Capital Cost Estimation. In Product and Process Design Principles; Wiley, 2017; pp 426−485.\n",
    "2. Svrcek, W. Y.; Monnery, W. D. Design Two-Phase Separators Within the Right Limits. In Chemical Engineering Progress (CEP); The American Institute of Chemical Engineers, 1993; pp 53−60.\n",
    "3. Apostolakou, A. A.; Kookos, I. K.; Marazioti, C.; Angelopoulos, K. C. Techno-Economic Analysis of a Biodiesel Production Process from Vegetable Oils. Fuel Process. Technol. 2009, 90, 1023−1031.\n",
    "4. Green, D. W. Distillation. In Perry’s Chemical Engineers’ Handbook, 9 ed.; McGraw-Hill Education, 2018.\n",
    "5. Duss, M.; Taylor, R. Predict Distillation Tray Efficiency. Chem. Eng. Prog. 2018, 24−30."
   ]
  }
 ],
 "metadata": {
  "celltoolbar": "Tags",
  "kernelspec": {
   "display_name": "Python 3 (ipykernel)",
   "language": "python",
   "name": "python3"
  },
  "language_info": {
   "codemirror_mode": {
    "name": "ipython",
    "version": 3
   },
   "file_extension": ".py",
   "mimetype": "text/x-python",
   "name": "python",
   "nbconvert_exporter": "python",
   "pygments_lexer": "ipython3",
   "version": "3.9.12"
  }
 },
 "nbformat": 4,
 "nbformat_minor": 2
}
