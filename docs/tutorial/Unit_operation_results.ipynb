{
 "cells": [
  {
   "cell_type": "markdown",
   "metadata": {},
   "source": [
    "# Unit operation results"
   ]
  },
  {
   "cell_type": "markdown",
   "metadata": {},
   "source": [
    "### A note on design and modeling"
   ]
  },
  {
   "cell_type": "markdown",
   "metadata": {},
   "source": [
    "BioSTEAM includes a wide range of [unit operation](../API/units/index.txt) models and cost correlations adapted from design textbooks and literature [[1-5]](#References). Essential unit operations such as [pumps](../API/units/Pump.txt), [heat exchangers](../API/units/heat_exchange.txt), [flash vessels](../API/units/Flash.txt), and [distillation columns](../API/units/distillation.txt) are some of the most rigorously modeled and designed. Design requirements for these essential units are calculated based on design specifications such as operating temperature and pressure, feed conditions, construction material, and degree of separation. These design requirements include, but are not limited to, the heat-transfer area of heat exchangers, the size and thickness of pressure vessels, and number of stages in a distillation column. Other unit operation models are modeled as [splitters](../API/units/splitting.txt) (i.e., a specified fraction of each component entering a unit is separated), and the purchase price is estimated using size factor correlations that are ultimately a function of material flow rates. BioSTEAM chooses purchase price correlations and construction factors based on the design specifications and requirements for each unit operation. For detailed documentation and examples of each unit operation, visit the [units subpackage documentation](../API/units/index.txt)."
   ]
  },
  {
   "cell_type": "markdown",
   "metadata": {},
   "source": [
    "### A good example "
   ]
  },
  {
   "cell_type": "markdown",
   "metadata": {},
   "source": [
    "In the following example, BioSTEAM's binary distillation column is used to highlight key details here on where do unit operations store results:"
   ]
  },
  {
   "cell_type": "code",
   "execution_count": 1,
   "metadata": {},
   "outputs": [
    {
     "name": "stdout",
     "output_type": "stream",
     "text": [
      "BinaryDistillation: D1\n",
      "ins...\n",
      "[0] feed\n",
      "    phase: 'l', T: 354.19 K, P: 101325 Pa\n",
      "    flow (kmol/hr): Water    1.08e+03\n",
      "                    Ethanol  586\n",
      "outs...\n",
      "[0] distillate\n",
      "    phase: 'l', T: 298.15 K, P: 101325 Pa\n",
      "    flow: 0\n",
      "[1] bottoms_product\n",
      "    phase: 'l', T: 298.15 K, P: 101325 Pa\n",
      "    flow: 0\n"
     ]
    }
   ],
   "source": [
    "from biosteam import Stream, settings\n",
    "from biosteam.units import BinaryDistillation\n",
    "\n",
    "# First set the property package\n",
    "settings.set_thermo(['Water', 'Ethanol'])\n",
    "\n",
    "# Create the feed at the bubble point\n",
    "feed = Stream('feed', Water=1.08e+03, Ethanol=586)\n",
    "bp = feed.bubble_point_at_P()\n",
    "feed.T = bp.T # Feed at bubble point temperature\n",
    "\n",
    "# Create a distillation column and simulate\n",
    "D1 = BinaryDistillation('D1', ins=feed,\n",
    "                    outs=('distillate', 'bottoms_product'),\n",
    "                    LHK=('Ethanol', 'Water'), # Light and heavy keys\n",
    "                    y_top=0.79, # Light key composition at the distillate\n",
    "                    x_bot=0.001, # Light key composition at the bottoms product\n",
    "                    k=1.25, # Ratio of actual reflux over minimum reflux\n",
    "                    is_divided=True) # Whether the rectifying and stripping sections are divided\n",
    "D1.show()"
   ]
  },
  {
   "cell_type": "markdown",
   "metadata": {},
   "source": [
    "Before simulating a distillation column, no results are available, streams are empty, and the components are initialized but empty as well:"
   ]
  },
  {
   "cell_type": "code",
   "execution_count": 2,
   "metadata": {},
   "outputs": [
    {
     "data": {
      "text/plain": [
       "{}"
      ]
     },
     "execution_count": 2,
     "metadata": {},
     "output_type": "execute_result"
    }
   ],
   "source": [
    "D1.design_results"
   ]
  },
  {
   "cell_type": "code",
   "execution_count": 3,
   "metadata": {},
   "outputs": [
    {
     "data": {
      "text/plain": [
       "{}"
      ]
     },
     "execution_count": 3,
     "metadata": {},
     "output_type": "execute_result"
    }
   ],
   "source": [
    "D1.purchase_costs"
   ]
  },
  {
   "cell_type": "code",
   "execution_count": 4,
   "metadata": {},
   "outputs": [
    {
     "data": {
      "text/plain": [
       "(<HeatUtility: None>,\n",
       " <HeatUtility: None>,\n",
       " <HeatUtility: None>,\n",
       " <HeatUtility: None>)"
      ]
     },
     "execution_count": 4,
     "metadata": {},
     "output_type": "execute_result"
    }
   ],
   "source": [
    "D1.heat_utilities"
   ]
  },
  {
   "cell_type": "code",
   "execution_count": 5,
   "metadata": {},
   "outputs": [
    {
     "name": "stdout",
     "output_type": "stream",
     "text": [
      "PowerUtility:\n",
      " consumption: 0 kW\n",
      " production: 0 kW\n",
      " rate: 0 kW\n",
      " cost: 0 USD/hr\n"
     ]
    }
   ],
   "source": [
    "D1.power_utility"
   ]
  },
  {
   "cell_type": "markdown",
   "metadata": {},
   "source": [
    "All unit operations have the `design_results`, `purchase_costs`, `heat_utilities`, and `power_utility` attributes. The `heat_utilities` attribute is a tuple of [HeatUtility](../API/HeatUtility.txt) objects and the `power_utility` attribute is a either [PowerUtility](../API/PowerUtility.txt) object or `None`. Unit operations may also have attributes and components specific to that unit operation. For example, here are few distillation-specific components:"
   ]
  },
  {
   "cell_type": "code",
   "execution_count": 6,
   "metadata": {
    "tags": [
     "nbval-ignore-output"
    ]
   },
   "outputs": [
    {
     "data": {
      "image/png": "[encoded data removed]",
      "text/plain": [
       "<IPython.core.display.Image object>"
      ]
     },
     "metadata": {},
     "output_type": "display_data"
    },
    {
     "name": "stdout",
     "output_type": "stream",
     "text": [
      "HXutility: Condenser\n",
      "ins...\n",
      "[0] s.1\n",
      "    phase: 'g', T: 298.15 K, P: 101325 Pa\n",
      "    flow: 0\n",
      "outs...\n",
      "[0] s.2\n",
      "    phases: ('g', 'l'), T: 298.15 K, P: 101325 Pa\n",
      "    flow: 0\n"
     ]
    }
   ],
   "source": [
    "D1.condenser"
   ]
  },
  {
   "cell_type": "code",
   "execution_count": 7,
   "metadata": {
    "tags": [
     "nbval-ignore-output"
    ]
   },
   "outputs": [
    {
     "data": {
      "image/png": "[encoded data removed]",
      "text/plain": [
       "<IPython.core.display.Image object>"
      ]
     },
     "metadata": {},
     "output_type": "display_data"
    },
    {
     "name": "stdout",
     "output_type": "stream",
     "text": [
      "HXutility: Boiler\n",
      "ins...\n",
      "[0] s.2\n",
      "    phase: 'l', T: 298.15 K, P: 101325 Pa\n",
      "    flow: 0\n",
      "outs...\n",
      "[0] s.3\n",
      "    phases: ('g', 'l'), T: 298.15 K, P: 101325 Pa\n",
      "    flow: 0\n"
     ]
    }
   ],
   "source": [
    "D1.boiler"
   ]
  },
  {
   "cell_type": "markdown",
   "metadata": {},
   "source": [
    "After simulation, the unit operation along with its components will calculate all design results, purchase costs, and utilities:"
   ]
  },
  {
   "cell_type": "code",
   "execution_count": 8,
   "metadata": {},
   "outputs": [
    {
     "name": "stdout",
     "output_type": "stream",
     "text": [
      "BinaryDistillation: D1\n",
      "ins...\n",
      "[0] feed\n",
      "    phase: 'l', T: 81.039 degC, P: 1 atm\n",
      "    composition: Water    0.648\n",
      "                 Ethanol  0.352\n",
      "                 -------  1.67e+03 kmol/hr\n",
      "outs...\n",
      "[0] distillate\n",
      "    phase: 'g', T: 78.379 degC, P: 1 atm\n",
      "    composition: Water    0.21\n",
      "                 Ethanol  0.79\n",
      "                 -------  741 kmol/hr\n",
      "[1] bottoms_product\n",
      "    phase: 'l', T: 99.638 degC, P: 1 atm\n",
      "    composition: Water    0.999\n",
      "                 Ethanol  0.001\n",
      "                 -------  925 kmol/hr\n"
     ]
    }
   ],
   "source": [
    "D1.simulate()\n",
    "D1.show(T='degC', P='atm', composition=True)"
   ]
  },
  {
   "cell_type": "code",
   "execution_count": 9,
   "metadata": {
    "tags": [
     "nbval-ignore-output"
    ]
   },
   "outputs": [
    {
     "data": {
      "text/plain": [
       "{'Theoretical feed stage': 24,\n",
       " 'Theoretical stages': 29,\n",
       " 'Minimum reflux': 0.7609035825752395,\n",
       " 'Reflux': 0.9511294782190494,\n",
       " 'Rectifier stages': 41.0,\n",
       " 'Stripper stages': 9.0,\n",
       " 'Rectifier height': 73.03641599999999,\n",
       " 'Stripper height': 25.804416,\n",
       " 'Rectifier diameter': 9.946696295518,\n",
       " 'Stripper diameter': 7.828549631181584,\n",
       " 'Rectifier wall thickness': 0.4375,\n",
       " 'Stripper wall thickness': 0.375,\n",
       " 'Rectifier weight': 38936.30770612593,\n",
       " 'Stripper weight': 12143.258556984547}"
      ]
     },
     "execution_count": 9,
     "metadata": {},
     "output_type": "execute_result"
    }
   ],
   "source": [
    "D1.design_results"
   ]
  },
  {
   "cell_type": "code",
   "execution_count": 10,
   "metadata": {
    "tags": [
     "nbval-ignore-output"
    ]
   },
   "outputs": [
    {
     "data": {
      "text/plain": [
       "{'Condenser - Floating head': 65224.0063471733,\n",
       " 'Boiler - Floating head': 62870.149399235925,\n",
       " 'Rectifier trays': 78104.378070855,\n",
       " 'Stripper trays': 18561.719836582746,\n",
       " 'Rectifier tower': 140275.90832884723,\n",
       " 'Stripper platform and ladders': 43524.44339920152,\n",
       " 'Stripper tower': 66442.1379700062,\n",
       " 'Rectifier platform and ladders': 16243.601700432655}"
      ]
     },
     "execution_count": 10,
     "metadata": {},
     "output_type": "execute_result"
    }
   ],
   "source": [
    "D1.purchase_costs"
   ]
  },
  {
   "cell_type": "code",
   "execution_count": 11,
   "metadata": {},
   "outputs": [
    {
     "data": {
      "text/plain": [
       "(<cooling_water: -2.79e+07 kJ/hr, 1.91e+04 kmol/hr, 9.3 USD/hr>,\n",
       " <low_pressure_steam: 6.24e+07 kJ/hr, 1.61e+03 kmol/hr, 382 USD/hr>,\n",
       " <HeatUtility: None>,\n",
       " <HeatUtility: None>)"
      ]
     },
     "execution_count": 11,
     "metadata": {},
     "output_type": "execute_result"
    }
   ],
   "source": [
    "D1.heat_utilities"
   ]
  },
  {
   "cell_type": "code",
   "execution_count": 12,
   "metadata": {},
   "outputs": [
    {
     "name": "stdout",
     "output_type": "stream",
     "text": [
      "PowerUtility:\n",
      " consumption: 0 kW\n",
      " production: 0 kW\n",
      " rate: 0 kW\n",
      " cost: 0 USD/hr\n"
     ]
    }
   ],
   "source": [
    "D1.power_utility"
   ]
  },
  {
   "cell_type": "markdown",
   "metadata": {},
   "source": [
    "The `results()` method can conviniently present all these results: "
   ]
  },
  {
   "cell_type": "code",
   "execution_count": 13,
   "metadata": {
    "scrolled": false,
    "tags": [
     "nbval-ignore-output"
    ]
   },
   "outputs": [
    {
     "name": "stdout",
     "output_type": "stream",
     "text": [
      "Divided Distillation Column                           Units        D1\n",
      "Cooling water       Duty                              kJ/hr -2.79e+07\n",
      "                    Flow                            kmol/hr  1.91e+04\n",
      "                    Cost                             USD/hr       9.3\n",
      "Low pressure steam  Duty                              kJ/hr  6.24e+07\n",
      "                    Flow                            kmol/hr  1.61e+03\n",
      "                    Cost                             USD/hr       382\n",
      "Design              Theoretical feed stage                         24\n",
      "                    Theoretical stages                             29\n",
      "                    Minimum reflux                    Ratio     0.761\n",
      "                    Reflux                            Ratio     0.951\n",
      "                    Rectifier stages                               41\n",
      "                    Stripper stages                                 9\n",
      "                    Rectifier height                     ft        73\n",
      "                    Stripper height                      ft      25.8\n",
      "                    Rectifier diameter                   ft      9.95\n",
      "                    Stripper diameter                    ft      7.83\n",
      "                    Rectifier wall thickness             in     0.438\n",
      "                    Stripper wall thickness              in     0.375\n",
      "                    Rectifier weight                     lb  3.89e+04\n",
      "                    Stripper weight                      lb  1.21e+04\n",
      "Purchase cost       Condenser - Floating head           USD  6.52e+04\n",
      "                    Boiler - Floating head              USD  6.29e+04\n",
      "                    Rectifier trays                     USD  7.81e+04\n",
      "                    Stripper trays                      USD  1.86e+04\n",
      "                    Rectifier tower                     USD   1.4e+05\n",
      "                    Stripper platform and ladders       USD  4.35e+04\n",
      "                    Stripper tower                      USD  6.64e+04\n",
      "                    Rectifier platform and ladders      USD  1.62e+04\n",
      "Total purchase cost                                     USD  4.91e+05\n",
      "Utility cost                                         USD/hr       392\n"
     ]
    }
   ],
   "source": [
    "print(D1.results())"
   ]
  },
  {
   "cell_type": "markdown",
   "metadata": {},
   "source": [
    "Note that the units for the design results are in the `_units` dictionary:"
   ]
  },
  {
   "cell_type": "code",
   "execution_count": 14,
   "metadata": {},
   "outputs": [
    {
     "data": {
      "text/plain": [
       "{'Minimum reflux': 'Ratio',\n",
       " 'Reflux': 'Ratio',\n",
       " 'Rectifier height': 'ft',\n",
       " 'Rectifier diameter': 'ft',\n",
       " 'Rectifier wall thickness': 'in',\n",
       " 'Rectifier weight': 'lb',\n",
       " 'Stripper height': 'ft',\n",
       " 'Stripper diameter': 'ft',\n",
       " 'Stripper wall thickness': 'in',\n",
       " 'Stripper weight': 'lb',\n",
       " 'Height': 'ft',\n",
       " 'Diameter': 'ft',\n",
       " 'Wall thickness': 'in',\n",
       " 'Weight': 'lb'}"
      ]
     },
     "execution_count": 14,
     "metadata": {},
     "output_type": "execute_result"
    }
   ],
   "source": [
    "D1._units"
   ]
  },
  {
   "cell_type": "markdown",
   "metadata": {},
   "source": [
    "It is also possible to retrieve design results in another set of units:"
   ]
  },
  {
   "cell_type": "code",
   "execution_count": 15,
   "metadata": {
    "scrolled": true
   },
   "outputs": [
    {
     "data": {
      "text/plain": [
       "22"
      ]
     },
     "execution_count": 15,
     "metadata": {},
     "output_type": "execute_result"
    }
   ],
   "source": [
    "rectifier_height = D1.get_design_result('Rectifier height', 'meter')\n",
    "round(rectifier_height)"
   ]
  },
  {
   "cell_type": "markdown",
   "metadata": {},
   "source": [
    "For completeness, here are the rest of the results:"
   ]
  },
  {
   "cell_type": "code",
   "execution_count": 16,
   "metadata": {
    "tags": [
     "nbval-ignore-output"
    ]
   },
   "outputs": [
    {
     "data": {
      "image/png": "[encoded data removed]",
      "text/plain": [
       "<IPython.core.display.Image object>"
      ]
     },
     "metadata": {},
     "output_type": "display_data"
    },
    {
     "name": "stdout",
     "output_type": "stream",
     "text": [
      "HXutility: Condenser\n",
      "ins...\n",
      "[0] s.1\n",
      "    phase: 'g', T: 351.62 K, P: 101325 Pa\n",
      "    flow (kmol/hr): Water    327\n",
      "                    Ethanol  1.12e+03\n",
      "outs...\n",
      "[0] s.2\n",
      "    phases: ('g', 'l'), T: 351.53 K, P: 101325 Pa\n",
      "    flow (kmol/hr): (g) Water    156\n",
      "                        Ethanol  585\n",
      "                    (l) Water    172\n",
      "                        Ethanol  532\n"
     ]
    }
   ],
   "source": [
    "D1.condenser"
   ]
  },
  {
   "cell_type": "code",
   "execution_count": 17,
   "metadata": {
    "tags": [
     "nbval-ignore-output"
    ]
   },
   "outputs": [
    {
     "data": {
      "image/png": "[encoded data removed]",
      "text/plain": [
       "<IPython.core.display.Image object>"
      ]
     },
     "metadata": {},
     "output_type": "display_data"
    },
    {
     "name": "stdout",
     "output_type": "stream",
     "text": [
      "HXutility: Boiler\n",
      "ins...\n",
      "[0] s.2\n",
      "    phase: 'l', T: 370.61 K, P: 101325 Pa\n",
      "    flow (kmol/hr): Water    2.35e+03\n",
      "                    Ethanol  19.6\n",
      "outs...\n",
      "[0] s.3\n",
      "    phases: ('g', 'l'), T: 372.79 K, P: 101325 Pa\n",
      "    flow (kmol/hr): (g) Water    1.43e+03\n",
      "                        Ethanol  18.7\n",
      "                    (l) Water    924\n",
      "                        Ethanol  0.925\n"
     ]
    }
   ],
   "source": [
    "D1.boiler"
   ]
  },
  {
   "cell_type": "markdown",
   "metadata": {},
   "source": [
    "Unit operations may also have special methods that you may find useful:"
   ]
  },
  {
   "cell_type": "code",
   "execution_count": 18,
   "metadata": {
    "tags": [
     "nbval-ignore-output"
    ]
   },
   "outputs": [
    {
     "data": {
      "image/png": "[encoded data removed]",
      "text/plain": [
       "<Figure size 432x288 with 1 Axes>"
      ]
     },
     "metadata": {},
     "output_type": "display_data"
    }
   ],
   "source": [
    "from matplotlib import pyplot as plt\n",
    "D1.plot_stages()\n",
    "plt.show()"
   ]
  },
  {
   "cell_type": "markdown",
   "metadata": {},
   "source": [
    "### References\n",
    "\n",
    "<a id='References'></a>\n",
    "\n",
    "1. Seider, W. D.; Lewin, D. R.; Seader, J. D.; Widagdo, S.; Gani, R.; Ng, M. K. Cost Accounting and Capital Cost Estimation. In Product and Process Design Principles; Wiley, 2017; pp 426−485.\n",
    "2. Svrcek, W. Y.; Monnery, W. D. Design Two-Phase Separators Within the Right Limits. In Chemical Engineering Progress (CEP); The American Institute of Chemical Engineers, 1993; pp 53−60.\n",
    "3. Apostolakou, A. A.; Kookos, I. K.; Marazioti, C.; Angelopoulos, K. C. Techno-Economic Analysis of a Biodiesel Production Process from Vegetable Oils. Fuel Process. Technol. 2009, 90, 1023−1031.\n",
    "4. Green, D. W. Distillation. In Perry’s Chemical Engineers’ Handbook, 9 ed.; McGraw-Hill Education, 2018.\n",
    "5. Duss, M.; Taylor, R. Predict Distillation Tray Efficiency. Chem. Eng. Prog. 2018, 24−30."
   ]
  }
 ],
 "metadata": {
  "celltoolbar": "Tags",
  "kernelspec": {
   "display_name": "Python 3 (ipykernel)",
   "language": "python",
   "name": "python3"
  },
  "language_info": {
   "codemirror_mode": {
    "name": "ipython",
    "version": 3
   },
   "file_extension": ".py",
   "mimetype": "text/x-python",
   "name": "python",
   "nbconvert_exporter": "python",
   "pygments_lexer": "ipython3",
   "version": "3.8.5"
  }
 },
 "nbformat": 4,
 "nbformat_minor": 2
}
