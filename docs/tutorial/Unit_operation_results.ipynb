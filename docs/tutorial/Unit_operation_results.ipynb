{
 "cells": [
  {
   "cell_type": "markdown",
   "metadata": {},
   "source": [
    "# Unit operation results"
   ]
  },
  {
   "cell_type": "markdown",
   "metadata": {},
   "source": [
    "### A note on design and modeling"
   ]
  },
  {
   "cell_type": "markdown",
   "metadata": {},
   "source": [
    "BioSTEAM includes a wide range of [unit operation](../units/units.txt) models and cost correlations adapted from design textbooks and literature [[1-5]](#References). Essential unit operations such as [pumps](../units/Pump.txt), [heat exchangers](../units/HXutility.txt), [flash vessels](../units/Flash.txt), and [distillation columns](../units/BinaryDistillation.txt) are some of the most rigorously modeled and designed. Design requirements for these essential units are calculated based on design specifications such as operating temperature and pressure, feed conditions, construction material, and degree of separation. These design requirements include, but are not limited to, the heat-transfer area of heat exchangers, the size and thickness of pressure vessels, and number of stages in a distillation column. Other unit operation models are modeled as [splitters](../units/Splitter.txt) (i.e., a specified fraction of each component entering a unit is separated), and the purchase price is estimated using size factor correlations that are ultimately a function of material flow rates. BioSTEAM chooses purchase price correlations and construction factors based on the design specifications and requirements for each unit operation. For detailed documentation and examples of each unit operation, visit the [units subpackage documentation](../units/units.txt)."
   ]
  },
  {
   "cell_type": "markdown",
   "metadata": {},
   "source": [
    "### A good example "
   ]
  },
  {
   "cell_type": "markdown",
   "metadata": {},
   "source": [
    "In the following example, BioSTEAM's binary distillation column is used to highlight key details here on where do unit operations store results:"
   ]
  },
  {
   "cell_type": "code",
   "execution_count": 1,
   "metadata": {},
   "outputs": [
    {
     "name": "stdout",
     "output_type": "stream",
     "text": [
      "BinaryDistillation: D1\n",
      "ins...\n",
      "[0] feed\n",
      "    phase: 'l', T: 354.2 K, P: 101325 Pa\n",
      "    flow (kmol/hr): Water    1.08e+03\n",
      "                    Ethanol  586\n",
      "outs...\n",
      "[0] distillate\n",
      "    phase: 'l', T: 298.15 K, P: 101325 Pa\n",
      "    flow: 0\n",
      "[1] bottoms_product\n",
      "    phase: 'l', T: 298.15 K, P: 101325 Pa\n",
      "    flow: 0\n"
     ]
    }
   ],
   "source": [
    "from biosteam import Stream, settings\n",
    "from biosteam.units import BinaryDistillation\n",
    "\n",
    "# First set the property package\n",
    "settings.set_thermo(['Water', 'Ethanol'])\n",
    "\n",
    "# Create the feed at the bubble point\n",
    "feed = Stream('feed', Water=1.08e+03, Ethanol=586)\n",
    "bp = feed.bubble_point_at_P()\n",
    "feed.T = bp.T # Feed at bubble point temperature\n",
    "\n",
    "# Create a distillation column and simulate\n",
    "D1 = BinaryDistillation('D1', ins=feed,\n",
    "                    outs=('distillate', 'bottoms_product'),\n",
    "                    LHK=('Ethanol', 'Water'), # Light and heavy keys\n",
    "                    y_top=0.79, # Light key composition at the distillate\n",
    "                    x_bot=0.001, # Light key composition at the bottoms product\n",
    "                    k=1.25, # Ratio of actual reflux over minimum reflux\n",
    "                    is_divided=True) # Whether the rectifying and stripping sections are divided\n",
    "D1.show()"
   ]
  },
  {
   "cell_type": "markdown",
   "metadata": {},
   "source": [
    "Before simulating a distillation column, no results are available, streams are empty, and the components are initialized but empty as well:"
   ]
  },
  {
   "cell_type": "code",
   "execution_count": 2,
   "metadata": {},
   "outputs": [
    {
     "data": {
      "text/plain": [
       "{}"
      ]
     },
     "execution_count": 2,
     "metadata": {},
     "output_type": "execute_result"
    }
   ],
   "source": [
    "D1.design_results"
   ]
  },
  {
   "cell_type": "code",
   "execution_count": 3,
   "metadata": {},
   "outputs": [
    {
     "data": {
      "text/plain": [
       "{}"
      ]
     },
     "execution_count": 3,
     "metadata": {},
     "output_type": "execute_result"
    }
   ],
   "source": [
    "D1.purchase_costs"
   ]
  },
  {
   "cell_type": "code",
   "execution_count": 4,
   "metadata": {},
   "outputs": [
    {
     "data": {
      "text/plain": [
       "(<HeatUtility: None>, <HeatUtility: None>)"
      ]
     },
     "execution_count": 4,
     "metadata": {},
     "output_type": "execute_result"
    }
   ],
   "source": [
    "D1.heat_utilities"
   ]
  },
  {
   "cell_type": "code",
   "execution_count": 5,
   "metadata": {},
   "outputs": [
    {
     "data": {
      "text/plain": [
       "<PowerUtility: 0 kW, 0 USD/hr>"
      ]
     },
     "execution_count": 5,
     "metadata": {},
     "output_type": "execute_result"
    }
   ],
   "source": [
    "D1.power_utility"
   ]
  },
  {
   "cell_type": "markdown",
   "metadata": {},
   "source": [
    "All unit operations have the `design_results`, `purchase_costs`, `heat_utilities`, and `power_utility` attributes. The `heat_utilities` attribute is a tuple of [HeatUtility](../HeatUtility.txt) objects and the `power_utility` attribute is a either [PowerUtility](../PowerUtility.txt) object or `None`. Unit operations may also have attributes and components specific to that unit operation. For example, here are few distillation-specific components:"
   ]
  },
  {
   "cell_type": "code",
   "execution_count": 6,
   "metadata": {},
   "outputs": [
    {
     "data": {
      "image/png": "[encoded data removed]",
      "text/plain": [
       "<IPython.core.display.Image object>"
      ]
     },
     "metadata": {},
     "output_type": "display_data"
    },
    {
     "name": "stdout",
     "output_type": "stream",
     "text": [
      "HXutility: U.1\n",
      "ins...\n",
      "[0] s.1\n",
      "    phase: 'g', T: 298.15 K, P: 101325 Pa\n",
      "    flow: 0\n",
      "outs...\n",
      "[0] s.2\n",
      "    phases: ('g', 'l'), T: 298.15 K, P: 101325 Pa\n",
      "    flow: 0\n"
     ]
    }
   ],
   "source": [
    "D1.condenser"
   ]
  },
  {
   "cell_type": "code",
   "execution_count": 7,
   "metadata": {},
   "outputs": [
    {
     "data": {
      "image/png": "[encoded data removed]",
      "text/plain": [
       "<IPython.core.display.Image object>"
      ]
     },
     "metadata": {},
     "output_type": "display_data"
    },
    {
     "name": "stdout",
     "output_type": "stream",
     "text": [
      "HXutility: U.2\n",
      "ins...\n",
      "[0] s.2\n",
      "    phase: 'l', T: 298.15 K, P: 101325 Pa\n",
      "    flow: 0\n",
      "outs...\n",
      "[0] s.3\n",
      "    phases: ('g', 'l'), T: 298.15 K, P: 101325 Pa\n",
      "    flow: 0\n"
     ]
    }
   ],
   "source": [
    "D1.boiler"
   ]
  },
  {
   "cell_type": "markdown",
   "metadata": {},
   "source": [
    "After simulation, the unit operation along with its components will calculate all design results, purchase costs, and utilities:"
   ]
  },
  {
   "cell_type": "code",
   "execution_count": 8,
   "metadata": {},
   "outputs": [
    {
     "name": "stdout",
     "output_type": "stream",
     "text": [
      "BinaryDistillation: D1\n",
      "ins...\n",
      "[0] feed\n",
      "    phase: 'l', T: 81.054 degC, P: 1 atm\n",
      "    composition: Water    0.648\n",
      "                 Ethanol  0.352\n",
      "                 -------  1.67e+03 kmol/hr\n",
      "outs...\n",
      "[0] distillate\n",
      "    phase: 'g', T: 78.388 degC, P: 1 atm\n",
      "    composition: Water    0.21\n",
      "                 Ethanol  0.79\n",
      "                 -------  741 kmol/hr\n",
      "[1] bottoms_product\n",
      "    phase: 'l', T: 99.674 degC, P: 1 atm\n",
      "    composition: Water    0.999\n",
      "                 Ethanol  0.001\n",
      "                 -------  925 kmol/hr\n"
     ]
    }
   ],
   "source": [
    "D1.simulate()\n",
    "D1.show(T='degC', P='atm', composition=True)"
   ]
  },
  {
   "cell_type": "code",
   "execution_count": 9,
   "metadata": {},
   "outputs": [
    {
     "data": {
      "text/plain": [
       "{'Theoretical feed stage': 24,\n",
       " 'Theoretical stages': 29,\n",
       " 'Minimum reflux': 0.7584532794255984,\n",
       " 'Reflux': 0.948066599281998,\n",
       " 'Rectifier stages': 42.0,\n",
       " 'Stripper stages': 9.0,\n",
       " 'Rectifier height': 74.51241599999999,\n",
       " 'Stripper height': 25.804416,\n",
       " 'Rectifier diameter': 9.962513180292852,\n",
       " 'Stripper diameter': 7.822084008251382,\n",
       " 'Rectifier wall thickness': 0.4375,\n",
       " 'Stripper wall thickness': 0.375,\n",
       " 'Rectifier weight': 39714.806907876686,\n",
       " 'Stripper weight': 12131.312162786196}"
      ]
     },
     "execution_count": 9,
     "metadata": {},
     "output_type": "execute_result"
    }
   ],
   "source": [
    "D1.design_results"
   ]
  },
  {
   "cell_type": "code",
   "execution_count": 10,
   "metadata": {},
   "outputs": [
    {
     "data": {
      "text/plain": [
       "{'Rectifier trays': 84066.75571540267,\n",
       " 'Stripper trays': 19427.150307102438,\n",
       " 'Rectifier tower': 269106.0138356967,\n",
       " 'Stripper tower': 113639.48728334697}"
      ]
     },
     "execution_count": 10,
     "metadata": {},
     "output_type": "execute_result"
    }
   ],
   "source": [
    "D1.purchase_costs"
   ]
  },
  {
   "cell_type": "code",
   "execution_count": 11,
   "metadata": {},
   "outputs": [
    {
     "data": {
      "text/plain": [
       "(<cooling_water: -3.02e+07 kJ/hr, 2.06e+04 kmol/hr, 10.1 USD/hr>,\n",
       " <low_pressure_steam: 6.64e+07 kJ/hr, 1.71e+03 kmol/hr, 407 USD/hr>)"
      ]
     },
     "execution_count": 11,
     "metadata": {},
     "output_type": "execute_result"
    }
   ],
   "source": [
    "D1.heat_utilities"
   ]
  },
  {
   "cell_type": "code",
   "execution_count": 12,
   "metadata": {},
   "outputs": [
    {
     "data": {
      "text/plain": [
       "<PowerUtility: 0 kW, 0 USD/hr>"
      ]
     },
     "execution_count": 12,
     "metadata": {},
     "output_type": "execute_result"
    }
   ],
   "source": [
    "D1.power_utility"
   ]
  },
  {
   "cell_type": "markdown",
   "metadata": {},
   "source": [
    "The `results()` method can conviniently present all these results: "
   ]
  },
  {
   "cell_type": "code",
   "execution_count": 13,
   "metadata": {
    "scrolled": false
   },
   "outputs": [
    {
     "data": {
      "text/html": [
       "<div>\n",
       "<style scoped>\n",
       "    .dataframe tbody tr th:only-of-type {\n",
       "        vertical-align: middle;\n",
       "    }\n",
       "\n",
       "    .dataframe tbody tr th {\n",
       "        vertical-align: top;\n",
       "    }\n",
       "\n",
       "    .dataframe thead th {\n",
       "        text-align: right;\n",
       "    }\n",
       "</style>\n",
       "<table border=\"1\" class=\"dataframe\">\n",
       "  <thead>\n",
       "    <tr style=\"text-align: right;\">\n",
       "      <th></th>\n",
       "      <th>Distillation</th>\n",
       "      <th>Units</th>\n",
       "      <th>D1</th>\n",
       "    </tr>\n",
       "  </thead>\n",
       "  <tbody>\n",
       "    <tr>\n",
       "      <th rowspan=\"3\" valign=\"top\">Cooling water</th>\n",
       "      <th>Duty</th>\n",
       "      <td>kJ/hr</td>\n",
       "      <td>-3.02e+07</td>\n",
       "    </tr>\n",
       "    <tr>\n",
       "      <th>Flow</th>\n",
       "      <td>kmol/hr</td>\n",
       "      <td>2.06e+04</td>\n",
       "    </tr>\n",
       "    <tr>\n",
       "      <th>Cost</th>\n",
       "      <td>USD/hr</td>\n",
       "      <td>10.1</td>\n",
       "    </tr>\n",
       "    <tr>\n",
       "      <th rowspan=\"3\" valign=\"top\">Low pressure steam</th>\n",
       "      <th>Duty</th>\n",
       "      <td>kJ/hr</td>\n",
       "      <td>6.64e+07</td>\n",
       "    </tr>\n",
       "    <tr>\n",
       "      <th>Flow</th>\n",
       "      <td>kmol/hr</td>\n",
       "      <td>1.71e+03</td>\n",
       "    </tr>\n",
       "    <tr>\n",
       "      <th>Cost</th>\n",
       "      <td>USD/hr</td>\n",
       "      <td>407</td>\n",
       "    </tr>\n",
       "    <tr>\n",
       "      <th rowspan=\"14\" valign=\"top\">Design</th>\n",
       "      <th>Theoretical feed stage</th>\n",
       "      <td></td>\n",
       "      <td>24</td>\n",
       "    </tr>\n",
       "    <tr>\n",
       "      <th>Theoretical stages</th>\n",
       "      <td></td>\n",
       "      <td>29</td>\n",
       "    </tr>\n",
       "    <tr>\n",
       "      <th>Minimum reflux</th>\n",
       "      <td>Ratio</td>\n",
       "      <td>0.758</td>\n",
       "    </tr>\n",
       "    <tr>\n",
       "      <th>Reflux</th>\n",
       "      <td>Ratio</td>\n",
       "      <td>0.948</td>\n",
       "    </tr>\n",
       "    <tr>\n",
       "      <th>Rectifier stages</th>\n",
       "      <td></td>\n",
       "      <td>42</td>\n",
       "    </tr>\n",
       "    <tr>\n",
       "      <th>Stripper stages</th>\n",
       "      <td></td>\n",
       "      <td>9</td>\n",
       "    </tr>\n",
       "    <tr>\n",
       "      <th>Rectifier height</th>\n",
       "      <td>ft</td>\n",
       "      <td>74.5</td>\n",
       "    </tr>\n",
       "    <tr>\n",
       "      <th>Stripper height</th>\n",
       "      <td>ft</td>\n",
       "      <td>25.8</td>\n",
       "    </tr>\n",
       "    <tr>\n",
       "      <th>Rectifier diameter</th>\n",
       "      <td>ft</td>\n",
       "      <td>9.96</td>\n",
       "    </tr>\n",
       "    <tr>\n",
       "      <th>Stripper diameter</th>\n",
       "      <td>ft</td>\n",
       "      <td>7.82</td>\n",
       "    </tr>\n",
       "    <tr>\n",
       "      <th>Rectifier wall thickness</th>\n",
       "      <td>in</td>\n",
       "      <td>0.438</td>\n",
       "    </tr>\n",
       "    <tr>\n",
       "      <th>Stripper wall thickness</th>\n",
       "      <td>in</td>\n",
       "      <td>0.375</td>\n",
       "    </tr>\n",
       "    <tr>\n",
       "      <th>Rectifier weight</th>\n",
       "      <td>lb</td>\n",
       "      <td>3.97e+04</td>\n",
       "    </tr>\n",
       "    <tr>\n",
       "      <th>Stripper weight</th>\n",
       "      <td>lb</td>\n",
       "      <td>1.21e+04</td>\n",
       "    </tr>\n",
       "    <tr>\n",
       "      <th rowspan=\"6\" valign=\"top\">Purchase cost</th>\n",
       "      <th>Rectifier trays</th>\n",
       "      <td>USD</td>\n",
       "      <td>8.41e+04</td>\n",
       "    </tr>\n",
       "    <tr>\n",
       "      <th>Stripper trays</th>\n",
       "      <td>USD</td>\n",
       "      <td>1.94e+04</td>\n",
       "    </tr>\n",
       "    <tr>\n",
       "      <th>Rectifier tower</th>\n",
       "      <td>USD</td>\n",
       "      <td>2.69e+05</td>\n",
       "    </tr>\n",
       "    <tr>\n",
       "      <th>Stripper tower</th>\n",
       "      <td>USD</td>\n",
       "      <td>1.14e+05</td>\n",
       "    </tr>\n",
       "    <tr>\n",
       "      <th>Condenser</th>\n",
       "      <td>USD</td>\n",
       "      <td>6.88e+04</td>\n",
       "    </tr>\n",
       "    <tr>\n",
       "      <th>Boiler</th>\n",
       "      <td>USD</td>\n",
       "      <td>4.7e+04</td>\n",
       "    </tr>\n",
       "    <tr>\n",
       "      <th>Total purchase cost</th>\n",
       "      <th></th>\n",
       "      <td>USD</td>\n",
       "      <td>6.02e+05</td>\n",
       "    </tr>\n",
       "    <tr>\n",
       "      <th>Utility cost</th>\n",
       "      <th></th>\n",
       "      <td>USD/hr</td>\n",
       "      <td>417</td>\n",
       "    </tr>\n",
       "  </tbody>\n",
       "</table>\n",
       "</div>"
      ],
      "text/plain": [
       "Distillation                                    Units        D1\n",
       "Cooling water       Duty                        kJ/hr -3.02e+07\n",
       "                    Flow                      kmol/hr  2.06e+04\n",
       "                    Cost                       USD/hr      10.1\n",
       "Low pressure steam  Duty                        kJ/hr  6.64e+07\n",
       "                    Flow                      kmol/hr  1.71e+03\n",
       "                    Cost                       USD/hr       407\n",
       "Design              Theoretical feed stage                   24\n",
       "                    Theoretical stages                       29\n",
       "                    Minimum reflux              Ratio     0.758\n",
       "                    Reflux                      Ratio     0.948\n",
       "                    Rectifier stages                         42\n",
       "                    Stripper stages                           9\n",
       "                    Rectifier height               ft      74.5\n",
       "                    Stripper height                ft      25.8\n",
       "                    Rectifier diameter             ft      9.96\n",
       "                    Stripper diameter              ft      7.82\n",
       "                    Rectifier wall thickness       in     0.438\n",
       "                    Stripper wall thickness        in     0.375\n",
       "                    Rectifier weight               lb  3.97e+04\n",
       "                    Stripper weight                lb  1.21e+04\n",
       "Purchase cost       Rectifier trays               USD  8.41e+04\n",
       "                    Stripper trays                USD  1.94e+04\n",
       "                    Rectifier tower               USD  2.69e+05\n",
       "                    Stripper tower                USD  1.14e+05\n",
       "                    Condenser                     USD  6.88e+04\n",
       "                    Boiler                        USD   4.7e+04\n",
       "Total purchase cost                               USD  6.02e+05\n",
       "Utility cost                                   USD/hr       417"
      ]
     },
     "execution_count": 13,
     "metadata": {},
     "output_type": "execute_result"
    }
   ],
   "source": [
    "D1.results()"
   ]
  },
  {
   "cell_type": "markdown",
   "metadata": {},
   "source": [
    "Note that the units for the design results are in the `_units` dictionary:"
   ]
  },
  {
   "cell_type": "code",
   "execution_count": 14,
   "metadata": {},
   "outputs": [
    {
     "data": {
      "text/plain": [
       "{'Minimum reflux': 'Ratio',\n",
       " 'Reflux': 'Ratio',\n",
       " 'Rectifier height': 'ft',\n",
       " 'Rectifier diameter': 'ft',\n",
       " 'Rectifier wall thickness': 'in',\n",
       " 'Rectifier weight': 'lb',\n",
       " 'Stripper height': 'ft',\n",
       " 'Stripper diameter': 'ft',\n",
       " 'Stripper wall thickness': 'in',\n",
       " 'Stripper weight': 'lb',\n",
       " 'Height': 'ft',\n",
       " 'Diameter': 'ft',\n",
       " 'Wall thickness': 'in',\n",
       " 'Weight': 'lb'}"
      ]
     },
     "execution_count": 14,
     "metadata": {},
     "output_type": "execute_result"
    }
   ],
   "source": [
    "D1._units"
   ]
  },
  {
   "cell_type": "markdown",
   "metadata": {},
   "source": [
    "It is also possible to retrieve design results in another set of units:"
   ]
  },
  {
   "cell_type": "code",
   "execution_count": 15,
   "metadata": {
    "scrolled": true
   },
   "outputs": [
    {
     "data": {
      "text/plain": [
       "22.711384396799993"
      ]
     },
     "execution_count": 15,
     "metadata": {},
     "output_type": "execute_result"
    }
   ],
   "source": [
    "D1.get_design_result('Rectifier height', 'meter')"
   ]
  },
  {
   "cell_type": "markdown",
   "metadata": {},
   "source": [
    "For completeness, here are the rest of the results:"
   ]
  },
  {
   "cell_type": "code",
   "execution_count": 16,
   "metadata": {},
   "outputs": [
    {
     "data": {
      "image/png": "[encoded data removed]",
      "text/plain": [
       "<IPython.core.display.Image object>"
      ]
     },
     "metadata": {},
     "output_type": "display_data"
    },
    {
     "name": "stdout",
     "output_type": "stream",
     "text": [
      "HXutility: U.1\n",
      "ins...\n",
      "[0] s.1\n",
      "    phase: 'g', T: 351.54 K, P: 101325 Pa\n",
      "    flow (kmol/hr): Water    327\n",
      "                    Ethanol  1.12e+03\n",
      "outs...\n",
      "[0] s.2\n",
      "    phases: ('g', 'l'), T: 351.54 K, P: 101325 Pa\n",
      "    flow (kmol/hr): (g) Water    155.5\n",
      "                        Ethanol  585.1\n",
      "                    (l) Water    171.6\n",
      "                        Ethanol  530.5\n"
     ]
    }
   ],
   "source": [
    "D1.condenser"
   ]
  },
  {
   "cell_type": "code",
   "execution_count": 17,
   "metadata": {},
   "outputs": [
    {
     "data": {
      "image/png": "[encoded data removed]",
      "text/plain": [
       "<IPython.core.display.Image object>"
      ]
     },
     "metadata": {},
     "output_type": "display_data"
    },
    {
     "name": "stdout",
     "output_type": "stream",
     "text": [
      "HXutility: U.2\n",
      "ins...\n",
      "[0] s.2\n",
      "    phase: 'l', T: 298.15 K, P: 101325 Pa\n",
      "    flow (kmol/hr): Water    2.35e+03\n",
      "                    Ethanol  19.6\n",
      "outs...\n",
      "[0] s.3\n",
      "    phases: ('g', 'l'), T: 372.82 K, P: 101325 Pa\n",
      "    flow (kmol/hr): (g) Water    1424\n",
      "                        Ethanol  18.68\n",
      "                    (l) Water    924.5\n",
      "                        Ethanol  0.9254\n"
     ]
    }
   ],
   "source": [
    "D1.boiler"
   ]
  },
  {
   "cell_type": "markdown",
   "metadata": {},
   "source": [
    "Unit operations may also have special methods that you may find useful:"
   ]
  },
  {
   "cell_type": "code",
   "execution_count": 18,
   "metadata": {},
   "outputs": [
    {
     "data": {
      "image/png": "[encoded data removed]",
      "text/plain": [
       "<Figure size 432x288 with 1 Axes>"
      ]
     },
     "metadata": {
      "needs_background": "light"
     },
     "output_type": "display_data"
    },
    {
     "data": {
      "text/plain": [
       "<module 'matplotlib.pyplot' from 'C:\\\\ProgramData\\\\Miniconda3\\\\lib\\\\site-packages\\\\matplotlib\\\\pyplot.py'>"
      ]
     },
     "execution_count": 18,
     "metadata": {},
     "output_type": "execute_result"
    }
   ],
   "source": [
    "D1.plot_stages()"
   ]
  },
  {
   "cell_type": "markdown",
   "metadata": {},
   "source": [
    "### References\n",
    "\n",
    "<a id='References'></a>\n",
    "\n",
    "1. Seider, W. D.; Lewin, D. R.; Seader, J. D.; Widagdo, S.; Gani, R.; Ng, M. K. Cost Accounting and Capital Cost Estimation. In Product and Process Design Principles; Wiley, 2017; pp 426−485.\n",
    "2. Svrcek, W. Y.; Monnery, W. D. Design Two-Phase Separators Within the Right Limits. In Chemical Engineering Progress (CEP); The American Institute of Chemical Engineers, 1993; pp 53−60.\n",
    "3. Apostolakou, A. A.; Kookos, I. K.; Marazioti, C.; Angelopoulos, K. C. Techno-Economic Analysis of a Biodiesel Production Process from Vegetable Oils. Fuel Process. Technol. 2009, 90, 1023−1031.\n",
    "4. Green, D. W. Distillation. In Perry’s Chemical Engineers’ Handbook, 9 ed.; McGraw-Hill Education, 2018.\n",
    "5. Duss, M.; Taylor, R. Predict Distillation Tray Efficiency. Chem. Eng. Prog. 2018, 24−30."
   ]
  }
 ],
 "metadata": {
  "kernelspec": {
   "display_name": "Python 3",
   "language": "python",
   "name": "python3"
  },
  "language_info": {
   "codemirror_mode": {
    "name": "ipython",
    "version": 3
   },
   "file_extension": ".py",
   "mimetype": "text/x-python",
   "name": "python",
   "nbconvert_exporter": "python",
   "pygments_lexer": "ipython3",
   "version": "3.7.7"
  }
 },
 "nbformat": 4,
 "nbformat_minor": 2
}
