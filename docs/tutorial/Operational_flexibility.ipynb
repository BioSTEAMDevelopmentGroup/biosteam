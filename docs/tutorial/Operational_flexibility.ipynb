{
 "cells": [
  {
   "cell_type": "markdown",
   "metadata": {},
   "source": [
    "# Operational flexibility"
   ]
  },
  {
   "cell_type": "markdown",
   "metadata": {},
   "source": [
    "## Overview"
   ]
  },
  {
   "cell_type": "markdown",
   "metadata": {},
   "source": [
    "BioSTEAM is able to conservatively design operationally flexible biorefineries that can switch configurations, vary feedstocks, and even vary operating conditions throughout the year. Switching **operation modes** throughout the year is modeled using an **AgileSystem** object, which simulates each mode of operation and compiles new **agile designs** for each unit operation suitable for all operation modes. For example, an agile distillation column would have the largest diameter and number of operating stages required among all operation modes. Each operation mode runs for a defined number of operating hours, allowing the variable operating costs (e.g. material and utility costs) and sales to be summed across different operation modes. This **preliminary** agile design assumption leads to **conservative** estimates around utility costs as some units may be **over-designed**. For example, a distillation column with a higher number of stages will require a lower reflux ratio and less utilities to reach a target separation. The following UML diagram summarizes how BioSTEAM agile biorefinery models work:"
   ]
  },
  {
   "cell_type": "raw",
   "metadata": {
    "raw_mimetype": "text/restructuredtext"
   },
   "source": [
    ".. figure:: agile_UML_light.png\n",
    "   :class: only-light\n",
    "   :align: center\n",
    "\n",
    ".. figure:: agile_UML_dark.png\n",
    "   :class: only-dark\n",
    "   :align: center\n"
   ]
  },
  {
   "cell_type": "markdown",
   "metadata": {},
   "source": [
    "## Agile sugarcane and sweet sorghum biorefinery"
   ]
  },
  {
   "cell_type": "markdown",
   "metadata": {},
   "source": [
    "One drawback of processing sugarcane is its short harvesting period of 4-5 months in southern USA, which limits biorefinery operations to 5-7 months a year. Because sweet sorghum can be harvested when sugarcane is not in season, an idle sugarcane biorefinery could potentially increase biofuel production by processing sorghum. A logistics study accounting for cropland and harvesting by Cutz et al. proposed that sugarcane plants may potentially process sweet sorghum at least 1 month before, and 1 month after the sugarcane season [[1]](#References). The co-utilization of sugarcane and sorghum feedstocks has been achieved at an industrial-scale trial in Zimbabwe, which demonstrated that sweet sorghum can be processed without any modifications to an existing sugarcane mill [[2]](#References).\n",
    "\n",
    "Here we model an agile sugcarcane/sorghum biorefinery using an AgileSystem object. We use two operation modes, one for sugarcane and one for sorghum. As an example, we expose fermentation efficiency as an operation parameter and set different efficiencies for each operation mode. We also define the emissions as a metric and view both annualized and detailed results by operation mode:"
   ]
  },
  {
   "cell_type": "code",
   "execution_count": 7,
   "metadata": {},
   "outputs": [],
   "source": [
    "import biosteam as bst\n",
    "from biorefineries import sugarcane as sc\n",
    "\n",
    "# Create the agile system object\n",
    "agile_sys = bst.AgileSystem()\n",
    "\n",
    "# Create sugarcane system\n",
    "sc.load()\n",
    "sugarcane_sys = sc.sugarcane_sys\n",
    "\n",
    "# Create new soghum system; which is exactly the same as sugarcane but with a different feedstock.\n",
    "# Systems remember the configuration they had when they were created, which makes it\n",
    "# possible to change configurations without affecting old systems.\n",
    "sugarcane = sc.U101.ins[0]\n",
    "sc.U101.ins[0] = None # Remove stream without warnings\n",
    "sc.U101.ins[0] = sorghum = bst.Stream(\n",
    "    'sorghum',\n",
    "    Water=0.7,\n",
    "    Glucose=0.0111,\n",
    "    Sucrose=0.126,\n",
    "    Ash=0.006,\n",
    "    Cellulose=0.0668,\n",
    "    Hemicellulose=0.0394,\n",
    "    Lignin=0.0358,\n",
    "    Solids=0.015,\n",
    "    total_flow=333334,\n",
    "    price=sc.sugarcane.price,\n",
    "    units='kg/hr',\n",
    ")\n",
    "sorghum_sys = bst.System.from_units('sorghum_sys', sugarcane_sys.units)\n",
    "\n",
    "# Define operation parameters.\n",
    "@agile_sys.operation_parameter\n",
    "def set_fermentation_efficiency(X):\n",
    "    sc.R301.X = X\n",
    "\n",
    "# If mode dependent, the mode is also passed to the setter when the agile system is simulated.\n",
    "@agile_sys.operation_parameter(mode_dependent=True)\n",
    "def set_feedstock_flow_rate(flow_rate, mode):\n",
    "    # We can define a \"feedstock\" attribute later. \n",
    "    mode.feedstock.F_mass = flow_rate\n",
    "\n",
    "# Define operation metrics\n",
    "# If annualized, the metric returns the integral sum across operation hours.\n",
    "# In other words, the result of this metric will be in ton / yr (instead of ton / hr).\n",
    "@agile_sys.operation_metric(annualize=True)\n",
    "def net_emissions(mode):\n",
    "    return (sc.R301.outs[0].imass['CO2'] + sc.BT.outs[0].imass['CO2']) / 907.18 \n",
    "\n",
    "# When metric is not annualized, the metric returns a dictionary of results by\n",
    "# operation mode (in ton / hr).\n",
    "@agile_sys.operation_metric\n",
    "def emissions_by_mode(mode):\n",
    "    return (sc.R301.outs[0].imass['CO2'] + sc.BT.outs[0].imass['CO2']) / 907.18 \n",
    "    \n",
    "# Note how the name of the parameter defaults to the name used in the function (e.g., X, flow_rate).\n",
    "sugarcane_mode = agile_sys.operation_mode(\n",
    "    system=sugarcane_sys, operating_hours=24*200, X=0.90, feedstock=sugarcane,\n",
    "    flow_rate=333334,\n",
    ")\n",
    "\n",
    "# Assume fermentation of sorghum is less efficient for demonstration purposes.\n",
    "# Assume a similar flow rate is available for sorghum.\n",
    "sorghum_mode = agile_sys.operation_mode(\n",
    "    system=sorghum_sys, operating_hours=24*60, X=0.85, feedstock=sorghum,\n",
    "    flow_rate=330000,\n",
    ") "
   ]
  },
  {
   "cell_type": "markdown",
   "metadata": {},
   "source": [
    "Note how the operation modes we defined are stored in the AgileSystem object:"
   ]
  },
  {
   "cell_type": "code",
   "execution_count": 8,
   "metadata": {},
   "outputs": [
    {
     "data": {
      "text/plain": [
       "[OperationMode(system=sugarcane_sys, operating_hours=4800, X=0.9, feedstock=sugarcane, flow_rate=333334),\n",
       " OperationMode(system=sorghum_sys, operating_hours=1440, X=0.85, feedstock=sorghum, flow_rate=330000)]"
      ]
     },
     "execution_count": 8,
     "metadata": {},
     "output_type": "execute_result"
    }
   ],
   "source": [
    "agile_sys.operation_modes"
   ]
  },
  {
   "cell_type": "markdown",
   "metadata": {},
   "source": [
    "Simulate and retrieve general system results:"
   ]
  },
  {
   "cell_type": "code",
   "execution_count": 9,
   "metadata": {},
   "outputs": [
    {
     "name": "stdout",
     "output_type": "stream",
     "text": [
      "Sales: 112 MMUSD/yr\n",
      "Material cost: 74 MMUSD/yr\n",
      "Utility cost: -16 MMUSD/yr\n"
     ]
    }
   ],
   "source": [
    "agile_sys.simulate()\n",
    "print(f'Sales: {agile_sys.sales / 1e6:.0f} MMUSD/yr')\n",
    "print(f'Material cost: {agile_sys.material_cost / 1e6:.0f} MMUSD/yr')\n",
    "print(f'Utility cost: {agile_sys.utility_cost / 1e6:.0f} MMUSD/yr')"
   ]
  },
  {
   "cell_type": "markdown",
   "metadata": {},
   "source": [
    "Retrieve annualized and non-annualized emissions:"
   ]
  },
  {
   "cell_type": "code",
   "execution_count": 10,
   "metadata": {},
   "outputs": [
    {
     "name": "stdout",
     "output_type": "stream",
     "text": [
      "Net emissions: 702716 ton/yr\n",
      "Emissions by mode:\n",
      " sugarcane_sys: 112 ton/hr\n",
      " sorghum_sys: 116 ton/hr\n"
     ]
    }
   ],
   "source": [
    "print(f'Net emissions: {net_emissions():.0f} ton/yr')\n",
    "print('Emissions by mode:')\n",
    "for mode, value in emissions_by_mode().items():\n",
    "    print(f\" {mode.system}: {value:.0f} ton/hr\")"
   ]
  },
  {
   "cell_type": "markdown",
   "metadata": {},
   "source": [
    "Just like BioSTEAM System objects, summarized power and heat utilities for agile systems. These have been averaged across operation modes on an hourly basis:"
   ]
  },
  {
   "cell_type": "code",
   "execution_count": 11,
   "metadata": {
    "tags": [
     "nbval-ignore-output"
    ]
   },
   "outputs": [
    {
     "name": "stdout",
     "output_type": "stream",
     "text": [
      "PowerUtility:\n",
      " consumption: 8.66e+03 kW\n",
      " production: 5.35e+04 kW\n",
      " rate: -4.49e+04 kW\n",
      " cost: -2.92e+03 USD/hr\n"
     ]
    }
   ],
   "source": [
    "agile_sys.power_utility"
   ]
  },
  {
   "cell_type": "markdown",
   "metadata": {},
   "source": [
    "We can create a new TEA object with the agile system to see how our IRR has changed:"
   ]
  },
  {
   "cell_type": "code",
   "execution_count": 12,
   "metadata": {},
   "outputs": [
    {
     "name": "stdout",
     "output_type": "stream",
     "text": [
      "Sugarcane only\n",
      "NPV: 0.00 USD\n",
      "IRR: 14%\n",
      "TCI: 179 MMUSD\n",
      "\n",
      "Agile Sugarcane/Sorghum\n",
      "NPV: 0.00 USD\n",
      "IRR: 18%\n",
      "TCI: 188 MMUSD\n"
     ]
    }
   ],
   "source": [
    "sugarcane_mode.simulate()\n",
    "sc.sugarcane_tea.IRR = sc.sugarcane_tea.solve_IRR()\n",
    "print('Sugarcane only')\n",
    "print(f'NPV: {sc.sugarcane_tea.NPV/1e6:.2f} USD')\n",
    "print(f'IRR: {sc.sugarcane_tea.IRR:.0%}')\n",
    "print(f'TCI: {sc.sugarcane_tea.TCI/1e6:.0f} MMUSD')\n",
    "\n",
    "# Recreate the TEA object using the agile system\n",
    "agile_tea = sc.ConventionalEthanolTEA(\n",
    "    system=agile_sys,\n",
    "    IRR=0.15,\n",
    "    duration=(2018, 2038),\n",
    "    depreciation='MACRS7', \n",
    "    income_tax=0.35,\n",
    "    operating_days=260, # Total sum of operating days across operation modes\n",
    "    lang_factor=3,\n",
    "    construction_schedule=(0.4, 0.6),\n",
    "    WC_over_FCI=0.05,\n",
    "    labor_cost=2.5e6,\n",
    "    fringe_benefits=0.4,\n",
    "    property_tax=0.001,\n",
    "    property_insurance=0.005,\n",
    "    supplies=0.20,\n",
    "    maintenance=0.01,\n",
    "    administration=0.005\n",
    ")\n",
    "agile_sys.simulate()\n",
    "agile_tea.IRR = agile_tea.solve_IRR()\n",
    "print()\n",
    "print('Agile Sugarcane/Sorghum')\n",
    "print(f'NPV: {agile_tea.NPV/1e6:.2f} USD')\n",
    "print(f'IRR: {agile_tea.IRR:.0%}')\n",
    "print(f'TCI: {agile_tea.TCI/1e6:.0f} MMUSD')"
   ]
  },
  {
   "cell_type": "markdown",
   "metadata": {},
   "source": [
    "While the IRR is higher due to increased production, note how the capital cost increases slightly due to the different feedstock composition and operation."
   ]
  },
  {
   "cell_type": "markdown",
   "metadata": {},
   "source": [
    "### References\n",
    "\n",
    "<a id='References'></a>\n",
    "\n",
    "1. Cutz, L.; Sanchez-Delgado, S.; Ruiz-Rivas, U.; Santana, D. Bioenergy Production in Central America: Integration of Sweet Sorghum into Sugar Mills. Renewable and Sustainable Energy Reviews 2013, 25, 529–542. https://doi.org/10.1016/j.rser.2013.05.007.\n",
    "\n",
    "2. Woods, J. The Potential for Energy Production Using Sweet Sorghum in Southern Africa. Energy for Sustainable Development 2001, 5 (1), 31–38. https://doi.org/10.1016/S0973-0826(09)60018-1.\n"
   ]
  }
 ],
 "metadata": {
  "celltoolbar": "Raw Cell Format",
  "kernelspec": {
   "display_name": "Python 3 (ipykernel)",
   "language": "python",
   "name": "python3"
  },
  "language_info": {
   "codemirror_mode": {
    "name": "ipython",
    "version": 3
   },
   "file_extension": ".py",
   "mimetype": "text/x-python",
   "name": "python",
   "nbconvert_exporter": "python",
   "pygments_lexer": "ipython3",
   "version": "3.8.5"
  }
 },
 "nbformat": 4,
 "nbformat_minor": 2
}
