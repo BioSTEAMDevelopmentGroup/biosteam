{
 "cells": [
  {
   "cell_type": "markdown",
   "metadata": {},
   "source": [
    "# Phase equilibrium"
   ]
  },
  {
   "cell_type": "markdown",
   "metadata": {},
   "source": [
    "It is not necessary to use a Stream object to use phase equilibrium methods. In fact, thermosteam makes it just as easy to compute vapor-liquid equilibrium, bubble and dew points, and fugacities. "
   ]
  },
  {
   "cell_type": "markdown",
   "metadata": {},
   "source": [
    "### Fugacities"
   ]
  },
  {
   "cell_type": "markdown",
   "metadata": {},
   "source": [
    "The easiest way to calculate fugacities is through LiquidFugacities and GasFugacities objects:"
   ]
  },
  {
   "cell_type": "code",
   "execution_count": 1,
   "metadata": {
    "tags": [
     "nbval-ignore-output"
    ]
   },
   "outputs": [
    {
     "data": {
      "text/plain": [
       "array([43338.226, 58056.67 ])"
      ]
     },
     "execution_count": 1,
     "metadata": {},
     "output_type": "execute_result"
    }
   ],
   "source": [
    "import thermosteam as tmo\n",
    "import numpy as np\n",
    "chemicals = tmo.Chemicals(['Water', 'Ethanol'])\n",
    "tmo.settings.set_thermo(chemicals)\n",
    "\n",
    "# Create a LiquidFugacities object\n",
    "F_l = tmo.equilibrium.LiquidFugacities(chemicals)\n",
    "\n",
    "# Compute liquid fugacities\n",
    "liquid_molar_composition = np.array([0.72, 0.28])\n",
    "f_l = F_l(x=liquid_molar_composition, T=355)\n",
    "f_l "
   ]
  },
  {
   "cell_type": "code",
   "execution_count": 2,
   "metadata": {
    "tags": [
     "nbval-ignore-output"
    ]
   },
   "outputs": [
    {
     "data": {
      "text/plain": [
       "array([43569.75, 57755.25])"
      ]
     },
     "execution_count": 2,
     "metadata": {},
     "output_type": "execute_result"
    }
   ],
   "source": [
    "# Create a GasFugacities object\n",
    "F_g = tmo.equilibrium.GasFugacities(chemicals)\n",
    "\n",
    "# Compute gas fugacities\n",
    "gas_molar_composition = np.array([0.43, 0.57])\n",
    "f_g = F_g(y=gas_molar_composition, T=355, P=101325)\n",
    "f_g"
   ]
  },
  {
   "cell_type": "markdown",
   "metadata": {},
   "source": [
    "### Bubble and dew points"
   ]
  },
  {
   "cell_type": "markdown",
   "metadata": {},
   "source": [
    "Similarly bubble and dew point can be calculated through BubblePoint and DewPoint objects:"
   ]
  },
  {
   "cell_type": "code",
   "execution_count": 3,
   "metadata": {},
   "outputs": [
    {
     "data": {
      "text/plain": [
       "BubblePointValues(T=355.00, P=109811, IDs=('Water', 'Ethanol'), z=[0.5 0.5], y=[0.343 0.657])"
      ]
     },
     "execution_count": 3,
     "metadata": {},
     "output_type": "execute_result"
    }
   ],
   "source": [
    "# Create a BubblePoint object\n",
    "BP = tmo.equilibrium.BubblePoint(chemicals)\n",
    "molar_composition = np.array([0.5, 0.5])\n",
    "\n",
    "# Solve bubble point at constant temperature\n",
    "bp = BP(z=molar_composition, T=355)\n",
    "bp"
   ]
  },
  {
   "cell_type": "code",
   "execution_count": 4,
   "metadata": {
    "tags": [
     "nbval-skip"
    ]
   },
   "outputs": [
    {
     "data": {
      "text/plain": [
       "(355,\n",
       " 109811.1765979334,\n",
       " ('Water', 'Ethanol'),\n",
       " array([0.5, 0.5]),\n",
       " array([0.343, 0.657]))"
      ]
     },
     "execution_count": 4,
     "metadata": {},
     "output_type": "execute_result"
    }
   ],
   "source": [
    "# Note that the result is a BubblePointValues object which contain all results as attibutes\n",
    "(bp.T, bp.P, bp.IDs, bp.z, bp.y)"
   ]
  },
  {
   "cell_type": "code",
   "execution_count": 5,
   "metadata": {},
   "outputs": [
    {
     "data": {
      "text/plain": [
       "BubblePointValues(T=371.77, P=202650, IDs=('Water', 'Ethanol'), z=[0.5 0.5], y=[0.35 0.65])"
      ]
     },
     "execution_count": 5,
     "metadata": {},
     "output_type": "execute_result"
    }
   ],
   "source": [
    "# Solve bubble point at constant pressure\n",
    "BP(z=molar_composition, P=2*101325)"
   ]
  },
  {
   "cell_type": "code",
   "execution_count": 6,
   "metadata": {},
   "outputs": [
    {
     "data": {
      "text/plain": [
       "DewPointValues(T=355.00, P=92086, IDs=('Water', 'Ethanol'), z=[0.5 0.5], x=[0.85 0.15])"
      ]
     },
     "execution_count": 6,
     "metadata": {},
     "output_type": "execute_result"
    }
   ],
   "source": [
    "# Create a DewPoint object\n",
    "DP = tmo.equilibrium.DewPoint(chemicals)\n",
    "\n",
    "# Solve for dew point at constant temperautre\n",
    "dp = DP(z=molar_composition, T=355)\n",
    "dp"
   ]
  },
  {
   "cell_type": "code",
   "execution_count": 7,
   "metadata": {
    "tags": [
     "nbval-skip"
    ]
   },
   "outputs": [
    {
     "data": {
      "text/plain": [
       "(355,\n",
       " 92086.03838534642,\n",
       " ('Water', 'Ethanol'),\n",
       " array([0.5, 0.5]),\n",
       " array([0.85, 0.15]))"
      ]
     },
     "execution_count": 7,
     "metadata": {},
     "output_type": "execute_result"
    }
   ],
   "source": [
    "# Note that the result is a DewPointValues object which contain all results as attibutes\n",
    "(dp.T, dp.P, dp.IDs, dp.z, dp.x)"
   ]
  },
  {
   "cell_type": "code",
   "execution_count": 8,
   "metadata": {},
   "outputs": [
    {
     "data": {
      "text/plain": [
       "DewPointValues(T=376.23, P=202648, IDs=('Water', 'Ethanol'), z=[0.5 0.5], x=[0.832 0.168])"
      ]
     },
     "execution_count": 8,
     "metadata": {},
     "output_type": "execute_result"
    }
   ],
   "source": [
    "# Solve for dew point at constant pressure\n",
    "DP(z=molar_composition, P=2*101324)"
   ]
  },
  {
   "cell_type": "markdown",
   "metadata": {},
   "source": [
    "### Vapor liquid equilibrium"
   ]
  },
  {
   "cell_type": "markdown",
   "metadata": {},
   "source": [
    "Vapor-liquid equilibrium can be calculated through a VLE object:"
   ]
  },
  {
   "cell_type": "code",
   "execution_count": 9,
   "metadata": {},
   "outputs": [
    {
     "data": {
      "text/plain": [
       "VLE(imol=MaterialIndexer(\n",
       "        g=[('Water', 0.5), ('Ethanol', 0.5)],\n",
       "        l=[('Water', 0.5), ('Ethanol', 0.5)]),\n",
       "    thermal_condition=ThermalCondition(T=298.15, P=101325))"
      ]
     },
     "execution_count": 9,
     "metadata": {},
     "output_type": "execute_result"
    }
   ],
   "source": [
    "# First create a material indexer for the VLE object to manage material data\n",
    "imol = tmo.indexer.MaterialIndexer(l=[('Water', 0.5), ('Ethanol', 0.5)],\n",
    "                                   g=[('Water', 0.5), ('Ethanol', 0.5)])\n",
    "\n",
    "# Create a VLE object\n",
    "vle = tmo.equilibrium.VLE(imol)\n",
    "vle"
   ]
  },
  {
   "cell_type": "markdown",
   "metadata": {},
   "source": [
    "You can call the VLE object by setting 2 degrees of freedom from the following list: \n",
    "\n",
    "* `T` - Temperature [K]\n",
    "* `P` - Pressure [Pa]\n",
    "* `V` - Molar vapor fraction\n",
    "* `H` - Enthalpy [kJ/hr]\n",
    "* `y` - Binary molar vapor composition\n",
    "* `x` - Binary molar liquid composition\n",
    "\n",
    "Here are some examples:"
   ]
  },
  {
   "cell_type": "code",
   "execution_count": 10,
   "metadata": {},
   "outputs": [
    {
     "data": {
      "text/plain": [
       "VLE(imol=MaterialIndexer(\n",
       "        g=[('Water', 0.6459), ('Ethanol', 0.8633)],\n",
       "        l=[('Water', 0.3541), ('Ethanol', 0.1367)]),\n",
       "    thermal_condition=ThermalCondition(T=355.00, P=101325))"
      ]
     },
     "execution_count": 10,
     "metadata": {},
     "output_type": "execute_result"
    }
   ],
   "source": [
    "vle(T=355, P=101325)\n",
    "vle"
   ]
  },
  {
   "cell_type": "code",
   "execution_count": 11,
   "metadata": {},
   "outputs": [
    {
     "data": {
      "text/plain": [
       "VLE(imol=MaterialIndexer(\n",
       "        g=[('Water', 0.6175), ('Ethanol', 0.8273)],\n",
       "        l=[('Water', 0.3825), ('Ethanol', 0.1727)]),\n",
       "    thermal_condition=ThermalCondition(T=373.68, P=202650))"
      ]
     },
     "execution_count": 11,
     "metadata": {},
     "output_type": "execute_result"
    }
   ],
   "source": [
    "mixture_enthalpy = vle.mixture.xH(imol, *vle.thermal_condition)\n",
    "vle(H=mixture_enthalpy, P=202650)\n",
    "vle"
   ]
  },
  {
   "cell_type": "code",
   "execution_count": 12,
   "metadata": {},
   "outputs": [
    {
     "data": {
      "text/plain": [
       "VLE(imol=MaterialIndexer(\n",
       "        g=[('Water', 0.3864), ('Ethanol', 0.6136)],\n",
       "        l=[('Water', 0.6136), ('Ethanol', 0.3864)]),\n",
       "    thermal_condition=ThermalCondition(T=353.86, P=101325))"
      ]
     },
     "execution_count": 12,
     "metadata": {},
     "output_type": "execute_result"
    }
   ],
   "source": [
    "vle(V=0.5, P=101325)\n",
    "vle"
   ]
  },
  {
   "cell_type": "code",
   "execution_count": 13,
   "metadata": {},
   "outputs": [
    {
     "data": {
      "text/plain": [
       "VLE(imol=MaterialIndexer(\n",
       "        g=[('Water', 0.3889), ('Ethanol', 0.6111)],\n",
       "        l=[('Water', 0.6111), ('Ethanol', 0.3889)]),\n",
       "    thermal_condition=ThermalCondition(T=360.00, P=128220))"
      ]
     },
     "execution_count": 13,
     "metadata": {},
     "output_type": "execute_result"
    }
   ],
   "source": [
    "vle(V=0.5, T=360)\n",
    "vle"
   ]
  },
  {
   "cell_type": "code",
   "execution_count": 14,
   "metadata": {},
   "outputs": [
    {
     "data": {
      "text/plain": [
       "VLE(imol=MaterialIndexer(\n",
       "        g=[('Water', 0.8372), ('Ethanol', 0.9593)],\n",
       "        l=[('Water', 0.1628), ('Ethanol', 0.04071)]),\n",
       "    thermal_condition=ThermalCondition(T=356.23, P=128220))"
      ]
     },
     "execution_count": 14,
     "metadata": {},
     "output_type": "execute_result"
    }
   ],
   "source": [
    "vle(x=np.array([0.8, 0.2]), P=101325)\n",
    "vle"
   ]
  },
  {
   "cell_type": "code",
   "execution_count": 15,
   "metadata": {},
   "outputs": [
    {
     "data": {
      "text/plain": [
       "VLE(imol=MaterialIndexer(\n",
       "        g=[('Water', 0.4678), ('Ethanol', 0.7017)],\n",
       "        l=[('Water', 0.5322), ('Ethanol', 0.2983)]),\n",
       "    thermal_condition=ThermalCondition(T=356.23, P=126845))"
      ]
     },
     "execution_count": 15,
     "metadata": {},
     "output_type": "execute_result"
    }
   ],
   "source": [
    "vle(y=np.array([0.4, 0.6]), T=360)\n",
    "vle"
   ]
  },
  {
   "cell_type": "markdown",
   "metadata": {},
   "source": [
    "Note that some compositions are infeasible; so it is not advised to pass x or y unless you know what you're doing:"
   ]
  },
  {
   "cell_type": "code",
   "execution_count": 16,
   "metadata": {},
   "outputs": [],
   "source": [
    "vle(x=np.array([0.2, 0.8]), P=101325)"
   ]
  },
  {
   "cell_type": "markdown",
   "metadata": {},
   "source": [
    "### Liquid-liquid equilibrium"
   ]
  },
  {
   "cell_type": "markdown",
   "metadata": {},
   "source": [
    "Liquid-liquid equilibrium can be calculated through a LLE object:"
   ]
  },
  {
   "cell_type": "code",
   "execution_count": 17,
   "metadata": {
    "tags": [
     "nbval-skip"
    ]
   },
   "outputs": [
    {
     "data": {
      "text/plain": [
       "LLE(imol=MolarFlowIndexer(\n",
       "        L=[('Water', 290.6), ('Octane', 0.02062), ('Butanol', 4.301)],\n",
       "        l=[('Water', 13.35), ('Octane', 99.98), ('Butanol', 25.7)]),\n",
       "    thermal_condition=ThermalCondition(T=360.00, P=101325))"
      ]
     },
     "execution_count": 17,
     "metadata": {},
     "output_type": "execute_result"
    }
   ],
   "source": [
    "tmo.settings.set_thermo(['Water', 'Octane', 'Butanol'])\n",
    "imol = tmo.indexer.MolarFlowIndexer(\n",
    "            l=[('Water', 304), ('Butanol', 30)],\n",
    "            L=[('Octane', 100)])\n",
    "lle = tmo.equilibrium.LLE(imol)\n",
    "lle(T=360)\n",
    "lle"
   ]
  },
  {
   "cell_type": "markdown",
   "metadata": {},
   "source": [
    "Pressure is not a significant factor in liquid-liquid equilibrium, so only temperature is needed."
   ]
  },
  {
   "cell_type": "markdown",
   "metadata": {},
   "source": [
    "### Vapor-liquid-liquid equilibrium"
   ]
  },
  {
   "cell_type": "markdown",
   "metadata": {},
   "source": [
    "For now, the only way to perform vapor-liquid-liquid equilibrium calculations is through Stream objects:"
   ]
  },
  {
   "cell_type": "code",
   "execution_count": 18,
   "metadata": {
    "tags": [
     "nbval-skip"
    ]
   },
   "outputs": [
    {
     "name": "stdout",
     "output_type": "stream",
     "text": [
      "MultiStream: s\n",
      " phases: ('L', 'g', 'l'), T: 362 K, P: 101325 Pa\n",
      " flow (kmol/hr): (L) Water    4.11\n",
      "                     Ethanol  1.73\n",
      "                     Octane   92.2\n",
      "                 (g) Water    27\n",
      "                     Ethanol  6.75\n",
      "                     Octane   7.8\n",
      "                 (l) Water    68.9\n",
      "                     Ethanol  1.52\n",
      "                     Octane   0.00334\n"
     ]
    }
   ],
   "source": [
    "tmo.settings.set_thermo(['Water', 'Ethanol', 'Octane'])\n",
    "s = tmo.Stream('s', Water=100, Ethanol=10, Octane=100)\n",
    "s.vlle(T=362, P=101325)\n",
    "s.show()"
   ]
  }
 ],
 "metadata": {
  "celltoolbar": "Tags",
  "kernelspec": {
   "display_name": "Python 3 (ipykernel)",
   "language": "python",
   "name": "python3"
  },
  "language_info": {
   "codemirror_mode": {
    "name": "ipython",
    "version": 3
   },
   "file_extension": ".py",
   "mimetype": "text/x-python",
   "name": "python",
   "nbconvert_exporter": "python",
   "pygments_lexer": "ipython3",
   "version": "3.8.5"
  }
 },
 "nbformat": 4,
 "nbformat_minor": 2
}
