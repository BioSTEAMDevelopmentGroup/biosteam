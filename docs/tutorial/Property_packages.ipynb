{
 "cells": [
  {
   "cell_type": "markdown",
   "metadata": {},
   "source": [
    "# Property packages"
   ]
  },
  {
   "cell_type": "markdown",
   "metadata": {},
   "source": [
    "A [Thermo](../API/Thermo.txt) object defines a thermodynamic property package. To build a `Thermo` object, we must first define all the chemicals involed. In the following example, we create a property package that [BioSTEAM](../index.txt) can use to model a sugarcane biorefinery producing ethanol from fermenting the juice and electricity from the burning the bagasse [[1-2]](#References)."
   ]
  },
  {
   "cell_type": "raw",
   "metadata": {
    "raw_mimetype": "text/restructuredtext"
   },
   "source": [
    ".. figure:: sugarcane_light.png\n",
    "   :class: only-light\n",
    "   :align: center\n",
    ".. figure:: sugarcane_dark.png\n",
    "   :class: only-dark\n",
    "   :align: center"
   ]
  },
  {
   "cell_type": "markdown",
   "metadata": {},
   "source": [
    "### Creating chemicals"
   ]
  },
  {
   "cell_type": "markdown",
   "metadata": {},
   "source": [
    "We can first start by defining the common chemicals already in the data base:"
   ]
  },
  {
   "cell_type": "code",
   "execution_count": 1,
   "metadata": {
    "tags": [
     "nbval-ignore-output"
    ]
   },
   "outputs": [],
   "source": [
    "import thermosteam as tmo\n",
    "\n",
    "chemicals = tmo.Chemicals(\n",
    "    ['Water', # Define common chemicals by name\n",
    "     'Ethanol',\n",
    "     'Octane',\n",
    "     tmo.Chemical('Glucose', phase='s'), # These will always remain as solids\n",
    "     tmo.Chemical('Sucrose', phase='s'), # Specify phase if chemicals not in vapor-liquid equilibrium\n",
    "     tmo.Chemical('H3PO4', phase='s'),\n",
    "     tmo.Chemical('P4O10',\n",
    "                  rho=1540, # Density [kg/m3]\n",
    "                  default=True,  # Default other chemicals properties like viscosity to that of water at 25 C\n",
    "                  phase='s'),\n",
    "     tmo.Chemical('CO2', phase='g'), # Assume they will always remain a gas\n",
    "     tmo.Chemical('O2', phase='g'),\n",
    "     tmo.Chemical('Cellulose',\n",
    "                  Cp=1.364, # Heat capacity [kJ/kg]\n",
    "                  rho=1540, # Density [kg/m3]\n",
    "                  default=True, # Default other chemicals properties like viscosity to that of water at 25 C\n",
    "                  search_db=False, # Not in database, so do not search the database\n",
    "                  phase='s', \n",
    "                  formula=\"C6H10O5\", # Glucose monomer minus water, molecular weight is computed based on formula\n",
    "                  Hf=-975708.8), # Heat of formation [J/mol]\n",
    "     tmo.Chemical('Hemicellulose',\n",
    "                  Cp=1.364,\n",
    "                  rho=1540,\n",
    "                  default=True,\n",
    "                  search_db=False,\n",
    "                  phase='s',\n",
    "                  formula=\"C5H8O5\", # Xylose monomer minus water\n",
    "                  Hf=-761906.4),\n",
    "     tmo.Chemical('Lignin',\n",
    "                  Cp=1.364,\n",
    "                  rho=1540,\n",
    "                  default=True,\n",
    "                  search_db=False,\n",
    "                  phase='s',\n",
    "                  formula='C8H8O3', # Vainillin formula\n",
    "                  Hf=-452909.632),\n",
    "     tmo.Chemical('Flocculant',\n",
    "                  Cp=4.184,\n",
    "                  rho=1540,\n",
    "                  default=True,\n",
    "                  search_db=False,\n",
    "                  phase='s',\n",
    "                  MW=1.), # No formula, so molecular weight should be defined\n",
    "     tmo.Chemical('Solids',\n",
    "                  Cp=1.100,\n",
    "                  rho=1540,\n",
    "                  default=True,\n",
    "                  search_db=False,\n",
    "                  phase='s',\n",
    "                  MW=1.),\n",
    "     tmo.Chemical('DryYeast',\n",
    "                  rho=1540,\n",
    "                  default=True,\n",
    "                  search_db=False,\n",
    "                  phase='s',\n",
    "                  MW=1.,\n",
    "                  aliases={'Yeast'}), # We can also give aliases to refer to them later\n",
    "     tmo.Chemical('CaO',\n",
    "                  Cp=1.02388,\n",
    "                  rho=1540,\n",
    "                  default=True,\n",
    "                  search_db=False,\n",
    "                  phase='s',\n",
    "                  formula='CaO'),\n",
    "     tmo.Chemical('Ash',\n",
    "                  rho=1540,\n",
    "                  Cp=0.37656,\n",
    "                  default=True,\n",
    "                  search_db=False,\n",
    "                  phase='s',\n",
    "                  MW=1.)]\n",
    ")\n",
    "\n",
    "# Compile once you are done adding chemicals so that the\n",
    "# order of chemicals becomes immutable \n",
    "chemicals.compile() "
   ]
  },
  {
   "cell_type": "markdown",
   "metadata": {},
   "source": [
    "### Mixture objects"
   ]
  },
  {
   "cell_type": "markdown",
   "metadata": {},
   "source": [
    "Before creating a `Thermo` property package, we must define the mixing rules to calculate mixture properties through a `Mixture` object:"
   ]
  },
  {
   "cell_type": "code",
   "execution_count": 2,
   "metadata": {},
   "outputs": [
    {
     "name": "stdout",
     "output_type": "stream",
     "text": [
      "Mixture(\n",
      "    rule='ideal', ...\n",
      "    include_excess_energies=False\n",
      ")\n"
     ]
    }
   ],
   "source": [
    "# Note that the mixture defaults to ideal mixing rules (weighted by mol)\n",
    "# and excess energies are ignored by default\n",
    "mixture = tmo.Mixture.from_chemicals(chemicals)\n",
    "mixture.show()"
   ]
  },
  {
   "cell_type": "markdown",
   "metadata": {},
   "source": [
    "You can use the mixture for estimating mixture properties:"
   ]
  },
  {
   "cell_type": "code",
   "execution_count": 3,
   "metadata": {},
   "outputs": [
    {
     "data": {
      "text/plain": [
       "695"
      ]
     },
     "execution_count": 3,
     "metadata": {},
     "output_type": "execute_result"
    }
   ],
   "source": [
    "array = chemicals.array\n",
    "mol = array(['Water', 'Ethanol'], [2, 2])\n",
    "H = mixture.H('l', mol, 300, 101325)\n",
    "round(H)"
   ]
  },
  {
   "cell_type": "code",
   "execution_count": 4,
   "metadata": {},
   "outputs": [
    {
     "data": {
      "text/plain": [
       "94.07593703457877"
      ]
     },
     "execution_count": 4,
     "metadata": {},
     "output_type": "execute_result"
    }
   ],
   "source": [
    "mol = array(['Water', 'Ethanol'], [2, 2])\n",
    "mixture.Cn('l', mol / mol.sum(), 300) # Normalize composition for result on a molar basis"
   ]
  },
  {
   "cell_type": "markdown",
   "metadata": {},
   "source": [
    "You can also estimate multi-phase mixture properties through methods that start with \"x\" (e.g. `xCn`):"
   ]
  },
  {
   "cell_type": "code",
   "execution_count": 5,
   "metadata": {},
   "outputs": [
    {
     "data": {
      "text/plain": [
       "575"
      ]
     },
     "execution_count": 5,
     "metadata": {},
     "output_type": "execute_result"
    }
   ],
   "source": [
    "mol_liquid = array(['Water', 'Ethanol'], [2, 2])\n",
    "mol_vapor = array(['Water', 'Ethanol'], [2, 2])\n",
    "phase_data = [('l', mol_liquid), ('g', mol_vapor)]\n",
    "Cn = mixture.xCn(phase_data, T=300) # Returns total capacity [J/K] because composition was not normalized\n",
    "round(Cn)"
   ]
  },
  {
   "cell_type": "markdown",
   "metadata": {},
   "source": [
    "Note: To implement a your own Mixture object, you can request help through https://github.com/BioSTEAMDevelopmentGroup/thermosteam."
   ]
  },
  {
   "cell_type": "markdown",
   "metadata": {},
   "source": [
    "### Thermo objects"
   ]
  },
  {
   "cell_type": "markdown",
   "metadata": {},
   "source": [
    "Once the chemicals and mixture objects are finalized, we can compile them into a Thermo object and set the default property package:"
   ]
  },
  {
   "cell_type": "code",
   "execution_count": 6,
   "metadata": {},
   "outputs": [
    {
     "name": "stdout",
     "output_type": "stream",
     "text": [
      "Thermo(\n",
      "    chemicals=CompiledChemicals([Water, Ethanol, Octane, Glucose, Sucrose, H3PO4, P4O10, CO2, O2, Cellulose, Hemicellulose, Lignin, Flocculant, Solids, DryYeast, CaO, Ash]),\n",
      "    mixture=Mixture(\n",
      "        rule='ideal', ...\n",
      "        include_excess_energies=False\n",
      "    ),\n",
      "    Gamma=DortmundActivityCoefficients,\n",
      "    Phi=IdealFugacityCoefficients,\n",
      "    PCF=IdealPoyintingCorrectionFactors\n",
      ")\n"
     ]
    }
   ],
   "source": [
    "thermo = tmo.Thermo(chemicals, mixture)\n",
    "tmo.settings.set_thermo(thermo) # Set the default property package\n",
    "thermo.show()"
   ]
  },
  {
   "cell_type": "markdown",
   "metadata": {},
   "source": [
    "Note that a Thermo object contains `ActivityCoefficients`, `FugacityCoefficients`, and `PoyintingCorrectionFactors` subclasses to define fugacity estimation methods. By default, the Dortmund modified UNIFAC method for estimating activities is selected, while ideal values for (vapor phase) fugacity coefficients and poyinting correction factors are selected. If you plan on using all defaults, you can just use the chemicals to set the property package (and skip the creation of Thermo and Mixture objects):"
   ]
  },
  {
   "cell_type": "code",
   "execution_count": 7,
   "metadata": {},
   "outputs": [
    {
     "name": "stdout",
     "output_type": "stream",
     "text": [
      "Thermo(\n",
      "    chemicals=CompiledChemicals([Water, Ethanol, Octane, Glucose, Sucrose, H3PO4, P4O10, CO2, O2, Cellulose, Hemicellulose, Lignin, Flocculant, Solids, DryYeast, CaO, Ash]),\n",
      "    mixture=Mixture(\n",
      "        rule='ideal', ...\n",
      "        include_excess_energies=False\n",
      "    ),\n",
      "    Gamma=DortmundActivityCoefficients,\n",
      "    Phi=IdealFugacityCoefficients,\n",
      "    PCF=IdealPoyintingCorrectionFactors\n",
      ")\n"
     ]
    }
   ],
   "source": [
    "tmo.settings.set_thermo(chemicals)\n",
    "tmo.settings.get_thermo()"
   ]
  },
  {
   "cell_type": "markdown",
   "metadata": {},
   "source": [
    "### References"
   ]
  },
  {
   "cell_type": "markdown",
   "metadata": {},
   "source": [
    "<a id='References'></a>\n",
    "\n",
    "1. Huang, H., Long, S., & Singh, V. (2016) “Techno-economic analysis of biodiesel and ethanol co-production from lipid-producing sugarcane” Biofuels, Bioproducts and Biorefining, 10(3), 299–315. https://doi.org/10.1002/bbb.1640\n",
    "\n",
    "2. Cortes-Peña, Y.; Kumar, D.; Singh, V.; Guest, J. S. BioSTEAM: A Fast and Flexible Platform for the Design, Simulation, and Techno-Economic Analysis of Biorefineries under Uncertainty. ACS Sustainable Chem. Eng. 2020. https://doi.org/10.1021/acssuschemeng.9b07040.\n",
    "\n",
    "3. Hatakeyama, T., Nakamura, K., & Hatakeyama, H. (1982). Studies on heat capacity of cellulose and lignin by differential scanning calorimetry. Polymer, 23(12), 1801–1804. https://doi.org/10.1016/0032-3861(82)90125-2\n",
    "\n",
    "4. Thybring, E. E. (2014). Explaining the heat capacity of wood constituents by molecular vibrations. Journal of Materials Science, 49(3), 1317–1327. https://doi.org/10.1007/s10853-013-7815-6\n"
   ]
  }
 ],
 "metadata": {
  "celltoolbar": "Raw Cell Format",
  "kernelspec": {
   "display_name": "Python 3 (ipykernel)",
   "language": "python",
   "name": "python3"
  },
  "language_info": {
   "codemirror_mode": {
    "name": "ipython",
    "version": 3
   },
   "file_extension": ".py",
   "mimetype": "text/x-python",
   "name": "python",
   "nbconvert_exporter": "python",
   "pygments_lexer": "ipython3",
   "version": "3.8.5"
  }
 },
 "nbformat": 4,
 "nbformat_minor": 2
}
