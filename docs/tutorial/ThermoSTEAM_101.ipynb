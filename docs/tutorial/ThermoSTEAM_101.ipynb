{
 "cells": [
  {
   "cell_type": "markdown",
   "metadata": {},
   "source": [
    "\n",
    "# ThermoSTEAM 101"
   ]
  },
  {
   "cell_type": "markdown",
   "metadata": {},
   "source": [
    "## Pure component chemical models"
   ]
  },
  {
   "cell_type": "markdown",
   "metadata": {},
   "source": [
    "Thermosteam packages chemical and mixture thermodynamic models in a flexible framework that allows users to fully customize and extend the models, as well as create new models. Central to all thermodynamic algorithms is the [Chemical](../API/thermosteam/Chemical.txt) object, which contain the same thermodynamic models and data as [thermo](https://thermo.readthedocs.io)'s Chemical objects, but present an API more suitable for [BioSTEAM](../index.txt)'s needs."
   ]
  },
  {
   "cell_type": "code",
   "execution_count": 1,
   "metadata": {
    "tags": [
     "nbval-ignore-output"
    ]
   },
   "outputs": [
    {
     "name": "stdout",
     "output_type": "stream",
     "text": [
      "Chemical: Water (phase_ref='l')\n",
      "[Names]  CAS: 7732-18-5\n",
      "         InChI: H2O/h1H2\n",
      "         InChI_key: XLYOFNOQVPJJNP-U...\n",
      "         common_name: water\n",
      "         iupac_name: ('oxidane',)\n",
      "         pubchemid: 962\n",
      "         smiles: O\n",
      "         formula: H2O\n",
      "[Groups] Dortmund: <1H2O>\n",
      "         UNIFAC: <1H2O>\n",
      "         PSRK: <1H2O>\n",
      "         NIST: <Empty>\n",
      "[Data]   MW: 18.015 g/mol\n",
      "         Tm: 273.15 K\n",
      "         Tb: 373.12 K\n",
      "         Tt: 273.16 K\n",
      "         Tc: 647.1 K\n",
      "         Pt: 611.65 Pa\n",
      "         Pc: 2.2064e+07 Pa\n",
      "         Vc: 5.5948e-05 m^3/mol\n",
      "         Hf: -2.8582e+05 J/mol\n",
      "         S0: 70 J/K/mol\n",
      "         LHV: -44011 J/mol\n",
      "         HHV: -0 J/mol\n",
      "         Hfus: 6010 J/mol\n",
      "         Sfus: None\n",
      "         omega: 0.3443\n",
      "         dipole: 1.85 Debye\n",
      "         similarity_variable: 0.16653\n",
      "         iscyclic_aliphatic: 0\n",
      "         combustion: {'H2O': 1.0}\n"
     ]
    }
   ],
   "source": [
    "import thermosteam as tmo\n",
    "# Initialize chemical with an identifier (e.g. by name, CAS, InChI...)\n",
    "Water = tmo.Chemical('Water') \n",
    "Water.show()"
   ]
  },
  {
   "cell_type": "markdown",
   "metadata": {},
   "source": [
    " Access pure component data:"
   ]
  },
  {
   "cell_type": "code",
   "execution_count": 2,
   "metadata": {},
   "outputs": [
    {
     "data": {
      "text/plain": [
       "'7732-18-5'"
      ]
     },
     "execution_count": 2,
     "metadata": {},
     "output_type": "execute_result"
    }
   ],
   "source": [
    "# CAS number\n",
    "Water.CAS"
   ]
  },
  {
   "cell_type": "code",
   "execution_count": 3,
   "metadata": {},
   "outputs": [
    {
     "data": {
      "text/plain": [
       "18.01528"
      ]
     },
     "execution_count": 3,
     "metadata": {},
     "output_type": "execute_result"
    }
   ],
   "source": [
    "# Molecular weight (g/mol)\n",
    "Water.MW"
   ]
  },
  {
   "cell_type": "code",
   "execution_count": 4,
   "metadata": {
    "tags": [
     "nbval-skip"
    ]
   },
   "outputs": [
    {
     "data": {
      "text/plain": [
       "373.124295848"
      ]
     },
     "execution_count": 4,
     "metadata": {},
     "output_type": "execute_result"
    }
   ],
   "source": [
    "# Boiling point (K)\n",
    "Water.Tb"
   ]
  },
  {
   "cell_type": "markdown",
   "metadata": {},
   "source": [
    "Temperature (in Kelvin) and pressure (in Pascal) dependent properties can be computed:"
   ]
  },
  {
   "cell_type": "code",
   "execution_count": 5,
   "metadata": {
    "tags": [
     "nbval-skip"
    ]
   },
   "outputs": [
    {
     "data": {
      "text/plain": [
       "101417.99665995422"
      ]
     },
     "execution_count": 5,
     "metadata": {},
     "output_type": "execute_result"
    }
   ],
   "source": [
    "# Vapor pressure (Pa)\n",
    "Water.Psat(T=373.15)"
   ]
  },
  {
   "cell_type": "code",
   "execution_count": 6,
   "metadata": {
    "tags": [
     "nbval-skip"
    ]
   },
   "outputs": [
    {
     "data": {
      "text/plain": [
       "0.07197220523022962"
      ]
     },
     "execution_count": 6,
     "metadata": {},
     "output_type": "execute_result"
    }
   ],
   "source": [
    "# Surface tension (N/m)\n",
    "Water.sigma(T=298.15)"
   ]
  },
  {
   "cell_type": "code",
   "execution_count": 7,
   "metadata": {
    "tags": [
     "nbval-skip"
    ]
   },
   "outputs": [
    {
     "data": {
      "text/plain": [
       "1.8068319928499427e-05"
      ]
     },
     "execution_count": 7,
     "metadata": {},
     "output_type": "execute_result"
    }
   ],
   "source": [
    "# Liquid molar volume (m^3/mol)\n",
    "Water.V(phase='l', T=298.15, P=101325)"
   ]
  },
  {
   "cell_type": "code",
   "execution_count": 8,
   "metadata": {
    "tags": [
     "nbval-skip"
    ]
   },
   "outputs": [
    {
     "data": {
      "text/plain": [
       "0.02350635143332423"
      ]
     },
     "execution_count": 8,
     "metadata": {},
     "output_type": "execute_result"
    }
   ],
   "source": [
    "# Vapor molar volume (m^3/mol)\n",
    "Water.V(phase='g', T=298.15, P=101325)"
   ]
  },
  {
   "cell_type": "code",
   "execution_count": 9,
   "metadata": {
    "tags": [
     "nbval-skip"
    ]
   },
   "outputs": [
    {
     "data": {
      "text/plain": [
       "997.0644792261086"
      ]
     },
     "execution_count": 9,
     "metadata": {},
     "output_type": "execute_result"
    }
   ],
   "source": [
    "# With user-specified units of measure:\n",
    "Water.get_property('rho', 'kg/m3', phase='l', T=298.15, P=101325)"
   ]
  },
  {
   "cell_type": "markdown",
   "metadata": {},
   "source": [
    "Temperature dependent properties are managed by objects:"
   ]
  },
  {
   "cell_type": "code",
   "execution_count": 10,
   "metadata": {
    "tags": [
     "nbval-ignore-output"
    ]
   },
   "outputs": [
    {
     "data": {
      "text/plain": [
       "VaporPressure(CASRN=\"7732-18-5\", Tb=373.124295848, Tc=647.096, Pc=22064000.0, omega=0.3443, extrapolation=\"AntoineAB|DIPPR101_ABC\", method=\"IAPWS\")"
      ]
     },
     "execution_count": 10,
     "metadata": {},
     "output_type": "execute_result"
    }
   ],
   "source": [
    "Water.Psat"
   ]
  },
  {
   "cell_type": "markdown",
   "metadata": {},
   "source": [
    "Phase dependent properties have attributes with model handles for each phase:"
   ]
  },
  {
   "cell_type": "code",
   "execution_count": 11,
   "metadata": {},
   "outputs": [
    {
     "name": "stdout",
     "output_type": "stream",
     "text": [
      "PhaseTPHandle(phase, T, P=None) -> V [m^3/mol]\n"
     ]
    }
   ],
   "source": [
    "Water.V"
   ]
  },
  {
   "cell_type": "code",
   "execution_count": 12,
   "metadata": {
    "tags": [
     "nbval-ignore-output"
    ]
   },
   "outputs": [
    {
     "data": {
      "text/plain": [
       "VolumeLiquid(CASRN=\"7732-18-5\", MW=18.01528, Tb=373.124295848, Tc=647.096, Pc=22064000.0, Vc=5.59480372671e-05, Zc=0.22943845208106295, omega=0.3443, dipole=1.85, Psat=VaporPressure(CASRN=\"7732-18-5\", Tb=373.124295848, Tc=647.096, Pc=22064000.0, omega=0.3443, extrapolation=\"AntoineAB|DIPPR101_ABC\", method=\"IAPWS\"), eos=[PR(Tc=647.096, Pc=22064000.0, omega=0.3443, T=298.15, P=101325.0)], extrapolation=\"constant\", method=\"HEOS_FIT\", method_P=\"COSTALD_COMPRESSED\", tabular_extrapolation_permitted=True)"
      ]
     },
     "execution_count": 12,
     "metadata": {},
     "output_type": "execute_result"
    }
   ],
   "source": [
    "Water.V.l"
   ]
  },
  {
   "cell_type": "markdown",
   "metadata": {},
   "source": [
    "A new model can be added easily using `add_method`, for example:"
   ]
  },
  {
   "cell_type": "code",
   "execution_count": 13,
   "metadata": {},
   "outputs": [
    {
     "data": {
      "text/plain": [
       "'USER_METHOD'"
      ]
     },
     "execution_count": 13,
     "metadata": {},
     "output_type": "execute_result"
    }
   ],
   "source": [
    "def User_antoine_model(T):\n",
    "     return 10.0**(10.116 -  1687.537 / (T - 42.98))\n",
    "Water.Psat.add_method(f=User_antoine_model, Tmin=273.20, Tmax=473.20)\n",
    "Water.Psat.method"
   ]
  },
  {
   "cell_type": "markdown",
   "metadata": {},
   "source": [
    "The `add_method` method is a high level interface that even lets you create a constant model:"
   ]
  },
  {
   "cell_type": "code",
   "execution_count": 14,
   "metadata": {},
   "outputs": [
    {
     "data": {
      "text/plain": [
       "75.31"
      ]
     },
     "execution_count": 14,
     "metadata": {},
     "output_type": "execute_result"
    }
   ],
   "source": [
    "Water.Cn.l.add_method(75.31) \n",
    "Water.Cn('l', 350)"
   ]
  },
  {
   "cell_type": "markdown",
   "metadata": {},
   "source": [
    "Choose what model to use through the `method` attribute:"
   ]
  },
  {
   "cell_type": "code",
   "execution_count": 15,
   "metadata": {
    "tags": [
     "nbval-ignore-output"
    ]
   },
   "outputs": [
    {
     "data": {
      "text/plain": [
       "{'COOLPROP',\n",
       " 'CRCSTD',\n",
       " 'DADGOSTAR_SHAW',\n",
       " 'HEOS_FIT',\n",
       " 'JANAF',\n",
       " 'POLING_CONST',\n",
       " 'ROWLINSON_BONDI',\n",
       " 'ROWLINSON_POLING',\n",
       " 'USER_METHOD',\n",
       " 'WEBBOOK_SHOMATE',\n",
       " 'ZABRANSKY_SPLINE_C'}"
      ]
     },
     "execution_count": 15,
     "metadata": {},
     "output_type": "execute_result"
    }
   ],
   "source": [
    "Water.Cn.l.all_methods"
   ]
  },
  {
   "cell_type": "code",
   "execution_count": 16,
   "metadata": {},
   "outputs": [
    {
     "data": {
      "text/plain": [
       "75.6223925836403"
      ]
     },
     "execution_count": 16,
     "metadata": {},
     "output_type": "execute_result"
    }
   ],
   "source": [
    "Water.Cn.l.method = 'ZABRANSKY_SPLINE_C'\n",
    "Water.Cn('l', 350)"
   ]
  },
  {
   "cell_type": "markdown",
   "metadata": {},
   "source": [
    "## Managing chemical sets"
   ]
  },
  {
   "cell_type": "markdown",
   "metadata": {},
   "source": [
    "Define multiple chemicals as a [Chemicals](../API/thermosteam/Chemicals.txt) object:"
   ]
  },
  {
   "cell_type": "code",
   "execution_count": 17,
   "metadata": {},
   "outputs": [
    {
     "name": "stdout",
     "output_type": "stream",
     "text": [
      "Chemicals([Water, Ethanol])\n"
     ]
    }
   ],
   "source": [
    "chemicals = tmo.Chemicals(['Water', 'Ethanol'])\n",
    "chemicals"
   ]
  },
  {
   "cell_type": "markdown",
   "metadata": {},
   "source": [
    "The chemicals are attributes:"
   ]
  },
  {
   "cell_type": "code",
   "execution_count": 18,
   "metadata": {},
   "outputs": [
    {
     "data": {
      "text/plain": [
       "(Chemical('Water'), Chemical('Ethanol'))"
      ]
     },
     "execution_count": 18,
     "metadata": {},
     "output_type": "execute_result"
    }
   ],
   "source": [
    "(chemicals.Water, chemicals.Ethanol)"
   ]
  },
  {
   "cell_type": "markdown",
   "metadata": {},
   "source": [
    "Chemicals are indexable:"
   ]
  },
  {
   "cell_type": "code",
   "execution_count": 19,
   "metadata": {},
   "outputs": [
    {
     "name": "stdout",
     "output_type": "stream",
     "text": [
      "Chemical('Water')\n"
     ]
    }
   ],
   "source": [
    "Water = chemicals['Water']\n",
    "print(repr(Water))"
   ]
  },
  {
   "cell_type": "code",
   "execution_count": 20,
   "metadata": {},
   "outputs": [
    {
     "data": {
      "text/plain": [
       "[Chemical('Ethanol'), Chemical('Water')]"
      ]
     },
     "execution_count": 20,
     "metadata": {},
     "output_type": "execute_result"
    }
   ],
   "source": [
    "chemicals['Ethanol', 'Water']"
   ]
  },
  {
   "cell_type": "markdown",
   "metadata": {},
   "source": [
    "Chemicals are also iterable:"
   ]
  },
  {
   "cell_type": "code",
   "execution_count": 21,
   "metadata": {},
   "outputs": [
    {
     "name": "stdout",
     "output_type": "stream",
     "text": [
      "Chemical('Water')\n",
      "Chemical('Ethanol')\n"
     ]
    }
   ],
   "source": [
    "for chemical in chemicals:\n",
    "    print(repr(chemical))"
   ]
  },
  {
   "cell_type": "markdown",
   "metadata": {},
   "source": [
    "More chemicals can also be appended:"
   ]
  },
  {
   "cell_type": "code",
   "execution_count": 22,
   "metadata": {},
   "outputs": [
    {
     "name": "stdout",
     "output_type": "stream",
     "text": [
      "Chemicals([Water, Ethanol, Propanol])\n"
     ]
    }
   ],
   "source": [
    "Propanol = tmo.Chemical('Propanol')\n",
    "chemicals.append(Propanol)\n",
    "chemicals"
   ]
  },
  {
   "cell_type": "markdown",
   "metadata": {},
   "source": [
    "The main benefit of using a Chemicals object, is that they can be compiled and used as part of a thermodynamic property package, as defined through a [Thermo](../API/thermosteam/Thermo.txt) object:"
   ]
  },
  {
   "cell_type": "code",
   "execution_count": 23,
   "metadata": {},
   "outputs": [
    {
     "name": "stdout",
     "output_type": "stream",
     "text": [
      "Thermo(\n",
      "    chemicals=CompiledChemicals([Water, Ethanol, Propanol]),\n",
      "    mixture=IdealMixture(...\n",
      "        include_excess_energies=False\n",
      "    ),\n",
      "    Gamma=DortmundActivityCoefficients,\n",
      "    Phi=IdealFugacityCoefficients,\n",
      "    PCF=MockPoyintingCorrectionFactors\n",
      ")\n"
     ]
    }
   ],
   "source": [
    "# A Thermo object is built with an iterable of Chemicals or their IDs.\n",
    "# Default mixture, thermodynamic equilibrium models are selected.\n",
    "thermo = tmo.Thermo(chemicals)\n",
    "thermo.show()"
   ]
  },
  {
   "cell_type": "markdown",
   "metadata": {},
   "source": [
    "[Creating a thermo property package](./Property_packages.ipynb), may be a little challenging if some chemicals cannot be found in the database, in which case they can be built from scratch. A complete example on how this can be done is available in another [tutorial](./Property_packages.ipynb)."
   ]
  },
  {
   "cell_type": "markdown",
   "metadata": {},
   "source": [
    "## Material and energy balances"
   ]
  },
  {
   "cell_type": "markdown",
   "metadata": {},
   "source": [
    "A [Stream](../API/thermosteam/Stream.txt) object is the main interface for estimating thermodynamic properties, vapor-liquid equilibrium, and material and energy balances. First set the thermo property package and we can start creating streams:"
   ]
  },
  {
   "cell_type": "code",
   "execution_count": 24,
   "metadata": {},
   "outputs": [
    {
     "name": "stdout",
     "output_type": "stream",
     "text": [
      "Stream: s1\n",
      "phase: 'l', T: 298.15 K, P: 101325 Pa\n",
      "flow (kg/hr): Water    20\n",
      "              Ethanol  20\n"
     ]
    }
   ],
   "source": [
    "# This also works: tmo.settings.set_thermo(['Water', 'Ethanol', 'Propanol'])\n",
    "tmo.settings.set_thermo(thermo)\n",
    "s1 = tmo.Stream('s1', Water=20, Ethanol=20, units='kg/hr')\n",
    "s1.show(flow='kg/hr')"
   ]
  },
  {
   "cell_type": "markdown",
   "metadata": {},
   "source": [
    "Create another stream at a higher temperature:"
   ]
  },
  {
   "cell_type": "code",
   "execution_count": 25,
   "metadata": {},
   "outputs": [
    {
     "name": "stdout",
     "output_type": "stream",
     "text": [
      "Stream: s2\n",
      "phase: 'l', T: 350 K, P: 101325 Pa\n",
      "flow (kg/hr): Water  10\n"
     ]
    }
   ],
   "source": [
    "s2 = tmo.Stream('s2', Water=10, units='kg/hr', T=350, P=101325)\n",
    "s2.show(flow='kg/hr')"
   ]
  },
  {
   "cell_type": "markdown",
   "metadata": {},
   "source": [
    "Mix both streams into a new one:"
   ]
  },
  {
   "cell_type": "code",
   "execution_count": 26,
   "metadata": {},
   "outputs": [
    {
     "name": "stdout",
     "output_type": "stream",
     "text": [
      "Stream: s_mix\n",
      "phase: 'l', T: 310.54 K, P: 101325 Pa\n",
      "flow (kg/hr): Water    30\n",
      "              Ethanol  20\n"
     ]
    }
   ],
   "source": [
    "s_mix = tmo.Stream('s_mix')\n",
    "s_mix.mix_from([s1, s2])\n",
    "s_mix.show(flow='kg/hr')"
   ]
  },
  {
   "cell_type": "markdown",
   "metadata": {},
   "source": [
    "Check the energy balance through enthalpy:"
   ]
  },
  {
   "cell_type": "code",
   "execution_count": 27,
   "metadata": {
    "tags": [
     "nbval-skip"
    ]
   },
   "outputs": [
    {
     "data": {
      "text/plain": [
       "-5.884430720470846e-10"
      ]
     },
     "execution_count": 27,
     "metadata": {},
     "output_type": "execute_result"
    }
   ],
   "source": [
    "s_mix.H - (s1.H + s2.H)"
   ]
  },
  {
   "cell_type": "markdown",
   "metadata": {},
   "source": [
    "Note that the balance is not perfect as the solver stops within a small temperature tolerance. However, the approximation is less than 0.01% off:"
   ]
  },
  {
   "cell_type": "code",
   "execution_count": 28,
   "metadata": {},
   "outputs": [
    {
     "name": "stdout",
     "output_type": "stream",
     "text": [
      "-0.00%\n"
     ]
    }
   ],
   "source": [
    "error = s_mix.H - (s1.H + s2.H)\n",
    "percent_error = 100 * error / (s1.H + s2.H)\n",
    "print(f\"{percent_error:.2%}\")"
   ]
  },
  {
   "cell_type": "markdown",
   "metadata": {},
   "source": [
    "Split the mixture to two streams by defining the component splits:"
   ]
  },
  {
   "cell_type": "code",
   "execution_count": 29,
   "metadata": {},
   "outputs": [
    {
     "name": "stdout",
     "output_type": "stream",
     "text": [
      "Stream: s1\n",
      "phase: 'l', T: 310.54 K, P: 101325 Pa\n",
      "flow (kg/hr): Ethanol  20\n",
      "Stream: s2\n",
      "phase: 'l', T: 310.54 K, P: 101325 Pa\n",
      "flow (kg/hr): Water  30\n"
     ]
    }
   ],
   "source": [
    "# First define an array of component splits\n",
    "component_splits = s_mix.chemicals.array(['Water', 'Ethanol'], [0, 1])\n",
    "s_mix.split_to(s1, s2, component_splits)\n",
    "s1.T = s2.T = s_mix.T # Take care of energy balance\n",
    "s1.show(flow='kg/hr')\n",
    "s2.show(flow='kg/hr')"
   ]
  },
  {
   "cell_type": "markdown",
   "metadata": {},
   "source": [
    "Separate out stream from mixture:"
   ]
  },
  {
   "cell_type": "code",
   "execution_count": 30,
   "metadata": {},
   "outputs": [
    {
     "name": "stdout",
     "output_type": "stream",
     "text": [
      "Stream: s_mix\n",
      "phase: 'l', T: 310.54 K, P: 101325 Pa\n",
      "flow (kg/hr): Ethanol  20\n"
     ]
    }
   ],
   "source": [
    "s_mix.separate_out(s2)\n",
    "s_mix.show(flow='kg/hr') # Only enthanol will remain"
   ]
  },
  {
   "cell_type": "markdown",
   "metadata": {},
   "source": [
    "Note that the energy balance still holds:"
   ]
  },
  {
   "cell_type": "code",
   "execution_count": 31,
   "metadata": {},
   "outputs": [
    {
     "name": "stdout",
     "output_type": "stream",
     "text": [
      "0.00%\n"
     ]
    }
   ],
   "source": [
    "error = s_mix.H - s1.H\n",
    "percent_error = 100 * error / s2.H\n",
    "print(f\"{percent_error:.2%}\")"
   ]
  },
  {
   "cell_type": "markdown",
   "metadata": {},
   "source": [
    "## Flow rates"
   ]
  },
  {
   "cell_type": "markdown",
   "metadata": {},
   "source": [
    "The most convenient way to get and set flow rates is through the `get_flow` and `set_flow` methods:"
   ]
  },
  {
   "cell_type": "code",
   "execution_count": 32,
   "metadata": {
    "tags": [
     "nbval-skip"
    ]
   },
   "outputs": [
    {
     "data": {
      "text/plain": [
       "1.0"
      ]
     },
     "execution_count": 32,
     "metadata": {},
     "output_type": "execute_result"
    }
   ],
   "source": [
    "# Set and get flow of a single chemical\n",
    "# in gallons per minute\n",
    "s1.set_flow(1, 'gpm', 'Water')\n",
    "s1.get_flow('gpm', 'Water')"
   ]
  },
  {
   "cell_type": "code",
   "execution_count": 33,
   "metadata": {},
   "outputs": [
    {
     "data": {
      "text/plain": [
       "array([10., 20.])"
      ]
     },
     "execution_count": 33,
     "metadata": {},
     "output_type": "execute_result"
    }
   ],
   "source": [
    "# Set and get flows of many chemicals\n",
    "# in kilograms per hour\n",
    "s1.set_flow([10, 20], 'kg/hr', ('Ethanol', 'Water'))\n",
    "s1.get_flow('kg/hr', ('Ethanol', 'Water'))"
   ]
  },
  {
   "cell_type": "markdown",
   "metadata": {},
   "source": [
    "It is also possible to index flow rate data using chemical IDs through the `imol`, `imass`, and `ivol` [indexers](../API/thermosteam/indexer/index.txt):"
   ]
  },
  {
   "cell_type": "code",
   "execution_count": 34,
   "metadata": {},
   "outputs": [
    {
     "name": "stdout",
     "output_type": "stream",
     "text": [
      "ChemicalMolarFlowIndexer (kmol/hr):\n",
      "(l) Water    1.11\n",
      "    Ethanol  0.217\n"
     ]
    }
   ],
   "source": [
    "s1.imol.show()"
   ]
  },
  {
   "cell_type": "code",
   "execution_count": 35,
   "metadata": {},
   "outputs": [
    {
     "data": {
      "text/plain": [
       "1.1101687012358397"
      ]
     },
     "execution_count": 35,
     "metadata": {},
     "output_type": "execute_result"
    }
   ],
   "source": [
    "s1.imol['Water']"
   ]
  },
  {
   "cell_type": "code",
   "execution_count": 36,
   "metadata": {},
   "outputs": [
    {
     "data": {
      "text/plain": [
       "array([0.217, 1.11 ])"
      ]
     },
     "execution_count": 36,
     "metadata": {},
     "output_type": "execute_result"
    }
   ],
   "source": [
    "s1.imol['Ethanol', 'Water']"
   ]
  },
  {
   "cell_type": "markdown",
   "metadata": {},
   "source": [
    "All flow rates are stored as a sparse array in the `mol` attribute. These arrays work just like numpy arrays, but are more scalable (saving memory and increasing speed) for sparse chemical data:"
   ]
  },
  {
   "cell_type": "code",
   "execution_count": 37,
   "metadata": {},
   "outputs": [
    {
     "data": {
      "text/plain": [
       "sparse([1.11 , 0.217, 0.   ])"
      ]
     },
     "execution_count": 37,
     "metadata": {},
     "output_type": "execute_result"
    }
   ],
   "source": [
    "s1.mol # Molar flow rates [kmol/hr]"
   ]
  },
  {
   "cell_type": "markdown",
   "metadata": {},
   "source": [
    "Mass and volumetric flow rates are also available for convenience:"
   ]
  },
  {
   "cell_type": "code",
   "execution_count": 38,
   "metadata": {
    "tags": [
     "nbval-skip"
    ]
   },
   "outputs": [
    {
     "data": {
      "text/plain": [
       "sparse([20., 10.,  0.])"
      ]
     },
     "execution_count": 38,
     "metadata": {},
     "output_type": "execute_result"
    }
   ],
   "source": [
    "s1.mass"
   ]
  },
  {
   "cell_type": "code",
   "execution_count": 39,
   "metadata": {
    "tags": [
     "nbval-skip"
    ]
   },
   "outputs": [
    {
     "data": {
      "text/plain": [
       "sparse([0.02 , 0.013, 0.   ])"
      ]
     },
     "execution_count": 39,
     "metadata": {},
     "output_type": "execute_result"
    }
   ],
   "source": [
    "s1.vol"
   ]
  },
  {
   "cell_type": "markdown",
   "metadata": {},
   "source": [
    "The data of these arrays are linked to the molar flows:"
   ]
  },
  {
   "cell_type": "code",
   "execution_count": 40,
   "metadata": {},
   "outputs": [
    {
     "data": {
      "text/plain": [
       "18.01528"
      ]
     },
     "execution_count": 40,
     "metadata": {},
     "output_type": "execute_result"
    }
   ],
   "source": [
    "# Mass flows are always up to date with molar flows\n",
    "s1.mol[0] = 1\n",
    "s1.mass[0]"
   ]
  },
  {
   "cell_type": "code",
   "execution_count": 41,
   "metadata": {},
   "outputs": [
    {
     "data": {
      "text/plain": [
       "2.0"
      ]
     },
     "execution_count": 41,
     "metadata": {},
     "output_type": "execute_result"
    }
   ],
   "source": [
    "# Changing mass flows changes molar flows\n",
    "s1.mass[0] *= 2\n",
    "s1.mol[0]"
   ]
  },
  {
   "cell_type": "code",
   "execution_count": 42,
   "metadata": {},
   "outputs": [
    {
     "data": {
      "text/plain": [
       "sparse([38.031, 12.   ,  2.   ])"
      ]
     },
     "execution_count": 42,
     "metadata": {},
     "output_type": "execute_result"
    }
   ],
   "source": [
    "# New arrays are not linked to molar flows\n",
    "s1.mass + 2 # A new array is created"
   ]
  },
  {
   "cell_type": "code",
   "execution_count": 43,
   "metadata": {},
   "outputs": [
    {
     "data": {
      "text/plain": [
       "15.34352"
      ]
     },
     "execution_count": 43,
     "metadata": {},
     "output_type": "execute_result"
    }
   ],
   "source": [
    "# Array methods are also the same\n",
    "s1.mass.mean()"
   ]
  },
  {
   "cell_type": "markdown",
   "metadata": {},
   "source": [
    "## Thermal condition"
   ]
  },
  {
   "cell_type": "markdown",
   "metadata": {},
   "source": [
    "Temperature and pressure can be get and set through the `T` and `P` attributes:"
   ]
  },
  {
   "cell_type": "code",
   "execution_count": 44,
   "metadata": {},
   "outputs": [
    {
     "name": "stdout",
     "output_type": "stream",
     "text": [
      "Stream: s1\n",
      "phase: 'l', T: 400 K, P: 202650 Pa\n",
      "flow (kmol/hr): Water    2\n",
      "                Ethanol  0.217\n"
     ]
    }
   ],
   "source": [
    "s1.T = 400.\n",
    "s1.P = 2 * 101325.\n",
    "s1.show()"
   ]
  },
  {
   "cell_type": "markdown",
   "metadata": {},
   "source": [
    "The phase may also be changed ('s' for solid, 'l' for liquid, and 'g' for gas):"
   ]
  },
  {
   "cell_type": "code",
   "execution_count": 45,
   "metadata": {},
   "outputs": [],
   "source": [
    "s1.phase = 'g'"
   ]
  },
  {
   "cell_type": "markdown",
   "metadata": {},
   "source": [
    "Notice that VLE is not enforced, but it is possible to perform. For now, just check that the dew point is lower than the actual temperature to assert it must be gas:"
   ]
  },
  {
   "cell_type": "code",
   "execution_count": 46,
   "metadata": {},
   "outputs": [
    {
     "data": {
      "text/plain": [
       "DewPointValues(T=390.81, P=202650, IDs=('Water', 'Ethanol'), z=[0.902 0.098], x=[0.991 0.009])"
      ]
     },
     "execution_count": 46,
     "metadata": {},
     "output_type": "execute_result"
    }
   ],
   "source": [
    "dp = s1.dew_point_at_P() # Dew point at constant pressure\n",
    "dp"
   ]
  },
  {
   "cell_type": "code",
   "execution_count": 47,
   "metadata": {},
   "outputs": [
    {
     "data": {
      "text/plain": [
       "True"
      ]
     },
     "execution_count": 47,
     "metadata": {},
     "output_type": "execute_result"
    }
   ],
   "source": [
    "dp.T < s1.T"
   ]
  },
  {
   "cell_type": "markdown",
   "metadata": {},
   "source": [
    "It is also possible to get and set in other units of measure:"
   ]
  },
  {
   "cell_type": "code",
   "execution_count": 48,
   "metadata": {},
   "outputs": [
    {
     "data": {
      "text/plain": [
       "1.0"
      ]
     },
     "execution_count": 48,
     "metadata": {},
     "output_type": "execute_result"
    }
   ],
   "source": [
    "s1.set_property('P', 1, 'atm')\n",
    "s1.get_property('P', 'atm')"
   ]
  },
  {
   "cell_type": "code",
   "execution_count": 49,
   "metadata": {
    "tags": [
     "nbval-skip"
    ]
   },
   "outputs": [
    {
     "data": {
      "text/plain": [
       "256.99999999999994"
      ]
     },
     "execution_count": 49,
     "metadata": {},
     "output_type": "execute_result"
    }
   ],
   "source": [
    "s1.set_property('T', 125, 'degC')\n",
    "s1.get_property('T', 'degF')"
   ]
  },
  {
   "cell_type": "markdown",
   "metadata": {},
   "source": [
    "Enthalpy and entropy can also be set. In both cases, an energy balance is made to solve for temperature at isobaric conditions:"
   ]
  },
  {
   "cell_type": "code",
   "execution_count": 50,
   "metadata": {
    "tags": [
     "nbval-skip"
    ]
   },
   "outputs": [
    {
     "data": {
      "text/plain": [
       "184.9588719718261"
      ]
     },
     "execution_count": 50,
     "metadata": {},
     "output_type": "execute_result"
    }
   ],
   "source": [
    "s1.H = 1.05 * s1.H \n",
    "s1.get_property('T', 'degC') # Temperature should go up"
   ]
  },
  {
   "cell_type": "code",
   "execution_count": 51,
   "metadata": {
    "tags": [
     "nbval-skip"
    ]
   },
   "outputs": [
    {
     "data": {
      "text/plain": [
       "74.98140649417905"
      ]
     },
     "execution_count": 51,
     "metadata": {},
     "output_type": "execute_result"
    }
   ],
   "source": [
    "s1.S = 0.95 * s1.S\n",
    "s1.get_property('T', 'degC') # Temperature should go down"
   ]
  },
  {
   "cell_type": "markdown",
   "metadata": {},
   "source": [
    "## Thermal properties"
   ]
  },
  {
   "cell_type": "markdown",
   "metadata": {},
   "source": [
    "Thermodynamic properties are pressure, temperature and phase dependent. In the following examples, let's just use water as it is easier to check properties:"
   ]
  },
  {
   "cell_type": "code",
   "execution_count": 52,
   "metadata": {
    "tags": [
     "nbval-skip"
    ]
   },
   "outputs": [
    {
     "data": {
      "text/plain": [
       "997.0644792261086"
      ]
     },
     "execution_count": 52,
     "metadata": {},
     "output_type": "execute_result"
    }
   ],
   "source": [
    "s_water = tmo.Stream('s_water', Water=1, units='kg/hr')\n",
    "s_water.rho # Density [kg/m^3]"
   ]
  },
  {
   "cell_type": "code",
   "execution_count": 53,
   "metadata": {
    "tags": [
     "nbval-skip"
    ]
   },
   "outputs": [
    {
     "data": {
      "text/plain": [
       "973.7419512246709"
      ]
     },
     "execution_count": 53,
     "metadata": {},
     "output_type": "execute_result"
    }
   ],
   "source": [
    "s_water.T = 350\n",
    "s_water.rho # Density changes"
   ]
  },
  {
   "cell_type": "markdown",
   "metadata": {},
   "source": [
    "Get properties in different units:"
   ]
  },
  {
   "cell_type": "code",
   "execution_count": 54,
   "metadata": {
    "tags": [
     "nbval-skip"
    ]
   },
   "outputs": [
    {
     "data": {
      "text/plain": [
       "0.06324769600985489"
      ]
     },
     "execution_count": 54,
     "metadata": {},
     "output_type": "execute_result"
    }
   ],
   "source": [
    "s_water.get_property('sigma', 'N/m') # Surface tension"
   ]
  },
  {
   "cell_type": "code",
   "execution_count": 55,
   "metadata": {
    "tags": [
     "nbval-skip"
    ]
   },
   "outputs": [
    {
     "data": {
      "text/plain": [
       "0.01850108232200766"
      ]
     },
     "execution_count": 55,
     "metadata": {},
     "output_type": "execute_result"
    }
   ],
   "source": [
    "s_water.get_property('V', 'm3/kmol') # Molar volume"
   ]
  },
  {
   "cell_type": "markdown",
   "metadata": {},
   "source": [
    "## Flow properties"
   ]
  },
  {
   "cell_type": "markdown",
   "metadata": {},
   "source": [
    "Several flow properties are available, such as net material and energy flow rates:"
   ]
  },
  {
   "cell_type": "code",
   "execution_count": 56,
   "metadata": {
    "tags": [
     "nbval-skip"
    ]
   },
   "outputs": [
    {
     "data": {
      "text/plain": [
       "0.05550843506179199"
      ]
     },
     "execution_count": 56,
     "metadata": {},
     "output_type": "execute_result"
    }
   ],
   "source": [
    "# Net molar flow rate [kmol/hr]\n",
    "s_water.F_mol"
   ]
  },
  {
   "cell_type": "code",
   "execution_count": 57,
   "metadata": {
    "tags": [
     "nbval-skip"
    ]
   },
   "outputs": [
    {
     "data": {
      "text/plain": [
       "1.0"
      ]
     },
     "execution_count": 57,
     "metadata": {},
     "output_type": "execute_result"
    }
   ],
   "source": [
    "# Net mass flow rate [kg/hr]\n",
    "s_water.F_mass"
   ]
  },
  {
   "cell_type": "code",
   "execution_count": 58,
   "metadata": {
    "tags": [
     "nbval-skip"
    ]
   },
   "outputs": [
    {
     "data": {
      "text/plain": [
       "0.00102696612664403"
      ]
     },
     "execution_count": 58,
     "metadata": {},
     "output_type": "execute_result"
    }
   ],
   "source": [
    "# Net volumetric flow rate [m3/hr]\n",
    "s_water.F_vol"
   ]
  },
  {
   "cell_type": "code",
   "execution_count": 59,
   "metadata": {
    "tags": [
     "nbval-skip"
    ]
   },
   "outputs": [
    {
     "data": {
      "text/plain": [
       "216.91884940751328"
      ]
     },
     "execution_count": 59,
     "metadata": {},
     "output_type": "execute_result"
    }
   ],
   "source": [
    "# Enthalpy flow rate [kJ/hr]\n",
    "s_water.H"
   ]
  },
  {
   "cell_type": "code",
   "execution_count": 60,
   "metadata": {
    "tags": [
     "nbval-skip"
    ]
   },
   "outputs": [
    {
     "data": {
      "text/plain": [
       "4.556326412564778"
      ]
     },
     "execution_count": 60,
     "metadata": {},
     "output_type": "execute_result"
    }
   ],
   "source": [
    "# Entropy flow rate [kJ/hr]\n",
    "s_water.S"
   ]
  },
  {
   "cell_type": "code",
   "execution_count": 61,
   "metadata": {
    "tags": [
     "nbval-skip"
    ]
   },
   "outputs": [
    {
     "data": {
      "text/plain": [
       "4.194462916586701"
      ]
     },
     "execution_count": 61,
     "metadata": {},
     "output_type": "execute_result"
    }
   ],
   "source": [
    "# Capacity flow rate [J/K]\n",
    "s_water.C"
   ]
  },
  {
   "cell_type": "markdown",
   "metadata": {},
   "source": [
    "## Phase equilibrium"
   ]
  },
  {
   "cell_type": "markdown",
   "metadata": {},
   "source": [
    "When streams are created, by default, they do not perform phase equilibrium. To perform phase equilibrium assuming 2 liquid phases and 1 gas phase is possible, pass `vlle=True`:"
   ]
  },
  {
   "cell_type": "code",
   "execution_count": 62,
   "metadata": {},
   "outputs": [
    {
     "name": "stdout",
     "output_type": "stream",
     "text": [
      "Stream: s\n",
      "phase: 'g', T: 400 K, P: 101325 Pa\n",
      "flow (kmol/hr): Water    1\n",
      "                Ethanol  1\n"
     ]
    }
   ],
   "source": [
    "s = tmo.Stream('s', Water=1, Ethanol=1, T=400, P=101325,\n",
    "               phase='l', # Guess phase\n",
    "               vlle=True)\n",
    "s.show() # Notice how stream is a gas (not a liquid)"
   ]
  },
  {
   "cell_type": "markdown",
   "metadata": {},
   "source": [
    "Performing VLLE is quite slow and it is not recommended to perform VLLE calculations unless 3 phases can exist. When possible, perform phase equilibrium assuming 2 phases instead. Before moving into vapor-liquid and liquid-liquid equilibrium calculations, it may be useful to have a look at the phase envelopes to understand chemical interactions and ultimately how they partition between phases."
   ]
  },
  {
   "cell_type": "markdown",
   "metadata": {},
   "source": [
    "Plot the binary phase evelope of two chemicals in vapor-liquid equilibrium at constant pressure:"
   ]
  },
  {
   "cell_type": "code",
   "execution_count": 63,
   "metadata": {
    "tags": [
     "nbval-skip"
    ]
   },
   "outputs": [
    {
     "data": {
      "image/png": "[encoded data removed]",
      "text/plain": [
       "<Figure size 640x480 with 3 Axes>"
      ]
     },
     "metadata": {},
     "output_type": "display_data"
    }
   ],
   "source": [
    "import matplotlib.pyplot as plt\n",
    "eq = tmo.equilibrium # Thermosteam's equilibrium module\n",
    "eq.plot_vle_binary_phase_envelope(['Ethanol', 'Water'], P=101325)\n",
    "plt.show()"
   ]
  },
  {
   "cell_type": "markdown",
   "metadata": {},
   "source": [
    "Plot the ternary phase diagram of three chemicals in liquid-liquid equilibrium at constant pressure:"
   ]
  },
  {
   "cell_type": "code",
   "execution_count": 64,
   "metadata": {
    "tags": [
     "nbval-skip"
    ]
   },
   "outputs": [
    {
     "data": {
      "image/png": "[encoded data removed]",
      "text/plain": [
       "<Figure size 640x480 with 1 Axes>"
      ]
     },
     "metadata": {},
     "output_type": "display_data"
    }
   ],
   "source": [
    "# You'll need to \"pip install python-ternary\" to run this line\n",
    "eq.plot_lle_ternary_diagram('Water', 'Ethanol', 'EthylAcetate', T=298.15)\n",
    "plt.show()"
   ]
  },
  {
   "cell_type": "markdown",
   "metadata": {},
   "source": [
    "## Vapor-liquid equilibrium"
   ]
  },
  {
   "cell_type": "markdown",
   "metadata": {},
   "source": [
    "Vapor-liquid equilibrium can be performed by setting 2 degrees of freedom from the following list: `T` (Temperature; in K), `P` (Pressure; in Pa), `V` (Vapor fraction), `H` (Enthalpy; in kJ/hr), and `S` (Entropy; in kJ/K/hr).\n",
    "\n",
    "For example, set vapor fraction and pressure:"
   ]
  },
  {
   "cell_type": "code",
   "execution_count": 65,
   "metadata": {},
   "outputs": [
    {
     "name": "stdout",
     "output_type": "stream",
     "text": [
      "MultiStream: s_eq\n",
      "phases: ('g', 'l'), T: 353.94 K, P: 101325 Pa\n",
      "composition (%): (g) Water    38.7\n",
      "                     Ethanol  61.3\n",
      "                     -------  10 kmol/hr\n",
      "                 (l) Water    61.3\n",
      "                     Ethanol  38.7\n",
      "                     -------  10 kmol/hr\n"
     ]
    }
   ],
   "source": [
    "s_eq = tmo.Stream('s_eq', Water=10, Ethanol=10)\n",
    "s_eq.vle(V=0.5, P=101325)\n",
    "s_eq.show(composition=True)"
   ]
  },
  {
   "cell_type": "markdown",
   "metadata": {},
   "source": [
    "Note that the stream is now a MultiStream to manage multiple phases. Each phase can be accessed separately too:"
   ]
  },
  {
   "cell_type": "code",
   "execution_count": 66,
   "metadata": {},
   "outputs": [
    {
     "name": "stdout",
     "output_type": "stream",
     "text": [
      "Stream: \n",
      "phase: 'l', T: 353.94 K, P: 101325 Pa\n",
      "flow (kmol/hr): Water    6.13\n",
      "                Ethanol  3.87\n"
     ]
    }
   ],
   "source": [
    "s_eq['l'].show()"
   ]
  },
  {
   "cell_type": "code",
   "execution_count": 67,
   "metadata": {},
   "outputs": [
    {
     "name": "stdout",
     "output_type": "stream",
     "text": [
      "Stream: \n",
      "phase: 'g', T: 353.94 K, P: 101325 Pa\n",
      "flow (kmol/hr): Water    3.87\n",
      "                Ethanol  6.13\n"
     ]
    }
   ],
   "source": [
    "s_eq['g'].show()"
   ]
  },
  {
   "cell_type": "markdown",
   "metadata": {},
   "source": [
    "Note that the phase of these substreams cannot be changed:"
   ]
  },
  {
   "cell_type": "code",
   "execution_count": 68,
   "metadata": {
    "tags": [
     "nbval-raises-exception"
    ]
   },
   "outputs": [
    {
     "ename": "AttributeError",
     "evalue": "phase is locked",
     "output_type": "error",
     "traceback": [
      "\u001b[1;31m---------------------------------------------------------------------------\u001b[0m",
      "\u001b[1;31mAttributeError\u001b[0m                            Traceback (most recent call last)",
      "Cell \u001b[1;32mIn[68], line 1\u001b[0m\n\u001b[1;32m----> 1\u001b[0m s_eq[\u001b[38;5;124m'\u001b[39m\u001b[38;5;124mg\u001b[39m\u001b[38;5;124m'\u001b[39m]\u001b[38;5;241m.\u001b[39mphase \u001b[38;5;241m=\u001b[39m \u001b[38;5;124m'\u001b[39m\u001b[38;5;124ml\u001b[39m\u001b[38;5;124m'\u001b[39m\n",
      "File \u001b[1;32m~\\code\\biosteam\\thermosteam\\thermosteam\\_stream.py:1027\u001b[0m, in \u001b[0;36mStream.phase\u001b[1;34m(self, phase)\u001b[0m\n\u001b[0;32m   1025\u001b[0m \u001b[38;5;129m@phase\u001b[39m\u001b[38;5;241m.\u001b[39msetter\n\u001b[0;32m   1026\u001b[0m \u001b[38;5;28;01mdef\u001b[39;00m\u001b[38;5;250m \u001b[39m\u001b[38;5;21mphase\u001b[39m(\u001b[38;5;28mself\u001b[39m, phase):\n\u001b[1;32m-> 1027\u001b[0m     \u001b[38;5;28mself\u001b[39m\u001b[38;5;241m.\u001b[39m_imol\u001b[38;5;241m.\u001b[39mphase \u001b[38;5;241m=\u001b[39m phase\n",
      "File \u001b[1;32m~\\code\\biosteam\\thermosteam\\thermosteam\\indexer.py:674\u001b[0m, in \u001b[0;36mChemicalIndexer.phase\u001b[1;34m(self, phase)\u001b[0m\n\u001b[0;32m    672\u001b[0m     \u001b[38;5;28mself\u001b[39m\u001b[38;5;241m.\u001b[39m_phase \u001b[38;5;241m=\u001b[39m phase\n\u001b[0;32m    673\u001b[0m \u001b[38;5;28;01melif\u001b[39;00m \u001b[38;5;28mself\u001b[39m\u001b[38;5;241m.\u001b[39m_lock_phase: \n\u001b[1;32m--> 674\u001b[0m     \u001b[38;5;28;01mraise\u001b[39;00m \u001b[38;5;167;01mAttributeError\u001b[39;00m(\u001b[38;5;124m'\u001b[39m\u001b[38;5;124mphase is locked\u001b[39m\u001b[38;5;124m'\u001b[39m)\n\u001b[0;32m    675\u001b[0m \u001b[38;5;28;01melse\u001b[39;00m:\n\u001b[0;32m    676\u001b[0m     old_data \u001b[38;5;241m=\u001b[39m \u001b[38;5;28mself\u001b[39m\u001b[38;5;241m.\u001b[39mdata\n",
      "\u001b[1;31mAttributeError\u001b[0m: phase is locked"
     ]
    }
   ],
   "source": [
    "s_eq['g'].phase = 'l'"
   ]
  },
  {
   "cell_type": "markdown",
   "metadata": {},
   "source": [
    "Again, the most convenient way to get and set flow rates is through the `get_flow` and `set_flow` methods:"
   ]
  },
  {
   "cell_type": "code",
   "execution_count": 69,
   "metadata": {
    "tags": [
     "nbval-skip"
    ]
   },
   "outputs": [
    {
     "data": {
      "text/plain": [
       "1.0"
      ]
     },
     "execution_count": 69,
     "metadata": {},
     "output_type": "execute_result"
    }
   ],
   "source": [
    "# Set flow of liquid water\n",
    "s_eq.set_flow(1, 'gpm', ('l', 'Water'))\n",
    "s_eq.get_flow('gpm', ('l', 'Water'))"
   ]
  },
  {
   "cell_type": "code",
   "execution_count": 70,
   "metadata": {},
   "outputs": [
    {
     "data": {
      "text/plain": [
       "array([10., 20.])"
      ]
     },
     "execution_count": 70,
     "metadata": {},
     "output_type": "execute_result"
    }
   ],
   "source": [
    "# Set multiple liquid flows\n",
    "key = ('l', ('Ethanol', 'Water'))\n",
    "s_eq.set_flow([10, 20], 'kg/hr', key)\n",
    "s_eq.get_flow('kg/hr', key)"
   ]
  },
  {
   "cell_type": "markdown",
   "metadata": {},
   "source": [
    "Chemical flows across all phases can be retrieved if no phase is given:"
   ]
  },
  {
   "cell_type": "code",
   "execution_count": 71,
   "metadata": {},
   "outputs": [
    {
     "data": {
      "text/plain": [
       "array([ 89.791, 292.216])"
      ]
     },
     "execution_count": 71,
     "metadata": {},
     "output_type": "execute_result"
    }
   ],
   "source": [
    "# Get water and ethanol flows summed across all phases\n",
    "s_eq.get_flow('kg/hr', ('Water', 'Ethanol'))"
   ]
  },
  {
   "cell_type": "markdown",
   "metadata": {},
   "source": [
    "However, setting chemical data of MultiStream objects requires the phase to be specified:"
   ]
  },
  {
   "cell_type": "code",
   "execution_count": 72,
   "metadata": {
    "tags": [
     "nbval-raises-exception"
    ]
   },
   "outputs": [
    {
     "ename": "IndexError",
     "evalue": "multiple phases present; must include phase key to set chemical data",
     "output_type": "error",
     "traceback": [
      "\u001b[1;31m---------------------------------------------------------------------------\u001b[0m",
      "\u001b[1;31mIndexError\u001b[0m                                Traceback (most recent call last)",
      "Cell \u001b[1;32mIn[72], line 1\u001b[0m\n\u001b[1;32m----> 1\u001b[0m s_eq\u001b[38;5;241m.\u001b[39mset_flow([\u001b[38;5;241m10\u001b[39m, \u001b[38;5;241m20\u001b[39m], \u001b[38;5;124m'\u001b[39m\u001b[38;5;124mkg/hr\u001b[39m\u001b[38;5;124m'\u001b[39m, (\u001b[38;5;124m'\u001b[39m\u001b[38;5;124mWater\u001b[39m\u001b[38;5;124m'\u001b[39m, \u001b[38;5;124m'\u001b[39m\u001b[38;5;124mEthanol\u001b[39m\u001b[38;5;124m'\u001b[39m))\n",
      "File \u001b[1;32m~\\code\\biosteam\\thermosteam\\thermosteam\\_multi_stream.py:458\u001b[0m, in \u001b[0;36mMultiStream.set_flow\u001b[1;34m(self, data, units, key)\u001b[0m\n\u001b[0;32m    456\u001b[0m name, factor \u001b[38;5;241m=\u001b[39m \u001b[38;5;28mself\u001b[39m\u001b[38;5;241m.\u001b[39m_get_flow_name_and_factor(units)\n\u001b[0;32m    457\u001b[0m indexer \u001b[38;5;241m=\u001b[39m \u001b[38;5;28mgetattr\u001b[39m(\u001b[38;5;28mself\u001b[39m, \u001b[38;5;124m'\u001b[39m\u001b[38;5;124mi\u001b[39m\u001b[38;5;124m'\u001b[39m \u001b[38;5;241m+\u001b[39m name)\n\u001b[1;32m--> 458\u001b[0m indexer[key] \u001b[38;5;241m=\u001b[39m np\u001b[38;5;241m.\u001b[39masarray(data, dtype\u001b[38;5;241m=\u001b[39m\u001b[38;5;28mfloat\u001b[39m) \u001b[38;5;241m/\u001b[39m factor\n",
      "File \u001b[1;32m~\\code\\biosteam\\thermosteam\\thermosteam\\indexer.py:1104\u001b[0m, in \u001b[0;36mMaterialIndexer.__setitem__\u001b[1;34m(self, key, data)\u001b[0m\n\u001b[0;32m   1102\u001b[0m index, kind, sum_across_phases \u001b[38;5;241m=\u001b[39m \u001b[38;5;28mself\u001b[39m\u001b[38;5;241m.\u001b[39m_get_index_data(key)\n\u001b[0;32m   1103\u001b[0m \u001b[38;5;28;01mif\u001b[39;00m sum_across_phases:\n\u001b[1;32m-> 1104\u001b[0m     \u001b[38;5;28;01mraise\u001b[39;00m \u001b[38;5;167;01mIndexError\u001b[39;00m(\u001b[38;5;124m\"\u001b[39m\u001b[38;5;124mmultiple phases present; must include phase key \u001b[39m\u001b[38;5;124m\"\u001b[39m\n\u001b[0;32m   1105\u001b[0m                      \u001b[38;5;124m\"\u001b[39m\u001b[38;5;124mto set chemical data\u001b[39m\u001b[38;5;124m\"\u001b[39m)\n\u001b[0;32m   1106\u001b[0m \u001b[38;5;28;01mif\u001b[39;00m kind \u001b[38;5;129;01mis\u001b[39;00m \u001b[38;5;28;01mNone\u001b[39;00m:\n\u001b[0;32m   1107\u001b[0m     \u001b[38;5;28;01mif\u001b[39;00m index \u001b[38;5;129;01mis\u001b[39;00m \u001b[38;5;28;01mNone\u001b[39;00m:\n",
      "\u001b[1;31mIndexError\u001b[0m: multiple phases present; must include phase key to set chemical data"
     ]
    }
   ],
   "source": [
    "s_eq.set_flow([10, 20], 'kg/hr', ('Water', 'Ethanol'))"
   ]
  },
  {
   "cell_type": "markdown",
   "metadata": {},
   "source": [
    "Similar to Stream objects, all flow rates can be accessed through the `imol`, `imass`, and `ivol` attributes:"
   ]
  },
  {
   "cell_type": "code",
   "execution_count": 73,
   "metadata": {},
   "outputs": [
    {
     "name": "stdout",
     "output_type": "stream",
     "text": [
      "MolarFlowIndexer (kmol/hr):\n",
      "(g) Water     3.87\n",
      "    Ethanol   6.13\n",
      "(l) Water     1.11\n",
      "    Ethanol   0.217\n"
     ]
    }
   ],
   "source": [
    "s_eq.imol # Molar flow rates"
   ]
  },
  {
   "cell_type": "code",
   "execution_count": 74,
   "metadata": {},
   "outputs": [
    {
     "data": {
      "text/plain": [
       "1.1101687012358397"
      ]
     },
     "execution_count": 74,
     "metadata": {},
     "output_type": "execute_result"
    }
   ],
   "source": [
    "# Index a single chemical in the liquid phase\n",
    "s_eq.imol['l', 'Water']"
   ]
  },
  {
   "cell_type": "code",
   "execution_count": 75,
   "metadata": {},
   "outputs": [
    {
     "data": {
      "text/plain": [
       "array([0.217, 1.11 ])"
      ]
     },
     "execution_count": 75,
     "metadata": {},
     "output_type": "execute_result"
    }
   ],
   "source": [
    "# Index multiple chemicals in the liquid phase\n",
    "s_eq.imol['l', ('Ethanol', 'Water')]"
   ]
  },
  {
   "cell_type": "code",
   "execution_count": 76,
   "metadata": {},
   "outputs": [
    {
     "data": {
      "text/plain": [
       "sparse([3.874, 6.126, 0.   ])"
      ]
     },
     "execution_count": 76,
     "metadata": {},
     "output_type": "execute_result"
    }
   ],
   "source": [
    "# Index the vapor phase\n",
    "s_eq.imol['g']"
   ]
  },
  {
   "cell_type": "code",
   "execution_count": 77,
   "metadata": {},
   "outputs": [
    {
     "data": {
      "text/plain": [
       "array([6.343, 4.984])"
      ]
     },
     "execution_count": 77,
     "metadata": {},
     "output_type": "execute_result"
    }
   ],
   "source": [
    "# Index flow of chemicals summed across all phases\n",
    "s_eq.imol['Ethanol', 'Water']"
   ]
  },
  {
   "cell_type": "markdown",
   "metadata": {},
   "source": [
    "Because multiple phases are present, overall chemical flows in MultiStream objects cannot be set like in Stream objects:"
   ]
  },
  {
   "cell_type": "code",
   "execution_count": 78,
   "metadata": {
    "tags": [
     "nbval-raises-exception"
    ]
   },
   "outputs": [
    {
     "ename": "IndexError",
     "evalue": "multiple phases present; must include phase key to set chemical data",
     "output_type": "error",
     "traceback": [
      "\u001b[1;31m---------------------------------------------------------------------------\u001b[0m",
      "\u001b[1;31mIndexError\u001b[0m                                Traceback (most recent call last)",
      "Cell \u001b[1;32mIn[78], line 1\u001b[0m\n\u001b[1;32m----> 1\u001b[0m s_eq\u001b[38;5;241m.\u001b[39mimol[\u001b[38;5;124m'\u001b[39m\u001b[38;5;124mEthanol\u001b[39m\u001b[38;5;124m'\u001b[39m, \u001b[38;5;124m'\u001b[39m\u001b[38;5;124mWater\u001b[39m\u001b[38;5;124m'\u001b[39m] \u001b[38;5;241m=\u001b[39m [\u001b[38;5;241m1\u001b[39m, \u001b[38;5;241m0\u001b[39m]\n",
      "File \u001b[1;32m~\\code\\biosteam\\thermosteam\\thermosteam\\indexer.py:1104\u001b[0m, in \u001b[0;36mMaterialIndexer.__setitem__\u001b[1;34m(self, key, data)\u001b[0m\n\u001b[0;32m   1102\u001b[0m index, kind, sum_across_phases \u001b[38;5;241m=\u001b[39m \u001b[38;5;28mself\u001b[39m\u001b[38;5;241m.\u001b[39m_get_index_data(key)\n\u001b[0;32m   1103\u001b[0m \u001b[38;5;28;01mif\u001b[39;00m sum_across_phases:\n\u001b[1;32m-> 1104\u001b[0m     \u001b[38;5;28;01mraise\u001b[39;00m \u001b[38;5;167;01mIndexError\u001b[39;00m(\u001b[38;5;124m\"\u001b[39m\u001b[38;5;124mmultiple phases present; must include phase key \u001b[39m\u001b[38;5;124m\"\u001b[39m\n\u001b[0;32m   1105\u001b[0m                      \u001b[38;5;124m\"\u001b[39m\u001b[38;5;124mto set chemical data\u001b[39m\u001b[38;5;124m\"\u001b[39m)\n\u001b[0;32m   1106\u001b[0m \u001b[38;5;28;01mif\u001b[39;00m kind \u001b[38;5;129;01mis\u001b[39;00m \u001b[38;5;28;01mNone\u001b[39;00m:\n\u001b[0;32m   1107\u001b[0m     \u001b[38;5;28;01mif\u001b[39;00m index \u001b[38;5;129;01mis\u001b[39;00m \u001b[38;5;28;01mNone\u001b[39;00m:\n",
      "\u001b[1;31mIndexError\u001b[0m: multiple phases present; must include phase key to set chemical data"
     ]
    }
   ],
   "source": [
    "s_eq.imol['Ethanol', 'Water'] = [1, 0]"
   ]
  },
  {
   "cell_type": "markdown",
   "metadata": {},
   "source": [
    "Chemical flows must be set by phase:"
   ]
  },
  {
   "cell_type": "code",
   "execution_count": 79,
   "metadata": {},
   "outputs": [],
   "source": [
    "s_eq.imol['l', ('Ethanol', 'Water')] = [1, 0]"
   ]
  },
  {
   "cell_type": "markdown",
   "metadata": {},
   "source": [
    "One main difference between a [MultiStream](../API/thermosteam/MultiStream.txt) object and a [Stream](../API/thermosteam/Stream.txt) object is that the `mol` attribute no longer stores any data, it simply returns the total flow rate of each chemical. Setting an element of the array raises an error to prevent the wrong assumption that the data is linked:"
   ]
  },
  {
   "cell_type": "code",
   "execution_count": 80,
   "metadata": {},
   "outputs": [
    {
     "data": {
      "text/plain": [
       "sparse([3.874, 7.126, 0.   ])"
      ]
     },
     "execution_count": 80,
     "metadata": {},
     "output_type": "execute_result"
    }
   ],
   "source": [
    "s_eq.mol"
   ]
  },
  {
   "cell_type": "code",
   "execution_count": 81,
   "metadata": {
    "tags": [
     "nbval-raises-exception"
    ]
   },
   "outputs": [
    {
     "ename": "ValueError",
     "evalue": "assignment destination is read-only",
     "output_type": "error",
     "traceback": [
      "\u001b[1;31m---------------------------------------------------------------------------\u001b[0m",
      "\u001b[1;31mValueError\u001b[0m                                Traceback (most recent call last)",
      "Cell \u001b[1;32mIn[81], line 1\u001b[0m\n\u001b[1;32m----> 1\u001b[0m s_eq\u001b[38;5;241m.\u001b[39mmol[\u001b[38;5;241m0\u001b[39m] \u001b[38;5;241m=\u001b[39m \u001b[38;5;241m1\u001b[39m\n",
      "File \u001b[1;32m~\\code\\biosteam\\thermosteam\\thermosteam\\base\\sparse.py:1647\u001b[0m, in \u001b[0;36mSparseVector.__setitem__\u001b[1;34m(self, index, value)\u001b[0m\n\u001b[0;32m   1646\u001b[0m \u001b[38;5;28;01mdef\u001b[39;00m\u001b[38;5;250m \u001b[39m\u001b[38;5;21m__setitem__\u001b[39m(\u001b[38;5;28mself\u001b[39m, index, value):\n\u001b[1;32m-> 1647\u001b[0m     \u001b[38;5;28;01mif\u001b[39;00m \u001b[38;5;28mself\u001b[39m\u001b[38;5;241m.\u001b[39mread_only: \u001b[38;5;28;01mraise\u001b[39;00m \u001b[38;5;167;01mValueError\u001b[39;00m(\u001b[38;5;124m'\u001b[39m\u001b[38;5;124massignment destination is read-only\u001b[39m\u001b[38;5;124m'\u001b[39m)\n\u001b[0;32m   1648\u001b[0m     dct \u001b[38;5;241m=\u001b[39m \u001b[38;5;28mself\u001b[39m\u001b[38;5;241m.\u001b[39mdct\n\u001b[0;32m   1649\u001b[0m     \u001b[38;5;28;01mif\u001b[39;00m index\u001b[38;5;241m.\u001b[39m\u001b[38;5;18m__class__\u001b[39m \u001b[38;5;129;01mis\u001b[39;00m \u001b[38;5;28mtuple\u001b[39m:\n",
      "\u001b[1;31mValueError\u001b[0m: assignment destination is read-only"
     ]
    }
   ],
   "source": [
    "s_eq.mol[0] = 1"
   ]
  },
  {
   "cell_type": "markdown",
   "metadata": {},
   "source": [
    "Note that for both Stream and MultiStream objects, `get_flow`, `imol`, and `mol` return chemical flows across all phases when given only chemical IDs."
   ]
  },
  {
   "cell_type": "markdown",
   "metadata": {},
   "source": [
    "## Liquid-liquid equilibrium"
   ]
  },
  {
   "cell_type": "markdown",
   "metadata": {},
   "source": [
    "Liquid-liquid equilibrium (LLE) only requires the temperature. Pressure is not a significant variable as liquid fungacity coefficients are not a strong function of pressure. "
   ]
  },
  {
   "cell_type": "code",
   "execution_count": 82,
   "metadata": {
    "tags": [
     "nbval-skip"
    ]
   },
   "outputs": [
    {
     "name": "stdout",
     "output_type": "stream",
     "text": [
      "MultiStream: liquid_mixture\n",
      "phases: ('L', 'l'), T: 300 K, P: 101325 Pa\n",
      "flow (kmol/hr): (L) Water    98.5\n",
      "                    Butanol  1.21\n",
      "                    Octane   0.00198\n",
      "                (l) Water    1.46\n",
      "                    Butanol  3.79\n",
      "                    Octane   100\n"
     ]
    }
   ],
   "source": [
    "tmo.settings.set_thermo(['Water', 'Butanol', 'Octane'])\n",
    "liquid_mixture = tmo.Stream('liquid_mixture', Water=100, Octane=100, Butanol=5)\n",
    "liquid_mixture.lle(T=300)\n",
    "liquid_mixture.show()"
   ]
  }
 ],
 "metadata": {
  "celltoolbar": "Tags",
  "kernelspec": {
   "display_name": "Python 3 (ipykernel)",
   "language": "python",
   "name": "python3"
  },
  "language_info": {
   "codemirror_mode": {
    "name": "ipython",
    "version": 3
   },
   "file_extension": ".py",
   "mimetype": "text/x-python",
   "name": "python",
   "nbconvert_exporter": "python",
   "pygments_lexer": "ipython3",
   "version": "3.12.3"
  }
 },
 "nbformat": 4,
 "nbformat_minor": 4
}
